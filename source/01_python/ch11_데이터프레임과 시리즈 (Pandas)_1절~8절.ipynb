{
 "cells": [
  {
   "cell_type": "code",
   "execution_count": 6,
   "id": "32215fc2",
   "metadata": {},
   "outputs": [
    {
     "data": {
      "text/html": [
       "\n",
       "<style>\n",
       "div.container{width:86% !important;}\n",
       "div.cell.code_cell.rendered{width:100%;}\n",
       "div.CodeMirror {font-family:Consolas; font-size:15pt;}\n",
       "div.output {font-size:15pt; font-weight:bold;}\n",
       "div.input {font-family:Consolas; font-size:15pt;}\n",
       "div.prompt {min-width:70px;}\n",
       "div#toc-wrapper{padding-top:120px;}\n",
       "div.text_cell_render ul li{font-size:12pt;padding:5px;}\n",
       "table.dataframe{font-size:15px;}\n",
       "</style>\n"
      ],
      "text/plain": [
       "<IPython.core.display.HTML object>"
      ]
     },
     "metadata": {},
     "output_type": "display_data"
    }
   ],
   "source": [
    "from IPython.display import display, HTML \n",
    "display(HTML(\"\"\"\n",
    "<style>\n",
    "div.container{width:86% !important;}\n",
    "div.cell.code_cell.rendered{width:100%;}\n",
    "div.CodeMirror {font-family:Consolas; font-size:15pt;}\n",
    "div.output {font-size:15pt; font-weight:bold;}\n",
    "div.input {font-family:Consolas; font-size:15pt;}\n",
    "div.prompt {min-width:70px;}\n",
    "div#toc-wrapper{padding-top:120px;}\n",
    "div.text_cell_render ul li{font-size:12pt;padding:5px;}\n",
    "table.dataframe{font-size:15px;}\n",
    "</style>\n",
    "\"\"\"))"
   ]
  },
  {
   "cell_type": "markdown",
   "id": "58a76828",
   "metadata": {},
   "source": [
    "<b><font size=\"5\" color=\"red\">ch11. 데이터프레임(Pandas) </font><b>\n",
    "    \n",
    "- pip install pandas / conda install pandas (아나콘다 프롬프트)\n",
    "# 1절. 판다스 패키지\n",
    "- 데이터 분석을 위해 반드시 알아야 할 패키지. 넘파이 기반으로 다른 많은 라이브러리와 잘 통합되도록 설계\n",
    "- 1차원 구조를 갖는 시리즈, 2차원 구조를 갖는 데이터프레임(excel의 스프레드시트)을 제공\n",
    "- 판다스 장점 : 파일io, 부분 데이터 추출, 크기변경, 데이터 분할, 병합, 정렬, 결측치 처리, 피벗과 업피벗(와이드포맷과 롱포맷)에 용이\n",
    "- [Pandas API Reference](https://pandas.pydata.org/docs/reference/index.html)\n",
    "- [Pandas docs](https://pandas.pydata.org/docs/index.html)"
   ]
  },
  {
   "cell_type": "code",
   "execution_count": 7,
   "id": "9f862e4a",
   "metadata": {},
   "outputs": [
    {
     "data": {
      "text/plain": [
       "'1.5.3'"
      ]
     },
     "execution_count": 7,
     "metadata": {},
     "output_type": "execute_result"
    }
   ],
   "source": [
    "import pandas as pd\n",
    "pd.__version__"
   ]
  },
  {
   "cell_type": "code",
   "execution_count": 8,
   "id": "9e6cbcf9",
   "metadata": {},
   "outputs": [
    {
     "data": {
      "text/html": [
       "<div>\n",
       "<style scoped>\n",
       "    .dataframe tbody tr th:only-of-type {\n",
       "        vertical-align: middle;\n",
       "    }\n",
       "\n",
       "    .dataframe tbody tr th {\n",
       "        vertical-align: top;\n",
       "    }\n",
       "\n",
       "    .dataframe thead th {\n",
       "        text-align: right;\n",
       "    }\n",
       "</style>\n",
       "<table border=\"1\" class=\"dataframe\">\n",
       "  <thead>\n",
       "    <tr style=\"text-align: right;\">\n",
       "      <th></th>\n",
       "      <th>name</th>\n",
       "      <th>age</th>\n",
       "      <th>email</th>\n",
       "      <th>address</th>\n",
       "    </tr>\n",
       "  </thead>\n",
       "  <tbody>\n",
       "    <tr>\n",
       "      <th>0</th>\n",
       "      <td>홍길동</td>\n",
       "      <td>22</td>\n",
       "      <td>a@a.com</td>\n",
       "      <td>신림동</td>\n",
       "    </tr>\n",
       "    <tr>\n",
       "      <th>1</th>\n",
       "      <td>신길동</td>\n",
       "      <td>30</td>\n",
       "      <td>b@a.com</td>\n",
       "      <td>신림동</td>\n",
       "    </tr>\n",
       "    <tr>\n",
       "      <th>2</th>\n",
       "      <td>김길동</td>\n",
       "      <td>42</td>\n",
       "      <td>c@a.com</td>\n",
       "      <td>신림동</td>\n",
       "    </tr>\n",
       "    <tr>\n",
       "      <th>3</th>\n",
       "      <td>홍길동</td>\n",
       "      <td>22</td>\n",
       "      <td>a@a.com</td>\n",
       "      <td>신림동</td>\n",
       "    </tr>\n",
       "    <tr>\n",
       "      <th>4</th>\n",
       "      <td>신길동</td>\n",
       "      <td>30</td>\n",
       "      <td>b@a.com</td>\n",
       "      <td>신림동</td>\n",
       "    </tr>\n",
       "    <tr>\n",
       "      <th>5</th>\n",
       "      <td>김길동</td>\n",
       "      <td>42</td>\n",
       "      <td>c@a.com</td>\n",
       "      <td>신림동</td>\n",
       "    </tr>\n",
       "  </tbody>\n",
       "</table>\n",
       "</div>"
      ],
      "text/plain": [
       "  name  age    email address\n",
       "0  홍길동   22  a@a.com     신림동\n",
       "1  신길동   30  b@a.com     신림동\n",
       "2  김길동   42  c@a.com     신림동\n",
       "3  홍길동   22  a@a.com     신림동\n",
       "4  신길동   30  b@a.com     신림동\n",
       "5  김길동   42  c@a.com     신림동"
      ]
     },
     "metadata": {},
     "output_type": "display_data"
    },
    {
     "data": {
      "text/plain": [
       "pandas.core.frame.DataFrame"
      ]
     },
     "execution_count": 8,
     "metadata": {},
     "output_type": "execute_result"
    }
   ],
   "source": [
    "data = pd.read_csv('data/ch09_member4.csv') # encoding='utf-8'이 기본값\n",
    "display(data)\n",
    "type(data)"
   ]
  },
  {
   "cell_type": "code",
   "execution_count": 9,
   "id": "fe7d43d4",
   "metadata": {},
   "outputs": [
    {
     "data": {
      "text/html": [
       "<div>\n",
       "<style scoped>\n",
       "    .dataframe tbody tr th:only-of-type {\n",
       "        vertical-align: middle;\n",
       "    }\n",
       "\n",
       "    .dataframe tbody tr th {\n",
       "        vertical-align: top;\n",
       "    }\n",
       "\n",
       "    .dataframe thead th {\n",
       "        text-align: right;\n",
       "    }\n",
       "</style>\n",
       "<table border=\"1\" class=\"dataframe\">\n",
       "  <thead>\n",
       "    <tr style=\"text-align: right;\">\n",
       "      <th></th>\n",
       "      <th>name</th>\n",
       "      <th>age</th>\n",
       "      <th>email</th>\n",
       "      <th>address</th>\n",
       "    </tr>\n",
       "  </thead>\n",
       "  <tbody>\n",
       "    <tr>\n",
       "      <th>0</th>\n",
       "      <td>홍길동</td>\n",
       "      <td>20</td>\n",
       "      <td>kildong@hong.com</td>\n",
       "      <td>서울시 관악구</td>\n",
       "    </tr>\n",
       "    <tr>\n",
       "      <th>1</th>\n",
       "      <td>김길동</td>\n",
       "      <td>40</td>\n",
       "      <td>kimdong@hong.com</td>\n",
       "      <td>서울시 영등포구</td>\n",
       "    </tr>\n",
       "  </tbody>\n",
       "</table>\n",
       "</div>"
      ],
      "text/plain": [
       "  name  age             email   address\n",
       "0  홍길동   20  kildong@hong.com   서울시 관악구\n",
       "1  김길동   40  kimdong@hong.com  서울시 영등포구"
      ]
     },
     "execution_count": 9,
     "metadata": {},
     "output_type": "execute_result"
    }
   ],
   "source": [
    "data = pd.read_csv('data/ch09_member1.csv', \n",
    "                    header=None,\n",
    "                    names=['name','age','email','address'])\n",
    "data.head(2) # 최초 상위 2줄"
   ]
  },
  {
   "cell_type": "code",
   "execution_count": 10,
   "id": "5636a589",
   "metadata": {},
   "outputs": [
    {
     "data": {
      "text/html": [
       "<div>\n",
       "<style scoped>\n",
       "    .dataframe tbody tr th:only-of-type {\n",
       "        vertical-align: middle;\n",
       "    }\n",
       "\n",
       "    .dataframe tbody tr th {\n",
       "        vertical-align: top;\n",
       "    }\n",
       "\n",
       "    .dataframe thead th {\n",
       "        text-align: right;\n",
       "    }\n",
       "</style>\n",
       "<table border=\"1\" class=\"dataframe\">\n",
       "  <thead>\n",
       "    <tr style=\"text-align: right;\">\n",
       "      <th></th>\n",
       "      <th>Name</th>\n",
       "      <th>Age</th>\n",
       "      <th>Email</th>\n",
       "      <th>Address</th>\n",
       "      <th>Job</th>\n",
       "    </tr>\n",
       "  </thead>\n",
       "  <tbody>\n",
       "    <tr>\n",
       "      <th>0</th>\n",
       "      <td>홍길동</td>\n",
       "      <td>20</td>\n",
       "      <td>kildong@hong.com</td>\n",
       "      <td>서울</td>\n",
       "      <td></td>\n",
       "    </tr>\n",
       "    <tr>\n",
       "      <th>1</th>\n",
       "      <td>김길동</td>\n",
       "      <td>40</td>\n",
       "      <td>kimdong@hong.com</td>\n",
       "      <td>인천</td>\n",
       "      <td>팀장</td>\n",
       "    </tr>\n",
       "    <tr>\n",
       "      <th>2</th>\n",
       "      <td>신길동</td>\n",
       "      <td>30</td>\n",
       "      <td>sindong@hong.com</td>\n",
       "      <td>경기</td>\n",
       "      <td></td>\n",
       "    </tr>\n",
       "  </tbody>\n",
       "</table>\n",
       "</div>"
      ],
      "text/plain": [
       "  Name  Age             Email Address Job\n",
       "0  홍길동   20  kildong@hong.com      서울    \n",
       "1  김길동   40  kimdong@hong.com      인천  팀장\n",
       "2  신길동   30  sindong@hong.com      경기    "
      ]
     },
     "execution_count": 10,
     "metadata": {},
     "output_type": "execute_result"
    }
   ],
   "source": [
    "data = pd.read_json('data/ch09_member.json') #기본값이 utf-8\n",
    "data"
   ]
  },
  {
   "cell_type": "code",
   "execution_count": 11,
   "id": "f0d5ebeb",
   "metadata": {},
   "outputs": [
    {
     "data": {
      "text/html": [
       "<div>\n",
       "<style scoped>\n",
       "    .dataframe tbody tr th:only-of-type {\n",
       "        vertical-align: middle;\n",
       "    }\n",
       "\n",
       "    .dataframe tbody tr th {\n",
       "        vertical-align: top;\n",
       "    }\n",
       "\n",
       "    .dataframe thead th {\n",
       "        text-align: right;\n",
       "    }\n",
       "</style>\n",
       "<table border=\"1\" class=\"dataframe\">\n",
       "  <thead>\n",
       "    <tr style=\"text-align: right;\">\n",
       "      <th></th>\n",
       "      <th>sepal_length</th>\n",
       "      <th>sepal_width</th>\n",
       "      <th>petal_length</th>\n",
       "      <th>petal_width</th>\n",
       "      <th>species</th>\n",
       "    </tr>\n",
       "  </thead>\n",
       "  <tbody>\n",
       "    <tr>\n",
       "      <th>0</th>\n",
       "      <td>5.1</td>\n",
       "      <td>3.5</td>\n",
       "      <td>1.4</td>\n",
       "      <td>0.2</td>\n",
       "      <td>setosa</td>\n",
       "    </tr>\n",
       "    <tr>\n",
       "      <th>1</th>\n",
       "      <td>4.9</td>\n",
       "      <td>3.0</td>\n",
       "      <td>1.4</td>\n",
       "      <td>0.2</td>\n",
       "      <td>setosa</td>\n",
       "    </tr>\n",
       "    <tr>\n",
       "      <th>2</th>\n",
       "      <td>4.7</td>\n",
       "      <td>3.2</td>\n",
       "      <td>1.3</td>\n",
       "      <td>0.2</td>\n",
       "      <td>setosa</td>\n",
       "    </tr>\n",
       "    <tr>\n",
       "      <th>3</th>\n",
       "      <td>4.6</td>\n",
       "      <td>3.1</td>\n",
       "      <td>1.5</td>\n",
       "      <td>0.2</td>\n",
       "      <td>setosa</td>\n",
       "    </tr>\n",
       "    <tr>\n",
       "      <th>4</th>\n",
       "      <td>5.0</td>\n",
       "      <td>3.6</td>\n",
       "      <td>1.4</td>\n",
       "      <td>0.2</td>\n",
       "      <td>setosa</td>\n",
       "    </tr>\n",
       "  </tbody>\n",
       "</table>\n",
       "</div>"
      ],
      "text/plain": [
       "   sepal_length  sepal_width  petal_length  petal_width species\n",
       "0           5.1          3.5           1.4          0.2  setosa\n",
       "1           4.9          3.0           1.4          0.2  setosa\n",
       "2           4.7          3.2           1.3          0.2  setosa\n",
       "3           4.6          3.1           1.5          0.2  setosa\n",
       "4           5.0          3.6           1.4          0.2  setosa"
      ]
     },
     "execution_count": 11,
     "metadata": {},
     "output_type": "execute_result"
    }
   ],
   "source": [
    "iris = pd.read_hdf('data/ch09_iris.hdf5', key='iris')\n",
    "iris.head() #상위 5개"
   ]
  },
  {
   "cell_type": "markdown",
   "id": "0c413325",
   "metadata": {},
   "source": [
    "# 2절. 데이터 프레임 만들기\n",
    "## 2.1 딕셔너리를 이용해서 데이터 프레임 만들기"
   ]
  },
  {
   "cell_type": "code",
   "execution_count": 12,
   "id": "32c247df",
   "metadata": {},
   "outputs": [
    {
     "data": {
      "text/html": [
       "<div>\n",
       "<style scoped>\n",
       "    .dataframe tbody tr th:only-of-type {\n",
       "        vertical-align: middle;\n",
       "    }\n",
       "\n",
       "    .dataframe tbody tr th {\n",
       "        vertical-align: top;\n",
       "    }\n",
       "\n",
       "    .dataframe thead th {\n",
       "        text-align: right;\n",
       "    }\n",
       "</style>\n",
       "<table border=\"1\" class=\"dataframe\">\n",
       "  <thead>\n",
       "    <tr style=\"text-align: right;\">\n",
       "      <th></th>\n",
       "      <th>kor</th>\n",
       "      <th>mat</th>\n",
       "    </tr>\n",
       "  </thead>\n",
       "  <tbody>\n",
       "    <tr>\n",
       "      <th>0</th>\n",
       "      <td>100</td>\n",
       "      <td>95</td>\n",
       "    </tr>\n",
       "    <tr>\n",
       "      <th>1</th>\n",
       "      <td>90</td>\n",
       "      <td>99</td>\n",
       "    </tr>\n",
       "  </tbody>\n",
       "</table>\n",
       "</div>"
      ],
      "text/plain": [
       "   kor  mat\n",
       "0  100   95\n",
       "1   90   99"
      ]
     },
     "execution_count": 12,
     "metadata": {},
     "output_type": "execute_result"
    }
   ],
   "source": [
    "d = {'kor':[100,90], 'mat':[95,99]} # 딕셔너리를 데이터프레임으로\n",
    "df = pd.DataFrame(data=d)\n",
    "df"
   ]
  },
  {
   "cell_type": "code",
   "execution_count": 13,
   "id": "da8aa4a2",
   "metadata": {},
   "outputs": [
    {
     "data": {
      "text/plain": [
       "{'kor': {0: 100, 1: 90}, 'mat': {0: 95, 1: 99}}"
      ]
     },
     "execution_count": 13,
     "metadata": {},
     "output_type": "execute_result"
    }
   ],
   "source": [
    "df.to_dict() # 데이터 프레임을 딕셔너리로 변환"
   ]
  },
  {
   "cell_type": "code",
   "execution_count": 14,
   "id": "8b7d08b0",
   "metadata": {},
   "outputs": [
    {
     "data": {
      "text/plain": [
       "array([[100,  95],\n",
       "       [ 90,  99]], dtype=int64)"
      ]
     },
     "execution_count": 14,
     "metadata": {},
     "output_type": "execute_result"
    }
   ],
   "source": [
    "df.to_numpy()"
   ]
  },
  {
   "cell_type": "code",
   "execution_count": 15,
   "id": "83fd77a2",
   "metadata": {},
   "outputs": [
    {
     "data": {
      "text/html": [
       "<div>\n",
       "<style scoped>\n",
       "    .dataframe tbody tr th:only-of-type {\n",
       "        vertical-align: middle;\n",
       "    }\n",
       "\n",
       "    .dataframe tbody tr th {\n",
       "        vertical-align: top;\n",
       "    }\n",
       "\n",
       "    .dataframe thead th {\n",
       "        text-align: right;\n",
       "    }\n",
       "</style>\n",
       "<table border=\"1\" class=\"dataframe\">\n",
       "  <thead>\n",
       "    <tr style=\"text-align: right;\">\n",
       "      <th></th>\n",
       "      <th>kor</th>\n",
       "      <th>math</th>\n",
       "    </tr>\n",
       "  </thead>\n",
       "  <tbody>\n",
       "    <tr>\n",
       "      <th>0</th>\n",
       "      <td>100.0</td>\n",
       "      <td>95</td>\n",
       "    </tr>\n",
       "    <tr>\n",
       "      <th>1</th>\n",
       "      <td>90.0</td>\n",
       "      <td>99</td>\n",
       "    </tr>\n",
       "  </tbody>\n",
       "</table>\n",
       "</div>"
      ],
      "text/plain": [
       "     kor  math\n",
       "0  100.0    95\n",
       "1   90.0    99"
      ]
     },
     "execution_count": 15,
     "metadata": {},
     "output_type": "execute_result"
    }
   ],
   "source": [
    "# 딕셔너리 리스트를 데이터프레임\n",
    "d = [{'kor':100, 'math':95}, {'kor':90., 'math':99}]\n",
    "df = pd.DataFrame(data=d)\n",
    "df"
   ]
  },
  {
   "cell_type": "code",
   "execution_count": 16,
   "id": "56eb3e88",
   "metadata": {},
   "outputs": [
    {
     "data": {
      "text/plain": [
       "kor     float64\n",
       "math      int64\n",
       "dtype: object"
      ]
     },
     "execution_count": 16,
     "metadata": {},
     "output_type": "execute_result"
    }
   ],
   "source": [
    "df.dtypes"
   ]
  },
  {
   "cell_type": "code",
   "execution_count": 17,
   "id": "137a4407",
   "metadata": {},
   "outputs": [
    {
     "name": "stdout",
     "output_type": "stream",
     "text": [
      "<class 'pandas.core.frame.DataFrame'>\n",
      "RangeIndex: 2 entries, 0 to 1\n",
      "Data columns (total 2 columns):\n",
      " #   Column  Non-Null Count  Dtype  \n",
      "---  ------  --------------  -----  \n",
      " 0   kor     2 non-null      float64\n",
      " 1   math    2 non-null      int64  \n",
      "dtypes: float64(1), int64(1)\n",
      "memory usage: 160.0 bytes\n"
     ]
    }
   ],
   "source": [
    "df.info() # ★"
   ]
  },
  {
   "cell_type": "code",
   "execution_count": 18,
   "id": "064982c2",
   "metadata": {},
   "outputs": [
    {
     "data": {
      "text/html": [
       "<div>\n",
       "<style scoped>\n",
       "    .dataframe tbody tr th:only-of-type {\n",
       "        vertical-align: middle;\n",
       "    }\n",
       "\n",
       "    .dataframe tbody tr th {\n",
       "        vertical-align: top;\n",
       "    }\n",
       "\n",
       "    .dataframe thead th {\n",
       "        text-align: right;\n",
       "    }\n",
       "</style>\n",
       "<table border=\"1\" class=\"dataframe\">\n",
       "  <thead>\n",
       "    <tr style=\"text-align: right;\">\n",
       "      <th></th>\n",
       "      <th>kor</th>\n",
       "      <th>mat</th>\n",
       "      <th>math</th>\n",
       "    </tr>\n",
       "  </thead>\n",
       "  <tbody>\n",
       "    <tr>\n",
       "      <th>0</th>\n",
       "      <td>100</td>\n",
       "      <td>100.0</td>\n",
       "      <td>NaN</td>\n",
       "    </tr>\n",
       "    <tr>\n",
       "      <th>1</th>\n",
       "      <td>90</td>\n",
       "      <td>91.0</td>\n",
       "      <td>NaN</td>\n",
       "    </tr>\n",
       "    <tr>\n",
       "      <th>2</th>\n",
       "      <td>93</td>\n",
       "      <td>NaN</td>\n",
       "      <td>100.0</td>\n",
       "    </tr>\n",
       "  </tbody>\n",
       "</table>\n",
       "</div>"
      ],
      "text/plain": [
       "   kor    mat   math\n",
       "0  100  100.0    NaN\n",
       "1   90   91.0    NaN\n",
       "2   93    NaN  100.0"
      ]
     },
     "execution_count": 18,
     "metadata": {},
     "output_type": "execute_result"
    }
   ],
   "source": [
    "d = [{'kor':100, 'mat':100}, {'kor':90, 'mat':91}, {'kor':93, 'math':100}]\n",
    "df = pd.DataFrame(data=d) \n",
    "#결측치는 실수형(float64). 정수형 변환 불가(결측치 대체를 한 수 정수형 변환)\n",
    "df                            "
   ]
  },
  {
   "cell_type": "code",
   "execution_count": 19,
   "id": "fd481b88",
   "metadata": {},
   "outputs": [
    {
     "name": "stdout",
     "output_type": "stream",
     "text": [
      "<class 'pandas.core.frame.DataFrame'>\n",
      "RangeIndex: 3 entries, 0 to 2\n",
      "Data columns (total 3 columns):\n",
      " #   Column  Non-Null Count  Dtype  \n",
      "---  ------  --------------  -----  \n",
      " 0   kor     3 non-null      int64  \n",
      " 1   mat     2 non-null      float64\n",
      " 2   math    1 non-null      float64\n",
      "dtypes: float64(2), int64(1)\n",
      "memory usage: 200.0 bytes\n"
     ]
    }
   ],
   "source": [
    "df.info()"
   ]
  },
  {
   "cell_type": "markdown",
   "id": "8bda6fd2",
   "metadata": {},
   "source": [
    "## 2.2 리스트를 이용해서 데이터 프레임 만들기\n"
   ]
  },
  {
   "cell_type": "code",
   "execution_count": 20,
   "id": "20bdca70",
   "metadata": {},
   "outputs": [
    {
     "data": {
      "text/html": [
       "<div>\n",
       "<style scoped>\n",
       "    .dataframe tbody tr th:only-of-type {\n",
       "        vertical-align: middle;\n",
       "    }\n",
       "\n",
       "    .dataframe tbody tr th {\n",
       "        vertical-align: top;\n",
       "    }\n",
       "\n",
       "    .dataframe thead th {\n",
       "        text-align: right;\n",
       "    }\n",
       "</style>\n",
       "<table border=\"1\" class=\"dataframe\">\n",
       "  <thead>\n",
       "    <tr style=\"text-align: right;\">\n",
       "      <th></th>\n",
       "      <th>title</th>\n",
       "      <th>price</th>\n",
       "    </tr>\n",
       "  </thead>\n",
       "  <tbody>\n",
       "    <tr>\n",
       "      <th>0</th>\n",
       "      <td>책1</td>\n",
       "      <td>15000</td>\n",
       "    </tr>\n",
       "    <tr>\n",
       "      <th>1</th>\n",
       "      <td>책2</td>\n",
       "      <td>18000</td>\n",
       "    </tr>\n",
       "    <tr>\n",
       "      <th>2</th>\n",
       "      <td>책3</td>\n",
       "      <td>10000</td>\n",
       "    </tr>\n",
       "  </tbody>\n",
       "</table>\n",
       "</div>"
      ],
      "text/plain": [
       "  title  price\n",
       "0    책1  15000\n",
       "1    책2  18000\n",
       "2    책3  10000"
      ]
     },
     "execution_count": 20,
     "metadata": {},
     "output_type": "execute_result"
    }
   ],
   "source": [
    "title = ['책1', '책2', '책3']\n",
    "price = [15000, 18000, 10000]\n",
    "df = pd.DataFrame(data={'title':title, 'price':price})\n",
    "df"
   ]
  },
  {
   "cell_type": "code",
   "execution_count": 21,
   "id": "08944b48",
   "metadata": {},
   "outputs": [
    {
     "data": {
      "text/plain": [
       "array([['책1', '15000'],\n",
       "       ['책2', '18000'],\n",
       "       ['책3', '10000']], dtype='<U11')"
      ]
     },
     "execution_count": 21,
     "metadata": {},
     "output_type": "execute_result"
    }
   ],
   "source": [
    "import numpy as np\n",
    "np.c_[title, price]"
   ]
  },
  {
   "cell_type": "code",
   "execution_count": 22,
   "id": "7820a789",
   "metadata": {},
   "outputs": [
    {
     "data": {
      "text/html": [
       "<div>\n",
       "<style scoped>\n",
       "    .dataframe tbody tr th:only-of-type {\n",
       "        vertical-align: middle;\n",
       "    }\n",
       "\n",
       "    .dataframe tbody tr th {\n",
       "        vertical-align: top;\n",
       "    }\n",
       "\n",
       "    .dataframe thead th {\n",
       "        text-align: right;\n",
       "    }\n",
       "</style>\n",
       "<table border=\"1\" class=\"dataframe\">\n",
       "  <thead>\n",
       "    <tr style=\"text-align: right;\">\n",
       "      <th></th>\n",
       "      <th>책이름</th>\n",
       "      <th>가격</th>\n",
       "    </tr>\n",
       "  </thead>\n",
       "  <tbody>\n",
       "    <tr>\n",
       "      <th>0</th>\n",
       "      <td>책1</td>\n",
       "      <td>15000</td>\n",
       "    </tr>\n",
       "    <tr>\n",
       "      <th>1</th>\n",
       "      <td>책2</td>\n",
       "      <td>18000</td>\n",
       "    </tr>\n",
       "    <tr>\n",
       "      <th>2</th>\n",
       "      <td>책3</td>\n",
       "      <td>10000</td>\n",
       "    </tr>\n",
       "  </tbody>\n",
       "</table>\n",
       "</div>"
      ],
      "text/plain": [
       "  책이름     가격\n",
       "0  책1  15000\n",
       "1  책2  18000\n",
       "2  책3  10000"
      ]
     },
     "execution_count": 22,
     "metadata": {},
     "output_type": "execute_result"
    }
   ],
   "source": [
    "df = pd.DataFrame(np.c_[title,price], columns=['책이름', '가격'])\n",
    "df"
   ]
  },
  {
   "cell_type": "code",
   "execution_count": 23,
   "id": "cda5efdf",
   "metadata": {},
   "outputs": [
    {
     "data": {
      "text/html": [
       "<div>\n",
       "<style scoped>\n",
       "    .dataframe tbody tr th:only-of-type {\n",
       "        vertical-align: middle;\n",
       "    }\n",
       "\n",
       "    .dataframe tbody tr th {\n",
       "        vertical-align: top;\n",
       "    }\n",
       "\n",
       "    .dataframe thead th {\n",
       "        text-align: right;\n",
       "    }\n",
       "</style>\n",
       "<table border=\"1\" class=\"dataframe\">\n",
       "  <thead>\n",
       "    <tr style=\"text-align: right;\">\n",
       "      <th></th>\n",
       "      <th>책이름</th>\n",
       "      <th>가격</th>\n",
       "    </tr>\n",
       "  </thead>\n",
       "  <tbody>\n",
       "    <tr>\n",
       "      <th>0</th>\n",
       "      <td>책1</td>\n",
       "      <td>15000</td>\n",
       "    </tr>\n",
       "    <tr>\n",
       "      <th>1</th>\n",
       "      <td>책2</td>\n",
       "      <td>18000</td>\n",
       "    </tr>\n",
       "    <tr>\n",
       "      <th>2</th>\n",
       "      <td>책3</td>\n",
       "      <td>10000</td>\n",
       "    </tr>\n",
       "  </tbody>\n",
       "</table>\n",
       "</div>"
      ],
      "text/plain": [
       "  책이름     가격\n",
       "0  책1  15000\n",
       "1  책2  18000\n",
       "2  책3  10000"
      ]
     },
     "execution_count": 23,
     "metadata": {},
     "output_type": "execute_result"
    }
   ],
   "source": [
    "l = [['책1',15000],\n",
    "     ['책2',18000],\n",
    "     ['책3',10000]]\n",
    "df = pd.DataFrame(l, columns=['책이름', '가격'])\n",
    "df"
   ]
  },
  {
   "cell_type": "markdown",
   "id": "1b18056d",
   "metadata": {},
   "source": [
    "## 2.3 read_csv"
   ]
  },
  {
   "cell_type": "code",
   "execution_count": 24,
   "id": "be98fe4f",
   "metadata": {},
   "outputs": [
    {
     "name": "stdout",
     "output_type": "stream",
     "text": [
      " C 드라이브의 볼륨에는 이름이 없습니다.\n",
      " 볼륨 일련 번호: 3664-591E\n",
      "\n",
      " C:\\ai_x\\source\\01_python 디렉터리\n",
      "\n",
      "2025-04-28  오후 05:07    <DIR>          .\n",
      "2025-04-28  오후 05:07    <DIR>          ..\n",
      "2025-04-28  오후 02:29    <DIR>          .ipynb_checkpoints\n",
      "2025-04-24  오후 02:22            12,476 0424_ch10_dtype을int32에서int64로변경시.xlsx\n",
      "2025-04-14  오후 12:09             7,506 ch01_파이썬개요및환경설정.ipynb\n",
      "2025-04-21  오전 09:24            63,536 ch02 자료형과 연산자(1절~4절).ipynb\n",
      "2025-04-16  오후 04:07            70,630 ch03_데이터구조.ipynb\n",
      "2025-04-16  오전 10:39               151 ch05.py\n",
      "2025-04-21  오후 02:46            18,121 ch06_모듈과패키지.ipynb\n",
      "2025-04-21  오후 03:08            43,862 ch07_객체 지향 프로그래밍.ipynb\n",
      "2025-04-23  오전 09:48            32,015 ch08_예외처리.ipynb\n",
      "2025-04-24  오후 12:12    <DIR>          ch09_ex\n",
      "2025-04-28  오전 10:59           120,324 ch09_파일io(입출력) 프로그래밍.ipynb\n",
      "2025-04-28  오후 02:11           178,050 ch10_N차원 배열 다루기_1절~3절.ipynb\n",
      "2025-04-28  오후 02:15           112,147 ch10_N차원배열 다루기 4절~.ipynb\n",
      "2025-04-28  오후 05:07            87,210 ch11_데이터프레임과 시리즈 (Pandas)_1절~8절.ipynb\n",
      "2025-04-21  오전 09:34            39,856 ch2 자료형과연산자(5절~).ipynb\n",
      "2025-04-21  오후 05:35            36,983 ch4. 제어문.ipynb\n",
      "2025-04-21  오후 03:09           210,473 ch5_함수.ipynb\n",
      "2025-04-28  오후 04:41    <DIR>          data\n",
      "2025-04-14  오전 11:50               344 safe_index.py\n",
      "2025-04-08  오전 11:48                21 test.py\n",
      "2025-04-09  오후 12:07                15 text.py\n",
      "2025-04-16  오전 10:37    <DIR>          __pycache__\n",
      "2025-04-25  오후 03:50            22,575 파이썬 강의 요약\n",
      "              19개 파일           1,056,295 바이트\n",
      "               6개 디렉터리  134,781,231,104 바이트 남음\n"
     ]
    }
   ],
   "source": [
    "!dir"
   ]
  },
  {
   "cell_type": "code",
   "execution_count": 25,
   "id": "4f7b8002",
   "metadata": {},
   "outputs": [
    {
     "data": {
      "text/plain": [
       "(30, 39)"
      ]
     },
     "execution_count": 25,
     "metadata": {},
     "output_type": "execute_result"
    }
   ],
   "source": [
    "df = pd.read_csv(r'c:/ai_x/download/shareData/상가정보_20250331/소상공인시장진흥공단_상가(상권)정보_세종_202503.csv',\n",
    "                # encoding='utf-8',\n",
    "                # sep=',',\n",
    "                low_memory=False, # 데이터 용량이 클 경우만 기입\n",
    "                nrows=30,         # 처음 30행만\n",
    "                )\n",
    "df.shape"
   ]
  },
  {
   "cell_type": "code",
   "execution_count": 26,
   "id": "72038e31",
   "metadata": {},
   "outputs": [
    {
     "data": {
      "text/html": [
       "<div>\n",
       "<style scoped>\n",
       "    .dataframe tbody tr th:only-of-type {\n",
       "        vertical-align: middle;\n",
       "    }\n",
       "\n",
       "    .dataframe tbody tr th {\n",
       "        vertical-align: top;\n",
       "    }\n",
       "\n",
       "    .dataframe thead th {\n",
       "        text-align: right;\n",
       "    }\n",
       "</style>\n",
       "<table border=\"1\" class=\"dataframe\">\n",
       "  <thead>\n",
       "    <tr style=\"text-align: right;\">\n",
       "      <th></th>\n",
       "      <th>상가업소번호</th>\n",
       "      <th>상호명</th>\n",
       "      <th>지점명</th>\n",
       "      <th>상권업종대분류코드</th>\n",
       "      <th>상권업종대분류명</th>\n",
       "      <th>상권업종중분류코드</th>\n",
       "      <th>상권업종중분류명</th>\n",
       "      <th>상권업종소분류코드</th>\n",
       "      <th>상권업종소분류명</th>\n",
       "      <th>표준산업분류코드</th>\n",
       "      <th>...</th>\n",
       "      <th>건물관리번호</th>\n",
       "      <th>건물명</th>\n",
       "      <th>도로명주소</th>\n",
       "      <th>구우편번호</th>\n",
       "      <th>신우편번호</th>\n",
       "      <th>동정보</th>\n",
       "      <th>층정보</th>\n",
       "      <th>호정보</th>\n",
       "      <th>경도</th>\n",
       "      <th>위도</th>\n",
       "    </tr>\n",
       "  </thead>\n",
       "  <tbody>\n",
       "    <tr>\n",
       "      <th>0</th>\n",
       "      <td>MA010120220700019175</td>\n",
       "      <td>세종수이비인후과의원</td>\n",
       "      <td>NaN</td>\n",
       "      <td>Q1</td>\n",
       "      <td>보건의료</td>\n",
       "      <td>Q102</td>\n",
       "      <td>의원</td>\n",
       "      <td>Q10201</td>\n",
       "      <td>내과/소아과 의원</td>\n",
       "      <td>Q86201</td>\n",
       "      <td>...</td>\n",
       "      <td>3611011600200050002000001</td>\n",
       "      <td>행정중심복합도시</td>\n",
       "      <td>세종특별자치시 세종특별자치시 해밀3로 43</td>\n",
       "      <td>NaN</td>\n",
       "      <td>30092</td>\n",
       "      <td>NaN</td>\n",
       "      <td>NaN</td>\n",
       "      <td>NaN</td>\n",
       "      <td>127.264487</td>\n",
       "      <td>36.528585</td>\n",
       "    </tr>\n",
       "  </tbody>\n",
       "</table>\n",
       "<p>1 rows × 39 columns</p>\n",
       "</div>"
      ],
      "text/plain": [
       "                 상가업소번호         상호명  지점명 상권업종대분류코드 상권업종대분류명 상권업종중분류코드  \\\n",
       "0  MA010120220700019175  세종수이비인후과의원  NaN        Q1     보건의료      Q102   \n",
       "\n",
       "  상권업종중분류명 상권업종소분류코드   상권업종소분류명 표준산업분류코드  ...                     건물관리번호  \\\n",
       "0       의원    Q10201  내과/소아과 의원   Q86201  ...  3611011600200050002000001   \n",
       "\n",
       "        건물명                    도로명주소  구우편번호  신우편번호  동정보 층정보  호정보          경도  \\\n",
       "0  행정중심복합도시  세종특별자치시 세종특별자치시 해밀3로 43    NaN  30092  NaN NaN  NaN  127.264487   \n",
       "\n",
       "          위도  \n",
       "0  36.528585  \n",
       "\n",
       "[1 rows x 39 columns]"
      ]
     },
     "execution_count": 26,
     "metadata": {},
     "output_type": "execute_result"
    }
   ],
   "source": [
    "df.head(1)"
   ]
  },
  {
   "cell_type": "code",
   "execution_count": 27,
   "id": "5bb43391",
   "metadata": {},
   "outputs": [
    {
     "data": {
      "text/html": [
       "<div>\n",
       "<style scoped>\n",
       "    .dataframe tbody tr th:only-of-type {\n",
       "        vertical-align: middle;\n",
       "    }\n",
       "\n",
       "    .dataframe tbody tr th {\n",
       "        vertical-align: top;\n",
       "    }\n",
       "\n",
       "    .dataframe thead th {\n",
       "        text-align: right;\n",
       "    }\n",
       "</style>\n",
       "<table border=\"1\" class=\"dataframe\">\n",
       "  <thead>\n",
       "    <tr style=\"text-align: right;\">\n",
       "      <th></th>\n",
       "      <th>상가업소번호</th>\n",
       "      <th>상호명</th>\n",
       "      <th>지점명</th>\n",
       "      <th>상권업종대분류코드</th>\n",
       "      <th>상권업종대분류명</th>\n",
       "      <th>상권업종중분류코드</th>\n",
       "      <th>상권업종중분류명</th>\n",
       "      <th>상권업종소분류코드</th>\n",
       "      <th>상권업종소분류명</th>\n",
       "      <th>표준산업분류코드</th>\n",
       "      <th>표준산업분류명</th>\n",
       "      <th>시도코드</th>\n",
       "      <th>시도명</th>\n",
       "      <th>시군구코드</th>\n",
       "      <th>시군구명</th>\n",
       "      <th>행정동코드</th>\n",
       "      <th>행정동명</th>\n",
       "      <th>법정동코드</th>\n",
       "      <th>법정동명</th>\n",
       "      <th>지번코드</th>\n",
       "      <th>대지구분코드</th>\n",
       "      <th>대지구분명</th>\n",
       "      <th>지번본번지</th>\n",
       "      <th>지번부번지</th>\n",
       "      <th>지번주소</th>\n",
       "      <th>도로명코드</th>\n",
       "      <th>도로명</th>\n",
       "      <th>건물본번지</th>\n",
       "      <th>건물부번지</th>\n",
       "      <th>건물관리번호</th>\n",
       "      <th>건물명</th>\n",
       "      <th>도로명주소</th>\n",
       "      <th>구우편번호</th>\n",
       "      <th>신우편번호</th>\n",
       "      <th>동정보</th>\n",
       "      <th>층정보</th>\n",
       "      <th>호정보</th>\n",
       "      <th>경도</th>\n",
       "      <th>위도</th>\n",
       "    </tr>\n",
       "  </thead>\n",
       "  <tbody>\n",
       "    <tr>\n",
       "      <th>0</th>\n",
       "      <td>MA010120220700019175</td>\n",
       "      <td>세종수이비인후과의원</td>\n",
       "      <td>NaN</td>\n",
       "      <td>Q1</td>\n",
       "      <td>보건의료</td>\n",
       "      <td>Q102</td>\n",
       "      <td>의원</td>\n",
       "      <td>Q10201</td>\n",
       "      <td>내과/소아과 의원</td>\n",
       "      <td>Q86201</td>\n",
       "      <td>일반의원</td>\n",
       "      <td>36</td>\n",
       "      <td>세종특별자치시</td>\n",
       "      <td>36110</td>\n",
       "      <td>세종특별자치시</td>\n",
       "      <td>36110525</td>\n",
       "      <td>해밀동</td>\n",
       "      <td>3611011600</td>\n",
       "      <td>해밀동</td>\n",
       "      <td>3611011600200050002</td>\n",
       "      <td>2</td>\n",
       "      <td>산</td>\n",
       "      <td>5</td>\n",
       "      <td>2.0</td>\n",
       "      <td>세종특별자치시 세종특별자치시 해밀동 산5-2</td>\n",
       "      <td>361103352828</td>\n",
       "      <td>세종특별자치시 세종특별자치시 해밀3로</td>\n",
       "      <td>43</td>\n",
       "      <td>NaN</td>\n",
       "      <td>3611011600200050002000001</td>\n",
       "      <td>행정중심복합도시</td>\n",
       "      <td>세종특별자치시 세종특별자치시 해밀3로 43</td>\n",
       "      <td>NaN</td>\n",
       "      <td>30092</td>\n",
       "      <td>NaN</td>\n",
       "      <td>NaN</td>\n",
       "      <td>NaN</td>\n",
       "      <td>127.264487</td>\n",
       "      <td>36.528585</td>\n",
       "    </tr>\n",
       "  </tbody>\n",
       "</table>\n",
       "</div>"
      ],
      "text/plain": [
       "                 상가업소번호         상호명  지점명 상권업종대분류코드 상권업종대분류명 상권업종중분류코드  \\\n",
       "0  MA010120220700019175  세종수이비인후과의원  NaN        Q1     보건의료      Q102   \n",
       "\n",
       "  상권업종중분류명 상권업종소분류코드   상권업종소분류명 표준산업분류코드 표준산업분류명  시도코드      시도명  시군구코드  \\\n",
       "0       의원    Q10201  내과/소아과 의원   Q86201    일반의원    36  세종특별자치시  36110   \n",
       "\n",
       "      시군구명     행정동코드 행정동명       법정동코드 법정동명                 지번코드  대지구분코드 대지구분명  \\\n",
       "0  세종특별자치시  36110525  해밀동  3611011600  해밀동  3611011600200050002       2     산   \n",
       "\n",
       "   지번본번지  지번부번지                      지번주소         도로명코드                   도로명  \\\n",
       "0      5    2.0  세종특별자치시 세종특별자치시 해밀동 산5-2  361103352828  세종특별자치시 세종특별자치시 해밀3로   \n",
       "\n",
       "   건물본번지  건물부번지                     건물관리번호       건물명                    도로명주소  \\\n",
       "0     43    NaN  3611011600200050002000001  행정중심복합도시  세종특별자치시 세종특별자치시 해밀3로 43   \n",
       "\n",
       "   구우편번호  신우편번호  동정보  층정보  호정보          경도         위도  \n",
       "0    NaN  30092  NaN  NaN  NaN  127.264487  36.528585  "
      ]
     },
     "execution_count": 27,
     "metadata": {},
     "output_type": "execute_result"
    }
   ],
   "source": [
    "# 판단스 디스플레이 옵션\n",
    "pd.options.display.max_columns = 39 # 기본값:20이나 39열까지 display 가능\n",
    "pd.options.display.max_rows # 40행까지 display 가능 (기본값 60)\n",
    "df.head(1)"
   ]
  },
  {
   "cell_type": "code",
   "execution_count": 28,
   "id": "aa160220",
   "metadata": {},
   "outputs": [
    {
     "data": {
      "text/html": [
       "<div>\n",
       "<style scoped>\n",
       "    .dataframe tbody tr th:only-of-type {\n",
       "        vertical-align: middle;\n",
       "    }\n",
       "\n",
       "    .dataframe tbody tr th {\n",
       "        vertical-align: top;\n",
       "    }\n",
       "\n",
       "    .dataframe thead th {\n",
       "        text-align: right;\n",
       "    }\n",
       "</style>\n",
       "<table border=\"1\" class=\"dataframe\">\n",
       "  <thead>\n",
       "    <tr style=\"text-align: right;\">\n",
       "      <th></th>\n",
       "      <th>0</th>\n",
       "      <th>1</th>\n",
       "      <th>2</th>\n",
       "    </tr>\n",
       "  </thead>\n",
       "  <tbody>\n",
       "    <tr>\n",
       "      <th>상가업소번호</th>\n",
       "      <td>MA010120220700019175</td>\n",
       "      <td>MA010120220800005576</td>\n",
       "      <td>MA010120220800006182</td>\n",
       "    </tr>\n",
       "    <tr>\n",
       "      <th>상호명</th>\n",
       "      <td>세종수이비인후과의원</td>\n",
       "      <td>우보설렁탕</td>\n",
       "      <td>메이빈</td>\n",
       "    </tr>\n",
       "    <tr>\n",
       "      <th>지점명</th>\n",
       "      <td>NaN</td>\n",
       "      <td>NaN</td>\n",
       "      <td>NaN</td>\n",
       "    </tr>\n",
       "    <tr>\n",
       "      <th>상권업종대분류코드</th>\n",
       "      <td>Q1</td>\n",
       "      <td>I2</td>\n",
       "      <td>I2</td>\n",
       "    </tr>\n",
       "    <tr>\n",
       "      <th>상권업종대분류명</th>\n",
       "      <td>보건의료</td>\n",
       "      <td>음식</td>\n",
       "      <td>음식</td>\n",
       "    </tr>\n",
       "    <tr>\n",
       "      <th>상권업종중분류코드</th>\n",
       "      <td>Q102</td>\n",
       "      <td>I201</td>\n",
       "      <td>I212</td>\n",
       "    </tr>\n",
       "    <tr>\n",
       "      <th>상권업종중분류명</th>\n",
       "      <td>의원</td>\n",
       "      <td>한식</td>\n",
       "      <td>비알코올</td>\n",
       "    </tr>\n",
       "    <tr>\n",
       "      <th>상권업종소분류코드</th>\n",
       "      <td>Q10201</td>\n",
       "      <td>I20102</td>\n",
       "      <td>I21201</td>\n",
       "    </tr>\n",
       "    <tr>\n",
       "      <th>상권업종소분류명</th>\n",
       "      <td>내과/소아과 의원</td>\n",
       "      <td>국/탕/찌개류</td>\n",
       "      <td>카페</td>\n",
       "    </tr>\n",
       "    <tr>\n",
       "      <th>표준산업분류코드</th>\n",
       "      <td>Q86201</td>\n",
       "      <td>I56111</td>\n",
       "      <td>I56221</td>\n",
       "    </tr>\n",
       "    <tr>\n",
       "      <th>표준산업분류명</th>\n",
       "      <td>일반의원</td>\n",
       "      <td>한식 일반 음식점업</td>\n",
       "      <td>커피 전문점</td>\n",
       "    </tr>\n",
       "    <tr>\n",
       "      <th>시도코드</th>\n",
       "      <td>36</td>\n",
       "      <td>36</td>\n",
       "      <td>36</td>\n",
       "    </tr>\n",
       "    <tr>\n",
       "      <th>시도명</th>\n",
       "      <td>세종특별자치시</td>\n",
       "      <td>세종특별자치시</td>\n",
       "      <td>세종특별자치시</td>\n",
       "    </tr>\n",
       "    <tr>\n",
       "      <th>시군구코드</th>\n",
       "      <td>36110</td>\n",
       "      <td>36110</td>\n",
       "      <td>36110</td>\n",
       "    </tr>\n",
       "    <tr>\n",
       "      <th>시군구명</th>\n",
       "      <td>세종특별자치시</td>\n",
       "      <td>세종특별자치시</td>\n",
       "      <td>세종특별자치시</td>\n",
       "    </tr>\n",
       "    <tr>\n",
       "      <th>행정동코드</th>\n",
       "      <td>36110525</td>\n",
       "      <td>36110250</td>\n",
       "      <td>36110560</td>\n",
       "    </tr>\n",
       "    <tr>\n",
       "      <th>행정동명</th>\n",
       "      <td>해밀동</td>\n",
       "      <td>조치원읍</td>\n",
       "      <td>보람동</td>\n",
       "    </tr>\n",
       "    <tr>\n",
       "      <th>법정동코드</th>\n",
       "      <td>3611011600</td>\n",
       "      <td>3611025023</td>\n",
       "      <td>3611010300</td>\n",
       "    </tr>\n",
       "    <tr>\n",
       "      <th>법정동명</th>\n",
       "      <td>해밀동</td>\n",
       "      <td>조치원읍</td>\n",
       "      <td>보람동</td>\n",
       "    </tr>\n",
       "    <tr>\n",
       "      <th>지번코드</th>\n",
       "      <td>3611011600200050002</td>\n",
       "      <td>3611025023100230051</td>\n",
       "      <td>3611010300107050000</td>\n",
       "    </tr>\n",
       "    <tr>\n",
       "      <th>대지구분코드</th>\n",
       "      <td>2</td>\n",
       "      <td>1</td>\n",
       "      <td>1</td>\n",
       "    </tr>\n",
       "    <tr>\n",
       "      <th>대지구분명</th>\n",
       "      <td>산</td>\n",
       "      <td>대지</td>\n",
       "      <td>대지</td>\n",
       "    </tr>\n",
       "    <tr>\n",
       "      <th>지번본번지</th>\n",
       "      <td>5</td>\n",
       "      <td>23</td>\n",
       "      <td>705</td>\n",
       "    </tr>\n",
       "    <tr>\n",
       "      <th>지번부번지</th>\n",
       "      <td>2.0</td>\n",
       "      <td>51.0</td>\n",
       "      <td>NaN</td>\n",
       "    </tr>\n",
       "    <tr>\n",
       "      <th>지번주소</th>\n",
       "      <td>세종특별자치시 세종특별자치시 해밀동 산5-2</td>\n",
       "      <td>세종특별자치시 세종특별자치시 조치원읍 평리 23-51</td>\n",
       "      <td>세종특별자치시 세종특별자치시 보람동 705</td>\n",
       "    </tr>\n",
       "    <tr>\n",
       "      <th>도로명코드</th>\n",
       "      <td>361103352828</td>\n",
       "      <td>361103258043</td>\n",
       "      <td>361102348105</td>\n",
       "    </tr>\n",
       "    <tr>\n",
       "      <th>도로명</th>\n",
       "      <td>세종특별자치시 세종특별자치시 해밀3로</td>\n",
       "      <td>세종특별자치시 세종특별자치시 조치원읍 문화로</td>\n",
       "      <td>세종특별자치시 세종특별자치시 시청대로</td>\n",
       "    </tr>\n",
       "    <tr>\n",
       "      <th>건물본번지</th>\n",
       "      <td>43</td>\n",
       "      <td>24</td>\n",
       "      <td>127</td>\n",
       "    </tr>\n",
       "    <tr>\n",
       "      <th>건물부번지</th>\n",
       "      <td>NaN</td>\n",
       "      <td>NaN</td>\n",
       "      <td>NaN</td>\n",
       "    </tr>\n",
       "    <tr>\n",
       "      <th>건물관리번호</th>\n",
       "      <td>3611011600200050002000001</td>\n",
       "      <td>4473025023100230051035586</td>\n",
       "      <td>3611010300106640011000001</td>\n",
       "    </tr>\n",
       "    <tr>\n",
       "      <th>건물명</th>\n",
       "      <td>행정중심복합도시</td>\n",
       "      <td>NaN</td>\n",
       "      <td>강남프라자</td>\n",
       "    </tr>\n",
       "    <tr>\n",
       "      <th>도로명주소</th>\n",
       "      <td>세종특별자치시 세종특별자치시 해밀3로 43</td>\n",
       "      <td>세종특별자치시 세종특별자치시 조치원읍 문화로 24</td>\n",
       "      <td>세종특별자치시 세종특별자치시 시청대로 127</td>\n",
       "    </tr>\n",
       "    <tr>\n",
       "      <th>구우편번호</th>\n",
       "      <td>NaN</td>\n",
       "      <td>339885.0</td>\n",
       "      <td>339008.0</td>\n",
       "    </tr>\n",
       "    <tr>\n",
       "      <th>신우편번호</th>\n",
       "      <td>30092</td>\n",
       "      <td>30025</td>\n",
       "      <td>30151</td>\n",
       "    </tr>\n",
       "    <tr>\n",
       "      <th>동정보</th>\n",
       "      <td>NaN</td>\n",
       "      <td>NaN</td>\n",
       "      <td>NaN</td>\n",
       "    </tr>\n",
       "    <tr>\n",
       "      <th>층정보</th>\n",
       "      <td>NaN</td>\n",
       "      <td>NaN</td>\n",
       "      <td>3.0</td>\n",
       "    </tr>\n",
       "    <tr>\n",
       "      <th>호정보</th>\n",
       "      <td>NaN</td>\n",
       "      <td>NaN</td>\n",
       "      <td>NaN</td>\n",
       "    </tr>\n",
       "    <tr>\n",
       "      <th>경도</th>\n",
       "      <td>127.264487</td>\n",
       "      <td>127.301068</td>\n",
       "      <td>127.286081</td>\n",
       "    </tr>\n",
       "    <tr>\n",
       "      <th>위도</th>\n",
       "      <td>36.528585</td>\n",
       "      <td>36.60377</td>\n",
       "      <td>36.479674</td>\n",
       "    </tr>\n",
       "  </tbody>\n",
       "</table>\n",
       "</div>"
      ],
      "text/plain": [
       "                                   0                              1  \\\n",
       "상가업소번호          MA010120220700019175           MA010120220800005576   \n",
       "상호명                       세종수이비인후과의원                          우보설렁탕   \n",
       "지점명                              NaN                            NaN   \n",
       "상권업종대분류코드                         Q1                             I2   \n",
       "상권업종대분류명                        보건의료                             음식   \n",
       "상권업종중분류코드                       Q102                           I201   \n",
       "상권업종중분류명                          의원                             한식   \n",
       "상권업종소분류코드                     Q10201                         I20102   \n",
       "상권업종소분류명                   내과/소아과 의원                        국/탕/찌개류   \n",
       "표준산업분류코드                      Q86201                         I56111   \n",
       "표준산업분류명                         일반의원                     한식 일반 음식점업   \n",
       "시도코드                              36                             36   \n",
       "시도명                          세종특별자치시                        세종특별자치시   \n",
       "시군구코드                          36110                          36110   \n",
       "시군구명                         세종특별자치시                        세종특별자치시   \n",
       "행정동코드                       36110525                       36110250   \n",
       "행정동명                             해밀동                           조치원읍   \n",
       "법정동코드                     3611011600                     3611025023   \n",
       "법정동명                             해밀동                           조치원읍   \n",
       "지번코드             3611011600200050002            3611025023100230051   \n",
       "대지구분코드                             2                              1   \n",
       "대지구분명                              산                             대지   \n",
       "지번본번지                              5                             23   \n",
       "지번부번지                            2.0                           51.0   \n",
       "지번주소        세종특별자치시 세종특별자치시 해밀동 산5-2  세종특별자치시 세종특별자치시 조치원읍 평리 23-51   \n",
       "도로명코드                   361103352828                   361103258043   \n",
       "도로명             세종특별자치시 세종특별자치시 해밀3로       세종특별자치시 세종특별자치시 조치원읍 문화로   \n",
       "건물본번지                             43                             24   \n",
       "건물부번지                            NaN                            NaN   \n",
       "건물관리번호     3611011600200050002000001      4473025023100230051035586   \n",
       "건물명                         행정중심복합도시                            NaN   \n",
       "도로명주소        세종특별자치시 세종특별자치시 해밀3로 43    세종특별자치시 세종특별자치시 조치원읍 문화로 24   \n",
       "구우편번호                            NaN                       339885.0   \n",
       "신우편번호                          30092                          30025   \n",
       "동정보                              NaN                            NaN   \n",
       "층정보                              NaN                            NaN   \n",
       "호정보                              NaN                            NaN   \n",
       "경도                        127.264487                     127.301068   \n",
       "위도                         36.528585                       36.60377   \n",
       "\n",
       "                                   2  \n",
       "상가업소번호          MA010120220800006182  \n",
       "상호명                              메이빈  \n",
       "지점명                              NaN  \n",
       "상권업종대분류코드                         I2  \n",
       "상권업종대분류명                          음식  \n",
       "상권업종중분류코드                       I212  \n",
       "상권업종중분류명                       비알코올   \n",
       "상권업종소분류코드                     I21201  \n",
       "상권업종소분류명                          카페  \n",
       "표준산업분류코드                      I56221  \n",
       "표준산업분류명                       커피 전문점  \n",
       "시도코드                              36  \n",
       "시도명                          세종특별자치시  \n",
       "시군구코드                          36110  \n",
       "시군구명                         세종특별자치시  \n",
       "행정동코드                       36110560  \n",
       "행정동명                             보람동  \n",
       "법정동코드                     3611010300  \n",
       "법정동명                             보람동  \n",
       "지번코드             3611010300107050000  \n",
       "대지구분코드                             1  \n",
       "대지구분명                             대지  \n",
       "지번본번지                            705  \n",
       "지번부번지                            NaN  \n",
       "지번주소         세종특별자치시 세종특별자치시 보람동 705  \n",
       "도로명코드                   361102348105  \n",
       "도로명             세종특별자치시 세종특별자치시 시청대로  \n",
       "건물본번지                            127  \n",
       "건물부번지                            NaN  \n",
       "건물관리번호     3611010300106640011000001  \n",
       "건물명                            강남프라자  \n",
       "도로명주소       세종특별자치시 세종특별자치시 시청대로 127  \n",
       "구우편번호                       339008.0  \n",
       "신우편번호                          30151  \n",
       "동정보                              NaN  \n",
       "층정보                              3.0  \n",
       "호정보                              NaN  \n",
       "경도                        127.286081  \n",
       "위도                         36.479674  "
      ]
     },
     "execution_count": 28,
     "metadata": {},
     "output_type": "execute_result"
    }
   ],
   "source": [
    "df.head(3).T"
   ]
  },
  {
   "cell_type": "code",
   "execution_count": 38,
   "id": "91660b07",
   "metadata": {},
   "outputs": [
    {
     "data": {
      "text/html": [
       "<div>\n",
       "<style scoped>\n",
       "    .dataframe tbody tr th:only-of-type {\n",
       "        vertical-align: middle;\n",
       "    }\n",
       "\n",
       "    .dataframe tbody tr th {\n",
       "        vertical-align: top;\n",
       "    }\n",
       "\n",
       "    .dataframe thead th {\n",
       "        text-align: right;\n",
       "    }\n",
       "</style>\n",
       "<table border=\"1\" class=\"dataframe\">\n",
       "  <thead>\n",
       "    <tr style=\"text-align: right;\">\n",
       "      <th></th>\n",
       "      <th>Name</th>\n",
       "      <th>Age</th>\n",
       "      <th>Email</th>\n",
       "      <th>Address</th>\n",
       "      <th>Birth</th>\n",
       "    </tr>\n",
       "  </thead>\n",
       "  <tbody>\n",
       "    <tr>\n",
       "      <th>0</th>\n",
       "      <td>홍길동</td>\n",
       "      <td>20</td>\n",
       "      <td>hong@hong.com</td>\n",
       "      <td>서울시 강동구</td>\n",
       "      <td>1999-01-01</td>\n",
       "    </tr>\n",
       "    <tr>\n",
       "      <th>1</th>\n",
       "      <td>홍길서</td>\n",
       "      <td>30</td>\n",
       "      <td>seo@hong.com</td>\n",
       "      <td>서울시 중구</td>\n",
       "      <td>1999-12-01</td>\n",
       "    </tr>\n",
       "    <tr>\n",
       "      <th>2</th>\n",
       "      <td>홍길남</td>\n",
       "      <td>21</td>\n",
       "      <td>nam@hong.com</td>\n",
       "      <td>서울시 강동구</td>\n",
       "      <td>1999-11-01</td>\n",
       "    </tr>\n",
       "    <tr>\n",
       "      <th>3</th>\n",
       "      <td>홍길북</td>\n",
       "      <td>22</td>\n",
       "      <td>buk@hong.com</td>\n",
       "      <td>서울시 관악구</td>\n",
       "      <td>1999-05-01</td>\n",
       "    </tr>\n",
       "    <tr>\n",
       "      <th>4</th>\n",
       "      <td>홍길중</td>\n",
       "      <td>23</td>\n",
       "      <td>mid@hong.com</td>\n",
       "      <td>부산시 중구</td>\n",
       "      <td>1999-01-30</td>\n",
       "    </tr>\n",
       "    <tr>\n",
       "      <th>5</th>\n",
       "      <td>#홍길뜽</td>\n",
       "      <td>24</td>\n",
       "      <td>non@not.com</td>\n",
       "      <td>없는구</td>\n",
       "      <td>2000-01-01</td>\n",
       "    </tr>\n",
       "  </tbody>\n",
       "</table>\n",
       "</div>"
      ],
      "text/plain": [
       "   Name  Age          Email  Address       Birth\n",
       "0   홍길동   20  hong@hong.com  서울시 강동구  1999-01-01\n",
       "1   홍길서   30   seo@hong.com   서울시 중구  1999-12-01\n",
       "2   홍길남   21   nam@hong.com  서울시 강동구  1999-11-01\n",
       "3   홍길북   22   buk@hong.com  서울시 관악구  1999-05-01\n",
       "4   홍길중   23   mid@hong.com   부산시 중구  1999-01-30\n",
       "5  #홍길뜽   24    non@not.com      없는구  2000-01-01"
      ]
     },
     "execution_count": 38,
     "metadata": {},
     "output_type": "execute_result"
    }
   ],
   "source": [
    "# (1) csv파일 불러오기\n",
    "member = pd.read_csv('data/ch11_member.csv')\n",
    "member"
   ]
  },
  {
   "cell_type": "code",
   "execution_count": 39,
   "id": "fe57515f",
   "metadata": {},
   "outputs": [
    {
     "name": "stdout",
     "output_type": "stream",
     "text": [
      "<class 'pandas.core.frame.DataFrame'>\n",
      "RangeIndex: 6 entries, 0 to 5\n",
      "Data columns (total 5 columns):\n",
      " #   Column   Non-Null Count  Dtype \n",
      "---  ------   --------------  ----- \n",
      " 0   Name     6 non-null      object\n",
      " 1   Age      6 non-null      int64 \n",
      " 2   Email    6 non-null      object\n",
      " 3   Address  6 non-null      object\n",
      " 4   Birth    6 non-null      object\n",
      "dtypes: int64(1), object(4)\n",
      "memory usage: 368.0+ bytes\n"
     ]
    }
   ],
   "source": [
    "member.info()"
   ]
  },
  {
   "cell_type": "code",
   "execution_count": 40,
   "id": "88d8bbcb",
   "metadata": {},
   "outputs": [
    {
     "name": "stdout",
     "output_type": "stream",
     "text": [
      "<class 'pandas.core.frame.DataFrame'>\n",
      "RangeIndex: 6 entries, 0 to 5\n",
      "Data columns (total 5 columns):\n",
      " #   Column   Non-Null Count  Dtype \n",
      "---  ------   --------------  ----- \n",
      " 0   Name     6 non-null      object\n",
      " 1   Age      6 non-null      int16 \n",
      " 2   Email    6 non-null      object\n",
      " 3   Address  6 non-null      object\n",
      " 4   Birth    6 non-null      object\n",
      "dtypes: int16(1), object(4)\n",
      "memory usage: 332.0+ bytes\n"
     ]
    }
   ],
   "source": [
    "# 형변환 age열:int64 -> int16\n",
    "member['Age'] = member['Age'].astype(np.int16) # 'int' : np.int32\n",
    "member.info()"
   ]
  },
  {
   "cell_type": "code",
   "execution_count": 41,
   "id": "21fd06a2",
   "metadata": {},
   "outputs": [
    {
     "name": "stdout",
     "output_type": "stream",
     "text": [
      "<class 'pandas.core.frame.DataFrame'>\n",
      "RangeIndex: 6 entries, 0 to 5\n",
      "Data columns (total 6 columns):\n",
      " #   Column    Non-Null Count  Dtype         \n",
      "---  ------    --------------  -----         \n",
      " 0   Name      6 non-null      object        \n",
      " 1   Age       6 non-null      int16         \n",
      " 2   Email     6 non-null      object        \n",
      " 3   Address   6 non-null      object        \n",
      " 4   Birth     6 non-null      object        \n",
      " 5   Birth_as  6 non-null      datetime64[ns]\n",
      "dtypes: datetime64[ns](1), int16(1), object(4)\n",
      "memory usage: 380.0+ bytes\n"
     ]
    }
   ],
   "source": [
    "# 형변환 Birth열 : object(문자) -> datetime64\n",
    "member['Birth_as'] = member['Birth'].astype('datetime64')\n",
    "member.info()"
   ]
  },
  {
   "cell_type": "code",
   "execution_count": 42,
   "id": "b4a800fe",
   "metadata": {},
   "outputs": [
    {
     "name": "stdout",
     "output_type": "stream",
     "text": [
      "<class 'pandas.core.frame.DataFrame'>\n",
      "RangeIndex: 6 entries, 0 to 5\n",
      "Data columns (total 7 columns):\n",
      " #   Column    Non-Null Count  Dtype         \n",
      "---  ------    --------------  -----         \n",
      " 0   Name      6 non-null      object        \n",
      " 1   Age       6 non-null      int16         \n",
      " 2   Email     6 non-null      object        \n",
      " 3   Address   6 non-null      object        \n",
      " 4   Birth     6 non-null      object        \n",
      " 5   Birth_as  6 non-null      datetime64[ns]\n",
      " 6   Birth_to  6 non-null      datetime64[ns]\n",
      "dtypes: datetime64[ns](2), int16(1), object(4)\n",
      "memory usage: 428.0+ bytes\n"
     ]
    }
   ],
   "source": [
    "member['Birth_to'] = pd.to_datetime(member['Birth']) # astype()함수보다 안전한 형변환\n",
    "member.info()"
   ]
  },
  {
   "cell_type": "code",
   "execution_count": 43,
   "id": "aa5e8bd2",
   "metadata": {},
   "outputs": [
    {
     "data": {
      "text/html": [
       "<div>\n",
       "<style scoped>\n",
       "    .dataframe tbody tr th:only-of-type {\n",
       "        vertical-align: middle;\n",
       "    }\n",
       "\n",
       "    .dataframe tbody tr th {\n",
       "        vertical-align: top;\n",
       "    }\n",
       "\n",
       "    .dataframe thead th {\n",
       "        text-align: right;\n",
       "    }\n",
       "</style>\n",
       "<table border=\"1\" class=\"dataframe\">\n",
       "  <thead>\n",
       "    <tr style=\"text-align: right;\">\n",
       "      <th></th>\n",
       "      <th>Name</th>\n",
       "      <th>Age</th>\n",
       "      <th>Email</th>\n",
       "      <th>Address</th>\n",
       "      <th>Birth</th>\n",
       "    </tr>\n",
       "  </thead>\n",
       "  <tbody>\n",
       "    <tr>\n",
       "      <th>0</th>\n",
       "      <td>홍길서</td>\n",
       "      <td>30</td>\n",
       "      <td>seo@hong.com</td>\n",
       "      <td>서울시 중구</td>\n",
       "      <td>1999-12-01</td>\n",
       "    </tr>\n",
       "    <tr>\n",
       "      <th>1</th>\n",
       "      <td>홍길남</td>\n",
       "      <td>21</td>\n",
       "      <td>nam@hong.com</td>\n",
       "      <td>서울시 강동구</td>\n",
       "      <td>1999-11-01</td>\n",
       "    </tr>\n",
       "    <tr>\n",
       "      <th>2</th>\n",
       "      <td>홍길북</td>\n",
       "      <td>22</td>\n",
       "      <td>buk@hong.com</td>\n",
       "      <td>서울시 관악구</td>\n",
       "      <td>1999-05-01</td>\n",
       "    </tr>\n",
       "    <tr>\n",
       "      <th>3</th>\n",
       "      <td>홍길중</td>\n",
       "      <td>23</td>\n",
       "      <td>mid@hong.com</td>\n",
       "      <td>부산시 중구</td>\n",
       "      <td>1999-01-30</td>\n",
       "    </tr>\n",
       "  </tbody>\n",
       "</table>\n",
       "</div>"
      ],
      "text/plain": [
       "  Name  Age         Email  Address       Birth\n",
       "0  홍길서   30  seo@hong.com   서울시 중구  1999-12-01\n",
       "1  홍길남   21  nam@hong.com  서울시 강동구  1999-11-01\n",
       "2  홍길북   22  buk@hong.com  서울시 관악구  1999-05-01\n",
       "3  홍길중   23  mid@hong.com   부산시 중구  1999-01-30"
      ]
     },
     "execution_count": 43,
     "metadata": {},
     "output_type": "execute_result"
    }
   ],
   "source": [
    "# (2) 특정행 제외하고 csv 파일 읽기\n",
    "member = pd.read_csv('data/ch11_membercp949.csv',\n",
    "                    encoding='cp949',\n",
    "                    skiprows=[1,6]) # 1,6번째 행은 제외하고 읽어오기\n",
    "member"
   ]
  },
  {
   "cell_type": "code",
   "execution_count": 45,
   "id": "1909e81b",
   "metadata": {},
   "outputs": [
    {
     "data": {
      "text/html": [
       "<div>\n",
       "<style scoped>\n",
       "    .dataframe tbody tr th:only-of-type {\n",
       "        vertical-align: middle;\n",
       "    }\n",
       "\n",
       "    .dataframe tbody tr th {\n",
       "        vertical-align: top;\n",
       "    }\n",
       "\n",
       "    .dataframe thead th {\n",
       "        text-align: right;\n",
       "    }\n",
       "</style>\n",
       "<table border=\"1\" class=\"dataframe\">\n",
       "  <thead>\n",
       "    <tr style=\"text-align: right;\">\n",
       "      <th></th>\n",
       "      <th>Name</th>\n",
       "      <th>Age</th>\n",
       "      <th>Email</th>\n",
       "      <th>Address</th>\n",
       "      <th>Birth</th>\n",
       "    </tr>\n",
       "  </thead>\n",
       "  <tbody>\n",
       "    <tr>\n",
       "      <th>0</th>\n",
       "      <td>홍길동</td>\n",
       "      <td>20</td>\n",
       "      <td>hong@hong.com</td>\n",
       "      <td>서울시 강동구</td>\n",
       "      <td>1999-01-01</td>\n",
       "    </tr>\n",
       "    <tr>\n",
       "      <th>1</th>\n",
       "      <td>홍길서</td>\n",
       "      <td>30</td>\n",
       "      <td>seo@hong.com</td>\n",
       "      <td>서울시 중구</td>\n",
       "      <td>1999-12-01</td>\n",
       "    </tr>\n",
       "    <tr>\n",
       "      <th>2</th>\n",
       "      <td>홍길남</td>\n",
       "      <td>21</td>\n",
       "      <td>nam@hong.com</td>\n",
       "      <td>서울시 강동구</td>\n",
       "      <td>1999-11-01</td>\n",
       "    </tr>\n",
       "    <tr>\n",
       "      <th>3</th>\n",
       "      <td>홍길북</td>\n",
       "      <td>22</td>\n",
       "      <td>buk@hong.com</td>\n",
       "      <td>서울시 관악구</td>\n",
       "      <td>1999-05-01</td>\n",
       "    </tr>\n",
       "    <tr>\n",
       "      <th>4</th>\n",
       "      <td>홍길중</td>\n",
       "      <td>23</td>\n",
       "      <td>mid@hong.com</td>\n",
       "      <td>부산시 중구</td>\n",
       "      <td>1999-01-30</td>\n",
       "    </tr>\n",
       "  </tbody>\n",
       "</table>\n",
       "</div>"
      ],
      "text/plain": [
       "  Name  Age          Email  Address      Birth\n",
       "0  홍길동   20  hong@hong.com  서울시 강동구 1999-01-01\n",
       "1  홍길서   30   seo@hong.com   서울시 중구 1999-12-01\n",
       "2  홍길남   21   nam@hong.com  서울시 강동구 1999-11-01\n",
       "3  홍길북   22   buk@hong.com  서울시 관악구 1999-05-01\n",
       "4  홍길중   23   mid@hong.com   부산시 중구 1999-01-30"
      ]
     },
     "execution_count": 45,
     "metadata": {},
     "output_type": "execute_result"
    }
   ],
   "source": [
    "# (3) 주석(#) 제외, datatime형 필드 지정하여 읽기\n",
    "member = pd.read_csv('data/ch11_membertab.csv', \n",
    "                    sep='\\t',\n",
    "                    comment='#',\n",
    "                    parse_dates=['Birth']) # datetime형으로 읽어올 필드 지정\n",
    "member"
   ]
  },
  {
   "cell_type": "code",
   "execution_count": 46,
   "id": "d47eb2eb",
   "metadata": {},
   "outputs": [
    {
     "data": {
      "text/html": [
       "<div>\n",
       "<style scoped>\n",
       "    .dataframe tbody tr th:only-of-type {\n",
       "        vertical-align: middle;\n",
       "    }\n",
       "\n",
       "    .dataframe tbody tr th {\n",
       "        vertical-align: top;\n",
       "    }\n",
       "\n",
       "    .dataframe thead th {\n",
       "        text-align: right;\n",
       "    }\n",
       "</style>\n",
       "<table border=\"1\" class=\"dataframe\">\n",
       "  <thead>\n",
       "    <tr style=\"text-align: right;\">\n",
       "      <th></th>\n",
       "      <th>Name</th>\n",
       "      <th>Age</th>\n",
       "      <th>Email</th>\n",
       "      <th>Address</th>\n",
       "      <th>Birth</th>\n",
       "    </tr>\n",
       "  </thead>\n",
       "  <tbody>\n",
       "    <tr>\n",
       "      <th>0</th>\n",
       "      <td>홍길동</td>\n",
       "      <td>20</td>\n",
       "      <td>hong@hong.com</td>\n",
       "      <td>서울시 강동구</td>\n",
       "      <td>1999-01-01</td>\n",
       "    </tr>\n",
       "    <tr>\n",
       "      <th>1</th>\n",
       "      <td>홍길서</td>\n",
       "      <td>30</td>\n",
       "      <td>seo@hong.com</td>\n",
       "      <td>서울시 중구</td>\n",
       "      <td>1999-12-01</td>\n",
       "    </tr>\n",
       "    <tr>\n",
       "      <th>2</th>\n",
       "      <td>홍길남</td>\n",
       "      <td>21</td>\n",
       "      <td>nam@hong.com</td>\n",
       "      <td>서울시 강동구</td>\n",
       "      <td>1999-11-01</td>\n",
       "    </tr>\n",
       "    <tr>\n",
       "      <th>3</th>\n",
       "      <td>홍길북</td>\n",
       "      <td>22</td>\n",
       "      <td>buk@hong.com</td>\n",
       "      <td>서울시 관악구</td>\n",
       "      <td>1999-05-01</td>\n",
       "    </tr>\n",
       "    <tr>\n",
       "      <th>4</th>\n",
       "      <td>홍길중</td>\n",
       "      <td>23</td>\n",
       "      <td>mid@hong.com</td>\n",
       "      <td>부산시 중구</td>\n",
       "      <td>1999-01-30</td>\n",
       "    </tr>\n",
       "  </tbody>\n",
       "</table>\n",
       "</div>"
      ],
      "text/plain": [
       "  Name  Age          Email  Address       Birth\n",
       "0  홍길동   20  hong@hong.com  서울시 강동구  1999-01-01\n",
       "1  홍길서   30   seo@hong.com   서울시 중구  1999-12-01\n",
       "2  홍길남   21   nam@hong.com  서울시 강동구  1999-11-01\n",
       "3  홍길북   22   buk@hong.com  서울시 관악구  1999-05-01\n",
       "4  홍길중   23   mid@hong.com   부산시 중구  1999-01-30"
      ]
     },
     "execution_count": 46,
     "metadata": {},
     "output_type": "execute_result"
    }
   ],
   "source": [
    "# (4) sep='|', 상위5행만 읽어오기\n",
    "member = pd.read_csv('data/ch11_membersep.csv',\n",
    "                    sep='|',\n",
    "                    nrows=5)\n",
    "member"
   ]
  },
  {
   "cell_type": "markdown",
   "id": "32d8398e",
   "metadata": {},
   "source": [
    "## 2.4 패키지에서 가져오기: iris 데이터\n",
    "- iris 가져오기 방법1: sklearn (머신러닝 패키지)\n",
    "- iris 가져오기 방법2: statsmodels (R 데이터)  * 인터넷이 되어야만 이용 가능\n",
    "- iris 가져오기 방법3: seaborn(시각화 패키지), * matplotlib이 1세대, seaborn이 2세대\n",
    "### iris 가져오기 방법1: sklearn (머신러닝 패키지)"
   ]
  },
  {
   "cell_type": "code",
   "execution_count": 52,
   "id": "816a6a8b",
   "metadata": {},
   "outputs": [
    {
     "data": {
      "text/plain": [
       "dict_keys(['data', 'target', 'frame', 'target_names', 'DESCR', 'feature_names', 'filename', 'data_module'])"
      ]
     },
     "execution_count": 52,
     "metadata": {},
     "output_type": "execute_result"
    }
   ],
   "source": [
    "from sklearn import datasets\n",
    "# sklearn: 머신러닝 패키지(전처리함수, 머신러닝, 성능평가를 위한 함수, 학습데이터셋)\n",
    "iris = datasets.load_iris()\n",
    "iris.keys() # 딕셔너리 형태"
   ]
  },
  {
   "cell_type": "code",
   "execution_count": 53,
   "id": "9e054298",
   "metadata": {
    "collapsed": true
   },
   "outputs": [
    {
     "name": "stdout",
     "output_type": "stream",
     "text": [
      ".. _iris_dataset:\n",
      "\n",
      "Iris plants dataset\n",
      "--------------------\n",
      "\n",
      "**Data Set Characteristics:**\n",
      "\n",
      "    :Number of Instances: 150 (50 in each of three classes)\n",
      "    :Number of Attributes: 4 numeric, predictive attributes and the class\n",
      "    :Attribute Information:\n",
      "        - sepal length in cm\n",
      "        - sepal width in cm\n",
      "        - petal length in cm\n",
      "        - petal width in cm\n",
      "        - class:\n",
      "                - Iris-Setosa\n",
      "                - Iris-Versicolour\n",
      "                - Iris-Virginica\n",
      "                \n",
      "    :Summary Statistics:\n",
      "\n",
      "    ============== ==== ==== ======= ===== ====================\n",
      "                    Min  Max   Mean    SD   Class Correlation\n",
      "    ============== ==== ==== ======= ===== ====================\n",
      "    sepal length:   4.3  7.9   5.84   0.83    0.7826\n",
      "    sepal width:    2.0  4.4   3.05   0.43   -0.4194\n",
      "    petal length:   1.0  6.9   3.76   1.76    0.9490  (high!)\n",
      "    petal width:    0.1  2.5   1.20   0.76    0.9565  (high!)\n",
      "    ============== ==== ==== ======= ===== ====================\n",
      "\n",
      "    :Missing Attribute Values: None\n",
      "    :Class Distribution: 33.3% for each of 3 classes.\n",
      "    :Creator: R.A. Fisher\n",
      "    :Donor: Michael Marshall (MARSHALL%PLU@io.arc.nasa.gov)\n",
      "    :Date: July, 1988\n",
      "\n",
      "The famous Iris database, first used by Sir R.A. Fisher. The dataset is taken\n",
      "from Fisher's paper. Note that it's the same as in R, but not as in the UCI\n",
      "Machine Learning Repository, which has two wrong data points.\n",
      "\n",
      "This is perhaps the best known database to be found in the\n",
      "pattern recognition literature.  Fisher's paper is a classic in the field and\n",
      "is referenced frequently to this day.  (See Duda & Hart, for example.)  The\n",
      "data set contains 3 classes of 50 instances each, where each class refers to a\n",
      "type of iris plant.  One class is linearly separable from the other 2; the\n",
      "latter are NOT linearly separable from each other.\n",
      "\n",
      ".. topic:: References\n",
      "\n",
      "   - Fisher, R.A. \"The use of multiple measurements in taxonomic problems\"\n",
      "     Annual Eugenics, 7, Part II, 179-188 (1936); also in \"Contributions to\n",
      "     Mathematical Statistics\" (John Wiley, NY, 1950).\n",
      "   - Duda, R.O., & Hart, P.E. (1973) Pattern Classification and Scene Analysis.\n",
      "     (Q327.D83) John Wiley & Sons.  ISBN 0-471-22361-1.  See page 218.\n",
      "   - Dasarathy, B.V. (1980) \"Nosing Around the Neighborhood: A New System\n",
      "     Structure and Classification Rule for Recognition in Partially Exposed\n",
      "     Environments\".  IEEE Transactions on Pattern Analysis and Machine\n",
      "     Intelligence, Vol. PAMI-2, No. 1, 67-71.\n",
      "   - Gates, G.W. (1972) \"The Reduced Nearest Neighbor Rule\".  IEEE Transactions\n",
      "     on Information Theory, May 1972, 431-433.\n",
      "   - See also: 1988 MLC Proceedings, 54-64.  Cheeseman et al\"s AUTOCLASS II\n",
      "     conceptual clustering system finds 3 classes in the data.\n",
      "   - Many, many more ...\n"
     ]
    }
   ],
   "source": [
    "print(iris.DESCR) # iris데이터 셋에 대한 설명"
   ]
  },
  {
   "cell_type": "code",
   "execution_count": 54,
   "id": "2e204c88",
   "metadata": {},
   "outputs": [
    {
     "data": {
      "text/plain": [
       "array([[5.1, 3.5, 1.4, 0.2],\n",
       "       [4.9, 3. , 1.4, 0.2],\n",
       "       [4.7, 3.2, 1.3, 0.2]])"
      ]
     },
     "execution_count": 54,
     "metadata": {},
     "output_type": "execute_result"
    }
   ],
   "source": [
    "iris.data # 독립변수\n",
    "iris['data'][:3]"
   ]
  },
  {
   "cell_type": "code",
   "execution_count": 55,
   "id": "19c4b7da",
   "metadata": {},
   "outputs": [
    {
     "data": {
      "text/plain": [
       "['sepal length (cm)',\n",
       " 'sepal width (cm)',\n",
       " 'petal length (cm)',\n",
       " 'petal width (cm)']"
      ]
     },
     "execution_count": 55,
     "metadata": {},
     "output_type": "execute_result"
    }
   ],
   "source": [
    "iris.feature_names # 독립변수의 열이름\n",
    "iris['feature_names']"
   ]
  },
  {
   "cell_type": "code",
   "execution_count": 61,
   "id": "3a257f4a",
   "metadata": {},
   "outputs": [
    {
     "data": {
      "text/plain": [
       "['sepal_length', 'sepal_width', 'petal_length', 'petal_width', 'species']"
      ]
     },
     "execution_count": 61,
     "metadata": {},
     "output_type": "execute_result"
    }
   ],
   "source": [
    "# 데이터 프레임에서 열이름\n",
    "columns = [col[:-5].replace(' ','_') for col in iris.feature_names]+['species']\n",
    "columns"
   ]
  },
  {
   "cell_type": "code",
   "execution_count": 63,
   "id": "942491bf",
   "metadata": {},
   "outputs": [
    {
     "data": {
      "text/plain": [
       "array([0, 0, 0, 0, 0, 0, 0, 0, 0, 0, 0, 0, 0, 0, 0, 0, 0, 0, 0, 0, 0, 0,\n",
       "       0, 0, 0, 0, 0, 0, 0, 0, 0, 0, 0, 0, 0, 0, 0, 0, 0, 0, 0, 0, 0, 0,\n",
       "       0, 0, 0, 0, 0, 0, 1, 1, 1, 1, 1, 1, 1, 1, 1, 1, 1, 1, 1, 1, 1, 1,\n",
       "       1, 1, 1, 1, 1, 1, 1, 1, 1, 1, 1, 1, 1, 1, 1, 1, 1, 1, 1, 1, 1, 1,\n",
       "       1, 1, 1, 1, 1, 1, 1, 1, 1, 1, 1, 1, 2, 2, 2, 2, 2, 2, 2, 2, 2, 2,\n",
       "       2, 2, 2, 2, 2, 2, 2, 2, 2, 2, 2, 2, 2, 2, 2, 2, 2, 2, 2, 2, 2, 2,\n",
       "       2, 2, 2, 2, 2, 2, 2, 2, 2, 2, 2, 2, 2, 2, 2, 2, 2, 2])"
      ]
     },
     "execution_count": 63,
     "metadata": {},
     "output_type": "execute_result"
    }
   ],
   "source": [
    "# iris.target\n",
    "iris['target'] # 머신러닝시 종속변수"
   ]
  },
  {
   "cell_type": "code",
   "execution_count": 64,
   "id": "633b4dca",
   "metadata": {},
   "outputs": [
    {
     "data": {
      "text/plain": [
       "array(['setosa', 'versicolor', 'virginica'], dtype='<U10')"
      ]
     },
     "execution_count": 64,
     "metadata": {},
     "output_type": "execute_result"
    }
   ],
   "source": [
    "iris.target_names"
   ]
  },
  {
   "cell_type": "code",
   "execution_count": 65,
   "id": "7e9fc1d2",
   "metadata": {},
   "outputs": [
    {
     "data": {
      "text/plain": [
       "array(['setosa', 'setosa', 'setosa', 'setosa', 'setosa', 'setosa',\n",
       "       'setosa', 'setosa', 'setosa', 'setosa', 'setosa', 'setosa',\n",
       "       'setosa', 'setosa', 'setosa', 'setosa', 'setosa', 'setosa',\n",
       "       'setosa', 'setosa', 'setosa', 'setosa', 'setosa', 'setosa',\n",
       "       'setosa', 'setosa', 'setosa', 'setosa', 'setosa', 'setosa',\n",
       "       'setosa', 'setosa', 'setosa', 'setosa', 'setosa', 'setosa',\n",
       "       'setosa', 'setosa', 'setosa', 'setosa', 'setosa', 'setosa',\n",
       "       'setosa', 'setosa', 'setosa', 'setosa', 'setosa', 'setosa',\n",
       "       'setosa', 'setosa', 'versicolor', 'versicolor', 'versicolor',\n",
       "       'versicolor', 'versicolor', 'versicolor', 'versicolor',\n",
       "       'versicolor', 'versicolor', 'versicolor', 'versicolor',\n",
       "       'versicolor', 'versicolor', 'versicolor', 'versicolor',\n",
       "       'versicolor', 'versicolor', 'versicolor', 'versicolor',\n",
       "       'versicolor', 'versicolor', 'versicolor', 'versicolor',\n",
       "       'versicolor', 'versicolor', 'versicolor', 'versicolor',\n",
       "       'versicolor', 'versicolor', 'versicolor', 'versicolor',\n",
       "       'versicolor', 'versicolor', 'versicolor', 'versicolor',\n",
       "       'versicolor', 'versicolor', 'versicolor', 'versicolor',\n",
       "       'versicolor', 'versicolor', 'versicolor', 'versicolor',\n",
       "       'versicolor', 'versicolor', 'versicolor', 'versicolor',\n",
       "       'versicolor', 'versicolor', 'versicolor', 'virginica', 'virginica',\n",
       "       'virginica', 'virginica', 'virginica', 'virginica', 'virginica',\n",
       "       'virginica', 'virginica', 'virginica', 'virginica', 'virginica',\n",
       "       'virginica', 'virginica', 'virginica', 'virginica', 'virginica',\n",
       "       'virginica', 'virginica', 'virginica', 'virginica', 'virginica',\n",
       "       'virginica', 'virginica', 'virginica', 'virginica', 'virginica',\n",
       "       'virginica', 'virginica', 'virginica', 'virginica', 'virginica',\n",
       "       'virginica', 'virginica', 'virginica', 'virginica', 'virginica',\n",
       "       'virginica', 'virginica', 'virginica', 'virginica', 'virginica',\n",
       "       'virginica', 'virginica', 'virginica', 'virginica', 'virginica',\n",
       "       'virginica', 'virginica', 'virginica'], dtype='<U10')"
      ]
     },
     "execution_count": 65,
     "metadata": {},
     "output_type": "execute_result"
    }
   ],
   "source": [
    "# iris['target_names'][iris['target']]\n",
    "iris.target_names[iris.target]"
   ]
  },
  {
   "cell_type": "code",
   "execution_count": 66,
   "id": "bdf8d558",
   "metadata": {},
   "outputs": [
    {
     "data": {
      "text/plain": [
       "((150, 4), (150,))"
      ]
     },
     "execution_count": 66,
     "metadata": {},
     "output_type": "execute_result"
    }
   ],
   "source": [
    "# 독립변수\n",
    "data = iris.data\n",
    "# 종속변수\n",
    "target = iris.target_names[iris.target]\n",
    "data.shape, target.shape # 독립변수와 종속변수의 차원"
   ]
  },
  {
   "cell_type": "code",
   "execution_count": 67,
   "id": "387da599",
   "metadata": {},
   "outputs": [
    {
     "data": {
      "text/html": [
       "<div>\n",
       "<style scoped>\n",
       "    .dataframe tbody tr th:only-of-type {\n",
       "        vertical-align: middle;\n",
       "    }\n",
       "\n",
       "    .dataframe tbody tr th {\n",
       "        vertical-align: top;\n",
       "    }\n",
       "\n",
       "    .dataframe thead th {\n",
       "        text-align: right;\n",
       "    }\n",
       "</style>\n",
       "<table border=\"1\" class=\"dataframe\">\n",
       "  <thead>\n",
       "    <tr style=\"text-align: right;\">\n",
       "      <th></th>\n",
       "      <th>sepal_length</th>\n",
       "      <th>sepal_width</th>\n",
       "      <th>petal_length</th>\n",
       "      <th>petal_width</th>\n",
       "      <th>species</th>\n",
       "    </tr>\n",
       "  </thead>\n",
       "  <tbody>\n",
       "    <tr>\n",
       "      <th>0</th>\n",
       "      <td>5.1</td>\n",
       "      <td>3.5</td>\n",
       "      <td>1.4</td>\n",
       "      <td>0.2</td>\n",
       "      <td>setosa</td>\n",
       "    </tr>\n",
       "    <tr>\n",
       "      <th>1</th>\n",
       "      <td>4.9</td>\n",
       "      <td>3.0</td>\n",
       "      <td>1.4</td>\n",
       "      <td>0.2</td>\n",
       "      <td>setosa</td>\n",
       "    </tr>\n",
       "    <tr>\n",
       "      <th>2</th>\n",
       "      <td>4.7</td>\n",
       "      <td>3.2</td>\n",
       "      <td>1.3</td>\n",
       "      <td>0.2</td>\n",
       "      <td>setosa</td>\n",
       "    </tr>\n",
       "    <tr>\n",
       "      <th>3</th>\n",
       "      <td>4.6</td>\n",
       "      <td>3.1</td>\n",
       "      <td>1.5</td>\n",
       "      <td>0.2</td>\n",
       "      <td>setosa</td>\n",
       "    </tr>\n",
       "    <tr>\n",
       "      <th>4</th>\n",
       "      <td>5.0</td>\n",
       "      <td>3.6</td>\n",
       "      <td>1.4</td>\n",
       "      <td>0.2</td>\n",
       "      <td>setosa</td>\n",
       "    </tr>\n",
       "    <tr>\n",
       "      <th>...</th>\n",
       "      <td>...</td>\n",
       "      <td>...</td>\n",
       "      <td>...</td>\n",
       "      <td>...</td>\n",
       "      <td>...</td>\n",
       "    </tr>\n",
       "    <tr>\n",
       "      <th>145</th>\n",
       "      <td>6.7</td>\n",
       "      <td>3.0</td>\n",
       "      <td>5.2</td>\n",
       "      <td>2.3</td>\n",
       "      <td>virginica</td>\n",
       "    </tr>\n",
       "    <tr>\n",
       "      <th>146</th>\n",
       "      <td>6.3</td>\n",
       "      <td>2.5</td>\n",
       "      <td>5.0</td>\n",
       "      <td>1.9</td>\n",
       "      <td>virginica</td>\n",
       "    </tr>\n",
       "    <tr>\n",
       "      <th>147</th>\n",
       "      <td>6.5</td>\n",
       "      <td>3.0</td>\n",
       "      <td>5.2</td>\n",
       "      <td>2.0</td>\n",
       "      <td>virginica</td>\n",
       "    </tr>\n",
       "    <tr>\n",
       "      <th>148</th>\n",
       "      <td>6.2</td>\n",
       "      <td>3.4</td>\n",
       "      <td>5.4</td>\n",
       "      <td>2.3</td>\n",
       "      <td>virginica</td>\n",
       "    </tr>\n",
       "    <tr>\n",
       "      <th>149</th>\n",
       "      <td>5.9</td>\n",
       "      <td>3.0</td>\n",
       "      <td>5.1</td>\n",
       "      <td>1.8</td>\n",
       "      <td>virginica</td>\n",
       "    </tr>\n",
       "  </tbody>\n",
       "</table>\n",
       "<p>150 rows × 5 columns</p>\n",
       "</div>"
      ],
      "text/plain": [
       "    sepal_length sepal_width petal_length petal_width    species\n",
       "0            5.1         3.5          1.4         0.2     setosa\n",
       "1            4.9         3.0          1.4         0.2     setosa\n",
       "2            4.7         3.2          1.3         0.2     setosa\n",
       "3            4.6         3.1          1.5         0.2     setosa\n",
       "4            5.0         3.6          1.4         0.2     setosa\n",
       "..           ...         ...          ...         ...        ...\n",
       "145          6.7         3.0          5.2         2.3  virginica\n",
       "146          6.3         2.5          5.0         1.9  virginica\n",
       "147          6.5         3.0          5.2         2.0  virginica\n",
       "148          6.2         3.4          5.4         2.3  virginica\n",
       "149          5.9         3.0          5.1         1.8  virginica\n",
       "\n",
       "[150 rows x 5 columns]"
      ]
     },
     "execution_count": 67,
     "metadata": {},
     "output_type": "execute_result"
    }
   ],
   "source": [
    "# 독립변수와 종속변수를 stack한 후 데이터프레임으로 구성\n",
    "pd.DataFrame(data=np.hstack( (data, target.reshape(-1,1) ) ),\n",
    "            columns=columns)"
   ]
  },
  {
   "cell_type": "code",
   "execution_count": null,
   "id": "adffd437",
   "metadata": {},
   "outputs": [],
   "source": []
  },
  {
   "cell_type": "code",
   "execution_count": null,
   "id": "2fee5c79",
   "metadata": {},
   "outputs": [],
   "source": []
  },
  {
   "cell_type": "markdown",
   "id": "3ad80547",
   "metadata": {},
   "source": [
    "### iris 가져오기 방법2: statsmodels (R 데이터)  * 인터넷이 되어야만 이용 가능"
   ]
  },
  {
   "cell_type": "markdown",
   "id": "59a33061",
   "metadata": {},
   "source": [
    "\n",
    "### iris 가져오기 방법3: seaborn(시각화 패키지), * matplotlib이 1세대, seaborn이 2세대"
   ]
  }
 ],
 "metadata": {
  "kernelspec": {
   "display_name": "Python 3 (ipykernel)",
   "language": "python",
   "name": "python3"
  },
  "language_info": {
   "codemirror_mode": {
    "name": "ipython",
    "version": 3
   },
   "file_extension": ".py",
   "mimetype": "text/x-python",
   "name": "python",
   "nbconvert_exporter": "python",
   "pygments_lexer": "ipython3",
   "version": "3.10.9"
  },
  "toc": {
   "base_numbering": 1,
   "nav_menu": {},
   "number_sections": false,
   "sideBar": true,
   "skip_h1_title": false,
   "title_cell": "Table of Contents",
   "title_sidebar": "Contents",
   "toc_cell": false,
   "toc_position": {
    "height": "calc(100% - 180px)",
    "left": "10px",
    "top": "150px",
    "width": "213.188px"
   },
   "toc_section_display": true,
   "toc_window_display": true
  }
 },
 "nbformat": 4,
 "nbformat_minor": 5
}
