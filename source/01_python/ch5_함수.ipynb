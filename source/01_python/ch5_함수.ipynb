{
 "cells": [
  {
   "cell_type": "code",
   "execution_count": 22,
   "id": "ea65c91f",
   "metadata": {},
   "outputs": [
    {
     "data": {
      "text/html": [
       "\n",
       "<style>\n",
       "div.container{width:86% !important;}\n",
       "div.cell.code_cell.rendered{width:100%;}\n",
       "div.CodeMirror {font-family:Consolas; font-size:15pt;}\n",
       "div.output {font-size:15pt; font-weight:bold;}\n",
       "div.input {font-family:Consolas; font-size:15pt;}\n",
       "div.prompt {min-width:70px;}\n",
       "div#toc-wrapper{padding-top:120px;}\n",
       "div.text_cell_render ul li{font-size:12pt;padding:5px;}\n",
       "table.dataframe{font-size:15px;}\n",
       "</style>\n"
      ],
      "text/plain": [
       "<IPython.core.display.HTML object>"
      ]
     },
     "metadata": {},
     "output_type": "display_data"
    }
   ],
   "source": [
    "from IPython.display import display, HTML \n",
    "display(HTML(\"\"\"\n",
    "<style>\n",
    "div.container{width:86% !important;}\n",
    "div.cell.code_cell.rendered{width:100%;}\n",
    "div.CodeMirror {font-family:Consolas; font-size:15pt;}\n",
    "div.output {font-size:15pt; font-weight:bold;}\n",
    "div.input {font-family:Consolas; font-size:15pt;}\n",
    "div.prompt {min-width:70px;}\n",
    "div#toc-wrapper{padding-top:120px;}\n",
    "div.text_cell_render ul li{font-size:12pt;padding:5px;}\n",
    "table.dataframe{font-size:15px;}\n",
    "</style>\n",
    "\"\"\"))"
   ]
  },
  {
   "cell_type": "markdown",
   "id": "e43cb8b3",
   "metadata": {},
   "source": [
    "<b><font size=\"5\" color=\"red\">ch05. 함수 </font></b>\n",
    "- 사용할 코드를 묶어 놓고 그것에 이름을 붙인 것\n",
    "- 오버로딩(함수 이름이 같고, 매배변수의 갯수로 갯수로 다른 함수를 허용하는것) 불가\n",
    "- 함수 정의\n",
    "```\n",
    "def 함수명([매개변수1, .. 매개변수n]):\n",
    "    명령어1\n",
    "    명령어2\n",
    "    ...\n",
    "    명령어n\n",
    "```\n",
    "# 1절. 함수의 정의 및 사용\n",
    "## 1.1 함수 정의"
   ]
  },
  {
   "cell_type": "code",
   "execution_count": 13,
   "id": "6ed58194",
   "metadata": {},
   "outputs": [],
   "source": [
    "# 함수 정의\n",
    "def my_message(x, msg): # mag를 x번 출력하는 함수\n",
    "    for i in range(x):\n",
    "        print(msg)"
   ]
  },
  {
   "cell_type": "code",
   "execution_count": 8,
   "id": "074495d1",
   "metadata": {},
   "outputs": [
    {
     "name": "stdout",
     "output_type": "stream",
     "text": [
      "Hello\n",
      "Hello\n",
      "Hello\n",
      "Hello\n",
      "Hello\n"
     ]
    }
   ],
   "source": [
    "# 함수 사용\n",
    "my_message(5, 'Hello')"
   ]
  },
  {
   "cell_type": "code",
   "execution_count": 9,
   "id": "49fcd87a",
   "metadata": {},
   "outputs": [
    {
     "name": "stdout",
     "output_type": "stream",
     "text": [
      "hello\n",
      "hello\n",
      "hello\n"
     ]
    }
   ],
   "source": [
    "my_msg = my_message\n",
    "my_msg(3, 'hello')"
   ]
  },
  {
   "cell_type": "code",
   "execution_count": 11,
   "id": "f6ce0faa",
   "metadata": {},
   "outputs": [
    {
     "data": {
      "text/plain": [
       "(function, function)"
      ]
     },
     "execution_count": 11,
     "metadata": {},
     "output_type": "execute_result"
    }
   ],
   "source": [
    "type(my_msg), type(my_message)"
   ]
  },
  {
   "cell_type": "code",
   "execution_count": 12,
   "id": "40d72eb3",
   "metadata": {},
   "outputs": [
    {
     "name": "stdout",
     "output_type": "stream",
     "text": [
      "Hello\n",
      "Hello\n"
     ]
    }
   ],
   "source": [
    "print('Hello') # 파이썬 내장함수 (import하지 않고 사용할 수 있는 함수)\n",
    "print = 5\n",
    "# print('Hello')\n",
    "del print\n",
    "print('Hello')"
   ]
  },
  {
   "cell_type": "code",
   "execution_count": 14,
   "id": "bb4d2e99",
   "metadata": {},
   "outputs": [
    {
     "name": "stdout",
     "output_type": "stream",
     "text": [
      "Hello\n",
      "Hello\n"
     ]
    }
   ],
   "source": [
    "my_message(2, 'Hello')"
   ]
  },
  {
   "cell_type": "code",
   "execution_count": 15,
   "id": "abbd24e1",
   "metadata": {},
   "outputs": [],
   "source": [
    "my_message = 5"
   ]
  },
  {
   "cell_type": "code",
   "execution_count": 16,
   "id": "0c0bbc7b",
   "metadata": {},
   "outputs": [
    {
     "ename": "TypeError",
     "evalue": "'int' object is not callable",
     "output_type": "error",
     "traceback": [
      "\u001b[1;31m---------------------------------------------------------------------------\u001b[0m",
      "\u001b[1;31mTypeError\u001b[0m                                 Traceback (most recent call last)",
      "Cell \u001b[1;32mIn[16], line 1\u001b[0m\n\u001b[1;32m----> 1\u001b[0m \u001b[43mmy_message\u001b[49m\u001b[43m(\u001b[49m\u001b[38;5;241;43m2\u001b[39;49m\u001b[43m,\u001b[49m\u001b[43m \u001b[49m\u001b[38;5;124;43m'\u001b[39;49m\u001b[38;5;124;43mHello\u001b[39;49m\u001b[38;5;124;43m'\u001b[39;49m\u001b[43m)\u001b[49m\n",
      "\u001b[1;31mTypeError\u001b[0m: 'int' object is not callable"
     ]
    }
   ],
   "source": [
    "my_message(2, 'Hello')"
   ]
  },
  {
   "cell_type": "code",
   "execution_count": 17,
   "id": "8305b343",
   "metadata": {},
   "outputs": [],
   "source": [
    "del my_message\n",
    "# 변수를 삭제해도 함수 사용불가 (파이썬 내장함수가 아니라서...)"
   ]
  },
  {
   "cell_type": "code",
   "execution_count": 18,
   "id": "ce8cc40c",
   "metadata": {},
   "outputs": [
    {
     "ename": "NameError",
     "evalue": "name 'my_message' is not defined",
     "output_type": "error",
     "traceback": [
      "\u001b[1;31m---------------------------------------------------------------------------\u001b[0m",
      "\u001b[1;31mNameError\u001b[0m                                 Traceback (most recent call last)",
      "Cell \u001b[1;32mIn[18], line 1\u001b[0m\n\u001b[1;32m----> 1\u001b[0m \u001b[43mmy_message\u001b[49m(\u001b[38;5;241m2\u001b[39m, \u001b[38;5;124m'\u001b[39m\u001b[38;5;124mHello\u001b[39m\u001b[38;5;124m'\u001b[39m)\n",
      "\u001b[1;31mNameError\u001b[0m: name 'my_message' is not defined"
     ]
    }
   ],
   "source": [
    "my_message(2, 'Hello')"
   ]
  },
  {
   "cell_type": "code",
   "execution_count": 27,
   "id": "73dbe0e4",
   "metadata": {},
   "outputs": [],
   "source": [
    "# 함수 정의 : 4월16일(수)\n",
    "# def my_hello():\n",
    "#     print('Hello, Python')\n",
    "#     print('Hello, World')\n",
    "    \n",
    "def my_hello(cnt):  # 재정의(오버로딩) 안됨\n",
    "    for i in range(cnt):\n",
    "        print('Hello, Python')\n",
    "        print('Hello, World')      "
   ]
  },
  {
   "cell_type": "code",
   "execution_count": 28,
   "id": "f3576eda",
   "metadata": {},
   "outputs": [
    {
     "name": "stdout",
     "output_type": "stream",
     "text": [
      "Hello, Python\n",
      "Hello, World\n",
      "Hello, Python\n",
      "Hello, World\n"
     ]
    }
   ],
   "source": [
    "# 함수사용=함수호출\n",
    "my_hello(2)"
   ]
  },
  {
   "cell_type": "code",
   "execution_count": 29,
   "id": "71f0d53f",
   "metadata": {},
   "outputs": [
    {
     "data": {
      "text/plain": [
       "<function __main__.my_hello(cnt)>"
      ]
     },
     "execution_count": 29,
     "metadata": {},
     "output_type": "execute_result"
    }
   ],
   "source": [
    "my_hello"
   ]
  },
  {
   "cell_type": "code",
   "execution_count": 31,
   "id": "26c00081",
   "metadata": {},
   "outputs": [
    {
     "data": {
      "text/plain": [
       "'__main__'"
      ]
     },
     "execution_count": 31,
     "metadata": {},
     "output_type": "execute_result"
    }
   ],
   "source": [
    "__name__"
   ]
  },
  {
   "cell_type": "code",
   "execution_count": 33,
   "id": "83aca87a",
   "metadata": {},
   "outputs": [
    {
     "name": "stdout",
     "output_type": "stream",
     "text": [
      "Hello, Python\n",
      "Hello, World\n",
      "Hello, Python\n",
      "Hello, World\n"
     ]
    }
   ],
   "source": [
    "if __name__=='__main__':\n",
    "    my_hello(2)"
   ]
  },
  {
   "cell_type": "code",
   "execution_count": 9,
   "id": "29fc1c69",
   "metadata": {},
   "outputs": [],
   "source": [
    "import ch05 # ch05 모듈을 load"
   ]
  },
  {
   "cell_type": "code",
   "execution_count": null,
   "id": "d5fe3d4f",
   "metadata": {},
   "outputs": [],
   "source": [
    "ch05.my_hello(3)"
   ]
  },
  {
   "cell_type": "code",
   "execution_count": 6,
   "id": "0781aed9",
   "metadata": {},
   "outputs": [],
   "source": [
    "del ch05"
   ]
  },
  {
   "cell_type": "code",
   "execution_count": 10,
   "id": "27e7b214",
   "metadata": {},
   "outputs": [],
   "source": [
    "from ch05 import my_hello # cho5 모듈 안에 my_hello load"
   ]
  },
  {
   "cell_type": "markdown",
   "id": "978d0b56",
   "metadata": {},
   "source": [
    "## 1.2 docstring"
   ]
  },
  {
   "cell_type": "code",
   "execution_count": 14,
   "id": "e0c2d24e",
   "metadata": {},
   "outputs": [],
   "source": [
    "def my_function():\n",
    "    '''\n",
    "    함수의 첫라인에 독스트링을 포함할 수 있습니다.\n",
    "    독스트링은 함수의 설명서를 달아주는 역할\n",
    "    주석보다 많은 기능(shift+tab으로 독스트링을 볼 수 있음)\n",
    "    '''\n",
    "    pass"
   ]
  },
  {
   "cell_type": "code",
   "execution_count": 15,
   "id": "8cb7e66b",
   "metadata": {},
   "outputs": [
    {
     "name": "stdout",
     "output_type": "stream",
     "text": [
      "\n",
      "    함수의 첫라인에 독스트링을 포함할 수 있습니다.\n",
      "    독스트링은 함수의 설명서를 달아주는 역할\n",
      "    주석보다 많은 기능(shift+tab으로 독스트링을 볼 수 있음)\n",
      "    \n"
     ]
    }
   ],
   "source": [
    "print(my_function.__doc__)"
   ]
  },
  {
   "cell_type": "code",
   "execution_count": 16,
   "id": "19c2f975",
   "metadata": {},
   "outputs": [
    {
     "name": "stdout",
     "output_type": "stream",
     "text": [
      "print(value, ..., sep=' ', end='\\n', file=sys.stdout, flush=False)\n",
      "\n",
      "Prints the values to a stream, or to sys.stdout by default.\n",
      "Optional keyword arguments:\n",
      "file:  a file-like object (stream); defaults to the current sys.stdout.\n",
      "sep:   string inserted between values, default a space.\n",
      "end:   string appended after the last value, default a newline.\n",
      "flush: whether to forcibly flush the stream.\n"
     ]
    }
   ],
   "source": [
    "print(print.__doc__)"
   ]
  },
  {
   "cell_type": "code",
   "execution_count": 17,
   "id": "3480c89a",
   "metadata": {},
   "outputs": [],
   "source": [
    "def fibonacci(n):\n",
    "    a, b = 0, 1\n",
    "    while a < 10:\n",
    "        print(a, end=' ')\n",
    "        a, b = b, a+b\n",
    "    print() # 개행"
   ]
  },
  {
   "cell_type": "code",
   "execution_count": 18,
   "id": "d799ffd4",
   "metadata": {},
   "outputs": [
    {
     "name": "stdout",
     "output_type": "stream",
     "text": [
      "0 1 1 2 3 5 8 \n"
     ]
    }
   ],
   "source": [
    "fibonacci(10)"
   ]
  },
  {
   "cell_type": "code",
   "execution_count": 19,
   "id": "5fa1fa05",
   "metadata": {},
   "outputs": [],
   "source": [
    "if True:\n",
    "    x = 10"
   ]
  },
  {
   "cell_type": "code",
   "execution_count": 20,
   "id": "20e2f206",
   "metadata": {},
   "outputs": [
    {
     "data": {
      "text/plain": [
       "10"
      ]
     },
     "execution_count": 20,
     "metadata": {},
     "output_type": "execute_result"
    }
   ],
   "source": [
    "x"
   ]
  },
  {
   "cell_type": "code",
   "execution_count": 21,
   "id": "a8b750a1",
   "metadata": {},
   "outputs": [
    {
     "ename": "NameError",
     "evalue": "name 'a' is not defined",
     "output_type": "error",
     "traceback": [
      "\u001b[1;31m---------------------------------------------------------------------------\u001b[0m",
      "\u001b[1;31mNameError\u001b[0m                                 Traceback (most recent call last)",
      "Cell \u001b[1;32mIn[21], line 1\u001b[0m\n\u001b[1;32m----> 1\u001b[0m \u001b[43ma\u001b[49m, b\n",
      "\u001b[1;31mNameError\u001b[0m: name 'a' is not defined"
     ]
    }
   ],
   "source": [
    "a, b # 함수는 실행이 끝나면 함수 내 변수는 사라짐"
   ]
  },
  {
   "cell_type": "markdown",
   "id": "0a32fe37",
   "metadata": {},
   "source": [
    "## 1.3 지역변수(local var)와 전역변수(gloval var)"
   ]
  },
  {
   "cell_type": "code",
   "execution_count": 28,
   "id": "c64be052",
   "metadata": {},
   "outputs": [
    {
     "name": "stdout",
     "output_type": "stream",
     "text": [
      "함수안 100\n",
      "함수밖 100\n"
     ]
    }
   ],
   "source": [
    "gloval_var =  100 # 전역변수\n",
    "def func1():\n",
    "    print('함수안', gloval_var)\n",
    "func1() \n",
    "print('함수밖', gloval_var)"
   ]
  },
  {
   "cell_type": "code",
   "execution_count": 29,
   "id": "ae5c1525",
   "metadata": {},
   "outputs": [
    {
     "name": "stdout",
     "output_type": "stream",
     "text": [
      "함수안 200\n"
     ]
    },
    {
     "ename": "NameError",
     "evalue": "name 'local_var' is not defined",
     "output_type": "error",
     "traceback": [
      "\u001b[1;31m---------------------------------------------------------------------------\u001b[0m",
      "\u001b[1;31mNameError\u001b[0m                                 Traceback (most recent call last)",
      "Cell \u001b[1;32mIn[29], line 5\u001b[0m\n\u001b[0;32m      3\u001b[0m     \u001b[38;5;28mprint\u001b[39m(\u001b[38;5;124m'\u001b[39m\u001b[38;5;124m함수안\u001b[39m\u001b[38;5;124m'\u001b[39m, local_var)\n\u001b[0;32m      4\u001b[0m func2() \n\u001b[1;32m----> 5\u001b[0m \u001b[38;5;28mprint\u001b[39m(\u001b[38;5;124m'\u001b[39m\u001b[38;5;124m함수밖\u001b[39m\u001b[38;5;124m'\u001b[39m, \u001b[43mlocal_var\u001b[49m)\n",
      "\u001b[1;31mNameError\u001b[0m: name 'local_var' is not defined"
     ]
    }
   ],
   "source": [
    "def func2():\n",
    "    local_var = 200 # 지역변수\n",
    "    print('함수안', local_var)\n",
    "func2() \n",
    "print('함수밖', local_var)"
   ]
  },
  {
   "cell_type": "code",
   "execution_count": 30,
   "id": "024b969c",
   "metadata": {},
   "outputs": [
    {
     "name": "stdout",
     "output_type": "stream",
     "text": [
      "1882732957008\n",
      "1882732960208\n",
      "함수안 200\n",
      "함수밖 100\n"
     ]
    }
   ],
   "source": [
    "g_var = 100 # 전역변수\n",
    "print(id(g_var))\n",
    "def func3():\n",
    "    g_var = 200 # 지역변수\n",
    "    print(id(g_var))\n",
    "    print('함수안', g_var)\n",
    "func3() \n",
    "print('함수밖', g_var)"
   ]
  },
  {
   "cell_type": "code",
   "execution_count": 36,
   "id": "1efb458d",
   "metadata": {},
   "outputs": [
    {
     "name": "stdout",
     "output_type": "stream",
     "text": [
      "함수 안 g_var : 100\n",
      "함수 밖 g_var : 200\n"
     ]
    }
   ],
   "source": [
    "# 렉시컬 특성    * 참조 순서 : 로컬심볼테이블 > 전역 심볼테이블 > 내장된 이름테이블\n",
    "g_var = 100 # 전역변수\n",
    "def func4():\n",
    "    global g_var # func4함수내의 g_var는 전역변를 쓴다\n",
    "    print('함수 안 g_var :', g_var)\n",
    "    g_var = 200 # 전역변수\n",
    "func4()\n",
    "print('함수 밖 g_var :', g_var)"
   ]
  },
  {
   "cell_type": "markdown",
   "id": "677e1c48",
   "metadata": {},
   "source": [
    "## 1.4 값에 의한 호출\n",
    "- 함수의 매개변수(인수)로 전달되는 변수 스칼라 변수(문자, 숫자, 논리형)일 때"
   ]
  },
  {
   "cell_type": "code",
   "execution_count": 51,
   "id": "e406287b",
   "metadata": {},
   "outputs": [
    {
     "data": {
      "text/plain": [
       "1882732954128"
      ]
     },
     "execution_count": 51,
     "metadata": {},
     "output_type": "execute_result"
    }
   ],
   "source": [
    "foo = 10 # 전역변수\n",
    "id(foo)"
   ]
  },
  {
   "cell_type": "code",
   "execution_count": 53,
   "id": "d218337d",
   "metadata": {},
   "outputs": [
    {
     "name": "stdout",
     "output_type": "stream",
     "text": [
      "Before : 10 id(f) : 1882732954128\n",
      "After  : 30 id(f) : 1882732954768\n"
     ]
    }
   ],
   "source": [
    "def func1(f): # 매개변수 f는 지역변수\n",
    "    print('Before :', f, 'id(f) :', id(f))\n",
    "    f = f*3\n",
    "    print('After  :', f, 'id(f) :', id(f))\n",
    "func1(foo)"
   ]
  },
  {
   "cell_type": "code",
   "execution_count": 40,
   "id": "5d61d1c4",
   "metadata": {},
   "outputs": [
    {
     "name": "stdout",
     "output_type": "stream",
     "text": [
      "a\n"
     ]
    }
   ],
   "source": [
    "print(foo)"
   ]
  },
  {
   "cell_type": "markdown",
   "id": "8ec758e4",
   "metadata": {},
   "source": [
    "## 1.5 참조에 의한 호출\n",
    "- 함수의 매개변수(인자)로 전달되는 변수가 리스트, 튜플, 셋, 딕셔너리 등의 객체일 경우"
   ]
  },
  {
   "cell_type": "code",
   "execution_count": 55,
   "id": "1cb4052e",
   "metadata": {},
   "outputs": [
    {
     "data": {
      "text/plain": [
       "1882850393856"
      ]
     },
     "execution_count": 55,
     "metadata": {},
     "output_type": "execute_result"
    }
   ],
   "source": [
    "L = [1, 2, 3]\n",
    "id(L)"
   ]
  },
  {
   "cell_type": "code",
   "execution_count": 57,
   "id": "cd3ed44c",
   "metadata": {},
   "outputs": [
    {
     "name": "stdout",
     "output_type": "stream",
     "text": [
      "Before : [1, 2, 3] id(f) : 1882850393856\n",
      "After  : [1, 2, 3, 4] id(f) : 1882850393856\n",
      "L = [1, 2, 3, 4]\n"
     ]
    },
    {
     "data": {
      "text/plain": [
       "1882850393856"
      ]
     },
     "execution_count": 57,
     "metadata": {},
     "output_type": "execute_result"
    }
   ],
   "source": [
    "def func2(f): # 매개변수는 지역변수\n",
    "    print('Before :', f, 'id(f) :', id(f))\n",
    "    f.append(4)\n",
    "    print('After  :', f, 'id(f) :', id(f))\n",
    "    \n",
    "func2(L)\n",
    "\n",
    "print('L =', L)\n",
    "id(L)"
   ]
  },
  {
   "cell_type": "markdown",
   "id": "29fdbd2a",
   "metadata": {},
   "source": [
    "# 2절. 함수의 실행결과를 반환하는 return"
   ]
  },
  {
   "cell_type": "code",
   "execution_count": 58,
   "id": "7964947b",
   "metadata": {},
   "outputs": [],
   "source": [
    "def add(x, y):\n",
    "    return x + y # return 이후 명령문은 미실행"
   ]
  },
  {
   "cell_type": "code",
   "execution_count": 59,
   "id": "4016f4c3",
   "metadata": {},
   "outputs": [
    {
     "data": {
      "text/plain": [
       "5"
      ]
     },
     "execution_count": 59,
     "metadata": {},
     "output_type": "execute_result"
    }
   ],
   "source": [
    "i, j = 2, 3\n",
    "add(i, j)"
   ]
  },
  {
   "cell_type": "code",
   "execution_count": 60,
   "id": "f14896ff",
   "metadata": {},
   "outputs": [
    {
     "data": {
      "text/plain": [
       "True"
      ]
     },
     "execution_count": 60,
     "metadata": {},
     "output_type": "execute_result"
    }
   ],
   "source": [
    "def add():\n",
    "    return True\n",
    "add()"
   ]
  },
  {
   "cell_type": "code",
   "execution_count": 62,
   "id": "9ed0a578",
   "metadata": {},
   "outputs": [
    {
     "name": "stdout",
     "output_type": "stream",
     "text": [
      "None\n"
     ]
    }
   ],
   "source": [
    "def add(a):\n",
    "    pass\n",
    "print(add(10))"
   ]
  },
  {
   "cell_type": "code",
   "execution_count": 76,
   "id": "10e85c32",
   "metadata": {},
   "outputs": [],
   "source": [
    "def fibonacci_print(n):\n",
    "    '''\n",
    "    매개변수로 들어온 n값 미만의 피보나치 수열을 출력\n",
    "    ex. n=10이면 0 1 1 2 3 5 8을 출력\n",
    "    '''\n",
    "    a, b = 0, 1\n",
    "    while a < 10:\n",
    "        print(a, end=' ')\n",
    "        a, b = b, a+b\n",
    "    print() # 개행\n",
    "    \n",
    "def fibonacci_return(n):\n",
    "    '''\n",
    "    매개변수로 들어온 n값 미만의 피보나치 수열을 리스트로 return\n",
    "    ex. n=10이면 0 1 1 2 3 5 8을 return\n",
    "    '''\n",
    "    result = []\n",
    "    a, b = 0, 1\n",
    "    while a < 10:\n",
    "        result.append(a)\n",
    "        a, b = b, a+b\n",
    "    print() # 개행\n",
    "    return result  # return은 하나만 가능?"
   ]
  },
  {
   "cell_type": "code",
   "execution_count": 80,
   "id": "80dcb3cb",
   "metadata": {},
   "outputs": [
    {
     "name": "stdout",
     "output_type": "stream",
     "text": [
      "0 1 1 2 3 5 8 \n",
      "None\n",
      "<class 'NoneType'>\n",
      "\n",
      "[0, 1, 1, 2, 3, 5, 8]\n",
      "<class 'list'>\n"
     ]
    }
   ],
   "source": [
    "x = fibonacci_print(100)\n",
    "print(x)\n",
    "print(type(x))\n",
    "x = fibonacci_return(100)\n",
    "print(x)\n",
    "print(type(x))"
   ]
  },
  {
   "cell_type": "markdown",
   "id": "1a76e4f1",
   "metadata": {},
   "source": [
    "## 여러개 값 return"
   ]
  },
  {
   "cell_type": "code",
   "execution_count": 81,
   "id": "52edac8a",
   "metadata": {},
   "outputs": [],
   "source": [
    "def swap(a, b):\n",
    "    '매개변수의 순서를 바꿔서 return'\n",
    "    return b, a  # 여러 값이 return될 때에는 하나의 튜플로 만들어서 return"
   ]
  },
  {
   "cell_type": "code",
   "execution_count": 85,
   "id": "1002fdfc",
   "metadata": {},
   "outputs": [
    {
     "name": "stdout",
     "output_type": "stream",
     "text": [
      "함수 실행 전 x=5, y =10\n",
      "함수 실행 후 x=10, y =5\n"
     ]
    }
   ],
   "source": [
    "x, y = 5, 10\n",
    "print(f'함수 실행 전 x={x}, y ={y}')\n",
    "x, y = swap(x, y)\n",
    "print(f'함수 실행 후 x={x}, y ={y}')"
   ]
  },
  {
   "cell_type": "markdown",
   "id": "6c87ad6b",
   "metadata": {},
   "source": [
    "# 3절. 함수의 매개변수 ★\n",
    "## 3.1 기본값을 갖는 매개변수"
   ]
  },
  {
   "cell_type": "code",
   "execution_count": 90,
   "id": "5688c698",
   "metadata": {},
   "outputs": [],
   "source": [
    "def make_url(ip, port=80): # 순서인수 (ip) > 기본값을 갖는 매개변수 (port=80) (순서 중요!!!)\n",
    "    return \"http://{}:{}\".format(ip, port)"
   ]
  },
  {
   "cell_type": "code",
   "execution_count": 93,
   "id": "ef753f8a",
   "metadata": {},
   "outputs": [
    {
     "name": "stdout",
     "output_type": "stream",
     "text": [
      "http://www.naver.com:80\n",
      "http://localhost:8090\n",
      "http://localhost:8090\n"
     ]
    }
   ],
   "source": [
    "print(make_url('www.naver.com'))\n",
    "print(make_url('localhost', 8090))\n",
    "print(make_url(port=8090, ip='localhost'))"
   ]
  },
  {
   "cell_type": "markdown",
   "id": "9c87836f",
   "metadata": {},
   "source": [
    "## 3.2 기본 변수를 갖는 매개변수\n",
    "- 기본변수가 스칼라 변수일 때\n",
    "- 기본변수가 리스트, 셋, 딕셔너리 등의 객체일 때"
   ]
  },
  {
   "cell_type": "code",
   "execution_count": 104,
   "id": "ae67d1d3",
   "metadata": {},
   "outputs": [
    {
     "name": "stdout",
     "output_type": "stream",
     "text": [
      "1882732953968\n"
     ]
    }
   ],
   "source": [
    "i = 5\n",
    "print(id(i))\n",
    "# 기본값을 갖는 변수가 스칼라 변수일 때 : arg의 함수가 정의되는 시점의 값\n",
    "def func2(arg=i):\n",
    "    print('arg= ',arg, id(arg))\n"
   ]
  },
  {
   "cell_type": "code",
   "execution_count": 105,
   "id": "eb9b85b8",
   "metadata": {},
   "outputs": [
    {
     "name": "stdout",
     "output_type": "stream",
     "text": [
      "1882732955408\n",
      "arg=  5 1882732953968\n"
     ]
    }
   ],
   "source": [
    "i = 50\n",
    "print(id(i))\n",
    "func2()"
   ]
  },
  {
   "cell_type": "code",
   "execution_count": 107,
   "id": "82a6eab2",
   "metadata": {},
   "outputs": [],
   "source": [
    "list_ = []\n",
    "# 기본값을 갖는 변수가 객체(데이타구조)일 때 : arg의 기본값은 호출되는 시점의 값\n",
    "def func3(data, L=list_):\n",
    "    'data를 L에 append'\n",
    "    L.append(data)\n",
    "    return L"
   ]
  },
  {
   "cell_type": "code",
   "execution_count": 108,
   "id": "6c4b6da4",
   "metadata": {},
   "outputs": [
    {
     "name": "stdout",
     "output_type": "stream",
     "text": [
      "[10]\n"
     ]
    }
   ],
   "source": [
    "print(func3(10)) # list_가 수정 된 결과 : [10]"
   ]
  },
  {
   "cell_type": "code",
   "execution_count": 110,
   "id": "775f3c11",
   "metadata": {},
   "outputs": [
    {
     "name": "stdout",
     "output_type": "stream",
     "text": [
      "[10, 20]\n"
     ]
    }
   ],
   "source": [
    "print(func3(20))"
   ]
  },
  {
   "cell_type": "code",
   "execution_count": 111,
   "id": "d4a4328c",
   "metadata": {},
   "outputs": [
    {
     "data": {
      "text/plain": [
       "[10, 20]"
      ]
     },
     "execution_count": 111,
     "metadata": {},
     "output_type": "execute_result"
    }
   ],
   "source": [
    "list_"
   ]
  },
  {
   "cell_type": "code",
   "execution_count": 112,
   "id": "db34671a",
   "metadata": {},
   "outputs": [],
   "source": [
    "def func4(data, L=None):\n",
    "    if L==None:\n",
    "        L = []\n",
    "    L.append(data)\n",
    "    return L"
   ]
  },
  {
   "cell_type": "code",
   "execution_count": 113,
   "id": "22db8b72",
   "metadata": {},
   "outputs": [
    {
     "name": "stdout",
     "output_type": "stream",
     "text": [
      "[10]\n",
      "[10, 20, 10]\n"
     ]
    }
   ],
   "source": [
    "print(func4(10))\n",
    "print(func4(10, list_))"
   ]
  },
  {
   "cell_type": "markdown",
   "id": "a35c5d24",
   "metadata": {},
   "source": [
    "## 3.3 튜플 매개변수를 이용한 가변인수 설정"
   ]
  },
  {
   "cell_type": "code",
   "execution_count": 116,
   "id": "ee356116",
   "metadata": {},
   "outputs": [],
   "source": [
    "# 파이썬은 오버로딩(함수의 중복)을 지원하지 않습니다\n",
    "def add(a, b):\n",
    "    return a+b\n",
    "def add(a, b, c):\n",
    "    return a+b+c"
   ]
  },
  {
   "cell_type": "code",
   "execution_count": 117,
   "id": "7655232c",
   "metadata": {},
   "outputs": [
    {
     "ename": "TypeError",
     "evalue": "add() takes 3 positional arguments but 6 were given",
     "output_type": "error",
     "traceback": [
      "\u001b[1;31m---------------------------------------------------------------------------\u001b[0m",
      "\u001b[1;31mTypeError\u001b[0m                                 Traceback (most recent call last)",
      "Cell \u001b[1;32mIn[117], line 1\u001b[0m\n\u001b[1;32m----> 1\u001b[0m \u001b[43madd\u001b[49m\u001b[43m(\u001b[49m\u001b[38;5;241;43m1\u001b[39;49m\u001b[43m,\u001b[49m\u001b[43m \u001b[49m\u001b[38;5;241;43m2\u001b[39;49m\u001b[43m,\u001b[49m\u001b[43m \u001b[49m\u001b[38;5;241;43m3\u001b[39;49m\u001b[43m,\u001b[49m\u001b[43m \u001b[49m\u001b[38;5;241;43m4\u001b[39;49m\u001b[43m,\u001b[49m\u001b[43m \u001b[49m\u001b[38;5;241;43m5\u001b[39;49m\u001b[43m,\u001b[49m\u001b[43m \u001b[49m\u001b[38;5;241;43m6\u001b[39;49m\u001b[43m)\u001b[49m\n",
      "\u001b[1;31mTypeError\u001b[0m: add() takes 3 positional arguments but 6 were given"
     ]
    }
   ],
   "source": [
    "add(1, 2, 3, 4, 5, 6)"
   ]
  },
  {
   "cell_type": "code",
   "execution_count": 114,
   "id": "74dbe77b",
   "metadata": {},
   "outputs": [
    {
     "name": "stdout",
     "output_type": "stream",
     "text": [
      "Hello World Python Hello World Python\n"
     ]
    }
   ],
   "source": [
    "print('Hello', 'World', 'Python', 'Hello', 'World', 'Python')"
   ]
  },
  {
   "cell_type": "code",
   "execution_count": 121,
   "id": "950055f1",
   "metadata": {},
   "outputs": [],
   "source": [
    "# *argss: 매개변수들을 하나의 튜플 변수 args로 전달 받음\n",
    "def add(*args):\n",
    "    '전달받은 매개변수들의 합을 return'\n",
    "    # print('args = ', args)\n",
    "    result_tot = 0 # 누적변수\n",
    "    for data in args:\n",
    "        result_tot += data\n",
    "    return result_tot"
   ]
  },
  {
   "cell_type": "code",
   "execution_count": 122,
   "id": "3f54834a",
   "metadata": {},
   "outputs": [
    {
     "name": "stdout",
     "output_type": "stream",
     "text": [
      "55\n"
     ]
    }
   ],
   "source": [
    "print(add(1,2,3,4,5,6,7,8,9,10))"
   ]
  },
  {
   "cell_type": "code",
   "execution_count": null,
   "id": "b6d02c5b",
   "metadata": {},
   "outputs": [],
   "source": []
  },
  {
   "cell_type": "code",
   "execution_count": 125,
   "id": "b49c9085",
   "metadata": {},
   "outputs": [
    {
     "data": {
      "text/plain": [
       "'Python/Oracle/DL/ML'"
      ]
     },
     "execution_count": 125,
     "metadata": {},
     "output_type": "execute_result"
    }
   ],
   "source": [
    "subject = ('Python','Oracle', 'DL', 'ML')\n",
    "'/'.join(subject)"
   ]
  },
  {
   "cell_type": "code",
   "execution_count": 134,
   "id": "41f96e15",
   "metadata": {},
   "outputs": [],
   "source": [
    "def concat(*subject, sep):\n",
    "    return sep.join(subject)"
   ]
  },
  {
   "cell_type": "code",
   "execution_count": 135,
   "id": "7d41ff25",
   "metadata": {},
   "outputs": [
    {
     "ename": "TypeError",
     "evalue": "concat() missing 1 required keyword-only argument: 'sep'",
     "output_type": "error",
     "traceback": [
      "\u001b[1;31m---------------------------------------------------------------------------\u001b[0m",
      "\u001b[1;31mTypeError\u001b[0m                                 Traceback (most recent call last)",
      "Cell \u001b[1;32mIn[135], line 1\u001b[0m\n\u001b[1;32m----> 1\u001b[0m \u001b[43mconcat\u001b[49m\u001b[43m(\u001b[49m\u001b[38;5;124;43m'\u001b[39;49m\u001b[38;5;124;43mPython\u001b[39;49m\u001b[38;5;124;43m'\u001b[39;49m\u001b[43m,\u001b[49m\u001b[38;5;124;43m'\u001b[39;49m\u001b[38;5;124;43mOracle\u001b[39;49m\u001b[38;5;124;43m'\u001b[39;49m\u001b[43m,\u001b[49m\u001b[43m \u001b[49m\u001b[38;5;124;43m'\u001b[39;49m\u001b[38;5;124;43mDL\u001b[39;49m\u001b[38;5;124;43m'\u001b[39;49m\u001b[43m,\u001b[49m\u001b[43m \u001b[49m\u001b[38;5;124;43m'\u001b[39;49m\u001b[38;5;124;43mML\u001b[39;49m\u001b[38;5;124;43m'\u001b[39;49m\u001b[43m,\u001b[49m\u001b[43m \u001b[49m\u001b[38;5;124;43m'\u001b[39;49m\u001b[38;5;124;43m/\u001b[39;49m\u001b[38;5;124;43m'\u001b[39;49m\u001b[43m)\u001b[49m\n",
      "\u001b[1;31mTypeError\u001b[0m: concat() missing 1 required keyword-only argument: 'sep'"
     ]
    }
   ],
   "source": [
    "concat('Python','Oracle', 'DL', 'ML', '/') # /로 스트링 연결하는 함수"
   ]
  },
  {
   "cell_type": "code",
   "execution_count": 136,
   "id": "48c14423",
   "metadata": {},
   "outputs": [
    {
     "data": {
      "text/plain": [
       "'Python/Oracle/DL/ML'"
      ]
     },
     "execution_count": 136,
     "metadata": {},
     "output_type": "execute_result"
    }
   ],
   "source": [
    "# 해결책1 : 매개변수 이름을 지정해서 호출\n",
    "concat('Python','Oracle', 'DL', 'ML', sep='/')"
   ]
  },
  {
   "cell_type": "code",
   "execution_count": 137,
   "id": "5f501381",
   "metadata": {},
   "outputs": [],
   "source": [
    "# 해결책2 : 기본값을 반드시 갖는 키워드 인수 사용\n",
    "def concat(*subject, sep=' ~ '):\n",
    "    return sep.join(subject)"
   ]
  },
  {
   "cell_type": "code",
   "execution_count": 138,
   "id": "32f2a3ac",
   "metadata": {},
   "outputs": [
    {
     "data": {
      "text/plain": [
       "'Python/Oracle/DL/ML'"
      ]
     },
     "execution_count": 138,
     "metadata": {},
     "output_type": "execute_result"
    }
   ],
   "source": [
    "concat('Python','Oracle', 'DL', 'ML', sep='/')"
   ]
  },
  {
   "cell_type": "code",
   "execution_count": 139,
   "id": "132caf80",
   "metadata": {},
   "outputs": [
    {
     "name": "stdout",
     "output_type": "stream",
     "text": [
      "Python/Oracle/DL/ML\n"
     ]
    }
   ],
   "source": [
    "print('Python','Oracle', 'DL', 'ML', sep='/')"
   ]
  },
  {
   "cell_type": "code",
   "execution_count": 142,
   "id": "0a1144fa",
   "metadata": {},
   "outputs": [],
   "source": [
    "# 해결책 3 : sep을 순서인수로 앞에 선언\n",
    "def concat(sep, *subject):\n",
    "    return sep.join(subject)"
   ]
  },
  {
   "cell_type": "code",
   "execution_count": 144,
   "id": "a9b90d9e",
   "metadata": {},
   "outputs": [
    {
     "data": {
      "text/plain": [
       "'Python Oracle DL ML'"
      ]
     },
     "execution_count": 144,
     "metadata": {},
     "output_type": "execute_result"
    }
   ],
   "source": [
    "concat(' ', 'Python','Oracle', 'DL', 'ML')"
   ]
  },
  {
   "cell_type": "markdown",
   "id": "b9755018",
   "metadata": {},
   "source": [
    "## 3.4 딕셔너리 매개변수\n",
    "- 여러개의 키워드인수를 딕셔너리 형태로 받아서 가변키워드 인수 처리"
   ]
  },
  {
   "cell_type": "code",
   "execution_count": 156,
   "id": "6a9f4afc",
   "metadata": {},
   "outputs": [],
   "source": [
    "def func5(**kwargs):\n",
    "    # print(kwargs)\n",
    "    print(type(kwargs))\n",
    "    print('이름 ; ', kwargs.get('name', '대마왕'))\n",
    "    print('나이 ; ', kwargs.get('age', 30))\n",
    "    print('주소 ; ', kwargs.get('address', '서울'))"
   ]
  },
  {
   "cell_type": "code",
   "execution_count": 157,
   "id": "88049883",
   "metadata": {},
   "outputs": [
    {
     "name": "stdout",
     "output_type": "stream",
     "text": [
      "<class 'dict'>\n",
      "이름 ;  홍길동\n",
      "나이 ;  30\n",
      "주소 ;  신림동\n"
     ]
    }
   ],
   "source": [
    "func5(name='홍길동', age=30, address='신림동')"
   ]
  },
  {
   "cell_type": "code",
   "execution_count": 158,
   "id": "d0073caa",
   "metadata": {},
   "outputs": [
    {
     "name": "stdout",
     "output_type": "stream",
     "text": [
      "<class 'dict'>\n",
      "이름 ;  김길동\n",
      "나이 ;  30\n",
      "주소 ;  서울\n"
     ]
    }
   ],
   "source": [
    "func5(name='김길동')"
   ]
  },
  {
   "cell_type": "markdown",
   "id": "db589cd7",
   "metadata": {},
   "source": [
    "## 3.5 함수정의시 매개변수 순서\n",
    "- 순서인수 > 튜플매개변수(*) > 키워드매개변수(매개변수이름반드시명시) > 딕셔너리매개변수(**)"
   ]
  },
  {
   "cell_type": "code",
   "execution_count": 159,
   "id": "dfeb6834",
   "metadata": {},
   "outputs": [],
   "source": [
    "def func6(a, b, *c, **d):\n",
    "    print('순서인수 a :', a)\n",
    "    print('순서인수 b :', b)\n",
    "    print('튜플인수 c :', c)\n",
    "    print('딕셔너리인수 d :', d)"
   ]
  },
  {
   "cell_type": "code",
   "execution_count": 161,
   "id": "b3b33993",
   "metadata": {},
   "outputs": [
    {
     "name": "stdout",
     "output_type": "stream",
     "text": [
      "순서인수 a : 10\n",
      "순서인수 b : 20\n",
      "튜플인수 c : (1, 2, 3, 4, 5, 6, 7, 8, 9)\n",
      "딕셔너리인수 d : {'name': '홍길동', 'age': 30, 'address': '서울'}\n"
     ]
    }
   ],
   "source": [
    "func6(10, 20, 1, 2, 3, 4, 5, 6, 7, 8, 9, name='홍길동', age=30, address='서울')"
   ]
  },
  {
   "cell_type": "code",
   "execution_count": 162,
   "id": "64e0383d",
   "metadata": {},
   "outputs": [],
   "source": [
    "def func7(a, b, *c, d='기본값', **e):\n",
    "    print('순서인수 a :', a)\n",
    "    print('순서인수 b :', b)\n",
    "    print('튜플인수 c :', c)\n",
    "    print('키워드인수(기본값을 갖는 인수, 호출시 매개변수명 반드시 명시) d :', d)\n",
    "    print('딕셔너리인수 e :', e)"
   ]
  },
  {
   "cell_type": "code",
   "execution_count": 163,
   "id": "14907c2b",
   "metadata": {},
   "outputs": [
    {
     "name": "stdout",
     "output_type": "stream",
     "text": [
      "순서인수 a : 10\n",
      "순서인수 b : 20\n",
      "튜플인수 c : (1, 2, 3)\n",
      "키워드인수(기본값을 갖는 인수, 호출시 매개변수명 반드시 명시) d : 딴거\n",
      "딕셔너리인수 e : {'fontsize': 12, 'fontfamily': 'consola'}\n"
     ]
    }
   ],
   "source": [
    "func7(10,20,1,2,3, d='딴거', fontsize=12, fontfamily='consola')"
   ]
  },
  {
   "cell_type": "code",
   "execution_count": 164,
   "id": "e9fae90f",
   "metadata": {},
   "outputs": [
    {
     "name": "stdout",
     "output_type": "stream",
     "text": [
      "순서인수 a : 10\n",
      "순서인수 b : 20\n",
      "튜플인수 c : (1, 2, 3, '딴거')\n",
      "키워드인수(기본값을 갖는 인수, 호출시 매개변수명 반드시 명시) d : 기본값\n",
      "딕셔너리인수 e : {'fontsize': 12, 'fontfamily': 'consola'}\n"
     ]
    }
   ],
   "source": [
    "func7(10,20,1,2,3, '딴거', fontsize=12, fontfamily='consola')"
   ]
  },
  {
   "cell_type": "markdown",
   "id": "1512d8fa",
   "metadata": {},
   "source": [
    "## 3.6 인수의 언패킹\n",
    "### 튜플인수 언패킹\n",
    "- 언패킹 : 함수 호출시 매개변수 앞에 * 붙임\n",
    "- 패킹 : 함수 정의시 매개변수 앞에 * 붙임(튜플매개변수)"
   ]
  },
  {
   "cell_type": "code",
   "execution_count": 166,
   "id": "bd8ddb77",
   "metadata": {},
   "outputs": [],
   "source": [
    "def add(*args):\n",
    "    print(args)\n",
    "    tot = 0\n",
    "    for num in args:\n",
    "        tot += num\n",
    "    return tot"
   ]
  },
  {
   "cell_type": "code",
   "execution_count": 167,
   "id": "c96c32c0",
   "metadata": {},
   "outputs": [
    {
     "name": "stdout",
     "output_type": "stream",
     "text": [
      "(1, 2, 3, 4)\n"
     ]
    },
    {
     "data": {
      "text/plain": [
       "10"
      ]
     },
     "execution_count": 167,
     "metadata": {},
     "output_type": "execute_result"
    }
   ],
   "source": [
    "add(1, 2, 3, 4)"
   ]
  },
  {
   "cell_type": "code",
   "execution_count": 169,
   "id": "1298088a",
   "metadata": {},
   "outputs": [
    {
     "name": "stdout",
     "output_type": "stream",
     "text": [
      "(1, 2, 3, 4)\n"
     ]
    },
    {
     "data": {
      "text/plain": [
       "10"
      ]
     },
     "execution_count": 169,
     "metadata": {},
     "output_type": "execute_result"
    }
   ],
   "source": [
    "numbers = [1, 2, 3, 4]\n",
    "add(*numbers) # 언패킹"
   ]
  },
  {
   "cell_type": "code",
   "execution_count": 170,
   "id": "e7521f85",
   "metadata": {},
   "outputs": [
    {
     "name": "stdout",
     "output_type": "stream",
     "text": [
      "(1, 2, 3, 4)\n"
     ]
    },
    {
     "data": {
      "text/plain": [
       "10"
      ]
     },
     "execution_count": 170,
     "metadata": {},
     "output_type": "execute_result"
    }
   ],
   "source": [
    "numbers = (1, 2, 3, 4)\n",
    "add(*numbers) # 언패킹"
   ]
  },
  {
   "cell_type": "markdown",
   "id": "f02c7000",
   "metadata": {},
   "source": [
    "### 딕셔너리인수 언패킹\n",
    "- 딕셔너리 언패킹 : 함수 호출시 매개변수 앞에 ** 붙임\n",
    "- 딕셔너리 패킹 : 함수 정의시 매개변수 앞에 ** 붙임(딕셔너리매개변수) "
   ]
  },
  {
   "cell_type": "code",
   "execution_count": 4,
   "id": "71f18089",
   "metadata": {},
   "outputs": [],
   "source": [
    "def func5(**data):\n",
    "    print(type(data))\n",
    "    for key, item in data.items():\n",
    "        print(f'{key}:{item}')\n",
    "    "
   ]
  },
  {
   "cell_type": "code",
   "execution_count": 5,
   "id": "9c7866dc",
   "metadata": {},
   "outputs": [
    {
     "name": "stdout",
     "output_type": "stream",
     "text": [
      "<class 'dict'>\n",
      "name:홍길동\n",
      "age:30\n",
      "address:신림\n"
     ]
    }
   ],
   "source": [
    "func5(name='홍길동', age=30, address='신림')"
   ]
  },
  {
   "cell_type": "code",
   "execution_count": 7,
   "id": "644dd5dd",
   "metadata": {},
   "outputs": [
    {
     "name": "stdout",
     "output_type": "stream",
     "text": [
      "<class 'dict'>\n",
      "name:홍길동\n",
      "age:30\n",
      "address:서울시 강남구\n",
      "score:900\n"
     ]
    }
   ],
   "source": [
    "customInfo = {'name':'홍길동','age':30,'address':'서울시 강남구','score':900}\n",
    "func5(**customInfo)"
   ]
  },
  {
   "cell_type": "markdown",
   "id": "3fbd8d84",
   "metadata": {},
   "source": [
    "# 4절. 람다식\n",
    "- return 한줄짜리 작은 익명함수\n",
    "## 4.1 람다식 연습"
   ]
  },
  {
   "cell_type": "code",
   "execution_count": 8,
   "id": "297d0c4a",
   "metadata": {},
   "outputs": [
    {
     "data": {
      "text/plain": [
       "7"
      ]
     },
     "execution_count": 8,
     "metadata": {},
     "output_type": "execute_result"
    }
   ],
   "source": [
    "def add(a, b):\n",
    "    return a+b\n",
    "add(3,4)"
   ]
  },
  {
   "cell_type": "code",
   "execution_count": 10,
   "id": "0ed4dd31",
   "metadata": {},
   "outputs": [
    {
     "data": {
      "text/plain": [
       "7"
      ]
     },
     "execution_count": 10,
     "metadata": {},
     "output_type": "execute_result"
    }
   ],
   "source": [
    "add2 = lambda a, b : a+b\n",
    "add(3,4)"
   ]
  },
  {
   "cell_type": "code",
   "execution_count": 11,
   "id": "336191b2",
   "metadata": {},
   "outputs": [
    {
     "data": {
      "text/plain": [
       "(function, function)"
      ]
     },
     "execution_count": 11,
     "metadata": {},
     "output_type": "execute_result"
    }
   ],
   "source": [
    "type(add), type(add2)"
   ]
  },
  {
   "cell_type": "code",
   "execution_count": 12,
   "id": "335717c6",
   "metadata": {},
   "outputs": [
    {
     "data": {
      "text/plain": [
       "7"
      ]
     },
     "execution_count": 12,
     "metadata": {},
     "output_type": "execute_result"
    }
   ],
   "source": [
    "(lambda a, b : a+b)(3, 4)"
   ]
  },
  {
   "cell_type": "code",
   "execution_count": 13,
   "id": "0ae84a0c",
   "metadata": {},
   "outputs": [
    {
     "data": {
      "text/plain": [
       "('짝수', '홀수')"
      ]
     },
     "execution_count": 13,
     "metadata": {},
     "output_type": "execute_result"
    }
   ],
   "source": [
    "# ex1. 매개변수로 들어온 값이 짝수인지 홀수인지 return\n",
    "def ex1(num):\n",
    "#     if num%2:\n",
    "#         result = '홀수'\n",
    "#     else:\n",
    "#         result = '짝수' \n",
    "    return '홀수' if num%2 else '짝수'\n",
    "ex1 = lambda num : '홀수' if num%2 else '짝수'\n",
    "ex1(10), ex1(-9)"
   ]
  },
  {
   "cell_type": "code",
   "execution_count": 21,
   "id": "e58f3dc9",
   "metadata": {},
   "outputs": [
    {
     "data": {
      "text/plain": [
       "10"
      ]
     },
     "execution_count": 21,
     "metadata": {},
     "output_type": "execute_result"
    }
   ],
   "source": [
    "# ex2. 두 매개변수의 차이를 return\n",
    "ex2 = lambda num1, num2 : max(num1,num2) - min(num1, num2)\n",
    "ex2 = lambda a, b : a-b if a>b else b-a # 강사 추천\n",
    "ex2(-5, 5)"
   ]
  },
  {
   "cell_type": "code",
   "execution_count": 22,
   "id": "7041047e",
   "metadata": {},
   "outputs": [
    {
     "data": {
      "text/plain": [
       "(101, 'negative', 'negative')"
      ]
     },
     "execution_count": 22,
     "metadata": {},
     "output_type": "execute_result"
    }
   ],
   "source": [
    "# ex3. 매개변수로 잔액을 받아 양수면 잔액을 return, 음수면 'negative'를 return\n",
    "ex3 = lambda bal : bal if bal>=0 else 'negative'\n",
    "ex3 = lambda money : money if money>0 else 'negative' # 강사추헌\n",
    "ex3(101), ex3(0), ex3(-3)"
   ]
  },
  {
   "cell_type": "code",
   "execution_count": 24,
   "id": "fe37b02e",
   "metadata": {},
   "outputs": [
    {
     "data": {
      "text/plain": [
       "('A팀', '유효하지 않음', 'B팀', '재시험', '유효하지 않음')"
      ]
     },
     "execution_count": 24,
     "metadata": {},
     "output_type": "execute_result"
    }
   ],
   "source": [
    "# ex4. 점수를 입력받아 점수가 80점 이상은 A팀, 60점 이상은 B팀, 60점 미만은 재시험. \n",
    "#      그외는 유효하지 않음\n",
    "# ex4 = lambda scr : 'A팀' if scr>=80 elif scr>=60 'B팀' elif scr>=0 '재시험' else '유효않음'\n",
    "ex4 = lambda score : 'A팀' if 90<=score<=100 else \\\n",
    "                    'B팀' if 60<=score<80 else \\\n",
    "                    '재시험' if 0<=score<60 else \\\n",
    "                    '유효하지 않음'   # 강사추천\n",
    "ex4(99), ex4(-10), ex4(77), ex4(59), ex4(120)"
   ]
  },
  {
   "cell_type": "code",
   "execution_count": 25,
   "id": "6f32c741",
   "metadata": {},
   "outputs": [
    {
     "data": {
      "text/plain": [
       "(-1, 2)"
      ]
     },
     "execution_count": 25,
     "metadata": {},
     "output_type": "execute_result"
    }
   ],
   "source": [
    "# ex5. safe_index를 람다식으로\n",
    "numbers = [1, 2, 3, [1, 2, 3], 1, 2, 3]\n",
    "\n",
    "# def safe_index(vector, data):\n",
    "#     if data in vector: # vector안에 data 있는지 여부\n",
    "#         return vector.index(data)\n",
    "#     else:\n",
    "#         return -1\n",
    "\n",
    "# safe_index(numbers, 9)\n",
    "\n",
    "ex5 = lambda vector, data : vector.index(data) if data in vector else -1  # 강사 추천 lst => vector\n",
    "ex5(numbers, 9), ex5(numbers, 3)"
   ]
  },
  {
   "cell_type": "code",
   "execution_count": null,
   "id": "6bac22d8",
   "metadata": {},
   "outputs": [],
   "source": []
  },
  {
   "cell_type": "code",
   "execution_count": null,
   "id": "ba77430d",
   "metadata": {},
   "outputs": [],
   "source": []
  }
 ],
 "metadata": {
  "kernelspec": {
   "display_name": "Python 3 (ipykernel)",
   "language": "python",
   "name": "python3"
  },
  "language_info": {
   "codemirror_mode": {
    "name": "ipython",
    "version": 3
   },
   "file_extension": ".py",
   "mimetype": "text/x-python",
   "name": "python",
   "nbconvert_exporter": "python",
   "pygments_lexer": "ipython3",
   "version": "3.10.9"
  },
  "toc": {
   "base_numbering": 1,
   "nav_menu": {},
   "number_sections": false,
   "sideBar": true,
   "skip_h1_title": false,
   "title_cell": "Table of Contents",
   "title_sidebar": "Contents",
   "toc_cell": false,
   "toc_position": {
    "height": "calc(100% - 180px)",
    "left": "10px",
    "top": "150px",
    "width": "165px"
   },
   "toc_section_display": true,
   "toc_window_display": true
  }
 },
 "nbformat": 4,
 "nbformat_minor": 5
}
