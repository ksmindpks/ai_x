{
 "cells": [
  {
   "cell_type": "code",
   "execution_count": 22,
   "id": "67298650",
   "metadata": {},
   "outputs": [
    {
     "data": {
      "text/html": [
       "\n",
       "<style>\n",
       "div.container{width:86% !important;}\n",
       "div.cell.code_cell.rendered{width:100%;}\n",
       "div.CodeMirror {font-family:Consolas; font-size:15pt;}\n",
       "div.output {font-size:15pt; font-weight:bold;}\n",
       "div.input {font-family:Consolas; font-size:15pt;}\n",
       "div.prompt {min-width:70px;}\n",
       "div#toc-wrapper{padding-top:120px;}\n",
       "div.text_cell_render ul li{font-size:12pt;padding:5px;}\n",
       "table.dataframe{font-size:15px;}\n",
       "</style>\n"
      ],
      "text/plain": [
       "<IPython.core.display.HTML object>"
      ]
     },
     "metadata": {},
     "output_type": "display_data"
    }
   ],
   "source": [
    "from IPython.display import display, HTML \n",
    "display(HTML(\"\"\"\n",
    "<style>\n",
    "div.container{width:86% !important;}\n",
    "div.cell.code_cell.rendered{width:100%;}\n",
    "div.CodeMirror {font-family:Consolas; font-size:15pt;}\n",
    "div.output {font-size:15pt; font-weight:bold;}\n",
    "div.input {font-family:Consolas; font-size:15pt;}\n",
    "div.prompt {min-width:70px;}\n",
    "div#toc-wrapper{padding-top:120px;}\n",
    "div.text_cell_render ul li{font-size:12pt;padding:5px;}\n",
    "table.dataframe{font-size:15px;}\n",
    "</style>\n",
    "\"\"\"))"
   ]
  },
  {
   "cell_type": "markdown",
   "id": "3282b5f3",
   "metadata": {},
   "source": [
    "<b><font size=\"5\" color=\"red\">ch05. 함수 </font></b>\n",
    "- 사용할 코드를 묶어 놓고 그것에 이름을 붙인 것\n",
    "- 오버로딩(함수 이름이 같고, 매배변수의 갯수로 갯수로 다른 함수를 허용하는것) 불가\n",
    "- 함수 정의\n",
    "```\n",
    "def 함수명([매개변수1, .. 매개변수n]):\n",
    "    명령어1\n",
    "    명령어2\n",
    "    ...\n",
    "    명령어n\n",
    "```\n",
    "# 1절. 함수의 정의 및 사용\n",
    "## 1.1 함수 정의"
   ]
  },
  {
   "cell_type": "code",
   "execution_count": 13,
   "id": "889f271d",
   "metadata": {},
   "outputs": [],
   "source": [
    "# 함수 정의\n",
    "def my_message(x, msg): # mag를 x번 출력하는 함수\n",
    "    for i in range(x):\n",
    "        print(msg)"
   ]
  },
  {
   "cell_type": "code",
   "execution_count": 8,
   "id": "2b568b0c",
   "metadata": {},
   "outputs": [
    {
     "name": "stdout",
     "output_type": "stream",
     "text": [
      "Hello\n",
      "Hello\n",
      "Hello\n",
      "Hello\n",
      "Hello\n"
     ]
    }
   ],
   "source": [
    "# 함수 사용\n",
    "my_message(5, 'Hello')"
   ]
  },
  {
   "cell_type": "code",
   "execution_count": 9,
   "id": "b1997a71",
   "metadata": {},
   "outputs": [
    {
     "name": "stdout",
     "output_type": "stream",
     "text": [
      "hello\n",
      "hello\n",
      "hello\n"
     ]
    }
   ],
   "source": [
    "my_msg = my_message\n",
    "my_msg(3, 'hello')"
   ]
  },
  {
   "cell_type": "code",
   "execution_count": 11,
   "id": "14d2f54e",
   "metadata": {},
   "outputs": [
    {
     "data": {
      "text/plain": [
       "(function, function)"
      ]
     },
     "execution_count": 11,
     "metadata": {},
     "output_type": "execute_result"
    }
   ],
   "source": [
    "type(my_msg), type(my_message)"
   ]
  },
  {
   "cell_type": "code",
   "execution_count": 12,
   "id": "dd30fba5",
   "metadata": {},
   "outputs": [
    {
     "name": "stdout",
     "output_type": "stream",
     "text": [
      "Hello\n",
      "Hello\n"
     ]
    }
   ],
   "source": [
    "print('Hello') # 파이썬 내장함수 (import하지 않고 사용할 수 있는 함수)\n",
    "print = 5\n",
    "# print('Hello')\n",
    "del print\n",
    "print('Hello')"
   ]
  },
  {
   "cell_type": "code",
   "execution_count": 14,
   "id": "98f8a90e",
   "metadata": {},
   "outputs": [
    {
     "name": "stdout",
     "output_type": "stream",
     "text": [
      "Hello\n",
      "Hello\n"
     ]
    }
   ],
   "source": [
    "my_message(2, 'Hello')"
   ]
  },
  {
   "cell_type": "code",
   "execution_count": 15,
   "id": "5df7e3ce",
   "metadata": {},
   "outputs": [],
   "source": [
    "my_message = 5"
   ]
  },
  {
   "cell_type": "code",
   "execution_count": 16,
   "id": "9b42f007",
   "metadata": {},
   "outputs": [
    {
     "ename": "TypeError",
     "evalue": "'int' object is not callable",
     "output_type": "error",
     "traceback": [
      "\u001b[1;31m---------------------------------------------------------------------------\u001b[0m",
      "\u001b[1;31mTypeError\u001b[0m                                 Traceback (most recent call last)",
      "Cell \u001b[1;32mIn[16], line 1\u001b[0m\n\u001b[1;32m----> 1\u001b[0m \u001b[43mmy_message\u001b[49m\u001b[43m(\u001b[49m\u001b[38;5;241;43m2\u001b[39;49m\u001b[43m,\u001b[49m\u001b[43m \u001b[49m\u001b[38;5;124;43m'\u001b[39;49m\u001b[38;5;124;43mHello\u001b[39;49m\u001b[38;5;124;43m'\u001b[39;49m\u001b[43m)\u001b[49m\n",
      "\u001b[1;31mTypeError\u001b[0m: 'int' object is not callable"
     ]
    }
   ],
   "source": [
    "my_message(2, 'Hello')"
   ]
  },
  {
   "cell_type": "code",
   "execution_count": 17,
   "id": "d8bc6ef6",
   "metadata": {},
   "outputs": [],
   "source": [
    "del my_message\n",
    "# 변수를 삭제해도 함수 사용불가 (파이썬 내장함수가 아니라서...)"
   ]
  },
  {
   "cell_type": "code",
   "execution_count": 18,
   "id": "b3a56be9",
   "metadata": {},
   "outputs": [
    {
     "ename": "NameError",
     "evalue": "name 'my_message' is not defined",
     "output_type": "error",
     "traceback": [
      "\u001b[1;31m---------------------------------------------------------------------------\u001b[0m",
      "\u001b[1;31mNameError\u001b[0m                                 Traceback (most recent call last)",
      "Cell \u001b[1;32mIn[18], line 1\u001b[0m\n\u001b[1;32m----> 1\u001b[0m \u001b[43mmy_message\u001b[49m(\u001b[38;5;241m2\u001b[39m, \u001b[38;5;124m'\u001b[39m\u001b[38;5;124mHello\u001b[39m\u001b[38;5;124m'\u001b[39m)\n",
      "\u001b[1;31mNameError\u001b[0m: name 'my_message' is not defined"
     ]
    }
   ],
   "source": [
    "my_message(2, 'Hello')"
   ]
  },
  {
   "cell_type": "code",
   "execution_count": 27,
   "id": "983423a0",
   "metadata": {},
   "outputs": [],
   "source": [
    "# 함수 정의 : 4월16일(수)\n",
    "# def my_hello():\n",
    "#     print('Hello, Python')\n",
    "#     print('Hello, World')\n",
    "    \n",
    "def my_hello(cnt):  # 재정의(오버로딩) 안됨\n",
    "    for i in range(cnt):\n",
    "        print('Hello, Python')\n",
    "        print('Hello, World')      "
   ]
  },
  {
   "cell_type": "code",
   "execution_count": 28,
   "id": "3385e134",
   "metadata": {},
   "outputs": [
    {
     "name": "stdout",
     "output_type": "stream",
     "text": [
      "Hello, Python\n",
      "Hello, World\n",
      "Hello, Python\n",
      "Hello, World\n"
     ]
    }
   ],
   "source": [
    "# 함수사용=함수호출\n",
    "my_hello(2)"
   ]
  },
  {
   "cell_type": "code",
   "execution_count": 29,
   "id": "da724928",
   "metadata": {},
   "outputs": [
    {
     "data": {
      "text/plain": [
       "<function __main__.my_hello(cnt)>"
      ]
     },
     "execution_count": 29,
     "metadata": {},
     "output_type": "execute_result"
    }
   ],
   "source": [
    "my_hello"
   ]
  },
  {
   "cell_type": "code",
   "execution_count": 31,
   "id": "91e69c99",
   "metadata": {},
   "outputs": [
    {
     "data": {
      "text/plain": [
       "'__main__'"
      ]
     },
     "execution_count": 31,
     "metadata": {},
     "output_type": "execute_result"
    }
   ],
   "source": [
    "__name__"
   ]
  },
  {
   "cell_type": "code",
   "execution_count": 33,
   "id": "f19c3e73",
   "metadata": {},
   "outputs": [
    {
     "name": "stdout",
     "output_type": "stream",
     "text": [
      "Hello, Python\n",
      "Hello, World\n",
      "Hello, Python\n",
      "Hello, World\n"
     ]
    }
   ],
   "source": [
    "if __name__=='__main__':\n",
    "    my_hello(2)"
   ]
  },
  {
   "cell_type": "code",
   "execution_count": 9,
   "id": "a8cfa11f",
   "metadata": {},
   "outputs": [],
   "source": [
    "import ch05 # ch05 모듈을 load"
   ]
  },
  {
   "cell_type": "code",
   "execution_count": null,
   "id": "56d6a66c",
   "metadata": {},
   "outputs": [],
   "source": [
    "ch05.my_hello(3)"
   ]
  },
  {
   "cell_type": "code",
   "execution_count": 6,
   "id": "6696a74c",
   "metadata": {},
   "outputs": [],
   "source": [
    "del ch05"
   ]
  },
  {
   "cell_type": "code",
   "execution_count": 10,
   "id": "bbd49638",
   "metadata": {},
   "outputs": [],
   "source": [
    "from ch05 import my_hello # cho5 모듈 안에 my_hello load"
   ]
  },
  {
   "cell_type": "markdown",
   "id": "3d156283",
   "metadata": {},
   "source": [
    "## 1.2 docstring"
   ]
  },
  {
   "cell_type": "code",
   "execution_count": 14,
   "id": "9fd7a9cd",
   "metadata": {},
   "outputs": [],
   "source": [
    "def my_function():\n",
    "    '''\n",
    "    함수의 첫라인에 독스트링을 포함할 수 있습니다.\n",
    "    독스트링은 함수의 설명서를 달아주는 역할\n",
    "    주석보다 많은 기능(shift+tab으로 독스트링을 볼 수 있음)\n",
    "    '''\n",
    "    pass"
   ]
  },
  {
   "cell_type": "code",
   "execution_count": 15,
   "id": "e2324bd4",
   "metadata": {},
   "outputs": [
    {
     "name": "stdout",
     "output_type": "stream",
     "text": [
      "\n",
      "    함수의 첫라인에 독스트링을 포함할 수 있습니다.\n",
      "    독스트링은 함수의 설명서를 달아주는 역할\n",
      "    주석보다 많은 기능(shift+tab으로 독스트링을 볼 수 있음)\n",
      "    \n"
     ]
    }
   ],
   "source": [
    "print(my_function.__doc__)"
   ]
  },
  {
   "cell_type": "code",
   "execution_count": 16,
   "id": "4da8a623",
   "metadata": {},
   "outputs": [
    {
     "name": "stdout",
     "output_type": "stream",
     "text": [
      "print(value, ..., sep=' ', end='\\n', file=sys.stdout, flush=False)\n",
      "\n",
      "Prints the values to a stream, or to sys.stdout by default.\n",
      "Optional keyword arguments:\n",
      "file:  a file-like object (stream); defaults to the current sys.stdout.\n",
      "sep:   string inserted between values, default a space.\n",
      "end:   string appended after the last value, default a newline.\n",
      "flush: whether to forcibly flush the stream.\n"
     ]
    }
   ],
   "source": [
    "print(print.__doc__)"
   ]
  },
  {
   "cell_type": "code",
   "execution_count": 17,
   "id": "7daa9586",
   "metadata": {},
   "outputs": [],
   "source": [
    "def fibonacci(n):\n",
    "    a, b = 0, 1\n",
    "    while a < 10:\n",
    "        print(a, end=' ')\n",
    "        a, b = b, a+b\n",
    "    print() # 개행"
   ]
  },
  {
   "cell_type": "code",
   "execution_count": 18,
   "id": "895cc527",
   "metadata": {},
   "outputs": [
    {
     "name": "stdout",
     "output_type": "stream",
     "text": [
      "0 1 1 2 3 5 8 \n"
     ]
    }
   ],
   "source": [
    "fibonacci(10)"
   ]
  },
  {
   "cell_type": "code",
   "execution_count": 19,
   "id": "aab06fdd",
   "metadata": {},
   "outputs": [],
   "source": [
    "if True:\n",
    "    x = 10"
   ]
  },
  {
   "cell_type": "code",
   "execution_count": 20,
   "id": "85edf76c",
   "metadata": {},
   "outputs": [
    {
     "data": {
      "text/plain": [
       "10"
      ]
     },
     "execution_count": 20,
     "metadata": {},
     "output_type": "execute_result"
    }
   ],
   "source": [
    "x"
   ]
  },
  {
   "cell_type": "code",
   "execution_count": 21,
   "id": "2fe45ccd",
   "metadata": {},
   "outputs": [
    {
     "ename": "NameError",
     "evalue": "name 'a' is not defined",
     "output_type": "error",
     "traceback": [
      "\u001b[1;31m---------------------------------------------------------------------------\u001b[0m",
      "\u001b[1;31mNameError\u001b[0m                                 Traceback (most recent call last)",
      "Cell \u001b[1;32mIn[21], line 1\u001b[0m\n\u001b[1;32m----> 1\u001b[0m \u001b[43ma\u001b[49m, b\n",
      "\u001b[1;31mNameError\u001b[0m: name 'a' is not defined"
     ]
    }
   ],
   "source": [
    "a, b # 함수는 실행이 끝나면 함수 내 변수는 사라짐"
   ]
  },
  {
   "cell_type": "markdown",
   "id": "79159c5e",
   "metadata": {},
   "source": [
    "## 1.3 지역변수(local var)와 전역변수(gloval var)"
   ]
  },
  {
   "cell_type": "code",
   "execution_count": 28,
   "id": "bf80980a",
   "metadata": {},
   "outputs": [
    {
     "name": "stdout",
     "output_type": "stream",
     "text": [
      "함수안 100\n",
      "함수밖 100\n"
     ]
    }
   ],
   "source": [
    "gloval_var =  100 # 전역변수\n",
    "def func1():\n",
    "    print('함수안', gloval_var)\n",
    "func1() \n",
    "print('함수밖', gloval_var)"
   ]
  },
  {
   "cell_type": "code",
   "execution_count": 29,
   "id": "a27daa22",
   "metadata": {},
   "outputs": [
    {
     "name": "stdout",
     "output_type": "stream",
     "text": [
      "함수안 200\n"
     ]
    },
    {
     "ename": "NameError",
     "evalue": "name 'local_var' is not defined",
     "output_type": "error",
     "traceback": [
      "\u001b[1;31m---------------------------------------------------------------------------\u001b[0m",
      "\u001b[1;31mNameError\u001b[0m                                 Traceback (most recent call last)",
      "Cell \u001b[1;32mIn[29], line 5\u001b[0m\n\u001b[0;32m      3\u001b[0m     \u001b[38;5;28mprint\u001b[39m(\u001b[38;5;124m'\u001b[39m\u001b[38;5;124m함수안\u001b[39m\u001b[38;5;124m'\u001b[39m, local_var)\n\u001b[0;32m      4\u001b[0m func2() \n\u001b[1;32m----> 5\u001b[0m \u001b[38;5;28mprint\u001b[39m(\u001b[38;5;124m'\u001b[39m\u001b[38;5;124m함수밖\u001b[39m\u001b[38;5;124m'\u001b[39m, \u001b[43mlocal_var\u001b[49m)\n",
      "\u001b[1;31mNameError\u001b[0m: name 'local_var' is not defined"
     ]
    }
   ],
   "source": [
    "def func2():\n",
    "    local_var = 200 # 지역변수\n",
    "    print('함수안', local_var)\n",
    "func2() \n",
    "print('함수밖', local_var)"
   ]
  },
  {
   "cell_type": "code",
   "execution_count": 30,
   "id": "6d0cf397",
   "metadata": {},
   "outputs": [
    {
     "name": "stdout",
     "output_type": "stream",
     "text": [
      "1882732957008\n",
      "1882732960208\n",
      "함수안 200\n",
      "함수밖 100\n"
     ]
    }
   ],
   "source": [
    "g_var = 100 # 전역변수\n",
    "print(id(g_var))\n",
    "def func3():\n",
    "    g_var = 200 # 지역변수\n",
    "    print(id(g_var))\n",
    "    print('함수안', g_var)\n",
    "func3() \n",
    "print('함수밖', g_var)"
   ]
  },
  {
   "cell_type": "code",
   "execution_count": 36,
   "id": "a0081600",
   "metadata": {},
   "outputs": [
    {
     "name": "stdout",
     "output_type": "stream",
     "text": [
      "함수 안 g_var : 100\n",
      "함수 밖 g_var : 200\n"
     ]
    }
   ],
   "source": [
    "# 렉시컬 특성    * 참조 순서 : 로컬심볼테이블 > 전역 심볼테이블 > 내장된 이름테이블\n",
    "g_var = 100 # 전역변수\n",
    "def func4():\n",
    "    global g_var # func4함수내의 g_var는 전역변를 쓴다\n",
    "    print('함수 안 g_var :', g_var)\n",
    "    g_var = 200 # 전역변수\n",
    "func4()\n",
    "print('함수 밖 g_var :', g_var)"
   ]
  },
  {
   "cell_type": "markdown",
   "id": "135049ff",
   "metadata": {},
   "source": [
    "## 1.4 값에 의한 호출\n",
    "- 함수의 매개변수(인수)로 전달되는 변수 스칼라 변수(문자, 숫자, 논리형)일 때"
   ]
  },
  {
   "cell_type": "code",
   "execution_count": 51,
   "id": "03d70d16",
   "metadata": {},
   "outputs": [
    {
     "data": {
      "text/plain": [
       "1882732954128"
      ]
     },
     "execution_count": 51,
     "metadata": {},
     "output_type": "execute_result"
    }
   ],
   "source": [
    "foo = 10 # 전역변수\n",
    "id(foo)"
   ]
  },
  {
   "cell_type": "code",
   "execution_count": 53,
   "id": "d2cc3816",
   "metadata": {},
   "outputs": [
    {
     "name": "stdout",
     "output_type": "stream",
     "text": [
      "Before : 10 id(f) : 1882732954128\n",
      "After  : 30 id(f) : 1882732954768\n"
     ]
    }
   ],
   "source": [
    "def func1(f): # 매개변수 f는 지역변수\n",
    "    print('Before :', f, 'id(f) :', id(f))\n",
    "    f = f*3\n",
    "    print('After  :', f, 'id(f) :', id(f))\n",
    "func1(foo)"
   ]
  },
  {
   "cell_type": "code",
   "execution_count": 40,
   "id": "6bca62c1",
   "metadata": {},
   "outputs": [
    {
     "name": "stdout",
     "output_type": "stream",
     "text": [
      "a\n"
     ]
    }
   ],
   "source": [
    "print(foo)"
   ]
  },
  {
   "cell_type": "markdown",
   "id": "e3f5c8b5",
   "metadata": {},
   "source": [
    "## 1.5 참조에 의한 호출\n",
    "- 함수의 매개변수(인자)로 전달되는 변수가 리스트, 튜플, 셋, 딕셔너리 등의 객체일 경우"
   ]
  },
  {
   "cell_type": "code",
   "execution_count": 55,
   "id": "6f636898",
   "metadata": {},
   "outputs": [
    {
     "data": {
      "text/plain": [
       "1882850393856"
      ]
     },
     "execution_count": 55,
     "metadata": {},
     "output_type": "execute_result"
    }
   ],
   "source": [
    "L = [1, 2, 3]\n",
    "id(L)"
   ]
  },
  {
   "cell_type": "code",
   "execution_count": 57,
   "id": "caf554e1",
   "metadata": {},
   "outputs": [
    {
     "name": "stdout",
     "output_type": "stream",
     "text": [
      "Before : [1, 2, 3] id(f) : 1882850393856\n",
      "After  : [1, 2, 3, 4] id(f) : 1882850393856\n",
      "L = [1, 2, 3, 4]\n"
     ]
    },
    {
     "data": {
      "text/plain": [
       "1882850393856"
      ]
     },
     "execution_count": 57,
     "metadata": {},
     "output_type": "execute_result"
    }
   ],
   "source": [
    "def func2(f): # 매개변수는 지역변수\n",
    "    print('Before :', f, 'id(f) :', id(f))\n",
    "    f.append(4)\n",
    "    print('After  :', f, 'id(f) :', id(f))\n",
    "    \n",
    "func2(L)\n",
    "\n",
    "print('L =', L)\n",
    "id(L)"
   ]
  },
  {
   "cell_type": "markdown",
   "id": "8db4df23",
   "metadata": {},
   "source": [
    "# 2절. 함수의 실행결과를 반환하는 return"
   ]
  },
  {
   "cell_type": "code",
   "execution_count": 58,
   "id": "caaf439a",
   "metadata": {},
   "outputs": [],
   "source": [
    "def add(x, y):\n",
    "    return x + y # return 이후 명령문은 미실행"
   ]
  },
  {
   "cell_type": "code",
   "execution_count": 59,
   "id": "dc1d7563",
   "metadata": {},
   "outputs": [
    {
     "data": {
      "text/plain": [
       "5"
      ]
     },
     "execution_count": 59,
     "metadata": {},
     "output_type": "execute_result"
    }
   ],
   "source": [
    "i, j = 2, 3\n",
    "add(i, j)"
   ]
  },
  {
   "cell_type": "code",
   "execution_count": 60,
   "id": "a792f6e6",
   "metadata": {},
   "outputs": [
    {
     "data": {
      "text/plain": [
       "True"
      ]
     },
     "execution_count": 60,
     "metadata": {},
     "output_type": "execute_result"
    }
   ],
   "source": [
    "def add():\n",
    "    return True\n",
    "add()"
   ]
  },
  {
   "cell_type": "code",
   "execution_count": 62,
   "id": "70e15ebf",
   "metadata": {},
   "outputs": [
    {
     "name": "stdout",
     "output_type": "stream",
     "text": [
      "None\n"
     ]
    }
   ],
   "source": [
    "def add(a):\n",
    "    pass\n",
    "print(add(10))"
   ]
  },
  {
   "cell_type": "code",
   "execution_count": 76,
   "id": "703c3c36",
   "metadata": {},
   "outputs": [],
   "source": [
    "def fibonacci_print(n):\n",
    "    '''\n",
    "    매개변수로 들어온 n값 미만의 피보나치 수열을 출력\n",
    "    ex. n=10이면 0 1 1 2 3 5 8을 출력\n",
    "    '''\n",
    "    a, b = 0, 1\n",
    "    while a < 10:\n",
    "        print(a, end=' ')\n",
    "        a, b = b, a+b\n",
    "    print() # 개행\n",
    "    \n",
    "def fibonacci_return(n):\n",
    "    '''\n",
    "    매개변수로 들어온 n값 미만의 피보나치 수열을 리스트로 return\n",
    "    ex. n=10이면 0 1 1 2 3 5 8을 return\n",
    "    '''\n",
    "    result = []\n",
    "    a, b = 0, 1\n",
    "    while a < 10:\n",
    "        result.append(a)\n",
    "        a, b = b, a+b\n",
    "    print() # 개행\n",
    "    return result  # return은 하나만 가능?"
   ]
  },
  {
   "cell_type": "code",
   "execution_count": 80,
   "id": "022b6855",
   "metadata": {},
   "outputs": [
    {
     "name": "stdout",
     "output_type": "stream",
     "text": [
      "0 1 1 2 3 5 8 \n",
      "None\n",
      "<class 'NoneType'>\n",
      "\n",
      "[0, 1, 1, 2, 3, 5, 8]\n",
      "<class 'list'>\n"
     ]
    }
   ],
   "source": [
    "x = fibonacci_print(100)\n",
    "print(x)\n",
    "print(type(x))\n",
    "x = fibonacci_return(100)\n",
    "print(x)\n",
    "print(type(x))"
   ]
  },
  {
   "cell_type": "markdown",
   "id": "f2ac1ca2",
   "metadata": {},
   "source": [
    "## 여러개 값 return"
   ]
  },
  {
   "cell_type": "code",
   "execution_count": 81,
   "id": "fb020988",
   "metadata": {},
   "outputs": [],
   "source": [
    "def swap(a, b):\n",
    "    '매개변수의 순서를 바꿔서 return'\n",
    "    return b, a  # 여러 값이 return될 때에는 하나의 튜플로 만들어서 return"
   ]
  },
  {
   "cell_type": "code",
   "execution_count": 85,
   "id": "301ed8b5",
   "metadata": {},
   "outputs": [
    {
     "name": "stdout",
     "output_type": "stream",
     "text": [
      "함수 실행 전 x=5, y =10\n",
      "함수 실행 후 x=10, y =5\n"
     ]
    }
   ],
   "source": [
    "x, y = 5, 10\n",
    "print(f'함수 실행 전 x={x}, y ={y}')\n",
    "x, y = swap(x, y)\n",
    "print(f'함수 실행 후 x={x}, y ={y}')"
   ]
  },
  {
   "cell_type": "markdown",
   "id": "d3f01e3e",
   "metadata": {},
   "source": [
    "# 3절. 함수의 매개변수 ★\n",
    "## 3.1 기본값을 갖는 매개변수"
   ]
  },
  {
   "cell_type": "code",
   "execution_count": 90,
   "id": "c76b9a97",
   "metadata": {},
   "outputs": [],
   "source": [
    "def make_url(ip, port=80): # 순서인수 (ip) > 기본값을 갖는 매개변수 (port=80) (순서 중요!!!)\n",
    "    return \"http://{}:{}\".format(ip, port)"
   ]
  },
  {
   "cell_type": "code",
   "execution_count": 93,
   "id": "eb3b31b8",
   "metadata": {},
   "outputs": [
    {
     "name": "stdout",
     "output_type": "stream",
     "text": [
      "http://www.naver.com:80\n",
      "http://localhost:8090\n",
      "http://localhost:8090\n"
     ]
    }
   ],
   "source": [
    "print(make_url('www.naver.com'))\n",
    "print(make_url('localhost', 8090))\n",
    "print(make_url(port=8090, ip='localhost'))"
   ]
  },
  {
   "cell_type": "markdown",
   "id": "b42172a0",
   "metadata": {},
   "source": [
    "## 3.2 기본 변수를 갖는 매개변수\n",
    "- 기본변수가 스칼라 변수일 때\n",
    "- 기본변수가 리스트, 셋, 딕셔너리 등의 객체일 때"
   ]
  },
  {
   "cell_type": "code",
   "execution_count": 104,
   "id": "28a3d383",
   "metadata": {},
   "outputs": [
    {
     "name": "stdout",
     "output_type": "stream",
     "text": [
      "1882732953968\n"
     ]
    }
   ],
   "source": [
    "i = 5\n",
    "print(id(i))\n",
    "# 기본값을 갖는 변수가 스칼라 변수일 때 : arg의 함수가 정의되는 시점의 값\n",
    "def func2(arg=i):\n",
    "    print('arg= ',arg, id(arg))\n"
   ]
  },
  {
   "cell_type": "code",
   "execution_count": 105,
   "id": "ac3d6ace",
   "metadata": {},
   "outputs": [
    {
     "name": "stdout",
     "output_type": "stream",
     "text": [
      "1882732955408\n",
      "arg=  5 1882732953968\n"
     ]
    }
   ],
   "source": [
    "i = 50\n",
    "print(id(i))\n",
    "func2()"
   ]
  },
  {
   "cell_type": "code",
   "execution_count": 107,
   "id": "14a0ed9c",
   "metadata": {},
   "outputs": [],
   "source": [
    "list_ = []\n",
    "# 기본값을 갖는 변수가 객체(데이타구조)일 때 : arg의 기본값은 호출되는 시점의 값\n",
    "def func3(data, L=list_):\n",
    "    'data를 L에 append'\n",
    "    L.append(data)\n",
    "    return L"
   ]
  },
  {
   "cell_type": "code",
   "execution_count": 108,
   "id": "576bd52d",
   "metadata": {},
   "outputs": [
    {
     "name": "stdout",
     "output_type": "stream",
     "text": [
      "[10]\n"
     ]
    }
   ],
   "source": [
    "print(func3(10)) # list_가 수정 된 결과 : [10]"
   ]
  },
  {
   "cell_type": "code",
   "execution_count": 110,
   "id": "02de08c2",
   "metadata": {},
   "outputs": [
    {
     "name": "stdout",
     "output_type": "stream",
     "text": [
      "[10, 20]\n"
     ]
    }
   ],
   "source": [
    "print(func3(20))"
   ]
  },
  {
   "cell_type": "code",
   "execution_count": 111,
   "id": "6ce0c26a",
   "metadata": {},
   "outputs": [
    {
     "data": {
      "text/plain": [
       "[10, 20]"
      ]
     },
     "execution_count": 111,
     "metadata": {},
     "output_type": "execute_result"
    }
   ],
   "source": [
    "list_"
   ]
  },
  {
   "cell_type": "code",
   "execution_count": 112,
   "id": "1c9dcd5d",
   "metadata": {},
   "outputs": [],
   "source": [
    "def func4(data, L=None):\n",
    "    if L==None:\n",
    "        L = []\n",
    "    L.append(data)\n",
    "    return L"
   ]
  },
  {
   "cell_type": "code",
   "execution_count": 113,
   "id": "aef78898",
   "metadata": {},
   "outputs": [
    {
     "name": "stdout",
     "output_type": "stream",
     "text": [
      "[10]\n",
      "[10, 20, 10]\n"
     ]
    }
   ],
   "source": [
    "print(func4(10))\n",
    "print(func4(10, list_))"
   ]
  },
  {
   "cell_type": "markdown",
   "id": "1934b089",
   "metadata": {},
   "source": [
    "## 3.3 튜플 매개변수를 이용한 가변인수 설정"
   ]
  },
  {
   "cell_type": "code",
   "execution_count": 116,
   "id": "e28c9999",
   "metadata": {},
   "outputs": [],
   "source": [
    "# 파이썬은 오버로딩(함수의 중복)을 지원하지 않습니다\n",
    "def add(a, b):\n",
    "    return a+b\n",
    "def add(a, b, c):\n",
    "    return a+b+c"
   ]
  },
  {
   "cell_type": "code",
   "execution_count": 117,
   "id": "1528377b",
   "metadata": {},
   "outputs": [
    {
     "ename": "TypeError",
     "evalue": "add() takes 3 positional arguments but 6 were given",
     "output_type": "error",
     "traceback": [
      "\u001b[1;31m---------------------------------------------------------------------------\u001b[0m",
      "\u001b[1;31mTypeError\u001b[0m                                 Traceback (most recent call last)",
      "Cell \u001b[1;32mIn[117], line 1\u001b[0m\n\u001b[1;32m----> 1\u001b[0m \u001b[43madd\u001b[49m\u001b[43m(\u001b[49m\u001b[38;5;241;43m1\u001b[39;49m\u001b[43m,\u001b[49m\u001b[43m \u001b[49m\u001b[38;5;241;43m2\u001b[39;49m\u001b[43m,\u001b[49m\u001b[43m \u001b[49m\u001b[38;5;241;43m3\u001b[39;49m\u001b[43m,\u001b[49m\u001b[43m \u001b[49m\u001b[38;5;241;43m4\u001b[39;49m\u001b[43m,\u001b[49m\u001b[43m \u001b[49m\u001b[38;5;241;43m5\u001b[39;49m\u001b[43m,\u001b[49m\u001b[43m \u001b[49m\u001b[38;5;241;43m6\u001b[39;49m\u001b[43m)\u001b[49m\n",
      "\u001b[1;31mTypeError\u001b[0m: add() takes 3 positional arguments but 6 were given"
     ]
    }
   ],
   "source": [
    "add(1, 2, 3, 4, 5, 6)"
   ]
  },
  {
   "cell_type": "code",
   "execution_count": 114,
   "id": "dc6f466e",
   "metadata": {},
   "outputs": [
    {
     "name": "stdout",
     "output_type": "stream",
     "text": [
      "Hello World Python Hello World Python\n"
     ]
    }
   ],
   "source": [
    "print('Hello', 'World', 'Python', 'Hello', 'World', 'Python')"
   ]
  },
  {
   "cell_type": "code",
   "execution_count": 121,
   "id": "2d9fea52",
   "metadata": {},
   "outputs": [],
   "source": [
    "# *argss: 매개변수들을 하나의 튜플 변수 args로 전달 받음\n",
    "def add(*args):\n",
    "    '전달받은 매개변수들의 합을 return'\n",
    "    # print('args = ', args)\n",
    "    result_tot = 0 # 누적변수\n",
    "    for data in args:\n",
    "        result_tot += data\n",
    "    return result_tot"
   ]
  },
  {
   "cell_type": "code",
   "execution_count": 122,
   "id": "9079eec9",
   "metadata": {},
   "outputs": [
    {
     "name": "stdout",
     "output_type": "stream",
     "text": [
      "55\n"
     ]
    }
   ],
   "source": [
    "print(add(1,2,3,4,5,6,7,8,9,10))"
   ]
  },
  {
   "cell_type": "code",
   "execution_count": null,
   "id": "d219091f",
   "metadata": {},
   "outputs": [],
   "source": []
  },
  {
   "cell_type": "code",
   "execution_count": 125,
   "id": "e86ba09c",
   "metadata": {},
   "outputs": [
    {
     "data": {
      "text/plain": [
       "'Python/Oracle/DL/ML'"
      ]
     },
     "execution_count": 125,
     "metadata": {},
     "output_type": "execute_result"
    }
   ],
   "source": [
    "subject = ('Python','Oracle', 'DL', 'ML')\n",
    "'/'.join(subject)"
   ]
  },
  {
   "cell_type": "code",
   "execution_count": 134,
   "id": "b26b72ac",
   "metadata": {},
   "outputs": [],
   "source": [
    "def concat(*subject, sep):\n",
    "    return sep.join(subject)"
   ]
  },
  {
   "cell_type": "code",
   "execution_count": 135,
   "id": "fda41791",
   "metadata": {},
   "outputs": [
    {
     "ename": "TypeError",
     "evalue": "concat() missing 1 required keyword-only argument: 'sep'",
     "output_type": "error",
     "traceback": [
      "\u001b[1;31m---------------------------------------------------------------------------\u001b[0m",
      "\u001b[1;31mTypeError\u001b[0m                                 Traceback (most recent call last)",
      "Cell \u001b[1;32mIn[135], line 1\u001b[0m\n\u001b[1;32m----> 1\u001b[0m \u001b[43mconcat\u001b[49m\u001b[43m(\u001b[49m\u001b[38;5;124;43m'\u001b[39;49m\u001b[38;5;124;43mPython\u001b[39;49m\u001b[38;5;124;43m'\u001b[39;49m\u001b[43m,\u001b[49m\u001b[38;5;124;43m'\u001b[39;49m\u001b[38;5;124;43mOracle\u001b[39;49m\u001b[38;5;124;43m'\u001b[39;49m\u001b[43m,\u001b[49m\u001b[43m \u001b[49m\u001b[38;5;124;43m'\u001b[39;49m\u001b[38;5;124;43mDL\u001b[39;49m\u001b[38;5;124;43m'\u001b[39;49m\u001b[43m,\u001b[49m\u001b[43m \u001b[49m\u001b[38;5;124;43m'\u001b[39;49m\u001b[38;5;124;43mML\u001b[39;49m\u001b[38;5;124;43m'\u001b[39;49m\u001b[43m,\u001b[49m\u001b[43m \u001b[49m\u001b[38;5;124;43m'\u001b[39;49m\u001b[38;5;124;43m/\u001b[39;49m\u001b[38;5;124;43m'\u001b[39;49m\u001b[43m)\u001b[49m\n",
      "\u001b[1;31mTypeError\u001b[0m: concat() missing 1 required keyword-only argument: 'sep'"
     ]
    }
   ],
   "source": [
    "concat('Python','Oracle', 'DL', 'ML', '/') # /로 스트링 연결하는 함수"
   ]
  },
  {
   "cell_type": "code",
   "execution_count": 136,
   "id": "1d3b51ba",
   "metadata": {},
   "outputs": [
    {
     "data": {
      "text/plain": [
       "'Python/Oracle/DL/ML'"
      ]
     },
     "execution_count": 136,
     "metadata": {},
     "output_type": "execute_result"
    }
   ],
   "source": [
    "# 해결책1 : 매개변수 이름을 지정해서 호출\n",
    "concat('Python','Oracle', 'DL', 'ML', sep='/')"
   ]
  },
  {
   "cell_type": "code",
   "execution_count": 137,
   "id": "d427fc45",
   "metadata": {},
   "outputs": [],
   "source": [
    "# 해결책2 : 기본값을 반드시 갖는 키워드 인수 사용\n",
    "def concat(*subject, sep=' ~ '):\n",
    "    return sep.join(subject)"
   ]
  },
  {
   "cell_type": "code",
   "execution_count": 138,
   "id": "b2a37412",
   "metadata": {},
   "outputs": [
    {
     "data": {
      "text/plain": [
       "'Python/Oracle/DL/ML'"
      ]
     },
     "execution_count": 138,
     "metadata": {},
     "output_type": "execute_result"
    }
   ],
   "source": [
    "concat('Python','Oracle', 'DL', 'ML', sep='/')"
   ]
  },
  {
   "cell_type": "code",
   "execution_count": 139,
   "id": "dc0ef30f",
   "metadata": {},
   "outputs": [
    {
     "name": "stdout",
     "output_type": "stream",
     "text": [
      "Python/Oracle/DL/ML\n"
     ]
    }
   ],
   "source": [
    "print('Python','Oracle', 'DL', 'ML', sep='/')"
   ]
  },
  {
   "cell_type": "code",
   "execution_count": 142,
   "id": "c1e71477",
   "metadata": {},
   "outputs": [],
   "source": [
    "# 해결책 3 : sep을 순서인수로 앞에 선언\n",
    "def concat(sep, *subject):\n",
    "    return sep.join(subject)"
   ]
  },
  {
   "cell_type": "code",
   "execution_count": 144,
   "id": "c2460744",
   "metadata": {},
   "outputs": [
    {
     "data": {
      "text/plain": [
       "'Python Oracle DL ML'"
      ]
     },
     "execution_count": 144,
     "metadata": {},
     "output_type": "execute_result"
    }
   ],
   "source": [
    "concat(' ', 'Python','Oracle', 'DL', 'ML')"
   ]
  },
  {
   "cell_type": "markdown",
   "id": "30734f5a",
   "metadata": {},
   "source": [
    "## 3.4 딕셔너리 매개변수\n",
    "- 여러개의 키워드인수를 딕셔너리 형태로 받아서 가변키워드 인수 처리"
   ]
  },
  {
   "cell_type": "code",
   "execution_count": 156,
   "id": "7ed21f7a",
   "metadata": {},
   "outputs": [],
   "source": [
    "def func5(**kwargs):\n",
    "    # print(kwargs)\n",
    "    print(type(kwargs))\n",
    "    print('이름 ; ', kwargs.get('name', '대마왕'))\n",
    "    print('나이 ; ', kwargs.get('age', 30))\n",
    "    print('주소 ; ', kwargs.get('address', '서울'))"
   ]
  },
  {
   "cell_type": "code",
   "execution_count": 157,
   "id": "6904748d",
   "metadata": {},
   "outputs": [
    {
     "name": "stdout",
     "output_type": "stream",
     "text": [
      "<class 'dict'>\n",
      "이름 ;  홍길동\n",
      "나이 ;  30\n",
      "주소 ;  신림동\n"
     ]
    }
   ],
   "source": [
    "func5(name='홍길동', age=30, address='신림동')"
   ]
  },
  {
   "cell_type": "code",
   "execution_count": 158,
   "id": "6477a5be",
   "metadata": {},
   "outputs": [
    {
     "name": "stdout",
     "output_type": "stream",
     "text": [
      "<class 'dict'>\n",
      "이름 ;  김길동\n",
      "나이 ;  30\n",
      "주소 ;  서울\n"
     ]
    }
   ],
   "source": [
    "func5(name='김길동')"
   ]
  },
  {
   "cell_type": "markdown",
   "id": "ad6d5afe",
   "metadata": {},
   "source": [
    "## 3.5 함수정의시 매개변수 순서\n",
    "- 순서인수 > 튜플매개변수(*) > 키워드매개변수(매개변수이름반드시명시) > 딕셔너리매개변수(**)"
   ]
  },
  {
   "cell_type": "code",
   "execution_count": 159,
   "id": "827886f9",
   "metadata": {},
   "outputs": [],
   "source": [
    "def func6(a, b, *c, **d):\n",
    "    print('순서인수 a :', a)\n",
    "    print('순서인수 b :', b)\n",
    "    print('튜플인수 c :', c)\n",
    "    print('딕셔너리인수 d :', d)"
   ]
  },
  {
   "cell_type": "code",
   "execution_count": 161,
   "id": "c8070645",
   "metadata": {},
   "outputs": [
    {
     "name": "stdout",
     "output_type": "stream",
     "text": [
      "순서인수 a : 10\n",
      "순서인수 b : 20\n",
      "튜플인수 c : (1, 2, 3, 4, 5, 6, 7, 8, 9)\n",
      "딕셔너리인수 d : {'name': '홍길동', 'age': 30, 'address': '서울'}\n"
     ]
    }
   ],
   "source": [
    "func6(10, 20, 1, 2, 3, 4, 5, 6, 7, 8, 9, name='홍길동', age=30, address='서울')"
   ]
  },
  {
   "cell_type": "code",
   "execution_count": 162,
   "id": "cb0e8bca",
   "metadata": {},
   "outputs": [],
   "source": [
    "def func7(a, b, *c, d='기본값', **e):\n",
    "    print('순서인수 a :', a)\n",
    "    print('순서인수 b :', b)\n",
    "    print('튜플인수 c :', c)\n",
    "    print('키워드인수(기본값을 갖는 인수, 호출시 매개변수명 반드시 명시) d :', d)\n",
    "    print('딕셔너리인수 e :', e)"
   ]
  },
  {
   "cell_type": "code",
   "execution_count": 163,
   "id": "c77ba7b1",
   "metadata": {},
   "outputs": [
    {
     "name": "stdout",
     "output_type": "stream",
     "text": [
      "순서인수 a : 10\n",
      "순서인수 b : 20\n",
      "튜플인수 c : (1, 2, 3)\n",
      "키워드인수(기본값을 갖는 인수, 호출시 매개변수명 반드시 명시) d : 딴거\n",
      "딕셔너리인수 e : {'fontsize': 12, 'fontfamily': 'consola'}\n"
     ]
    }
   ],
   "source": [
    "func7(10,20,1,2,3, d='딴거', fontsize=12, fontfamily='consola')"
   ]
  },
  {
   "cell_type": "code",
   "execution_count": 164,
   "id": "78408222",
   "metadata": {},
   "outputs": [
    {
     "name": "stdout",
     "output_type": "stream",
     "text": [
      "순서인수 a : 10\n",
      "순서인수 b : 20\n",
      "튜플인수 c : (1, 2, 3, '딴거')\n",
      "키워드인수(기본값을 갖는 인수, 호출시 매개변수명 반드시 명시) d : 기본값\n",
      "딕셔너리인수 e : {'fontsize': 12, 'fontfamily': 'consola'}\n"
     ]
    }
   ],
   "source": [
    "func7(10,20,1,2,3, '딴거', fontsize=12, fontfamily='consola')"
   ]
  },
  {
   "cell_type": "markdown",
   "id": "9fb87e7f",
   "metadata": {},
   "source": [
    "## 3.6 인수의 언패킹\n",
    "### 튜플인수 언패킹\n",
    "- 언패킹 : 함수 호출시 매개변수 앞에 * 붙임\n",
    "- 패킹 : 함수 정의시 매개변수 앞에 * 붙임(튜플매개변수)"
   ]
  },
  {
   "cell_type": "code",
   "execution_count": 166,
   "id": "e2a1a00c",
   "metadata": {},
   "outputs": [],
   "source": [
    "def add(*args):\n",
    "    print(args)\n",
    "    tot = 0\n",
    "    for num in args:\n",
    "        tot += num\n",
    "    return tot"
   ]
  },
  {
   "cell_type": "code",
   "execution_count": 167,
   "id": "3b497e6c",
   "metadata": {},
   "outputs": [
    {
     "name": "stdout",
     "output_type": "stream",
     "text": [
      "(1, 2, 3, 4)\n"
     ]
    },
    {
     "data": {
      "text/plain": [
       "10"
      ]
     },
     "execution_count": 167,
     "metadata": {},
     "output_type": "execute_result"
    }
   ],
   "source": [
    "add(1, 2, 3, 4)"
   ]
  },
  {
   "cell_type": "code",
   "execution_count": 169,
   "id": "26a92cdb",
   "metadata": {},
   "outputs": [
    {
     "name": "stdout",
     "output_type": "stream",
     "text": [
      "(1, 2, 3, 4)\n"
     ]
    },
    {
     "data": {
      "text/plain": [
       "10"
      ]
     },
     "execution_count": 169,
     "metadata": {},
     "output_type": "execute_result"
    }
   ],
   "source": [
    "numbers = [1, 2, 3, 4]\n",
    "add(*numbers) # 언패킹"
   ]
  },
  {
   "cell_type": "code",
   "execution_count": 170,
   "id": "62dda386",
   "metadata": {},
   "outputs": [
    {
     "name": "stdout",
     "output_type": "stream",
     "text": [
      "(1, 2, 3, 4)\n"
     ]
    },
    {
     "data": {
      "text/plain": [
       "10"
      ]
     },
     "execution_count": 170,
     "metadata": {},
     "output_type": "execute_result"
    }
   ],
   "source": [
    "numbers = (1, 2, 3, 4)\n",
    "add(*numbers) # 언패킹"
   ]
  },
  {
   "cell_type": "markdown",
   "id": "fa1eee31",
   "metadata": {},
   "source": [
    "### 딕셔너리인수 언패킹\n",
    "- 딕셔너리 언패킹 : 함수 호출시 매개변수 앞에 ** 붙임\n",
    "- 딕셔너리 패킹 : 함수 정의시 매개변수 앞에 ** 붙임(딕셔너리매개변수) "
   ]
  },
  {
   "cell_type": "code",
   "execution_count": 4,
   "id": "2e4ca055",
   "metadata": {},
   "outputs": [],
   "source": [
    "def func5(**data):\n",
    "    print(type(data))\n",
    "    for key, item in data.items():\n",
    "        print(f'{key}:{item}')\n",
    "    "
   ]
  },
  {
   "cell_type": "code",
   "execution_count": 5,
   "id": "588cc1f2",
   "metadata": {},
   "outputs": [
    {
     "name": "stdout",
     "output_type": "stream",
     "text": [
      "<class 'dict'>\n",
      "name:홍길동\n",
      "age:30\n",
      "address:신림\n"
     ]
    }
   ],
   "source": [
    "func5(name='홍길동', age=30, address='신림')"
   ]
  },
  {
   "cell_type": "code",
   "execution_count": 7,
   "id": "49f7c58c",
   "metadata": {},
   "outputs": [
    {
     "name": "stdout",
     "output_type": "stream",
     "text": [
      "<class 'dict'>\n",
      "name:홍길동\n",
      "age:30\n",
      "address:서울시 강남구\n",
      "score:900\n"
     ]
    }
   ],
   "source": [
    "customInfo = {'name':'홍길동','age':30,'address':'서울시 강남구','score':900}\n",
    "func5(**customInfo)"
   ]
  },
  {
   "cell_type": "markdown",
   "id": "17703669",
   "metadata": {},
   "source": [
    "# 4절. 람다식\n",
    "- return 한줄짜리 작은 익명함수\n",
    "## 4.1 람다식 연습"
   ]
  },
  {
   "cell_type": "code",
   "execution_count": 8,
   "id": "49c0856f",
   "metadata": {},
   "outputs": [
    {
     "data": {
      "text/plain": [
       "7"
      ]
     },
     "execution_count": 8,
     "metadata": {},
     "output_type": "execute_result"
    }
   ],
   "source": [
    "def add(a, b):\n",
    "    return a+b\n",
    "add(3,4)"
   ]
  },
  {
   "cell_type": "code",
   "execution_count": 10,
   "id": "199af5a7",
   "metadata": {},
   "outputs": [
    {
     "data": {
      "text/plain": [
       "7"
      ]
     },
     "execution_count": 10,
     "metadata": {},
     "output_type": "execute_result"
    }
   ],
   "source": [
    "add2 = lambda a, b : a+b\n",
    "add(3,4)"
   ]
  },
  {
   "cell_type": "code",
   "execution_count": 11,
   "id": "91a459de",
   "metadata": {},
   "outputs": [
    {
     "data": {
      "text/plain": [
       "(function, function)"
      ]
     },
     "execution_count": 11,
     "metadata": {},
     "output_type": "execute_result"
    }
   ],
   "source": [
    "type(add), type(add2)"
   ]
  },
  {
   "cell_type": "code",
   "execution_count": 12,
   "id": "14aef79c",
   "metadata": {},
   "outputs": [
    {
     "data": {
      "text/plain": [
       "7"
      ]
     },
     "execution_count": 12,
     "metadata": {},
     "output_type": "execute_result"
    }
   ],
   "source": [
    "(lambda a, b : a+b)(3, 4)"
   ]
  },
  {
   "cell_type": "code",
   "execution_count": 13,
   "id": "74449660",
   "metadata": {},
   "outputs": [
    {
     "data": {
      "text/plain": [
       "('짝수', '홀수')"
      ]
     },
     "execution_count": 13,
     "metadata": {},
     "output_type": "execute_result"
    }
   ],
   "source": [
    "# ex1. 매개변수로 들어온 값이 짝수인지 홀수인지 return\n",
    "def ex1(num):\n",
    "#     if num%2:\n",
    "#         result = '홀수'\n",
    "#     else:\n",
    "#         result = '짝수' \n",
    "    return '홀수' if num%2 else '짝수'\n",
    "ex1 = lambda num : '홀수' if num%2 else '짝수'\n",
    "ex1(10), ex1(-9)"
   ]
  },
  {
   "cell_type": "code",
   "execution_count": 21,
   "id": "abf59dcb",
   "metadata": {},
   "outputs": [
    {
     "data": {
      "text/plain": [
       "10"
      ]
     },
     "execution_count": 21,
     "metadata": {},
     "output_type": "execute_result"
    }
   ],
   "source": [
    "# ex2. 두 매개변수의 차이를 return\n",
    "ex2 = lambda num1, num2 : max(num1,num2) - min(num1, num2)\n",
    "ex2 = lambda a, b : a-b if a>b else b-a # 강사 추천\n",
    "ex2(-5, 5)"
   ]
  },
  {
   "cell_type": "code",
   "execution_count": 22,
   "id": "96edba34",
   "metadata": {},
   "outputs": [
    {
     "data": {
      "text/plain": [
       "(101, 'negative', 'negative')"
      ]
     },
     "execution_count": 22,
     "metadata": {},
     "output_type": "execute_result"
    }
   ],
   "source": [
    "# ex3. 매개변수로 잔액을 받아 양수면 잔액을 return, 음수면 'negative'를 return\n",
    "ex3 = lambda bal : bal if bal>=0 else 'negative'\n",
    "ex3 = lambda money : money if money>0 else 'negative' # 강사추헌\n",
    "ex3(101), ex3(0), ex3(-3)"
   ]
  },
  {
   "cell_type": "code",
   "execution_count": 24,
   "id": "fb2afb6b",
   "metadata": {},
   "outputs": [
    {
     "data": {
      "text/plain": [
       "('A팀', '유효하지 않음', 'B팀', '재시험', '유효하지 않음')"
      ]
     },
     "execution_count": 24,
     "metadata": {},
     "output_type": "execute_result"
    }
   ],
   "source": [
    "# ex4. 점수를 입력받아 점수가 80점 이상은 A팀, 60점 이상은 B팀, 60점 미만은 재시험. \n",
    "#      그외는 유효하지 않음\n",
    "# ex4 = lambda scr : 'A팀' if scr>=80 elif scr>=60 'B팀' elif scr>=0 '재시험' else '유효않음'\n",
    "ex4 = lambda score : 'A팀' if 90<=score<=100 else \\\n",
    "                    'B팀' if 60<=score<80 else \\\n",
    "                    '재시험' if 0<=score<60 else \\\n",
    "                    '유효하지 않음'   # 강사추천\n",
    "ex4(99), ex4(-10), ex4(77), ex4(59), ex4(120)"
   ]
  },
  {
   "cell_type": "code",
   "execution_count": 25,
   "id": "04cc80dd",
   "metadata": {},
   "outputs": [
    {
     "data": {
      "text/plain": [
       "(-1, 2)"
      ]
     },
     "execution_count": 25,
     "metadata": {},
     "output_type": "execute_result"
    }
   ],
   "source": [
    "# ex5. safe_index를 람다식으로\n",
    "numbers = [1, 2, 3, [1, 2, 3], 1, 2, 3]\n",
    "\n",
    "# def safe_index(vector, data):\n",
    "#     if data in vector: # vector안에 data 있는지 여부\n",
    "#         return vector.index(data)\n",
    "#     else:\n",
    "#         return -1\n",
    "\n",
    "# safe_index(numbers, 9)\n",
    "\n",
    "ex5 = lambda vector, data : vector.index(data) if data in vector else -1  # 강사 추천 lst => vector\n",
    "ex5(numbers, 9), ex5(numbers, 3)"
   ]
  },
  {
   "cell_type": "markdown",
   "id": "769c17e6",
   "metadata": {},
   "source": [
    "## 4.2 함수의 매개변수에 담다식 이용\n",
    "```\n",
    "def func(fun, data)\n",
    "    명령어\n",
    "```\n",
    "### (1) map"
   ]
  },
  {
   "cell_type": "code",
   "execution_count": 1,
   "id": "159d61e9",
   "metadata": {},
   "outputs": [],
   "source": [
    "# 리스트 데이터 가공 방법 1. map\n",
    "def map_template(func, L=[1, 2, 3]):\n",
    "    'L의 모든 요소를 func()함수를 적용시켜 return'\n",
    "    result = []\n",
    "    for l in L:\n",
    "        result.append(func(l))\n",
    "    return result\n",
    "#     return [func(l) for l in L]\n",
    "    "
   ]
  },
  {
   "cell_type": "code",
   "execution_count": 3,
   "id": "ca45889d",
   "metadata": {},
   "outputs": [
    {
     "data": {
      "text/plain": [
       "[2, 4, 6, 8, 10, 12, 14, 16, 18, 20]"
      ]
     },
     "execution_count": 3,
     "metadata": {},
     "output_type": "execute_result"
    }
   ],
   "source": [
    "list_data = [1, 2, 3, 4, 5, 6, 7, 8, 9, 10]\n",
    "map_template(lambda x : x*2, list_data)\n",
    "# def x_2(x):\n",
    "#     return x*2\n",
    "# map_template(x_2, list_data)"
   ]
  },
  {
   "cell_type": "code",
   "execution_count": 4,
   "id": "1276ce15",
   "metadata": {},
   "outputs": [
    {
     "data": {
      "text/plain": [
       "[2, 4, 6, 8, 10, 12, 14, 16, 18, 20]"
      ]
     },
     "execution_count": 4,
     "metadata": {},
     "output_type": "execute_result"
    }
   ],
   "source": [
    "# 리스트 데이터 가공 방법 2. 리스트 컴프리헨션\n",
    "[l*2 for l in list_data]"
   ]
  },
  {
   "cell_type": "code",
   "execution_count": 6,
   "id": "583b6a62",
   "metadata": {},
   "outputs": [
    {
     "data": {
      "text/plain": [
       "[2, 4, 6, 8, 10, 12, 14, 16, 18, 20]"
      ]
     },
     "execution_count": 6,
     "metadata": {},
     "output_type": "execute_result"
    }
   ],
   "source": [
    "# 리스트 데이터 가공 방법 3. map(): 파이썬 내장함수\n",
    "list(map(lambda x : x*2, list_data))"
   ]
  },
  {
   "cell_type": "code",
   "execution_count": 7,
   "id": "3384f7fc",
   "metadata": {},
   "outputs": [
    {
     "name": "stdout",
     "output_type": "stream",
     "text": [
      "2 4 6 8 10 12 14 16 18 20 "
     ]
    }
   ],
   "source": [
    "for item in map(lambda x : x*2, list_data):\n",
    "    print(item, end=' ')"
   ]
  },
  {
   "cell_type": "code",
   "execution_count": 16,
   "id": "a72b7b18",
   "metadata": {},
   "outputs": [],
   "source": [
    "'''\n",
    "예1. [5000, 800, 1000, 6000]로 바꾸시오\n",
    "'''\n",
    "prices = ['5,000', '800', '1000', '6,000']\n"
   ]
  },
  {
   "cell_type": "code",
   "execution_count": 13,
   "id": "c43c00d3",
   "metadata": {},
   "outputs": [
    {
     "data": {
      "text/plain": [
       "(5000, 1800)"
      ]
     },
     "execution_count": 13,
     "metadata": {},
     "output_type": "execute_result"
    }
   ],
   "source": [
    "def func(x):\n",
    "    return int(x.replace(',',''))\n",
    "func('5,000'), func('1800')"
   ]
  },
  {
   "cell_type": "code",
   "execution_count": 15,
   "id": "3acec510",
   "metadata": {},
   "outputs": [
    {
     "data": {
      "text/plain": [
       "[5000, 800, 1000, 6000]"
      ]
     },
     "execution_count": 15,
     "metadata": {},
     "output_type": "execute_result"
    }
   ],
   "source": [
    "list(map(lambda x : int(x.replace(',','')), prices))"
   ]
  },
  {
   "cell_type": "code",
   "execution_count": null,
   "id": "606470ca",
   "metadata": {},
   "outputs": [],
   "source": []
  },
  {
   "cell_type": "code",
   "execution_count": 23,
   "id": "9985db27",
   "metadata": {},
   "outputs": [],
   "source": [
    "'''\n",
    "예2. member1 = [{'name':'홍길동', 'birth':'2000-01-01'},\n",
    "                {'name':'신길동', 'birth':'1998-12-31'}]를\n",
    "     member2 = [{'name':'홍길동', 'year':2000, 'month':1, 'day':1},\n",
    "                {'name':'신길동', 'year':1998, 'month':12, 'day':31},]를 바꿉니다.\n",
    "'''\n",
    "member1 = [{'name':'홍길동', 'birth':'2000-01-01'},\n",
    "                {'name':'신길동', 'birth':'1998-12-31'}]"
   ]
  },
  {
   "cell_type": "code",
   "execution_count": 20,
   "id": "631c81c8",
   "metadata": {},
   "outputs": [],
   "source": [
    "# '2000-01-01' => {'year':2000, 'month':1, 'day':1}\n",
    "def split_date(date):\n",
    "    split_data = date.split('-')\n",
    "#     print(split_date[0], split_date[1], split_date[2])\n",
    "    return {'year': int(split_data[0]),\n",
    "            'month': int(split_data[1]),\n",
    "            'day': int(split_data[2])\n",
    "           }\n"
   ]
  },
  {
   "cell_type": "code",
   "execution_count": 21,
   "id": "8389ee96",
   "metadata": {},
   "outputs": [
    {
     "data": {
      "text/plain": [
       "{'year': 2000, 'month': 1, 'day': 1}"
      ]
     },
     "execution_count": 21,
     "metadata": {},
     "output_type": "execute_result"
    }
   ],
   "source": [
    "split_date('2000-01-01')"
   ]
  },
  {
   "cell_type": "code",
   "execution_count": 25,
   "id": "2ddb4b95",
   "metadata": {},
   "outputs": [
    {
     "data": {
      "text/plain": [
       "{'name': '홍길동', 'year': 2000, 'month': 1, 'day': 1}"
      ]
     },
     "execution_count": 25,
     "metadata": {},
     "output_type": "execute_result"
    }
   ],
   "source": [
    "def member_func(member): # {'name':'홍길동', 'birth':'2000-01-01'}\n",
    "    \"{'name':'홍길동', 'year':2000, 'month':1, 'day':1} 식으로 return\"\n",
    "    return {\n",
    "        'name':member.get('name'),\n",
    "        'year':int(member['birth'].split('-')[0]),\n",
    "        'month':int(member['birth'].split('-')[1]),\n",
    "        'day':int(member['birth'].split('-')[2]),\n",
    "    }\n",
    "member_func(member1[0])"
   ]
  },
  {
   "cell_type": "code",
   "execution_count": 27,
   "id": "00477641",
   "metadata": {},
   "outputs": [
    {
     "data": {
      "text/plain": [
       "[{'name': '홍길동', 'year': 2000, 'month': 1, 'day': 1},\n",
       " {'name': '신길동', 'year': 1998, 'month': 12, 'day': 31}]"
      ]
     },
     "execution_count": 27,
     "metadata": {},
     "output_type": "execute_result"
    }
   ],
   "source": [
    "member2 = list(map(lambda member : {\n",
    "                            'name':member.get('name'),\n",
    "                            'year':int(member['birth'].split('-')[0]),\n",
    "                            'month':int(member['birth'].split('-')[1]),\n",
    "                            'day':int(member['birth'].split('-')[2]),\n",
    "                            },\n",
    "             member1\n",
    "            )\n",
    "        )\n",
    "member2"
   ]
  },
  {
   "cell_type": "code",
   "execution_count": 48,
   "id": "f4f3da0e",
   "metadata": {},
   "outputs": [
    {
     "data": {
      "text/plain": [
       "[{'name': '홍길동', 'birth': '2000-01-01'},\n",
       " {'name': '신길동', 'birth': '1998-12-31'}]"
      ]
     },
     "execution_count": 48,
     "metadata": {},
     "output_type": "execute_result"
    }
   ],
   "source": [
    "'예3. member2를 member1로 바꿉니다'\n",
    "member1 = list(map(lambda member : {\n",
    "                            'name':member.get('name'),\n",
    "                            'birth': \"{year}-{month:02}-{day:02}\".format(**member)\n",
    "                            },\n",
    "                   member2\n",
    "                  )\n",
    "              )\n",
    "member1\n"
   ]
  },
  {
   "cell_type": "code",
   "execution_count": 38,
   "id": "2920ed31",
   "metadata": {},
   "outputs": [
    {
     "data": {
      "text/plain": [
       "'2000-01-01'"
      ]
     },
     "execution_count": 38,
     "metadata": {},
     "output_type": "execute_result"
    }
   ],
   "source": [
    "# {'year':2000, 'month':1, 'day':1} => \"2000-01-01\"를 return하는 함수\n",
    "def join_date(data):\n",
    "#     print([data.get('year'), data.get('month'), data.get('day'),])\n",
    "    year = str(data.get('year'))\n",
    "    month = data.get('month')\n",
    "    if month < 10:\n",
    "        month = '0'+str(month)\n",
    "    else:\n",
    "        month = '0'+str(month)\n",
    "    day = data.get('day')\n",
    "    if day < 10:\n",
    "        day = '0'+str(day)\n",
    "    else:\n",
    "        day = '0'+str(day)\n",
    "    return '-'.join([year, month, day])\n",
    "\n",
    "join_date({'year':2000, 'month':1, 'day':1})"
   ]
  },
  {
   "cell_type": "code",
   "execution_count": null,
   "id": "9c18ac8a",
   "metadata": {},
   "outputs": [],
   "source": []
  },
  {
   "cell_type": "code",
   "execution_count": 40,
   "id": "a79bf778",
   "metadata": {},
   "outputs": [
    {
     "name": "stdout",
     "output_type": "stream",
     "text": [
      "2000-01-01\n"
     ]
    }
   ],
   "source": [
    "def join_date(data):\n",
    "    print('{}-{:02}-{:02}'.format(data.get('year'),\n",
    "                                 data.get('month'),\n",
    "                                 data.get('day')))\n",
    "join_date({'year':2000, 'month':1, 'day':1})"
   ]
  },
  {
   "cell_type": "code",
   "execution_count": 85,
   "id": "1ad15e90",
   "metadata": {},
   "outputs": [
    {
     "name": "stdout",
     "output_type": "stream",
     "text": [
      "2000-01-01\n"
     ]
    }
   ],
   "source": [
    "def join_date(data):\n",
    "    print('{year}-{month:02}-{day:02}'.format(\n",
    "                                        name = data.get('name'), # format함수 지정방식에 따라 무시됨\n",
    "                                        year = data.get('year'),\n",
    "                                        month = data.get('month'),\n",
    "                                        day = data.get('day')))\n",
    "\n",
    "join_date({'year':2000, 'month':1, 'day':1})\n",
    "# 간단하게 하면,"
   ]
  },
  {
   "cell_type": "code",
   "execution_count": 71,
   "id": "5c7473a2",
   "metadata": {},
   "outputs": [
    {
     "data": {
      "text/plain": [
       "'2000-01-01'"
      ]
     },
     "execution_count": 71,
     "metadata": {},
     "output_type": "execute_result"
    }
   ],
   "source": [
    "def join_date(data):\n",
    "    return \"{year}-{month:02}-{day:02}\".format(**data)\n",
    "    \n",
    "join_date({'year':2000, 'month':1, 'day':1})"
   ]
  },
  {
   "cell_type": "code",
   "execution_count": 74,
   "id": "6508b5c4",
   "metadata": {},
   "outputs": [
    {
     "data": {
      "text/plain": [
       "[{'name': '홍길동', 'birth': '2000-01-01'},\n",
       " {'name': '신길동', 'birth': '1998-12-31'}]"
      ]
     },
     "execution_count": 74,
     "metadata": {},
     "output_type": "execute_result"
    }
   ],
   "source": [
    "# {'name':'홍길동', 'year':2000, 'month':1, 'day':1}(member2)를\n",
    "# {'name':'홍길동', 'birth':'2000-01-01'}으로 가공\n",
    "list(map(lambda member : {\n",
    "            'name' : member.get('name'),\n",
    "            'birth': \"{year}-{month:02}-{day:02}\".format(**member) # key값으로 매칭?\n",
    "            },\n",
    "        member2\n",
    "        )\n",
    "    )"
   ]
  },
  {
   "cell_type": "markdown",
   "id": "b25458e1",
   "metadata": {},
   "source": [
    "### (2) filter\n",
    "- map처리 : [1, 2, 3, 4, 5] => [2, 4, 6, 8, 10] (벡터의 모든 데이터를 가공)\n",
    "- filter : [1,2 3,4,5] => [2,4] (원하는 정보를 추출)\n",
    "* cf. 리스트 컴프리헨션"
   ]
  },
  {
   "cell_type": "code",
   "execution_count": 67,
   "id": "15a41cd3",
   "metadata": {},
   "outputs": [],
   "source": [
    "def filter_template(func, L=[]):\n",
    "    result = []\n",
    "    for l in L:\n",
    "        if func(l):\n",
    "            result.append(l)\n",
    "    return result"
   ]
  },
  {
   "cell_type": "code",
   "execution_count": 51,
   "id": "d2759995",
   "metadata": {},
   "outputs": [
    {
     "data": {
      "text/plain": [
       "(True, False)"
      ]
     },
     "execution_count": 51,
     "metadata": {},
     "output_type": "execute_result"
    }
   ],
   "source": [
    "def evenChk(value):\n",
    "    return value%2==0\n",
    "evenChk(10), evenChk(-9)"
   ]
  },
  {
   "cell_type": "code",
   "execution_count": 68,
   "id": "93e9a0a2",
   "metadata": {},
   "outputs": [
    {
     "data": {
      "text/plain": [
       "[2, 4]"
      ]
     },
     "execution_count": 68,
     "metadata": {},
     "output_type": "execute_result"
    }
   ],
   "source": [
    "list_data = [1, 2, 3, 4, 5]\n",
    "filter_template(lambda value : value%2==0, list_data)"
   ]
  },
  {
   "cell_type": "code",
   "execution_count": 69,
   "id": "6793be89",
   "metadata": {},
   "outputs": [
    {
     "data": {
      "text/plain": [
       "[2, 4]"
      ]
     },
     "execution_count": 69,
     "metadata": {},
     "output_type": "execute_result"
    }
   ],
   "source": [
    "list(filter_template(lambda value : value%2==0, list_data))"
   ]
  },
  {
   "cell_type": "code",
   "execution_count": 57,
   "id": "89646c0c",
   "metadata": {},
   "outputs": [
    {
     "data": {
      "text/plain": [
       "[2, 4]"
      ]
     },
     "execution_count": 57,
     "metadata": {},
     "output_type": "execute_result"
    }
   ],
   "source": [
    "[data for data in list_data if data%2==0]"
   ]
  },
  {
   "cell_type": "markdown",
   "id": "ecbc64cd",
   "metadata": {},
   "source": [
    "### (3) sort"
   ]
  },
  {
   "cell_type": "code",
   "execution_count": 62,
   "id": "f58ec929",
   "metadata": {},
   "outputs": [
    {
     "data": {
      "text/plain": [
       "[9, 7, 2]"
      ]
     },
     "execution_count": 62,
     "metadata": {},
     "output_type": "execute_result"
    }
   ],
   "source": [
    "p = [9, 2, 7]\n",
    "p.sort(reverse=True)\n",
    "p"
   ]
  },
  {
   "cell_type": "code",
   "execution_count": 75,
   "id": "e9636a01",
   "metadata": {},
   "outputs": [
    {
     "data": {
      "text/plain": [
       "[(1, 'one'), (2, 'two'), (3, 'three'), (4, 'four')]"
      ]
     },
     "execution_count": 75,
     "metadata": {},
     "output_type": "execute_result"
    }
   ],
   "source": [
    "# 무조건 0번째 item 기준으로 정렬\n",
    "pairs = [(2, 'two'), (1, 'one'), (4, 'four'), (3, 'three')]\n",
    "pairs.sort()\n",
    "pairs"
   ]
  },
  {
   "cell_type": "code",
   "execution_count": 76,
   "id": "a75434f8",
   "metadata": {},
   "outputs": [
    {
     "data": {
      "text/plain": [
       "[(4, 'four'), (1, 'one'), (3, 'three'), (2, 'two')]"
      ]
     },
     "execution_count": 76,
     "metadata": {},
     "output_type": "execute_result"
    }
   ],
   "source": [
    "# 1번째 item 기준으로 정렬(abc순)\n",
    "pairs.sort(key=lambda pair : pair[1])\n",
    "pairs"
   ]
  },
  {
   "cell_type": "code",
   "execution_count": 83,
   "id": "aa43ecf1",
   "metadata": {},
   "outputs": [
    {
     "data": {
      "text/plain": [
       "[[10, 1], [9, 9, 9, 9, 9], [1, 100]]"
      ]
     },
     "execution_count": 83,
     "metadata": {},
     "output_type": "execute_result"
    }
   ],
   "source": [
    "# 무조건 0번 item 기준으로 정렬\n",
    "number2d = [[9,9,9,9,9],\n",
    "           [1, 100],\n",
    "           [10,1]]\n",
    "number2d.sort(reverse=True) # 기본(reverse=False): 오름차순정렬 / reverse=True: 내림차순정렬\n",
    "number2d"
   ]
  },
  {
   "cell_type": "code",
   "execution_count": 84,
   "id": "2dd8d948",
   "metadata": {},
   "outputs": [
    {
     "data": {
      "text/plain": [
       "[[1, 100], [9, 9, 9, 9, 9], [10, 1]]"
      ]
     },
     "execution_count": 84,
     "metadata": {},
     "output_type": "execute_result"
    }
   ],
   "source": [
    "# 합이 큰 순으로 정렬\n",
    "number2d.sort(key=lambda item : sum(item), reverse=True)\n",
    "number2d"
   ]
  },
  {
   "cell_type": "code",
   "execution_count": 80,
   "id": "7d540132",
   "metadata": {},
   "outputs": [
    {
     "data": {
      "text/plain": [
       "6"
      ]
     },
     "execution_count": 80,
     "metadata": {},
     "output_type": "execute_result"
    }
   ],
   "source": [
    "(lambda item : sum(item))([1,2,3])"
   ]
  },
  {
   "cell_type": "code",
   "execution_count": 91,
   "id": "4f823741",
   "metadata": {},
   "outputs": [
    {
     "data": {
      "text/plain": [
       "[{'name': '김길동', 'score': 50},\n",
       " {'name': '윤길동', 'score': 99},\n",
       " {'name': '홍길동', 'score': 90},\n",
       " {'score': 100}]"
      ]
     },
     "execution_count": 91,
     "metadata": {},
     "output_type": "execute_result"
    }
   ],
   "source": [
    "# 이름순으로 정렬(ㄱㄴㄷ순)\n",
    "students = [\n",
    "    {'name':'홍길동', 'score':90},\n",
    "    {'name':'김길동', 'score':50},\n",
    "    {'name':'윤길동', 'score':99},\n",
    "    {'score':100},\n",
    "]\n",
    "students.sort(key=lambda item : item.get('name', '힣'))\n",
    "students"
   ]
  },
  {
   "cell_type": "code",
   "execution_count": 92,
   "id": "9e8d66e3",
   "metadata": {},
   "outputs": [
    {
     "data": {
      "text/plain": [
       "[{'score': 100},\n",
       " {'name': '윤길동', 'score': 99},\n",
       " {'name': '홍길동', 'score': 90},\n",
       " {'name': '김길동', 'score': 50}]"
      ]
     },
     "execution_count": 92,
     "metadata": {},
     "output_type": "execute_result"
    }
   ],
   "source": [
    "# score순으로 정렬(내림차순정렬)\n",
    "students.sort(key=lambda item : item.get('score', 0), reverse=True)\n",
    "students"
   ]
  },
  {
   "cell_type": "code",
   "execution_count": 115,
   "id": "2009a17c",
   "metadata": {},
   "outputs": [],
   "source": [
    "# 책 제목순 정렬(ㄱㄴㄷ순), 저자순 정렬(ㄱㄴㄷ순) 가격순 정렬\n",
    "books =[\n",
    "    {'no':1, 'title':'강남 아파트 인사이트', 'writer':'오스트로이드', 'price':'25,200'},\n",
    "    {'no':2, 'title':'단 한 번의 삶', 'writer':'김영하', 'price':'18,100'},\n",
    "    {'no':3, 'title':'흔한남매 19', 'writer':'백난도', 'price':'14,220'},\n",
    "    {'no':4, 'title':'가격이잘못', 'writer':'홍길동', 'price':'-'},\n",
    "    {'no':5, 'title':'가격이숫자', 'writer':'신길동', 'price':900},\n",
    "    {'no':6, 'title':'가격이없음', 'writer':'신길동'},\n",
    "]"
   ]
  },
  {
   "cell_type": "code",
   "execution_count": 110,
   "id": "a74936cf",
   "metadata": {},
   "outputs": [
    {
     "data": {
      "text/plain": [
       "[{'no': 5, 'title': '가격이숫자', 'writer': '신길동', 'price': 900},\n",
       " {'no': 6, 'title': '가격이없음', 'writer': '신길동'},\n",
       " {'no': 4, 'title': '가격이잘못', 'writer': '홍길동', 'price': '-'},\n",
       " {'no': 1, 'title': '강남 아파트 인사이트', 'writer': '오스트로이드', 'price': '25,200'},\n",
       " {'no': 2, 'title': '단 한 번의 삶', 'writer': '김영하', 'price': '18,100'},\n",
       " {'no': 3, 'title': '흔한남매 19', 'writer': '백난도', 'price': '14,220'}]"
      ]
     },
     "execution_count": 110,
     "metadata": {},
     "output_type": "execute_result"
    }
   ],
   "source": [
    "books.sort(key = lambda book : book.get('title'))\n",
    "books"
   ]
  },
  {
   "cell_type": "code",
   "execution_count": 111,
   "id": "dc38eb8b",
   "metadata": {},
   "outputs": [
    {
     "data": {
      "text/plain": [
       "[{'no': 2, 'title': '단 한 번의 삶', 'writer': '김영하', 'price': '18,100'},\n",
       " {'no': 3, 'title': '흔한남매 19', 'writer': '백난도', 'price': '14,220'},\n",
       " {'no': 5, 'title': '가격이숫자', 'writer': '신길동', 'price': 900},\n",
       " {'no': 6, 'title': '가격이없음', 'writer': '신길동'},\n",
       " {'no': 1, 'title': '강남 아파트 인사이트', 'writer': '오스트로이드', 'price': '25,200'},\n",
       " {'no': 4, 'title': '가격이잘못', 'writer': '홍길동', 'price': '-'}]"
      ]
     },
     "execution_count": 111,
     "metadata": {},
     "output_type": "execute_result"
    }
   ],
   "source": [
    "books.sort(key = lambda book : book.get('writer'))\n",
    "books"
   ]
  },
  {
   "cell_type": "code",
   "execution_count": 123,
   "id": "a5d906fe",
   "metadata": {},
   "outputs": [
    {
     "ename": "TypeError",
     "evalue": "'<' not supported between instances of 'int' and 'str'",
     "output_type": "error",
     "traceback": [
      "\u001b[1;31m---------------------------------------------------------------------------\u001b[0m",
      "\u001b[1;31mTypeError\u001b[0m                                 Traceback (most recent call last)",
      "Cell \u001b[1;32mIn[123], line 1\u001b[0m\n\u001b[1;32m----> 1\u001b[0m \u001b[43mbooks\u001b[49m\u001b[38;5;241;43m.\u001b[39;49m\u001b[43msort\u001b[49m\u001b[43m(\u001b[49m\u001b[43mkey\u001b[49m\u001b[43m \u001b[49m\u001b[38;5;241;43m=\u001b[39;49m\u001b[43m \u001b[49m\u001b[38;5;28;43;01mlambda\u001b[39;49;00m\u001b[43m \u001b[49m\u001b[43mbook\u001b[49m\u001b[43m \u001b[49m\u001b[43m:\u001b[49m\u001b[43m \u001b[49m\u001b[43mbook\u001b[49m\u001b[38;5;241;43m.\u001b[39;49m\u001b[43mget\u001b[49m\u001b[43m(\u001b[49m\u001b[38;5;124;43m'\u001b[39;49m\u001b[38;5;124;43mprice\u001b[39;49m\u001b[38;5;124;43m'\u001b[39;49m\u001b[43m)\u001b[49m\u001b[43m)\u001b[49m\n\u001b[0;32m      2\u001b[0m books\n",
      "\u001b[1;31mTypeError\u001b[0m: '<' not supported between instances of 'int' and 'str'"
     ]
    }
   ],
   "source": [
    "books.sort(key = lambda book : book.get('price'))\n",
    "books"
   ]
  },
  {
   "cell_type": "code",
   "execution_count": 137,
   "id": "b4332744",
   "metadata": {},
   "outputs": [],
   "source": [
    "# '14,000' -> 14000 / '2000' -> 2000 / 800 -> 800 / '-' -> 0\n",
    "def parse_int(price):\n",
    "    #print(type(price))\n",
    "    if isinstance(price, str) and price.replace(',', '').isdigit(): # and : 논리연산자 only, & : 논리, 비트, ...연산자일 수 있다\n",
    "        return int(price.replace(',', ''))\n",
    "    elif isinstance(price, int):\n",
    "        return price\n",
    "    else:\n",
    "        return 0\n"
   ]
  },
  {
   "cell_type": "code",
   "execution_count": 138,
   "id": "7b1ef0c5",
   "metadata": {},
   "outputs": [
    {
     "data": {
      "text/plain": [
       "(8000, 8000, 800, 0)"
      ]
     },
     "execution_count": 138,
     "metadata": {},
     "output_type": "execute_result"
    }
   ],
   "source": [
    "parse_int(\"8,000\"), parse_int(\"8000\"), parse_int(800), parse_int('-')"
   ]
  },
  {
   "cell_type": "code",
   "execution_count": 145,
   "id": "25f603ae",
   "metadata": {},
   "outputs": [
    {
     "data": {
      "text/plain": [
       "(25200, 0, 14220, 0)"
      ]
     },
     "execution_count": 145,
     "metadata": {},
     "output_type": "execute_result"
    }
   ],
   "source": [
    "# {'no':6, 'title':'가격이없음', 'writer':'신길동'}\n",
    "# {'no':3, 'title':'흔한남매 19', 'writer':'백난도', 'price':'14,220'}\n",
    "# {'no':5, 'title':'가격이숫자', 'writer':'신길동', 'price':900}\n",
    "def parse_int(book):\n",
    "    if isinstance(book.get('price'), str) and \\\n",
    "            book.get('price').replace(',','').isdigit():\n",
    "        return int( book.get('price').replace(',','') )\n",
    "    elif isinstance(book.get('price'), int):\n",
    "        return book.get('price')\n",
    "    else:\n",
    "        return 00\n",
    "\n",
    "parse_int(books[0]), parse_int(books[3]), parse_int(books[2]),  parse_int(books[5])"
   ]
  },
  {
   "cell_type": "code",
   "execution_count": 146,
   "id": "601107fd",
   "metadata": {},
   "outputs": [],
   "source": [
    "copy_books.sort(key = lambda book : \n",
    "                int(book.get('price').replace(',','')) \\\n",
    "                    if isinstance(book.get('price'), str) and \\\n",
    "                        book.get('price').replace(',','').isdigit() else \\\n",
    "                book.get('price') if isinstance(book.get('price'), int) else \\\n",
    "                0                \n",
    "               )"
   ]
  },
  {
   "cell_type": "code",
   "execution_count": 147,
   "id": "bbc6ddf6",
   "metadata": {},
   "outputs": [
    {
     "data": {
      "text/plain": [
       "25200"
      ]
     },
     "execution_count": 147,
     "metadata": {},
     "output_type": "execute_result"
    }
   ],
   "source": [
    "# 람다식 테스트 확인\n",
    "(lambda book : \n",
    "                int(book.get('price').replace(',','')) \\\n",
    "                    if isinstance(book.get('price'), str) and \\\n",
    "                        book.get('price').replace(',','').isdigit() else \\\n",
    "                book.get('price') if isinstance(book.get('price'), int) else \\\n",
    "                0 )(books[0])"
   ]
  },
  {
   "cell_type": "code",
   "execution_count": 148,
   "id": "f59713b8",
   "metadata": {},
   "outputs": [
    {
     "data": {
      "text/plain": [
       "[{'no': 4, 'title': '가격이잘못', 'writer': '홍길동', 'price': '-'},\n",
       " {'no': 6, 'title': '가격이없음', 'writer': '신길동'},\n",
       " {'no': 5, 'title': '가격이숫자', 'writer': '신길동', 'price': 900},\n",
       " {'no': 3, 'title': '흔한남매 19', 'writer': '백난도', 'price': '14,220'},\n",
       " {'no': 2, 'title': '단 한 번의 삶', 'writer': '김영하', 'price': '18,100'},\n",
       " {'no': 1, 'title': '강남 아파트 인사이트', 'writer': '오스트로이드', 'price': '25,200'}]"
      ]
     },
     "execution_count": 148,
     "metadata": {},
     "output_type": "execute_result"
    }
   ],
   "source": [
    "copy_books"
   ]
  },
  {
   "cell_type": "code",
   "execution_count": 149,
   "id": "be7f9ebd",
   "metadata": {},
   "outputs": [
    {
     "data": {
      "text/plain": [
       "[{'no': 1, 'title': '강남 아파트 인사이트', 'writer': '오스트로이드', 'price': '25,200'},\n",
       " {'no': 2, 'title': '단 한 번의 삶', 'writer': '김영하', 'price': '18,100'},\n",
       " {'no': 3, 'title': '흔한남매 19', 'writer': '백난도', 'price': '14,220'},\n",
       " {'no': 4, 'title': '가격이잘못', 'writer': '홍길동', 'price': '-'},\n",
       " {'no': 5, 'title': '가격이숫자', 'writer': '신길동', 'price': 900},\n",
       " {'no': 6, 'title': '가격이없음', 'writer': '신길동'}]"
      ]
     },
     "execution_count": 149,
     "metadata": {},
     "output_type": "execute_result"
    }
   ],
   "source": [
    "books"
   ]
  },
  {
   "cell_type": "markdown",
   "id": "9b908dc3",
   "metadata": {},
   "source": [
    "## 4.3 return문에 람다식 이용"
   ]
  },
  {
   "cell_type": "code",
   "execution_count": 126,
   "id": "1672015e",
   "metadata": {},
   "outputs": [],
   "source": [
    "# 함수를 return\n",
    "def make_box(shape): # shape : [L], => length가 l인 list를 생성하는 함수 return, \n",
    "                     #         [r,c] => r행 c열인 2차원 list를 생성하는 함수 return\n",
    "                     #         [d,r,c] => d면 r행 c열 3차원 list를 생성하는 함수 return\n",
    "    def box(init_value):\n",
    "        if len(shape)==1:\n",
    "            return [init_value]*shape[0]\n",
    "        elif len(shape)==2:\n",
    "            return [[init_value]*shape[1]] * shape[0]\n",
    "        \n",
    "    return box"
   ]
  },
  {
   "cell_type": "code",
   "execution_count": 132,
   "id": "be0b45a1",
   "metadata": {},
   "outputs": [
    {
     "data": {
      "text/plain": [
       "[[3, 3, 3], [3, 3, 3]]"
      ]
     },
     "execution_count": 132,
     "metadata": {},
     "output_type": "execute_result"
    }
   ],
   "source": [
    "line_func = make_box([2,3])\n",
    "line_func(3)"
   ]
  },
  {
   "cell_type": "code",
   "execution_count": 131,
   "id": "012a5733",
   "metadata": {},
   "outputs": [
    {
     "data": {
      "text/plain": [
       "[3, 3, 3, 3, 3, 3, 3, 3, 3, 3]"
      ]
     },
     "execution_count": 131,
     "metadata": {},
     "output_type": "execute_result"
    }
   ],
   "source": [
    "line_func = make_box([10])\n",
    "line_func(3)"
   ]
  },
  {
   "cell_type": "code",
   "execution_count": 130,
   "id": "e5e68de5",
   "metadata": {},
   "outputs": [],
   "source": [
    "def make_box(shape):\n",
    "    if len(shape)==1:\n",
    "        return lambda init_value : [init_value] * shape[0]\n",
    "    elif len(shape)==2:\n",
    "        return lambda init_value : [ [init_value]*shape[1] ] * shape[0]"
   ]
  },
  {
   "cell_type": "markdown",
   "id": "0ce8fe16",
   "metadata": {},
   "source": [
    "# 5절. 파이썬 내장함수\n",
    "- import하지 않고 바로 사용 가능한 함수\n",
    "- 키워드처럼 간주되므로, 식별자(변수명, 함수명, 클래스명)로 사용하는 것을 피한다"
   ]
  },
  {
   "cell_type": "code",
   "execution_count": 136,
   "id": "e7693611",
   "metadata": {},
   "outputs": [
    {
     "data": {
      "text/plain": [
       "{'__name__': '__main__',\n",
       " '__doc__': '예3. member2를 member1로 바꿉니다',\n",
       " '__package__': None,\n",
       " '__loader__': None,\n",
       " '__spec__': None,\n",
       " '__builtin__': <module 'builtins' (built-in)>,\n",
       " '__builtins__': <module 'builtins' (built-in)>,\n",
       " '_ih': ['',\n",
       "  \"def map_template(func, L=[1, 2, 3]):\\n    'L의 모든 요소를 func()함수를 적용시켜 return'\\n    result = []\\n    for l in L:\\n        result.append(func(l))\\n    return result\\n#     return [func(l) for l in L]\\n    \",\n",
       "  'list_data = [1, 2, 3, 4, 5, 6, 7, 8, 9, 10]\\ndef x_2(x):\\n    return x*2\\nmap_template(x_2, list_data)',\n",
       "  'list_data = [1, 2, 3, 4, 5, 6, 7, 8, 9, 10]\\nmap_template(lambda x : x*2, list_data)\\n# def x_2(x):\\n#     return x*2\\n# map_template(x_2, list_data)',\n",
       "  '# 리스트 데이터 가공 방법 1. 리스트 컴프리헨션\\n[l*2 for l in list_data]',\n",
       "  '# 리스트 데이터 가공 방법 3. map(): 파이썬 내장함수\\nmap(lambda x : x*2, list_data)',\n",
       "  '# 리스트 데이터 가공 방법 3. map(): 파이썬 내장함수\\nlist(map(lambda x : x*2, list_data))',\n",
       "  \"for item in map(lambda x : x*2, list_data):\\n    print(item, end=' ')\",\n",
       "  \"'''\\n예1. [5000, 800, 1000, 6000]로 바꾸시오\\n'''\\nprices = ['5,000', '800', '1000', '6,000']\\nlist(map(lambda i : int(prices)))\",\n",
       "  \"'''\\n예1. [5000, 800, 1000, 6000]로 바꾸시오\\n'''\\nprices = ['5,000', '800', '1000', '6,000']\\nlist(map(lambda i : int(prices), prices))\",\n",
       "  \"'''\\n예1. [5000, 800, 1000, 6000]로 바꾸시오\\n'''\\nprices = ['5,000', '800', '1000', '6,000']\\nlist(map(lambda num : int(for i in prices), prices))\",\n",
       "  \"'''\\n예1. [5000, 800, 1000, 6000]로 바꾸시오\\n'''\\nprices = ['5,000', '800', '1000', '6,000']\\nlist(map(lambda num : int(for str_ in prices), prices))\",\n",
       "  \"def func(x):\\n    return int(x.replac(',',''))\\nfunc('5,000'), func('1800')\",\n",
       "  \"def func(x):\\n    return int(x.replace(',',''))\\nfunc('5,000'), func('1800')\",\n",
       "  \"map((lambda x : int(x.replace(',','')), prices))\",\n",
       "  \"list(map(lambda x : int(x.replace(',','')), prices))\",\n",
       "  \"'''\\n예1. [5000, 800, 1000, 6000]로 바꾸시오\\n'''\\nprices = ['5,000', '800', '1000', '6,000']\",\n",
       "  \"'''\\n예2. member1 = [{'name':'홍길동', 'birth':'2000-01-01'},\\n                {'name':'신길동', 'birth':'1998-12-31'}]를\\n     member2 = [{'name':'홍길동', 'year':2000, 'month':1, 'day':1},\\n                {'name':'신길동', 'year':1998, 'month':12, 'day':31},]를 바꿉니다.\\n'''\\nmember1 = [{'name':'홍길동', 'birth':'2000-01-01'},\\n                {'name':'신길동', 'birth':'1998-12-31'}]\",\n",
       "  \"# '2000-01-01' => {'year':2000, 'month':1, 'day':1}\\ndef split_date(date):\\n    split_date = date.split('-')\\n    print(split_date[0], split_date[1], split_date[2])\\n    \",\n",
       "  \"split_date('2000-01-01')\",\n",
       "  \"# '2000-01-01' => {'year':2000, 'month':1, 'day':1}\\ndef split_date(date):\\n    split_data = date.split('-')\\n#     print(split_date[0], split_date[1], split_date[2])\\n    return {'year': int(split_data[0]),\\n          'month': int(split_data[1]),\\n          'day': int(split_data[2])}\",\n",
       "  \"split_date('2000-01-01')\",\n",
       "  \"def member_func(member): # {'name':'홍길동', 'birth':'2000-01-01'}\\n    '{'name':'홍길동', 'year':2000, 'month':1, 'day':1} 식으로 return'\\n    return {\\n        'name':member.get('name'),\\n        'year':int(member['birth'].split('-')[0]),\\n        'month':int(member['birth'].split('-')[1]),\\n        'day':int(member['birth'].split('-')[2]),\\n    }\",\n",
       "  \"'''\\n예2. member1 = [{'name':'홍길동', 'birth':'2000-01-01'},\\n                {'name':'신길동', 'birth':'1998-12-31'}]를\\n     member2 = [{'name':'홍길동', 'year':2000, 'month':1, 'day':1},\\n                {'name':'신길동', 'year':1998, 'month':12, 'day':31},]를 바꿉니다.\\n'''\\nmember1 = [{'name':'홍길동', 'birth':'2000-01-01'},\\n                {'name':'신길동', 'birth':'1998-12-31'}]\",\n",
       "  'def member_func(member): # {\\'name\\':\\'홍길동\\', \\'birth\\':\\'2000-01-01\\'}\\n    \"{\\'name\\':\\'홍길동\\', \\'year\\':2000, \\'month\\':1, \\'day\\':1} 식으로 return\"\\n    return {\\n        \\'name\\':member.get(\\'name\\'),\\n        \\'year\\':int(member[\\'birth\\'].split(\\'-\\')[0]),\\n        \\'month\\':int(member[\\'birth\\'].split(\\'-\\')[1]),\\n        \\'day\\':int(member[\\'birth\\'].split(\\'-\\')[2]),\\n    }',\n",
       "  'def member_func(member): # {\\'name\\':\\'홍길동\\', \\'birth\\':\\'2000-01-01\\'}\\n    \"{\\'name\\':\\'홍길동\\', \\'year\\':2000, \\'month\\':1, \\'day\\':1} 식으로 return\"\\n    return {\\n        \\'name\\':member.get(\\'name\\'),\\n        \\'year\\':int(member[\\'birth\\'].split(\\'-\\')[0]),\\n        \\'month\\':int(member[\\'birth\\'].split(\\'-\\')[1]),\\n        \\'day\\':int(member[\\'birth\\'].split(\\'-\\')[2]),\\n    }\\nmember_func(member1[0])',\n",
       "  \"member2 = list(map(lambda member : {\\n                            'name':member.get('name'),\\n                            'year':int(member['birth'].split('-')[0]),\\n                            'month':int(member['birth'].split('-')[1]),\\n                            'day':int(member['birth'].split('-')[2]),\\n                            },\\n             member1\\n            )\\n        )\",\n",
       "  \"member2 = list(map(lambda member : {\\n                            'name':member.get('name'),\\n                            'year':int(member['birth'].split('-')[0]),\\n                            'month':int(member['birth'].split('-')[1]),\\n                            'day':int(member['birth'].split('-')[2]),\\n                            },\\n             member1\\n            )\\n        )\\nmember2\",\n",
       "  \"'예3. member2를 member1로 바꿉니다'\\nmember1 = list(map(lambda member : {\\n                            'name':member.get('name')\\n                            'birth':'-'.join(member.get('year'),member.get('month'),member.get('day'))\\n                                    }\\n                  )\\n              )\\nmember1\",\n",
       "  \"'예3. member2를 member1로 바꿉니다'\\nmember1 = list(map(lambda member : {\\n                            'name':member.get('name'),\\n                            'birth':'-'.join(member.get('year'),member.get('month'),member.get('day'))\\n                                    }\\n                  )\\n              )\\nmember1\",\n",
       "  \"'예3. member2를 member1로 바꿉니다'\\nmember1 = list(map(lambda member : {\\n                            'name':member.get('name'),\\n                            'birth':'-'.join(member.get('year'),member.get('month'),member.get('day'))\\n                                    }\\n                   member2\\n                  )\\n              )\\nmember1\",\n",
       "  \"'예3. member2를 member1로 바꿉니다'\\nmember1 = list(map(lambda member : {\\n                            'name':member.get('name'),\\n                            'birth':'-'.join(member.get('year'),member.get('month'),member.get('day'))\\n                                    },\\n                   member2\\n                  )\\n              )\\nmember1\",\n",
       "  \"'예3. member2를 member1로 바꿉니다'\\nmember1 = list(map(lambda member : {\\n                            'name':member.get('name'),\\n                            'birth':'-'.join(member.values()[1::])\\n                                    },\\n                   member2\\n                  )\\n              )\\nmember1\",\n",
       "  \"'예3. member2를 member1로 바꿉니다'\\nmember1 = list(map(lambda member : {\\n                            'name':member.get('name'),\\n                            'birth':str'-'.join(str(member.values())[1::])\\n                                    },\\n                   member2\\n                  )\\n              )\\nmember1\",\n",
       "  \"'예3. member2를 member1로 바꿉니다'\\nmember1 = list(map(lambda member : {\\n                            'name':member.get('name'),\\n                            'birth': '-'.join(str(member.values())[1::])\\n                                    },\\n                   member2\\n                  )\\n              )\\nmember1\",\n",
       "  \"'예3. member2를 member1로 바꿉니다'\\nmember1 = list(map(lambda member : {\\n                            'name':member.get('name'),\\n                            'birth': '-'.join(str(member.values()[1::])\\n                                    },\\n                   member2\\n                  )\\n              )\\nmember1\",\n",
       "  \"'예3. member2를 member1로 바꿉니다'\\nmember1 = list(map(lambda member : {\\n                            'name':member.get('name'),\\n                            'birth': '-'.join(str(member.values()[1::]))\\n                                    },\\n                   member2\\n                  )\\n              )\\nmember1\",\n",
       "  '# {\\'year\\':2000, \\'month\\':1, \\'day\\':1} => \"200-01-01\"를 return하는 함수\\ndef join_date(data):\\n#     print([data.get(\\'year\\'), data.get(\\'month\\'), data.get(\\'day\\'),])\\n    year = str(data.get(\\'month\\'))\\n    month = data.get(\\'month\\')\\n    if month < 10:\\n        month = \\'0\\'+str(month)\\n    else:\\n        month = \\'0\\'+str(month)\\n    day = data.get(\\'day\\')\\n    if day < 10:\\n        day = \\'0\\'+str(day)\\n    else:\\n        day = \\'0\\'+str(day)\\n    return \\'-\\'.join([year, month, day])\\n\\njoin_date({\\'year\\':2000, \\'month\\':1, \\'day\\':1})',\n",
       "  '# {\\'year\\':2000, \\'month\\':1, \\'day\\':1} => \"2000-01-01\"를 return하는 함수\\ndef join_date(data):\\n#     print([data.get(\\'year\\'), data.get(\\'month\\'), data.get(\\'day\\'),])\\n    year = str(data.get(\\'year\\'))\\n    month = data.get(\\'month\\')\\n    if month < 10:\\n        month = \\'0\\'+str(month)\\n    else:\\n        month = \\'0\\'+str(month)\\n    day = data.get(\\'day\\')\\n    if day < 10:\\n        day = \\'0\\'+str(day)\\n    else:\\n        day = \\'0\\'+str(day)\\n    return \\'-\\'.join([year, month, day])\\n\\njoin_date({\\'year\\':2000, \\'month\\':1, \\'day\\':1})',\n",
       "  \"def join_date(data)\\n    print('{}-{:02}-{:02}'.format(data.get('year'),\\n                                 data.get('month'),\\n                                 data.get('day')))\\njoin_date({'year':2000, 'month':1, 'day':1})\",\n",
       "  \"def join_date(data):\\n    print('{}-{:02}-{:02}'.format(data.get('year'),\\n                                 data.get('month'),\\n                                 data.get('day')))\\njoin_date({'year':2000, 'month':1, 'day':1})\",\n",
       "  \"def join_date(data):\\n    print('{year}-{month:02}-{day:02}'.format(year = data.get('year'),\\n                                     month = data.get('month'),\\n                                     day = data.get('day')))\\n\\njoin_date({'year':2000, 'month':1, 'day':1})\\n# 간단하게 하면,\",\n",
       "  \"def join_date(data):\\n    print('{year}-{month:02}-{day:02}'.format(**data))\\n    \\njoin_date({'year':2000, 'month':1, 'day':1})\",\n",
       "  \"def join_date(data):\\n    retrun '{year}-{month:02}-{day:02}'.format(**data)\\n    \\njoin_date({'year':2000, 'month':1, 'day':1})\",\n",
       "  'def join_date(data):\\n    retrun \"\\'{year}-{month:02}-{day:02}\\'.format(**data)\"\\n    \\njoin_date({\\'year\\':2000, \\'month\\':1, \\'day\\':1})',\n",
       "  \"def join_date(data):\\n    retrun '{year}-{month:02}-{day:02}'.format(**data)\\n    \\njoin_date({'year':2000, 'month':1, 'day':1})\",\n",
       "  'def join_date(data):\\n    retrun \"{year}-{month:02}-{day:02}\".format(**data)\\n    \\njoin_date({\\'year\\':2000, \\'month\\':1, \\'day\\':1})',\n",
       "  '#\\n#\\nlist(map(lambda member : {\\n            \\'name\\' : member.get(\\'name\\'),\\n            \\'birth\\': \"{year}-{month:02}-{day:02}\".format(**member)\\n            },\\n        member2\\n        )\\n    )',\n",
       "  '\\'예3. member2를 member1로 바꿉니다\\'\\nmember1 = list(map(lambda member : {\\n                            \\'name\\':member.get(\\'name\\'),\\n                            \\'birth\\': \"{year}-{month:02}-{day:02}\".format(**member)\\n                            },\\n                   member2\\n                  )\\n              )\\nmember1',\n",
       "  'def evenChk(value):\\n    return value%2==0\\nevenChk(10), enevChk(-9)',\n",
       "  'def evenChk(value):\\n    return value%2==0\\nevenChk(10), enenChk(-9)',\n",
       "  'def evenChk(value):\\n    return value%2==0\\nevenChk(10), evenChk(-9)',\n",
       "  'list_data = [1, 2, 3, 4, 5]\\nfilter_template(lambda value : value%2==0, list_data)',\n",
       "  'def filter_template(func, L=[]):\\n    result = []\\n    for l in L:\\n        if func(l):\\n            result.append(l)\\n        return result',\n",
       "  'list_data = [1, 2, 3, 4, 5]\\nfilter_template(lambda value : value%2==0, list_data)',\n",
       "  'list_data = [1, 2, 3, 4, 5]\\nfilter_template(lambda value : value%2==0, list_data)',\n",
       "  'list(filter_template(lambda value : value%2==0, list_data))',\n",
       "  '[data for data in list_data if data%2==0]',\n",
       "  'def filter_template(func, L=[]):\\n    result = []\\n    for l in L:\\n        if func(l)%2==0:\\n            result.append(l)\\n        return result',\n",
       "  'list_data = [1, 2, 3, 4, 5]\\nfilter_template(lambda value : value%2==0, list_data)',\n",
       "  'def filter_template(func, L=[]):\\n    result = []\\n    for l in L:\\n        if l%2==0:\\n            result.append(l)\\n        return result',\n",
       "  'list_data = [1, 2, 3, 4, 5]\\nfilter_template(lambda value : value%2==0, list_data)',\n",
       "  'p = [9, 2, 7]\\np.sort(reverse=True)\\np',\n",
       "  'def filter_template(func, L=[]):\\n    result = []\\n    for l in L:\\n        if func(l):\\n            result.append(l)\\n        return result',\n",
       "  'list_data = [1, 2, 3, 4, 5]\\nfilter_template(lambda value : value%2==0, list_data)',\n",
       "  'list(filter_template(lambda value : value%2==0, list_data))',\n",
       "  'list_data = [1, 2, 3, 4, 5]\\nfilter_template(lambda value : value%2==0, list_data)',\n",
       "  'def filter_template(func, L=[]):\\n    result = []\\n    for l in L:\\n        if func(l):\\n            result.append(l)\\n    return result',\n",
       "  'list_data = [1, 2, 3, 4, 5]\\nfilter_template(lambda value : value%2==0, list_data)',\n",
       "  'list(filter_template(lambda value : value%2==0, list_data))',\n",
       "  'def join_date(data):\\n    retrun \"{year}-{month:02}-{day:02}\".format(**data)\\n    \\njoin_date({\\'year\\':2000, \\'month\\':1, \\'day\\':1})',\n",
       "  'def join_date(data):\\n    return \"{year}-{month:02}-{day:02}\".format(**data)\\n    \\njoin_date({\\'year\\':2000, \\'month\\':1, \\'day\\':1})',\n",
       "  'def join_date(data):\\n    print(\\'{year}-{month:02}-{day:02}\\'.format(\\n                                    name=\"홍\",\\n                                     year = data.get(\\'year\\'),\\n                                     month = data.get(\\'month\\'),\\n                                     day = data.get(\\'day\\')))\\n\\njoin_date({\\'year\\':2000, \\'month\\':1, \\'day\\':1})\\n# 간단하게 하면,',\n",
       "  'def join_date(data):\\n    print(\\'{year}-{month:02}-{day:02}\\'.format(\\n                                        name=\"홍\",\\n                                        year = data.get(\\'year\\'),\\n                                        month = data.get(\\'month\\'),\\n                                        day = data.get(\\'day\\')))\\n\\njoin_date({\\'year\\':2000, \\'month\\':1, \\'day\\':1})\\n# 간단하게 하면,',\n",
       "  '# {\\'name\\':\\'홍길동\\', \\'year\\':2000, \\'month\\':1, \\'day\\':1}(member2)를\\n# {\\'name\\':\\'홍길동\\', \\'birth\\':\\'2000-01-01\\'}으로 가공\\nlist(map(lambda member : {\\n            \\'name\\' : member.get(\\'name\\'),\\n            \\'birth\\': \"{year}-{month:02}-{day:02}\".format(**member)\\n            },\\n        member2\\n        )\\n    )',\n",
       "  \"pairs = [(2, 'two'), (1, 'one'), (4, 'four'), (3, 'three')]\\npairs.sort()\\npairs\",\n",
       "  '# 1번째 item 기준으로 정렬(abc순)\\npairs.sort(key=lambda pair : pair[1])\\npairs',\n",
       "  '# 무조건 0번 item 기준으로 정렬\\nnumber2d = [[9,9,9,9,99],\\n           [1, 100],\\n           [10,1]]\\nnumber2d,sort(reverse=True) # 기본(reverse=False): 오름차순정렬 / reverse=True: 내림차순정렬',\n",
       "  '# 무조건 0번 item 기준으로 정렬\\nnumber2d = [[9,9,9,9,99],\\n           [1, 100],\\n           [10,1]]\\nnumber2d.sort(reverse=True) # 기본(reverse=False): 오름차순정렬 / reverse=True: 내림차순정렬',\n",
       "  '# 무조건 0번 item 기준으로 정렬\\nnumber2d = [[9,9,9,9,99],\\n           [1, 100],\\n           [10,1]]\\nnumber2d.sort(reverse=True) # 기본(reverse=False): 오름차순정렬 / reverse=True: 내림차순정렬\\nnumber2d',\n",
       "  '(lambda item : sum(item))([1,2,3])',\n",
       "  '# 합이 큰 순으로 정렬\\nnumber2d.sort(key=lambda item : sum(item), reverse=True)',\n",
       "  '# 합이 큰 순으로 정렬\\nnumber2d.sort(key=lambda item : sum(item), reverse=True)\\nnumber2d',\n",
       "  '# 무조건 0번 item 기준으로 정렬\\nnumber2d = [[9,9,9,9,9],\\n           [1, 100],\\n           [10,1]]\\nnumber2d.sort(reverse=True) # 기본(reverse=False): 오름차순정렬 / reverse=True: 내림차순정렬\\nnumber2d',\n",
       "  '# 합이 큰 순으로 정렬\\nnumber2d.sort(key=lambda item : sum(item), reverse=True)\\nnumber2d',\n",
       "  \"def join_date(data):\\n    print('{year}-{month:02}-{day:02}'.format(\\n                                        name=data.get('name'), # format함수 지정방식에 따라 무시됨\\n                                        year = data.get('year'),\\n                                        month = data.get('month'),\\n                                        day = data.get('day')))\\n\\njoin_date({'year':2000, 'month':1, 'day':1})\\n# 간단하게 하면,\",\n",
       "  \"# 이름순으로 정렬(ㄱㄴㄷ순)\\nstudents = [\\n    {'name':'홍길동', 'score':90},\\n    {'name':'김길동', 'score':50},\\n    {'name':'윤길동', 'score':99},\\n#    {'score':100},\\n]\\nstudents.sort(key=lambda item : *item.get('name'))\\nnumber2d\",\n",
       "  \"# 이름순으로 정렬(ㄱㄴㄷ순)\\nstudents = [\\n    {'name':'홍길동', 'score':90},\\n    {'name':'김길동', 'score':50},\\n    {'name':'윤길동', 'score':99},\\n#    {'score':100},\\n]\\nstudents.sort(key=lambda item : item.get('name'))\\nnumber2d\",\n",
       "  \"# 이름순으로 정렬(ㄱㄴㄷ순)\\nstudents = [\\n    {'name':'홍길동', 'score':90},\\n    {'name':'김길동', 'score':50},\\n    {'name':'윤길동', 'score':99},\\n#    {'score':100},\\n]\\nstudents.sort(key=lambda item : item.get('name'))\\nstudents\",\n",
       "  \"# score순으로 정렬(내림차순정렬)\\nstudents.sort(key=lambda item : item.get('score'), reverse=True)\\nstudents\",\n",
       "  \"# 이름순으로 정렬(ㄱㄴㄷ순)\\nstudents = [\\n    {'name':'홍길동', 'score':90},\\n    {'name':'김길동', 'score':50},\\n    {'name':'윤길동', 'score':99},\\n    {'score':100},\\n]\\nstudents.sort(key=lambda item : item.get('name'))\\nstudents\",\n",
       "  \"# 이름순으로 정렬(ㄱㄴㄷ순)\\nstudents = [\\n    {'name':'홍길동', 'score':90},\\n    {'name':'김길동', 'score':50},\\n    {'name':'윤길동', 'score':99},\\n    {'score':100},\\n]\\nstudents.sort(key=lambda item : item.get('name', '힣'))\\nstudents\",\n",
       "  \"# score순으로 정렬(내림차순정렬)\\nstudents.sort(key=lambda item : item.get('score', 0), reverse=True)\\nstudents\",\n",
       "  \"books.sort(key = lambda book : book.get('title'))\\nbooks\",\n",
       "  \"# 책 제목순 정렬(ㄱㄴㄷ순), 저자순 정렬(ㄱㄴㄷ순) 가격순 정렬\\nbooks =[\\n    {'no':1, 'title':'강남 아파트 인사이트', 'writer':'오스트로이드', 'price':'25,200'},\\n    {'no':2, 'title':'단 한 번의 삶', 'writer':'김영하', 'price':'18,100'},\\n    {'no':3, 'title':'흔한남매 19', 'writer':'백난도', 'price':'14,220'},\\n    {'no':4, 'title':'가격이 잘못', 'writer':'홍길도', 'price':'-'},\\n    {'no':5, 'title':'가격이숫자', 'writer':'신길도', 'price':900},\\n    {'no':6, 'title':'가격이없음', 'writer':'신길도'},\\n]\",\n",
       "  \"books.sort(key = lambda book : book.get('title'))\\nbooks\",\n",
       "  \"# 책 제목순 정렬(ㄱㄴㄷ순), 저자순 정렬(ㄱㄴㄷ순) 가격순 정렬\\nbooks =[\\n    {'no':1, 'title':'강남 아파트 인사이트', 'writer':'오스트로이드', 'price':'25,200'},\\n    {'no':2, 'title':'단 한 번의 삶', 'writer':'김영하', 'price':'18,100'},\\n    {'no':3, 'title':'흔한남매 19', 'writer':'백난도', 'price':'14,220'},\\n    {'no':4, 'title':'가격이잘못', 'writer':'홍길도', 'price':'-'},\\n    {'no':5, 'title':'가격이숫자', 'writer':'신길도', 'price':900},\\n    {'no':6, 'title':'가격이없음', 'writer':'신길도'},\\n]\",\n",
       "  \"books.sort(key = lambda book : book.get('title'))\\nbooks\",\n",
       "  \"books.sort(key = lambda book : book.get('writer'))\\nbooks\",\n",
       "  \"books.sort(key = lambda book : book.get('price'))\\nbooks\",\n",
       "  \"# '14,000' -> 14000 / 800 -> 800 / '-' -> 0\\ndef parse_int(price):\\n    print(type(price))\",\n",
       "  'parse_int(800)',\n",
       "  'parse_int(\"800\")',\n",
       "  \"# '14,000' -> 14000 / '2000' -> 2000 / 800 -> 800 / '-' -> 0\\ndef parse_int(price):\\n    #print(type(price))\\n    if isinstance(price, str) and price.replace(',', '').isdigit():\\n        return int(price.replace(',', ''))\\n    elif isinstance(price, int):\\n        return price\",\n",
       "  'parse_int(\"8000\")',\n",
       "  'parse_int(\"8,000\")',\n",
       "  \"# '14,000' -> 14000 / '2000' -> 2000 / 800 -> 800 / '-' -> 0\\ndef parse_int(price):\\n    #print(type(price))\\n    if isinstance(price, str) and price.replace(',', '').isdigit():\\n        return int(price.replace(',', ''))\\n    elif isinstance(price, int):\\n        return price\",\n",
       "  'parse_int(8000)',\n",
       "  'parse_int(\"8,000\"), parse_int(\\'8000\\'), parse_int(800), parse_int(\\'-\\'),',\n",
       "  \"# 책 제목순 정렬(ㄱㄴㄷ순), 저자순 정렬(ㄱㄴㄷ순) 가격순 정렬\\nbooks =[\\n    {'no':1, 'title':'강남 아파트 인사이트', 'writer':'오스트로이드', 'price':'25,200'},\\n    {'no':2, 'title':'단 한 번의 삶', 'writer':'김영하', 'price':'18,100'},\\n    {'no':3, 'title':'흔한남매 19', 'writer':'백난도', 'price':'14,220'},\\n    {'no':4, 'title':'가격이잘못', 'writer':'홍길동', 'price':'-'},\\n    {'no':5, 'title':'가격이숫자', 'writer':'신길동', 'price':900},\\n    {'no':6, 'title':'가격이없음', 'writer':'신길동'},\\n]\",\n",
       "  \"books.sort(key = lambda book : book.get('title'))\\nbooks\",\n",
       "  \"books.sort(key = lambda book : book.get('writer'))\\nbooks\",\n",
       "  \"books.sort(key = lambda book : book.get('price'))\\nbooks\",\n",
       "  \"# '14,000' -> 14000 / '2000' -> 2000 / 800 -> 800 / '-' -> 0\\ndef parse_int(price):\\n    #print(type(price))\\n    if isinstance(price, str) and price.replace(',', '').isdigit(): # and : 논리연산자 only, & : 논리, 비트, ...연산자일 수 있다\\n        return int(price.replace(',', ''))\\n    elif isinstance(price, int):\\n        return price\\n    else:\\n        return 0\",\n",
       "  'parse_int(\"8,000\"), parse_int(\\'8000\\'), parse_int(800), parse_int(\\'-\\'),',\n",
       "  \"# 책 제목순 정렬(ㄱㄴㄷ순), 저자순 정렬(ㄱㄴㄷ순) 가격순 정렬\\nbooks =[\\n    {'no':1, 'title':'강남 아파트 인사이트', 'writer':'오스트로이드', 'price':'25,200'},\\n    {'no':2, 'title':'단 한 번의 삶', 'writer':'김영하', 'price':'18,100'},\\n    {'no':3, 'title':'흔한남매 19', 'writer':'백난도', 'price':'14,220'},\\n    {'no':4, 'title':'가격이잘못', 'writer':'홍길동', 'price':'-'},\\n    {'no':5, 'title':'가격이숫자', 'writer':'신길동', 'price':900},\\n    {'no':6, 'title':'가격이없음', 'writer':'신길동'},\\n]\",\n",
       "  \"# '14,000' -> 14000 / '2000' -> 2000 / 800 -> 800 / '-' -> 0\\ndef parse_int(price):\\n    #print(type(price))\\n    if isinstance(price, str) and price.replace(',', '').isdigit(): # and : 논리연산자 only, & : 논리, 비트, ...연산자일 수 있다\\n        return int(price.replace(',', ''))\\n    elif isinstance(price, int):\\n        return price\\n    else:\\n        return 0\\nfor i in range(5):\\n    parse_int(books[0])\",\n",
       "  \"# '14,000' -> 14000 / '2000' -> 2000 / 800 -> 800 / '-' -> 0\\ndef parse_int(price):\\n    #print(type(price))\\n    if isinstance(price, str) and price.replace(',', '').isdigit(): # and : 논리연산자 only, & : 논리, 비트, ...연산자일 수 있다\\n        return int(price.replace(',', ''))\\n    elif isinstance(price, int):\\n        return price\\n    else:\\n        return 0\\n    \\nfor i in range(5):\\n    print(parse_int(books[i]), end '')\",\n",
       "  \"# '14,000' -> 14000 / '2000' -> 2000 / 800 -> 800 / '-' -> 0\\ndef parse_int(price):\\n    #print(type(price))\\n    if isinstance(price, str) and price.replace(',', '').isdigit(): # and : 논리연산자 only, & : 논리, 비트, ...연산자일 수 있다\\n        return int(price.replace(',', ''))\\n    elif isinstance(price, int):\\n        return price\\n    else:\\n        return 0\\n    \\nfor i in range(5):\\n    print(parse_int(books[i]), end='')\",\n",
       "  'copy_boos = books.copy()',\n",
       "  'copy_books = books.copy()',\n",
       "  \"copy_books = books.copy()\\ncopy_books.sort(key = lambda book :\\n               int(book.get('price').replace(',','')) \\\\\\n                   if isinstance(book.get('price'), str) and\\\\\\n                       book.get('price').replace(',','').isdiget() else \\\\\\n               book.get('price') if isinstance(book.get('price'), int) else \\\\\\n               0\\n               )\",\n",
       "  \"copy_books = books.copy()\\n\\ncopy_books.sort(key = lambda book :\\n               int(book.get('price').replace(',','')) \\\\\\n                   if isinstance(book.get('price'), str) and \\\\\\n                       book.get('price').replace(',','').isdiget() else \\\\\\n               book.get('price') if isinstance(book.get('price'), int) else \\\\\\n               0\\n               )\",\n",
       "  \"books.sort(key = lambda book : book.get('price'))\\nbooks\",\n",
       "  '# 함수를 return\\ndef make_box(shape): # shape : [L], => length가 l인 list를 생성하는 함수 return, \\n                     #         [r,c] => r행 c열인 2차원 list를 생성하는 함수 return\\n                     #         [d,r,c] => d면 r행 c열 3차원 list를 생성하는 함수 return\\n    def box(init_value):\\n        if len(shpae)==1:\\n            return [init_value]*shape[0]\\n        elif len(shape)==2:\\n            return [[init_value]*shape[1]] * shape[0]\\n    return box',\n",
       "  'line_func = make_box([2,3])\\nline_func(3)',\n",
       "  '# 함수를 return\\ndef make_box(shape): # shape : [L], => length가 l인 list를 생성하는 함수 return, \\n                     #         [r,c] => r행 c열인 2차원 list를 생성하는 함수 return\\n                     #         [d,r,c] => d면 r행 c열 3차원 list를 생성하는 함수 return\\n    def box(init_value):\\n        if len(shape)==1:\\n            return [init_value]*shape[0]\\n        elif len(shape)==2:\\n            return [[init_value]*shape[1]] * shape[0]\\n    return box',\n",
       "  'line_func = make_box([2,3])\\nline_func(3)',\n",
       "  'line_func = make_box([10])\\nline_func(3)',\n",
       "  'def make_box(shape):\\n    if len(shape)==1:\\n        return lambda init_value : [init_value] * shape[0]\\n    elif:\\n        return lambda init_value : [ [init_value]*shape[1] ] * shape[0]',\n",
       "  'def make_box(shape):\\n    if len(shape)==1:\\n        return lambda init_value : [init_value] * shape[0]\\n    elif len(shape)==2:\\n        return lambda init_value : [ [init_value]*shape[1] ] * shape[0]',\n",
       "  'line_func = make_box([10])\\nline_func(3)',\n",
       "  'line_func = make_box([2,3])\\nline_func(3)',\n",
       "  'all([True, True, True, False]) # 전부 True인지 여부',\n",
       "  'round(3.5) # 반올림',\n",
       "  'import numpy as np # numpy 모듈을 np라는 이름으로 load\\nnp.round(3.5), np.ceil(3.1), np.floor(3.9) # 반올림, 올림, 내림',\n",
       "  'globals() # 전역변수 리스트'],\n",
       " '_oh': {2: [2, 4, 6, 8, 10, 12, 14, 16, 18, 20],\n",
       "  3: [2, 4, 6, 8, 10, 12, 14, 16, 18, 20],\n",
       "  4: [2, 4, 6, 8, 10, 12, 14, 16, 18, 20],\n",
       "  5: <map at 0x2f6d480eaa0>,\n",
       "  6: [2, 4, 6, 8, 10, 12, 14, 16, 18, 20],\n",
       "  13: (5000, 1800),\n",
       "  15: [5000, 800, 1000, 6000],\n",
       "  21: {'year': 2000, 'month': 1, 'day': 1},\n",
       "  25: {'name': '홍길동', 'year': 2000, 'month': 1, 'day': 1},\n",
       "  27: [{'name': '홍길동', 'year': 2000, 'month': 1, 'day': 1},\n",
       "   {'name': '신길동', 'year': 1998, 'month': 12, 'day': 31}],\n",
       "  34: [{'name': '홍길동',\n",
       "    'birth': \"i-c-t-_-v-a-l-u-e-s-(-[-'-홍-길-동-'-,- -2-0-0-0-,- -1-,- -1-]-)\"},\n",
       "   {'name': '신길동',\n",
       "    'birth': \"i-c-t-_-v-a-l-u-e-s-(-[-'-신-길-동-'-,- -1-9-9-8-,- -1-2-,- -3-1-]-)\"}],\n",
       "  37: '1-01-01',\n",
       "  38: '2000-01-01',\n",
       "  47: [{'name': '홍길동', 'birth': '2000-01-01'},\n",
       "   {'name': '신길동', 'birth': '1998-12-31'}],\n",
       "  48: [{'name': '홍길동', 'birth': '2000-01-01'},\n",
       "   {'name': '신길동', 'birth': '1998-12-31'}],\n",
       "  51: (True, False),\n",
       "  54: [],\n",
       "  55: [],\n",
       "  56: [],\n",
       "  57: [2, 4],\n",
       "  59: [1],\n",
       "  61: [],\n",
       "  62: [9, 7, 2],\n",
       "  64: [],\n",
       "  65: [],\n",
       "  66: [],\n",
       "  68: [2, 4],\n",
       "  69: [2, 4],\n",
       "  71: '2000-01-01',\n",
       "  74: [{'name': '홍길동', 'birth': '2000-01-01'},\n",
       "   {'name': '신길동', 'birth': '1998-12-31'}],\n",
       "  75: [(4, 'four'), (1, 'one'), (3, 'three'), (2, 'two')],\n",
       "  76: [(4, 'four'), (1, 'one'), (3, 'three'), (2, 'two')],\n",
       "  79: [[9, 9, 9, 9, 99], [1, 100], [10, 1]],\n",
       "  80: 6,\n",
       "  82: [[9, 9, 9, 9, 99], [1, 100], [10, 1]],\n",
       "  83: [[1, 100], [9, 9, 9, 9, 9], [10, 1]],\n",
       "  84: [[1, 100], [9, 9, 9, 9, 9], [10, 1]],\n",
       "  87: [[1, 100], [9, 9, 9, 9, 9], [10, 1]],\n",
       "  88: [{'name': '윤길동', 'score': 99},\n",
       "   {'name': '홍길동', 'score': 90},\n",
       "   {'name': '김길동', 'score': 50}],\n",
       "  89: [{'name': '윤길동', 'score': 99},\n",
       "   {'name': '홍길동', 'score': 90},\n",
       "   {'name': '김길동', 'score': 50}],\n",
       "  91: [{'score': 100},\n",
       "   {'name': '윤길동', 'score': 99},\n",
       "   {'name': '홍길동', 'score': 90},\n",
       "   {'name': '김길동', 'score': 50}],\n",
       "  92: [{'score': 100},\n",
       "   {'name': '윤길동', 'score': 99},\n",
       "   {'name': '홍길동', 'score': 90},\n",
       "   {'name': '김길동', 'score': 50}],\n",
       "  95: [{'no': 4, 'title': '가격이 잘못', 'writer': '홍길도', 'price': '-'},\n",
       "   {'no': 5, 'title': '가격이숫자', 'writer': '신길도', 'price': 900},\n",
       "   {'no': 6, 'title': '가격이없음', 'writer': '신길도'},\n",
       "   {'no': 1, 'title': '강남 아파트 인사이트', 'writer': '오스트로이드', 'price': '25,200'},\n",
       "   {'no': 2, 'title': '단 한 번의 삶', 'writer': '김영하', 'price': '18,100'},\n",
       "   {'no': 3, 'title': '흔한남매 19', 'writer': '백난도', 'price': '14,220'}],\n",
       "  97: [{'no': 2, 'title': '단 한 번의 삶', 'writer': '김영하', 'price': '18,100'},\n",
       "   {'no': 3, 'title': '흔한남매 19', 'writer': '백난도', 'price': '14,220'},\n",
       "   {'no': 5, 'title': '가격이숫자', 'writer': '신길도', 'price': 900},\n",
       "   {'no': 6, 'title': '가격이없음', 'writer': '신길도'},\n",
       "   {'no': 1, 'title': '강남 아파트 인사이트', 'writer': '오스트로이드', 'price': '25,200'},\n",
       "   {'no': 4, 'title': '가격이잘못', 'writer': '홍길도', 'price': '-'}],\n",
       "  98: [{'no': 2, 'title': '단 한 번의 삶', 'writer': '김영하', 'price': '18,100'},\n",
       "   {'no': 3, 'title': '흔한남매 19', 'writer': '백난도', 'price': '14,220'},\n",
       "   {'no': 5, 'title': '가격이숫자', 'writer': '신길도', 'price': 900},\n",
       "   {'no': 6, 'title': '가격이없음', 'writer': '신길도'},\n",
       "   {'no': 1, 'title': '강남 아파트 인사이트', 'writer': '오스트로이드', 'price': '25,200'},\n",
       "   {'no': 4, 'title': '가격이잘못', 'writer': '홍길도', 'price': '-'}],\n",
       "  104: 8000,\n",
       "  105: 8000,\n",
       "  107: 8000,\n",
       "  108: (8000, 8000, 800, None),\n",
       "  110: [{'no': 2, 'title': '단 한 번의 삶', 'writer': '김영하', 'price': '18,100'},\n",
       "   {'no': 3, 'title': '흔한남매 19', 'writer': '백난도', 'price': '14,220'},\n",
       "   {'no': 5, 'title': '가격이숫자', 'writer': '신길동', 'price': 900},\n",
       "   {'no': 6, 'title': '가격이없음', 'writer': '신길동'},\n",
       "   {'no': 1, 'title': '강남 아파트 인사이트', 'writer': '오스트로이드', 'price': '25,200'},\n",
       "   {'no': 4, 'title': '가격이잘못', 'writer': '홍길동', 'price': '-'}],\n",
       "  111: [{'no': 2, 'title': '단 한 번의 삶', 'writer': '김영하', 'price': '18,100'},\n",
       "   {'no': 3, 'title': '흔한남매 19', 'writer': '백난도', 'price': '14,220'},\n",
       "   {'no': 5, 'title': '가격이숫자', 'writer': '신길동', 'price': 900},\n",
       "   {'no': 6, 'title': '가격이없음', 'writer': '신길동'},\n",
       "   {'no': 1, 'title': '강남 아파트 인사이트', 'writer': '오스트로이드', 'price': '25,200'},\n",
       "   {'no': 4, 'title': '가격이잘못', 'writer': '홍길동', 'price': '-'}],\n",
       "  114: (8000, 8000, 800, 0),\n",
       "  127: [[3, 3, 3], [3, 3, 3]],\n",
       "  128: [3, 3, 3, 3, 3, 3, 3, 3, 3, 3],\n",
       "  131: [3, 3, 3, 3, 3, 3, 3, 3, 3, 3],\n",
       "  132: [[3, 3, 3], [3, 3, 3]],\n",
       "  133: False,\n",
       "  134: 4,\n",
       "  135: (4.0, 4.0, 3.0)},\n",
       " '_dh': [WindowsPath('C:/ai_x/source/01_python')],\n",
       " 'In': ['',\n",
       "  \"def map_template(func, L=[1, 2, 3]):\\n    'L의 모든 요소를 func()함수를 적용시켜 return'\\n    result = []\\n    for l in L:\\n        result.append(func(l))\\n    return result\\n#     return [func(l) for l in L]\\n    \",\n",
       "  'list_data = [1, 2, 3, 4, 5, 6, 7, 8, 9, 10]\\ndef x_2(x):\\n    return x*2\\nmap_template(x_2, list_data)',\n",
       "  'list_data = [1, 2, 3, 4, 5, 6, 7, 8, 9, 10]\\nmap_template(lambda x : x*2, list_data)\\n# def x_2(x):\\n#     return x*2\\n# map_template(x_2, list_data)',\n",
       "  '# 리스트 데이터 가공 방법 1. 리스트 컴프리헨션\\n[l*2 for l in list_data]',\n",
       "  '# 리스트 데이터 가공 방법 3. map(): 파이썬 내장함수\\nmap(lambda x : x*2, list_data)',\n",
       "  '# 리스트 데이터 가공 방법 3. map(): 파이썬 내장함수\\nlist(map(lambda x : x*2, list_data))',\n",
       "  \"for item in map(lambda x : x*2, list_data):\\n    print(item, end=' ')\",\n",
       "  \"'''\\n예1. [5000, 800, 1000, 6000]로 바꾸시오\\n'''\\nprices = ['5,000', '800', '1000', '6,000']\\nlist(map(lambda i : int(prices)))\",\n",
       "  \"'''\\n예1. [5000, 800, 1000, 6000]로 바꾸시오\\n'''\\nprices = ['5,000', '800', '1000', '6,000']\\nlist(map(lambda i : int(prices), prices))\",\n",
       "  \"'''\\n예1. [5000, 800, 1000, 6000]로 바꾸시오\\n'''\\nprices = ['5,000', '800', '1000', '6,000']\\nlist(map(lambda num : int(for i in prices), prices))\",\n",
       "  \"'''\\n예1. [5000, 800, 1000, 6000]로 바꾸시오\\n'''\\nprices = ['5,000', '800', '1000', '6,000']\\nlist(map(lambda num : int(for str_ in prices), prices))\",\n",
       "  \"def func(x):\\n    return int(x.replac(',',''))\\nfunc('5,000'), func('1800')\",\n",
       "  \"def func(x):\\n    return int(x.replace(',',''))\\nfunc('5,000'), func('1800')\",\n",
       "  \"map((lambda x : int(x.replace(',','')), prices))\",\n",
       "  \"list(map(lambda x : int(x.replace(',','')), prices))\",\n",
       "  \"'''\\n예1. [5000, 800, 1000, 6000]로 바꾸시오\\n'''\\nprices = ['5,000', '800', '1000', '6,000']\",\n",
       "  \"'''\\n예2. member1 = [{'name':'홍길동', 'birth':'2000-01-01'},\\n                {'name':'신길동', 'birth':'1998-12-31'}]를\\n     member2 = [{'name':'홍길동', 'year':2000, 'month':1, 'day':1},\\n                {'name':'신길동', 'year':1998, 'month':12, 'day':31},]를 바꿉니다.\\n'''\\nmember1 = [{'name':'홍길동', 'birth':'2000-01-01'},\\n                {'name':'신길동', 'birth':'1998-12-31'}]\",\n",
       "  \"# '2000-01-01' => {'year':2000, 'month':1, 'day':1}\\ndef split_date(date):\\n    split_date = date.split('-')\\n    print(split_date[0], split_date[1], split_date[2])\\n    \",\n",
       "  \"split_date('2000-01-01')\",\n",
       "  \"# '2000-01-01' => {'year':2000, 'month':1, 'day':1}\\ndef split_date(date):\\n    split_data = date.split('-')\\n#     print(split_date[0], split_date[1], split_date[2])\\n    return {'year': int(split_data[0]),\\n          'month': int(split_data[1]),\\n          'day': int(split_data[2])}\",\n",
       "  \"split_date('2000-01-01')\",\n",
       "  \"def member_func(member): # {'name':'홍길동', 'birth':'2000-01-01'}\\n    '{'name':'홍길동', 'year':2000, 'month':1, 'day':1} 식으로 return'\\n    return {\\n        'name':member.get('name'),\\n        'year':int(member['birth'].split('-')[0]),\\n        'month':int(member['birth'].split('-')[1]),\\n        'day':int(member['birth'].split('-')[2]),\\n    }\",\n",
       "  \"'''\\n예2. member1 = [{'name':'홍길동', 'birth':'2000-01-01'},\\n                {'name':'신길동', 'birth':'1998-12-31'}]를\\n     member2 = [{'name':'홍길동', 'year':2000, 'month':1, 'day':1},\\n                {'name':'신길동', 'year':1998, 'month':12, 'day':31},]를 바꿉니다.\\n'''\\nmember1 = [{'name':'홍길동', 'birth':'2000-01-01'},\\n                {'name':'신길동', 'birth':'1998-12-31'}]\",\n",
       "  'def member_func(member): # {\\'name\\':\\'홍길동\\', \\'birth\\':\\'2000-01-01\\'}\\n    \"{\\'name\\':\\'홍길동\\', \\'year\\':2000, \\'month\\':1, \\'day\\':1} 식으로 return\"\\n    return {\\n        \\'name\\':member.get(\\'name\\'),\\n        \\'year\\':int(member[\\'birth\\'].split(\\'-\\')[0]),\\n        \\'month\\':int(member[\\'birth\\'].split(\\'-\\')[1]),\\n        \\'day\\':int(member[\\'birth\\'].split(\\'-\\')[2]),\\n    }',\n",
       "  'def member_func(member): # {\\'name\\':\\'홍길동\\', \\'birth\\':\\'2000-01-01\\'}\\n    \"{\\'name\\':\\'홍길동\\', \\'year\\':2000, \\'month\\':1, \\'day\\':1} 식으로 return\"\\n    return {\\n        \\'name\\':member.get(\\'name\\'),\\n        \\'year\\':int(member[\\'birth\\'].split(\\'-\\')[0]),\\n        \\'month\\':int(member[\\'birth\\'].split(\\'-\\')[1]),\\n        \\'day\\':int(member[\\'birth\\'].split(\\'-\\')[2]),\\n    }\\nmember_func(member1[0])',\n",
       "  \"member2 = list(map(lambda member : {\\n                            'name':member.get('name'),\\n                            'year':int(member['birth'].split('-')[0]),\\n                            'month':int(member['birth'].split('-')[1]),\\n                            'day':int(member['birth'].split('-')[2]),\\n                            },\\n             member1\\n            )\\n        )\",\n",
       "  \"member2 = list(map(lambda member : {\\n                            'name':member.get('name'),\\n                            'year':int(member['birth'].split('-')[0]),\\n                            'month':int(member['birth'].split('-')[1]),\\n                            'day':int(member['birth'].split('-')[2]),\\n                            },\\n             member1\\n            )\\n        )\\nmember2\",\n",
       "  \"'예3. member2를 member1로 바꿉니다'\\nmember1 = list(map(lambda member : {\\n                            'name':member.get('name')\\n                            'birth':'-'.join(member.get('year'),member.get('month'),member.get('day'))\\n                                    }\\n                  )\\n              )\\nmember1\",\n",
       "  \"'예3. member2를 member1로 바꿉니다'\\nmember1 = list(map(lambda member : {\\n                            'name':member.get('name'),\\n                            'birth':'-'.join(member.get('year'),member.get('month'),member.get('day'))\\n                                    }\\n                  )\\n              )\\nmember1\",\n",
       "  \"'예3. member2를 member1로 바꿉니다'\\nmember1 = list(map(lambda member : {\\n                            'name':member.get('name'),\\n                            'birth':'-'.join(member.get('year'),member.get('month'),member.get('day'))\\n                                    }\\n                   member2\\n                  )\\n              )\\nmember1\",\n",
       "  \"'예3. member2를 member1로 바꿉니다'\\nmember1 = list(map(lambda member : {\\n                            'name':member.get('name'),\\n                            'birth':'-'.join(member.get('year'),member.get('month'),member.get('day'))\\n                                    },\\n                   member2\\n                  )\\n              )\\nmember1\",\n",
       "  \"'예3. member2를 member1로 바꿉니다'\\nmember1 = list(map(lambda member : {\\n                            'name':member.get('name'),\\n                            'birth':'-'.join(member.values()[1::])\\n                                    },\\n                   member2\\n                  )\\n              )\\nmember1\",\n",
       "  \"'예3. member2를 member1로 바꿉니다'\\nmember1 = list(map(lambda member : {\\n                            'name':member.get('name'),\\n                            'birth':str'-'.join(str(member.values())[1::])\\n                                    },\\n                   member2\\n                  )\\n              )\\nmember1\",\n",
       "  \"'예3. member2를 member1로 바꿉니다'\\nmember1 = list(map(lambda member : {\\n                            'name':member.get('name'),\\n                            'birth': '-'.join(str(member.values())[1::])\\n                                    },\\n                   member2\\n                  )\\n              )\\nmember1\",\n",
       "  \"'예3. member2를 member1로 바꿉니다'\\nmember1 = list(map(lambda member : {\\n                            'name':member.get('name'),\\n                            'birth': '-'.join(str(member.values()[1::])\\n                                    },\\n                   member2\\n                  )\\n              )\\nmember1\",\n",
       "  \"'예3. member2를 member1로 바꿉니다'\\nmember1 = list(map(lambda member : {\\n                            'name':member.get('name'),\\n                            'birth': '-'.join(str(member.values()[1::]))\\n                                    },\\n                   member2\\n                  )\\n              )\\nmember1\",\n",
       "  '# {\\'year\\':2000, \\'month\\':1, \\'day\\':1} => \"200-01-01\"를 return하는 함수\\ndef join_date(data):\\n#     print([data.get(\\'year\\'), data.get(\\'month\\'), data.get(\\'day\\'),])\\n    year = str(data.get(\\'month\\'))\\n    month = data.get(\\'month\\')\\n    if month < 10:\\n        month = \\'0\\'+str(month)\\n    else:\\n        month = \\'0\\'+str(month)\\n    day = data.get(\\'day\\')\\n    if day < 10:\\n        day = \\'0\\'+str(day)\\n    else:\\n        day = \\'0\\'+str(day)\\n    return \\'-\\'.join([year, month, day])\\n\\njoin_date({\\'year\\':2000, \\'month\\':1, \\'day\\':1})',\n",
       "  '# {\\'year\\':2000, \\'month\\':1, \\'day\\':1} => \"2000-01-01\"를 return하는 함수\\ndef join_date(data):\\n#     print([data.get(\\'year\\'), data.get(\\'month\\'), data.get(\\'day\\'),])\\n    year = str(data.get(\\'year\\'))\\n    month = data.get(\\'month\\')\\n    if month < 10:\\n        month = \\'0\\'+str(month)\\n    else:\\n        month = \\'0\\'+str(month)\\n    day = data.get(\\'day\\')\\n    if day < 10:\\n        day = \\'0\\'+str(day)\\n    else:\\n        day = \\'0\\'+str(day)\\n    return \\'-\\'.join([year, month, day])\\n\\njoin_date({\\'year\\':2000, \\'month\\':1, \\'day\\':1})',\n",
       "  \"def join_date(data)\\n    print('{}-{:02}-{:02}'.format(data.get('year'),\\n                                 data.get('month'),\\n                                 data.get('day')))\\njoin_date({'year':2000, 'month':1, 'day':1})\",\n",
       "  \"def join_date(data):\\n    print('{}-{:02}-{:02}'.format(data.get('year'),\\n                                 data.get('month'),\\n                                 data.get('day')))\\njoin_date({'year':2000, 'month':1, 'day':1})\",\n",
       "  \"def join_date(data):\\n    print('{year}-{month:02}-{day:02}'.format(year = data.get('year'),\\n                                     month = data.get('month'),\\n                                     day = data.get('day')))\\n\\njoin_date({'year':2000, 'month':1, 'day':1})\\n# 간단하게 하면,\",\n",
       "  \"def join_date(data):\\n    print('{year}-{month:02}-{day:02}'.format(**data))\\n    \\njoin_date({'year':2000, 'month':1, 'day':1})\",\n",
       "  \"def join_date(data):\\n    retrun '{year}-{month:02}-{day:02}'.format(**data)\\n    \\njoin_date({'year':2000, 'month':1, 'day':1})\",\n",
       "  'def join_date(data):\\n    retrun \"\\'{year}-{month:02}-{day:02}\\'.format(**data)\"\\n    \\njoin_date({\\'year\\':2000, \\'month\\':1, \\'day\\':1})',\n",
       "  \"def join_date(data):\\n    retrun '{year}-{month:02}-{day:02}'.format(**data)\\n    \\njoin_date({'year':2000, 'month':1, 'day':1})\",\n",
       "  'def join_date(data):\\n    retrun \"{year}-{month:02}-{day:02}\".format(**data)\\n    \\njoin_date({\\'year\\':2000, \\'month\\':1, \\'day\\':1})',\n",
       "  '#\\n#\\nlist(map(lambda member : {\\n            \\'name\\' : member.get(\\'name\\'),\\n            \\'birth\\': \"{year}-{month:02}-{day:02}\".format(**member)\\n            },\\n        member2\\n        )\\n    )',\n",
       "  '\\'예3. member2를 member1로 바꿉니다\\'\\nmember1 = list(map(lambda member : {\\n                            \\'name\\':member.get(\\'name\\'),\\n                            \\'birth\\': \"{year}-{month:02}-{day:02}\".format(**member)\\n                            },\\n                   member2\\n                  )\\n              )\\nmember1',\n",
       "  'def evenChk(value):\\n    return value%2==0\\nevenChk(10), enevChk(-9)',\n",
       "  'def evenChk(value):\\n    return value%2==0\\nevenChk(10), enenChk(-9)',\n",
       "  'def evenChk(value):\\n    return value%2==0\\nevenChk(10), evenChk(-9)',\n",
       "  'list_data = [1, 2, 3, 4, 5]\\nfilter_template(lambda value : value%2==0, list_data)',\n",
       "  'def filter_template(func, L=[]):\\n    result = []\\n    for l in L:\\n        if func(l):\\n            result.append(l)\\n        return result',\n",
       "  'list_data = [1, 2, 3, 4, 5]\\nfilter_template(lambda value : value%2==0, list_data)',\n",
       "  'list_data = [1, 2, 3, 4, 5]\\nfilter_template(lambda value : value%2==0, list_data)',\n",
       "  'list(filter_template(lambda value : value%2==0, list_data))',\n",
       "  '[data for data in list_data if data%2==0]',\n",
       "  'def filter_template(func, L=[]):\\n    result = []\\n    for l in L:\\n        if func(l)%2==0:\\n            result.append(l)\\n        return result',\n",
       "  'list_data = [1, 2, 3, 4, 5]\\nfilter_template(lambda value : value%2==0, list_data)',\n",
       "  'def filter_template(func, L=[]):\\n    result = []\\n    for l in L:\\n        if l%2==0:\\n            result.append(l)\\n        return result',\n",
       "  'list_data = [1, 2, 3, 4, 5]\\nfilter_template(lambda value : value%2==0, list_data)',\n",
       "  'p = [9, 2, 7]\\np.sort(reverse=True)\\np',\n",
       "  'def filter_template(func, L=[]):\\n    result = []\\n    for l in L:\\n        if func(l):\\n            result.append(l)\\n        return result',\n",
       "  'list_data = [1, 2, 3, 4, 5]\\nfilter_template(lambda value : value%2==0, list_data)',\n",
       "  'list(filter_template(lambda value : value%2==0, list_data))',\n",
       "  'list_data = [1, 2, 3, 4, 5]\\nfilter_template(lambda value : value%2==0, list_data)',\n",
       "  'def filter_template(func, L=[]):\\n    result = []\\n    for l in L:\\n        if func(l):\\n            result.append(l)\\n    return result',\n",
       "  'list_data = [1, 2, 3, 4, 5]\\nfilter_template(lambda value : value%2==0, list_data)',\n",
       "  'list(filter_template(lambda value : value%2==0, list_data))',\n",
       "  'def join_date(data):\\n    retrun \"{year}-{month:02}-{day:02}\".format(**data)\\n    \\njoin_date({\\'year\\':2000, \\'month\\':1, \\'day\\':1})',\n",
       "  'def join_date(data):\\n    return \"{year}-{month:02}-{day:02}\".format(**data)\\n    \\njoin_date({\\'year\\':2000, \\'month\\':1, \\'day\\':1})',\n",
       "  'def join_date(data):\\n    print(\\'{year}-{month:02}-{day:02}\\'.format(\\n                                    name=\"홍\",\\n                                     year = data.get(\\'year\\'),\\n                                     month = data.get(\\'month\\'),\\n                                     day = data.get(\\'day\\')))\\n\\njoin_date({\\'year\\':2000, \\'month\\':1, \\'day\\':1})\\n# 간단하게 하면,',\n",
       "  'def join_date(data):\\n    print(\\'{year}-{month:02}-{day:02}\\'.format(\\n                                        name=\"홍\",\\n                                        year = data.get(\\'year\\'),\\n                                        month = data.get(\\'month\\'),\\n                                        day = data.get(\\'day\\')))\\n\\njoin_date({\\'year\\':2000, \\'month\\':1, \\'day\\':1})\\n# 간단하게 하면,',\n",
       "  '# {\\'name\\':\\'홍길동\\', \\'year\\':2000, \\'month\\':1, \\'day\\':1}(member2)를\\n# {\\'name\\':\\'홍길동\\', \\'birth\\':\\'2000-01-01\\'}으로 가공\\nlist(map(lambda member : {\\n            \\'name\\' : member.get(\\'name\\'),\\n            \\'birth\\': \"{year}-{month:02}-{day:02}\".format(**member)\\n            },\\n        member2\\n        )\\n    )',\n",
       "  \"pairs = [(2, 'two'), (1, 'one'), (4, 'four'), (3, 'three')]\\npairs.sort()\\npairs\",\n",
       "  '# 1번째 item 기준으로 정렬(abc순)\\npairs.sort(key=lambda pair : pair[1])\\npairs',\n",
       "  '# 무조건 0번 item 기준으로 정렬\\nnumber2d = [[9,9,9,9,99],\\n           [1, 100],\\n           [10,1]]\\nnumber2d,sort(reverse=True) # 기본(reverse=False): 오름차순정렬 / reverse=True: 내림차순정렬',\n",
       "  '# 무조건 0번 item 기준으로 정렬\\nnumber2d = [[9,9,9,9,99],\\n           [1, 100],\\n           [10,1]]\\nnumber2d.sort(reverse=True) # 기본(reverse=False): 오름차순정렬 / reverse=True: 내림차순정렬',\n",
       "  '# 무조건 0번 item 기준으로 정렬\\nnumber2d = [[9,9,9,9,99],\\n           [1, 100],\\n           [10,1]]\\nnumber2d.sort(reverse=True) # 기본(reverse=False): 오름차순정렬 / reverse=True: 내림차순정렬\\nnumber2d',\n",
       "  '(lambda item : sum(item))([1,2,3])',\n",
       "  '# 합이 큰 순으로 정렬\\nnumber2d.sort(key=lambda item : sum(item), reverse=True)',\n",
       "  '# 합이 큰 순으로 정렬\\nnumber2d.sort(key=lambda item : sum(item), reverse=True)\\nnumber2d',\n",
       "  '# 무조건 0번 item 기준으로 정렬\\nnumber2d = [[9,9,9,9,9],\\n           [1, 100],\\n           [10,1]]\\nnumber2d.sort(reverse=True) # 기본(reverse=False): 오름차순정렬 / reverse=True: 내림차순정렬\\nnumber2d',\n",
       "  '# 합이 큰 순으로 정렬\\nnumber2d.sort(key=lambda item : sum(item), reverse=True)\\nnumber2d',\n",
       "  \"def join_date(data):\\n    print('{year}-{month:02}-{day:02}'.format(\\n                                        name=data.get('name'), # format함수 지정방식에 따라 무시됨\\n                                        year = data.get('year'),\\n                                        month = data.get('month'),\\n                                        day = data.get('day')))\\n\\njoin_date({'year':2000, 'month':1, 'day':1})\\n# 간단하게 하면,\",\n",
       "  \"# 이름순으로 정렬(ㄱㄴㄷ순)\\nstudents = [\\n    {'name':'홍길동', 'score':90},\\n    {'name':'김길동', 'score':50},\\n    {'name':'윤길동', 'score':99},\\n#    {'score':100},\\n]\\nstudents.sort(key=lambda item : *item.get('name'))\\nnumber2d\",\n",
       "  \"# 이름순으로 정렬(ㄱㄴㄷ순)\\nstudents = [\\n    {'name':'홍길동', 'score':90},\\n    {'name':'김길동', 'score':50},\\n    {'name':'윤길동', 'score':99},\\n#    {'score':100},\\n]\\nstudents.sort(key=lambda item : item.get('name'))\\nnumber2d\",\n",
       "  \"# 이름순으로 정렬(ㄱㄴㄷ순)\\nstudents = [\\n    {'name':'홍길동', 'score':90},\\n    {'name':'김길동', 'score':50},\\n    {'name':'윤길동', 'score':99},\\n#    {'score':100},\\n]\\nstudents.sort(key=lambda item : item.get('name'))\\nstudents\",\n",
       "  \"# score순으로 정렬(내림차순정렬)\\nstudents.sort(key=lambda item : item.get('score'), reverse=True)\\nstudents\",\n",
       "  \"# 이름순으로 정렬(ㄱㄴㄷ순)\\nstudents = [\\n    {'name':'홍길동', 'score':90},\\n    {'name':'김길동', 'score':50},\\n    {'name':'윤길동', 'score':99},\\n    {'score':100},\\n]\\nstudents.sort(key=lambda item : item.get('name'))\\nstudents\",\n",
       "  \"# 이름순으로 정렬(ㄱㄴㄷ순)\\nstudents = [\\n    {'name':'홍길동', 'score':90},\\n    {'name':'김길동', 'score':50},\\n    {'name':'윤길동', 'score':99},\\n    {'score':100},\\n]\\nstudents.sort(key=lambda item : item.get('name', '힣'))\\nstudents\",\n",
       "  \"# score순으로 정렬(내림차순정렬)\\nstudents.sort(key=lambda item : item.get('score', 0), reverse=True)\\nstudents\",\n",
       "  \"books.sort(key = lambda book : book.get('title'))\\nbooks\",\n",
       "  \"# 책 제목순 정렬(ㄱㄴㄷ순), 저자순 정렬(ㄱㄴㄷ순) 가격순 정렬\\nbooks =[\\n    {'no':1, 'title':'강남 아파트 인사이트', 'writer':'오스트로이드', 'price':'25,200'},\\n    {'no':2, 'title':'단 한 번의 삶', 'writer':'김영하', 'price':'18,100'},\\n    {'no':3, 'title':'흔한남매 19', 'writer':'백난도', 'price':'14,220'},\\n    {'no':4, 'title':'가격이 잘못', 'writer':'홍길도', 'price':'-'},\\n    {'no':5, 'title':'가격이숫자', 'writer':'신길도', 'price':900},\\n    {'no':6, 'title':'가격이없음', 'writer':'신길도'},\\n]\",\n",
       "  \"books.sort(key = lambda book : book.get('title'))\\nbooks\",\n",
       "  \"# 책 제목순 정렬(ㄱㄴㄷ순), 저자순 정렬(ㄱㄴㄷ순) 가격순 정렬\\nbooks =[\\n    {'no':1, 'title':'강남 아파트 인사이트', 'writer':'오스트로이드', 'price':'25,200'},\\n    {'no':2, 'title':'단 한 번의 삶', 'writer':'김영하', 'price':'18,100'},\\n    {'no':3, 'title':'흔한남매 19', 'writer':'백난도', 'price':'14,220'},\\n    {'no':4, 'title':'가격이잘못', 'writer':'홍길도', 'price':'-'},\\n    {'no':5, 'title':'가격이숫자', 'writer':'신길도', 'price':900},\\n    {'no':6, 'title':'가격이없음', 'writer':'신길도'},\\n]\",\n",
       "  \"books.sort(key = lambda book : book.get('title'))\\nbooks\",\n",
       "  \"books.sort(key = lambda book : book.get('writer'))\\nbooks\",\n",
       "  \"books.sort(key = lambda book : book.get('price'))\\nbooks\",\n",
       "  \"# '14,000' -> 14000 / 800 -> 800 / '-' -> 0\\ndef parse_int(price):\\n    print(type(price))\",\n",
       "  'parse_int(800)',\n",
       "  'parse_int(\"800\")',\n",
       "  \"# '14,000' -> 14000 / '2000' -> 2000 / 800 -> 800 / '-' -> 0\\ndef parse_int(price):\\n    #print(type(price))\\n    if isinstance(price, str) and price.replace(',', '').isdigit():\\n        return int(price.replace(',', ''))\\n    elif isinstance(price, int):\\n        return price\",\n",
       "  'parse_int(\"8000\")',\n",
       "  'parse_int(\"8,000\")',\n",
       "  \"# '14,000' -> 14000 / '2000' -> 2000 / 800 -> 800 / '-' -> 0\\ndef parse_int(price):\\n    #print(type(price))\\n    if isinstance(price, str) and price.replace(',', '').isdigit():\\n        return int(price.replace(',', ''))\\n    elif isinstance(price, int):\\n        return price\",\n",
       "  'parse_int(8000)',\n",
       "  'parse_int(\"8,000\"), parse_int(\\'8000\\'), parse_int(800), parse_int(\\'-\\'),',\n",
       "  \"# 책 제목순 정렬(ㄱㄴㄷ순), 저자순 정렬(ㄱㄴㄷ순) 가격순 정렬\\nbooks =[\\n    {'no':1, 'title':'강남 아파트 인사이트', 'writer':'오스트로이드', 'price':'25,200'},\\n    {'no':2, 'title':'단 한 번의 삶', 'writer':'김영하', 'price':'18,100'},\\n    {'no':3, 'title':'흔한남매 19', 'writer':'백난도', 'price':'14,220'},\\n    {'no':4, 'title':'가격이잘못', 'writer':'홍길동', 'price':'-'},\\n    {'no':5, 'title':'가격이숫자', 'writer':'신길동', 'price':900},\\n    {'no':6, 'title':'가격이없음', 'writer':'신길동'},\\n]\",\n",
       "  \"books.sort(key = lambda book : book.get('title'))\\nbooks\",\n",
       "  \"books.sort(key = lambda book : book.get('writer'))\\nbooks\",\n",
       "  \"books.sort(key = lambda book : book.get('price'))\\nbooks\",\n",
       "  \"# '14,000' -> 14000 / '2000' -> 2000 / 800 -> 800 / '-' -> 0\\ndef parse_int(price):\\n    #print(type(price))\\n    if isinstance(price, str) and price.replace(',', '').isdigit(): # and : 논리연산자 only, & : 논리, 비트, ...연산자일 수 있다\\n        return int(price.replace(',', ''))\\n    elif isinstance(price, int):\\n        return price\\n    else:\\n        return 0\",\n",
       "  'parse_int(\"8,000\"), parse_int(\\'8000\\'), parse_int(800), parse_int(\\'-\\'),',\n",
       "  \"# 책 제목순 정렬(ㄱㄴㄷ순), 저자순 정렬(ㄱㄴㄷ순) 가격순 정렬\\nbooks =[\\n    {'no':1, 'title':'강남 아파트 인사이트', 'writer':'오스트로이드', 'price':'25,200'},\\n    {'no':2, 'title':'단 한 번의 삶', 'writer':'김영하', 'price':'18,100'},\\n    {'no':3, 'title':'흔한남매 19', 'writer':'백난도', 'price':'14,220'},\\n    {'no':4, 'title':'가격이잘못', 'writer':'홍길동', 'price':'-'},\\n    {'no':5, 'title':'가격이숫자', 'writer':'신길동', 'price':900},\\n    {'no':6, 'title':'가격이없음', 'writer':'신길동'},\\n]\",\n",
       "  \"# '14,000' -> 14000 / '2000' -> 2000 / 800 -> 800 / '-' -> 0\\ndef parse_int(price):\\n    #print(type(price))\\n    if isinstance(price, str) and price.replace(',', '').isdigit(): # and : 논리연산자 only, & : 논리, 비트, ...연산자일 수 있다\\n        return int(price.replace(',', ''))\\n    elif isinstance(price, int):\\n        return price\\n    else:\\n        return 0\\nfor i in range(5):\\n    parse_int(books[0])\",\n",
       "  \"# '14,000' -> 14000 / '2000' -> 2000 / 800 -> 800 / '-' -> 0\\ndef parse_int(price):\\n    #print(type(price))\\n    if isinstance(price, str) and price.replace(',', '').isdigit(): # and : 논리연산자 only, & : 논리, 비트, ...연산자일 수 있다\\n        return int(price.replace(',', ''))\\n    elif isinstance(price, int):\\n        return price\\n    else:\\n        return 0\\n    \\nfor i in range(5):\\n    print(parse_int(books[i]), end '')\",\n",
       "  \"# '14,000' -> 14000 / '2000' -> 2000 / 800 -> 800 / '-' -> 0\\ndef parse_int(price):\\n    #print(type(price))\\n    if isinstance(price, str) and price.replace(',', '').isdigit(): # and : 논리연산자 only, & : 논리, 비트, ...연산자일 수 있다\\n        return int(price.replace(',', ''))\\n    elif isinstance(price, int):\\n        return price\\n    else:\\n        return 0\\n    \\nfor i in range(5):\\n    print(parse_int(books[i]), end='')\",\n",
       "  'copy_boos = books.copy()',\n",
       "  'copy_books = books.copy()',\n",
       "  \"copy_books = books.copy()\\ncopy_books.sort(key = lambda book :\\n               int(book.get('price').replace(',','')) \\\\\\n                   if isinstance(book.get('price'), str) and\\\\\\n                       book.get('price').replace(',','').isdiget() else \\\\\\n               book.get('price') if isinstance(book.get('price'), int) else \\\\\\n               0\\n               )\",\n",
       "  \"copy_books = books.copy()\\n\\ncopy_books.sort(key = lambda book :\\n               int(book.get('price').replace(',','')) \\\\\\n                   if isinstance(book.get('price'), str) and \\\\\\n                       book.get('price').replace(',','').isdiget() else \\\\\\n               book.get('price') if isinstance(book.get('price'), int) else \\\\\\n               0\\n               )\",\n",
       "  \"books.sort(key = lambda book : book.get('price'))\\nbooks\",\n",
       "  '# 함수를 return\\ndef make_box(shape): # shape : [L], => length가 l인 list를 생성하는 함수 return, \\n                     #         [r,c] => r행 c열인 2차원 list를 생성하는 함수 return\\n                     #         [d,r,c] => d면 r행 c열 3차원 list를 생성하는 함수 return\\n    def box(init_value):\\n        if len(shpae)==1:\\n            return [init_value]*shape[0]\\n        elif len(shape)==2:\\n            return [[init_value]*shape[1]] * shape[0]\\n    return box',\n",
       "  'line_func = make_box([2,3])\\nline_func(3)',\n",
       "  '# 함수를 return\\ndef make_box(shape): # shape : [L], => length가 l인 list를 생성하는 함수 return, \\n                     #         [r,c] => r행 c열인 2차원 list를 생성하는 함수 return\\n                     #         [d,r,c] => d면 r행 c열 3차원 list를 생성하는 함수 return\\n    def box(init_value):\\n        if len(shape)==1:\\n            return [init_value]*shape[0]\\n        elif len(shape)==2:\\n            return [[init_value]*shape[1]] * shape[0]\\n    return box',\n",
       "  'line_func = make_box([2,3])\\nline_func(3)',\n",
       "  'line_func = make_box([10])\\nline_func(3)',\n",
       "  'def make_box(shape):\\n    if len(shape)==1:\\n        return lambda init_value : [init_value] * shape[0]\\n    elif:\\n        return lambda init_value : [ [init_value]*shape[1] ] * shape[0]',\n",
       "  'def make_box(shape):\\n    if len(shape)==1:\\n        return lambda init_value : [init_value] * shape[0]\\n    elif len(shape)==2:\\n        return lambda init_value : [ [init_value]*shape[1] ] * shape[0]',\n",
       "  'line_func = make_box([10])\\nline_func(3)',\n",
       "  'line_func = make_box([2,3])\\nline_func(3)',\n",
       "  'all([True, True, True, False]) # 전부 True인지 여부',\n",
       "  'round(3.5) # 반올림',\n",
       "  'import numpy as np # numpy 모듈을 np라는 이름으로 load\\nnp.round(3.5), np.ceil(3.1), np.floor(3.9) # 반올림, 올림, 내림',\n",
       "  'globals() # 전역변수 리스트'],\n",
       " 'Out': {2: [2, 4, 6, 8, 10, 12, 14, 16, 18, 20],\n",
       "  3: [2, 4, 6, 8, 10, 12, 14, 16, 18, 20],\n",
       "  4: [2, 4, 6, 8, 10, 12, 14, 16, 18, 20],\n",
       "  5: <map at 0x2f6d480eaa0>,\n",
       "  6: [2, 4, 6, 8, 10, 12, 14, 16, 18, 20],\n",
       "  13: (5000, 1800),\n",
       "  15: [5000, 800, 1000, 6000],\n",
       "  21: {'year': 2000, 'month': 1, 'day': 1},\n",
       "  25: {'name': '홍길동', 'year': 2000, 'month': 1, 'day': 1},\n",
       "  27: [{'name': '홍길동', 'year': 2000, 'month': 1, 'day': 1},\n",
       "   {'name': '신길동', 'year': 1998, 'month': 12, 'day': 31}],\n",
       "  34: [{'name': '홍길동',\n",
       "    'birth': \"i-c-t-_-v-a-l-u-e-s-(-[-'-홍-길-동-'-,- -2-0-0-0-,- -1-,- -1-]-)\"},\n",
       "   {'name': '신길동',\n",
       "    'birth': \"i-c-t-_-v-a-l-u-e-s-(-[-'-신-길-동-'-,- -1-9-9-8-,- -1-2-,- -3-1-]-)\"}],\n",
       "  37: '1-01-01',\n",
       "  38: '2000-01-01',\n",
       "  47: [{'name': '홍길동', 'birth': '2000-01-01'},\n",
       "   {'name': '신길동', 'birth': '1998-12-31'}],\n",
       "  48: [{'name': '홍길동', 'birth': '2000-01-01'},\n",
       "   {'name': '신길동', 'birth': '1998-12-31'}],\n",
       "  51: (True, False),\n",
       "  54: [],\n",
       "  55: [],\n",
       "  56: [],\n",
       "  57: [2, 4],\n",
       "  59: [1],\n",
       "  61: [],\n",
       "  62: [9, 7, 2],\n",
       "  64: [],\n",
       "  65: [],\n",
       "  66: [],\n",
       "  68: [2, 4],\n",
       "  69: [2, 4],\n",
       "  71: '2000-01-01',\n",
       "  74: [{'name': '홍길동', 'birth': '2000-01-01'},\n",
       "   {'name': '신길동', 'birth': '1998-12-31'}],\n",
       "  75: [(4, 'four'), (1, 'one'), (3, 'three'), (2, 'two')],\n",
       "  76: [(4, 'four'), (1, 'one'), (3, 'three'), (2, 'two')],\n",
       "  79: [[9, 9, 9, 9, 99], [1, 100], [10, 1]],\n",
       "  80: 6,\n",
       "  82: [[9, 9, 9, 9, 99], [1, 100], [10, 1]],\n",
       "  83: [[1, 100], [9, 9, 9, 9, 9], [10, 1]],\n",
       "  84: [[1, 100], [9, 9, 9, 9, 9], [10, 1]],\n",
       "  87: [[1, 100], [9, 9, 9, 9, 9], [10, 1]],\n",
       "  88: [{'name': '윤길동', 'score': 99},\n",
       "   {'name': '홍길동', 'score': 90},\n",
       "   {'name': '김길동', 'score': 50}],\n",
       "  89: [{'name': '윤길동', 'score': 99},\n",
       "   {'name': '홍길동', 'score': 90},\n",
       "   {'name': '김길동', 'score': 50}],\n",
       "  91: [{'score': 100},\n",
       "   {'name': '윤길동', 'score': 99},\n",
       "   {'name': '홍길동', 'score': 90},\n",
       "   {'name': '김길동', 'score': 50}],\n",
       "  92: [{'score': 100},\n",
       "   {'name': '윤길동', 'score': 99},\n",
       "   {'name': '홍길동', 'score': 90},\n",
       "   {'name': '김길동', 'score': 50}],\n",
       "  95: [{'no': 4, 'title': '가격이 잘못', 'writer': '홍길도', 'price': '-'},\n",
       "   {'no': 5, 'title': '가격이숫자', 'writer': '신길도', 'price': 900},\n",
       "   {'no': 6, 'title': '가격이없음', 'writer': '신길도'},\n",
       "   {'no': 1, 'title': '강남 아파트 인사이트', 'writer': '오스트로이드', 'price': '25,200'},\n",
       "   {'no': 2, 'title': '단 한 번의 삶', 'writer': '김영하', 'price': '18,100'},\n",
       "   {'no': 3, 'title': '흔한남매 19', 'writer': '백난도', 'price': '14,220'}],\n",
       "  97: [{'no': 2, 'title': '단 한 번의 삶', 'writer': '김영하', 'price': '18,100'},\n",
       "   {'no': 3, 'title': '흔한남매 19', 'writer': '백난도', 'price': '14,220'},\n",
       "   {'no': 5, 'title': '가격이숫자', 'writer': '신길도', 'price': 900},\n",
       "   {'no': 6, 'title': '가격이없음', 'writer': '신길도'},\n",
       "   {'no': 1, 'title': '강남 아파트 인사이트', 'writer': '오스트로이드', 'price': '25,200'},\n",
       "   {'no': 4, 'title': '가격이잘못', 'writer': '홍길도', 'price': '-'}],\n",
       "  98: [{'no': 2, 'title': '단 한 번의 삶', 'writer': '김영하', 'price': '18,100'},\n",
       "   {'no': 3, 'title': '흔한남매 19', 'writer': '백난도', 'price': '14,220'},\n",
       "   {'no': 5, 'title': '가격이숫자', 'writer': '신길도', 'price': 900},\n",
       "   {'no': 6, 'title': '가격이없음', 'writer': '신길도'},\n",
       "   {'no': 1, 'title': '강남 아파트 인사이트', 'writer': '오스트로이드', 'price': '25,200'},\n",
       "   {'no': 4, 'title': '가격이잘못', 'writer': '홍길도', 'price': '-'}],\n",
       "  104: 8000,\n",
       "  105: 8000,\n",
       "  107: 8000,\n",
       "  108: (8000, 8000, 800, None),\n",
       "  110: [{'no': 2, 'title': '단 한 번의 삶', 'writer': '김영하', 'price': '18,100'},\n",
       "   {'no': 3, 'title': '흔한남매 19', 'writer': '백난도', 'price': '14,220'},\n",
       "   {'no': 5, 'title': '가격이숫자', 'writer': '신길동', 'price': 900},\n",
       "   {'no': 6, 'title': '가격이없음', 'writer': '신길동'},\n",
       "   {'no': 1, 'title': '강남 아파트 인사이트', 'writer': '오스트로이드', 'price': '25,200'},\n",
       "   {'no': 4, 'title': '가격이잘못', 'writer': '홍길동', 'price': '-'}],\n",
       "  111: [{'no': 2, 'title': '단 한 번의 삶', 'writer': '김영하', 'price': '18,100'},\n",
       "   {'no': 3, 'title': '흔한남매 19', 'writer': '백난도', 'price': '14,220'},\n",
       "   {'no': 5, 'title': '가격이숫자', 'writer': '신길동', 'price': 900},\n",
       "   {'no': 6, 'title': '가격이없음', 'writer': '신길동'},\n",
       "   {'no': 1, 'title': '강남 아파트 인사이트', 'writer': '오스트로이드', 'price': '25,200'},\n",
       "   {'no': 4, 'title': '가격이잘못', 'writer': '홍길동', 'price': '-'}],\n",
       "  114: (8000, 8000, 800, 0),\n",
       "  127: [[3, 3, 3], [3, 3, 3]],\n",
       "  128: [3, 3, 3, 3, 3, 3, 3, 3, 3, 3],\n",
       "  131: [3, 3, 3, 3, 3, 3, 3, 3, 3, 3],\n",
       "  132: [[3, 3, 3], [3, 3, 3]],\n",
       "  133: False,\n",
       "  134: 4,\n",
       "  135: (4.0, 4.0, 3.0)},\n",
       " 'get_ipython': <bound method InteractiveShell.get_ipython of <ipykernel.zmqshell.ZMQInteractiveShell object at 0x000002F6D3E33EE0>>,\n",
       " 'exit': <IPython.core.autocall.ZMQExitAutocall at 0x2f6d3e3f5b0>,\n",
       " 'quit': <IPython.core.autocall.ZMQExitAutocall at 0x2f6d3e3f5b0>,\n",
       " 'open': <function io.open(file, mode='r', buffering=-1, encoding=None, errors=None, newline=None, closefd=True, opener=None)>,\n",
       " '_': (4.0, 4.0, 3.0),\n",
       " '__': 4,\n",
       " '___': False,\n",
       " '_i': 'import numpy as np # numpy 모듈을 np라는 이름으로 load\\nnp.round(3.5), np.ceil(3.1), np.floor(3.9) # 반올림, 올림, 내림',\n",
       " '_ii': 'round(3.5) # 반올림',\n",
       " '_iii': 'all([True, True, True, False]) # 전부 True인지 여부',\n",
       " '_i1': \"def map_template(func, L=[1, 2, 3]):\\n    'L의 모든 요소를 func()함수를 적용시켜 return'\\n    result = []\\n    for l in L:\\n        result.append(func(l))\\n    return result\\n#     return [func(l) for l in L]\\n    \",\n",
       " 'map_template': <function __main__.map_template(func, L=[1, 2, 3])>,\n",
       " '_i2': 'list_data = [1, 2, 3, 4, 5, 6, 7, 8, 9, 10]\\ndef x_2(x):\\n    return x*2\\nmap_template(x_2, list_data)',\n",
       " 'list_data': [1, 2, 3, 4, 5],\n",
       " 'x_2': <function __main__.x_2(x)>,\n",
       " '_2': [2, 4, 6, 8, 10, 12, 14, 16, 18, 20],\n",
       " '_i3': 'list_data = [1, 2, 3, 4, 5, 6, 7, 8, 9, 10]\\nmap_template(lambda x : x*2, list_data)\\n# def x_2(x):\\n#     return x*2\\n# map_template(x_2, list_data)',\n",
       " '_3': [2, 4, 6, 8, 10, 12, 14, 16, 18, 20],\n",
       " '_i4': '# 리스트 데이터 가공 방법 1. 리스트 컴프리헨션\\n[l*2 for l in list_data]',\n",
       " '_4': [2, 4, 6, 8, 10, 12, 14, 16, 18, 20],\n",
       " '_i5': '# 리스트 데이터 가공 방법 3. map(): 파이썬 내장함수\\nmap(lambda x : x*2, list_data)',\n",
       " '_5': <map at 0x2f6d480eaa0>,\n",
       " '_i6': '# 리스트 데이터 가공 방법 3. map(): 파이썬 내장함수\\nlist(map(lambda x : x*2, list_data))',\n",
       " '_6': [2, 4, 6, 8, 10, 12, 14, 16, 18, 20],\n",
       " '_i7': \"for item in map(lambda x : x*2, list_data):\\n    print(item, end=' ')\",\n",
       " 'item': 20,\n",
       " '_i8': \"'''\\n예1. [5000, 800, 1000, 6000]로 바꾸시오\\n'''\\nprices = ['5,000', '800', '1000', '6,000']\\nlist(map(lambda i : int(prices)))\",\n",
       " 'prices': ['5,000', '800', '1000', '6,000'],\n",
       " '_i9': \"'''\\n예1. [5000, 800, 1000, 6000]로 바꾸시오\\n'''\\nprices = ['5,000', '800', '1000', '6,000']\\nlist(map(lambda i : int(prices), prices))\",\n",
       " '_i10': \"'''\\n예1. [5000, 800, 1000, 6000]로 바꾸시오\\n'''\\nprices = ['5,000', '800', '1000', '6,000']\\nlist(map(lambda num : int(for i in prices), prices))\",\n",
       " '_i11': \"'''\\n예1. [5000, 800, 1000, 6000]로 바꾸시오\\n'''\\nprices = ['5,000', '800', '1000', '6,000']\\nlist(map(lambda num : int(for str_ in prices), prices))\",\n",
       " '_i12': \"def func(x):\\n    return int(x.replac(',',''))\\nfunc('5,000'), func('1800')\",\n",
       " 'func': <function __main__.func(x)>,\n",
       " '_i13': \"def func(x):\\n    return int(x.replace(',',''))\\nfunc('5,000'), func('1800')\",\n",
       " '_13': (5000, 1800),\n",
       " '_i14': \"map((lambda x : int(x.replace(',','')), prices))\",\n",
       " '_i15': \"list(map(lambda x : int(x.replace(',','')), prices))\",\n",
       " '_15': [5000, 800, 1000, 6000],\n",
       " '_i16': \"'''\\n예1. [5000, 800, 1000, 6000]로 바꾸시오\\n'''\\nprices = ['5,000', '800', '1000', '6,000']\",\n",
       " '_i17': \"'''\\n예2. member1 = [{'name':'홍길동', 'birth':'2000-01-01'},\\n                {'name':'신길동', 'birth':'1998-12-31'}]를\\n     member2 = [{'name':'홍길동', 'year':2000, 'month':1, 'day':1},\\n                {'name':'신길동', 'year':1998, 'month':12, 'day':31},]를 바꿉니다.\\n'''\\nmember1 = [{'name':'홍길동', 'birth':'2000-01-01'},\\n                {'name':'신길동', 'birth':'1998-12-31'}]\",\n",
       " 'member1': [{'name': '홍길동', 'birth': '2000-01-01'},\n",
       "  {'name': '신길동', 'birth': '1998-12-31'}],\n",
       " '_i18': \"# '2000-01-01' => {'year':2000, 'month':1, 'day':1}\\ndef split_date(date):\\n    split_date = date.split('-')\\n    print(split_date[0], split_date[1], split_date[2])\\n    \",\n",
       " 'split_date': <function __main__.split_date(date)>,\n",
       " '_i19': \"split_date('2000-01-01')\",\n",
       " '_i20': \"# '2000-01-01' => {'year':2000, 'month':1, 'day':1}\\ndef split_date(date):\\n    split_data = date.split('-')\\n#     print(split_date[0], split_date[1], split_date[2])\\n    return {'year': int(split_data[0]),\\n          'month': int(split_data[1]),\\n          'day': int(split_data[2])}\",\n",
       " '_i21': \"split_date('2000-01-01')\",\n",
       " '_21': {'year': 2000, 'month': 1, 'day': 1},\n",
       " '_i22': \"def member_func(member): # {'name':'홍길동', 'birth':'2000-01-01'}\\n    '{'name':'홍길동', 'year':2000, 'month':1, 'day':1} 식으로 return'\\n    return {\\n        'name':member.get('name'),\\n        'year':int(member['birth'].split('-')[0]),\\n        'month':int(member['birth'].split('-')[1]),\\n        'day':int(member['birth'].split('-')[2]),\\n    }\",\n",
       " '_i23': \"'''\\n예2. member1 = [{'name':'홍길동', 'birth':'2000-01-01'},\\n                {'name':'신길동', 'birth':'1998-12-31'}]를\\n     member2 = [{'name':'홍길동', 'year':2000, 'month':1, 'day':1},\\n                {'name':'신길동', 'year':1998, 'month':12, 'day':31},]를 바꿉니다.\\n'''\\nmember1 = [{'name':'홍길동', 'birth':'2000-01-01'},\\n                {'name':'신길동', 'birth':'1998-12-31'}]\",\n",
       " '_i24': 'def member_func(member): # {\\'name\\':\\'홍길동\\', \\'birth\\':\\'2000-01-01\\'}\\n    \"{\\'name\\':\\'홍길동\\', \\'year\\':2000, \\'month\\':1, \\'day\\':1} 식으로 return\"\\n    return {\\n        \\'name\\':member.get(\\'name\\'),\\n        \\'year\\':int(member[\\'birth\\'].split(\\'-\\')[0]),\\n        \\'month\\':int(member[\\'birth\\'].split(\\'-\\')[1]),\\n        \\'day\\':int(member[\\'birth\\'].split(\\'-\\')[2]),\\n    }',\n",
       " 'member_func': <function __main__.member_func(member)>,\n",
       " '_i25': 'def member_func(member): # {\\'name\\':\\'홍길동\\', \\'birth\\':\\'2000-01-01\\'}\\n    \"{\\'name\\':\\'홍길동\\', \\'year\\':2000, \\'month\\':1, \\'day\\':1} 식으로 return\"\\n    return {\\n        \\'name\\':member.get(\\'name\\'),\\n        \\'year\\':int(member[\\'birth\\'].split(\\'-\\')[0]),\\n        \\'month\\':int(member[\\'birth\\'].split(\\'-\\')[1]),\\n        \\'day\\':int(member[\\'birth\\'].split(\\'-\\')[2]),\\n    }\\nmember_func(member1[0])',\n",
       " '_25': {'name': '홍길동', 'year': 2000, 'month': 1, 'day': 1},\n",
       " '_i26': \"member2 = list(map(lambda member : {\\n                            'name':member.get('name'),\\n                            'year':int(member['birth'].split('-')[0]),\\n                            'month':int(member['birth'].split('-')[1]),\\n                            'day':int(member['birth'].split('-')[2]),\\n                            },\\n             member1\\n            )\\n        )\",\n",
       " 'member2': [{'name': '홍길동', 'year': 2000, 'month': 1, 'day': 1},\n",
       "  {'name': '신길동', 'year': 1998, 'month': 12, 'day': 31}],\n",
       " '_i27': \"member2 = list(map(lambda member : {\\n                            'name':member.get('name'),\\n                            'year':int(member['birth'].split('-')[0]),\\n                            'month':int(member['birth'].split('-')[1]),\\n                            'day':int(member['birth'].split('-')[2]),\\n                            },\\n             member1\\n            )\\n        )\\nmember2\",\n",
       " '_27': [{'name': '홍길동', 'year': 2000, 'month': 1, 'day': 1},\n",
       "  {'name': '신길동', 'year': 1998, 'month': 12, 'day': 31}],\n",
       " '_i28': \"'예3. member2를 member1로 바꿉니다'\\nmember1 = list(map(lambda member : {\\n                            'name':member.get('name')\\n                            'birth':'-'.join(member.get('year'),member.get('month'),member.get('day'))\\n                                    }\\n                  )\\n              )\\nmember1\",\n",
       " '_i29': \"'예3. member2를 member1로 바꿉니다'\\nmember1 = list(map(lambda member : {\\n                            'name':member.get('name'),\\n                            'birth':'-'.join(member.get('year'),member.get('month'),member.get('day'))\\n                                    }\\n                  )\\n              )\\nmember1\",\n",
       " '_i30': \"'예3. member2를 member1로 바꿉니다'\\nmember1 = list(map(lambda member : {\\n                            'name':member.get('name'),\\n                            'birth':'-'.join(member.get('year'),member.get('month'),member.get('day'))\\n                                    }\\n                   member2\\n                  )\\n              )\\nmember1\",\n",
       " '_i31': \"'예3. member2를 member1로 바꿉니다'\\nmember1 = list(map(lambda member : {\\n                            'name':member.get('name'),\\n                            'birth':'-'.join(member.get('year'),member.get('month'),member.get('day'))\\n                                    },\\n                   member2\\n                  )\\n              )\\nmember1\",\n",
       " '_i32': \"'예3. member2를 member1로 바꿉니다'\\nmember1 = list(map(lambda member : {\\n                            'name':member.get('name'),\\n                            'birth':'-'.join(member.values()[1::])\\n                                    },\\n                   member2\\n                  )\\n              )\\nmember1\",\n",
       " '_i33': \"'예3. member2를 member1로 바꿉니다'\\nmember1 = list(map(lambda member : {\\n                            'name':member.get('name'),\\n                            'birth':str'-'.join(str(member.values())[1::])\\n                                    },\\n                   member2\\n                  )\\n              )\\nmember1\",\n",
       " '_i34': \"'예3. member2를 member1로 바꿉니다'\\nmember1 = list(map(lambda member : {\\n                            'name':member.get('name'),\\n                            'birth': '-'.join(str(member.values())[1::])\\n                                    },\\n                   member2\\n                  )\\n              )\\nmember1\",\n",
       " '_34': [{'name': '홍길동',\n",
       "   'birth': \"i-c-t-_-v-a-l-u-e-s-(-[-'-홍-길-동-'-,- -2-0-0-0-,- -1-,- -1-]-)\"},\n",
       "  {'name': '신길동',\n",
       "   'birth': \"i-c-t-_-v-a-l-u-e-s-(-[-'-신-길-동-'-,- -1-9-9-8-,- -1-2-,- -3-1-]-)\"}],\n",
       " '_i35': \"'예3. member2를 member1로 바꿉니다'\\nmember1 = list(map(lambda member : {\\n                            'name':member.get('name'),\\n                            'birth': '-'.join(str(member.values()[1::])\\n                                    },\\n                   member2\\n                  )\\n              )\\nmember1\",\n",
       " '_i36': \"'예3. member2를 member1로 바꿉니다'\\nmember1 = list(map(lambda member : {\\n                            'name':member.get('name'),\\n                            'birth': '-'.join(str(member.values()[1::]))\\n                                    },\\n                   member2\\n                  )\\n              )\\nmember1\",\n",
       " '_i37': '# {\\'year\\':2000, \\'month\\':1, \\'day\\':1} => \"200-01-01\"를 return하는 함수\\ndef join_date(data):\\n#     print([data.get(\\'year\\'), data.get(\\'month\\'), data.get(\\'day\\'),])\\n    year = str(data.get(\\'month\\'))\\n    month = data.get(\\'month\\')\\n    if month < 10:\\n        month = \\'0\\'+str(month)\\n    else:\\n        month = \\'0\\'+str(month)\\n    day = data.get(\\'day\\')\\n    if day < 10:\\n        day = \\'0\\'+str(day)\\n    else:\\n        day = \\'0\\'+str(day)\\n    return \\'-\\'.join([year, month, day])\\n\\njoin_date({\\'year\\':2000, \\'month\\':1, \\'day\\':1})',\n",
       " 'join_date': <function __main__.join_date(data)>,\n",
       " '_37': '1-01-01',\n",
       " '_i38': '# {\\'year\\':2000, \\'month\\':1, \\'day\\':1} => \"2000-01-01\"를 return하는 함수\\ndef join_date(data):\\n#     print([data.get(\\'year\\'), data.get(\\'month\\'), data.get(\\'day\\'),])\\n    year = str(data.get(\\'year\\'))\\n    month = data.get(\\'month\\')\\n    if month < 10:\\n        month = \\'0\\'+str(month)\\n    else:\\n        month = \\'0\\'+str(month)\\n    day = data.get(\\'day\\')\\n    if day < 10:\\n        day = \\'0\\'+str(day)\\n    else:\\n        day = \\'0\\'+str(day)\\n    return \\'-\\'.join([year, month, day])\\n\\njoin_date({\\'year\\':2000, \\'month\\':1, \\'day\\':1})',\n",
       " '_38': '2000-01-01',\n",
       " '_i39': \"def join_date(data)\\n    print('{}-{:02}-{:02}'.format(data.get('year'),\\n                                 data.get('month'),\\n                                 data.get('day')))\\njoin_date({'year':2000, 'month':1, 'day':1})\",\n",
       " '_i40': \"def join_date(data):\\n    print('{}-{:02}-{:02}'.format(data.get('year'),\\n                                 data.get('month'),\\n                                 data.get('day')))\\njoin_date({'year':2000, 'month':1, 'day':1})\",\n",
       " '_i41': \"def join_date(data):\\n    print('{year}-{month:02}-{day:02}'.format(year = data.get('year'),\\n                                     month = data.get('month'),\\n                                     day = data.get('day')))\\n\\njoin_date({'year':2000, 'month':1, 'day':1})\\n# 간단하게 하면,\",\n",
       " '_i42': \"def join_date(data):\\n    print('{year}-{month:02}-{day:02}'.format(**data))\\n    \\njoin_date({'year':2000, 'month':1, 'day':1})\",\n",
       " '_i43': \"def join_date(data):\\n    retrun '{year}-{month:02}-{day:02}'.format(**data)\\n    \\njoin_date({'year':2000, 'month':1, 'day':1})\",\n",
       " '_i44': 'def join_date(data):\\n    retrun \"\\'{year}-{month:02}-{day:02}\\'.format(**data)\"\\n    \\njoin_date({\\'year\\':2000, \\'month\\':1, \\'day\\':1})',\n",
       " '_i45': \"def join_date(data):\\n    retrun '{year}-{month:02}-{day:02}'.format(**data)\\n    \\njoin_date({'year':2000, 'month':1, 'day':1})\",\n",
       " '_i46': 'def join_date(data):\\n    retrun \"{year}-{month:02}-{day:02}\".format(**data)\\n    \\njoin_date({\\'year\\':2000, \\'month\\':1, \\'day\\':1})',\n",
       " '_i47': '#\\n#\\nlist(map(lambda member : {\\n            \\'name\\' : member.get(\\'name\\'),\\n            \\'birth\\': \"{year}-{month:02}-{day:02}\".format(**member)\\n            },\\n        member2\\n        )\\n    )',\n",
       " '_47': [{'name': '홍길동', 'birth': '2000-01-01'},\n",
       "  {'name': '신길동', 'birth': '1998-12-31'}],\n",
       " '_i48': '\\'예3. member2를 member1로 바꿉니다\\'\\nmember1 = list(map(lambda member : {\\n                            \\'name\\':member.get(\\'name\\'),\\n                            \\'birth\\': \"{year}-{month:02}-{day:02}\".format(**member)\\n                            },\\n                   member2\\n                  )\\n              )\\nmember1',\n",
       " '_48': [{'name': '홍길동', 'birth': '2000-01-01'},\n",
       "  {'name': '신길동', 'birth': '1998-12-31'}],\n",
       " '_i49': 'def evenChk(value):\\n    return value%2==0\\nevenChk(10), enevChk(-9)',\n",
       " 'evenChk': <function __main__.evenChk(value)>,\n",
       " '_i50': 'def evenChk(value):\\n    return value%2==0\\nevenChk(10), enenChk(-9)',\n",
       " '_i51': 'def evenChk(value):\\n    return value%2==0\\nevenChk(10), evenChk(-9)',\n",
       " '_51': (True, False),\n",
       " '_i52': 'list_data = [1, 2, 3, 4, 5]\\nfilter_template(lambda value : value%2==0, list_data)',\n",
       " '_i53': 'def filter_template(func, L=[]):\\n    result = []\\n    for l in L:\\n        if func(l):\\n            result.append(l)\\n        return result',\n",
       " 'filter_template': <function __main__.filter_template(func, L=[])>,\n",
       " '_i54': 'list_data = [1, 2, 3, 4, 5]\\nfilter_template(lambda value : value%2==0, list_data)',\n",
       " '_54': [],\n",
       " '_i55': 'list_data = [1, 2, 3, 4, 5]\\nfilter_template(lambda value : value%2==0, list_data)',\n",
       " '_55': [],\n",
       " '_i56': 'list(filter_template(lambda value : value%2==0, list_data))',\n",
       " '_56': [],\n",
       " '_i57': '[data for data in list_data if data%2==0]',\n",
       " '_57': [2, 4],\n",
       " '_i58': 'def filter_template(func, L=[]):\\n    result = []\\n    for l in L:\\n        if func(l)%2==0:\\n            result.append(l)\\n        return result',\n",
       " '_i59': 'list_data = [1, 2, 3, 4, 5]\\nfilter_template(lambda value : value%2==0, list_data)',\n",
       " '_59': [1],\n",
       " '_i60': 'def filter_template(func, L=[]):\\n    result = []\\n    for l in L:\\n        if l%2==0:\\n            result.append(l)\\n        return result',\n",
       " '_i61': 'list_data = [1, 2, 3, 4, 5]\\nfilter_template(lambda value : value%2==0, list_data)',\n",
       " '_61': [],\n",
       " '_i62': 'p = [9, 2, 7]\\np.sort(reverse=True)\\np',\n",
       " 'p': [9, 7, 2],\n",
       " '_62': [9, 7, 2],\n",
       " '_i63': 'def filter_template(func, L=[]):\\n    result = []\\n    for l in L:\\n        if func(l):\\n            result.append(l)\\n        return result',\n",
       " '_i64': 'list_data = [1, 2, 3, 4, 5]\\nfilter_template(lambda value : value%2==0, list_data)',\n",
       " '_64': [],\n",
       " '_i65': 'list(filter_template(lambda value : value%2==0, list_data))',\n",
       " '_65': [],\n",
       " '_i66': 'list_data = [1, 2, 3, 4, 5]\\nfilter_template(lambda value : value%2==0, list_data)',\n",
       " '_66': [],\n",
       " '_i67': 'def filter_template(func, L=[]):\\n    result = []\\n    for l in L:\\n        if func(l):\\n            result.append(l)\\n    return result',\n",
       " '_i68': 'list_data = [1, 2, 3, 4, 5]\\nfilter_template(lambda value : value%2==0, list_data)',\n",
       " '_68': [2, 4],\n",
       " '_i69': 'list(filter_template(lambda value : value%2==0, list_data))',\n",
       " '_69': [2, 4],\n",
       " '_i70': 'def join_date(data):\\n    retrun \"{year}-{month:02}-{day:02}\".format(**data)\\n    \\njoin_date({\\'year\\':2000, \\'month\\':1, \\'day\\':1})',\n",
       " '_i71': 'def join_date(data):\\n    return \"{year}-{month:02}-{day:02}\".format(**data)\\n    \\njoin_date({\\'year\\':2000, \\'month\\':1, \\'day\\':1})',\n",
       " '_71': '2000-01-01',\n",
       " '_i72': 'def join_date(data):\\n    print(\\'{year}-{month:02}-{day:02}\\'.format(\\n                                    name=\"홍\",\\n                                     year = data.get(\\'year\\'),\\n                                     month = data.get(\\'month\\'),\\n                                     day = data.get(\\'day\\')))\\n\\njoin_date({\\'year\\':2000, \\'month\\':1, \\'day\\':1})\\n# 간단하게 하면,',\n",
       " '_i73': 'def join_date(data):\\n    print(\\'{year}-{month:02}-{day:02}\\'.format(\\n                                        name=\"홍\",\\n                                        year = data.get(\\'year\\'),\\n                                        month = data.get(\\'month\\'),\\n                                        day = data.get(\\'day\\')))\\n\\njoin_date({\\'year\\':2000, \\'month\\':1, \\'day\\':1})\\n# 간단하게 하면,',\n",
       " '_i74': '# {\\'name\\':\\'홍길동\\', \\'year\\':2000, \\'month\\':1, \\'day\\':1}(member2)를\\n# {\\'name\\':\\'홍길동\\', \\'birth\\':\\'2000-01-01\\'}으로 가공\\nlist(map(lambda member : {\\n            \\'name\\' : member.get(\\'name\\'),\\n            \\'birth\\': \"{year}-{month:02}-{day:02}\".format(**member)\\n            },\\n        member2\\n        )\\n    )',\n",
       " '_74': [{'name': '홍길동', 'birth': '2000-01-01'},\n",
       "  {'name': '신길동', 'birth': '1998-12-31'}],\n",
       " '_i75': \"pairs = [(2, 'two'), (1, 'one'), (4, 'four'), (3, 'three')]\\npairs.sort()\\npairs\",\n",
       " 'pairs': [(4, 'four'), (1, 'one'), (3, 'three'), (2, 'two')],\n",
       " '_75': [(4, 'four'), (1, 'one'), (3, 'three'), (2, 'two')],\n",
       " '_i76': '# 1번째 item 기준으로 정렬(abc순)\\npairs.sort(key=lambda pair : pair[1])\\npairs',\n",
       " '_76': [(4, 'four'), (1, 'one'), (3, 'three'), (2, 'two')],\n",
       " '_i77': '# 무조건 0번 item 기준으로 정렬\\nnumber2d = [[9,9,9,9,99],\\n           [1, 100],\\n           [10,1]]\\nnumber2d,sort(reverse=True) # 기본(reverse=False): 오름차순정렬 / reverse=True: 내림차순정렬',\n",
       " 'number2d': [[1, 100], [9, 9, 9, 9, 9], [10, 1]],\n",
       " '_i78': '# 무조건 0번 item 기준으로 정렬\\nnumber2d = [[9,9,9,9,99],\\n           [1, 100],\\n           [10,1]]\\nnumber2d.sort(reverse=True) # 기본(reverse=False): 오름차순정렬 / reverse=True: 내림차순정렬',\n",
       " '_i79': '# 무조건 0번 item 기준으로 정렬\\nnumber2d = [[9,9,9,9,99],\\n           [1, 100],\\n           [10,1]]\\nnumber2d.sort(reverse=True) # 기본(reverse=False): 오름차순정렬 / reverse=True: 내림차순정렬\\nnumber2d',\n",
       " '_79': [[9, 9, 9, 9, 99], [1, 100], [10, 1]],\n",
       " '_i80': '(lambda item : sum(item))([1,2,3])',\n",
       " '_80': 6,\n",
       " '_i81': '# 합이 큰 순으로 정렬\\nnumber2d.sort(key=lambda item : sum(item), reverse=True)',\n",
       " '_i82': '# 합이 큰 순으로 정렬\\nnumber2d.sort(key=lambda item : sum(item), reverse=True)\\nnumber2d',\n",
       " '_82': [[9, 9, 9, 9, 99], [1, 100], [10, 1]],\n",
       " '_i83': '# 무조건 0번 item 기준으로 정렬\\nnumber2d = [[9,9,9,9,9],\\n           [1, 100],\\n           [10,1]]\\nnumber2d.sort(reverse=True) # 기본(reverse=False): 오름차순정렬 / reverse=True: 내림차순정렬\\nnumber2d',\n",
       " '_83': [[1, 100], [9, 9, 9, 9, 9], [10, 1]],\n",
       " '_i84': '# 합이 큰 순으로 정렬\\nnumber2d.sort(key=lambda item : sum(item), reverse=True)\\nnumber2d',\n",
       " '_84': [[1, 100], [9, 9, 9, 9, 9], [10, 1]],\n",
       " '_i85': \"def join_date(data):\\n    print('{year}-{month:02}-{day:02}'.format(\\n                                        name=data.get('name'), # format함수 지정방식에 따라 무시됨\\n                                        year = data.get('year'),\\n                                        month = data.get('month'),\\n                                        day = data.get('day')))\\n\\njoin_date({'year':2000, 'month':1, 'day':1})\\n# 간단하게 하면,\",\n",
       " '_i86': \"# 이름순으로 정렬(ㄱㄴㄷ순)\\nstudents = [\\n    {'name':'홍길동', 'score':90},\\n    {'name':'김길동', 'score':50},\\n    {'name':'윤길동', 'score':99},\\n#    {'score':100},\\n]\\nstudents.sort(key=lambda item : *item.get('name'))\\nnumber2d\",\n",
       " '_i87': \"# 이름순으로 정렬(ㄱㄴㄷ순)\\nstudents = [\\n    {'name':'홍길동', 'score':90},\\n    {'name':'김길동', 'score':50},\\n    {'name':'윤길동', 'score':99},\\n#    {'score':100},\\n]\\nstudents.sort(key=lambda item : item.get('name'))\\nnumber2d\",\n",
       " 'students': [{'score': 100},\n",
       "  {'name': '윤길동', 'score': 99},\n",
       "  {'name': '홍길동', 'score': 90},\n",
       "  {'name': '김길동', 'score': 50}],\n",
       " '_87': [[1, 100], [9, 9, 9, 9, 9], [10, 1]],\n",
       " '_i88': \"# 이름순으로 정렬(ㄱㄴㄷ순)\\nstudents = [\\n    {'name':'홍길동', 'score':90},\\n    {'name':'김길동', 'score':50},\\n    {'name':'윤길동', 'score':99},\\n#    {'score':100},\\n]\\nstudents.sort(key=lambda item : item.get('name'))\\nstudents\",\n",
       " '_88': [{'name': '윤길동', 'score': 99},\n",
       "  {'name': '홍길동', 'score': 90},\n",
       "  {'name': '김길동', 'score': 50}],\n",
       " '_i89': \"# score순으로 정렬(내림차순정렬)\\nstudents.sort(key=lambda item : item.get('score'), reverse=True)\\nstudents\",\n",
       " '_89': [{'name': '윤길동', 'score': 99},\n",
       "  {'name': '홍길동', 'score': 90},\n",
       "  {'name': '김길동', 'score': 50}],\n",
       " '_i90': \"# 이름순으로 정렬(ㄱㄴㄷ순)\\nstudents = [\\n    {'name':'홍길동', 'score':90},\\n    {'name':'김길동', 'score':50},\\n    {'name':'윤길동', 'score':99},\\n    {'score':100},\\n]\\nstudents.sort(key=lambda item : item.get('name'))\\nstudents\",\n",
       " '_i91': \"# 이름순으로 정렬(ㄱㄴㄷ순)\\nstudents = [\\n    {'name':'홍길동', 'score':90},\\n    {'name':'김길동', 'score':50},\\n    {'name':'윤길동', 'score':99},\\n    {'score':100},\\n]\\nstudents.sort(key=lambda item : item.get('name', '힣'))\\nstudents\",\n",
       " '_91': [{'score': 100},\n",
       "  {'name': '윤길동', 'score': 99},\n",
       "  {'name': '홍길동', 'score': 90},\n",
       "  {'name': '김길동', 'score': 50}],\n",
       " '_i92': \"# score순으로 정렬(내림차순정렬)\\nstudents.sort(key=lambda item : item.get('score', 0), reverse=True)\\nstudents\",\n",
       " '_92': [{'score': 100},\n",
       "  {'name': '윤길동', 'score': 99},\n",
       "  {'name': '홍길동', 'score': 90},\n",
       "  {'name': '김길동', 'score': 50}],\n",
       " '_i93': \"books.sort(key = lambda book : book.get('title'))\\nbooks\",\n",
       " '_i94': \"# 책 제목순 정렬(ㄱㄴㄷ순), 저자순 정렬(ㄱㄴㄷ순) 가격순 정렬\\nbooks =[\\n    {'no':1, 'title':'강남 아파트 인사이트', 'writer':'오스트로이드', 'price':'25,200'},\\n    {'no':2, 'title':'단 한 번의 삶', 'writer':'김영하', 'price':'18,100'},\\n    {'no':3, 'title':'흔한남매 19', 'writer':'백난도', 'price':'14,220'},\\n    {'no':4, 'title':'가격이 잘못', 'writer':'홍길도', 'price':'-'},\\n    {'no':5, 'title':'가격이숫자', 'writer':'신길도', 'price':900},\\n    {'no':6, 'title':'가격이없음', 'writer':'신길도'},\\n]\",\n",
       " 'books': [{'no': 1,\n",
       "   'title': '강남 아파트 인사이트',\n",
       "   'writer': '오스트로이드',\n",
       "   'price': '25,200'},\n",
       "  {'no': 2, 'title': '단 한 번의 삶', 'writer': '김영하', 'price': '18,100'},\n",
       "  {'no': 3, 'title': '흔한남매 19', 'writer': '백난도', 'price': '14,220'},\n",
       "  {'no': 4, 'title': '가격이잘못', 'writer': '홍길동', 'price': '-'},\n",
       "  {'no': 5, 'title': '가격이숫자', 'writer': '신길동', 'price': 900},\n",
       "  {'no': 6, 'title': '가격이없음', 'writer': '신길동'}],\n",
       " '_i95': \"books.sort(key = lambda book : book.get('title'))\\nbooks\",\n",
       " '_95': [{'no': 4, 'title': '가격이 잘못', 'writer': '홍길도', 'price': '-'},\n",
       "  {'no': 5, 'title': '가격이숫자', 'writer': '신길도', 'price': 900},\n",
       "  {'no': 6, 'title': '가격이없음', 'writer': '신길도'},\n",
       "  {'no': 1, 'title': '강남 아파트 인사이트', 'writer': '오스트로이드', 'price': '25,200'},\n",
       "  {'no': 2, 'title': '단 한 번의 삶', 'writer': '김영하', 'price': '18,100'},\n",
       "  {'no': 3, 'title': '흔한남매 19', 'writer': '백난도', 'price': '14,220'}],\n",
       " '_i96': \"# 책 제목순 정렬(ㄱㄴㄷ순), 저자순 정렬(ㄱㄴㄷ순) 가격순 정렬\\nbooks =[\\n    {'no':1, 'title':'강남 아파트 인사이트', 'writer':'오스트로이드', 'price':'25,200'},\\n    {'no':2, 'title':'단 한 번의 삶', 'writer':'김영하', 'price':'18,100'},\\n    {'no':3, 'title':'흔한남매 19', 'writer':'백난도', 'price':'14,220'},\\n    {'no':4, 'title':'가격이잘못', 'writer':'홍길도', 'price':'-'},\\n    {'no':5, 'title':'가격이숫자', 'writer':'신길도', 'price':900},\\n    {'no':6, 'title':'가격이없음', 'writer':'신길도'},\\n]\",\n",
       " '_i97': \"books.sort(key = lambda book : book.get('title'))\\nbooks\",\n",
       " '_97': [{'no': 2, 'title': '단 한 번의 삶', 'writer': '김영하', 'price': '18,100'},\n",
       "  {'no': 3, 'title': '흔한남매 19', 'writer': '백난도', 'price': '14,220'},\n",
       "  {'no': 5, 'title': '가격이숫자', 'writer': '신길도', 'price': 900},\n",
       "  {'no': 6, 'title': '가격이없음', 'writer': '신길도'},\n",
       "  {'no': 1, 'title': '강남 아파트 인사이트', 'writer': '오스트로이드', 'price': '25,200'},\n",
       "  {'no': 4, 'title': '가격이잘못', 'writer': '홍길도', 'price': '-'}],\n",
       " '_i98': \"books.sort(key = lambda book : book.get('writer'))\\nbooks\",\n",
       " '_98': [{'no': 2, 'title': '단 한 번의 삶', 'writer': '김영하', 'price': '18,100'},\n",
       "  {'no': 3, 'title': '흔한남매 19', 'writer': '백난도', 'price': '14,220'},\n",
       "  {'no': 5, 'title': '가격이숫자', 'writer': '신길도', 'price': 900},\n",
       "  {'no': 6, 'title': '가격이없음', 'writer': '신길도'},\n",
       "  {'no': 1, 'title': '강남 아파트 인사이트', 'writer': '오스트로이드', 'price': '25,200'},\n",
       "  {'no': 4, 'title': '가격이잘못', 'writer': '홍길도', 'price': '-'}],\n",
       " '_i99': \"books.sort(key = lambda book : book.get('price'))\\nbooks\",\n",
       " '_i100': \"# '14,000' -> 14000 / 800 -> 800 / '-' -> 0\\ndef parse_int(price):\\n    print(type(price))\",\n",
       " 'parse_int': <function __main__.parse_int(price)>,\n",
       " '_i101': 'parse_int(800)',\n",
       " '_i102': 'parse_int(\"800\")',\n",
       " '_i103': \"# '14,000' -> 14000 / '2000' -> 2000 / 800 -> 800 / '-' -> 0\\ndef parse_int(price):\\n    #print(type(price))\\n    if isinstance(price, str) and price.replace(',', '').isdigit():\\n        return int(price.replace(',', ''))\\n    elif isinstance(price, int):\\n        return price\",\n",
       " '_i104': 'parse_int(\"8000\")',\n",
       " '_104': 8000,\n",
       " '_i105': 'parse_int(\"8,000\")',\n",
       " '_105': 8000,\n",
       " '_i106': \"# '14,000' -> 14000 / '2000' -> 2000 / 800 -> 800 / '-' -> 0\\ndef parse_int(price):\\n    #print(type(price))\\n    if isinstance(price, str) and price.replace(',', '').isdigit():\\n        return int(price.replace(',', ''))\\n    elif isinstance(price, int):\\n        return price\",\n",
       " '_i107': 'parse_int(8000)',\n",
       " '_107': 8000,\n",
       " '_i108': 'parse_int(\"8,000\"), parse_int(\\'8000\\'), parse_int(800), parse_int(\\'-\\'),',\n",
       " '_108': (8000, 8000, 800, None),\n",
       " '_i109': \"# 책 제목순 정렬(ㄱㄴㄷ순), 저자순 정렬(ㄱㄴㄷ순) 가격순 정렬\\nbooks =[\\n    {'no':1, 'title':'강남 아파트 인사이트', 'writer':'오스트로이드', 'price':'25,200'},\\n    {'no':2, 'title':'단 한 번의 삶', 'writer':'김영하', 'price':'18,100'},\\n    {'no':3, 'title':'흔한남매 19', 'writer':'백난도', 'price':'14,220'},\\n    {'no':4, 'title':'가격이잘못', 'writer':'홍길동', 'price':'-'},\\n    {'no':5, 'title':'가격이숫자', 'writer':'신길동', 'price':900},\\n    {'no':6, 'title':'가격이없음', 'writer':'신길동'},\\n]\",\n",
       " '_i110': \"books.sort(key = lambda book : book.get('title'))\\nbooks\",\n",
       " '_110': [{'no': 2, 'title': '단 한 번의 삶', 'writer': '김영하', 'price': '18,100'},\n",
       "  {'no': 3, 'title': '흔한남매 19', 'writer': '백난도', 'price': '14,220'},\n",
       "  {'no': 5, 'title': '가격이숫자', 'writer': '신길동', 'price': 900},\n",
       "  {'no': 6, 'title': '가격이없음', 'writer': '신길동'},\n",
       "  {'no': 1, 'title': '강남 아파트 인사이트', 'writer': '오스트로이드', 'price': '25,200'},\n",
       "  {'no': 4, 'title': '가격이잘못', 'writer': '홍길동', 'price': '-'}],\n",
       " '_i111': \"books.sort(key = lambda book : book.get('writer'))\\nbooks\",\n",
       " '_111': [{'no': 2, 'title': '단 한 번의 삶', 'writer': '김영하', 'price': '18,100'},\n",
       "  {'no': 3, 'title': '흔한남매 19', 'writer': '백난도', 'price': '14,220'},\n",
       "  {'no': 5, 'title': '가격이숫자', 'writer': '신길동', 'price': 900},\n",
       "  {'no': 6, 'title': '가격이없음', 'writer': '신길동'},\n",
       "  {'no': 1, 'title': '강남 아파트 인사이트', 'writer': '오스트로이드', 'price': '25,200'},\n",
       "  {'no': 4, 'title': '가격이잘못', 'writer': '홍길동', 'price': '-'}],\n",
       " '_i112': \"books.sort(key = lambda book : book.get('price'))\\nbooks\",\n",
       " '_i113': \"# '14,000' -> 14000 / '2000' -> 2000 / 800 -> 800 / '-' -> 0\\ndef parse_int(price):\\n    #print(type(price))\\n    if isinstance(price, str) and price.replace(',', '').isdigit(): # and : 논리연산자 only, & : 논리, 비트, ...연산자일 수 있다\\n        return int(price.replace(',', ''))\\n    elif isinstance(price, int):\\n        return price\\n    else:\\n        return 0\",\n",
       " '_i114': 'parse_int(\"8,000\"), parse_int(\\'8000\\'), parse_int(800), parse_int(\\'-\\'),',\n",
       " '_114': (8000, 8000, 800, 0),\n",
       " '_i115': \"# 책 제목순 정렬(ㄱㄴㄷ순), 저자순 정렬(ㄱㄴㄷ순) 가격순 정렬\\nbooks =[\\n    {'no':1, 'title':'강남 아파트 인사이트', 'writer':'오스트로이드', 'price':'25,200'},\\n    {'no':2, 'title':'단 한 번의 삶', 'writer':'김영하', 'price':'18,100'},\\n    {'no':3, 'title':'흔한남매 19', 'writer':'백난도', 'price':'14,220'},\\n    {'no':4, 'title':'가격이잘못', 'writer':'홍길동', 'price':'-'},\\n    {'no':5, 'title':'가격이숫자', 'writer':'신길동', 'price':900},\\n    {'no':6, 'title':'가격이없음', 'writer':'신길동'},\\n]\",\n",
       " '_i116': \"# '14,000' -> 14000 / '2000' -> 2000 / 800 -> 800 / '-' -> 0\\ndef parse_int(price):\\n    #print(type(price))\\n    if isinstance(price, str) and price.replace(',', '').isdigit(): # and : 논리연산자 only, & : 논리, 비트, ...연산자일 수 있다\\n        return int(price.replace(',', ''))\\n    elif isinstance(price, int):\\n        return price\\n    else:\\n        return 0\\nfor i in range(5):\\n    parse_int(books[0])\",\n",
       " 'i': 4,\n",
       " '_i117': \"# '14,000' -> 14000 / '2000' -> 2000 / 800 -> 800 / '-' -> 0\\ndef parse_int(price):\\n    #print(type(price))\\n    if isinstance(price, str) and price.replace(',', '').isdigit(): # and : 논리연산자 only, & : 논리, 비트, ...연산자일 수 있다\\n        return int(price.replace(',', ''))\\n    elif isinstance(price, int):\\n        return price\\n    else:\\n        return 0\\n    \\nfor i in range(5):\\n    print(parse_int(books[i]), end '')\",\n",
       " '_i118': \"# '14,000' -> 14000 / '2000' -> 2000 / 800 -> 800 / '-' -> 0\\ndef parse_int(price):\\n    #print(type(price))\\n    if isinstance(price, str) and price.replace(',', '').isdigit(): # and : 논리연산자 only, & : 논리, 비트, ...연산자일 수 있다\\n        return int(price.replace(',', ''))\\n    elif isinstance(price, int):\\n        return price\\n    else:\\n        return 0\\n    \\nfor i in range(5):\\n    print(parse_int(books[i]), end='')\",\n",
       " '_i119': 'copy_boos = books.copy()',\n",
       " 'copy_boos': [{'no': 1,\n",
       "   'title': '강남 아파트 인사이트',\n",
       "   'writer': '오스트로이드',\n",
       "   'price': '25,200'},\n",
       "  {'no': 2, 'title': '단 한 번의 삶', 'writer': '김영하', 'price': '18,100'},\n",
       "  {'no': 3, 'title': '흔한남매 19', 'writer': '백난도', 'price': '14,220'},\n",
       "  {'no': 4, 'title': '가격이잘못', 'writer': '홍길동', 'price': '-'},\n",
       "  {'no': 5, 'title': '가격이숫자', 'writer': '신길동', 'price': 900},\n",
       "  {'no': 6, 'title': '가격이없음', 'writer': '신길동'}],\n",
       " '_i120': 'copy_books = books.copy()',\n",
       " 'copy_books': [{'no': 1,\n",
       "   'title': '강남 아파트 인사이트',\n",
       "   'writer': '오스트로이드',\n",
       "   'price': '25,200'},\n",
       "  {'no': 2, 'title': '단 한 번의 삶', 'writer': '김영하', 'price': '18,100'},\n",
       "  {'no': 3, 'title': '흔한남매 19', 'writer': '백난도', 'price': '14,220'},\n",
       "  {'no': 4, 'title': '가격이잘못', 'writer': '홍길동', 'price': '-'},\n",
       "  {'no': 5, 'title': '가격이숫자', 'writer': '신길동', 'price': 900},\n",
       "  {'no': 6, 'title': '가격이없음', 'writer': '신길동'}],\n",
       " '_i121': \"copy_books = books.copy()\\ncopy_books.sort(key = lambda book :\\n               int(book.get('price').replace(',','')) \\\\\\n                   if isinstance(book.get('price'), str) and\\\\\\n                       book.get('price').replace(',','').isdiget() else \\\\\\n               book.get('price') if isinstance(book.get('price'), int) else \\\\\\n               0\\n               )\",\n",
       " '_i122': \"copy_books = books.copy()\\n\\ncopy_books.sort(key = lambda book :\\n               int(book.get('price').replace(',','')) \\\\\\n                   if isinstance(book.get('price'), str) and \\\\\\n                       book.get('price').replace(',','').isdiget() else \\\\\\n               book.get('price') if isinstance(book.get('price'), int) else \\\\\\n               0\\n               )\",\n",
       " '_i123': \"books.sort(key = lambda book : book.get('price'))\\nbooks\",\n",
       " '_i124': '# 함수를 return\\ndef make_box(shape): # shape : [L], => length가 l인 list를 생성하는 함수 return, \\n                     #         [r,c] => r행 c열인 2차원 list를 생성하는 함수 return\\n                     #         [d,r,c] => d면 r행 c열 3차원 list를 생성하는 함수 return\\n    def box(init_value):\\n        if len(shpae)==1:\\n            return [init_value]*shape[0]\\n        elif len(shape)==2:\\n            return [[init_value]*shape[1]] * shape[0]\\n    return box',\n",
       " 'make_box': <function __main__.make_box(shape)>,\n",
       " '_i125': 'line_func = make_box([2,3])\\nline_func(3)',\n",
       " 'line_func': <function __main__.make_box.<locals>.<lambda>(init_value)>,\n",
       " '_i126': '# 함수를 return\\ndef make_box(shape): # shape : [L], => length가 l인 list를 생성하는 함수 return, \\n                     #         [r,c] => r행 c열인 2차원 list를 생성하는 함수 return\\n                     #         [d,r,c] => d면 r행 c열 3차원 list를 생성하는 함수 return\\n    def box(init_value):\\n        if len(shape)==1:\\n            return [init_value]*shape[0]\\n        elif len(shape)==2:\\n            return [[init_value]*shape[1]] * shape[0]\\n    return box',\n",
       " '_i127': 'line_func = make_box([2,3])\\nline_func(3)',\n",
       " '_127': [[3, 3, 3], [3, 3, 3]],\n",
       " '_i128': 'line_func = make_box([10])\\nline_func(3)',\n",
       " '_128': [3, 3, 3, 3, 3, 3, 3, 3, 3, 3],\n",
       " '_i129': 'def make_box(shape):\\n    if len(shape)==1:\\n        return lambda init_value : [init_value] * shape[0]\\n    elif:\\n        return lambda init_value : [ [init_value]*shape[1] ] * shape[0]',\n",
       " '_i130': 'def make_box(shape):\\n    if len(shape)==1:\\n        return lambda init_value : [init_value] * shape[0]\\n    elif len(shape)==2:\\n        return lambda init_value : [ [init_value]*shape[1] ] * shape[0]',\n",
       " '_i131': 'line_func = make_box([10])\\nline_func(3)',\n",
       " '_131': [3, 3, 3, 3, 3, 3, 3, 3, 3, 3],\n",
       " '_i132': 'line_func = make_box([2,3])\\nline_func(3)',\n",
       " '_132': [[3, 3, 3], [3, 3, 3]],\n",
       " '_i133': 'all([True, True, True, False]) # 전부 True인지 여부',\n",
       " '_133': False,\n",
       " '_i134': 'round(3.5) # 반올림',\n",
       " '_134': 4,\n",
       " '_i135': 'import numpy as np # numpy 모듈을 np라는 이름으로 load\\nnp.round(3.5), np.ceil(3.1), np.floor(3.9) # 반올림, 올림, 내림',\n",
       " 'np': <module 'numpy' from 'C:\\\\Users\\\\Admin\\\\anaconda3\\\\lib\\\\site-packages\\\\numpy\\\\__init__.py'>,\n",
       " '_135': (4.0, 4.0, 3.0),\n",
       " '_i136': 'globals() # 전역변수 리스트'}"
      ]
     },
     "execution_count": 136,
     "metadata": {},
     "output_type": "execute_result"
    }
   ],
   "source": [
    "globals() # 전역변수 리스트"
   ]
  },
  {
   "cell_type": "code",
   "execution_count": 133,
   "id": "421c0991",
   "metadata": {},
   "outputs": [
    {
     "data": {
      "text/plain": [
       "False"
      ]
     },
     "execution_count": 133,
     "metadata": {},
     "output_type": "execute_result"
    }
   ],
   "source": [
    "all([True, True, True, False]) # 전부 True인지 여부"
   ]
  },
  {
   "cell_type": "code",
   "execution_count": 134,
   "id": "a38649f8",
   "metadata": {},
   "outputs": [
    {
     "data": {
      "text/plain": [
       "4"
      ]
     },
     "execution_count": 134,
     "metadata": {},
     "output_type": "execute_result"
    }
   ],
   "source": [
    "round(3.5) # 반올림"
   ]
  },
  {
   "cell_type": "code",
   "execution_count": 135,
   "id": "5441bec6",
   "metadata": {},
   "outputs": [
    {
     "data": {
      "text/plain": [
       "(4.0, 4.0, 3.0)"
      ]
     },
     "execution_count": 135,
     "metadata": {},
     "output_type": "execute_result"
    }
   ],
   "source": [
    "import numpy as np # numpy 모듈을 np라는 이름으로 load\n",
    "np.round(3.5), np.ceil(3.1), np.floor(3.9) # 반올림, 올림, 내림"
   ]
  },
  {
   "cell_type": "markdown",
   "id": "76f5ded3",
   "metadata": {},
   "source": [
    "# 6절. 연습문제\n",
    "## 실습형"
   ]
  },
  {
   "cell_type": "code",
   "execution_count": 4,
   "id": "3f8ff179",
   "metadata": {},
   "outputs": [
    {
     "data": {
      "text/plain": [
       "(8, 3)"
      ]
     },
     "execution_count": 4,
     "metadata": {},
     "output_type": "execute_result"
    }
   ],
   "source": [
    "# 1. 함수의 인자로 리스트를 받은 후 리스트 내에 있는 모든 정수값에 대한 최대값과 최소값을 리턴하는 함수를 작성하세요\n",
    "def get_max_min(data_list):\n",
    "    return (max(data_list), min(data_list))\n",
    "\n",
    "get_max_min([3,4,5,6,7,8])"
   ]
  },
  {
   "cell_type": "code",
   "execution_count": 5,
   "id": "b2ab9cbe",
   "metadata": {},
   "outputs": [
    {
     "data": {
      "text/plain": [
       "(8, 3)"
      ]
     },
     "execution_count": 5,
     "metadata": {},
     "output_type": "execute_result"
    }
   ],
   "source": [
    "\n",
    "get_max_min= lambda data : (max(data), min(data))\n",
    "get_max_min([3,4,5,6,7,8])"
   ]
  },
  {
   "cell_type": "code",
   "execution_count": 8,
   "id": "20ff09e7",
   "metadata": {},
   "outputs": [
    {
     "name": "stdout",
     "output_type": "stream",
     "text": [
      "체중 kg?88\n",
      "키   m?1.82\n"
     ]
    },
    {
     "data": {
      "text/plain": [
       "('비만', 'BMI', 26.56683975365294)"
      ]
     },
     "execution_count": 8,
     "metadata": {},
     "output_type": "execute_result"
    }
   ],
   "source": [
    "# 2. 체질량 지수(Body Mass Index, BMI)는 체중과 키를 이용해 비만도를 나타내는 지수로 아래의 수식에 의해 계산됩니다. \n",
    "#    함수의 인자로 체중(kg)과 신장(m)를입력받은 후 BMI값에 따라 ‘마른 체형‘, ‘표준‘, ‘비만‘, ‘고도비만‘ 중 하나의\n",
    "#    상태를 출력하는 함수를 구현해 보세요.\n",
    "\n",
    "def getBMI(kg, m):\n",
    "    bmi = kg / (m**2)\n",
    "    if bmi <  18.5:\n",
    "        return '마른체형'\n",
    "    elif bmi < 25:\n",
    "        return '표준'\n",
    "    elif bmi < 30:\n",
    "        return '비만'\n",
    "    else:\n",
    "        return '고도비만'\n",
    "\n",
    "w = int(input('체중 kg?'))\n",
    "h = float(input('키   m?'))\n",
    "getBMI(w,h), 'BMI', (w/(h**2))"
   ]
  },
  {
   "cell_type": "code",
   "execution_count": 9,
   "id": "3902bee3",
   "metadata": {},
   "outputs": [
    {
     "name": "stdout",
     "output_type": "stream",
     "text": [
      "체중 kg?88\n",
      "키   m?1.82\n"
     ]
    },
    {
     "data": {
      "text/plain": [
       "('비만', 'BMI', 26.56683975365294)"
      ]
     },
     "execution_count": 9,
     "metadata": {},
     "output_type": "execute_result"
    }
   ],
   "source": [
    "getBMI = lambda kg, m : '마른체형' if kg/(m**2) < 18.5 else \\\n",
    "                        '표준' if kg/(m**2) < 25 else \\\n",
    "                        '비만' if kg/(m**2) < 30 else \\\n",
    "                        '고도비만'\n",
    "\n",
    "w = int(input('체중 kg?'))\n",
    "h = float(input('키   m?'))\n",
    "getBMI(w,h), 'BMI', (w/(h**2))"
   ]
  },
  {
   "cell_type": "code",
   "execution_count": 10,
   "id": "e2a44e4e",
   "metadata": {},
   "outputs": [
    {
     "name": "stdout",
     "output_type": "stream",
     "text": [
      "밑변?3\n",
      "높이?4\n"
     ]
    },
    {
     "data": {
      "text/plain": [
       "('면적과 둘레는 각각', (6.0, 12.0))"
      ]
     },
     "execution_count": 10,
     "metadata": {},
     "output_type": "execute_result"
    }
   ],
   "source": [
    "# 3. 직각삼각형의 밑변과 높이를 입력받은 후 삼각형의 면적과 둘레를 계산하는 함수를 작성하세요\n",
    "#    리턴값은 면적과 둘레를 return하도록 구현하세요\n",
    "# math.sqrt() 제곱근을 구하는 함수 이용 (ex)math.sqrt(25) : 5.0\n",
    "\n",
    "import math\n",
    "\n",
    "def get_triangle(width, height):\n",
    "    return (width*height/2, width+height+math.sqrt(width**2+height**2))\n",
    "\n",
    "w = float(input('밑변?'))\n",
    "h = float(input('높이?'))\n",
    "'면적과 둘레는 각각', get_triangle(w, h)"
   ]
  },
  {
   "cell_type": "code",
   "execution_count": 11,
   "id": "64ead02a",
   "metadata": {},
   "outputs": [
    {
     "name": "stdout",
     "output_type": "stream",
     "text": [
      "밑변?3\n",
      "높이?4\n"
     ]
    },
    {
     "data": {
      "text/plain": [
       "('면적과 둘레는 각각', (6.0, 12.0))"
      ]
     },
     "execution_count": 11,
     "metadata": {},
     "output_type": "execute_result"
    }
   ],
   "source": [
    "import math\n",
    "get_triangle = lambda width, height : (width*height/2, width+height+math.sqrt(width**2+height**2))\n",
    "\n",
    "w = float(input('밑변?'))\n",
    "h = float(input('높이?'))\n",
    "'면적과 둘레는 각각', get_triangle(w, h)"
   ]
  },
  {
   "cell_type": "code",
   "execution_count": 12,
   "id": "31bc5c04",
   "metadata": {},
   "outputs": [
    {
     "name": "stdout",
     "output_type": "stream",
     "text": [
      "시작값?3\n",
      "끝  값?6\n",
      "3부터 6까지 정수의 합은 : 18\n"
     ]
    }
   ],
   "source": [
    "# 4. 함수의 인자로 시작과 끝 숫자가 주어질 때 시작부터 끝까지의 모든 정수값의 합을 리턴하는 함수를 작성하세요(시작값과 끝값 포함).\n",
    "\n",
    "def mysum(fRom, end):\n",
    "    sum = 0\n",
    "    for i in range(fRom,end+1):\n",
    "        sum += i \n",
    "    return sum\n",
    "\n",
    "s = int(input('시작값?'))\n",
    "t = int(input('끝  값?'))\n",
    "\n",
    "print('{}부터 {}까지 정수의 합은 : {}'.format(s, t, mysum(s, t)))"
   ]
  },
  {
   "cell_type": "code",
   "execution_count": 16,
   "id": "f515a941",
   "metadata": {},
   "outputs": [
    {
     "name": "stdout",
     "output_type": "stream",
     "text": [
      "시작값?3\n",
      "끝  값?5\n",
      "3부터 5까지 정수의 합은 : 12\n"
     ]
    }
   ],
   "source": [
    "mysum = lambda fRom, end : sum(range(fRom,end+1))\n",
    "\n",
    "s = int(input('시작값?'))\n",
    "t = int(input('끝  값?'))\n",
    "\n",
    "print('{}부터 {}까지 정수의 합은 : {}'.format(s, t, mysum(s, t)))"
   ]
  },
  {
   "cell_type": "code",
   "execution_count": 18,
   "id": "58f40e20",
   "metadata": {},
   "outputs": [
    {
     "data": {
      "text/plain": [
       "['Seo', 'Dae', 'Kwa', 'Jej']"
      ]
     },
     "execution_count": 18,
     "metadata": {},
     "output_type": "execute_result"
    }
   ],
   "source": [
    "# 5. 함수의인자로 문자열을 포함하는 리스트가 입력될 때 각 문자열의 첫 세글자로만 구성된 리스트를 리턴하는 함수와 람다식을 작성하세요\n",
    "#    예를 들어 함수의 입력으로 [‘Seoul’, ‘Daegu’, ‘Kwangju’, ‘Jeju’]가 입력될 때 함수의 리턴값은 [‘Seo’, ‘Dae’, ‘Kwa’,’Jej’]\n",
    "\n",
    "citys = ['Seoul', 'Daegu', 'Kwangju', 'Jeju']\n",
    "\n",
    "def get_abbrs(lst):\n",
    "    rt_lst = []\n",
    "    for item in lst:\n",
    "        rt_lst.append(item[:3])\n",
    "    return rt_lst\n",
    "\n",
    "citys_abr = get_abbrs(citys)\n",
    "citys_abr   "
   ]
  },
  {
   "cell_type": "code",
   "execution_count": 20,
   "id": "77c71dae",
   "metadata": {},
   "outputs": [
    {
     "data": {
      "text/plain": [
       "['Seo', 'Dae', 'Kwa', 'Jej']"
      ]
     },
     "execution_count": 20,
     "metadata": {},
     "output_type": "execute_result"
    }
   ],
   "source": [
    "# 강사 추천\n",
    "def get_abbrs(lst):\n",
    "    return [l[:3] for l in lst]\n",
    "\n",
    "citys_abr = get_abbrs(citys)\n",
    "citys_abr "
   ]
  },
  {
   "cell_type": "code",
   "execution_count": 21,
   "id": "d66e48cf",
   "metadata": {},
   "outputs": [
    {
     "data": {
      "text/plain": [
       "['Seo', 'Dae', 'Kwa', 'Jej']"
      ]
     },
     "execution_count": 21,
     "metadata": {},
     "output_type": "execute_result"
    }
   ],
   "source": [
    "# 강사 추천\n",
    "(lambda lst : [l[:3] for l in lst])(citys)"
   ]
  },
  {
   "cell_type": "code",
   "execution_count": 182,
   "id": "ebeb53ca",
   "metadata": {},
   "outputs": [
    {
     "data": {
      "text/plain": [
       "['Seo', 'Dae', 'Kwa', 'Jej']"
      ]
     },
     "execution_count": 182,
     "metadata": {},
     "output_type": "execute_result"
    }
   ],
   "source": [
    "list(map(lambda lst : lst[:3], citys))"
   ]
  },
  {
   "cell_type": "code",
   "execution_count": 184,
   "id": "50e48ff3",
   "metadata": {},
   "outputs": [
    {
     "data": {
      "text/plain": [
       "8"
      ]
     },
     "execution_count": 184,
     "metadata": {},
     "output_type": "execute_result"
    }
   ],
   "source": [
    "# 6. 다음 코드를 람다 함수 형태로 수정할 때 알맞은 코드를 작성하시오\n",
    "x_exp_y = lambda x, y : x**y\n",
    "x_exp_y(2,3)"
   ]
  },
  {
   "cell_type": "code",
   "execution_count": 187,
   "id": "2b6197bf",
   "metadata": {},
   "outputs": [
    {
     "data": {
      "text/plain": [
       "[1, 4, 9, 16, 25]"
      ]
     },
     "execution_count": 187,
     "metadata": {},
     "output_type": "execute_result"
    }
   ],
   "source": [
    "# 7. ex = [1,2,3,4,5]를 [1,4,9,16,25]의 결과를 얻을 수 있도록 람다함수와 map()함수를 사용하여 구현과 리스트 컴프리헨션으로 구현하시오\n",
    "ex = [1,2,3,4,5]\n",
    "list(map(lambda x : x**2, ex))"
   ]
  },
  {
   "cell_type": "code",
   "execution_count": 190,
   "id": "9f74768d",
   "metadata": {},
   "outputs": [
    {
     "data": {
      "text/plain": [
       "[1, 4, 9, 16, 25]"
      ]
     },
     "execution_count": 190,
     "metadata": {},
     "output_type": "execute_result"
    }
   ],
   "source": [
    "ex = [1,2,3,4,5]\n",
    "[e**2 for e in ex]"
   ]
  },
  {
   "cell_type": "code",
   "execution_count": 191,
   "id": "81605c49",
   "metadata": {},
   "outputs": [
    {
     "name": "stdout",
     "output_type": "stream",
     "text": [
      "1 2 3\n"
     ]
    }
   ],
   "source": [
    "# 8. 다음코드를 각각 실행하면 서로 다른 결과가 나온다. 이런 결과가 나오는 이유를 서술하시오 : unpack된 결과와 packing을 유지한 리스 출력\n",
    "a = [1, 2, 3]\n",
    "print(*a)"
   ]
  },
  {
   "cell_type": "code",
   "execution_count": 192,
   "id": "df2943f0",
   "metadata": {},
   "outputs": [
    {
     "name": "stdout",
     "output_type": "stream",
     "text": [
      "[1, 2, 3]\n"
     ]
    }
   ],
   "source": [
    "print(a)"
   ]
  },
  {
   "cell_type": "code",
   "execution_count": 195,
   "id": "b973e7d9",
   "metadata": {},
   "outputs": [
    {
     "data": {
      "text/plain": [
       "'2024-09-06'"
      ]
     },
     "execution_count": 195,
     "metadata": {},
     "output_type": "execute_result"
    }
   ],
   "source": [
    "# 9. 다음 코드의 실행 결과는? result = \"{year}-{month}-{day}\".format(year='2024', month=9, day=6) 와 같은 결과\n",
    "date_info = {'year':2024, 'month':9, 'day':6}\n",
    "result = '{year}-{month:>02}-{day:>02}'.format(**date_info)\n",
    "result"
   ]
  },
  {
   "cell_type": "code",
   "execution_count": 201,
   "id": "cfd53f5b",
   "metadata": {},
   "outputs": [
    {
     "data": {
      "text/plain": [
       "'2025-04-18'"
      ]
     },
     "execution_count": 201,
     "metadata": {},
     "output_type": "execute_result"
    }
   ],
   "source": [
    "date_info = {'year':'2025', 'month':'4', 'day':'18'}\n",
    "result = '{year}-{month:>02}-{day:>02}'.format(**date_info)\n",
    "result"
   ]
  },
  {
   "cell_type": "code",
   "execution_count": 203,
   "id": "11a11a74",
   "metadata": {},
   "outputs": [
    {
     "data": {
      "text/plain": [
       "True"
      ]
     },
     "execution_count": 203,
     "metadata": {},
     "output_type": "execute_result"
    }
   ],
   "source": [
    "# 10. n개의 벡터(리스트나 튜플, 셋등)의 크기들이 같은지 여부를 reutrn하는\n",
    "#     vector_size_check(*vector _var) 를 한 줄의 코드(리스트 컴프리헨션 이용)로 작성하시오. : set 이용\n",
    "\n",
    "vector = ([10, 20], (100,200), {'name':'홍', 'age':20}, {1, 2})\n",
    "\n",
    "\n",
    "def vector_size_check(*vector_var):\n",
    "    return len(set([len(v) for v in vector_var])) == 1\n",
    "\n",
    "vector_size_check(*vector)"
   ]
  },
  {
   "cell_type": "code",
   "execution_count": 217,
   "id": "2e3a280f",
   "metadata": {},
   "outputs": [
    {
     "data": {
      "text/plain": [
       "True"
      ]
     },
     "execution_count": 217,
     "metadata": {},
     "output_type": "execute_result"
    }
   ],
   "source": [
    "vector_F = ([10, 20], (100,200), {'name':'홍', 'age':20}, {1, 2, 3})\n",
    "\n",
    "# def vector_size(*vector_var):\n",
    "#     return [len(v) for v in vector_var]\n",
    "\n",
    "# all(vector_size(*vector_F))\n",
    "\n",
    "vector_size_check(*vector_F)"
   ]
  },
  {
   "cell_type": "code",
   "execution_count": 218,
   "id": "57c616ac",
   "metadata": {},
   "outputs": [
    {
     "data": {
      "text/plain": [
       "True"
      ]
     },
     "execution_count": 218,
     "metadata": {},
     "output_type": "execute_result"
    }
   ],
   "source": [
    "import numpy as np\n",
    "a = np.array([1,2])\n",
    "b = np.array([1,2])\n",
    "all(a == b)"
   ]
  },
  {
   "cell_type": "code",
   "execution_count": 215,
   "id": "424a1e7b",
   "metadata": {},
   "outputs": [
    {
     "data": {
      "text/plain": [
       "True"
      ]
     },
     "execution_count": 215,
     "metadata": {},
     "output_type": "execute_result"
    }
   ],
   "source": [
    "# 10. n개의 벡터(리스트나 튜플, 셋등)의 크기들이 같은지 여부를 reutrn하는\n",
    "#     vector_size_check(*vector _var) 를 한 줄의 코드(리스트 컴프리헨션 이용)로 작성하시오. : all 이용\n",
    "\n",
    "vector = ([10, 20], (100,200), {'name':'홍', 'age':20}, {1, 2})\n",
    "\n",
    "\n",
    "def vector_size_check(*vector_var):\n",
    "    return all([len(v) for v in vector_var])\n",
    "\n",
    "vector_size_check(*vector)"
   ]
  },
  {
   "cell_type": "code",
   "execution_count": 216,
   "id": "bb049735",
   "metadata": {},
   "outputs": [
    {
     "data": {
      "text/plain": [
       "True"
      ]
     },
     "execution_count": 216,
     "metadata": {},
     "output_type": "execute_result"
    }
   ],
   "source": [
    "vector_F = ([10, 20], (100,200), {'name':'홍', 'age':20}, {1, 2, 3})\n",
    "\n",
    "# def vector_size(*vector_var):\n",
    "#     return [len(v) for v in vector_var]\n",
    "\n",
    "# all(vector_size(*vector_F))\n",
    "\n",
    "vector_size_check(*vector_F)"
   ]
  },
  {
   "cell_type": "code",
   "execution_count": 30,
   "id": "c85314c4",
   "metadata": {},
   "outputs": [
    {
     "data": {
      "text/plain": [
       "[25, 50, 75, 100]"
      ]
     },
     "execution_count": 30,
     "metadata": {},
     "output_type": "execute_result"
    }
   ],
   "source": [
    "# 11. 다음과 같은 결과를 얻기 위해 하나의 스칼라값을 리스트나 튜플, \n",
    "#     셋등 벡터에 곱하는 코드를 작성하시오.(단 입력되는 벡터의 크기는 일정하지 않음)\n",
    "# sclar_vctr_prdt(5, [1,2,3,4]) = > [5, 10, 15, 20]\n",
    "mul = 5\n",
    "vector = [5, 10, 15, 20]\n",
    "\n",
    "def sclar_vctr_prdt(ml, vtr):\n",
    "    return [item * ml for item in vtr]\n",
    "\n",
    "mul = 5\n",
    "vector = [5, 10, 15, 20]\n",
    "sclar_vctr_prdt(mul, vector)"
   ]
  },
  {
   "cell_type": "markdown",
   "id": "02d0f37a",
   "metadata": {},
   "source": [
    "## 서술형"
   ]
  },
  {
   "cell_type": "code",
   "execution_count": 150,
   "id": "885d6181",
   "metadata": {},
   "outputs": [
    {
     "data": {
      "text/plain": [
       "[(4, 'a'), (3, 'b'), (2, 'c'), (1, 'd')]"
      ]
     },
     "execution_count": 150,
     "metadata": {},
     "output_type": "execute_result"
    }
   ],
   "source": [
    "# 1. 다음 코드의 실행 결과는? 3\n",
    "pairs = [(1, 'd'), (2, 'c'), (3, 'b'), (4, 'a')]\n",
    "pairs.sort(key=lambda pair: pair[1])\n",
    "pairs"
   ]
  },
  {
   "cell_type": "code",
   "execution_count": 210,
   "id": "dbebbae8",
   "metadata": {},
   "outputs": [
    {
     "name": "stdout",
     "output_type": "stream",
     "text": [
      "6 12 6 13 "
     ]
    }
   ],
   "source": [
    "# 2. 오류 확인 후, 수정, 실행결과는?\n",
    "\n",
    "a=10\n",
    "\n",
    "def sub():\n",
    "    global a\n",
    "    a += 1\n",
    "    print(a, end=' ')\n",
    "    \n",
    "def func():\n",
    "    for i in range(2):\n",
    "        a = 5\n",
    "        a += 1\n",
    "        print(a, end=' ')\n",
    "        sub()\n",
    "        \n",
    "a += 1\n",
    "func()"
   ]
  },
  {
   "cell_type": "code",
   "execution_count": 35,
   "id": "d19f639a",
   "metadata": {},
   "outputs": [
    {
     "name": "stdout",
     "output_type": "stream",
     "text": [
      "100\n"
     ]
    }
   ],
   "source": [
    "# 3, 다음구문을 실행한 결과는? 100\n",
    "var = 100\n",
    "def func(var):\n",
    "    var = 200\n",
    "func(var)\n",
    "print(var)"
   ]
  },
  {
   "cell_type": "code",
   "execution_count": 36,
   "id": "f06d64aa",
   "metadata": {},
   "outputs": [
    {
     "data": {
      "text/plain": [
       "5"
      ]
     },
     "execution_count": 36,
     "metadata": {},
     "output_type": "execute_result"
    }
   ],
   "source": [
    "# 4, 다음구문을 실행한 결과는? 5\n",
    "def my_func(func, *args):\n",
    "    return func(*args)\n",
    "import numpy as np\n",
    "my_func(np.add, 2, 3)"
   ]
  },
  {
   "cell_type": "code",
   "execution_count": 37,
   "id": "1abdb365",
   "metadata": {},
   "outputs": [
    {
     "data": {
      "text/plain": [
       "9"
      ]
     },
     "execution_count": 37,
     "metadata": {},
     "output_type": "execute_result"
    }
   ],
   "source": [
    "# 5, 다음구문을 실행한 결과는? 3 의 2 승값 : 9\n",
    "def my_func(func, *args):\n",
    "    return func(*args)\n",
    "my_func(lambda a, b : a**b, 3, 2)"
   ]
  },
  {
   "cell_type": "code",
   "execution_count": null,
   "id": "80fc9343",
   "metadata": {},
   "outputs": [],
   "source": [
    "# 6. 파이썬 함수에 대한 설명 중 잘못된 것은?\n",
    "# 중복할 수 없다!!!\n",
    "# 파이썬의 함수 매개변수는 기본값을 가질 수 있다.\n",
    "# **args 형식의 매개변수가 있으면 키워드 인수는 딕셔너리 형식으로 받는다.\n",
    "# 함수를 호출할 때 매개변수 이름이 없는 인수는 매개변수 이름이 있는 인수보다 앞에 와야 한다."
   ]
  },
  {
   "cell_type": "code",
   "execution_count": 214,
   "id": "510db33d",
   "metadata": {},
   "outputs": [
    {
     "data": {
      "text/plain": [
       "([10, 20], [10, 20], [30])"
      ]
     },
     "execution_count": 214,
     "metadata": {},
     "output_type": "execute_result"
    }
   ],
   "source": [
    "# 7. 다음과 같은 구문이 있을 경우 오류가 발생하는 함수 호출은?\n",
    "list_ = []\n",
    "def func(a, L=None):\n",
    "    if L is None:\n",
    "        L = []\n",
    "    L.append(a)\n",
    "    return L\n",
    "\n",
    "func(10, list_), func(20, L=list_), func(a=30), # func([], a=40)"
   ]
  },
  {
   "cell_type": "code",
   "execution_count": null,
   "id": "163e7ca6",
   "metadata": {},
   "outputs": [],
   "source": [
    "# 8. lambda : 작은 익명 함수를 의미합니다.\n",
    "#          함수가 실행할 문장이 한 문장일 경우에 만들어 사용할 수 있습니다.\n",
    "#          다른 함수의 인수 또는 리턴값에 사용할 수 있습니다."
   ]
  },
  {
   "cell_type": "code",
   "execution_count": null,
   "id": "4d8e45ea",
   "metadata": {},
   "outputs": [],
   "source": []
  },
  {
   "cell_type": "code",
   "execution_count": null,
   "id": "68154c3b",
   "metadata": {},
   "outputs": [],
   "source": []
  }
 ],
 "metadata": {
  "kernelspec": {
   "display_name": "Python 3 (ipykernel)",
   "language": "python",
   "name": "python3"
  },
  "language_info": {
   "codemirror_mode": {
    "name": "ipython",
    "version": 3
   },
   "file_extension": ".py",
   "mimetype": "text/x-python",
   "name": "python",
   "nbconvert_exporter": "python",
   "pygments_lexer": "ipython3",
   "version": "3.10.9"
  },
  "toc": {
   "base_numbering": 1,
   "nav_menu": {},
   "number_sections": false,
   "sideBar": true,
   "skip_h1_title": false,
   "title_cell": "Table of Contents",
   "title_sidebar": "Contents",
   "toc_cell": false,
   "toc_position": {
    "height": "calc(100% - 180px)",
    "left": "10px",
    "top": "150px",
    "width": "165px"
   },
   "toc_section_display": true,
   "toc_window_display": true
  }
 },
 "nbformat": 4,
 "nbformat_minor": 5
}
