{
 "cells": [
  {
   "cell_type": "code",
   "execution_count": 1,
   "id": "614a38e0",
   "metadata": {},
   "outputs": [
    {
     "data": {
      "text/html": [
       "\n",
       "<style>\n",
       "div.container{width:86% !important;}\n",
       "div.cell.code_cell.rendered{width:100%;}\n",
       "div.CodeMirror {font-family:Consolas; font-size:15pt;}\n",
       "div.output {font-size:15pt; font-weight:bold;}\n",
       "div.input {font-family:Consolas; font-size:15pt;}\n",
       "div.prompt {min-width:70px;}\n",
       "div#toc-wrapper{padding-top:120px;}\n",
       "div.text_cell_render ul li{font-size:12pt;padding:5px;}\n",
       "table.dataframe{font-size:15px;}\n",
       "</style>\n"
      ],
      "text/plain": [
       "<IPython.core.display.HTML object>"
      ]
     },
     "metadata": {},
     "output_type": "display_data"
    }
   ],
   "source": [
    "from IPython.display import display, HTML \n",
    "display(HTML(\"\"\"\n",
    "<style>\n",
    "div.container{width:86% !important;}\n",
    "div.cell.code_cell.rendered{width:100%;}\n",
    "div.CodeMirror {font-family:Consolas; font-size:15pt;}\n",
    "div.output {font-size:15pt; font-weight:bold;}\n",
    "div.input {font-family:Consolas; font-size:15pt;}\n",
    "div.prompt {min-width:70px;}\n",
    "div#toc-wrapper{padding-top:120px;}\n",
    "div.text_cell_render ul li{font-size:12pt;padding:5px;}\n",
    "table.dataframe{font-size:15px;}\n",
    "</style>\n",
    "\"\"\"))"
   ]
  },
  {
   "cell_type": "markdown",
   "id": "edab11ac",
   "metadata": {},
   "source": [
    "<b><font size=\"5\" color=\"red\">ch07. 객체 지향 프로그래밍 </font></b>"
   ]
  },
  {
   "cell_type": "code",
   "execution_count": 23,
   "id": "92f9f0f1",
   "metadata": {},
   "outputs": [
    {
     "name": "stdout",
     "output_type": "stream",
     "text": [
      "홍길동 남자 MBC\n",
      "홍낄쑥 None MBC\n",
      "{'name': '홍낄쑥', 'sender': '여자', 'accademy': 'MBC'}\n"
     ]
    }
   ],
   "source": [
    "person1 = {'name':'홍길동', 'gender':'남자', 'accademy':'MBC'}\n",
    "person2 = {'name':'홍길숙', 'sender':'여자', 'accademy':'MBC'}\n",
    "print(person1['name'], person1['gender'], person1['accademy'])\n",
    "person2['name'] = '홍낄쑥'\n",
    "print(person2['name'], person2.get('gender'), person2['accademy'])\n",
    "print(person2)"
   ]
  },
  {
   "cell_type": "code",
   "execution_count": 33,
   "id": "4f57dbe1",
   "metadata": {},
   "outputs": [],
   "source": [
    "class Person:        # 클래스명은 대문자로 시작을 강력 추천\n",
    "    accademy = 'MBC' # 클래스 변수\n",
    "    def __init__(self, name, gender): # 생성자함수\n",
    "        self.name = name # 객체 안의 변수(인스턴스 변수)\n",
    "        self.gender = gender\n",
    "    def print_info(self):\n",
    "        print('{}는 {}입니다 {}를 다닙니다'.format(self.name, \n",
    "                                                self.gender, \n",
    "                                                self.accademy))\n",
    "    def __str__(self):\n",
    "        return '{}는 {}입니다 {}를 다닙니다'.format(self.name, \n",
    "                                                self.gender, \n",
    "                                                self.accademy)"
   ]
  },
  {
   "cell_type": "code",
   "execution_count": 34,
   "id": "48d022c4",
   "metadata": {},
   "outputs": [
    {
     "name": "stdout",
     "output_type": "stream",
     "text": [
      "홍길동는 남자입니다 MBC를 다닙니다\n",
      "홍길숙는 남자입니다 MBC를 다닙니다\n",
      "마길동는 남자입니다 CBC를 다닙니다\n",
      "홍길숙는 남자입니다 MBC를 다닙니다\n"
     ]
    }
   ],
   "source": [
    "p1 = Person('홍길동', '남자')\n",
    "p2 = Person('홍길숙', '남자')\n",
    "p1.print_info()\n",
    "p2.print_info()\n",
    "p1.name = '마길동'\n",
    "p1.accademy = 'CBC'\n",
    "print(p1)\n",
    "print(p2)"
   ]
  },
  {
   "cell_type": "markdown",
   "id": "7adb5ea9",
   "metadata": {},
   "source": [
    "# 1절. 객체와 클래스\n",
    "\n",
    "class 클래스명(상속받을 클래스명):\n",
    "    변수나 함수들 선언"
   ]
  },
  {
   "cell_type": "code",
   "execution_count": 38,
   "id": "e97163ed",
   "metadata": {},
   "outputs": [
    {
     "name": "stdout",
     "output_type": "stream",
     "text": [
      "<__main__.Person object at 0x0000029E85FC4280>\n",
      "<class '__main__.Person'>\n"
     ]
    }
   ],
   "source": [
    "class Person:\n",
    "    '''\n",
    "    Person 클래스는 어쩌구 저쩌구 설명하는 독스트링\n",
    "    생성자 함수가 없을 경우, 디폴트 생성자 함수가 자동 생성\n",
    "    '''\n",
    "    pass\n",
    "p1 = Person()\n",
    "print(p1.__str__())\n",
    "print(type(p1))"
   ]
  },
  {
   "cell_type": "code",
   "execution_count": 36,
   "id": "a8df6674",
   "metadata": {},
   "outputs": [
    {
     "data": {
      "text/plain": [
       "True"
      ]
     },
     "execution_count": 36,
     "metadata": {},
     "output_type": "execute_result"
    }
   ],
   "source": [
    "isinstance(p1, Person)"
   ]
  },
  {
   "cell_type": "code",
   "execution_count": 39,
   "id": "8c0feebf",
   "metadata": {},
   "outputs": [
    {
     "data": {
      "text/plain": [
       "'\\n    Person 클래스는 어쩌구 저쩌구 설명하는 독스트링\\n    생성자 함수가 없을 경우, 디폴트 생성자 함수가 자동 생성\\n    '"
      ]
     },
     "execution_count": 39,
     "metadata": {},
     "output_type": "execute_result"
    }
   ],
   "source": [
    "p1.__doc__"
   ]
  },
  {
   "cell_type": "markdown",
   "id": "45c75b50",
   "metadata": {},
   "source": [
    "# 2절. 생성자와 소멸자\n",
    "```\n",
    "생성자 : __init__(self, 매개변수, ..) - 객체가 생성될 때 자동 생성\n",
    "        객체 생성시 필요한 인스턴스 변수 초기화를 포함\n",
    "소멸자 : __del__(self) - 객체가 소멸될 때 자동 실행\n",
    "        인스턴스 객체의 레퍼런스 카운트가 0이 될 때 실행\n",
    "```"
   ]
  },
  {
   "cell_type": "code",
   "execution_count": 9,
   "id": "d01fa89d",
   "metadata": {},
   "outputs": [],
   "source": [
    "class Person:\n",
    "    accademy = 'MBC'\n",
    "#     def __init__(self, name, gender): # 파이썬은 오버로딩(함수 중복 정의) 지원 안 됨\n",
    "#         self.name = name  # 인스턴스 변수\n",
    "#         self.gender = gender\n",
    "    def __init__(self, name, gender='남자'): \n",
    "        self.name = name  # 인스턴스 변수\n",
    "        self.gender = gender\n",
    "        print('Person 객체를 생성합니다', name)\n",
    "    def __del__(self):\n",
    "        print('Person 객체 소멸시킵니다', self.name)\n",
    "    def print_info(self):\n",
    "        print('{}는 {}입니다'.format(self.name, self.gender))\n",
    "    def __str__(self): # 오버라이딩(함수 재정의)\n",
    "        return f'{self.name}는 {self.gender}입니다'"
   ]
  },
  {
   "cell_type": "code",
   "execution_count": 10,
   "id": "d22b326f",
   "metadata": {},
   "outputs": [
    {
     "name": "stdout",
     "output_type": "stream",
     "text": [
      "Person 객체를 생성합니다 신사임당\n"
     ]
    }
   ],
   "source": [
    "p1 = Person('신사임당', '여자')"
   ]
  },
  {
   "cell_type": "code",
   "execution_count": 11,
   "id": "8de19cde",
   "metadata": {},
   "outputs": [
    {
     "name": "stdout",
     "output_type": "stream",
     "text": [
      "Person 객체를 생성합니다 홍길동\n",
      "홍길동는 남자입니다\n"
     ]
    }
   ],
   "source": [
    "p2 = Person('홍길동')\n",
    "print(p2)"
   ]
  },
  {
   "cell_type": "code",
   "execution_count": 12,
   "id": "a9aca4f5",
   "metadata": {},
   "outputs": [],
   "source": [
    "p3 = p2"
   ]
  },
  {
   "cell_type": "code",
   "execution_count": 13,
   "id": "825730d4",
   "metadata": {},
   "outputs": [
    {
     "name": "stdout",
     "output_type": "stream",
     "text": [
      "Person 객체 소멸시킵니다 신사임당\n"
     ]
    }
   ],
   "source": [
    "del p1"
   ]
  },
  {
   "cell_type": "code",
   "execution_count": 14,
   "id": "de09ef93",
   "metadata": {},
   "outputs": [],
   "source": [
    "del p2 # 레퍼런스 소멸자가 1이 됨"
   ]
  },
  {
   "cell_type": "code",
   "execution_count": 15,
   "id": "837e6d2e",
   "metadata": {},
   "outputs": [
    {
     "name": "stdout",
     "output_type": "stream",
     "text": [
      "Person 객체 소멸시킵니다 홍길동\n"
     ]
    }
   ],
   "source": [
    "del p3 # 레퍼런스 소멸자가 0이 됨"
   ]
  },
  {
   "cell_type": "markdown",
   "id": "d7b34e8f",
   "metadata": {},
   "source": [
    "# 3절. 변수와 메소드(함수)\n",
    "- 인스턴스 변수 vs 클래스 변수\n",
    "- 인스턴스 메소드(self) vs 클래스 메소드(clz) vs static 메소드()"
   ]
  },
  {
   "cell_type": "code",
   "execution_count": 17,
   "id": "cbac0124",
   "metadata": {},
   "outputs": [
    {
     "name": "stdout",
     "output_type": "stream",
     "text": [
      "홍길동 남자\n"
     ]
    }
   ],
   "source": [
    "class Person:\n",
    "    name = '홍길동' # 클래스 변수\n",
    "    gender = '남자'\n",
    "    \n",
    "print(Person.name, Person.gender)"
   ]
  },
  {
   "cell_type": "code",
   "execution_count": 18,
   "id": "e72bd31b",
   "metadata": {},
   "outputs": [
    {
     "name": "stdout",
     "output_type": "stream",
     "text": [
      "홍길동 남자\n",
      "홍길동 남자\n",
      "홍길동 남자\n"
     ]
    }
   ],
   "source": [
    "p1 = Person()\n",
    "p2 = Person()\n",
    "print(Person.name, Person.gender)\n",
    "print(p1.name, p1.gender)\n",
    "print(p2.name, p2.gender)"
   ]
  },
  {
   "cell_type": "code",
   "execution_count": 19,
   "id": "c77c2d73",
   "metadata": {},
   "outputs": [
    {
     "name": "stdout",
     "output_type": "stream",
     "text": [
      "홍길동 남자\n",
      "홍길동 남자\n",
      "이순신 남자\n"
     ]
    }
   ],
   "source": [
    "p2.name = '이순신'\n",
    "print(Person.name, Person.gender)\n",
    "print(p1.name, p1.gender)\n",
    "print(p2.name, p2.gender)"
   ]
  },
  {
   "cell_type": "code",
   "execution_count": 20,
   "id": "397b58ea",
   "metadata": {},
   "outputs": [
    {
     "name": "stdout",
     "output_type": "stream",
     "text": [
      "리사 여자\n",
      "리사 여자\n",
      "이순신 여자\n"
     ]
    }
   ],
   "source": [
    "Person.name = '리사'\n",
    "Person.gender = '여자'\n",
    "print(Person.name, Person.gender)\n",
    "print(p1.name, p1.gender)\n",
    "print(p2.name, p2.gender)"
   ]
  },
  {
   "cell_type": "markdown",
   "id": "2f3a5373",
   "metadata": {},
   "source": [
    "※ 인스턴스 메소드(self) vs 클래스 메소드(clz) vs static 메소드()\n",
    "- 인스턴스 메소드 : 첫번째 인자에 self를 꼭 명시. 객체를 통해서만 호출할 수 있는 메소드\n",
    "- 클래스 메소드 : 메소드 위에 @classmethod를 선언한 메소드. 첫번째 인자에 cls(clz) 꼭 명시\n",
    "- static 메소드 : 메소드 위에 @staticmethod를 선언한 메소드. 인자를 넣지 않음"
   ]
  },
  {
   "cell_type": "code",
   "execution_count": 1,
   "id": "95c01a33",
   "metadata": {},
   "outputs": [],
   "source": [
    "class Person:\n",
    "    name = '홍길동'\n",
    "    gender = '남자'\n",
    "    def print_info(self): # 객체변수명.print_info()로 호출\n",
    "        print(f'인스턴스(일반)메소드 - {self.name}는 {self.gender}입니다')\n",
    "    def change_info(self, name, gender='남자'): # 객체변수.change_info('김', '여자')\n",
    "        self.name = name\n",
    "        self.gender = gender\n",
    "        print(f'인스턴스(일반)메소드 - {self.name} / {self.gender}로 변경 완료')\n",
    "        @classmethod\n",
    "        def do_(clz): # clz==Person. 클래스 변수를 이용한 로직\n",
    "            clz.name = '신사임당'\n",
    "            clz.gender = '여자'\n",
    "            print(f'클래스 메소드 - {clz.name}/{clz.gender} 변경완료')\n",
    "        @staticmethod\n",
    "        def that_(): # 클래스 변수를 이용하기 보다는 로직이 우선일 경우\n",
    "            Person.name = '신길동'\n",
    "            Person.gender = '남자'\n",
    "            print(f'static 메소드 - {Person.name}/{Person.gender} 변경완료')"
   ]
  },
  {
   "cell_type": "code",
   "execution_count": 2,
   "id": "f6238ccc",
   "metadata": {},
   "outputs": [
    {
     "name": "stdout",
     "output_type": "stream",
     "text": [
      "인스턴스(일반)메소드 - 홍길동는 남자입니다\n"
     ]
    }
   ],
   "source": [
    "p1 = Person()\n",
    "p1.print_info()"
   ]
  },
  {
   "cell_type": "code",
   "execution_count": 3,
   "id": "b81710d8",
   "metadata": {},
   "outputs": [
    {
     "ename": "AttributeError",
     "evalue": "type object 'Person' has no attribute 'do_'",
     "output_type": "error",
     "traceback": [
      "\u001b[1;31m---------------------------------------------------------------------------\u001b[0m",
      "\u001b[1;31mAttributeError\u001b[0m                            Traceback (most recent call last)",
      "Cell \u001b[1;32mIn[3], line 1\u001b[0m\n\u001b[1;32m----> 1\u001b[0m \u001b[43mPerson\u001b[49m\u001b[38;5;241;43m.\u001b[39;49m\u001b[43mdo_\u001b[49m()\n",
      "\u001b[1;31mAttributeError\u001b[0m: type object 'Person' has no attribute 'do_'"
     ]
    }
   ],
   "source": [
    "Person.do_()"
   ]
  },
  {
   "cell_type": "code",
   "execution_count": 4,
   "id": "08642ada",
   "metadata": {},
   "outputs": [
    {
     "ename": "AttributeError",
     "evalue": "type object 'Person' has no attribute 'that_'",
     "output_type": "error",
     "traceback": [
      "\u001b[1;31m---------------------------------------------------------------------------\u001b[0m",
      "\u001b[1;31mAttributeError\u001b[0m                            Traceback (most recent call last)",
      "Cell \u001b[1;32mIn[4], line 1\u001b[0m\n\u001b[1;32m----> 1\u001b[0m \u001b[43mPerson\u001b[49m\u001b[38;5;241;43m.\u001b[39;49m\u001b[43mthat_\u001b[49m()\n",
      "\u001b[1;31mAttributeError\u001b[0m: type object 'Person' has no attribute 'that_'"
     ]
    }
   ],
   "source": [
    "Person.that_()"
   ]
  },
  {
   "cell_type": "code",
   "execution_count": 5,
   "id": "d0790f27",
   "metadata": {},
   "outputs": [
    {
     "name": "stdout",
     "output_type": "stream",
     "text": [
      "인스턴스(일반)메소드 - 홍길동는 남자입니다\n"
     ]
    }
   ],
   "source": [
    "p1.print_info()"
   ]
  },
  {
   "cell_type": "markdown",
   "id": "6e25a714",
   "metadata": {},
   "source": [
    "# 4절. 상송과 재정의"
   ]
  },
  {
   "cell_type": "code",
   "execution_count": null,
   "id": "4fec8277",
   "metadata": {},
   "outputs": [],
   "source": []
  }
 ],
 "metadata": {
  "kernelspec": {
   "display_name": "Python 3 (ipykernel)",
   "language": "python",
   "name": "python3"
  },
  "language_info": {
   "codemirror_mode": {
    "name": "ipython",
    "version": 3
   },
   "file_extension": ".py",
   "mimetype": "text/x-python",
   "name": "python",
   "nbconvert_exporter": "python",
   "pygments_lexer": "ipython3",
   "version": "3.10.9"
  },
  "toc": {
   "base_numbering": 1,
   "nav_menu": {},
   "number_sections": false,
   "sideBar": true,
   "skip_h1_title": false,
   "title_cell": "Table of Contents",
   "title_sidebar": "Contents",
   "toc_cell": false,
   "toc_position": {},
   "toc_section_display": true,
   "toc_window_display": false
  }
 },
 "nbformat": 4,
 "nbformat_minor": 5
}
