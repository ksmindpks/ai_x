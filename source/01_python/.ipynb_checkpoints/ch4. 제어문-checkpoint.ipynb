{
 "cells": [
  {
   "cell_type": "code",
   "execution_count": 1,
   "id": "55effaa2",
   "metadata": {},
   "outputs": [
    {
     "data": {
      "text/html": [
       "\n",
       "<style>\n",
       "div.container{width:86% !important;}\n",
       "div.cell.code_cell.rendered{width:100%;}\n",
       "div.CodeMirror {font-family:Consolas; font-size:15pt;}\n",
       "div.output {font-size:15pt; font-weight:bold;}\n",
       "div.input {font-family:Consolas; font-size:15pt;}\n",
       "div.prompt {min-width:70px;}\n",
       "div#toc-wrapper{padding-top:120px;}\n",
       "div.text_cell_render ul li{font-size:12pt;padding:5px;}\n",
       "table.dataframe{font-size:15px;}\n",
       "</style>\n"
      ],
      "text/plain": [
       "<IPython.core.display.HTML object>"
      ]
     },
     "metadata": {},
     "output_type": "display_data"
    }
   ],
   "source": [
    "from IPython.display import display, HTML \n",
    "display(HTML(\"\"\"\n",
    "<style>\n",
    "div.container{width:86% !important;}\n",
    "div.cell.code_cell.rendered{width:100%;}\n",
    "div.CodeMirror {font-family:Consolas; font-size:15pt;}\n",
    "div.output {font-size:15pt; font-weight:bold;}\n",
    "div.input {font-family:Consolas; font-size:15pt;}\n",
    "div.prompt {min-width:70px;}\n",
    "div#toc-wrapper{padding-top:120px;}\n",
    "div.text_cell_render ul li{font-size:12pt;padding:5px;}\n",
    "table.dataframe{font-size:15px;}\n",
    "</style>\n",
    "\"\"\"))"
   ]
  },
  {
   "cell_type": "markdown",
   "id": "0a9e517d",
   "metadata": {},
   "source": [
    "<b><font size=\"5\" color=\"red\">ch04. 제어문 </font></b>\n",
    "- 조건문 : if문\n",
    "- 반복문 : for문, while문, 중첩가능"
   ]
  },
  {
   "cell_type": "markdown",
   "id": "5d223cab",
   "metadata": {},
   "source": [
    "# 1절. 조건문(if)\n",
    "```\n",
    "if 조건1:\n",
    "    조건이 참일 경우 수행할 명령어들\n",
    "elif 조건2:\n",
    "    조건1이 거짓이고, 조건 2가 참일 경우 수행할 명령어들\n",
    "else\n",
    "    모든 조건을 만족하지 않을 때 수행할 명령어들\n",
    "```"
   ]
  },
  {
   "cell_type": "code",
   "execution_count": 10,
   "id": "a597b851",
   "metadata": {},
   "outputs": [
    {
     "name": "stdout",
     "output_type": "stream",
     "text": [
      "점수는 :57\n",
      "재시험 응시하셔야 합니다.\n",
      "화이팅\n"
     ]
    }
   ],
   "source": [
    "score = int(input('점수는 :'))\n",
    "if score >= 90:\n",
    "    print('참 잘했어요')\n",
    "    print('다음에도 기대할게요')\n",
    "elif score >= 60:\n",
    "    print('분발하세요')\n",
    "    print('뭐 그래도 고생하셨어요')\n",
    "else:\n",
    "    print('재시험 응시하셔야 합니다.')\n",
    "print('화이팅') # if문의 영역이 아님"
   ]
  },
  {
   "cell_type": "code",
   "execution_count": 12,
   "id": "5733d0da",
   "metadata": {},
   "outputs": [
    {
     "name": "stdout",
     "output_type": "stream",
     "text": [
      "점수는 :-1\n",
      "입력하신 점수는 -1점이고, 유효하지 않은 점수등급입니다\n"
     ]
    }
   ],
   "source": [
    "# 점수(0~100)를 입력받아 학점을 출력하시오(A,B,C,D,F, 유효하지않은 점수)\n",
    "score = int(input('점수는 :'))\n",
    "if 90 <= score <=100 :  # (score >= 90) & (score <=100)\n",
    "    grade ='A'\n",
    "elif 80 <= score < 90 :  \n",
    "    grade ='B'\n",
    "elif 70 <= score < 80 :  \n",
    "    grade ='C'\n",
    "elif 60 <= score < 70 :  \n",
    "    grade ='D'\n",
    "elif 0 <= score < 60 :  \n",
    "    grade ='F'\n",
    "else: # if문 내에서 변수 정의의 안전을 위해 반드시 사용을 권장 !!!, 내용없이 pass도 가능\n",
    "    grade ='유효하지 않은 점수'\n",
    "print('입력하신 점수는 {}점이고, {}등급입니다'.format(score, grade)) "
   ]
  },
  {
   "cell_type": "markdown",
   "id": "ed2763f0",
   "metadata": {},
   "source": [
    "# 2절. 반복문\n",
    "## 2.1 for-in문\n",
    "```\n",
    "for 임시변수 in 나열가능한자료:\n",
    "    반복할명령어1\n",
    "    반복할명령어2\n",
    "#   if 조건:\n",
    "#        break\n",
    "else:\n",
    "    나열가능한 자료가 다 소요하여 for블럭을 다 수행한 후 최종 한번 수행할 명령어\n",
    "    for문 안에 break를 수행할 경우 else블록은 수행되지 않음\n",
    "```"
   ]
  },
  {
   "cell_type": "code",
   "execution_count": 19,
   "id": "5b69a406",
   "metadata": {},
   "outputs": [
    {
     "name": "stdout",
     "output_type": "stream",
     "text": [
      "안녕하세요 1\t안녕하세요 3\tEND\n"
     ]
    }
   ],
   "source": [
    "for i in range(1,10,2):\n",
    "    if i ==5:\n",
    "        break\n",
    "    print('안녕하세요 {}'.format(i), end='\\t')\n",
    "else:\n",
    "    print('\\nDONE')\n",
    "print('END')"
   ]
  },
  {
   "cell_type": "code",
   "execution_count": 20,
   "id": "a34f81d2",
   "metadata": {},
   "outputs": [
    {
     "name": "stdout",
     "output_type": "stream",
     "text": [
      "1~100 누적합은 5050\n"
     ]
    }
   ],
   "source": [
    "# 1~100까지 누적합을 출력하시오 (for문)\n",
    "tot = 0 # 누적변수\n",
    "for i in range(1,101):\n",
    "    tot += i # tot = tot +1\n",
    "print('1~100 누적합은 {}'.format(tot))"
   ]
  },
  {
   "cell_type": "code",
   "execution_count": 26,
   "id": "5a0a8702",
   "metadata": {},
   "outputs": [
    {
     "name": "stdout",
     "output_type": "stream",
     "text": [
      "1~100 사이 짝수들의 누적합은 2550\n"
     ]
    }
   ],
   "source": [
    "# 1~100까지 짝수들의 누적합을 출력하시오 (for문)\n",
    "tot = 0 # 누적변수\n",
    "for i in range(1,101):\n",
    "    if i%2==0:\n",
    "        tot += i # tot = tot +1\n",
    "print('1~{} 사이 짝수들의 누적합은 {}'.format(i, tot))"
   ]
  },
  {
   "cell_type": "markdown",
   "id": "b250160c",
   "metadata": {},
   "source": [
    "## 2.2 while문\n",
    "```\n",
    "while 조건:\n",
    "    조건이 참일 경우 반복할 문장들\n",
    "else:\n",
    "    조건이 거짓일 경우 한번 실행할 문장 (else 구문 선택사항)\n",
    "```"
   ]
  },
  {
   "cell_type": "code",
   "execution_count": 23,
   "id": "fbb7fa19",
   "metadata": {},
   "outputs": [
    {
     "name": "stdout",
     "output_type": "stream",
     "text": [
      "1~100 누적합은 5050\n"
     ]
    }
   ],
   "source": [
    "# 1~100까지 누적합을 출력하시오 (while문)\n",
    "i, tot = 1, 0 # 인덱스변수, 누적변수 초기화\n",
    "while i<=100:\n",
    "    tot += i\n",
    "    i += 1\n",
    "print('1~100 누적합은 {}'.format(tot))"
   ]
  },
  {
   "cell_type": "code",
   "execution_count": 27,
   "id": "b02970bf",
   "metadata": {},
   "outputs": [
    {
     "name": "stdout",
     "output_type": "stream",
     "text": [
      "1~101 짝수 누적합은 2550\n"
     ]
    }
   ],
   "source": [
    "# 1~100까지 짝수들의 누적합을 출력하시오 (while문)\n",
    "i, tot = 1, 0 # 인덱스변수, 누적변수 초기화\n",
    "while i<=100:\n",
    "    if i%2==0:\n",
    "        tot += i\n",
    "    i += 1\n",
    "print('1~{} 짝수 누적합은 {}'.format(i,tot))"
   ]
  },
  {
   "cell_type": "code",
   "execution_count": 64,
   "id": "ec1f0b32",
   "metadata": {},
   "outputs": [
    {
     "name": "stdout",
     "output_type": "stream",
     "text": [
      "첫번째 정수 :3\n",
      "두번째 정수 :4\n",
      "두수 3,4 사이 홀수 누적합은 3\n",
      "두수 3,4 사이 홀수 누적합은 3\n"
     ]
    }
   ],
   "source": [
    "# ex1. 사용자에게 크기 상관없이 두 정수를 입력받아, 작은 수부터 큰 수까지 홀수의 합을 누적해서 출력\n",
    "int1 = int(input('첫번째 정수 :'))\n",
    "int2 = int(input('두번째 정수 :'))\n",
    "# (1) 두 수 중 작은 수는 min변수에 큰수는 max에 할당\n",
    "int_min = min(int1,int2)\n",
    "int_max = max(int1,int2)\n",
    "# (2) min변수부터 max변수 값까지 홀수합 누적\n",
    "tot = 0\n",
    "for i in range(int_min,int_max+1):\n",
    "        if i%2:\n",
    "            tot += i\n",
    "# (3) 출력\n",
    "print('두수 {},{} 사이 홀수 누적합은 {}'.format(int1,int2,tot))\n",
    "print('두수 {},{} 사이 홀수 누적합은 {}'.format(int_min,int_max,tot))\n",
    "    "
   ]
  },
  {
   "cell_type": "code",
   "execution_count": 66,
   "id": "eafff142",
   "metadata": {},
   "outputs": [
    {
     "name": "stdout",
     "output_type": "stream",
     "text": [
      "첫번째 정수 :10\n",
      "두번째 정수 :2\n",
      "두수 2,10 사이 홀수 누적합은 24\n"
     ]
    }
   ],
   "source": [
    "# ex1t. 사용자에게 크기 상관없이 두 정수를 입력받아, 작은 수부터 큰 수까지 홀수의 합을 누적해서 출력\n",
    "first = int(input('첫번째 정수 :'))\n",
    "second = int(input('두번째 정수 :'))\n",
    "# (1) 두 수 중 작은 수는 first에, 큰숫자를 second에 할당\n",
    "if first > second:\n",
    "    # 바꿔\n",
    "#     temp = first\n",
    "#     first = second\n",
    "#     seond = temp\n",
    "# print(first, second)\n",
    "    first, second = second, first\n",
    "    \n",
    "# (2) min변수부터 max변수 값까지 홀수합 누적\n",
    "tot = 0\n",
    "for i in range(first,second+1):\n",
    "        if i%2:\n",
    "            tot += i\n",
    "# (3) 출력\n",
    "print('두수 {},{} 사이 홀수 누적합은 {}'.format(first,second,tot))"
   ]
  },
  {
   "cell_type": "code",
   "execution_count": 72,
   "id": "19d24f3c",
   "metadata": {},
   "outputs": [
    {
     "name": "stdout",
     "output_type": "stream",
     "text": [
      "[17, 23, 24, 25, 44, 45]\n"
     ]
    }
   ],
   "source": [
    "# ex2. 1~45사이 까지의 로또번호 6개를 추출하여 출력(오름차순 정렬 결과를 출력) - 세을 이용\n",
    "# 난수 발생\n",
    "import random\n",
    "# random.random() # 0<=실수난수<1\n",
    "# random.randint(a,b) : a~b의 정수 난수\n",
    "# int(random.random()*b)+a # a<정수난수<b, 비추!\n",
    "# 실행할 때마다 난수의 순서를 일치시키려면 random.seed(특정수)\n",
    "\n",
    "lotto = set()\n",
    "\n",
    "while len(lotto)<6:\n",
    "    lotto.add(random.randint(1,45))\n",
    "print(sorted(lotto))\n"
   ]
  },
  {
   "cell_type": "code",
   "execution_count": 73,
   "id": "8158ba8c",
   "metadata": {},
   "outputs": [
    {
     "data": {
      "text/plain": [
       "[8, 16, 17, 20, 22, 24]"
      ]
     },
     "execution_count": 73,
     "metadata": {},
     "output_type": "execute_result"
    }
   ],
   "source": [
    "sorted(random.sample(range(1,45),6))"
   ]
  },
  {
   "cell_type": "code",
   "execution_count": 71,
   "id": "53008ef8",
   "metadata": {},
   "outputs": [
    {
     "name": "stdout",
     "output_type": "stream",
     "text": [
      "0번째까지 정렬 내용 : [2] / [2, 35, 42, 6, 13, 43]\n",
      "1번째까지 정렬 내용 : [2, 6] / [2, 6, 42, 35, 13, 43]\n",
      "2번째까지 정렬 내용 : [2, 6, 13] / [2, 6, 13, 42, 35, 43]\n",
      "3번째까지 정렬 내용 : [2, 6, 13, 35] / [2, 6, 13, 35, 42, 43]\n",
      "4번째까지 정렬 내용 : [2, 6, 13, 35, 42] / [2, 6, 13, 35, 42, 43]\n",
      "난수 6번 뽑아서 로또는 [2, 6, 13, 35, 42, 43]\n"
     ]
    }
   ],
   "source": [
    "# ex2t. 1~45사이 까지의 로또번호 6개를 추출하여 출력(오름차순 정렬 결과를 출력) - 리스트를 이용\n",
    "# 난수 발생\n",
    "import random\n",
    "# random.random() # 0<=실수난수<1\n",
    "# random.randint(a,b) : a~b의 정수 난수\n",
    "# int(random.random()*b)+a # a<정수난수<b, 비추!\n",
    "# 실행할 때마다 난수의 순서를 일치시키려면 random.seed(특정수)\n",
    "\n",
    "lotto = []\n",
    "cnt = 0\n",
    "\n",
    "while len(lotto)<6:\n",
    "    cnt +=1\n",
    "    temp = random.randint(1,45)\n",
    "    if temp not in lotto:\n",
    "         lotto.append(temp)\n",
    "# 정렬하기\n",
    "for i in range(0, len(lotto)-1):\n",
    "    for j in range(i, len(lotto)):\n",
    "        if lotto[i] > lotto[j]:\n",
    "            lotto[i], lotto[j] = lotto[j], lotto[i]\n",
    "    print(f'{i}번째까지 정렬 내용 : {lotto[:i+1]} / {lotto}')\n",
    "        \n",
    "print('난수 {}번 뽑아서 로또는 {}'.format(cnt, sorted(lotto)))\n",
    "\n"
   ]
  },
  {
   "cell_type": "markdown",
   "id": "bf1a94e0",
   "metadata": {},
   "source": [
    "## 2.3 break, continue"
   ]
  },
  {
   "cell_type": "code",
   "execution_count": 76,
   "id": "ca303265",
   "metadata": {},
   "outputs": [
    {
     "name": "stdout",
     "output_type": "stream",
     "text": [
      "1\t2\t3\t4\t6\t7\t8\t9\t10\tDONE\n"
     ]
    }
   ],
   "source": [
    "num = 0\n",
    "while num<10:\n",
    "    num += 1\n",
    "    if num == 5:\n",
    "        # break # 반복문의 탈출\n",
    "        continue # while 블록 수행을 중단하고 조건으로 감\n",
    "    print(num, end='\\t')\n",
    "print('DONE')"
   ]
  },
  {
   "cell_type": "code",
   "execution_count": 2,
   "id": "7055a417",
   "metadata": {},
   "outputs": [
    {
     "name": "stdout",
     "output_type": "stream",
     "text": [
      "컴퓨터가 발생한 임의 수 : 50\n",
      "1~100사이의 수를 맞춰 보세요101\n",
      "수의 범위를 벗어났습니다\n",
      "1~100사이의 수를 맞춰 보세요50\n",
      "축하 축하 맞추셨습니다\n",
      "끝\n"
     ]
    }
   ],
   "source": [
    "'''\n",
    "10. 1~100 사이의 정수를 맞추는 프로그램을 구현하시오\n",
    "(프로그램안에 임의의 숫자가 만들어지고 그 숫자를 맞추도록 합니다)\n",
    "1단계 . 입력된 숫자가 틀리면 UP/DOWN 메시지를 출력하고 \n",
    "    숫자를 맞추면 축하메세지와 함꼐 종료합니다(맞출 때까지 반복)\n",
    "'''\n",
    "import random\n",
    "# (1) 1~100사이의 난수를 발생\n",
    "randomNum = random.randint(1,100)\n",
    "print('컴퓨터가 발생한 임의 수 :', randomNum)\n",
    "# 수를 입력받아 틀리면 Up/Down메시지를 출력, 맞추면 축하축하 메세지와 break하는 반복문\n",
    "\n",
    "while True:\n",
    "    inputNum = int(input('1~100사이의 수를 맞춰 보세요'))\n",
    "    if (inputNum<1) | (inputNum>100):\n",
    "        print('수의 범위를 벗어났습니다')\n",
    "    elif randomNum < inputNum:\n",
    "        print('DOWN↓')\n",
    "    elif randomNum > inputNum:\n",
    "        print('UP↑')\n",
    "    else:\n",
    "        print('축하 축하 맞추셨습니다')\n",
    "        break\n",
    "print('끝')"
   ]
  },
  {
   "cell_type": "markdown",
   "id": "7f75589f",
   "metadata": {},
   "source": [
    "# 3절. 중첩루프\n",
    "- (반복문 안의 반복문)"
   ]
  },
  {
   "cell_type": "code",
   "execution_count": 19,
   "id": "fb36aa48",
   "metadata": {},
   "outputs": [
    {
     "name": "stdout",
     "output_type": "stream",
     "text": [
      " 2x 1= 2 3x 1= 3 4x 1= 4 5x 1= 5 6x 1= 6 7x 1= 7 8x 1= 8 9x 1= 9 ax 1= a bx 1= b cx 1= c dx 1= d ex 1= e fx 1= f10x 1=10\n",
      " 2x 2= 4 3x 2= 6 4x 2= 8 5x 2= a 6x 2= c 7x 2= e 8x 2=10 9x 2=12 ax 2=14 bx 2=16 cx 2=18 dx 2=1a ex 2=1c fx 2=1e10x 2=20\n",
      " 2x 3= 6 3x 3= 9 4x 3= c 5x 3= f 6x 3=12 7x 3=15 8x 3=18 9x 3=1b ax 3=1e bx 3=21 cx 3=24 dx 3=27 ex 3=2a fx 3=2d10x 3=30\n",
      " 2x 4= 8 3x 4= c 4x 4=10 5x 4=14 6x 4=18 7x 4=1c 8x 4=20 9x 4=24 ax 4=28 bx 4=2c cx 4=30 dx 4=34 ex 4=38 fx 4=3c10x 4=40\n",
      " 2x 5= a 3x 5= f 4x 5=14 5x 5=19 6x 5=1e 7x 5=23 8x 5=28 9x 5=2d ax 5=32 bx 5=37 cx 5=3c dx 5=41 ex 5=46 fx 5=4b10x 5=50\n",
      " 2x 6= c 3x 6=12 4x 6=18 5x 6=1e 6x 6=24 7x 6=2a 8x 6=30 9x 6=36 ax 6=3c bx 6=42 cx 6=48 dx 6=4e ex 6=54 fx 6=5a10x 6=60\n",
      " 2x 7= e 3x 7=15 4x 7=1c 5x 7=23 6x 7=2a 7x 7=31 8x 7=38 9x 7=3f ax 7=46 bx 7=4d cx 7=54 dx 7=5b ex 7=62 fx 7=6910x 7=70\n",
      " 2x 8=10 3x 8=18 4x 8=20 5x 8=28 6x 8=30 7x 8=38 8x 8=40 9x 8=48 ax 8=50 bx 8=58 cx 8=60 dx 8=68 ex 8=70 fx 8=7810x 8=80\n",
      " 2x 9=12 3x 9=1b 4x 9=24 5x 9=2d 6x 9=36 7x 9=3f 8x 9=48 9x 9=51 ax 9=5a bx 9=63 cx 9=6c dx 9=75 ex 9=7e fx 9=8710x 9=90\n",
      " 2x a=14 3x a=1e 4x a=28 5x a=32 6x a=3c 7x a=46 8x a=50 9x a=5a ax a=64 bx a=6e cx a=78 dx a=82 ex a=8c fx a=9610x a=a0\n",
      " 2x b=16 3x b=21 4x b=2c 5x b=37 6x b=42 7x b=4d 8x b=58 9x b=63 ax b=6e bx b=79 cx b=84 dx b=8f ex b=9a fx b=a510x b=b0\n",
      " 2x c=18 3x c=24 4x c=30 5x c=3c 6x c=48 7x c=54 8x c=60 9x c=6c ax c=78 bx c=84 cx c=90 dx c=9c ex c=a8 fx c=b410x c=c0\n",
      " 2x d=1a 3x d=27 4x d=34 5x d=41 6x d=4e 7x d=5b 8x d=68 9x d=75 ax d=82 bx d=8f cx d=9c dx d=a9 ex d=b6 fx d=c310x d=d0\n",
      " 2x e=1c 3x e=2a 4x e=38 5x e=46 6x e=54 7x e=62 8x e=70 9x e=7e ax e=8c bx e=9a cx e=a8 dx e=b6 ex e=c4 fx e=d210x e=e0\n",
      " 2x f=1e 3x f=2d 4x f=3c 5x f=4b 6x f=5a 7x f=69 8x f=78 9x f=87 ax f=96 bx f=a5 cx f=b4 dx f=c3 ex f=d2 fx f=e110x f=f0\n",
      " 2x10=20 3x10=30 4x10=40 5x10=50 6x10=60 7x10=70 8x10=80 9x10=90 ax10=a0 bx10=b0 cx10=c0 dx10=d0 ex10=e0 fx10=f010x10=100\n"
     ]
    }
   ],
   "source": [
    "# 구구(XX)단 출력\n",
    "\n",
    "for i in range(1, 17):\n",
    "    for j in range(2,17):\n",
    "        print(f'{j:2x}x{i:2x}={i*j:>2x}', end='')\n",
    "    print() #개행"
   ]
  },
  {
   "cell_type": "markdown",
   "id": "0e75e99c",
   "metadata": {},
   "source": [
    "# 4절. 중첨루프 탈출"
   ]
  },
  {
   "cell_type": "code",
   "execution_count": 22,
   "id": "4400463a",
   "metadata": {},
   "outputs": [
    {
     "name": "stdout",
     "output_type": "stream",
     "text": [
      "0 1\n",
      "0 2\n",
      "DONE\n"
     ]
    }
   ],
   "source": [
    "# 중첩 루프 탈출 방법1 : 플레그 변수 이용\n",
    "flag = False\n",
    "for a in range(0,3):     # a=0,1,2\n",
    "    for b in range(1,3): # b=1,2\n",
    "        if a==b:\n",
    "            flag = True\n",
    "            break        # 반복문을 아예 빠져 나오기\n",
    "        print(a,b)\n",
    "    # break시 빠져나오는 부분\n",
    "    if flag:\n",
    "        break\n",
    "print('DONE')"
   ]
  },
  {
   "cell_type": "code",
   "execution_count": 5,
   "id": "2061252b",
   "metadata": {},
   "outputs": [
    {
     "name": "stdout",
     "output_type": "stream",
     "text": [
      "0 1\n",
      "0 2\n",
      " <class '__main__.BreakOutError'>\n",
      "DONE\n"
     ]
    }
   ],
   "source": [
    "# 중첩 루프 탈출 방법 2 : 예외 발생 => 예외처리\n",
    "class BreakOutError(Exception):\n",
    "    pass\n",
    "try:\n",
    "    for a in range(0,3): # a=0, 1, 2\n",
    "        for b in range(1,3): # a=1, 2\n",
    "            if a==b:\n",
    "                raise BreakOutError()\n",
    "            print(a,b)\n",
    "except BreakOutError:\n",
    "    print(BreakOutError(), BreakOutError)\n",
    "    print('DONE')\n",
    "\n",
    "# 예외처리 진도후 작성"
   ]
  },
  {
   "cell_type": "markdown",
   "id": "dd3ab319",
   "metadata": {},
   "source": [
    "# 5절. 연습문제"
   ]
  },
  {
   "cell_type": "code",
   "execution_count": 26,
   "id": "03b285d0",
   "metadata": {},
   "outputs": [
    {
     "name": "stdout",
     "output_type": "stream",
     "text": [
      "양의정수를 입력 >-3\n",
      "양의정수를 입력 >0\n",
      "양의정수를 입력 >5\n",
      "입력하신 숫자5는 홀수입니다.\n",
      "\n"
     ]
    }
   ],
   "source": [
    "# 1. 양의 정수를 입력 받아 홀수인지 짝수인지를 판별하는 프로그램을 작성\n",
    "#    하세요 . 양의 정수가 아니면 숫자를 다시 입력 받아야 합니다\n",
    "flag = 1\n",
    "while flag:\n",
    "    num_i = int(input('양의정수를 입력 >'))\n",
    "    if num_i<=0:\n",
    "        flag = 1\n",
    "    else:\n",
    "        flag = 0\n",
    "    \n",
    "if num_i%2:\n",
    "    print('입력하신 숫자{}는 홀수입니다.'.format(num_i))\n",
    "else:\n",
    "    print('입력하신 숫자{}는 짝수입니다.'.format(num_i))\n",
    "print()"
   ]
  },
  {
   "cell_type": "code",
   "execution_count": 64,
   "id": "135037db",
   "metadata": {},
   "outputs": [
    {
     "name": "stdout",
     "output_type": "stream",
     "text": [
      "양의정수를 입력 >-9\n",
      "양의정수를 입력 >38\n",
      "입력하신 양의 정수는 38이고 짝수입니다.\n"
     ]
    }
   ],
   "source": [
    "num = 0\n",
    "while num<=0:\n",
    "    num = int(input('양의정수를 입력 >'))\n",
    "even_odd = '홀수' if num%2 else '짝수'\n",
    "print('입력하신 양의 정수는 {}이고 {}입니다.'.format(num, even_odd))"
   ]
  },
  {
   "cell_type": "code",
   "execution_count": 68,
   "id": "5d2975dd",
   "metadata": {},
   "outputs": [
    {
     "name": "stdout",
     "output_type": "stream",
     "text": [
      "*****\n",
      "*****\n",
      "*****\n",
      "*****\n",
      "*****\n"
     ]
    }
   ],
   "source": [
    "# 2. 중첩 for 문을 이용하여 아래 패턴의 별을 출력하는 프로그램을 작성하세요\n",
    "# (1)\n",
    "for i in range(5):\n",
    "    for j in range(5):\n",
    "        print('*', end='')\n",
    "    print()\n",
    "    "
   ]
  },
  {
   "cell_type": "code",
   "execution_count": 70,
   "id": "91ae1537",
   "metadata": {},
   "outputs": [
    {
     "name": "stdout",
     "output_type": "stream",
     "text": [
      "*\n",
      "**\n",
      "***\n",
      "****\n",
      "*****\n"
     ]
    }
   ],
   "source": [
    "# (2)\n",
    "for i in range(5):\n",
    "    for j in range(i+1):\n",
    "        print('*', end='')\n",
    "    print()"
   ]
  },
  {
   "cell_type": "code",
   "execution_count": 71,
   "id": "43405f9b",
   "metadata": {},
   "outputs": [
    {
     "name": "stdout",
     "output_type": "stream",
     "text": [
      "165\n"
     ]
    }
   ],
   "source": [
    "# 3. 다음 코드는 1 부터 30 까지 (30 포함 ) 자연수 중에서 3 의 배수의 총 합을\n",
    "#    출력하는 프로그램입니다 . 빈칸의 코드를 완성하시오\n",
    "tot = 0\n",
    "for i in range(1,31):\n",
    "    if i%3 == 0:\n",
    "        tot += i\n",
    "    else:\n",
    "        pass\n",
    "print(tot)"
   ]
  },
  {
   "cell_type": "code",
   "execution_count": 35,
   "id": "e22d43b3",
   "metadata": {},
   "outputs": [
    {
     "name": "stdout",
     "output_type": "stream",
     "text": [
      "1 3 5 7 9 "
     ]
    }
   ],
   "source": [
    "# 4. 다음 코드의 실행결과가 “1 3 5 7 가 되도록 빈칸을 완성하시오\n",
    "num = 0\n",
    "while num <= 10:\n",
    "    if num%2 == 1:\n",
    "        print(num, end=' ')\n",
    "    num += 1"
   ]
  },
  {
   "cell_type": "code",
   "execution_count": 49,
   "id": "c880a8e4",
   "metadata": {},
   "outputs": [
    {
     "name": "stdout",
     "output_type": "stream",
     "text": [
      "1 2 3 \n",
      "4 5 6 7 \n",
      "8 9 \n"
     ]
    }
   ],
   "source": [
    "# 5. 다음 2 차원 리스트의 모든 값을 출력하는 코드입니다 . 빈칸을 완성하시오\n",
    "list2d = [[1,2,3],[4,5,6,7],[8,9]]\n",
    "for row in list2d:\n",
    "    for data in row:\n",
    "        print(data, end=' ')\n",
    "    print()"
   ]
  },
  {
   "cell_type": "code",
   "execution_count": 45,
   "id": "84cbe741",
   "metadata": {},
   "outputs": [
    {
     "name": "stdout",
     "output_type": "stream",
     "text": [
      "0 apple \n",
      "1 banana\n"
     ]
    }
   ],
   "source": [
    "# 6. 다음 빈칸에 들어갈 함수 이름은?\n",
    "colors = {\"red\":'apple ', \"yellow\":'banana'}\n",
    "for i , v in enumerate(colors.values()):\n",
    "    print(i ,v)"
   ]
  },
  {
   "cell_type": "code",
   "execution_count": 50,
   "id": "150ad409",
   "metadata": {},
   "outputs": [
    {
     "name": "stdout",
     "output_type": "stream",
     "text": [
      "1 0\n"
     ]
    }
   ],
   "source": [
    "# 7. 다음 코드의 실행결과는? 1 0 ???\n",
    "for i in range(0, 2):\n",
    "    for j in range(0,2):\n",
    "        if i == j:\n",
    "            break\n",
    "        print(i, j)"
   ]
  },
  {
   "cell_type": "code",
   "execution_count": 52,
   "id": "e688da24",
   "metadata": {},
   "outputs": [
    {
     "name": "stdout",
     "output_type": "stream",
     "text": [
      "0 0\n",
      "1 0\n",
      "1 1\n"
     ]
    }
   ],
   "source": [
    "# 8. 다음 코드의 실행 결과로 출력될 수 없는 것은?  0 1\n",
    "for i in range(0,2):\n",
    "    for j in range(0,2):\n",
    "        print(i,j)\n",
    "        if i==j:\n",
    "            break"
   ]
  },
  {
   "cell_type": "code",
   "execution_count": 53,
   "id": "fe17c412",
   "metadata": {},
   "outputs": [
    {
     "name": "stdout",
     "output_type": "stream",
     "text": [
      "3 5 7 9 "
     ]
    }
   ],
   "source": [
    "# 9. 다음 코드의 실행결과는? 짝수 인덱스번째 숫자 3 5 7 9\n",
    "L = [3, 4, 5, 6, 7, 8, 9, 10]\n",
    "for i, data in enumerate(L):\n",
    "    if (i%2 == 0):\n",
    "        print(data, end=' ')"
   ]
  },
  {
   "cell_type": "code",
   "execution_count": 72,
   "id": "b6d7a048",
   "metadata": {},
   "outputs": [
    {
     "data": {
      "text/plain": [
       "[3, 5, 7, 9]"
      ]
     },
     "execution_count": 72,
     "metadata": {},
     "output_type": "execute_result"
    }
   ],
   "source": [
    "L = [3, 4, 5, 6, 7, 8, 9, 10]\n",
    "L[::2]"
   ]
  },
  {
   "cell_type": "code",
   "execution_count": null,
   "id": "af91e073",
   "metadata": {},
   "outputs": [],
   "source": [
    "'''\n",
    "10. 1~100 사이의 정수를 맞추는 프로그램을 구현하시오\n",
    "(프로그램안에 임의의 숫자가 만들어지고 그 숫자를 맞추도록 합니다)\n",
    "1단계 . 입력된 숫자가 틀리면 UP/DOWN 메시지를 출력하고 \n",
    "    숫자를 맞추면 축하메세지와 함꼐 종료합니다(맞출 때까지 반복)\n",
    "'''\n",
    "import random\n",
    "# (1) 1~100사이의 난수를 발생\n",
    "randomNum = random.randint(1,100)\n",
    "print('컴퓨터가 발생한 임의 수 :', randomNum)\n",
    "# 수를 입력받아 틀리면 Up/Down메시지를 출력, 맞추면 축하축하 메세지와 break하는 반복문\n",
    "\n",
    "while True:\n",
    "    inputNum = int(input('1~100사이의 수를 맞춰 보세요'))\n",
    "    if (inputNum<1) | (inputNum>100):\n",
    "        print('수의 범위를 벗어났습니다')\n",
    "    elif randomNum < inputNum:\n",
    "        print('DOWN↓')\n",
    "    elif randomNum > inputNum:\n",
    "        print('UP↑')\n",
    "    else:\n",
    "        print('축하 축하 맞추셨습니다')\n",
    "        break\n",
    "print('끝')"
   ]
  },
  {
   "cell_type": "code",
   "execution_count": 56,
   "id": "26c52a38",
   "metadata": {},
   "outputs": [
    {
     "name": "stdout",
     "output_type": "stream",
     "text": [
      "컴퓨터가 발생한 임의 수 : 68\n",
      "1~100사이의 수를 맞춰 보세요55\n",
      "UP↑\n",
      "56~100사이의 수를 맞춰 보세요69\n",
      "DOWN↓\n",
      "56~68사이의 수를 맞춰 보세요68\n",
      "축하 축하 맞추셨습니다\n",
      "끝\n"
     ]
    }
   ],
   "source": [
    "'''\n",
    "2단계 . 입력된 숫자가 틀리면 min~max 사이의 수라고 알려주고 숫자를 맞추면 축\n",
    "하 메시지와 함께 종료합니다 맞출 때까지 반복\n",
    "'''\n",
    "import random\n",
    "# (1) 1~100사이의 난수를 발생\n",
    "randomNum = random.randint(1,100)\n",
    "print('컴퓨터가 발생한 임의 수 :', randomNum)\n",
    "# 수를 입력받아 틀리면 Up/Down메시지를 출력, 맞추면 축하축하 메세지와 break하는 반복문\n",
    "\n",
    "min_, max_ = 1, 100\n",
    "\n",
    "while True:\n",
    "    inputNum = int(input(f'{min_}~{max_}사이의 수를 맞춰 보세요:'))\n",
    "    \n",
    "    if (inputNum<min_) | (inputNum>max_):\n",
    "        print('수의 범위를 벗어났습니다')\n",
    "    elif randomNum < inputNum:\n",
    "        max_ = inputNum-1\n",
    "        print('DOWN↓')\n",
    "    elif randomNum > inputNum:\n",
    "        print('UP↑')\n",
    "        min_ = inputNum+1\n",
    "    else:\n",
    "        print('축하 축하 맞추셨습니다')\n",
    "        break\n",
    "print('끝')"
   ]
  },
  {
   "cell_type": "code",
   "execution_count": null,
   "id": "cbb8e96a",
   "metadata": {},
   "outputs": [],
   "source": [
    "# 10번 2단계 (모범 답안)\n",
    "'''\n",
    "1~100 사이의 정수를 맞추기 프로그램\n",
    "(프로그램 안에서 random수가 만들어지고 그 random수 맞추기)\n",
    "1단계 : 숫자를 못 맞추면 UP/DOWN을 출력하고, 맞추면 축하메세지 뿌리고 끝남\n",
    "2단계 : 숫자를 못 맞추면 fRom~to를 조정, 맞추면 축하메세지 뿌리고 끝남\n",
    "3단계 : 2단계의 기회를 5회 제한. 5회의 기회가 지나면 실패 메세지 뿌리고 끝남\n",
    "(2단계와 3단계 연습문제)\n",
    "'''\n",
    "import random\n",
    "# (1) 1~100사이의 난수 발생\n",
    "fRom, to = 1, 100\n",
    "inputNum = 0 # 사용자가 맞출 수가 저장될 변수\n",
    "randomNum = random.randint(fRom, to)\n",
    "print('컴퓨터가 발생한 임의의 수 :', randomNum)\n",
    "# (2) 수를 입력받아 틀리면 범위 조정과 UP/DOWN 메세지 출력, \n",
    "#    맞추면 축하축하 메세지와 break하는 반복문\n",
    "while randomNum!=inputNum :\n",
    "    inputNum = int(input(f\"{fRom}~{to}사이의 수를 맞춰 보세요 :\"))\n",
    "    \n",
    "    if (inputNum<fRom) | (inputNum>to):\n",
    "        print('수의 범위를 벗어났습니다')\n",
    "    elif randomNum < inputNum:\n",
    "        print('DOWN ↓')\n",
    "        to = inputNum - 1\n",
    "    elif randomNum > inputNum:\n",
    "        print('UP ↑')\n",
    "        fRom = inputNum+1\n",
    "    else:\n",
    "        print('축하 축하 맞추셨습니다')\n",
    "print('끝')"
   ]
  },
  {
   "cell_type": "code",
   "execution_count": 73,
   "id": "3fe96a37",
   "metadata": {},
   "outputs": [
    {
     "name": "stdout",
     "output_type": "stream",
     "text": [
      "컴퓨터가 발생한 임의 수 : 7\n",
      "1~100사이의 수를 맞춰 보세요 (남은기회는 5번)50\n",
      "DOWN↓\n",
      "1~49사이의 수를 맞춰 보세요 (남은기회는 4번)25\n",
      "DOWN↓\n",
      "1~24사이의 수를 맞춰 보세요 (남은기회는 3번)12\n",
      "DOWN↓\n",
      "1~11사이의 수를 맞춰 보세요 (남은기회는 2번)7\n",
      "3번만에 맞추셨습니다. 축하 축하!!!\n"
     ]
    }
   ],
   "source": [
    "'''\n",
    "3단계 . 숫자를 맞출 수 있는 기회를 5 회로 제한하고 5 회 이내에 맞추지 않으면 실패\n",
    "메세지를 출력합니다\n",
    "'''\n",
    "import random\n",
    "# (1) 1~100사이의 난수를 발생\n",
    "randomNum = random.randint(1,100)\n",
    "print('컴퓨터가 발생한 임의 수 :', randomNum)\n",
    "# 수를 입력받아 틀리면 Up/Down메시지를 출력, 맞추면 축하축하 메세지와 break하는 반복문\n",
    "\n",
    "min_, max_ = 1, 100\n",
    "cnt_i = 0\n",
    "\n",
    "while cnt_i < 5:\n",
    "    inputNum = int(input(f'{min_}~{max_}사이의 수를 맞춰 보세요 (남은기회는 {5-cnt_i}번)'))\n",
    "    \n",
    "    if (inputNum<min_) | (inputNum>max_):\n",
    "        print('수의 범위를 벗어났습니다')\n",
    "    elif randomNum < inputNum:\n",
    "        max_ = inputNum-1\n",
    "        cnt_i += 1\n",
    "        print('DOWN↓')\n",
    "    elif randomNum > inputNum:\n",
    "        print('UP↑')\n",
    "        min_ = inputNum+1\n",
    "        cnt_i += 1\n",
    "    else:\n",
    "        print(f'{cnt_i+1}번만에 맞추셨습니다. 축하 축하!!!')\n",
    "        break\n",
    "if cnt_i == 5:\n",
    "    print('기회를 모두 사용하셨습니다. 실패하셨습니다')"
   ]
  },
  {
   "cell_type": "code",
   "execution_count": null,
   "id": "f339363c",
   "metadata": {},
   "outputs": [],
   "source": [
    "# 10번 3단계 (모범답 1)\n",
    "'''\n",
    "1~100 사이의 정수를 맞추기 프로그램\n",
    "(프로그램 안에서 random수가 만들어지고 그 random수 맞추기)\n",
    "1단계 : 숫자를 못 맞추면 UP/DOWN을 출력하고, 맞추면 축하메세지 뿌리고 끝남\n",
    "2단계 : 숫자를 못 맞추면 fRom~to를 조정, 맞추면 축하메세지 뿌리고 끝남\n",
    "3단계 : 2단계의 기회를 5회 제한. 5회의 기회가 지나면 실패 메세지 뿌리고 끝남\n",
    "(2단계와 3단계 연습문제)\n",
    "'''\n",
    "import random\n",
    "# (1) 1~100사이의 난수 발생\n",
    "fRom, to = 1, 100\n",
    "inputNum = 0 # 사용자가 맞출 수가 저장될 변수\n",
    "randomNum = random.randint(fRom, to)\n",
    "print('컴퓨터가 발생한 임의의 수 :', randomNum)\n",
    "# (2) 수를 입력받아 틀리면 범위 조정과 UP/DOWN 메세지 출력, \n",
    "#    맞추면 축하축하 메세지와 break하는 반복문\n",
    "for i in range(5, 0, -1):\n",
    "    inputNum = int(input(f\"{fRom}~{to}사이의 수를 맞춰 보세요(남은기회 {i}번) :\"))\n",
    "    \n",
    "    if (inputNum<fRom) | (inputNum>to):\n",
    "        print('수의 범위를 벗어났습니다')\n",
    "    elif randomNum < inputNum:\n",
    "        print('DOWN ↓')\n",
    "        to = inputNum - 1\n",
    "    elif randomNum > inputNum:\n",
    "        print('UP ↑')\n",
    "        fRom = inputNum+1\n",
    "    else:\n",
    "        print('축하 축하 맞추셨습니다')\n",
    "        break\n",
    "else:\n",
    "    print('모든 기회를 다 쓰셨습니다. 땡!')\n",
    "print('끝')"
   ]
  },
  {
   "cell_type": "code",
   "execution_count": null,
   "id": "203cb0ab",
   "metadata": {},
   "outputs": [],
   "source": [
    "# 10번 3단계 (모범답 2)\n",
    "import random\n",
    "# (1) 1~100사이의 난수 발생\n",
    "fRom, to = 1, 100\n",
    "inputNum = 0 # 사용자가 맞출 수가 저장될 변수\n",
    "randomNum = random.randint(fRom, to)\n",
    "print('컴퓨터가 발생한 임의의 수 :', randomNum)\n",
    "# (2) 수를 입력받아 틀리면 범위 조정과 UP/DOWN 메세지 출력, \n",
    "#    맞추면 축하축하 메세지와 break하는 반복문\n",
    "message = '모든 기회를 다 쓰셨습니다. 땡!'\n",
    "for i in range(5, 0, -1):\n",
    "    inputNum = int(input(f\"{fRom}~{to}사이의 수를 맞춰 보세요(남은기회 {i}번) :\"))\n",
    "    \n",
    "    if (inputNum<fRom) | (inputNum>to):\n",
    "        print('수의 범위를 벗어났습니다')\n",
    "    elif randomNum < inputNum:\n",
    "        print('DOWN ↓')\n",
    "        to = inputNum - 1\n",
    "    elif randomNum > inputNum:\n",
    "        print('UP ↑')\n",
    "        fRom = inputNum+1\n",
    "    else:\n",
    "        message = \"축하 축하 맞추셨습니다. {}번만에 딩동댕\".format(6-i)\n",
    "        break\n",
    "print(message)"
   ]
  },
  {
   "cell_type": "code",
   "execution_count": null,
   "id": "49973631",
   "metadata": {},
   "outputs": [],
   "source": []
  }
 ],
 "metadata": {
  "kernelspec": {
   "display_name": "Python 3 (ipykernel)",
   "language": "python",
   "name": "python3"
  },
  "language_info": {
   "codemirror_mode": {
    "name": "ipython",
    "version": 3
   },
   "file_extension": ".py",
   "mimetype": "text/x-python",
   "name": "python",
   "nbconvert_exporter": "python",
   "pygments_lexer": "ipython3",
   "version": "3.10.9"
  },
  "toc": {
   "base_numbering": 1,
   "nav_menu": {},
   "number_sections": false,
   "sideBar": true,
   "skip_h1_title": false,
   "title_cell": "Table of Contents",
   "title_sidebar": "Contents",
   "toc_cell": false,
   "toc_position": {
    "height": "calc(100% - 180px)",
    "left": "10px",
    "top": "150px",
    "width": "171px"
   },
   "toc_section_display": true,
   "toc_window_display": true
  }
 },
 "nbformat": 4,
 "nbformat_minor": 5
}
