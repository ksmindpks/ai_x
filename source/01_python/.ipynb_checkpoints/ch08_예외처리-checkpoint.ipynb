{
 "cells": [
  {
   "cell_type": "code",
   "execution_count": 1,
   "id": "05a7d36a",
   "metadata": {},
   "outputs": [
    {
     "data": {
      "text/html": [
       "\n",
       "<style>\n",
       "div.container{width:86% !important;}\n",
       "div.cell.code_cell.rendered{width:100%;}\n",
       "div.CodeMirror {font-family:Consolas; font-size:15pt;}\n",
       "div.output {font-size:15pt; font-weight:bold;}\n",
       "div.input {font-family:Consolas; font-size:15pt;}\n",
       "div.prompt {min-width:70px;}\n",
       "div#toc-wrapper{padding-top:120px;}\n",
       "div.text_cell_render ul li{font-size:12pt;padding:5px;}\n",
       "table.dataframe{font-size:15px;}\n",
       "</style>\n"
      ],
      "text/plain": [
       "<IPython.core.display.HTML object>"
      ]
     },
     "metadata": {},
     "output_type": "display_data"
    }
   ],
   "source": [
    "from IPython.display import display, HTML \n",
    "display(HTML(\"\"\"\n",
    "<style>\n",
    "div.container{width:86% !important;}\n",
    "div.cell.code_cell.rendered{width:100%;}\n",
    "div.CodeMirror {font-family:Consolas; font-size:15pt;}\n",
    "div.output {font-size:15pt; font-weight:bold;}\n",
    "div.input {font-family:Consolas; font-size:15pt;}\n",
    "div.prompt {min-width:70px;}\n",
    "div#toc-wrapper{padding-top:120px;}\n",
    "div.text_cell_render ul li{font-size:12pt;padding:5px;}\n",
    "table.dataframe{font-size:15px;}\n",
    "</style>\n",
    "\"\"\"))"
   ]
  },
  {
   "cell_type": "markdown",
   "id": "dd3b8f94",
   "metadata": {},
   "source": [
    "<font size=\"5\" color=\"red\">ch08. 예외처리 </font>\n",
    "# 1절. 예외처리\n",
    "- 예외가 날 가능성이 있는 부분에 대해 미리 예상하고, 그에 대한 처리를 프로그래밍하는 것(이유: 좀 더 안정적으로 실행)\n",
    "```\n",
    "ex. 파일을 다룰 때 : 파일이 없거나, 쓰기 금지로 인한 오류\n",
    "ex. 데이터베이스 프로그래밍 시 제약조건 등으로 CRUD (Create, Read, Update, Delete) 오류\n",
    "ex. 네트워크 프로그래밍 시 일시적인 네트워크 장애시 연결 실패 오류\n",
    "ex. 리스트나 튜플의 인덱스를 벗어난 오류\n",
    "```\n",
    "한글 완성형 (euc-kr, 2,350 글자) => 확장된 한글완성형 (cp949), -한글 조합형 (utf-8)"
   ]
  },
  {
   "cell_type": "code",
   "execution_count": 6,
   "id": "8febd9ac",
   "metadata": {},
   "outputs": [
    {
     "name": "stdout",
     "output_type": "stream",
     "text": [
      "파일명은(ch08.txt) :ch08\n"
     ]
    },
    {
     "ename": "FileNotFoundError",
     "evalue": "[Errno 2] No such file or directory: 'data/ch08'",
     "output_type": "error",
     "traceback": [
      "\u001b[1;31m---------------------------------------------------------------------------\u001b[0m",
      "\u001b[1;31mFileNotFoundError\u001b[0m                         Traceback (most recent call last)",
      "Cell \u001b[1;32mIn[6], line 2\u001b[0m\n\u001b[0;32m      1\u001b[0m filename \u001b[38;5;241m=\u001b[39m \u001b[38;5;28minput\u001b[39m(\u001b[38;5;124m'\u001b[39m\u001b[38;5;124m파일명은(ch08.txt) :\u001b[39m\u001b[38;5;124m'\u001b[39m)\n\u001b[1;32m----> 2\u001b[0m f \u001b[38;5;241m=\u001b[39m \u001b[38;5;28;43mopen\u001b[39;49m\u001b[43m(\u001b[49m\u001b[38;5;124;43m'\u001b[39;49m\u001b[38;5;124;43mdata/\u001b[39;49m\u001b[38;5;124;43m'\u001b[39;49m\u001b[38;5;241;43m+\u001b[39;49m\u001b[43mfilename\u001b[49m\u001b[43m,\u001b[49m\u001b[43m \u001b[49m\u001b[38;5;124;43m'\u001b[39;49m\u001b[38;5;124;43mr\u001b[39;49m\u001b[38;5;124;43m'\u001b[39;49m\u001b[43m)\u001b[49m \u001b[38;5;66;03m# r: 읽기전용으로 파일을 열기\u001b[39;00m\n\u001b[0;32m      3\u001b[0m \u001b[38;5;28mprint\u001b[39m(f\u001b[38;5;241m.\u001b[39mread())\n\u001b[0;32m      4\u001b[0m f\u001b[38;5;241m.\u001b[39mclose()\n",
      "File \u001b[1;32m~\\anaconda3\\lib\\site-packages\\IPython\\core\\interactiveshell.py:282\u001b[0m, in \u001b[0;36m_modified_open\u001b[1;34m(file, *args, **kwargs)\u001b[0m\n\u001b[0;32m    275\u001b[0m \u001b[38;5;28;01mif\u001b[39;00m file \u001b[38;5;129;01min\u001b[39;00m {\u001b[38;5;241m0\u001b[39m, \u001b[38;5;241m1\u001b[39m, \u001b[38;5;241m2\u001b[39m}:\n\u001b[0;32m    276\u001b[0m     \u001b[38;5;28;01mraise\u001b[39;00m \u001b[38;5;167;01mValueError\u001b[39;00m(\n\u001b[0;32m    277\u001b[0m         \u001b[38;5;124mf\u001b[39m\u001b[38;5;124m\"\u001b[39m\u001b[38;5;124mIPython won\u001b[39m\u001b[38;5;124m'\u001b[39m\u001b[38;5;124mt let you open fd=\u001b[39m\u001b[38;5;132;01m{\u001b[39;00mfile\u001b[38;5;132;01m}\u001b[39;00m\u001b[38;5;124m by default \u001b[39m\u001b[38;5;124m\"\u001b[39m\n\u001b[0;32m    278\u001b[0m         \u001b[38;5;124m\"\u001b[39m\u001b[38;5;124mas it is likely to crash IPython. If you know what you are doing, \u001b[39m\u001b[38;5;124m\"\u001b[39m\n\u001b[0;32m    279\u001b[0m         \u001b[38;5;124m\"\u001b[39m\u001b[38;5;124myou can use builtins\u001b[39m\u001b[38;5;124m'\u001b[39m\u001b[38;5;124m open.\u001b[39m\u001b[38;5;124m\"\u001b[39m\n\u001b[0;32m    280\u001b[0m     )\n\u001b[1;32m--> 282\u001b[0m \u001b[38;5;28;01mreturn\u001b[39;00m io_open(file, \u001b[38;5;241m*\u001b[39margs, \u001b[38;5;241m*\u001b[39m\u001b[38;5;241m*\u001b[39mkwargs)\n",
      "\u001b[1;31mFileNotFoundError\u001b[0m: [Errno 2] No such file or directory: 'data/ch08'"
     ]
    }
   ],
   "source": [
    "filename = input('파일명은(ch08.txt) :')\n",
    "f = open('data/'+filename, 'r') # r: 읽기전용으로 파일을 열기\n",
    "print(f.read())\n",
    "f.close()"
   ]
  },
  {
   "cell_type": "code",
   "execution_count": 7,
   "id": "fbf05cc9",
   "metadata": {},
   "outputs": [
    {
     "ename": "ZeroDivisionError",
     "evalue": "division by zero",
     "output_type": "error",
     "traceback": [
      "\u001b[1;31m---------------------------------------------------------------------------\u001b[0m",
      "\u001b[1;31mZeroDivisionError\u001b[0m                         Traceback (most recent call last)",
      "Cell \u001b[1;32mIn[7], line 1\u001b[0m\n\u001b[1;32m----> 1\u001b[0m \u001b[38;5;241;43m4\u001b[39;49m\u001b[38;5;241;43m/\u001b[39;49m\u001b[38;5;241;43m0\u001b[39;49m\n",
      "\u001b[1;31mZeroDivisionError\u001b[0m: division by zero"
     ]
    }
   ],
   "source": [
    "4/0"
   ]
  },
  {
   "cell_type": "code",
   "execution_count": 9,
   "id": "9bdf0dc2",
   "metadata": {},
   "outputs": [
    {
     "ename": "IndexError",
     "evalue": "list index out of range",
     "output_type": "error",
     "traceback": [
      "\u001b[1;31m---------------------------------------------------------------------------\u001b[0m",
      "\u001b[1;31mIndexError\u001b[0m                                Traceback (most recent call last)",
      "Cell \u001b[1;32mIn[9], line 2\u001b[0m\n\u001b[0;32m      1\u001b[0m a \u001b[38;5;241m=\u001b[39m [\u001b[38;5;241m1\u001b[39m, \u001b[38;5;241m2\u001b[39m, \u001b[38;5;241m3\u001b[39m]\n\u001b[1;32m----> 2\u001b[0m \u001b[43ma\u001b[49m\u001b[43m[\u001b[49m\u001b[38;5;241;43m3\u001b[39;49m\u001b[43m]\u001b[49m\n",
      "\u001b[1;31mIndexError\u001b[0m: list index out of range"
     ]
    }
   ],
   "source": [
    "a = [1, 2, 3]\n",
    "a[3]"
   ]
  },
  {
   "cell_type": "markdown",
   "id": "00d2b771",
   "metadata": {},
   "source": [
    "# 2절. try~except로 예외 처리\n",
    "## 2.1 try~except\n",
    "```\n",
    "try:\n",
    "    예외가 발생할 가능성이 있는 명령어들\n",
    "except:\n",
    "    예외가 발생했을 경우 실행할 명령어들\n",
    "```"
   ]
  },
  {
   "cell_type": "code",
   "execution_count": 12,
   "id": "99dda732",
   "metadata": {},
   "outputs": [
    {
     "name": "stdout",
     "output_type": "stream",
     "text": [
      "정수를 입력하세요 :a\n"
     ]
    },
    {
     "ename": "ValueError",
     "evalue": "invalid literal for int() with base 10: 'a'",
     "output_type": "error",
     "traceback": [
      "\u001b[1;31m---------------------------------------------------------------------------\u001b[0m",
      "\u001b[1;31mValueError\u001b[0m                                Traceback (most recent call last)",
      "Cell \u001b[1;32mIn[12], line 3\u001b[0m\n\u001b[0;32m      1\u001b[0m \u001b[38;5;66;03m# 100을 입력받아 정수값으로 나눠 출력\u001b[39;00m\n\u001b[0;32m      2\u001b[0m \u001b[38;5;66;03m# ZeroDivisionError: division by zero\u001b[39;00m\n\u001b[1;32m----> 3\u001b[0m x \u001b[38;5;241m=\u001b[39m \u001b[38;5;28;43mint\u001b[39;49m\u001b[43m(\u001b[49m\u001b[38;5;28;43minput\u001b[39;49m\u001b[43m(\u001b[49m\u001b[38;5;124;43m'\u001b[39;49m\u001b[38;5;124;43m정수를 입력하세요 :\u001b[39;49m\u001b[38;5;124;43m'\u001b[39;49m\u001b[43m)\u001b[49m\u001b[43m)\u001b[49m\n\u001b[0;32m      4\u001b[0m \u001b[38;5;28mprint\u001b[39m(\u001b[38;5;124m'\u001b[39m\u001b[38;5;124m100을 입력한 정수로 나누면 \u001b[39m\u001b[38;5;132;01m{:.3f}\u001b[39;00m\u001b[38;5;124m'\u001b[39m\u001b[38;5;241m.\u001b[39mformat(\u001b[38;5;241m100\u001b[39m\u001b[38;5;241m/\u001b[39mx))\n",
      "\u001b[1;31mValueError\u001b[0m: invalid literal for int() with base 10: 'a'"
     ]
    }
   ],
   "source": [
    "# 100을 입력받아 정수값으로 나눠 출력\n",
    "# ZeroDivisionError: division by zero\n",
    "# ValueError: invalid literal for int() with base 10: 'a'\n",
    "x = int(input('정수를 입력하세요 :'))\n",
    "print('100을 입력한 정수로 나누면 {:.3f}'.format(100/x))"
   ]
  },
  {
   "cell_type": "code",
   "execution_count": 17,
   "id": "3cbf8ece",
   "metadata": {},
   "outputs": [
    {
     "name": "stdout",
     "output_type": "stream",
     "text": [
      "정수를 입력하세요 :2\n",
      "x값 입력 받음 2\n",
      "100을 입력한 정수로 나누면 50.000\n",
      "예외가 발생 안 됨\n"
     ]
    }
   ],
   "source": [
    "# 100을 입력받아 정수값으로 나눠 출력\n",
    "# ZeroDivisionError: division by zero\n",
    "# ValueError: invalid literal for int() with base 10: 'a'\n",
    "try:\n",
    "    x = int(input('0이 아닌 정수를 입력하세요 :'))\n",
    "    print('x값 입력 받음', x)\n",
    "    print('100을 입력한 정수로 나누면 {:.3f}'.format(100/x))\n",
    "    print('예외가 발생 안 됨')\n",
    "except:\n",
    "    print('유효한 정수가 아닙니다.')"
   ]
  },
  {
   "cell_type": "code",
   "execution_count": 19,
   "id": "2767d08c",
   "metadata": {},
   "outputs": [
    {
     "name": "stdout",
     "output_type": "stream",
     "text": [
      "0이 아닌 정수를 입력하세요 :0\n",
      "유효한 정수가 아닙니다.\n",
      "\n",
      "0이 아닌 정수를 입력하세요 :a\n",
      "유효한 정수가 아닙니다.\n",
      "\n",
      "0이 아닌 정수를 입력하세요 :11\n",
      "9.09\n"
     ]
    }
   ],
   "source": [
    "# 100을 나눌 유효한 정수를 입력할 때까지 입력받아\n",
    "# 유효한 정수를 입력하면, 100을 입력한 수로 나눈 결과를 출력\n",
    "# 나눈 결과가 .0으로 끝나면 정수 결과를 출력 /  .0으로 끝나지 않으면 소수점 2자리까지 출력\n",
    "\n",
    "while True:\n",
    "    try:\n",
    "        x = int(input('0이 아닌 정수를 입력하세요 :'))\n",
    "        result = 100/x\n",
    "        result = f'{100/x:.0f}' if round(result) == result else f'{100/x:.2f}'\n",
    "        print(result)\n",
    "        break\n",
    "    except:\n",
    "        print('유효한 정수가 아닙니다')\n",
    "# ZeroDivisionError: division by zero\n",
    "# ValueError: invalid literal for int() with base 10: 'a'"
   ]
  },
  {
   "cell_type": "markdown",
   "id": "a459b38b",
   "metadata": {},
   "source": [
    "## 2.2 예외를 지정한 처리\n",
    "```\n",
    "try:\n",
    "    예외가 발생할 수도 있는 문장들\n",
    "except 예외타입1:\n",
    "    해당 예외가 발생할 경우 실행할 명령어들\n",
    "except 예외타입2:\n",
    "    해당 예외가 발생할 경우 실행할 명령어들\n",
    "```"
   ]
  },
  {
   "cell_type": "code",
   "execution_count": 26,
   "id": "02fbd1b2",
   "metadata": {},
   "outputs": [
    {
     "name": "stdout",
     "output_type": "stream",
     "text": [
      "0이 아닌 정수를 입력하세요 :0\n",
      "다시 시도하세요\n",
      "0이 아닌 정수를 입력하세요 :ㅁ\n",
      "다시 시도하세요\n",
      "0이 아닌 정수를 입력하세요 :20\n",
      "5\n"
     ]
    }
   ],
   "source": [
    "while True:\n",
    "    try:\n",
    "        x = int(input('0이 아닌 정수를 입력하세요 :'))\n",
    "        result = 100/x\n",
    "        result = f'{100/x:.0f}' if round(result) == result else f'{100/x:.2f}'\n",
    "        print(result)\n",
    "        break\n",
    "\n",
    "    except:\n",
    "        # except절이 많은 경우 하위 클래스(자식클래스)가 위에 나와야 함\n",
    "        print('다시 시도하세요')\n",
    "\n",
    "# ZeroDivisionError: division by zero\n",
    "# ValueError: invalid literal for int() with base 10: 'a'"
   ]
  },
  {
   "cell_type": "code",
   "execution_count": 37,
   "id": "eacc34f4",
   "metadata": {},
   "outputs": [
    {
     "name": "stdout",
     "output_type": "stream",
     "text": [
      "0이 아닌 정수를 입력하세요 :0\n",
      "0으로 나눌 수 없어요\n",
      "0이 아닌 정수를 입력하세요 :ㅁ\n",
      "정수를 입력하세요\n",
      "0이 아닌 정수를 입력하세요 :5\n",
      "20\n"
     ]
    }
   ],
   "source": [
    "while True:\n",
    "    try:\n",
    "        x = int(input('0이 아닌 정수를 입력하세요 :'))\n",
    "        result = 100/x\n",
    "        result = f'{100/x:.0f}' if round(result) == result else f'{100/x:.2f}'\n",
    "        print(result)\n",
    "        break\n",
    "\n",
    "    except ZeroDivisionError:\n",
    "        print('0으로 나눌 수 없어요')\n",
    "    except ValueError:\n",
    "        print('정수를 입력하세요')\n",
    "    except Exception:\n",
    "        # except절이 많은 경우 하위 클래스(자식클래스)가 위에 나와야 함\n",
    "        print('다시 시도하세요')\n",
    "\n",
    "# ZeroDivisionError: division by zero\n",
    "# ValueError: invalid literal for int() with base 10: 'a'"
   ]
  },
  {
   "cell_type": "code",
   "execution_count": 38,
   "id": "eefe0187",
   "metadata": {},
   "outputs": [
    {
     "name": "stdout",
     "output_type": "stream",
     "text": [
      "0이 아닌 정수를 입력하세요 :0\n",
      "제대로 입력하세요\n",
      "0이 아닌 정수를 입력하세요 :a\n",
      "제대로 입력하세요\n",
      "0이 아닌 정수를 입력하세요 :6\n",
      "16.67\n"
     ]
    }
   ],
   "source": [
    "while True:\n",
    "    try:\n",
    "        x = int(input('0이 아닌 정수를 입력하세요 :'))\n",
    "        result = 100/x\n",
    "        result = f'{100/x:.0f}' if round(result) == result else f'{100/x:.2f}'\n",
    "        print(result)\n",
    "        break\n",
    "\n",
    "    except (ZeroDivisionError, ValueError) :\n",
    "        print('제대로 입력하세요')\n",
    "    except Exception:\n",
    "        # except절이 많은 경우 하위 클래스(자식클래스)가 위에 나와야 함\n",
    "        print('다시 시도하세요')\n",
    "\n",
    "# ZeroDivisionError: division by zero\n",
    "# ValueError: invalid literal for int() with base 10: 'a'"
   ]
  },
  {
   "cell_type": "markdown",
   "id": "126fa94f",
   "metadata": {},
   "source": [
    "## 2.3 예외 메세지(예외인수)"
   ]
  },
  {
   "cell_type": "code",
   "execution_count": 40,
   "id": "a7df911c",
   "metadata": {},
   "outputs": [
    {
     "name": "stdout",
     "output_type": "stream",
     "text": [
      "0이 아닌 정수를 입력하세요 :0\n",
      "division by zero\n",
      "<class 'ZeroDivisionError'>\n",
      "예외메세지 ('division by zero',)\n",
      "예외메세지 division by zero\n",
      "0이 아닌 정수를 입력하세요 :a\n",
      "invalid literal for int() with base 10: 'a'\n",
      "<class 'ValueError'>\n",
      "예외메세지 (\"invalid literal for int() with base 10: 'a'\",)\n",
      "예외메세지 invalid literal for int() with base 10: 'a'\n",
      "0이 아닌 정수를 입력하세요 :7\n",
      "14.29\n"
     ]
    }
   ],
   "source": [
    "while True:\n",
    "    try:\n",
    "        x = int(input('0이 아닌 정수를 입력하세요 :'))\n",
    "        result = 100/x\n",
    "        result = f'{100/x:.0f}' if round(result) == result else f'{100/x:.2f}'\n",
    "        print(result)\n",
    "        break\n",
    "\n",
    "    except (ZeroDivisionError, ValueError) as e:\n",
    "        print(e) # e.__str__() : 예외메세지\n",
    "        print(type(e))\n",
    "        print('예외메세지', e.args)\n",
    "        print('예외메세지', e.args[0])\n",
    "    except Exception:\n",
    "        # except절이 많은 경우 하위 클래스(자식클래스)가 위에 나와야 함\n",
    "        print('다시 시도하세요')\n",
    "\n",
    "# ZeroDivisionError: division by zero\n",
    "# ValueError: invalid literal for int() with base 10: 'a'"
   ]
  },
  {
   "cell_type": "markdown",
   "id": "cf05c30c",
   "metadata": {},
   "source": [
    "pdf(p.12)\n",
    "```\n",
    "try:\n",
    "    예외가 발생할 수도 있는 구문\n",
    "except [예외타입 as e]:\n",
    "    예외가 발생되면 수행할 구문\n",
    "else:\n",
    "    try절을 수행하다 예외가 발생 안되면 else절을 한번 수행\n",
    "finally:\n",
    "    예외가 발생 안 하면 try-else-finally절 수행\n",
    "    예외가 발생하면 try수행 중 except - finally절 수행\n",
    "```"
   ]
  },
  {
   "cell_type": "code",
   "execution_count": 41,
   "id": "dda5882e",
   "metadata": {},
   "outputs": [
    {
     "name": "stdout",
     "output_type": "stream",
     "text": [
      "Hello\n",
      "World\n",
      "\n",
      "This is my exercise file for chapter 8 in python.\n",
      "반드시 실행\n"
     ]
    }
   ],
   "source": [
    "try:\n",
    "    f = open(r'data\\ch08.txt','r')\n",
    "    data = f.read()\n",
    "    print(data)\n",
    "except FileNotFoundError as e:\n",
    "    print(e)\n",
    "#    print('해당 파일이 없습니다')\n",
    "finally: # 전체가 한 set임을 완성하는 형식임\n",
    "    print('반드시 실행')\n",
    "    f.close()"
   ]
  },
  {
   "cell_type": "code",
   "execution_count": 42,
   "id": "21e62abf",
   "metadata": {},
   "outputs": [
    {
     "name": "stdout",
     "output_type": "stream",
     "text": [
      "[Errno 2] No such file or directory: 'data\\\\ch0.txt'\n",
      "반드시 실행\n"
     ]
    }
   ],
   "source": [
    "try:\n",
    "    f = open(r'data\\ch0.txt','r')\n",
    "    data = f.read()\n",
    "    print(data)\n",
    "except FileNotFoundError as e:\n",
    "    print(e)\n",
    "finally: # 전체가 한 set임을 완성하는 형식임\n",
    "    print('반드시 실행')\n",
    "    f.close()"
   ]
  },
  {
   "cell_type": "markdown",
   "id": "bf5581d7",
   "metadata": {},
   "source": [
    "# 3절. raise\n",
    "- 강제 예외 발생"
   ]
  },
  {
   "cell_type": "code",
   "execution_count": 36,
   "id": "6fe65d40",
   "metadata": {},
   "outputs": [
    {
     "ename": "NameError",
     "evalue": "예외 발생함",
     "output_type": "error",
     "traceback": [
      "\u001b[1;31m---------------------------------------------------------------------------\u001b[0m",
      "\u001b[1;31mNameError\u001b[0m                                 Traceback (most recent call last)",
      "Cell \u001b[1;32mIn[36], line 1\u001b[0m\n\u001b[1;32m----> 1\u001b[0m \u001b[38;5;28;01mraise\u001b[39;00m \u001b[38;5;167;01mNameError\u001b[39;00m(\u001b[38;5;124m'\u001b[39m\u001b[38;5;124m예외 발생함\u001b[39m\u001b[38;5;124m'\u001b[39m)\n",
      "\u001b[1;31mNameError\u001b[0m: 예외 발생함"
     ]
    }
   ],
   "source": [
    "raise NameError('예외 발생함')"
   ]
  },
  {
   "cell_type": "code",
   "execution_count": 43,
   "id": "f98c6895",
   "metadata": {},
   "outputs": [],
   "source": [
    "# 사용자 정의 예외 : Exception 클래스 또는 그 하위 클래스를 상속받아 구현\n",
    "class LengthZeroError(Exception):\n",
    "    '길이가 0일 때 발생할 예외'\n",
    "    pass\n",
    "#     def __init__(self, message):\n",
    "#         self.message = message\n",
    "    "
   ]
  },
  {
   "cell_type": "code",
   "execution_count": 44,
   "id": "8fd34b84",
   "metadata": {},
   "outputs": [],
   "source": [
    "def insert(*data): # 튜플 매개변수\n",
    "    if len(data)==0:\n",
    "        raise LengthZeroError('매개변수가 0인 예외입니다')\n",
    "    for item in data:\n",
    "        print(item, end=' ')\n",
    "    print('등을 입력하셨습니다')"
   ]
  },
  {
   "cell_type": "code",
   "execution_count": 51,
   "id": "fefcec1d",
   "metadata": {},
   "outputs": [
    {
     "name": "stdout",
     "output_type": "stream",
     "text": [
      "매개변수가 0인 예외입니다\n",
      "무조건 실행하는 부분 DONE\n"
     ]
    }
   ],
   "source": [
    "data = []\n",
    "try:\n",
    "    insert(*data)\n",
    "except LengthZeroError as e:\n",
    "    print(e)\n",
    "finally:\n",
    "    print('무조건 실행하는 부분 DONE')"
   ]
  },
  {
   "cell_type": "markdown",
   "id": "9d66476c",
   "metadata": {},
   "source": [
    "# 4절. 추상클래스\n",
    "- 추상클래스 : 객체를 생성할 수 없는 클래스. 상속받을 클래스의 포멧 제공\n",
    "- 추상메소드 : 호출할 수 없는 메소드"
   ]
  },
  {
   "cell_type": "code",
   "execution_count": 52,
   "id": "ba6bd873",
   "metadata": {},
   "outputs": [],
   "source": [
    "# Shape 클래스 : 객체를 만드는게 목적이 아니고, 자식클래스(서브클래스)를 잘 만들게 하는게 목적\n",
    "# Shape 클래스를 상속받은 클래스들의 표준 제시\n",
    "class Shape:\n",
    "    def __init__(self):\n",
    "        raise NotImplementedError('추상 클래스 역할')\n",
    "    def calc_area(self):\n",
    "        raise NotImplementedError('추상 클래스 역할')"
   ]
  },
  {
   "cell_type": "code",
   "execution_count": 54,
   "id": "dc6cbb33",
   "metadata": {},
   "outputs": [
    {
     "data": {
      "text/plain": [
       "28.259999999999998"
      ]
     },
     "execution_count": 54,
     "metadata": {},
     "output_type": "execute_result"
    }
   ],
   "source": [
    "# s = Shape()\n",
    "class Circle(Shape):\n",
    "    def __init__(self, r=3):\n",
    "        self.r = r\n",
    "    def calc_area(self):\n",
    "        return 3.14*self.r*self.r\n",
    "\n",
    "c = Circle(3)\n",
    "c.calc_area()\n",
    "    \n"
   ]
  },
  {
   "cell_type": "markdown",
   "id": "e501caee",
   "metadata": {},
   "source": [
    "# 5절. 파일 정리 작업(with 절 이용)"
   ]
  },
  {
   "cell_type": "code",
   "execution_count": null,
   "id": "3139166f",
   "metadata": {},
   "outputs": [],
   "source": [
    "try:\n",
    "    f = open('data/ch08.txt','r')\n",
    "    print(f.read())\n",
    "except:\n",
    "    print(e)\n",
    "finally:\n",
    "    f.close()\n",
    "    \n"
   ]
  },
  {
   "cell_type": "code",
   "execution_count": 55,
   "id": "f07f81b5",
   "metadata": {},
   "outputs": [
    {
     "name": "stdout",
     "output_type": "stream",
     "text": [
      "Hello\n",
      "World\n",
      "\n",
      "This is my exercise file for chapter 8 in python.\n"
     ]
    }
   ],
   "source": [
    "f = open('data/ch08.txt','r')\n",
    "print(f.read())\n",
    "f.close()"
   ]
  },
  {
   "cell_type": "code",
   "execution_count": 56,
   "id": "f6d3dd25",
   "metadata": {},
   "outputs": [
    {
     "name": "stdout",
     "output_type": "stream",
     "text": [
      "Hello\n",
      "World\n",
      "\n",
      "This is my exercise file for chapter 8 in python.\n"
     ]
    }
   ],
   "source": [
    "with open('data/ch08.txt','r') as f:\n",
    "    print(f.read())\n",
    "# with 절 이후에는 자동 close() 실행"
   ]
  },
  {
   "cell_type": "markdown",
   "id": "955865a4",
   "metadata": {},
   "source": [
    "# 6절. 연습문제\n",
    "## 실습형"
   ]
  },
  {
   "cell_type": "code",
   "execution_count": 7,
   "id": "a98a7aa7",
   "metadata": {},
   "outputs": [
    {
     "name": "stdout",
     "output_type": "stream",
     "text": [
      "0이 아닌 첫번째 정수 혹은 실수를 입력하세요 >hello\n",
      "유효한 숫자가 아닙니다. 다시 시도하세요.\n",
      "\n",
      "0이 아닌 첫번째 정수 혹은 실수를 입력하세요 >10\n",
      "0이 아닌 두번째 정수 혹은 실수를 입력하세요 >0\n",
      "입력한 숫자는 10.000와 0.000\n",
      "유효한 숫자가 아닙니다. 다시 시도하세요.\n",
      "\n",
      "0이 아닌 첫번째 정수 혹은 실수를 입력하세요 >3.5\n",
      "0이 아닌 두번째 정수 혹은 실수를 입력하세요 >hello\n",
      "유효한 숫자가 아닙니다. 다시 시도하세요.\n",
      "\n",
      "0이 아닌 첫번째 정수 혹은 실수를 입력하세요 >3.5\n",
      "0이 아닌 두번째 정수 혹은 실수를 입력하세요 >2\n",
      "입력한 숫자는 3.500와 2.000\n",
      "입력한 숫자는 3.500을 2.000로 나누면 1.750입니다\n",
      "\n"
     ]
    }
   ],
   "source": [
    "# 1. 숫자 두개를 입력받아 나눗셈 연산을 하는 프로그램을 작성하세요.\n",
    "#   - 두 숫자는 정수 또는 실수일 수 있으며, 0으로 나눌 수 없습니다.\n",
    "#   - 올바를 두 수를 입력하고 나눗셈 연산 결과를 출력한 후 종료해야 합니다.\n",
    "#   - 다음은 실행후 출력 예시입니다.\n",
    "\n",
    "while True:\n",
    "    try:\n",
    "        x = float(input('0이 아닌 첫번째 정수 혹은 실수를 입력하세요 >'))\n",
    "        y = float(input('0이 아닌 두번째 정수 혹은 실수를 입력하세요 >'))\n",
    "        print(f'입력한 숫자는 {x:.1f}와 {y:.1f}')\n",
    "        print(f'입력한 숫자는 {x:.1f}을 {y:.1f}로 나누면 {x/y:.2f}입니다')\n",
    "        break\n",
    "    except:\n",
    "        print('유효한 숫자가 아닙니다. 다시 시도하세요.')"
   ]
  },
  {
   "cell_type": "code",
   "execution_count": 9,
   "id": "6728b662",
   "metadata": {},
   "outputs": [
    {
     "name": "stdout",
     "output_type": "stream",
     "text": [
      "0이 아닌 첫번째 정수 혹은 실수를 입력하세요 >abc\n",
      "유효한 숫자가 아닙니다. 다시 시도하세요.\n",
      "0이 아닌 첫번째 정수 혹은 실수를 입력하세요 >10\n",
      "0이 아닌 두번째 정수 혹은 실수를 입력하세요 >0\n",
      "입력한 숫자는 10.0와 0.0\n",
      "0으로 나눌수 없습니다.. 다시 시도하세요.\n",
      "0이 아닌 첫번째 정수 혹은 실수를 입력하세요 >5\n",
      "0이 아닌 두번째 정수 혹은 실수를 입력하세요 >3\n",
      "입력한 숫자는 5.0와 3.0\n",
      "입력한 숫자는 5.0을 3.0로 나누면 1.6666666666666667입니다\n"
     ]
    }
   ],
   "source": [
    "# 2. 1번 코드의 예외처리를 예외에 따라 다르게 처리하세요.\n",
    "# - 숫자로 바꾼 수 없을 경우 ValueError가 발생합니다.\n",
    "# - 0으로 나누려고 할 때 ZeroDivisionError가 발생합니다.\n",
    "# - 다음은 실행후 출력 예시입니다.\n",
    "while True:\n",
    "    try:\n",
    "        x = float(input('0이 아닌 첫번째 정수 혹은 실수를 입력하세요 >'))\n",
    "        y = float(input('0이 아닌 두번째 정수 혹은 실수를 입력하세요 >'))\n",
    "        print(f'입력한 숫자는 {x:.1f}와 {y:.1f}')\n",
    "        print(f'입력한 숫자는 {x:.1f}을 {y:.1f}로 나누면 {x/y:.16f}입니다')\n",
    "        break\n",
    "    except ValueError:\n",
    "        print('유효한 숫자가 아닙니다. 다시 시도하세요.')\n",
    "    except ZeroDivisionError:\n",
    "        print('0으로 나눌수 없습니다.. 다시 시도하세요.')"
   ]
  },
  {
   "cell_type": "markdown",
   "id": "4b5b3f1d",
   "metadata": {},
   "source": [
    "## 문제풀이형"
   ]
  },
  {
   "cell_type": "code",
   "execution_count": null,
   "id": "8fcf151a",
   "metadata": {},
   "outputs": [],
   "source": [
    "# 1. 다음중 예외 처리에 대해 잘못 설명한 것은? (3)\n",
    "# 1) try블록은 예외가 발생할 가능성이 있는 문장을 작성한다 (o)\n",
    "# 2) 예외가 발생하면 except 블록이 실행된다 (o)\n",
    "# 3) 상위 예외 처리를 위한 except블록은 하위 예외 처리 except 블록에 비해 먼저(?) 선언되어야 한다\n",
    "# 4) finally블록은 예외의 발생 유/무와 상관없이 실행된다 (o)"
   ]
  },
  {
   "cell_type": "code",
   "execution_count": null,
   "id": "7af29382",
   "metadata": {},
   "outputs": [],
   "source": [
    "# 2. 다음중 예외 처리에 대한 설명중 잘못된 것은?\n",
    "# 1) raise는 강제로 예외를 발생시킬 때 사용한다. (o)\n",
    "# 2) catch절은 예외를 처리하기 위해 사용하는 구문이다. (x, except)\n",
    "# 3) 다른 예외를 하나의 예외구문으로 처리할 수 있다. (o)\n",
    "# 4) else절은 예외가 발생하지 않을 경우 실행된다. (o)"
   ]
  },
  {
   "cell_type": "code",
   "execution_count": 14,
   "id": "3769b54a",
   "metadata": {},
   "outputs": [
    {
     "ename": "SyntaxError",
     "evalue": "invalid syntax (2973308590.py, line 11)",
     "output_type": "error",
     "traceback": [
      "\u001b[1;36m  Cell \u001b[1;32mIn[14], line 11\u001b[1;36m\u001b[0m\n\u001b[1;33m    except Exception e: (x)\u001b[0m\n\u001b[1;37m                     ^\u001b[0m\n\u001b[1;31mSyntaxError\u001b[0m\u001b[1;31m:\u001b[0m invalid syntax\n"
     ]
    }
   ],
   "source": [
    "# 3. 다음중 except절을 잘못 사용한것은?\n",
    "while True:\n",
    "    try:\n",
    "        pass\n",
    "    except:\n",
    "        pass\n",
    "    except Exception:\n",
    "        pass\n",
    "    except Exception as e:\n",
    "        pass\n",
    "    except Exception e: # (x)\n",
    "        pass"
   ]
  },
  {
   "cell_type": "code",
   "execution_count": null,
   "id": "8b46d069",
   "metadata": {},
   "outputs": [],
   "source": [
    "# 4. 다음중 예외 처리에 사용하지 않는 구문은 ? with는 아님 (예외 구문: try-except-finally)"
   ]
  }
 ],
 "metadata": {
  "kernelspec": {
   "display_name": "Python 3 (ipykernel)",
   "language": "python",
   "name": "python3"
  },
  "language_info": {
   "codemirror_mode": {
    "name": "ipython",
    "version": 3
   },
   "file_extension": ".py",
   "mimetype": "text/x-python",
   "name": "python",
   "nbconvert_exporter": "python",
   "pygments_lexer": "ipython3",
   "version": "3.10.9"
  },
  "toc": {
   "base_numbering": 1,
   "nav_menu": {},
   "number_sections": false,
   "sideBar": true,
   "skip_h1_title": false,
   "title_cell": "Table of Contents",
   "title_sidebar": "Contents",
   "toc_cell": false,
   "toc_position": {
    "height": "calc(100% - 180px)",
    "left": "10px",
    "top": "150px",
    "width": "209px"
   },
   "toc_section_display": true,
   "toc_window_display": true
  }
 },
 "nbformat": 4,
 "nbformat_minor": 5
}
