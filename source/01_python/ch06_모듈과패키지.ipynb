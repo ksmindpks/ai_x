{
 "cells": [
  {
   "cell_type": "code",
   "execution_count": 1,
   "id": "5e449346",
   "metadata": {},
   "outputs": [
    {
     "data": {
      "text/html": [
       "\n",
       "<style>\n",
       "div.container{width:86% !important;}\n",
       "div.cell.code_cell.rendered{width:100%;}\n",
       "div.CodeMirror {font-family:Consolas; font-size:15pt;}\n",
       "div.output {font-size:15pt; font-weight:bold;}\n",
       "div.input {font-family:Consolas; font-size:15pt;}\n",
       "div.prompt {min-width:70px;}\n",
       "div#toc-wrapper{padding-top:120px;}\n",
       "div.text_cell_render ul li{font-size:12pt;padding:5px;}\n",
       "table.dataframe{font-size:15px;}\n",
       "</style>\n"
      ],
      "text/plain": [
       "<IPython.core.display.HTML object>"
      ]
     },
     "metadata": {},
     "output_type": "display_data"
    }
   ],
   "source": [
    "from IPython.display import display, HTML \n",
    "display(HTML(\"\"\"\n",
    "<style>\n",
    "div.container{width:86% !important;}\n",
    "div.cell.code_cell.rendered{width:100%;}\n",
    "div.CodeMirror {font-family:Consolas; font-size:15pt;}\n",
    "div.output {font-size:15pt; font-weight:bold;}\n",
    "div.input {font-family:Consolas; font-size:15pt;}\n",
    "div.prompt {min-width:70px;}\n",
    "div#toc-wrapper{padding-top:120px;}\n",
    "div.text_cell_render ul li{font-size:12pt;padding:5px;}\n",
    "table.dataframe{font-size:15px;}\n",
    "</style>\n",
    "\"\"\"))"
   ]
  },
  {
   "cell_type": "markdown",
   "id": "fd7ad681",
   "metadata": {},
   "source": [
    "<b><font size=\"5\" color=\"red\">ch06. 모듈과 패키지 </font></b>\n",
    "- 모듈 : 함수, 변수, 클래스 등을 담고있는 파이썬 코드 파일( *.py)\n",
    "- 파키지 : 모듈들이 포함된 폴더\n",
    "# 1절. 파이썬 모듈 사용\n",
    "- anaconda는 1500개 이상의 패키지 install (정확한 갯수는 버전에 따라 상이)\n",
    "- miniconda : python.org 버전보다 조금 많이 install (최소한의 것만)\n",
    "- python.org : 파이썬 인터프리터와 함께 파이썬 표준 모듈 200여개 install(re, datetime, ..)"
   ]
  },
  {
   "cell_type": "code",
   "execution_count": 7,
   "id": "9778a0bd",
   "metadata": {},
   "outputs": [
    {
     "data": {
      "text/plain": [
       "'Fri Apr 18 10:46:31 2025'"
      ]
     },
     "execution_count": 7,
     "metadata": {},
     "output_type": "execute_result"
    }
   ],
   "source": [
    "# 1. import 모듈명 : 모듈안의 함수, 클래스, 변수를 모듈명.함수명().. 사용가능\n",
    "import time # time 모듈한의 모든 함수, 클래스, 변수를 메모리 로드\n",
    "time.ctime()"
   ]
  },
  {
   "cell_type": "code",
   "execution_count": 8,
   "id": "6a3f80b7",
   "metadata": {},
   "outputs": [
    {
     "data": {
      "text/plain": [
       "1744940792.8131456"
      ]
     },
     "execution_count": 8,
     "metadata": {},
     "output_type": "execute_result"
    }
   ],
   "source": [
    "time.time() # 1970. 1. 1. 0시와 현재 (2025. 4. 18. 10시) 사이의 밀리세컨(mili second)수"
   ]
  },
  {
   "cell_type": "code",
   "execution_count": 5,
   "id": "3bb74253",
   "metadata": {},
   "outputs": [],
   "source": [
    "del time # time 모듈에서 unload"
   ]
  },
  {
   "cell_type": "code",
   "execution_count": null,
   "id": "37fa97fd",
   "metadata": {},
   "outputs": [],
   "source": [
    "# 2. from 모듈(A) import 함수|클래스|변수(B) : A 모듈안의 B만 load\n",
    "#    from 패키지(A) import 모듈(B) : A패키지 안의 B 모듈을 load\n",
    "#    from 패키지(A).모듈명(B) import 함수|클래스|변수(C) : A패키지 밑의 B 모듈의 C만 load"
   ]
  },
  {
   "cell_type": "code",
   "execution_count": 9,
   "id": "e4564912",
   "metadata": {},
   "outputs": [],
   "source": [
    "from time import ctime, time"
   ]
  },
  {
   "cell_type": "code",
   "execution_count": 10,
   "id": "29be6be3",
   "metadata": {},
   "outputs": [
    {
     "data": {
      "text/plain": [
       "'Fri Apr 18 10:51:59 2025'"
      ]
     },
     "execution_count": 10,
     "metadata": {},
     "output_type": "execute_result"
    }
   ],
   "source": [
    "ctime()"
   ]
  },
  {
   "cell_type": "code",
   "execution_count": 11,
   "id": "5ad9f8d5",
   "metadata": {},
   "outputs": [
    {
     "data": {
      "text/plain": [
       "1744941128.5182729"
      ]
     },
     "execution_count": 11,
     "metadata": {},
     "output_type": "execute_result"
    }
   ],
   "source": [
    "time()"
   ]
  },
  {
   "cell_type": "code",
   "execution_count": 12,
   "id": "2db1c829",
   "metadata": {},
   "outputs": [],
   "source": [
    "del ctime, time"
   ]
  },
  {
   "cell_type": "code",
   "execution_count": 13,
   "id": "10521d34",
   "metadata": {},
   "outputs": [],
   "source": [
    "# 3. import 모듈명 as 별칭 : 모듈을 메모리에서 load하고 별칭으로 사용\n",
    "import time as t"
   ]
  },
  {
   "cell_type": "code",
   "execution_count": 14,
   "id": "a3284193",
   "metadata": {},
   "outputs": [
    {
     "data": {
      "text/plain": [
       "'Fri Apr 18 10:56:15 2025'"
      ]
     },
     "execution_count": 14,
     "metadata": {},
     "output_type": "execute_result"
    }
   ],
   "source": [
    "t.ctime()"
   ]
  },
  {
   "cell_type": "code",
   "execution_count": 15,
   "id": "7d99b523",
   "metadata": {},
   "outputs": [
    {
     "data": {
      "text/plain": [
       "1744941398.000166"
      ]
     },
     "execution_count": 15,
     "metadata": {},
     "output_type": "execute_result"
    }
   ],
   "source": [
    "t.time()"
   ]
  },
  {
   "cell_type": "code",
   "execution_count": 16,
   "id": "55c5aefa",
   "metadata": {},
   "outputs": [],
   "source": [
    "del t"
   ]
  },
  {
   "cell_type": "code",
   "execution_count": 17,
   "id": "8c4153b2",
   "metadata": {},
   "outputs": [],
   "source": [
    "# 4. from 모듈명 import 함수 as 별칭\n",
    "#    from 패키지명 import 모듈명 as 별칭\n",
    "#    from 패키지명.모듈명 import 함수 as 별칭\n",
    "from time import ctime as ct, time as ti"
   ]
  },
  {
   "cell_type": "code",
   "execution_count": 18,
   "id": "bbf09798",
   "metadata": {},
   "outputs": [
    {
     "data": {
      "text/plain": [
       "'Fri Apr 18 11:00:08 2025'"
      ]
     },
     "execution_count": 18,
     "metadata": {},
     "output_type": "execute_result"
    }
   ],
   "source": [
    "ct()"
   ]
  },
  {
   "cell_type": "code",
   "execution_count": 19,
   "id": "ec3b4901",
   "metadata": {},
   "outputs": [
    {
     "data": {
      "text/plain": [
       "1744941610.6149685"
      ]
     },
     "execution_count": 19,
     "metadata": {},
     "output_type": "execute_result"
    }
   ],
   "source": [
    "ti()"
   ]
  },
  {
   "cell_type": "code",
   "execution_count": null,
   "id": "7b4a39c7",
   "metadata": {},
   "outputs": [],
   "source": [
    "# 2절. 사용자 정의 모듈\n",
    "- 모듈 가져오는 순서 (1) 파이썬 표준 모듈 (2) sys.path변수에 저장된 경로"
   ]
  },
  {
   "cell_type": "code",
   "execution_count": 1,
   "id": "95a1b627",
   "metadata": {},
   "outputs": [
    {
     "data": {
      "text/plain": [
       "['C:\\\\ai_x\\\\source\\\\01_python',\n",
       " 'C:\\\\Users\\\\Admin\\\\anaconda3\\\\python310.zip',\n",
       " 'C:\\\\Users\\\\Admin\\\\anaconda3\\\\DLLs',\n",
       " 'C:\\\\Users\\\\Admin\\\\anaconda3\\\\lib',\n",
       " 'C:\\\\Users\\\\Admin\\\\anaconda3',\n",
       " '',\n",
       " 'C:\\\\Users\\\\Admin\\\\anaconda3\\\\lib\\\\site-packages',\n",
       " 'C:\\\\Users\\\\Admin\\\\anaconda3\\\\lib\\\\site-packages\\\\win32',\n",
       " 'C:\\\\Users\\\\Admin\\\\anaconda3\\\\lib\\\\site-packages\\\\win32\\\\lib',\n",
       " 'C:\\\\Users\\\\Admin\\\\anaconda3\\\\lib\\\\site-packages\\\\Pythonwin']"
      ]
     },
     "execution_count": 1,
     "metadata": {},
     "output_type": "execute_result"
    }
   ],
   "source": [
    "import sys\n",
    "sys.path"
   ]
  },
  {
   "cell_type": "code",
   "execution_count": 2,
   "id": "c02c9497",
   "metadata": {},
   "outputs": [],
   "source": [
    "sys.path.append(r'C:\\ai_x\\source\\pylib')"
   ]
  },
  {
   "cell_type": "code",
   "execution_count": 3,
   "id": "9ce46986",
   "metadata": {},
   "outputs": [
    {
     "data": {
      "text/plain": [
       "['C:\\\\ai_x\\\\source\\\\01_python',\n",
       " 'C:\\\\Users\\\\Admin\\\\anaconda3\\\\python310.zip',\n",
       " 'C:\\\\Users\\\\Admin\\\\anaconda3\\\\DLLs',\n",
       " 'C:\\\\Users\\\\Admin\\\\anaconda3\\\\lib',\n",
       " 'C:\\\\Users\\\\Admin\\\\anaconda3',\n",
       " '',\n",
       " 'C:\\\\Users\\\\Admin\\\\anaconda3\\\\lib\\\\site-packages',\n",
       " 'C:\\\\Users\\\\Admin\\\\anaconda3\\\\lib\\\\site-packages\\\\win32',\n",
       " 'C:\\\\Users\\\\Admin\\\\anaconda3\\\\lib\\\\site-packages\\\\win32\\\\lib',\n",
       " 'C:\\\\Users\\\\Admin\\\\anaconda3\\\\lib\\\\site-packages\\\\Pythonwin',\n",
       " 'C:\\\\ai_x\\\\source\\\\pylib']"
      ]
     },
     "execution_count": 3,
     "metadata": {},
     "output_type": "execute_result"
    }
   ],
   "source": [
    "sys.path"
   ]
  },
  {
   "cell_type": "markdown",
   "id": "85d16087",
   "metadata": {},
   "source": [
    "# 2절. 사용자 정의 모듈"
   ]
  },
  {
   "cell_type": "code",
   "execution_count": 4,
   "id": "d659659b",
   "metadata": {},
   "outputs": [
    {
     "name": "stdout",
     "output_type": "stream",
     "text": [
      "0 1 1 2 3 5 8 13 21 34 55 89 144 \n",
      "\n",
      "[0, 1, 1, 2, 3, 5, 8, 13, 21, 34, 55, 89]\n"
     ]
    }
   ],
   "source": [
    "# 1\n",
    "import fibo\n",
    "fibo.fibonacci_print(200)\n",
    "print(fibo.fibonacci_return(100))"
   ]
  },
  {
   "cell_type": "code",
   "execution_count": 5,
   "id": "e6679d5d",
   "metadata": {},
   "outputs": [
    {
     "name": "stdout",
     "output_type": "stream",
     "text": [
      "0 1 1 2 3 5 8 13 21 34 55 89 144 \n"
     ]
    }
   ],
   "source": [
    "# 2\n",
    "from fibo import fibonacci_print\n",
    "fibonacci_print(200)"
   ]
  },
  {
   "cell_type": "code",
   "execution_count": 6,
   "id": "b9059cf6",
   "metadata": {},
   "outputs": [
    {
     "name": "stdout",
     "output_type": "stream",
     "text": [
      "0 1 1 2 3 5 8 13 21 34 55 89 144 \n",
      "\n",
      "[0, 1, 1, 2, 3, 5, 8, 13, 21, 34, 55, 89]\n"
     ]
    }
   ],
   "source": [
    "# 3\n",
    "import fibo as f\n",
    "f.fibonacci_print(200)\n",
    "print(f.fibonacci_return(100))"
   ]
  },
  {
   "cell_type": "code",
   "execution_count": 7,
   "id": "2e3532b7",
   "metadata": {},
   "outputs": [
    {
     "name": "stdout",
     "output_type": "stream",
     "text": [
      "\n"
     ]
    },
    {
     "data": {
      "text/plain": [
       "[0, 1, 1, 2, 3, 5, 8, 13, 21, 34, 55, 89, 144, 233]"
      ]
     },
     "execution_count": 7,
     "metadata": {},
     "output_type": "execute_result"
    }
   ],
   "source": [
    "# 4\n",
    "from fibo import fibonacci_return as fibo_r\n",
    "fibo_r(300)"
   ]
  },
  {
   "cell_type": "markdown",
   "id": "8484a90a",
   "metadata": {},
   "source": [
    "# 3절. 사용자 정의 패키지와 모듈"
   ]
  },
  {
   "cell_type": "code",
   "execution_count": 8,
   "id": "af41a7b7",
   "metadata": {},
   "outputs": [
    {
     "name": "stdout",
     "output_type": "stream",
     "text": [
      "sample_pac 패키지를 로드 했습니다.\n"
     ]
    }
   ],
   "source": [
    "import sample_pac"
   ]
  },
  {
   "cell_type": "code",
   "execution_count": 9,
   "id": "a29bcd4b",
   "metadata": {},
   "outputs": [
    {
     "name": "stdout",
     "output_type": "stream",
     "text": [
      "sample_pac패키지 안의 ab패키지 로드됩니다\n"
     ]
    }
   ],
   "source": [
    "from sample_pac.ab import *"
   ]
  },
  {
   "cell_type": "code",
   "execution_count": 10,
   "id": "502158a1",
   "metadata": {},
   "outputs": [
    {
     "name": "stdout",
     "output_type": "stream",
     "text": [
      "sample_pac/ab/ab/a 모듈의 hello\n"
     ]
    }
   ],
   "source": [
    "a.hello()"
   ]
  },
  {
   "cell_type": "code",
   "execution_count": 11,
   "id": "a526ec37",
   "metadata": {},
   "outputs": [
    {
     "ename": "NameError",
     "evalue": "name 'b' is not defined",
     "output_type": "error",
     "traceback": [
      "\u001b[1;31m---------------------------------------------------------------------------\u001b[0m",
      "\u001b[1;31mNameError\u001b[0m                                 Traceback (most recent call last)",
      "Cell \u001b[1;32mIn[11], line 1\u001b[0m\n\u001b[1;32m----> 1\u001b[0m \u001b[43mb\u001b[49m\u001b[38;5;241m.\u001b[39mworld()\n",
      "\u001b[1;31mNameError\u001b[0m: name 'b' is not defined"
     ]
    }
   ],
   "source": [
    "b.world()"
   ]
  },
  {
   "cell_type": "code",
   "execution_count": 12,
   "id": "cbd8e63b",
   "metadata": {},
   "outputs": [
    {
     "name": "stdout",
     "output_type": "stream",
     "text": [
      "sample_pac/ab/b 모듈 안의 world\n"
     ]
    }
   ],
   "source": [
    "from sample_pac.ab.b import world\n",
    "world()"
   ]
  },
  {
   "cell_type": "code",
   "execution_count": 13,
   "id": "1baed323",
   "metadata": {},
   "outputs": [
    {
     "name": "stdout",
     "output_type": "stream",
     "text": [
      "sample_pac/cd/c 모듈안의 nice\n",
      "sample_pac/ab/ab/a 모듈의 hello\n"
     ]
    }
   ],
   "source": [
    "import sample_pac.cd.c as c\n",
    "c.nice()"
   ]
  },
  {
   "cell_type": "code",
   "execution_count": 14,
   "id": "bbd07e32",
   "metadata": {},
   "outputs": [
    {
     "name": "stdout",
     "output_type": "stream",
     "text": [
      "sample_pac/ab/ab/a 모듈의 hello\n"
     ]
    }
   ],
   "source": [
    "c.a.hello()"
   ]
  },
  {
   "cell_type": "markdown",
   "id": "a3431067",
   "metadata": {},
   "source": [
    "# 4절. 패키지 설치 및 삭제\n",
    "pypi.org\n",
    "* 아나콘다 프롬프트에서 실행\n",
    "- 패키지 설치 : pip install 패키지명[==버전] / conda install 패키지명[==버전]\n",
    "               pip install 패키지화일명 (*.whl 출처: ptpi.org\n",
    "- 패키지 확인 : pip show 패키지명            / conda list 패키지명\n",
    "- 패키지 삭제 : pip uninstall 패키지명       / conda remove 패키지명"
   ]
  },
  {
   "cell_type": "code",
   "execution_count": 17,
   "id": "abfdcf75",
   "metadata": {},
   "outputs": [],
   "source": [
    "import objgraph # 메모리 사용량 출력하는 함수"
   ]
  },
  {
   "cell_type": "code",
   "execution_count": 18,
   "id": "e2f30532",
   "metadata": {},
   "outputs": [
    {
     "data": {
      "text/plain": [
       "['C:\\\\ai_x\\\\source\\\\01_python',\n",
       " 'C:\\\\Users\\\\Admin\\\\anaconda3\\\\python310.zip',\n",
       " 'C:\\\\Users\\\\Admin\\\\anaconda3\\\\DLLs',\n",
       " 'C:\\\\Users\\\\Admin\\\\anaconda3\\\\lib',\n",
       " 'C:\\\\Users\\\\Admin\\\\anaconda3',\n",
       " '',\n",
       " 'C:\\\\Users\\\\Admin\\\\anaconda3\\\\lib\\\\site-packages',\n",
       " 'C:\\\\Users\\\\Admin\\\\anaconda3\\\\lib\\\\site-packages\\\\win32',\n",
       " 'C:\\\\Users\\\\Admin\\\\anaconda3\\\\lib\\\\site-packages\\\\win32\\\\lib',\n",
       " 'C:\\\\Users\\\\Admin\\\\anaconda3\\\\lib\\\\site-packages\\\\Pythonwin',\n",
       " 'C:\\\\ai_x\\\\source\\\\pylib']"
      ]
     },
     "execution_count": 18,
     "metadata": {},
     "output_type": "execute_result"
    }
   ],
   "source": [
    "import sys\n",
    "sys.path"
   ]
  },
  {
   "cell_type": "code",
   "execution_count": 19,
   "id": "6b525818",
   "metadata": {},
   "outputs": [
    {
     "name": "stdout",
     "output_type": "stream",
     "text": [
      "dict                       20828\n",
      "function                   18542\n",
      "Token                      16782\n",
      "list                       13653\n",
      "tuple                      12618\n",
      "ReferenceType              5472\n",
      "builtin_function_or_method 3280\n",
      "cell                       2575\n",
      "type                       2537\n",
      "Name                       2505\n"
     ]
    }
   ],
   "source": [
    "objgraph.show_most_common_types()"
   ]
  },
  {
   "cell_type": "markdown",
   "id": "6053e762",
   "metadata": {},
   "source": [
    "# 5절. 연습문제"
   ]
  },
  {
   "cell_type": "code",
   "execution_count": null,
   "id": "f29f715c",
   "metadata": {},
   "outputs": [],
   "source": [
    "# 1 (3)\n",
    "# 2 (4)\n",
    "# 3 __init__.py\n",
    "# 4 __all__\n",
    "# 5 (1) python -m pip install --upgrade pip (pip 최신버전 upgrade)"
   ]
  },
  {
   "cell_type": "code",
   "execution_count": null,
   "id": "94a14b45",
   "metadata": {},
   "outputs": [],
   "source": []
  },
  {
   "cell_type": "code",
   "execution_count": null,
   "id": "ef1b79ca",
   "metadata": {},
   "outputs": [],
   "source": []
  },
  {
   "cell_type": "code",
   "execution_count": null,
   "id": "c3d39e9b",
   "metadata": {},
   "outputs": [],
   "source": []
  }
 ],
 "metadata": {
  "kernelspec": {
   "display_name": "Python 3 (ipykernel)",
   "language": "python",
   "name": "python3"
  },
  "language_info": {
   "codemirror_mode": {
    "name": "ipython",
    "version": 3
   },
   "file_extension": ".py",
   "mimetype": "text/x-python",
   "name": "python",
   "nbconvert_exporter": "python",
   "pygments_lexer": "ipython3",
   "version": "3.10.9"
  },
  "toc": {
   "base_numbering": 1,
   "nav_menu": {},
   "number_sections": false,
   "sideBar": true,
   "skip_h1_title": false,
   "title_cell": "Table of Contents",
   "title_sidebar": "Contents",
   "toc_cell": false,
   "toc_position": {
    "height": "calc(100% - 180px)",
    "left": "10px",
    "top": "150px",
    "width": "279px"
   },
   "toc_section_display": true,
   "toc_window_display": true
  }
 },
 "nbformat": 4,
 "nbformat_minor": 5
}
