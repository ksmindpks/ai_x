{
 "cells": [
  {
   "cell_type": "code",
   "execution_count": 2,
   "id": "3f917485",
   "metadata": {},
   "outputs": [
    {
     "data": {
      "text/html": [
       "\n",
       "<style>\n",
       "div.container{width:86% !important;}\n",
       "div.cell.code_cell.rendered{width:100%;}\n",
       "div.CodeMirror {font-family:Consolas; font-size:15pt;}\n",
       "div.output {font-size:15pt; font-weight:bold;}\n",
       "div.input {font-family:Consolas; font-size:15pt;}\n",
       "div.prompt {min-width:70px;}\n",
       "div#toc-wrapper{padding-top:120px;}\n",
       "div.text_cell_render ul li{font-size:12pt;padding:5px;}\n",
       "table.dataframe{font-size:15px;}\n",
       "</style>\n"
      ],
      "text/plain": [
       "<IPython.core.display.HTML object>"
      ]
     },
     "metadata": {},
     "output_type": "display_data"
    }
   ],
   "source": [
    "from IPython.display import display, HTML \n",
    "display(HTML(\"\"\"\n",
    "<style>\n",
    "div.container{width:86% !important;}\n",
    "div.cell.code_cell.rendered{width:100%;}\n",
    "div.CodeMirror {font-family:Consolas; font-size:15pt;}\n",
    "div.output {font-size:15pt; font-weight:bold;}\n",
    "div.input {font-family:Consolas; font-size:15pt;}\n",
    "div.prompt {min-width:70px;}\n",
    "div#toc-wrapper{padding-top:120px;}\n",
    "div.text_cell_render ul li{font-size:12pt;padding:5px;}\n",
    "table.dataframe{font-size:15px;}\n",
    "</style>\n",
    "\"\"\"))"
   ]
  },
  {
   "cell_type": "code",
   "execution_count": null,
   "id": "50ad0acb",
   "metadata": {},
   "outputs": [],
   "source": [
    "<font size=\"5\" color=\"red\">ch02 자료형과 연산자 </font>\n",
    "\n",
    "\n",
    "# 5절. 연산자\n",
    "## 5.1 산술연산자 : +, - , *, /, //(몫연산자), %(나머지), **(제곱)"
   ]
  },
  {
   "cell_type": "code",
   "execution_count": 4,
   "id": "a0ab2a10",
   "metadata": {},
   "outputs": [
    {
     "name": "stdout",
     "output_type": "stream",
     "text": [
      "10의 5승 : 10000000000\n",
      "4/2(결과 실수) : 2.5\n",
      "4//2(결과 몫) : 2\n",
      "4%2(결과 나머지) : 1\n"
     ]
    }
   ],
   "source": [
    "print('10의 5승 :', 100**5)\n",
    "print('4/2(결과 실수) :', 5/2)\n",
    "print('4//2(결과 몫) :', 5//2)\n",
    "print('4%2(결과 나머지) :', 5%2)"
   ]
  },
  {
   "cell_type": "code",
   "execution_count": 6,
   "id": "3eb2e536",
   "metadata": {},
   "outputs": [
    {
     "name": "stdout",
     "output_type": "stream",
     "text": [
      "정수를 입력하세요:4\n",
      "입력한 숫자는 4이고 2로 나눈 나머지는 0. 그래서 짝수를 입력하셨습니다\n"
     ]
    }
   ],
   "source": [
    "# quiz 1. 정수를 입력받아 짝수인지 홀수인지 여부를 출력\n",
    "num = int(input('정수를 입력하세요:'))\n",
    "result = num % 2\n",
    "if result:\n",
    "    print('입력한 숫자는 {}이고 2로 나눈 나머지는 {}. 그래서 홀수를 입력하셨습니다'.format(num, result))\n",
    "else:\n",
    "    print('입력한 숫자는 {}이고 2로 나눈 나머지는 {}. 그래서 짝수를 입력하셨습니다'.format(num, result))"
   ]
  },
  {
   "cell_type": "code",
   "execution_count": 9,
   "id": "18ffac23",
   "metadata": {},
   "outputs": [
    {
     "name": "stdout",
     "output_type": "stream",
     "text": [
      "정수를 입력하세요:3\n",
      "입력한 숫자는 3이고 2로 나눈 나머지는 1. 그래서 홀수를 입력하셨습니다\n",
      "입력한 숫자는 3이고 2로 나눈 나머지는 1. 그래서 홀수를 입력하셨습니다\n"
     ]
    }
   ],
   "source": [
    "num = int(input('정수를 입력하세요:'))\n",
    "result = num % 2\n",
    "if result:\n",
    "    temp = '홀수'\n",
    "else:\n",
    "    temp = '짝수'\n",
    "print('입력한 숫자는 {}이고 2로 나눈 나머지는 {}. 그래서 {}를 입력하셨습니다'.format(num, result, temp))\n",
    "print(f'입력한 숫자는 {num}이고 2로 나눈 나머지는 {result}. 그래서 {temp}를 입력하셨습니다')"
   ]
  },
  {
   "cell_type": "code",
   "execution_count": 11,
   "id": "de31858d",
   "metadata": {},
   "outputs": [
    {
     "name": "stdout",
     "output_type": "stream",
     "text": [
      "정수를 입력하세요:11\n",
      "입력한 숫자는 11이고 5로 나눈 나머지는 1. 그래서 5의 배수가 아닙니다.\n"
     ]
    }
   ],
   "source": [
    "# quiz 2. 정수를 입력받아 5의 배수인지 여부를 출력\n",
    "num = int(input('정수를 입력하세요:'))\n",
    "result = num % 5\n",
    "if result:\n",
    "    temp = '5의 배수가 아닙니다.'\n",
    "else:\n",
    "    temp = '5의 배수가 맞습니다.'\n",
    "print(f'입력한 숫자는 {num}이고 5로 나눈 나머지는 {result}. 그래서 {temp}')"
   ]
  },
  {
   "cell_type": "code",
   "execution_count": 18,
   "id": "de8117ec",
   "metadata": {},
   "outputs": [
    {
     "name": "stdout",
     "output_type": "stream",
     "text": [
      "국어 점수를 입력하세요:56\n",
      "영어 점수를 입력하세요:67\n",
      "수학 점수를 입력하세요:78\n",
      "국어: 56\t영어: 67\t수학: 78\n",
      "총점:201\t평균: 67.0\n",
      "국어: 56\t영어: 67\t수학: 78\n",
      "총점:201\t평균: 67.0\n"
     ]
    }
   ],
   "source": [
    "# quiz 3. 국, 영, 수 점수를 입력받아 다음셀에서 다음과 같이 출력하도록 구현하시오\n",
    "# 국어: 99      영어: 88      수학: 99\n",
    "# 총점:296      평균: 98.7\n",
    "\n",
    "num_k = int(input('국어 점수를 입력하세요:'))\n",
    "num_e = int(input('영어 점수를 입력하세요:'))\n",
    "num_m = int(input('수학 점수를 입력하세요:'))\n",
    "\n",
    "sum = num_k + num_e + num_m\n",
    "avg = sum / 3\n",
    "\n",
    "print(f'국어:{num_k:3d}\\t영어:{num_e:3d}\\t수학:{num_m:3d}\\n총점:{sum:3d}\\t평균:{avg:5.1f}')\n",
    "print(f'국어:{num_k:3d}\\t영어:{num_e:3d}\\t수학:{num_m:3d}')\n",
    "print(f'총점:{sum:3d}\\t평균:{avg:5.1f}')"
   ]
  },
  {
   "cell_type": "markdown",
   "id": "f8f679ed",
   "metadata": {},
   "source": [
    "## 5.2 할당연산자: =, +=, -=, *=, /=, //=, %="
   ]
  },
  {
   "cell_type": "code",
   "execution_count": 19,
   "id": "ae407cd1",
   "metadata": {},
   "outputs": [
    {
     "name": "stdout",
     "output_type": "stream",
     "text": [
      "5더하기 : 15\n"
     ]
    }
   ],
   "source": [
    "a = 10\n",
    "a += 5 # a = a + 5\n",
    "print('5더하기 :', a)"
   ]
  },
  {
   "cell_type": "code",
   "execution_count": 20,
   "id": "78d2a80f",
   "metadata": {},
   "outputs": [
    {
     "name": "stdout",
     "output_type": "stream",
     "text": [
      "5빼기 : 10\n",
      "5배 : 50\n"
     ]
    }
   ],
   "source": [
    "a -= 5 # a = a - 5\n",
    "print('5빼기 :', a)\n",
    "a *= 5 # a = a * 5\n",
    "print('5배 :', a)"
   ]
  },
  {
   "cell_type": "markdown",
   "id": "d811762f",
   "metadata": {},
   "source": [
    "## 5.3 논리연산자: &, and, |, or, not"
   ]
  },
  {
   "cell_type": "code",
   "execution_count": 25,
   "id": "9694e3cf",
   "metadata": {},
   "outputs": [
    {
     "name": "stdout",
     "output_type": "stream",
     "text": [
      "True\n",
      "0\n",
      "False\n",
      "True\n"
     ]
    }
   ],
   "source": [
    "# & 논리연산\n",
    "print((10>3) & (10>5)) # 논리연산 True & True\n",
    "print(12 & 1) # 비트연산 12 : 0000 1100\n",
    "              #          1 : 0000 0001\n",
    "              #     12 & 1 : 0000 0000\n",
    "print(bool(12 & 1))\n",
    "print(bool(12 & 4))"
   ]
  },
  {
   "cell_type": "code",
   "execution_count": 27,
   "id": "39cb495a",
   "metadata": {},
   "outputs": [
    {
     "name": "stdout",
     "output_type": "stream",
     "text": [
      "False\n",
      "0\n",
      "[]\n"
     ]
    }
   ],
   "source": [
    "# and : False로 판별되는 첫번째 항의 결과 반환\n",
    "#       모든 항이 참이면 마지막 항을 반환\n",
    "print(False and 1 and 3)\n",
    "print(0 and True)\n",
    "print(True and '[]')"
   ]
  },
  {
   "cell_type": "code",
   "execution_count": 29,
   "id": "89e1ef27",
   "metadata": {},
   "outputs": [
    {
     "name": "stdout",
     "output_type": "stream",
     "text": [
      "논리연산(연산자 앞뒤에 논리형일 때) : True\n",
      "비트연산(연산자 앞이나 뒤에 숫자일 때) 3\n"
     ]
    }
   ],
   "source": [
    "# | : 논리연산, 비트연산\n",
    "result = False | True\n",
    "print('논리연산(연산자 앞뒤에 논리형일 때) :', result)\n",
    "result = False | 3 # 0000 0000 (false)\n",
    "                   # 0000 0011 (3)\n",
    "print('비트연산(연산자 앞이나 뒤에 숫자일 때)', result)"
   ]
  },
  {
   "cell_type": "code",
   "execution_count": 31,
   "id": "dcf938c6",
   "metadata": {},
   "outputs": [
    {
     "name": "stdout",
     "output_type": "stream",
     "text": [
      "None\n",
      "Hong\n",
      "False\n"
     ]
    }
   ],
   "source": [
    "# or : 논리연산, 참으로 판별되는 첫번째 항을 반환\n",
    "#      모든 항이 거짓이면, 마지막항을 반환\n",
    "print(False or False or None)\n",
    "print('Hong' or ' ' or False)\n",
    "print(not True)"
   ]
  },
  {
   "cell_type": "markdown",
   "id": "df4773b6",
   "metadata": {},
   "source": [
    "## 5.4 비교연산자 : >, >=, <, <=, ==(같다), !=(다르다)"
   ]
  },
  {
   "cell_type": "code",
   "execution_count": 32,
   "id": "66acefea",
   "metadata": {},
   "outputs": [
    {
     "name": "stdout",
     "output_type": "stream",
     "text": [
      "True\n",
      "True\n"
     ]
    }
   ],
   "source": [
    "# 비교연산자는 이항, 삼항, 사항... 다항연산자\n",
    "x = 5\n",
    "print((4 < x) & (x < 10))\n",
    "print(4 < x < 10)"
   ]
  },
  {
   "cell_type": "code",
   "execution_count": 34,
   "id": "95cadb8d",
   "metadata": {},
   "outputs": [
    {
     "name": "stdout",
     "output_type": "stream",
     "text": [
      "True\n",
      "False\n",
      "False\n",
      "True\n"
     ]
    }
   ],
   "source": [
    "# 비교연산자(<)의 우선순위가 논리연산(&)의 우선순위보다 낮다\n",
    "print((10>5) & (10>7))\n",
    "print(10>5 & 10>7) # 0101 (5)\n",
    "                   # 1010 (10)\n",
    "print(10> 0 >7)\n",
    "print(10>5 and 10>7)"
   ]
  },
  {
   "cell_type": "code",
   "execution_count": 36,
   "id": "b8437e1b",
   "metadata": {},
   "outputs": [
    {
     "name": "stdout",
     "output_type": "stream",
     "text": [
      "False\n"
     ]
    }
   ],
   "source": [
    "address = '서울'\n",
    "age = 29\n",
    "# print(address == '서울' & age >= 30)\n",
    "print((address == '서울') & (age >= 30))\n",
    "print((address != '서울') & (age >= 30))"
   ]
  },
  {
   "cell_type": "code",
   "execution_count": 41,
   "id": "94f8783b",
   "metadata": {},
   "outputs": [
    {
     "data": {
      "text/plain": [
       "True"
      ]
     },
     "execution_count": 41,
     "metadata": {},
     "output_type": "execute_result"
    }
   ],
   "source": [
    "# 문자 비교 : ASCII 코드 순으로 비교 가능 (특수문자 < 숫자 < 대문자 < 소문자)\n",
    "'scott' < 'sctiger'"
   ]
  },
  {
   "cell_type": "code",
   "execution_count": 42,
   "id": "fe7c476b",
   "metadata": {},
   "outputs": [
    {
     "data": {
      "text/plain": [
       "True"
      ]
     },
     "execution_count": 42,
     "metadata": {},
     "output_type": "execute_result"
    }
   ],
   "source": [
    "'9' > '10'"
   ]
  },
  {
   "cell_type": "code",
   "execution_count": 43,
   "id": "9e218a6f",
   "metadata": {},
   "outputs": [
    {
     "data": {
      "text/plain": [
       "True"
      ]
     },
     "execution_count": 43,
     "metadata": {},
     "output_type": "execute_result"
    }
   ],
   "source": [
    "'김길' < '홍길도'"
   ]
  },
  {
   "cell_type": "markdown",
   "id": "c5551ee9",
   "metadata": {},
   "source": [
    "## 5.5 비트연산자 : &, |, ^(XOR), ~"
   ]
  },
  {
   "cell_type": "code",
   "execution_count": null,
   "id": "01b0d6a7",
   "metadata": {},
   "outputs": [],
   "source": [
    "x y  x&y  x^y\n",
    "0 0   0    0\n",
    "0 1   0    1\n",
    "1 0   0    1\n",
    "1 1   1    0"
   ]
  },
  {
   "cell_type": "code",
   "execution_count": 44,
   "id": "f053c12d",
   "metadata": {},
   "outputs": [
    {
     "name": "stdout",
     "output_type": "stream",
     "text": [
      " a = 15 : 1111\n",
      " b =  2 : 0010\n",
      "a^b= 13 : 1101\n"
     ]
    }
   ],
   "source": [
    "a = 15 # 1111\n",
    "b =  2 # 0010\n",
    "print(\" a = {0:2} : {0:04b}\".format(a))\n",
    "print(\" b = {0:2} : {0:04b}\".format(b))\n",
    "print(\"a^b= {0:2} : {0:04b}\".format(a^b))"
   ]
  },
  {
   "cell_type": "code",
   "execution_count": 165,
   "id": "66773ccf",
   "metadata": {},
   "outputs": [
    {
     "ename": "IndentationError",
     "evalue": "unexpected indent (3466476047.py, line 2)",
     "output_type": "error",
     "traceback": [
      "\u001b[1;36m  Cell \u001b[1;32mIn[165], line 2\u001b[1;36m\u001b[0m\n\u001b[1;33m    - 산술연산 : + - * / ?? % **\u001b[0m\n\u001b[1;37m    ^\u001b[0m\n\u001b[1;31mIndentationError\u001b[0m\u001b[1;31m:\u001b[0m unexpected indent\n"
     ]
    }
   ],
   "source": [
    "### 연산자\n",
    "    - 산술연산 : + - * / ?? % **\n",
    "    - 할당연산 : = += -= *= /= //= %=\n",
    "    - 논리연산 : & and | or not\n",
    "    - 비트연산 : & | ^\n",
    "    - &와 |은 비교연산자보다우선순위가 높다"
   ]
  },
  {
   "cell_type": "markdown",
   "id": "d0e1455d",
   "metadata": {},
   "source": [
    "# 6절. 문자열 다루기\n",
    "- 문자열 슬라이싱 변수[form:stop:step]\n",
    "- len(문자열변수) : 문자갯수\n",
    "\n",
    "- upper() : 대문자로\n",
    "- lower() : 소문자로\n",
    "- title() : 각 어절의 첫글자만 대문자로\n",
    "- capitalize() : 첫문자만 대문자로\n",
    "- count('찾을문자열') : '찾을문자열'이 몇개 들어있는지 갯수 반환\n",
    "- find('찾을문자열') : '찾을문자열'이 왼쪽부터 시작하여 몇번째에 있는지 인덱스를 반환\n",
    "- rfind('찾을문자열') :  '찾을문자열'이 오른쪽부터 시작하여 몇번째에 있는지 인덱스를 반환\n",
    "        **찾을문자열이 없으면 -1을 반환**\n",
    "    cf) index('찾을문자열') : '찾을문자열'의 인덱스를 반환, 찾을문자열이 없으면 오류\n",
    "- startswith('특정문자열') : '특정문자열'로 시작하는지 여부\n",
    "- endswith('특정문자열') : '특정문자열'로 끝나는지 여부\n",
    "- strip() : 좌우 공백 제거\n",
    "- rstrip() : 오른쪽 공백 제거\n",
    "- lstrip() : 왼쪽 공백 제거\n",
    "- isdigit() : 문자열이 숫자문자열인지 여부\n",
    "- islower() : 소문자 문자열인지 여부\n",
    "- isupper() : 대문자 문자열인지 여부\n",
    "- replace(oldStr, newStr) : oldStr을 nweStr로 변경"
   ]
  },
  {
   "cell_type": "code",
   "execution_count": 79,
   "id": "e712508e",
   "metadata": {},
   "outputs": [
    {
     "name": "stdout",
     "output_type": "stream",
     "text": [
      "1. 글자수 : 39\n",
      "2. 대문자로 : PYTHON IS EASY. PYTHON IS SMART. PYTHON\n",
      "3. 소문자로 : python is easy. python is smart. python\n",
      "4. 단어 첫글자 대문자로 : Python Is Easy. Python Is Smart. Python\n",
      "5. 첫문자만 대문자로 : Python is easy. python is smart. python\n",
      "6. python이 몇번 나오는지 : 2\n",
      "7. 대소문자 구분없이 python이 몇번 나오는지 : 3\n",
      "7. 대소문자 구분없이 python이 몇번 나오는지 : 3\n",
      "7. 대소문자 구분없이 python이 몇번 나오는지 : 3\n",
      "8. python이 나오는 첫 index 위치 : 0\n",
      "8. python이 나오는 마지막 index 위치 : 33\n",
      "8. java가 나오는 마지막 index 위치 : -1\n",
      "8. python이 나오는 첫 index 위치 : 0\n",
      "9. python으로 시작하는지 여부 : True\n",
      "9. python으로 끝나는지 여부 : False\n",
      "10. 대소문자 구분없이 python으로 끝나는지 여부 : True\n"
     ]
    }
   ],
   "source": [
    "temp = 'python is easy. pYThon is smart. python'\n",
    "#       012345678901234567890123456789012345678\n",
    "print('1. 글자수 :', len(temp))\n",
    "print('2. 대문자로 :', temp.upper())\n",
    "print('3. 소문자로 :', temp.lower())\n",
    "print('4. 단어 첫글자 대문자로 :', temp.title())\n",
    "print('5. 첫문자만 대문자로 :', temp.capitalize())\n",
    "print('6. python이 몇번 나오는지 :', temp.count('python'))\n",
    "print('7. 대소문자 구분없이 python이 몇번 나오는지 :', temp.lower().count('python'))\n",
    "print('7. 대소문자 구분없이 python이 몇번 나오는지 :', temp.upper().count('PYTHON'))\n",
    "print('7. 대소문자 구분없이 python이 몇번 나오는지 :', temp.title().count('Python'))\n",
    "print('8. python이 나오는 첫 index 위치 :', temp.find('python'))\n",
    "print('8. python이 나오는 마지막 index 위치 :', temp.rfind('python'))\n",
    "print('8. java가 나오는 마지막 index 위치 :', temp.rfind('java'))\n",
    "print('8. python이 나오는 첫 index 위치 :', temp.index('python'))\n",
    "#print('8. java가 나오는 마지막 index 위치 :', temp.index('java'))\n",
    "print('9. python으로 시작하는지 여부 :', temp.startswith('python'))\n",
    "print('9. python으로 끝나는지 여부 :', temp.endswith('PYTHON'))\n",
    "print('10. 대소문자 구분없이 python으로 끝나는지 여부 :', temp.upper().endswith('PYTHON'))"
   ]
  },
  {
   "cell_type": "code",
   "execution_count": 73,
   "id": "4b82c760",
   "metadata": {},
   "outputs": [
    {
     "name": "stdout",
     "output_type": "stream",
     "text": [
      "11. 좌우공백제거 : [python is easy.]\n",
      "11. 좌측공백제거 : [python is easy.        ]\n",
      "11. 우측공백제거 : [         python is easy.]\n",
      "12. 숫자문자열인지 :  False\n",
      "13. 소문자문자열인지 :  True\n",
      "13. 대문자문자열인지 :  False\n",
      "14. ','제거 :  1000000\n",
      "14. ','제거 :  1000\n"
     ]
    }
   ],
   "source": [
    "temp = '         python is easy.        '\n",
    "notdigit = '1,000,000'\n",
    "num_str = '1000'\n",
    "print('11. 좌우공백제거 : [{}]'.format(temp.strip()))\n",
    "print('11. 좌측공백제거 : [{}]'.format(temp.lstrip()))\n",
    "print('11. 우측공백제거 : [{}]'.format(temp.rstrip()))\n",
    "print('12. 숫자문자열인지 : ', notdigit.isdigit())\n",
    "print('13. 소문자문자열인지 : ', temp.islower())\n",
    "print('13. 대문자문자열인지 : ', temp.isupper())\n",
    "print('14. \\',\\'제거 : ', notdigit.replace(',', ''))\n",
    "print('14. \\',\\'제거 : ', num_str.replace(',', ''))"
   ]
  },
  {
   "cell_type": "code",
   "execution_count": 77,
   "id": "126a609b",
   "metadata": {},
   "outputs": [
    {
     "name": "stdout",
     "output_type": "stream",
     "text": [
      "space 단위로 temp를 분리 : ['홍길도', '김길동', '신길똥', '유길도']\n"
     ]
    }
   ],
   "source": [
    "temp = ' 홍길도   김길동 신길똥 유길도'\n",
    "print('space 단위로 temp를 분리 :', temp.split()) #기본이 space 단위로 분리"
   ]
  },
  {
   "cell_type": "code",
   "execution_count": 81,
   "id": "67a788bd",
   "metadata": {},
   "outputs": [
    {
     "name": "stdout",
     "output_type": "stream",
     "text": [
      " - 단위로 data를 분리(결과 list)\n",
      "['2025', '04', '10']\n",
      "년:  2025\n",
      "월:  04\n",
      "일:  10\n"
     ]
    }
   ],
   "source": [
    "data = '2025-04-10'\n",
    "print(' - 단위로 data를 분리(결과 list)')\n",
    "data_list = data.split('-')\n",
    "print(data_list)\n",
    "print('년: ', data_list[0])\n",
    "print('월: ', data_list[1])\n",
    "print('일: ', data_list[2])"
   ]
  },
  {
   "cell_type": "code",
   "execution_count": 86,
   "id": "4f7d0184",
   "metadata": {},
   "outputs": [
    {
     "name": "stdout",
     "output_type": "stream",
     "text": [
      "원 데이터 : Python - HTML/CSS - JavaScript(jQuery, node, react) - DBMS(Oracle, MySql) - 딥러닝(DNN, CNN, RNN) - 머시러닝\n",
      "분리된 데이터 : ['Python', 'HTML/CSS', 'JavaScript(jQuery, node, react)', 'DBMS(Oracle, MySql)', '딥러닝(DNN, CNN, RNN)', '머시러닝']\n",
      "join된 데이터 : Python/HTML/CSS/JavaScript(jQuery, node, react)/DBMS(Oracle, MySql)/딥러닝(DNN, CNN, RNN)/머시러닝\n"
     ]
    }
   ],
   "source": [
    "# ' - '을 '/로 바꾸기'\n",
    "temp = 'Python - HTML/CSS - JavaScript(jQuery, node, react)\\\n",
    " - DBMS(Oracle, MySql) - 딥러닝(DNN, CNN, RNN) - 머시러닝'\n",
    "# temp.replace(' - ', '/')\n",
    "print('원 데이터 :', temp)\n",
    "splited_temp = temp.split(' - ')\n",
    "print('분리된 데이터 :', splited_temp)\n",
    "joined_temp = '/'.join(splited_temp)\n",
    "print('join된 데이터 :', joined_temp)"
   ]
  },
  {
   "cell_type": "code",
   "execution_count": null,
   "id": "58a0b9e2",
   "metadata": {},
   "outputs": [],
   "source": [
    "str_ = 'ABC'\n",
    "# str_ = ['A', 'B', 'C']"
   ]
  },
  {
   "cell_type": "code",
   "execution_count": 87,
   "id": "828d43e5",
   "metadata": {},
   "outputs": [
    {
     "data": {
      "text/plain": [
       "['__add__',\n",
       " '__class__',\n",
       " '__contains__',\n",
       " '__delattr__',\n",
       " '__dir__',\n",
       " '__doc__',\n",
       " '__eq__',\n",
       " '__format__',\n",
       " '__ge__',\n",
       " '__getattribute__',\n",
       " '__getitem__',\n",
       " '__getnewargs__',\n",
       " '__gt__',\n",
       " '__hash__',\n",
       " '__init__',\n",
       " '__init_subclass__',\n",
       " '__iter__',\n",
       " '__le__',\n",
       " '__len__',\n",
       " '__lt__',\n",
       " '__mod__',\n",
       " '__mul__',\n",
       " '__ne__',\n",
       " '__new__',\n",
       " '__reduce__',\n",
       " '__reduce_ex__',\n",
       " '__repr__',\n",
       " '__rmod__',\n",
       " '__rmul__',\n",
       " '__setattr__',\n",
       " '__sizeof__',\n",
       " '__str__',\n",
       " '__subclasshook__',\n",
       " 'capitalize',\n",
       " 'casefold',\n",
       " 'center',\n",
       " 'count',\n",
       " 'encode',\n",
       " 'endswith',\n",
       " 'expandtabs',\n",
       " 'find',\n",
       " 'format',\n",
       " 'format_map',\n",
       " 'index',\n",
       " 'isalnum',\n",
       " 'isalpha',\n",
       " 'isascii',\n",
       " 'isdecimal',\n",
       " 'isdigit',\n",
       " 'isidentifier',\n",
       " 'islower',\n",
       " 'isnumeric',\n",
       " 'isprintable',\n",
       " 'isspace',\n",
       " 'istitle',\n",
       " 'isupper',\n",
       " 'join',\n",
       " 'ljust',\n",
       " 'lower',\n",
       " 'lstrip',\n",
       " 'maketrans',\n",
       " 'partition',\n",
       " 'removeprefix',\n",
       " 'removesuffix',\n",
       " 'replace',\n",
       " 'rfind',\n",
       " 'rindex',\n",
       " 'rjust',\n",
       " 'rpartition',\n",
       " 'rsplit',\n",
       " 'rstrip',\n",
       " 'split',\n",
       " 'splitlines',\n",
       " 'startswith',\n",
       " 'strip',\n",
       " 'swapcase',\n",
       " 'title',\n",
       " 'translate',\n",
       " 'upper',\n",
       " 'zfill']"
      ]
     },
     "execution_count": 87,
     "metadata": {},
     "output_type": "execute_result"
    }
   ],
   "source": [
    "# 문자열이 다룰 수 있는 함수들과 변수들 목록\n",
    "dir(str)"
   ]
  },
  {
   "cell_type": "markdown",
   "id": "fd6bed8e",
   "metadata": {},
   "source": [
    "# 7절. 시간, 날짜, 날짜시간 다루기"
   ]
  },
  {
   "cell_type": "code",
   "execution_count": 122,
   "id": "7fc7a4f1",
   "metadata": {},
   "outputs": [
    {
     "data": {
      "text/plain": [
       "'C:\\\\Users\\\\Admin\\\\anaconda3\\\\lib\\\\datetime.py'"
      ]
     },
     "execution_count": 122,
     "metadata": {},
     "output_type": "execute_result"
    }
   ],
   "source": [
    "import datetime\n",
    "datetime.__file__"
   ]
  },
  {
   "cell_type": "code",
   "execution_count": 123,
   "id": "c158a3fa",
   "metadata": {},
   "outputs": [
    {
     "data": {
      "text/plain": [
       "(datetime.datetime, datetime.date, datetime.time)"
      ]
     },
     "execution_count": 123,
     "metadata": {},
     "output_type": "execute_result"
    }
   ],
   "source": [
    "# datetime모듈(datetime.py)안의 datetime, date, time을 import\n",
    "from datetime import datetime, date, time\n",
    "datetime, date, time"
   ]
  },
  {
   "cell_type": "markdown",
   "id": "124a6d50",
   "metadata": {},
   "source": [
    "## 7.1 시간과 날짜"
   ]
  },
  {
   "cell_type": "code",
   "execution_count": 146,
   "id": "261c1f0b",
   "metadata": {},
   "outputs": [
    {
     "data": {
      "text/plain": [
       "datetime.datetime(2025, 4, 7, 9, 30)"
      ]
     },
     "execution_count": 146,
     "metadata": {},
     "output_type": "execute_result"
    }
   ],
   "source": [
    "# 특정한 시점을 갖는 date 객체 생성\n",
    "thatday = datetime(2025, 4, 7, 9, 30, 0)\n",
    "thatday"
   ]
  },
  {
   "cell_type": "code",
   "execution_count": 147,
   "id": "075a04f2",
   "metadata": {},
   "outputs": [
    {
     "name": "stdout",
     "output_type": "stream",
     "text": [
      "2025-04-07 09:30:00\n",
      "Mon Apr  7 09:30:00 2025\n",
      "2025년04월07일(월요일) 오전 09시30분 00초\n",
      "2025년04월07일(월요일) 오전 09시30분 00초\n"
     ]
    }
   ],
   "source": [
    "print(thatday)\n",
    "print(thatday.ctime()) # ctime() : 사람이 읽기 쉬운 형태로 반환\n",
    "print('{:%Y년%m월%d일(%A) %p %I시%M분 %S초}'.format(thatday))\n",
    "print(thatday.strftime('%Y년%m월%d일(%A) %p %I시%M분 %S초'))"
   ]
  },
  {
   "cell_type": "code",
   "execution_count": 148,
   "id": "ce4e408c",
   "metadata": {},
   "outputs": [
    {
     "data": {
      "text/plain": [
       "'ko_KR'"
      ]
     },
     "execution_count": 148,
     "metadata": {},
     "output_type": "execute_result"
    }
   ],
   "source": [
    "import locale\n",
    "locale.setlocale(locale.LC_TIME, 'ko_KR')"
   ]
  },
  {
   "cell_type": "code",
   "execution_count": 149,
   "id": "c9728db0",
   "metadata": {},
   "outputs": [
    {
     "name": "stdout",
     "output_type": "stream",
     "text": [
      "25-04-11(금요일) 10:17:05\n"
     ]
    }
   ],
   "source": [
    "now = datetime.now()\n",
    "print(now.strftime(\"%y-%m-%d(%A) %H:%M:%S\"))"
   ]
  },
  {
   "cell_type": "code",
   "execution_count": 150,
   "id": "4de074ad",
   "metadata": {},
   "outputs": [
    {
     "data": {
      "text/plain": [
       "datetime.timedelta(days=4, seconds=2825, microseconds=942635)"
      ]
     },
     "execution_count": 150,
     "metadata": {},
     "output_type": "execute_result"
    }
   ],
   "source": [
    "diff = now - thatday\n",
    "diff"
   ]
  },
  {
   "cell_type": "code",
   "execution_count": 151,
   "id": "7464d49a",
   "metadata": {},
   "outputs": [
    {
     "data": {
      "text/plain": [
       "4"
      ]
     },
     "execution_count": 151,
     "metadata": {},
     "output_type": "execute_result"
    }
   ],
   "source": [
    "diff.days"
   ]
  },
  {
   "cell_type": "markdown",
   "id": "f8cd9107",
   "metadata": {},
   "source": [
    "## 7.2 날짜"
   ]
  },
  {
   "cell_type": "code",
   "execution_count": 155,
   "id": "a96cc405",
   "metadata": {},
   "outputs": [
    {
     "name": "stdout",
     "output_type": "stream",
     "text": [
      "2025년09월03일\n"
     ]
    }
   ],
   "source": [
    "someday = date(2025, 9, 3)\n",
    "print(someday.strftime(\"%Y년%m월%d일\"))"
   ]
  },
  {
   "cell_type": "code",
   "execution_count": 158,
   "id": "3c13f66b",
   "metadata": {},
   "outputs": [
    {
     "data": {
      "text/plain": [
       "True"
      ]
     },
     "execution_count": 158,
     "metadata": {},
     "output_type": "execute_result"
    }
   ],
   "source": [
    "# 오늘\n",
    "today1 = datetime.now().date()\n",
    "today2 = date.today()\n",
    "today1 == today2"
   ]
  },
  {
   "cell_type": "code",
   "execution_count": 159,
   "id": "4a2b2802",
   "metadata": {},
   "outputs": [
    {
     "name": "stdout",
     "output_type": "stream",
     "text": [
      "2025년04월11일\n"
     ]
    }
   ],
   "source": [
    "print(today1.strftime(\"%Y년%m월%d일\"))"
   ]
  },
  {
   "cell_type": "code",
   "execution_count": 160,
   "id": "6b298d53",
   "metadata": {},
   "outputs": [
    {
     "data": {
      "text/plain": [
       "145"
      ]
     },
     "execution_count": 160,
     "metadata": {},
     "output_type": "execute_result"
    }
   ],
   "source": [
    "diff = someday - today\n",
    "diff.days"
   ]
  },
  {
   "cell_type": "code",
   "execution_count": 161,
   "id": "85b2685d",
   "metadata": {},
   "outputs": [
    {
     "data": {
      "text/plain": [
       "datetime.time(13, 10)"
      ]
     },
     "execution_count": 161,
     "metadata": {},
     "output_type": "execute_result"
    }
   ],
   "source": [
    "# 특정시간\n",
    "t = time(13,10)\n",
    "t"
   ]
  },
  {
   "cell_type": "code",
   "execution_count": 162,
   "id": "fe5e1143",
   "metadata": {},
   "outputs": [
    {
     "name": "stdout",
     "output_type": "stream",
     "text": [
      "13:10:00\n",
      "오후 01시 10분\n"
     ]
    }
   ],
   "source": [
    "print(t)\n",
    "print(t.strftime(\"%p %I시 %M분\"))"
   ]
  },
  {
   "cell_type": "code",
   "execution_count": 163,
   "id": "0da9b709",
   "metadata": {},
   "outputs": [
    {
     "data": {
      "text/plain": [
       "datetime.time(10, 42, 25, 762340)"
      ]
     },
     "execution_count": 163,
     "metadata": {},
     "output_type": "execute_result"
    }
   ],
   "source": [
    "# 지금시간\n",
    "now_time = datetime.now().time()\n",
    "now_time"
   ]
  },
  {
   "cell_type": "code",
   "execution_count": 164,
   "id": "ac9546c2",
   "metadata": {},
   "outputs": [
    {
     "data": {
      "text/plain": [
       "'10시 42분 25초'"
      ]
     },
     "execution_count": 164,
     "metadata": {},
     "output_type": "execute_result"
    }
   ],
   "source": [
    "now_time.strftime(\"%H시 %M분 %S초\")"
   ]
  },
  {
   "cell_type": "code",
   "execution_count": null,
   "id": "8e1e3556",
   "metadata": {},
   "outputs": [],
   "source": [
    "**datetime, date, time형들을 원하는 포맷의 문자형으로 반환 :  strftime()**\n",
    "    - %Y, %y, %m, %d, ,%A(요일), %p(오전/오후), %H(24시), %M(분), %S(초)ㅡ"
   ]
  },
  {
   "cell_type": "code",
   "execution_count": null,
   "id": "75f9be34",
   "metadata": {},
   "outputs": [],
   "source": []
  },
  {
   "cell_type": "code",
   "execution_count": null,
   "id": "18de5507",
   "metadata": {},
   "outputs": [],
   "source": []
  },
  {
   "cell_type": "markdown",
   "id": "d695752f",
   "metadata": {},
   "source": [
    "# 8절. 연습문제"
   ]
  },
  {
   "cell_type": "code",
   "execution_count": 119,
   "id": "e18fcfc5",
   "metadata": {},
   "outputs": [
    {
     "name": "stdout",
     "output_type": "stream",
     "text": [
      "[출력형식 : 홍길동님의 나이는 23살입니다]\n"
     ]
    }
   ],
   "source": [
    "# 1. 이름과 나이 변수를 다음 형식으로 출력하도록 format() 함수를 이용해 형식화하세요\n",
    "#    [출력형식 : 홍길동님의 나이는 23 살입니다]\n",
    "name = '홍길동'\n",
    "age = 23\n",
    "print(f'[출력형식 : {name}님의 나이는 {age}살입니다]')"
   ]
  },
  {
   "cell_type": "code",
   "execution_count": 93,
   "id": "6451b24f",
   "metadata": {},
   "outputs": [
    {
     "name": "stdout",
     "output_type": "stream",
     "text": [
      "첫번째 정수 :34\n",
      "두번째 정수 :5\n",
      "두 수 34, 5의 합한값은 39, 뺀값 29, 곱한값 170, 나눈값 6.8, 몫 6, 나머지는 4입니다.\n"
     ]
    }
   ],
   "source": [
    "# 2.두 정수를 입력받아 두 수의 덧셈 , 뺄셈 , 곱셈 , 나눗셈 , 몫 , 나머지를 출력하세요\n",
    "int_1 = int(input('첫번째 정수 :'))\n",
    "int_2 = int(input('두번째 정수 :'))\n",
    "print('두 수 {}, {}의 합한값은 {}, 뺀값 {}, 곱한값 {}, 나눈값 {}, 몫 {}, 나머지는 {}입니다.'\n",
    "      .format(int_1, int_2, int_1+int_2, int_1-int_2, int_1*int_2, int_1/int_2, int_1//int_2, int_1%int_2))"
   ]
  },
  {
   "cell_type": "code",
   "execution_count": 106,
   "id": "60f4fce9",
   "metadata": {},
   "outputs": [
    {
     "name": "stdout",
     "output_type": "stream",
     "text": [
      "원래 문장 :['Hello', 'World']을 단어 어순을 바꾼 것이 World Hello니다\n"
     ]
    }
   ],
   "source": [
    "# 3.문자열의 분리하기와 합치기 기능을 이용하여 ‘Hello World' 가 할당된 변수를 이용하여\n",
    "#   'World Hello' 로 출력하세요\n",
    "str_ = 'Hello World'\n",
    "splited_str_ = str_.split()\n",
    "joined_str_ = ' '.join(splited_str_[::-1])\n",
    "print(f'원래 문장 :{splited_str_}을 단어 어순을 바꾼 것이 {joined_str_}니다')"
   ]
  },
  {
   "cell_type": "code",
   "execution_count": 111,
   "id": "4dc7764d",
   "metadata": {},
   "outputs": [
    {
     "name": "stdout",
     "output_type": "stream",
     "text": [
      "abcdef\n",
      "bcdefa\n"
     ]
    }
   ],
   "source": [
    "# 4. x = 'abcdef'를 이용하여 bcdefa 로 출력하세요 문자 슬라이싱이용\\n\",\n",
    "x = 'abcdef'\n",
    "print(x)\n",
    "print(x[1:]+x[0])"
   ]
  },
  {
   "cell_type": "code",
   "execution_count": 112,
   "id": "5aa1a443",
   "metadata": {},
   "outputs": [
    {
     "name": "stdout",
     "output_type": "stream",
     "text": [
      "abcdef\n",
      "fedcba\n"
     ]
    }
   ],
   "source": [
    "# 5. x = 'abcdef' 를 이용하여 'fedcba' 로 출력하세요\n",
    "x = 'abcdef'\n",
    "print(x)\n",
    "print(x[::-1])"
   ]
  },
  {
   "cell_type": "code",
   "execution_count": 114,
   "id": "57d2b519",
   "metadata": {},
   "outputs": [
    {
     "name": "stdout",
     "output_type": "stream",
     "text": [
      "섭씨 온도?0\n",
      "변환된 화씨 온도는   32\n"
     ]
    }
   ],
   "source": [
    "# 6. 오늘의 온도를 섭씨온도로 입력받아 화씨 온도로 변환하는 프로그램을 작성하세요 .\n",
    "#    화씨 온도는 소수점이 있을 경우만 두번째 자리까지 출력되고 , 소수점이하 값이 없는 경우\n",
    "#    소수점을 출력하지 않도록 합니다. (다음은 섭씨와 화씨의 변환 공식입니다 . C 는 섭씨 ,F 는 화씨)\n",
    "#    C = (F - 32) / 1.8\n",
    "#    F = (C*1.8) + 32\n",
    "c = int(input('섭씨 온도?'))\n",
    "f = (c * 1.8) + 32\n",
    "if((f/int(f)-1)):\n",
    "    print('변환된 화씨 온도는 {:4.2f}'.format(f))\n",
    "else:\n",
    "    print('변환된 화씨 온도는 {:4.0f}'.format(f))"
   ]
  },
  {
   "cell_type": "code",
   "execution_count": 115,
   "id": "8c63ee4d",
   "metadata": {},
   "outputs": [],
   "source": [
    "# 7.다음 중 변수 선언으로 잘못된 것을 모두 고르시오\n",
    "# ① for  ② 10th ③ Student.name ④ _1234\n",
    "# 예약어, 숫자로 시작, 특수문자 사용 안됨, _는 특수문자이나 사용가능 문자로 _1234는 정상"
   ]
  },
  {
   "cell_type": "code",
   "execution_count": 116,
   "id": "2b79db07",
   "metadata": {},
   "outputs": [
    {
     "name": "stdout",
     "output_type": "stream",
     "text": [
      "SeounSeoul\n",
      "Seou n Seoul\n"
     ]
    }
   ],
   "source": [
    "# 8. 다음의 코드의 실행결과는?\n",
    "text = \"Seoul A001 - programming with python\"\n",
    "print(text[:4]+text[-1]+text.split()[0])\n",
    "print(text[:4], text[-1], text.split()[0])"
   ]
  },
  {
   "cell_type": "code",
   "execution_count": 117,
   "id": "e9c1b9bc",
   "metadata": {},
   "outputs": [],
   "source": [
    "# 9. 다음 중 파이썬 3.x 버전에서 연산식과 그 결과의 출력이 잘못된 것은? 2번 정수/정수 결과는 실수\n",
    "# ① 수식 8//2 결과 4 ② 수식 8/2 결과 4 ③ 수식 8 **2 결과 64\n",
    "#   몫 4               나눈 결과 4.0      제곱 64"
   ]
  },
  {
   "cell_type": "code",
   "execution_count": 118,
   "id": "f2f9e19d",
   "metadata": {},
   "outputs": [
    {
     "ename": "TypeError",
     "evalue": "unsupported operand type(s) for +: 'int' and 'str'",
     "output_type": "error",
     "traceback": [
      "\u001b[1;31m---------------------------------------------------------------------------\u001b[0m",
      "\u001b[1;31mTypeError\u001b[0m                                 Traceback (most recent call last)",
      "Cell \u001b[1;32mIn[118], line 4\u001b[0m\n\u001b[0;32m      2\u001b[0m x \u001b[38;5;241m=\u001b[39m \u001b[38;5;241m5\u001b[39m\n\u001b[0;32m      3\u001b[0m y \u001b[38;5;241m=\u001b[39m \u001b[38;5;124m\"\u001b[39m\u001b[38;5;124mJohn\u001b[39m\u001b[38;5;124m\"\u001b[39m\n\u001b[1;32m----> 4\u001b[0m \u001b[38;5;28mprint\u001b[39m(\u001b[43mx\u001b[49m\u001b[43m \u001b[49m\u001b[38;5;241;43m+\u001b[39;49m\u001b[43m \u001b[49m\u001b[43my\u001b[49m)\n",
      "\u001b[1;31mTypeError\u001b[0m: unsupported operand type(s) for +: 'int' and 'str'"
     ]
    }
   ],
   "source": [
    "# 10. 아래 프로그램의 결과는? Error (정수형과 문자열의 연산 불가)\n",
    "x = 5\n",
    "y = \"John\"\n",
    "print(x + y)"
   ]
  },
  {
   "cell_type": "code",
   "execution_count": 120,
   "id": "5bd2887d",
   "metadata": {},
   "outputs": [
    {
     "data": {
      "text/plain": [
       "'나라'"
      ]
     },
     "execution_count": 120,
     "metadata": {},
     "output_type": "execute_result"
    }
   ],
   "source": [
    "# 11. split() 함수를 이용하여 str_ 의 값 중 \"나라\" 를 출력하는 프로그램을 완성하시오\n",
    "str_ = \"우리 나라 대한 민국\"\n",
    "str_.split()[1]"
   ]
  },
  {
   "cell_type": "code",
   "execution_count": null,
   "id": "4de6f048",
   "metadata": {},
   "outputs": [],
   "source": []
  }
 ],
 "metadata": {
  "kernelspec": {
   "display_name": "Python 3 (ipykernel)",
   "language": "python",
   "name": "python3"
  },
  "language_info": {
   "codemirror_mode": {
    "name": "ipython",
    "version": 3
   },
   "file_extension": ".py",
   "mimetype": "text/x-python",
   "name": "python",
   "nbconvert_exporter": "python",
   "pygments_lexer": "ipython3",
   "version": "3.10.9"
  },
  "toc": {
   "base_numbering": 1,
   "nav_menu": {},
   "number_sections": false,
   "sideBar": true,
   "skip_h1_title": false,
   "title_cell": "Table of Contents",
   "title_sidebar": "Contents",
   "toc_cell": false,
   "toc_position": {
    "height": "calc(100% - 180px)",
    "left": "10px",
    "top": "150px",
    "width": "197.547px"
   },
   "toc_section_display": true,
   "toc_window_display": true
  }
 },
 "nbformat": 4,
 "nbformat_minor": 5
}
