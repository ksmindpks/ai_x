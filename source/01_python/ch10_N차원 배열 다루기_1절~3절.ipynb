{
 "cells": [
  {
   "cell_type": "code",
   "execution_count": 1,
   "id": "a1080e58",
   "metadata": {},
   "outputs": [
    {
     "data": {
      "text/html": [
       "\n",
       "<style>\n",
       "div.container{width:86% !important;}\n",
       "div.cell.code_cell.rendered{width:100%;}\n",
       "div.CodeMirror {font-family:Consolas; font-size:15pt;}\n",
       "div.output {font-size:15pt; font-weight:bold;}\n",
       "div.input {font-family:Consolas; font-size:15pt;}\n",
       "div.prompt {min-width:70px;}\n",
       "div#toc-wrapper{padding-top:120px;}\n",
       "div.text_cell_render ul li{font-size:12pt;padding:5px;}\n",
       "table.dataframe{font-size:15px;}\n",
       "</style>\n"
      ],
      "text/plain": [
       "<IPython.core.display.HTML object>"
      ]
     },
     "metadata": {},
     "output_type": "display_data"
    }
   ],
   "source": [
    "from IPython.display import display, HTML \n",
    "display(HTML(\"\"\"\n",
    "<style>\n",
    "div.container{width:86% !important;}\n",
    "div.cell.code_cell.rendered{width:100%;}\n",
    "div.CodeMirror {font-family:Consolas; font-size:15pt;}\n",
    "div.output {font-size:15pt; font-weight:bold;}\n",
    "div.input {font-family:Consolas; font-size:15pt;}\n",
    "div.prompt {min-width:70px;}\n",
    "div#toc-wrapper{padding-top:120px;}\n",
    "div.text_cell_render ul li{font-size:12pt;padding:5px;}\n",
    "table.dataframe{font-size:15px;}\n",
    "</style>\n",
    "\"\"\"))"
   ]
  },
  {
   "cell_type": "markdown",
   "id": "f3dcee23",
   "metadata": {},
   "source": [
    "<b><font size=\"5\" color=\"red\">ch10. N차원 배열 다루기 </font><b>\n",
    "- [numpy](https://numpy.org/doc/stable/)\n",
    "- [numpy_API](https://numpy.org/doc/stable/reference/index.html)\n",
    "- N차원 배열 객체\n",
    "- 2차원 배열은 행렬개념\n",
    "- numpy 패키지는 c언어로 구현되어 고성능 수치 계산 패키지\n",
    "# 1절. 넘파이 패키지"
   ]
  },
  {
   "cell_type": "code",
   "execution_count": 21,
   "id": "fa381f1a",
   "metadata": {},
   "outputs": [
    {
     "data": {
      "text/plain": [
       "'1.23.5'"
      ]
     },
     "execution_count": 21,
     "metadata": {},
     "output_type": "execute_result"
    }
   ],
   "source": [
    "import numpy as np\n",
    "np.__version__"
   ]
  },
  {
   "cell_type": "code",
   "execution_count": 22,
   "id": "e5311e12",
   "metadata": {},
   "outputs": [
    {
     "data": {
      "text/plain": [
       "array([ 0,  1,  2,  3,  4,  5,  6,  7,  8,  9, 10, 11, 12, 13, 14])"
      ]
     },
     "execution_count": 22,
     "metadata": {},
     "output_type": "execute_result"
    }
   ],
   "source": [
    "# np.arrange(from, stop, step) : from부터 step앞까지 step씩 증감한 정수값을 배열로 생성\n",
    "a = np.arange(15)\n",
    "a"
   ]
  },
  {
   "cell_type": "markdown",
   "id": "1f13e24b",
   "metadata": {},
   "source": [
    "## 1.1 배열 속성"
   ]
  },
  {
   "cell_type": "code",
   "execution_count": 23,
   "id": "2b3e6421",
   "metadata": {},
   "outputs": [
    {
     "data": {
      "text/plain": [
       "array([[ 0,  1,  2,  3,  4],\n",
       "       [ 5,  6,  7,  8,  9],\n",
       "       [10, 11, 12, 13, 14]])"
      ]
     },
     "execution_count": 23,
     "metadata": {},
     "output_type": "execute_result"
    }
   ],
   "source": [
    "from numpy import arange\n",
    "a = arange(15).reshape(3,5) # 3행 5열짜리 2차원 배열로 return\n",
    "a"
   ]
  },
  {
   "cell_type": "code",
   "execution_count": 24,
   "id": "53e2968c",
   "metadata": {},
   "outputs": [
    {
     "data": {
      "text/plain": [
       "numpy.ndarray"
      ]
     },
     "execution_count": 24,
     "metadata": {},
     "output_type": "execute_result"
    }
   ],
   "source": [
    "type(a) # a 변수의 타입"
   ]
  },
  {
   "cell_type": "code",
   "execution_count": 25,
   "id": "2510e87b",
   "metadata": {},
   "outputs": [
    {
     "data": {
      "text/plain": [
       "'int32'"
      ]
     },
     "execution_count": 25,
     "metadata": {},
     "output_type": "execute_result"
    }
   ],
   "source": [
    "a.dtype.name # a 배열 요소의 타입"
   ]
  },
  {
   "cell_type": "code",
   "execution_count": 26,
   "id": "8388b0cd",
   "metadata": {},
   "outputs": [
    {
     "data": {
      "text/plain": [
       "(128, 32768, 2147483648, 9223372036854775808)"
      ]
     },
     "execution_count": 26,
     "metadata": {},
     "output_type": "execute_result"
    }
   ],
   "source": [
    "2**7, 2**15, 2**31, 2**63"
   ]
  },
  {
   "cell_type": "code",
   "execution_count": 27,
   "id": "7a49afcd",
   "metadata": {},
   "outputs": [
    {
     "data": {
      "text/plain": [
       "4"
      ]
     },
     "execution_count": 27,
     "metadata": {},
     "output_type": "execute_result"
    }
   ],
   "source": [
    "a.itemsize # 한 요소의 bytesize"
   ]
  },
  {
   "cell_type": "code",
   "execution_count": 28,
   "id": "eaeee297",
   "metadata": {},
   "outputs": [
    {
     "data": {
      "text/plain": [
       "2"
      ]
     },
     "execution_count": 28,
     "metadata": {},
     "output_type": "execute_result"
    }
   ],
   "source": [
    "a.ndim # 차원수(축수)"
   ]
  },
  {
   "cell_type": "code",
   "execution_count": 29,
   "id": "009bb4bc",
   "metadata": {},
   "outputs": [
    {
     "data": {
      "text/plain": [
       "15"
      ]
     },
     "execution_count": 29,
     "metadata": {},
     "output_type": "execute_result"
    }
   ],
   "source": [
    "a.size # 배열 요소의 갯수"
   ]
  },
  {
   "cell_type": "code",
   "execution_count": 30,
   "id": "851d1106",
   "metadata": {},
   "outputs": [
    {
     "data": {
      "text/plain": [
       "(3, 5)"
      ]
     },
     "execution_count": 30,
     "metadata": {},
     "output_type": "execute_result"
    }
   ],
   "source": [
    "a.shape # 배열의 구조 (튜플)"
   ]
  },
  {
   "cell_type": "markdown",
   "id": "4a1ab776",
   "metadata": {},
   "source": [
    "## 1.2 배열 변경 (구조, 타입)"
   ]
  },
  {
   "cell_type": "code",
   "execution_count": 31,
   "id": "c90dfa7c",
   "metadata": {},
   "outputs": [
    {
     "name": "stdout",
     "output_type": "stream",
     "text": [
      "구조변경 전\n",
      "[[ 0  1  2  3  4]\n",
      " [ 5  6  7  8  9]\n",
      " [10 11 12 13 14]]\n",
      "구조변경 후\n",
      "[[ 0  1  2]\n",
      " [ 3  4  5]\n",
      " [ 6  7  8]\n",
      " [ 9 10 11]\n",
      " [12 13 14]]\n"
     ]
    }
   ],
   "source": [
    "# 구조 변경\n",
    "print('구조변경 전', a, sep='\\n')\n",
    "a.shape = (5,3)\n",
    "print('구조변경 후', a, sep='\\n')"
   ]
  },
  {
   "cell_type": "code",
   "execution_count": 32,
   "id": "31db146f",
   "metadata": {},
   "outputs": [
    {
     "data": {
      "text/plain": [
       "array([[ 0,  1,  2,  3],\n",
       "       [ 4,  5,  6,  7],\n",
       "       [ 8,  9, 10, 11]])"
      ]
     },
     "execution_count": 32,
     "metadata": {},
     "output_type": "execute_result"
    }
   ],
   "source": [
    "# 타입 변경 (x)\n",
    "a = arange(12).reshape(3,4)\n",
    "a"
   ]
  },
  {
   "cell_type": "code",
   "execution_count": 33,
   "id": "edfbff89",
   "metadata": {},
   "outputs": [
    {
     "data": {
      "text/plain": [
       "dtype('int32')"
      ]
     },
     "execution_count": 33,
     "metadata": {},
     "output_type": "execute_result"
    }
   ],
   "source": [
    "a.dtype"
   ]
  },
  {
   "cell_type": "code",
   "execution_count": 34,
   "id": "4195fcdb",
   "metadata": {},
   "outputs": [
    {
     "data": {
      "text/plain": [
       "4"
      ]
     },
     "execution_count": 34,
     "metadata": {},
     "output_type": "execute_result"
    }
   ],
   "source": [
    "a.itemsize"
   ]
  },
  {
   "cell_type": "code",
   "execution_count": 35,
   "id": "eec642d9",
   "metadata": {},
   "outputs": [
    {
     "data": {
      "text/plain": [
       "dtype('int64')"
      ]
     },
     "execution_count": 35,
     "metadata": {},
     "output_type": "execute_result"
    }
   ],
   "source": [
    "a.dtype = np.int64 # a배열을 읽을 때 64bit씩 읽는다\n",
    "a.dtype"
   ]
  },
  {
   "cell_type": "code",
   "execution_count": 36,
   "id": "792f4541",
   "metadata": {},
   "outputs": [
    {
     "data": {
      "text/plain": [
       "8"
      ]
     },
     "execution_count": 36,
     "metadata": {},
     "output_type": "execute_result"
    }
   ],
   "source": [
    "a.itemsize"
   ]
  },
  {
   "cell_type": "code",
   "execution_count": 37,
   "id": "f5e76153",
   "metadata": {},
   "outputs": [
    {
     "data": {
      "text/plain": [
       "(6, (3, 2))"
      ]
     },
     "execution_count": 37,
     "metadata": {},
     "output_type": "execute_result"
    }
   ],
   "source": [
    "a.size, a.shape"
   ]
  },
  {
   "cell_type": "code",
   "execution_count": 38,
   "id": "f7f50fc5",
   "metadata": {},
   "outputs": [
    {
     "data": {
      "text/plain": [
       "array([[ 4294967296, 12884901890],\n",
       "       [21474836484, 30064771078],\n",
       "       [38654705672, 47244640266]], dtype=int64)"
      ]
     },
     "execution_count": 38,
     "metadata": {},
     "output_type": "execute_result"
    }
   ],
   "source": [
    "a"
   ]
  },
  {
   "cell_type": "code",
   "execution_count": 39,
   "id": "6f856596",
   "metadata": {},
   "outputs": [
    {
     "data": {
      "text/plain": [
       "array([[ 0,  1,  2,  3],\n",
       "       [ 4,  5,  6,  7],\n",
       "       [ 8,  9, 10, 11]])"
      ]
     },
     "execution_count": 39,
     "metadata": {},
     "output_type": "execute_result"
    }
   ],
   "source": [
    "# 타입 변경 (o)\n",
    "a = arange(12).reshape(3,4)\n",
    "a"
   ]
  },
  {
   "cell_type": "code",
   "execution_count": 40,
   "id": "fd1b268e",
   "metadata": {},
   "outputs": [
    {
     "data": {
      "text/plain": [
       "array([[ 0,  1,  2,  3],\n",
       "       [ 4,  5,  6,  7],\n",
       "       [ 8,  9, 10, 11]], dtype=int64)"
      ]
     },
     "execution_count": 40,
     "metadata": {},
     "output_type": "execute_result"
    }
   ],
   "source": [
    "a = a.astype(np.int64) # a.astype('int64')\n",
    "a"
   ]
  },
  {
   "cell_type": "code",
   "execution_count": 41,
   "id": "b9f7be05",
   "metadata": {},
   "outputs": [
    {
     "data": {
      "text/plain": [
       "(dtype('int64'), 8, 12, (3, 4))"
      ]
     },
     "execution_count": 41,
     "metadata": {},
     "output_type": "execute_result"
    }
   ],
   "source": [
    "a.dtype, a.itemsize, a.size, a.shape"
   ]
  },
  {
   "cell_type": "code",
   "execution_count": 42,
   "id": "f199b2cb",
   "metadata": {},
   "outputs": [
    {
     "data": {
      "text/plain": [
       "array([ 0,  1,  2,  3,  4,  5,  6,  7,  8,  9, 10, 11], dtype=int64)"
      ]
     },
     "execution_count": 42,
     "metadata": {},
     "output_type": "execute_result"
    }
   ],
   "source": [
    "a.flatten()"
   ]
  },
  {
   "cell_type": "code",
   "execution_count": 43,
   "id": "deccf956",
   "metadata": {},
   "outputs": [
    {
     "data": {
      "text/plain": [
       "array([ 0,  1,  2,  3,  4,  5,  6,  7,  8,  9, 10, 11], dtype=int64)"
      ]
     },
     "execution_count": 43,
     "metadata": {},
     "output_type": "execute_result"
    }
   ],
   "source": [
    "a.ravel()"
   ]
  },
  {
   "cell_type": "markdown",
   "id": "29a3d5a1",
   "metadata": {},
   "source": [
    "## 1.3 배열 저장"
   ]
  },
  {
   "cell_type": "code",
   "execution_count": 44,
   "id": "7e93f09b",
   "metadata": {},
   "outputs": [
    {
     "data": {
      "text/plain": [
       "array([[ 0,  1,  2,  3],\n",
       "       [ 4,  5,  6,  7],\n",
       "       [ 8,  9, 10, 11]], dtype=int64)"
      ]
     },
     "execution_count": 44,
     "metadata": {},
     "output_type": "execute_result"
    }
   ],
   "source": [
    "a"
   ]
  },
  {
   "cell_type": "code",
   "execution_count": 45,
   "id": "eb945631",
   "metadata": {},
   "outputs": [],
   "source": [
    "import pickle\n",
    "with open('data/ch10_a.pkl', 'wb') as f:\n",
    "    pickle.dump(a, f)"
   ]
  },
  {
   "cell_type": "code",
   "execution_count": 46,
   "id": "4a0b80f1",
   "metadata": {},
   "outputs": [
    {
     "data": {
      "text/plain": [
       "array([[ 0,  1,  2,  3],\n",
       "       [ 4,  5,  6,  7],\n",
       "       [ 8,  9, 10, 11]], dtype=int64)"
      ]
     },
     "execution_count": 46,
     "metadata": {},
     "output_type": "execute_result"
    }
   ],
   "source": [
    "with open('data/ch10_a.pkl', 'rb') as f:\n",
    "    load_a = pickle.load(f)\n",
    "load_a"
   ]
  },
  {
   "cell_type": "code",
   "execution_count": 47,
   "id": "6dbcda7f",
   "metadata": {},
   "outputs": [
    {
     "data": {
      "text/plain": [
       "True"
      ]
     },
     "execution_count": 47,
     "metadata": {},
     "output_type": "execute_result"
    }
   ],
   "source": [
    "np.all(a == load_a) # a 넘파이 배열과 load_a 넘파이 배열이 같은이 체크"
   ]
  },
  {
   "cell_type": "code",
   "execution_count": 48,
   "id": "53ddc13b",
   "metadata": {},
   "outputs": [],
   "source": [
    "np.save('data/ch10_a.npy', a) # 데이터 파일이 클 때 사용"
   ]
  },
  {
   "cell_type": "code",
   "execution_count": 49,
   "id": "8ef5ea3e",
   "metadata": {},
   "outputs": [],
   "source": [
    "load_a2 = np.load('data/ch10_a.npy')"
   ]
  },
  {
   "cell_type": "code",
   "execution_count": 50,
   "id": "0211dd5f",
   "metadata": {},
   "outputs": [
    {
     "data": {
      "text/plain": [
       "True"
      ]
     },
     "execution_count": 50,
     "metadata": {},
     "output_type": "execute_result"
    }
   ],
   "source": [
    "np.all(load_a2==a)"
   ]
  },
  {
   "cell_type": "markdown",
   "id": "8c8d61ff",
   "metadata": {},
   "source": [
    "# 2절. 넘패이 배열\n",
    "- array()함수를 이용한 다른 파이썬 데이터 구조를 배열로 변환\n",
    "- arrange(), ones(), zeros(), empty()\n",
    "- 랜덤값은 갖는 함수들...\n",
    "## 2.1 array()함수로 넘파이 배열 만들기\n",
    "- array(리스트나 튜플, dtype=np.xxx, copy=T/F)"
   ]
  },
  {
   "cell_type": "code",
   "execution_count": 51,
   "id": "87cefab8",
   "metadata": {},
   "outputs": [
    {
     "data": {
      "text/plain": [
       "array([2, 4, 6], dtype=int8)"
      ]
     },
     "execution_count": 51,
     "metadata": {},
     "output_type": "execute_result"
    }
   ],
   "source": [
    "# 정수의 기본 타입은 int32 / 실수의 기본 타입은 float64, 배열 안에는 스칼라(숫자, 문자, 논리)\n",
    "a = np.array([2,4,6], dtype=np.int8) \n",
    "a"
   ]
  },
  {
   "cell_type": "code",
   "execution_count": 52,
   "id": "f91c94d1",
   "metadata": {},
   "outputs": [
    {
     "data": {
      "text/plain": [
       "(2, 4, 6)"
      ]
     },
     "execution_count": 52,
     "metadata": {},
     "output_type": "execute_result"
    }
   ],
   "source": [
    "a[0],a[1],a[2]"
   ]
  },
  {
   "cell_type": "code",
   "execution_count": 53,
   "id": "daeac058",
   "metadata": {},
   "outputs": [
    {
     "data": {
      "text/plain": [
       "dtype('int8')"
      ]
     },
     "execution_count": 53,
     "metadata": {},
     "output_type": "execute_result"
    }
   ],
   "source": [
    "a.dtype"
   ]
  },
  {
   "cell_type": "code",
   "execution_count": 54,
   "id": "9500511e",
   "metadata": {},
   "outputs": [
    {
     "data": {
      "text/plain": [
       "array([[1.3, 2.4],\n",
       "       [4. , 5. ]])"
      ]
     },
     "execution_count": 54,
     "metadata": {},
     "output_type": "execute_result"
    }
   ],
   "source": [
    "b = np.array([[1.3,2.4],\n",
    "          [4,5]])\n",
    "b"
   ]
  },
  {
   "cell_type": "code",
   "execution_count": 55,
   "id": "cf3075e8",
   "metadata": {},
   "outputs": [
    {
     "data": {
      "text/plain": [
       "dtype('float64')"
      ]
     },
     "execution_count": 55,
     "metadata": {},
     "output_type": "execute_result"
    }
   ],
   "source": [
    "b.dtype"
   ]
  },
  {
   "cell_type": "code",
   "execution_count": 56,
   "id": "fd89a301",
   "metadata": {},
   "outputs": [
    {
     "data": {
      "text/plain": [
       "array([[1.3, 2.4, 4. , 5. ]], dtype=float32)"
      ]
     },
     "execution_count": 56,
     "metadata": {},
     "output_type": "execute_result"
    }
   ],
   "source": [
    "b = np.array([[1.3,2.4],[4,5]], dtype=np.float32).reshape(1,4)\n",
    "b"
   ]
  },
  {
   "cell_type": "code",
   "execution_count": 57,
   "id": "46ad3d10",
   "metadata": {},
   "outputs": [
    {
     "data": {
      "text/plain": [
       "(4, array([[1.29999995, 2.4000001 , 4.        , 5.        ]]))"
      ]
     },
     "execution_count": 57,
     "metadata": {},
     "output_type": "execute_result"
    }
   ],
   "source": [
    "b.itemsize, b.astype(np.float64)"
   ]
  },
  {
   "cell_type": "code",
   "execution_count": 58,
   "id": "1e01b633",
   "metadata": {},
   "outputs": [
    {
     "name": "stdout",
     "output_type": "stream",
     "text": [
      "1\t2\t\n",
      "3.4\t4.5\t\n"
     ]
    }
   ],
   "source": [
    "l = [[1,2], [3.4,4.5]]\n",
    "for row in l:\n",
    "    for data in row:\n",
    "        print(data, end='\\t')\n",
    "    print()"
   ]
  },
  {
   "cell_type": "code",
   "execution_count": 59,
   "id": "0acf0f6b",
   "metadata": {},
   "outputs": [
    {
     "name": "stdout",
     "output_type": "stream",
     "text": [
      "0행0열:1.0\t0행1열:2.0\t\n",
      "1행0열:3.400390625\t1행1열:4.5\t\n"
     ]
    }
   ],
   "source": [
    "c = np.array([[1,2], [3.4,4.5]], dtype=np.float16)\n",
    "for i, row in enumerate(c):\n",
    "    for j, item in enumerate(row):\n",
    "        print('{}행{}열:{}'.format(i,j,item),end='\\t')\n",
    "    print()"
   ]
  },
  {
   "cell_type": "code",
   "execution_count": 60,
   "id": "9fe73132",
   "metadata": {},
   "outputs": [
    {
     "data": {
      "text/plain": [
       "array([[ 1,  2,  3,  4,  5],\n",
       "       [ 6,  7,  8,  9, 10]], dtype=int16)"
      ]
     },
     "execution_count": 60,
     "metadata": {},
     "output_type": "execute_result"
    }
   ],
   "source": [
    "c = np.array([[1,2,3,4,5],[6,7,8,9,10]], dtype=np.int16)\n",
    "c"
   ]
  },
  {
   "cell_type": "code",
   "execution_count": 61,
   "id": "05df3ad0",
   "metadata": {},
   "outputs": [
    {
     "data": {
      "text/plain": [
       "(4,\n",
       " array([[2, 3],\n",
       "        [7, 8]], dtype=int16),\n",
       " array([3, 4, 5], dtype=int16))"
      ]
     },
     "execution_count": 61,
     "metadata": {},
     "output_type": "execute_result"
    }
   ],
   "source": [
    "c[0,3], c[:,1:3], c[0,2:] # indexing은 초과 불가, slicing은 유연"
   ]
  },
  {
   "cell_type": "code",
   "execution_count": 62,
   "id": "203dfe63",
   "metadata": {},
   "outputs": [
    {
     "data": {
      "text/plain": [
       "array([ 5, 10], dtype=int16)"
      ]
     },
     "execution_count": 62,
     "metadata": {},
     "output_type": "execute_result"
    }
   ],
   "source": [
    "# 모든행의 맨 마지막 열만 추출\n",
    "c[:,-1]"
   ]
  },
  {
   "cell_type": "code",
   "execution_count": 63,
   "id": "8364099a",
   "metadata": {},
   "outputs": [
    {
     "data": {
      "text/plain": [
       "array([[1, 2, 3, 4],\n",
       "       [6, 7, 8, 9]], dtype=int16)"
      ]
     },
     "execution_count": 63,
     "metadata": {},
     "output_type": "execute_result"
    }
   ],
   "source": [
    "# 모든행의 맨 마지막 열을 제외한 추출\n",
    "c[:,:-1]"
   ]
  },
  {
   "cell_type": "code",
   "execution_count": 64,
   "id": "8587ca9d",
   "metadata": {},
   "outputs": [
    {
     "name": "stdout",
     "output_type": "stream",
     "text": [
      "c=\n",
      "[[1 2]\n",
      " [3 4]]\n",
      "d=\n",
      "[[1 2]\n",
      " [3 4]]\n",
      "c=\n",
      "[[   1    2]\n",
      " [3333    4]]\n",
      "d=\n",
      "[[   1    2]\n",
      " [3333    4]]\n",
      "c주소=1671530827952, d주소=1671530827952\n"
     ]
    }
   ],
   "source": [
    "c = np.array([[1,2],[3,4]])\n",
    "d = np.array(c, copy=False) # d = c (False일때, d의 주소에 c의 주소를 할당)\n",
    "print('c=', c, sep='\\n')\n",
    "print('d=', d, sep='\\n')\n",
    "d[1,0] = 3333\n",
    "print('c=', c, sep='\\n')\n",
    "print('d=', d, sep='\\n')\n",
    "print('c주소={}, d주소={}'.format(id(c), id(d)))"
   ]
  },
  {
   "cell_type": "code",
   "execution_count": 65,
   "id": "9938d9c5",
   "metadata": {},
   "outputs": [
    {
     "name": "stdout",
     "output_type": "stream",
     "text": [
      "c=\n",
      "[[1 2]\n",
      " [3 4]]\n",
      "d=\n",
      "[[1 2]\n",
      " [3 4]]\n",
      "c=\n",
      "[[1 2]\n",
      " [3 4]]\n",
      "d=\n",
      "[[   1    2]\n",
      " [3333    4]]\n",
      "c주소=1671530829392, d주소=1671530829872\n"
     ]
    }
   ],
   "source": [
    "c = np.array([[1,2],[3,4]])\n",
    "d = np.array(c, copy=True) # d = c.copy() (True 일때, d의 array에 c의 요소 값을 할당)\n",
    "print('c=', c, sep='\\n')\n",
    "print('d=', d, sep='\\n')\n",
    "d[1,0] = 3333\n",
    "print('c=', c, sep='\\n')\n",
    "print('d=', d, sep='\\n')\n",
    "print('c주소={}, d주소={}'.format(id(c), id(d)))"
   ]
  },
  {
   "cell_type": "markdown",
   "id": "e0e7b3cc",
   "metadata": {},
   "source": [
    "## 2.2 기본값이 있는 배열 만들기\n",
    "- np.zeros( tup ) : 요소들이 다 0\n",
    "- np.ones( tup ) : 요소들이 다 1\n",
    "- np.full( tup, 기본값) : 요소들이 다 기본값\n",
    "- np.empty(tup) : 요소들이 임의의 값(메모리 상태에 따라 달라짐)\n",
    "※ 위의 함수를 이용해서 생성된 배열은 기본 dtype이 float64, dtype속성 따라 지정 가능"
   ]
  },
  {
   "cell_type": "code",
   "execution_count": 66,
   "id": "710b872e",
   "metadata": {},
   "outputs": [
    {
     "data": {
      "text/plain": [
       "array([[0, 0, 0, 0, 0],\n",
       "       [0, 0, 0, 0, 0],\n",
       "       [0, 0, 0, 0, 0]], dtype=int8)"
      ]
     },
     "execution_count": 66,
     "metadata": {},
     "output_type": "execute_result"
    }
   ],
   "source": [
    "np.zeros( (3,5), dtype=np.int8)"
   ]
  },
  {
   "cell_type": "code",
   "execution_count": 67,
   "id": "38cb1b9c",
   "metadata": {},
   "outputs": [
    {
     "data": {
      "text/plain": [
       "(dtype('float64'),\n",
       " array([[1., 1., 1., 1., 1.],\n",
       "        [1., 1., 1., 1., 1.],\n",
       "        [1., 1., 1., 1., 1.]]))"
      ]
     },
     "execution_count": 67,
     "metadata": {},
     "output_type": "execute_result"
    }
   ],
   "source": [
    "x = np.ones( (3,5))\n",
    "x.dtype, x"
   ]
  },
  {
   "cell_type": "code",
   "execution_count": 68,
   "id": "eee1bd6c",
   "metadata": {},
   "outputs": [
    {
     "data": {
      "text/plain": [
       "array([[-256, -256, -256, -256, -256],\n",
       "       [-256, -256, -256, -256, -256]])"
      ]
     },
     "execution_count": 68,
     "metadata": {},
     "output_type": "execute_result"
    }
   ],
   "source": [
    "np.full( (2,5), -256)"
   ]
  },
  {
   "cell_type": "code",
   "execution_count": 69,
   "id": "3419a604",
   "metadata": {},
   "outputs": [
    {
     "data": {
      "text/plain": [
       "array([[4.77e-06, 5.17e-02, 2.32e-05, 0.00e+00, 0.00e+00],\n",
       "       [0.00e+00, 0.00e+00, 0.00e+00, 1.19e-07, 1.19e-07]], dtype=float16)"
      ]
     },
     "execution_count": 69,
     "metadata": {},
     "output_type": "execute_result"
    }
   ],
   "source": [
    "np.empty( (2,5), dtype=np.float16)"
   ]
  },
  {
   "cell_type": "markdown",
   "id": "5e2efa9b",
   "metadata": {},
   "source": [
    "## 2.3 랜덤값을 갖는 배열 만들기\n",
    "- np.random.random(tup) : 0부터 1미만의 균등 분포, 0<= 난수 <1\n",
    "- np.random.uniform(low=0, high=1.0, size=tup) : low부터 high미만의 균등분포를 갖는 랜덤값\n",
    "- np.random.normal(loc=0, scale=1.0, size=tup) : 평균loc과 표준편차scale을 갖는 정규분포 랜덤값\n",
    "- np.random.rand(n) : 균등분포의 1차원 난수 배열 발생 (난수 n개)\n",
    "- np.random.randn(n) : 표준정규분포(평균0, 표준편차1인 정규분포)의 1차원 난수 배열 발생 (난수 n개)\n",
    "- cf. np.random.randint(n) : 0qnxj n미만의 정수 난수 1개 발생"
   ]
  },
  {
   "cell_type": "code",
   "execution_count": 70,
   "id": "df5400ec",
   "metadata": {},
   "outputs": [
    {
     "data": {
      "image/png": "[encoded data removed]",
      "text/plain": [
       "<Figure size 1500x200 with 1 Axes>"
      ]
     },
     "metadata": {},
     "output_type": "display_data"
    }
   ],
   "source": [
    "import matplotlib.pyplot as plt\n",
    "x = np.random.rand(10000)\n",
    "plt.figure(figsize=(15,2)) # 그래프 크기 figsize=(가로,세로)\n",
    "plt.hist(x, bins=100)\n",
    "plt.show()"
   ]
  },
  {
   "cell_type": "code",
   "execution_count": 71,
   "id": "55c8785b",
   "metadata": {},
   "outputs": [
    {
     "data": {
      "image/png": "[encoded data removed]",
      "text/plain": [
       "<Figure size 1500x200 with 1 Axes>"
      ]
     },
     "metadata": {},
     "output_type": "display_data"
    }
   ],
   "source": [
    "x = np.random.randn(10000)\n",
    "plt.figure(figsize=(15,2)) # 그래프 크기 figsize=(가로,세로)\n",
    "plt.hist(x, bins=100)\n",
    "plt.show()"
   ]
  },
  {
   "cell_type": "code",
   "execution_count": 127,
   "id": "16b0aa6e",
   "metadata": {},
   "outputs": [
    {
     "data": {
      "image/png": "[encoded data removed]",
      "text/plain": [
       "<Figure size 1500x200 with 1 Axes>"
      ]
     },
     "metadata": {},
     "output_type": "display_data"
    }
   ],
   "source": [
    "# x = np.random.exponential(1)\n",
    "# plt.figure(figsize=(15,2)) # 그래프 크기 figsize=(가로,세로)\n",
    "# plt.hist(x, bins=100)\n",
    "# plt.show()"
   ]
  },
  {
   "cell_type": "code",
   "execution_count": 72,
   "id": "fc9e00bb",
   "metadata": {},
   "outputs": [
    {
     "data": {
      "text/plain": [
       "array([[0.15416284, 0.7400497 , 0.26331502, 0.53373939, 0.01457496],\n",
       "       [0.91874701, 0.90071485, 0.03342143, 0.95694934, 0.13720932]])"
      ]
     },
     "execution_count": 72,
     "metadata": {},
     "output_type": "execute_result"
    }
   ],
   "source": [
    "# 2차원 난수 배열\n",
    "np.random.seed(12) # seed값을 맞추면 발생되는 난수 순서가 동일\n",
    "np.random.random( (2,5)) # 0부터 1미만 균등분포 난수 배열"
   ]
  },
  {
   "cell_type": "code",
   "execution_count": 73,
   "id": "bd8196b0",
   "metadata": {},
   "outputs": [
    {
     "data": {
      "text/plain": [
       "array([[ 2.12211188,  5.66691503,  9.3864765 ,  8.38009095, -0.97514843],\n",
       "       [ 4.7334863 ,  5.07241397,  4.33915155,  7.44947569,  0.76788428]])"
      ]
     },
     "execution_count": 73,
     "metadata": {},
     "output_type": "execute_result"
    }
   ],
   "source": [
    "np.random.uniform(-1, 10, (2,5)) # -1~10미만의 균등 분포 실수 난수 배열"
   ]
  },
  {
   "cell_type": "code",
   "execution_count": 74,
   "id": "123fc2ab",
   "metadata": {},
   "outputs": [
    {
     "data": {
      "text/plain": [
       "array([[12.19191224,  7.5696624 , 12.68471274,  9.75570042, 12.02503095],\n",
       "       [ 8.17226171,  7.94093959, 12.4195929 , 11.00374461, 10.27769235]])"
      ]
     },
     "execution_count": 74,
     "metadata": {},
     "output_type": "execute_result"
    }
   ],
   "source": [
    "np.random.normal(10, 2, (2, 5)) # 평균 10, 표준편차 2인 정규분포 난수 배열"
   ]
  },
  {
   "cell_type": "markdown",
   "id": "2c411ad3",
   "metadata": {},
   "source": [
    "## 2.4 연속된 값을 갖는 배열 만들기\n",
    "- np.arange(from, stop, by, dtype) : from부터 stop까지 by씩 증감하는 정수 배열\n",
    "- np.linspace(from, to, count) : from부터 to까지 (to포함) count개 숫자를 1차원 배열"
   ]
  },
  {
   "cell_type": "code",
   "execution_count": 75,
   "id": "d6f1e255",
   "metadata": {},
   "outputs": [
    {
     "data": {
      "text/plain": [
       "array([0.        , 0.10526316, 0.21052632, 0.31578947, 0.42105263,\n",
       "       0.52631579, 0.63157895, 0.73684211, 0.84210526, 0.94736842,\n",
       "       1.05263158, 1.15789474, 1.26315789, 1.36842105, 1.47368421,\n",
       "       1.57894737, 1.68421053, 1.78947368, 1.89473684, 2.        ])"
      ]
     },
     "execution_count": 75,
     "metadata": {},
     "output_type": "execute_result"
    }
   ],
   "source": [
    "np.linspace(0, 2, 20)"
   ]
  },
  {
   "cell_type": "code",
   "execution_count": 76,
   "id": "1353458c",
   "metadata": {},
   "outputs": [],
   "source": [
    "# linspace : 많은 수의 점들을 생성\n",
    "import numpy as np\n",
    "x = np.linspace(-2*np.pi, 2*np.pi, 100)\n",
    "y = np.sin(x)"
   ]
  },
  {
   "cell_type": "code",
   "execution_count": 77,
   "id": "2df06b52",
   "metadata": {},
   "outputs": [
    {
     "data": {
      "image/png": "[encoded data removed]",
      "text/plain": [
       "<Figure size 500x200 with 1 Axes>"
      ]
     },
     "metadata": {},
     "output_type": "display_data"
    }
   ],
   "source": [
    "import matplotlib.pyplot as plt\n",
    "plt.figure(figsize=(5,2))\n",
    "plt.plot(x,y)\n",
    "plt.show()"
   ]
  },
  {
   "cell_type": "code",
   "execution_count": 15,
   "id": "af0c022a",
   "metadata": {},
   "outputs": [
    {
     "name": "stdout",
     "output_type": "stream",
     "text": [
      "Help on package matplotlib:\n",
      "\n",
      "NAME\n",
      "    matplotlib - An object-oriented plotting library.\n",
      "\n",
      "DESCRIPTION\n",
      "    A procedural interface is provided by the companion pyplot module,\n",
      "    which may be imported directly, e.g.::\n",
      "    \n",
      "        import matplotlib.pyplot as plt\n",
      "    \n",
      "    or using ipython::\n",
      "    \n",
      "        ipython\n",
      "    \n",
      "    at your terminal, followed by::\n",
      "    \n",
      "        In [1]: %matplotlib\n",
      "        In [2]: import matplotlib.pyplot as plt\n",
      "    \n",
      "    at the ipython shell prompt.\n",
      "    \n",
      "    For the most part, direct use of the explicit object-oriented library is\n",
      "    encouraged when programming; the implicit pyplot interface is primarily for\n",
      "    working interactively. The exceptions to this suggestion are the pyplot\n",
      "    functions `.pyplot.figure`, `.pyplot.subplot`, `.pyplot.subplots`, and\n",
      "    `.pyplot.savefig`, which can greatly simplify scripting.  See\n",
      "    :ref:`api_interfaces` for an explanation of the tradeoffs between the implicit\n",
      "    and explicit interfaces.\n",
      "    \n",
      "    Modules include:\n",
      "    \n",
      "        :mod:`matplotlib.axes`\n",
      "            The `~.axes.Axes` class.  Most pyplot functions are wrappers for\n",
      "            `~.axes.Axes` methods.  The axes module is the highest level of OO\n",
      "            access to the library.\n",
      "    \n",
      "        :mod:`matplotlib.figure`\n",
      "            The `.Figure` class.\n",
      "    \n",
      "        :mod:`matplotlib.artist`\n",
      "            The `.Artist` base class for all classes that draw things.\n",
      "    \n",
      "        :mod:`matplotlib.lines`\n",
      "            The `.Line2D` class for drawing lines and markers.\n",
      "    \n",
      "        :mod:`matplotlib.patches`\n",
      "            Classes for drawing polygons.\n",
      "    \n",
      "        :mod:`matplotlib.text`\n",
      "            The `.Text` and `.Annotation` classes.\n",
      "    \n",
      "        :mod:`matplotlib.image`\n",
      "            The `.AxesImage` and `.FigureImage` classes.\n",
      "    \n",
      "        :mod:`matplotlib.collections`\n",
      "            Classes for efficient drawing of groups of lines or polygons.\n",
      "    \n",
      "        :mod:`matplotlib.colors`\n",
      "            Color specifications and making colormaps.\n",
      "    \n",
      "        :mod:`matplotlib.cm`\n",
      "            Colormaps, and the `.ScalarMappable` mixin class for providing color\n",
      "            mapping functionality to other classes.\n",
      "    \n",
      "        :mod:`matplotlib.ticker`\n",
      "            Calculation of tick mark locations and formatting of tick labels.\n",
      "    \n",
      "        :mod:`matplotlib.backends`\n",
      "            A subpackage with modules for various GUI libraries and output formats.\n",
      "    \n",
      "    The base matplotlib namespace includes:\n",
      "    \n",
      "        `~matplotlib.rcParams`\n",
      "            Default configuration settings; their defaults may be overridden using\n",
      "            a :file:`matplotlibrc` file.\n",
      "    \n",
      "        `~matplotlib.use`\n",
      "            Setting the Matplotlib backend.  This should be called before any\n",
      "            figure is created, because it is not possible to switch between\n",
      "            different GUI backends after that.\n",
      "    \n",
      "    The following environment variables can be used to customize the behavior::\n",
      "    \n",
      "        .. envvar:: MPLBACKEND\n",
      "    \n",
      "          This optional variable can be set to choose the Matplotlib backend. See\n",
      "          :ref:`what-is-a-backend`.\n",
      "    \n",
      "        .. envvar:: MPLCONFIGDIR\n",
      "    \n",
      "          This is the directory used to store user customizations to\n",
      "          Matplotlib, as well as some caches to improve performance. If\n",
      "          :envvar:`MPLCONFIGDIR` is not defined, :file:`{HOME}/.config/matplotlib`\n",
      "          and :file:`{HOME}/.cache/matplotlib` are used on Linux, and\n",
      "          :file:`{HOME}/.matplotlib` on other platforms, if they are\n",
      "          writable. Otherwise, the Python standard library's `tempfile.gettempdir`\n",
      "          is used to find a base directory in which the :file:`matplotlib`\n",
      "          subdirectory is created.\n",
      "    \n",
      "    Matplotlib was initially written by John D. Hunter (1968-2012) and is now\n",
      "    developed and maintained by a host of others.\n",
      "    \n",
      "    Occasionally the internal documentation (python docstrings) will refer\n",
      "    to MATLAB®, a registered trademark of The MathWorks, Inc.\n",
      "\n",
      "PACKAGE CONTENTS\n",
      "    _afm\n",
      "    _animation_data\n",
      "    _api (package)\n",
      "    _blocking_input\n",
      "    _c_internal_utils\n",
      "    _cm\n",
      "    _cm_listed\n",
      "    _color_data\n",
      "    _constrained_layout\n",
      "    _docstring\n",
      "    _enums\n",
      "    _fontconfig_pattern\n",
      "    _image\n",
      "    _internal_utils\n",
      "    _layoutgrid\n",
      "    _mathtext\n",
      "    _mathtext_data\n",
      "    _path\n",
      "    _pylab_helpers\n",
      "    _qhull\n",
      "    _text_helpers\n",
      "    _tight_bbox\n",
      "    _tight_layout\n",
      "    _tri\n",
      "    _ttconv\n",
      "    _type1font\n",
      "    _version\n",
      "    afm\n",
      "    animation\n",
      "    artist\n",
      "    axes (package)\n",
      "    axis\n",
      "    backend_bases\n",
      "    backend_managers\n",
      "    backend_tools\n",
      "    backends (package)\n",
      "    bezier\n",
      "    category\n",
      "    cbook (package)\n",
      "    cm\n",
      "    collections\n",
      "    colorbar\n",
      "    colors\n",
      "    container\n",
      "    contour\n",
      "    dates\n",
      "    docstring\n",
      "    dviread\n",
      "    figure\n",
      "    font_manager\n",
      "    fontconfig_pattern\n",
      "    ft2font\n",
      "    gridspec\n",
      "    hatch\n",
      "    image\n",
      "    layout_engine\n",
      "    legend\n",
      "    legend_handler\n",
      "    lines\n",
      "    markers\n",
      "    mathtext\n",
      "    mlab\n",
      "    offsetbox\n",
      "    patches\n",
      "    path\n",
      "    patheffects\n",
      "    projections (package)\n",
      "    pylab\n",
      "    pyplot\n",
      "    quiver\n",
      "    rcsetup\n",
      "    sankey\n",
      "    scale\n",
      "    sphinxext (package)\n",
      "    spines\n",
      "    stackplot\n",
      "    streamplot\n",
      "    style (package)\n",
      "    table\n",
      "    testing (package)\n",
      "    tests (package)\n",
      "    texmanager\n",
      "    text\n",
      "    textpath\n",
      "    ticker\n",
      "    tight_bbox\n",
      "    tight_layout\n",
      "    transforms\n",
      "    tri (package)\n",
      "    type1font\n",
      "    units\n",
      "    widgets\n",
      "\n",
      "CLASSES\n",
      "    builtins.FileNotFoundError(builtins.OSError)\n",
      "        ExecutableNotFoundError\n",
      "    builtins.dict(builtins.object)\n",
      "        RcParams(collections.abc.MutableMapping, builtins.dict)\n",
      "    collections.abc.MutableMapping(collections.abc.Mapping)\n",
      "        RcParams(collections.abc.MutableMapping, builtins.dict)\n",
      "    \n",
      "    class ExecutableNotFoundError(builtins.FileNotFoundError)\n",
      "     |  Error raised when an executable that Matplotlib optionally\n",
      "     |  depends on can't be found.\n",
      "     |  \n",
      "     |  Method resolution order:\n",
      "     |      ExecutableNotFoundError\n",
      "     |      builtins.FileNotFoundError\n",
      "     |      builtins.OSError\n",
      "     |      builtins.Exception\n",
      "     |      builtins.BaseException\n",
      "     |      builtins.object\n",
      "     |  \n",
      "     |  Data descriptors defined here:\n",
      "     |  \n",
      "     |  __weakref__\n",
      "     |      list of weak references to the object (if defined)\n",
      "     |  \n",
      "     |  ----------------------------------------------------------------------\n",
      "     |  Methods inherited from builtins.FileNotFoundError:\n",
      "     |  \n",
      "     |  __init__(self, /, *args, **kwargs)\n",
      "     |      Initialize self.  See help(type(self)) for accurate signature.\n",
      "     |  \n",
      "     |  ----------------------------------------------------------------------\n",
      "     |  Methods inherited from builtins.OSError:\n",
      "     |  \n",
      "     |  __reduce__(...)\n",
      "     |      Helper for pickle.\n",
      "     |  \n",
      "     |  __str__(self, /)\n",
      "     |      Return str(self).\n",
      "     |  \n",
      "     |  ----------------------------------------------------------------------\n",
      "     |  Static methods inherited from builtins.OSError:\n",
      "     |  \n",
      "     |  __new__(*args, **kwargs) from builtins.type\n",
      "     |      Create and return a new object.  See help(type) for accurate signature.\n",
      "     |  \n",
      "     |  ----------------------------------------------------------------------\n",
      "     |  Data descriptors inherited from builtins.OSError:\n",
      "     |  \n",
      "     |  characters_written\n",
      "     |  \n",
      "     |  errno\n",
      "     |      POSIX exception code\n",
      "     |  \n",
      "     |  filename\n",
      "     |      exception filename\n",
      "     |  \n",
      "     |  filename2\n",
      "     |      second exception filename\n",
      "     |  \n",
      "     |  strerror\n",
      "     |      exception strerror\n",
      "     |  \n",
      "     |  winerror\n",
      "     |      Win32 exception code\n",
      "     |  \n",
      "     |  ----------------------------------------------------------------------\n",
      "     |  Methods inherited from builtins.BaseException:\n",
      "     |  \n",
      "     |  __delattr__(self, name, /)\n",
      "     |      Implement delattr(self, name).\n",
      "     |  \n",
      "     |  __getattribute__(self, name, /)\n",
      "     |      Return getattr(self, name).\n",
      "     |  \n",
      "     |  __repr__(self, /)\n",
      "     |      Return repr(self).\n",
      "     |  \n",
      "     |  __setattr__(self, name, value, /)\n",
      "     |      Implement setattr(self, name, value).\n",
      "     |  \n",
      "     |  __setstate__(...)\n",
      "     |  \n",
      "     |  with_traceback(...)\n",
      "     |      Exception.with_traceback(tb) --\n",
      "     |      set self.__traceback__ to tb and return self.\n",
      "     |  \n",
      "     |  ----------------------------------------------------------------------\n",
      "     |  Data descriptors inherited from builtins.BaseException:\n",
      "     |  \n",
      "     |  __cause__\n",
      "     |      exception cause\n",
      "     |  \n",
      "     |  __context__\n",
      "     |      exception context\n",
      "     |  \n",
      "     |  __dict__\n",
      "     |  \n",
      "     |  __suppress_context__\n",
      "     |  \n",
      "     |  __traceback__\n",
      "     |  \n",
      "     |  args\n",
      "    \n",
      "    class RcParams(collections.abc.MutableMapping, builtins.dict)\n",
      "     |  RcParams(*args, **kwargs)\n",
      "     |  \n",
      "     |  A dict-like key-value store for config parameters, including validation.\n",
      "     |  \n",
      "     |  Validating functions are defined and associated with rc parameters in\n",
      "     |  :mod:`matplotlib.rcsetup`.\n",
      "     |  \n",
      "     |  The list of rcParams is:\n",
      "     |  \n",
      "     |  - _internal.classic_mode\n",
      "     |  - agg.path.chunksize\n",
      "     |  - animation.bitrate\n",
      "     |  - animation.codec\n",
      "     |  - animation.convert_args\n",
      "     |  - animation.convert_path\n",
      "     |  - animation.embed_limit\n",
      "     |  - animation.ffmpeg_args\n",
      "     |  - animation.ffmpeg_path\n",
      "     |  - animation.frame_format\n",
      "     |  - animation.html\n",
      "     |  - animation.writer\n",
      "     |  - axes.autolimit_mode\n",
      "     |  - axes.axisbelow\n",
      "     |  - axes.edgecolor\n",
      "     |  - axes.facecolor\n",
      "     |  - axes.formatter.limits\n",
      "     |  - axes.formatter.min_exponent\n",
      "     |  - axes.formatter.offset_threshold\n",
      "     |  - axes.formatter.use_locale\n",
      "     |  - axes.formatter.use_mathtext\n",
      "     |  - axes.formatter.useoffset\n",
      "     |  - axes.grid\n",
      "     |  - axes.grid.axis\n",
      "     |  - axes.grid.which\n",
      "     |  - axes.labelcolor\n",
      "     |  - axes.labelpad\n",
      "     |  - axes.labelsize\n",
      "     |  - axes.labelweight\n",
      "     |  - axes.linewidth\n",
      "     |  - axes.prop_cycle\n",
      "     |  - axes.spines.bottom\n",
      "     |  - axes.spines.left\n",
      "     |  - axes.spines.right\n",
      "     |  - axes.spines.top\n",
      "     |  - axes.titlecolor\n",
      "     |  - axes.titlelocation\n",
      "     |  - axes.titlepad\n",
      "     |  - axes.titlesize\n",
      "     |  - axes.titleweight\n",
      "     |  - axes.titley\n",
      "     |  - axes.unicode_minus\n",
      "     |  - axes.xmargin\n",
      "     |  - axes.ymargin\n",
      "     |  - axes.zmargin\n",
      "     |  - axes3d.grid\n",
      "     |  - axes3d.xaxis.panecolor\n",
      "     |  - axes3d.yaxis.panecolor\n",
      "     |  - axes3d.zaxis.panecolor\n",
      "     |  - backend\n",
      "     |  - backend_fallback\n",
      "     |  - boxplot.bootstrap\n",
      "     |  - boxplot.boxprops.color\n",
      "     |  - boxplot.boxprops.linestyle\n",
      "     |  - boxplot.boxprops.linewidth\n",
      "     |  - boxplot.capprops.color\n",
      "     |  - boxplot.capprops.linestyle\n",
      "     |  - boxplot.capprops.linewidth\n",
      "     |  - boxplot.flierprops.color\n",
      "     |  - boxplot.flierprops.linestyle\n",
      "     |  - boxplot.flierprops.linewidth\n",
      "     |  - boxplot.flierprops.marker\n",
      "     |  - boxplot.flierprops.markeredgecolor\n",
      "     |  - boxplot.flierprops.markeredgewidth\n",
      "     |  - boxplot.flierprops.markerfacecolor\n",
      "     |  - boxplot.flierprops.markersize\n",
      "     |  - boxplot.meanline\n",
      "     |  - boxplot.meanprops.color\n",
      "     |  - boxplot.meanprops.linestyle\n",
      "     |  - boxplot.meanprops.linewidth\n",
      "     |  - boxplot.meanprops.marker\n",
      "     |  - boxplot.meanprops.markeredgecolor\n",
      "     |  - boxplot.meanprops.markerfacecolor\n",
      "     |  - boxplot.meanprops.markersize\n",
      "     |  - boxplot.medianprops.color\n",
      "     |  - boxplot.medianprops.linestyle\n",
      "     |  - boxplot.medianprops.linewidth\n",
      "     |  - boxplot.notch\n",
      "     |  - boxplot.patchartist\n",
      "     |  - boxplot.showbox\n",
      "     |  - boxplot.showcaps\n",
      "     |  - boxplot.showfliers\n",
      "     |  - boxplot.showmeans\n",
      "     |  - boxplot.vertical\n",
      "     |  - boxplot.whiskerprops.color\n",
      "     |  - boxplot.whiskerprops.linestyle\n",
      "     |  - boxplot.whiskerprops.linewidth\n",
      "     |  - boxplot.whiskers\n",
      "     |  - contour.algorithm\n",
      "     |  - contour.corner_mask\n",
      "     |  - contour.linewidth\n",
      "     |  - contour.negative_linestyle\n",
      "     |  - date.autoformatter.day\n",
      "     |  - date.autoformatter.hour\n",
      "     |  - date.autoformatter.microsecond\n",
      "     |  - date.autoformatter.minute\n",
      "     |  - date.autoformatter.month\n",
      "     |  - date.autoformatter.second\n",
      "     |  - date.autoformatter.year\n",
      "     |  - date.converter\n",
      "     |  - date.epoch\n",
      "     |  - date.interval_multiples\n",
      "     |  - docstring.hardcopy\n",
      "     |  - errorbar.capsize\n",
      "     |  - figure.autolayout\n",
      "     |  - figure.constrained_layout.h_pad\n",
      "     |  - figure.constrained_layout.hspace\n",
      "     |  - figure.constrained_layout.use\n",
      "     |  - figure.constrained_layout.w_pad\n",
      "     |  - figure.constrained_layout.wspace\n",
      "     |  - figure.dpi\n",
      "     |  - figure.edgecolor\n",
      "     |  - figure.facecolor\n",
      "     |  - figure.figsize\n",
      "     |  - figure.frameon\n",
      "     |  - figure.hooks\n",
      "     |  - figure.labelsize\n",
      "     |  - figure.labelweight\n",
      "     |  - figure.max_open_warning\n",
      "     |  - figure.raise_window\n",
      "     |  - figure.subplot.bottom\n",
      "     |  - figure.subplot.hspace\n",
      "     |  - figure.subplot.left\n",
      "     |  - figure.subplot.right\n",
      "     |  - figure.subplot.top\n",
      "     |  - figure.subplot.wspace\n",
      "     |  - figure.titlesize\n",
      "     |  - figure.titleweight\n",
      "     |  - font.cursive\n",
      "     |  - font.family\n",
      "     |  - font.fantasy\n",
      "     |  - font.monospace\n",
      "     |  - font.sans-serif\n",
      "     |  - font.serif\n",
      "     |  - font.size\n",
      "     |  - font.stretch\n",
      "     |  - font.style\n",
      "     |  - font.variant\n",
      "     |  - font.weight\n",
      "     |  - grid.alpha\n",
      "     |  - grid.color\n",
      "     |  - grid.linestyle\n",
      "     |  - grid.linewidth\n",
      "     |  - hatch.color\n",
      "     |  - hatch.linewidth\n",
      "     |  - hist.bins\n",
      "     |  - image.aspect\n",
      "     |  - image.cmap\n",
      "     |  - image.composite_image\n",
      "     |  - image.interpolation\n",
      "     |  - image.lut\n",
      "     |  - image.origin\n",
      "     |  - image.resample\n",
      "     |  - interactive\n",
      "     |  - keymap.back\n",
      "     |  - keymap.copy\n",
      "     |  - keymap.forward\n",
      "     |  - keymap.fullscreen\n",
      "     |  - keymap.grid\n",
      "     |  - keymap.grid_minor\n",
      "     |  - keymap.help\n",
      "     |  - keymap.home\n",
      "     |  - keymap.pan\n",
      "     |  - keymap.quit\n",
      "     |  - keymap.quit_all\n",
      "     |  - keymap.save\n",
      "     |  - keymap.xscale\n",
      "     |  - keymap.yscale\n",
      "     |  - keymap.zoom\n",
      "     |  - legend.borderaxespad\n",
      "     |  - legend.borderpad\n",
      "     |  - legend.columnspacing\n",
      "     |  - legend.edgecolor\n",
      "     |  - legend.facecolor\n",
      "     |  - legend.fancybox\n",
      "     |  - legend.fontsize\n",
      "     |  - legend.framealpha\n",
      "     |  - legend.frameon\n",
      "     |  - legend.handleheight\n",
      "     |  - legend.handlelength\n",
      "     |  - legend.handletextpad\n",
      "     |  - legend.labelcolor\n",
      "     |  - legend.labelspacing\n",
      "     |  - legend.loc\n",
      "     |  - legend.markerscale\n",
      "     |  - legend.numpoints\n",
      "     |  - legend.scatterpoints\n",
      "     |  - legend.shadow\n",
      "     |  - legend.title_fontsize\n",
      "     |  - lines.antialiased\n",
      "     |  - lines.color\n",
      "     |  - lines.dash_capstyle\n",
      "     |  - lines.dash_joinstyle\n",
      "     |  - lines.dashdot_pattern\n",
      "     |  - lines.dashed_pattern\n",
      "     |  - lines.dotted_pattern\n",
      "     |  - lines.linestyle\n",
      "     |  - lines.linewidth\n",
      "     |  - lines.marker\n",
      "     |  - lines.markeredgecolor\n",
      "     |  - lines.markeredgewidth\n",
      "     |  - lines.markerfacecolor\n",
      "     |  - lines.markersize\n",
      "     |  - lines.scale_dashes\n",
      "     |  - lines.solid_capstyle\n",
      "     |  - lines.solid_joinstyle\n",
      "     |  - markers.fillstyle\n",
      "     |  - mathtext.bf\n",
      "     |  - mathtext.cal\n",
      "     |  - mathtext.default\n",
      "     |  - mathtext.fallback\n",
      "     |  - mathtext.fontset\n",
      "     |  - mathtext.it\n",
      "     |  - mathtext.rm\n",
      "     |  - mathtext.sf\n",
      "     |  - mathtext.tt\n",
      "     |  - patch.antialiased\n",
      "     |  - patch.edgecolor\n",
      "     |  - patch.facecolor\n",
      "     |  - patch.force_edgecolor\n",
      "     |  - patch.linewidth\n",
      "     |  - path.effects\n",
      "     |  - path.simplify\n",
      "     |  - path.simplify_threshold\n",
      "     |  - path.sketch\n",
      "     |  - path.snap\n",
      "     |  - pcolor.shading\n",
      "     |  - pcolormesh.snap\n",
      "     |  - pdf.compression\n",
      "     |  - pdf.fonttype\n",
      "     |  - pdf.inheritcolor\n",
      "     |  - pdf.use14corefonts\n",
      "     |  - pgf.preamble\n",
      "     |  - pgf.rcfonts\n",
      "     |  - pgf.texsystem\n",
      "     |  - polaraxes.grid\n",
      "     |  - ps.distiller.res\n",
      "     |  - ps.fonttype\n",
      "     |  - ps.papersize\n",
      "     |  - ps.useafm\n",
      "     |  - ps.usedistiller\n",
      "     |  - savefig.bbox\n",
      "     |  - savefig.directory\n",
      "     |  - savefig.dpi\n",
      "     |  - savefig.edgecolor\n",
      "     |  - savefig.facecolor\n",
      "     |  - savefig.format\n",
      "     |  - savefig.orientation\n",
      "     |  - savefig.pad_inches\n",
      "     |  - savefig.transparent\n",
      "     |  - scatter.edgecolors\n",
      "     |  - scatter.marker\n",
      "     |  - svg.fonttype\n",
      "     |  - svg.hashsalt\n",
      "     |  - svg.image_inline\n",
      "     |  - text.antialiased\n",
      "     |  - text.color\n",
      "     |  - text.hinting\n",
      "     |  - text.hinting_factor\n",
      "     |  - text.kerning_factor\n",
      "     |  - text.latex.preamble\n",
      "     |  - text.parse_math\n",
      "     |  - text.usetex\n",
      "     |  - timezone\n",
      "     |  - tk.window_focus\n",
      "     |  - toolbar\n",
      "     |  - webagg.address\n",
      "     |  - webagg.open_in_browser\n",
      "     |  - webagg.port\n",
      "     |  - webagg.port_retries\n",
      "     |  - xaxis.labellocation\n",
      "     |  - xtick.alignment\n",
      "     |  - xtick.bottom\n",
      "     |  - xtick.color\n",
      "     |  - xtick.direction\n",
      "     |  - xtick.labelbottom\n",
      "     |  - xtick.labelcolor\n",
      "     |  - xtick.labelsize\n",
      "     |  - xtick.labeltop\n",
      "     |  - xtick.major.bottom\n",
      "     |  - xtick.major.pad\n",
      "     |  - xtick.major.size\n",
      "     |  - xtick.major.top\n",
      "     |  - xtick.major.width\n",
      "     |  - xtick.minor.bottom\n",
      "     |  - xtick.minor.pad\n",
      "     |  - xtick.minor.size\n",
      "     |  - xtick.minor.top\n",
      "     |  - xtick.minor.visible\n",
      "     |  - xtick.minor.width\n",
      "     |  - xtick.top\n",
      "     |  - yaxis.labellocation\n",
      "     |  - ytick.alignment\n",
      "     |  - ytick.color\n",
      "     |  - ytick.direction\n",
      "     |  - ytick.labelcolor\n",
      "     |  - ytick.labelleft\n",
      "     |  - ytick.labelright\n",
      "     |  - ytick.labelsize\n",
      "     |  - ytick.left\n",
      "     |  - ytick.major.left\n",
      "     |  - ytick.major.pad\n",
      "     |  - ytick.major.right\n",
      "     |  - ytick.major.size\n",
      "     |  - ytick.major.width\n",
      "     |  - ytick.minor.left\n",
      "     |  - ytick.minor.pad\n",
      "     |  - ytick.minor.right\n",
      "     |  - ytick.minor.size\n",
      "     |  - ytick.minor.visible\n",
      "     |  - ytick.minor.width\n",
      "     |  - ytick.right\n",
      "     |  \n",
      "     |  See Also\n",
      "     |  --------\n",
      "     |  :ref:`customizing-with-matplotlibrc-files`\n",
      "     |  \n",
      "     |  Method resolution order:\n",
      "     |      RcParams\n",
      "     |      collections.abc.MutableMapping\n",
      "     |      collections.abc.Mapping\n",
      "     |      collections.abc.Collection\n",
      "     |      collections.abc.Sized\n",
      "     |      collections.abc.Iterable\n",
      "     |      collections.abc.Container\n",
      "     |      builtins.dict\n",
      "     |      builtins.object\n",
      "     |  \n",
      "     |  Methods defined here:\n",
      "     |  \n",
      "     |  __getitem__(self, key)\n",
      "     |      x.__getitem__(y) <==> x[y]\n",
      "     |  \n",
      "     |  __init__(self, *args, **kwargs)\n",
      "     |      Initialize self.  See help(type(self)) for accurate signature.\n",
      "     |  \n",
      "     |  __iter__(self)\n",
      "     |      Yield sorted list of keys.\n",
      "     |  \n",
      "     |  __len__(self)\n",
      "     |      Return len(self).\n",
      "     |  \n",
      "     |  __repr__(self)\n",
      "     |      Return repr(self).\n",
      "     |  \n",
      "     |  __setitem__(self, key, val)\n",
      "     |      Set self[key] to value.\n",
      "     |  \n",
      "     |  __str__(self)\n",
      "     |      Return str(self).\n",
      "     |  \n",
      "     |  copy(self)\n",
      "     |      Copy this RcParams instance.\n",
      "     |  \n",
      "     |  find_all(self, pattern)\n",
      "     |      Return the subset of this RcParams dictionary whose keys match,\n",
      "     |      using :func:`re.search`, the given ``pattern``.\n",
      "     |      \n",
      "     |      .. note::\n",
      "     |      \n",
      "     |          Changes to the returned dictionary are *not* propagated to\n",
      "     |          the parent RcParams dictionary.\n",
      "     |  \n",
      "     |  ----------------------------------------------------------------------\n",
      "     |  Data descriptors defined here:\n",
      "     |  \n",
      "     |  __dict__\n",
      "     |      dictionary for instance variables (if defined)\n",
      "     |  \n",
      "     |  __weakref__\n",
      "     |      list of weak references to the object (if defined)\n",
      "     |  \n",
      "     |  ----------------------------------------------------------------------\n",
      "     |  Data and other attributes defined here:\n",
      "     |  \n",
      "     |  __abstractmethods__ = frozenset({'__delitem__'})\n",
      "     |  \n",
      "     |  validate = {'_internal.classic_mode': <function validate_bool>, 'agg.p...\n",
      "     |  \n",
      "     |  ----------------------------------------------------------------------\n",
      "     |  Methods inherited from collections.abc.MutableMapping:\n",
      "     |  \n",
      "     |  __delitem__(self, key)\n",
      "     |  \n",
      "     |  clear(self)\n",
      "     |      D.clear() -> None.  Remove all items from D.\n",
      "     |  \n",
      "     |  pop(self, key, default=<object object at 0x0000018526D38180>)\n",
      "     |      D.pop(k[,d]) -> v, remove specified key and return the corresponding value.\n",
      "     |      If key is not found, d is returned if given, otherwise KeyError is raised.\n",
      "     |  \n",
      "     |  popitem(self)\n",
      "     |      D.popitem() -> (k, v), remove and return some (key, value) pair\n",
      "     |      as a 2-tuple; but raise KeyError if D is empty.\n",
      "     |  \n",
      "     |  setdefault(self, key, default=None)\n",
      "     |      D.setdefault(k[,d]) -> D.get(k,d), also set D[k]=d if k not in D\n",
      "     |  \n",
      "     |  update(self, other=(), /, **kwds)\n",
      "     |      D.update([E, ]**F) -> None.  Update D from mapping/iterable E and F.\n",
      "     |      If E present and has a .keys() method, does:     for k in E: D[k] = E[k]\n",
      "     |      If E present and lacks .keys() method, does:     for (k, v) in E: D[k] = v\n",
      "     |      In either case, this is followed by: for k, v in F.items(): D[k] = v\n",
      "     |  \n",
      "     |  ----------------------------------------------------------------------\n",
      "     |  Methods inherited from collections.abc.Mapping:\n",
      "     |  \n",
      "     |  __contains__(self, key)\n",
      "     |  \n",
      "     |  __eq__(self, other)\n",
      "     |      Return self==value.\n",
      "     |  \n",
      "     |  get(self, key, default=None)\n",
      "     |      D.get(k[,d]) -> D[k] if k in D, else d.  d defaults to None.\n",
      "     |  \n",
      "     |  items(self)\n",
      "     |      D.items() -> a set-like object providing a view on D's items\n",
      "     |  \n",
      "     |  keys(self)\n",
      "     |      D.keys() -> a set-like object providing a view on D's keys\n",
      "     |  \n",
      "     |  values(self)\n",
      "     |      D.values() -> an object providing a view on D's values\n",
      "     |  \n",
      "     |  ----------------------------------------------------------------------\n",
      "     |  Data and other attributes inherited from collections.abc.Mapping:\n",
      "     |  \n",
      "     |  __hash__ = None\n",
      "     |  \n",
      "     |  __reversed__ = None\n",
      "     |  \n",
      "     |  ----------------------------------------------------------------------\n",
      "     |  Class methods inherited from collections.abc.Collection:\n",
      "     |  \n",
      "     |  __subclasshook__(C) from abc.ABCMeta\n",
      "     |      Abstract classes can override this to customize issubclass().\n",
      "     |      \n",
      "     |      This is invoked early on by abc.ABCMeta.__subclasscheck__().\n",
      "     |      It should return True, False or NotImplemented.  If it returns\n",
      "     |      NotImplemented, the normal algorithm is used.  Otherwise, it\n",
      "     |      overrides the normal algorithm (and the outcome is cached).\n",
      "     |  \n",
      "     |  ----------------------------------------------------------------------\n",
      "     |  Class methods inherited from collections.abc.Iterable:\n",
      "     |  \n",
      "     |  __class_getitem__ = GenericAlias(...) from abc.ABCMeta\n",
      "     |      Represent a PEP 585 generic type\n",
      "     |      \n",
      "     |      E.g. for t = list[int], t.__origin__ is list and t.__args__ is (int,).\n",
      "     |  \n",
      "     |  ----------------------------------------------------------------------\n",
      "     |  Methods inherited from builtins.dict:\n",
      "     |  \n",
      "     |  __ge__(self, value, /)\n",
      "     |      Return self>=value.\n",
      "     |  \n",
      "     |  __getattribute__(self, name, /)\n",
      "     |      Return getattr(self, name).\n",
      "     |  \n",
      "     |  __gt__(self, value, /)\n",
      "     |      Return self>value.\n",
      "     |  \n",
      "     |  __ior__(self, value, /)\n",
      "     |      Return self|=value.\n",
      "     |  \n",
      "     |  __le__(self, value, /)\n",
      "     |      Return self<=value.\n",
      "     |  \n",
      "     |  __lt__(self, value, /)\n",
      "     |      Return self<value.\n",
      "     |  \n",
      "     |  __ne__(self, value, /)\n",
      "     |      Return self!=value.\n",
      "     |  \n",
      "     |  __or__(self, value, /)\n",
      "     |      Return self|value.\n",
      "     |  \n",
      "     |  __ror__(self, value, /)\n",
      "     |      Return value|self.\n",
      "     |  \n",
      "     |  __sizeof__(...)\n",
      "     |      D.__sizeof__() -> size of D in memory, in bytes\n",
      "     |  \n",
      "     |  ----------------------------------------------------------------------\n",
      "     |  Class methods inherited from builtins.dict:\n",
      "     |  \n",
      "     |  fromkeys(iterable, value=None, /) from abc.ABCMeta\n",
      "     |      Create a new dictionary with keys from iterable and values set to value.\n",
      "     |  \n",
      "     |  ----------------------------------------------------------------------\n",
      "     |  Static methods inherited from builtins.dict:\n",
      "     |  \n",
      "     |  __new__(*args, **kwargs) from builtins.type\n",
      "     |      Create and return a new object.  See help(type) for accurate signature.\n",
      "\n",
      "FUNCTIONS\n",
      "    checkdep_usetex(s)\n",
      "        [*Deprecated*] \n",
      "        \n",
      "        Notes\n",
      "        -----\n",
      "        .. deprecated:: 3.6\n",
      "           Use a vendored copy of this function instead.\\\n",
      "    \n",
      "    get_backend()\n",
      "        Return the name of the current backend.\n",
      "        \n",
      "        See Also\n",
      "        --------\n",
      "        matplotlib.use\n",
      "    \n",
      "    get_cachedir()\n",
      "        Return the string path of the cache directory.\n",
      "        \n",
      "        The procedure used to find the directory is the same as for\n",
      "        _get_config_dir, except using ``$XDG_CACHE_HOME``/``$HOME/.cache`` instead.\n",
      "    \n",
      "    get_configdir()\n",
      "        Return the string path of the configuration directory.\n",
      "        \n",
      "        The directory is chosen as follows:\n",
      "        \n",
      "        1. If the MPLCONFIGDIR environment variable is supplied, choose that.\n",
      "        2. On Linux, follow the XDG specification and look first in\n",
      "           ``$XDG_CONFIG_HOME``, if defined, or ``$HOME/.config``.  On other\n",
      "           platforms, choose ``$HOME/.matplotlib``.\n",
      "        3. If the chosen directory exists and is writable, use that as the\n",
      "           configuration directory.\n",
      "        4. Else, create a temporary directory, and use it as the configuration\n",
      "           directory.\n",
      "    \n",
      "    get_data_path()\n",
      "        Return the path to Matplotlib data.\n",
      "    \n",
      "    interactive(b)\n",
      "        Set whether to redraw after every plotting command (e.g. `.pyplot.xlabel`).\n",
      "    \n",
      "    is_interactive()\n",
      "        Return whether to redraw after every plotting command.\n",
      "        \n",
      "        .. note::\n",
      "        \n",
      "            This function is only intended for use in backends. End users should\n",
      "            use `.pyplot.isinteractive` instead.\n",
      "    \n",
      "    matplotlib_fname()\n",
      "        Get the location of the config file.\n",
      "        \n",
      "        The file location is determined in the following order\n",
      "        \n",
      "        - ``$PWD/matplotlibrc``\n",
      "        - ``$MATPLOTLIBRC`` if it is not a directory\n",
      "        - ``$MATPLOTLIBRC/matplotlibrc``\n",
      "        - ``$MPLCONFIGDIR/matplotlibrc``\n",
      "        - On Linux,\n",
      "            - ``$XDG_CONFIG_HOME/matplotlib/matplotlibrc`` (if ``$XDG_CONFIG_HOME``\n",
      "              is defined)\n",
      "            - or ``$HOME/.config/matplotlib/matplotlibrc`` (if ``$XDG_CONFIG_HOME``\n",
      "              is not defined)\n",
      "        - On other platforms,\n",
      "          - ``$HOME/.matplotlib/matplotlibrc`` if ``$HOME`` is defined\n",
      "        - Lastly, it looks in ``$MATPLOTLIBDATA/matplotlibrc``, which should always\n",
      "          exist.\n",
      "    \n",
      "    rc(group, **kwargs)\n",
      "        Set the current `.rcParams`.  *group* is the grouping for the rc, e.g.,\n",
      "        for ``lines.linewidth`` the group is ``lines``, for\n",
      "        ``axes.facecolor``, the group is ``axes``, and so on.  Group may\n",
      "        also be a list or tuple of group names, e.g., (*xtick*, *ytick*).\n",
      "        *kwargs* is a dictionary attribute name/value pairs, e.g.,::\n",
      "        \n",
      "          rc('lines', linewidth=2, color='r')\n",
      "        \n",
      "        sets the current `.rcParams` and is equivalent to::\n",
      "        \n",
      "          rcParams['lines.linewidth'] = 2\n",
      "          rcParams['lines.color'] = 'r'\n",
      "        \n",
      "        The following aliases are available to save typing for interactive users:\n",
      "        \n",
      "        =====   =================\n",
      "        Alias   Property\n",
      "        =====   =================\n",
      "        'lw'    'linewidth'\n",
      "        'ls'    'linestyle'\n",
      "        'c'     'color'\n",
      "        'fc'    'facecolor'\n",
      "        'ec'    'edgecolor'\n",
      "        'mew'   'markeredgewidth'\n",
      "        'aa'    'antialiased'\n",
      "        =====   =================\n",
      "        \n",
      "        Thus you could abbreviate the above call as::\n",
      "        \n",
      "              rc('lines', lw=2, c='r')\n",
      "        \n",
      "        Note you can use python's kwargs dictionary facility to store\n",
      "        dictionaries of default parameters.  e.g., you can customize the\n",
      "        font rc as follows::\n",
      "        \n",
      "          font = {'family' : 'monospace',\n",
      "                  'weight' : 'bold',\n",
      "                  'size'   : 'larger'}\n",
      "          rc('font', **font)  # pass in the font dict as kwargs\n",
      "        \n",
      "        This enables you to easily switch between several configurations.  Use\n",
      "        ``matplotlib.style.use('default')`` or :func:`~matplotlib.rcdefaults` to\n",
      "        restore the default `.rcParams` after changes.\n",
      "        \n",
      "        Notes\n",
      "        -----\n",
      "        Similar functionality is available by using the normal dict interface, i.e.\n",
      "        ``rcParams.update({\"lines.linewidth\": 2, ...})`` (but ``rcParams.update``\n",
      "        does not support abbreviations or grouping).\n",
      "    \n",
      "    rc_context(rc=None, fname=None)\n",
      "        Return a context manager for temporarily changing rcParams.\n",
      "        \n",
      "        The :rc:`backend` will not be reset by the context manager.\n",
      "        \n",
      "        rcParams changed both through the context manager invocation and\n",
      "        in the body of the context will be reset on context exit.\n",
      "        \n",
      "        Parameters\n",
      "        ----------\n",
      "        rc : dict\n",
      "            The rcParams to temporarily set.\n",
      "        fname : str or path-like\n",
      "            A file with Matplotlib rc settings. If both *fname* and *rc* are given,\n",
      "            settings from *rc* take precedence.\n",
      "        \n",
      "        See Also\n",
      "        --------\n",
      "        :ref:`customizing-with-matplotlibrc-files`\n",
      "        \n",
      "        Examples\n",
      "        --------\n",
      "        Passing explicit values via a dict::\n",
      "        \n",
      "            with mpl.rc_context({'interactive': False}):\n",
      "                fig, ax = plt.subplots()\n",
      "                ax.plot(range(3), range(3))\n",
      "                fig.savefig('example.png')\n",
      "                plt.close(fig)\n",
      "        \n",
      "        Loading settings from a file::\n",
      "        \n",
      "             with mpl.rc_context(fname='print.rc'):\n",
      "                 plt.plot(x, y)  # uses 'print.rc'\n",
      "        \n",
      "        Setting in the context body::\n",
      "        \n",
      "            with mpl.rc_context():\n",
      "                # will be reset\n",
      "                mpl.rcParams['lines.linewidth'] = 5\n",
      "                plt.plot(x, y)\n",
      "    \n",
      "    rc_file(fname, *, use_default_template=True)\n",
      "        Update `.rcParams` from file.\n",
      "        \n",
      "        Style-blacklisted `.rcParams` (defined in\n",
      "        ``matplotlib.style.core.STYLE_BLACKLIST``) are not updated.\n",
      "        \n",
      "        Parameters\n",
      "        ----------\n",
      "        fname : str or path-like\n",
      "            A file with Matplotlib rc settings.\n",
      "        \n",
      "        use_default_template : bool\n",
      "            If True, initialize with default parameters before updating with those\n",
      "            in the given file. If False, the current configuration persists\n",
      "            and only the parameters specified in the file are updated.\n",
      "    \n",
      "    rc_file_defaults()\n",
      "        Restore the `.rcParams` from the original rc file loaded by Matplotlib.\n",
      "        \n",
      "        Style-blacklisted `.rcParams` (defined in\n",
      "        ``matplotlib.style.core.STYLE_BLACKLIST``) are not updated.\n",
      "    \n",
      "    rc_params(fail_on_error=False)\n",
      "        Construct a `RcParams` instance from the default Matplotlib rc file.\n",
      "    \n",
      "    rc_params_from_file(fname, fail_on_error=False, use_default_template=True)\n",
      "        Construct a `RcParams` from file *fname*.\n",
      "        \n",
      "        Parameters\n",
      "        ----------\n",
      "        fname : str or path-like\n",
      "            A file with Matplotlib rc settings.\n",
      "        fail_on_error : bool\n",
      "            If True, raise an error when the parser fails to convert a parameter.\n",
      "        use_default_template : bool\n",
      "            If True, initialize with default parameters before updating with those\n",
      "            in the given file. If False, the configuration class only contains the\n",
      "            parameters specified in the file. (Useful for updating dicts.)\n",
      "    \n",
      "    rcdefaults()\n",
      "        Restore the `.rcParams` from Matplotlib's internal default style.\n",
      "        \n",
      "        Style-blacklisted `.rcParams` (defined in\n",
      "        ``matplotlib.style.core.STYLE_BLACKLIST``) are not updated.\n",
      "        \n",
      "        See Also\n",
      "        --------\n",
      "        matplotlib.rc_file_defaults\n",
      "            Restore the `.rcParams` from the rc file originally loaded by\n",
      "            Matplotlib.\n",
      "        matplotlib.style.use\n",
      "            Use a specific style file.  Call ``style.use('default')`` to restore\n",
      "            the default style.\n",
      "    \n",
      "    set_loglevel(level)\n",
      "        Configure Matplotlib's logging levels.\n",
      "        \n",
      "        Matplotlib uses the standard library `logging` framework under the root\n",
      "        logger 'matplotlib'.  This is a helper function to:\n",
      "        \n",
      "        - set Matplotlib's root logger level\n",
      "        - set the root logger handler's level, creating the handler\n",
      "          if it does not exist yet\n",
      "        \n",
      "        Typically, one should call ``set_loglevel(\"info\")`` or\n",
      "        ``set_loglevel(\"debug\")`` to get additional debugging information.\n",
      "        \n",
      "        Users or applications that are installing their own logging handlers\n",
      "        may want to directly manipulate ``logging.getLogger('matplotlib')`` rather\n",
      "        than use this function.\n",
      "        \n",
      "        Parameters\n",
      "        ----------\n",
      "        level : {\"notset\", \"debug\", \"info\", \"warning\", \"error\", \"critical\"}\n",
      "            The log level of the handler.\n",
      "        \n",
      "        Notes\n",
      "        -----\n",
      "        The first time this function is called, an additional handler is attached\n",
      "        to Matplotlib's root handler; this handler is reused every time and this\n",
      "        function simply manipulates the logger and handler's level.\n",
      "    \n",
      "    use(backend, *, force=True)\n",
      "        Select the backend used for rendering and GUI integration.\n",
      "        \n",
      "        If pyplot is already imported, `~matplotlib.pyplot.switch_backend` is used\n",
      "        and if the new backend is different than the current backend, all Figures\n",
      "        will be closed.\n",
      "        \n",
      "        Parameters\n",
      "        ----------\n",
      "        backend : str\n",
      "            The backend to switch to.  This can either be one of the standard\n",
      "            backend names, which are case-insensitive:\n",
      "        \n",
      "            - interactive backends:\n",
      "              GTK3Agg, GTK3Cairo, GTK4Agg, GTK4Cairo, MacOSX, nbAgg, QtAgg,\n",
      "              QtCairo, TkAgg, TkCairo, WebAgg, WX, WXAgg, WXCairo, Qt5Agg, Qt5Cairo\n",
      "        \n",
      "            - non-interactive backends:\n",
      "              agg, cairo, pdf, pgf, ps, svg, template\n",
      "        \n",
      "            or a string of the form: ``module://my.module.name``.\n",
      "        \n",
      "            Switching to an interactive backend is not possible if an unrelated\n",
      "            event loop has already been started (e.g., switching to GTK3Agg if a\n",
      "            TkAgg window has already been opened).  Switching to a non-interactive\n",
      "            backend is always possible.\n",
      "        \n",
      "        force : bool, default: True\n",
      "            If True (the default), raise an `ImportError` if the backend cannot be\n",
      "            set up (either because it fails to import, or because an incompatible\n",
      "            GUI interactive framework is already running); if False, silently\n",
      "            ignore the failure.\n",
      "        \n",
      "        See Also\n",
      "        --------\n",
      "        :ref:`backends`\n",
      "        matplotlib.get_backend\n",
      "        matplotlib.pyplot.switch_backend\n",
      "\n",
      "DATA\n",
      "    __bibtex__ = '@Article{Hunter:2007,\\n  Author    = {Hunter, J. ...ishe...\n",
      "    color_sequences = <matplotlib.colors.ColorSequenceRegistry object>\n",
      "    colormaps = <matplotlib.cm.ColormapRegistry object>\n",
      "    defaultParams = {'_internal.classic_mode': [False, <function validate_...\n",
      "    rcParams = RcParams({'_internal.classic_mode': False,\n",
      "         ...nor.widt...\n",
      "    rcParamsDefault = RcParams({'_internal.classic_mode': False,\n",
      "         ...n...\n",
      "    rcParamsOrig = RcParams({'_internal.classic_mode': False,\n",
      "         ...nor....\n",
      "\n",
      "VERSION\n",
      "    3.7.0\n",
      "\n",
      "FILE\n",
      "    c:\\users\\admin\\anaconda3\\lib\\site-packages\\matplotlib\\__init__.py\n",
      "\n",
      "\n"
     ]
    }
   ],
   "source": [
    "help('matplotlib')"
   ]
  },
  {
   "cell_type": "code",
   "execution_count": 78,
   "id": "2ff0b0da",
   "metadata": {},
   "outputs": [
    {
     "data": {
      "text/plain": [
       "array([[0.        , 0.10526316, 0.21052632, 0.31578947, 0.42105263,\n",
       "        0.52631579, 0.63157895, 0.73684211, 0.84210526, 0.94736842],\n",
       "       [1.05263158, 1.15789474, 1.26315789, 1.36842105, 1.47368421,\n",
       "        1.57894737, 1.68421053, 1.78947368, 1.89473684, 2.        ]])"
      ]
     },
     "execution_count": 78,
     "metadata": {},
     "output_type": "execute_result"
    }
   ],
   "source": [
    "np.linspace(0, 2, 20).reshape(2, 10)"
   ]
  },
  {
   "cell_type": "code",
   "execution_count": 79,
   "id": "8d24a50a",
   "metadata": {},
   "outputs": [
    {
     "data": {
      "text/plain": [
       "array([10, 13, 16, 19, 22, 25, 28], dtype=int8)"
      ]
     },
     "execution_count": 79,
     "metadata": {},
     "output_type": "execute_result"
    }
   ],
   "source": [
    "np.arange(10, 30, 3, dtype=np.int8)"
   ]
  },
  {
   "cell_type": "markdown",
   "id": "51a48939",
   "metadata": {},
   "source": [
    "## 2.5 배열의 차원 변경하기\n",
    "- reshape([면수,] 행수, 열수) : -1이 올 수도\n",
    "- resize([면수,] 행수, 열수) : -1 불가\n",
    "- T : 전치행열로 변환\n",
    "- transpose() : 전치행렬로 변환\n",
    "※ 실행결과가 출력되면 배열이 수정되지 않고, 실행결과가 없으면 배열 수정됨"
   ]
  },
  {
   "cell_type": "code",
   "execution_count": 86,
   "id": "be76ed85",
   "metadata": {},
   "outputs": [
    {
     "data": {
      "text/plain": [
       "array([[0.17756418, 0.9625969 , 0.41925027],\n",
       "       [0.42405245, 0.46314887, 0.37372315]])"
      ]
     },
     "execution_count": 86,
     "metadata": {},
     "output_type": "execute_result"
    }
   ],
   "source": [
    "import numpy as np\n",
    "a = np.random.random( (2,3))\n",
    "a"
   ]
  },
  {
   "cell_type": "code",
   "execution_count": 87,
   "id": "bd735adb",
   "metadata": {},
   "outputs": [],
   "source": [
    "a = np.round(a * 10) # round : 반올림 / floor : 내림 / ceil : 올림"
   ]
  },
  {
   "cell_type": "code",
   "execution_count": 88,
   "id": "82e553d5",
   "metadata": {},
   "outputs": [
    {
     "data": {
      "text/plain": [
       "array([[ 2., 10.],\n",
       "       [ 4.,  4.],\n",
       "       [ 5.,  4.]])"
      ]
     },
     "execution_count": 88,
     "metadata": {},
     "output_type": "execute_result"
    }
   ],
   "source": [
    "a = a.reshape(3,2)\n",
    "a"
   ]
  },
  {
   "cell_type": "code",
   "execution_count": 89,
   "id": "88341583",
   "metadata": {},
   "outputs": [
    {
     "data": {
      "text/plain": [
       "array([[ 2., 10.,  4.],\n",
       "       [ 4.,  5.,  4.]])"
      ]
     },
     "execution_count": 89,
     "metadata": {},
     "output_type": "execute_result"
    }
   ],
   "source": [
    "a.reshape(2, -1) # -1이 주어지면 해당 차원의 크기가 자동 계산"
   ]
  },
  {
   "cell_type": "code",
   "execution_count": 90,
   "id": "9ce06d80",
   "metadata": {},
   "outputs": [
    {
     "data": {
      "text/plain": [
       "array([[ 2.],\n",
       "       [10.],\n",
       "       [ 4.],\n",
       "       [ 4.],\n",
       "       [ 5.],\n",
       "       [ 4.]])"
      ]
     },
     "execution_count": 90,
     "metadata": {},
     "output_type": "execute_result"
    }
   ],
   "source": [
    "a.reshape(-1, 1)"
   ]
  },
  {
   "cell_type": "code",
   "execution_count": 92,
   "id": "a2e91f21",
   "metadata": {},
   "outputs": [
    {
     "data": {
      "text/plain": [
       "array([[ 2., 10.,  4.],\n",
       "       [ 4.,  5.,  4.]])"
      ]
     },
     "execution_count": 92,
     "metadata": {},
     "output_type": "execute_result"
    }
   ],
   "source": [
    "a.resize( (2,3)) # 결과를 출력하지 않는 함수는 배열을 바꿈, -1 활용 불가\n",
    "a"
   ]
  },
  {
   "cell_type": "code",
   "execution_count": 94,
   "id": "dc326392",
   "metadata": {},
   "outputs": [
    {
     "data": {
      "text/plain": [
       "(array([ 2., 10.,  4.,  4.,  5.,  4.]), array([ 2., 10.,  4.,  4.,  5.,  4.]))"
      ]
     },
     "execution_count": 94,
     "metadata": {},
     "output_type": "execute_result"
    }
   ],
   "source": [
    "a.ravel(), a.flatten()"
   ]
  },
  {
   "cell_type": "code",
   "execution_count": 95,
   "id": "cd475dea",
   "metadata": {},
   "outputs": [
    {
     "data": {
      "text/plain": [
       "array([[ 2., 10.,  4.],\n",
       "       [ 4.,  5.,  4.]])"
      ]
     },
     "execution_count": 95,
     "metadata": {},
     "output_type": "execute_result"
    }
   ],
   "source": [
    "a"
   ]
  },
  {
   "cell_type": "code",
   "execution_count": 96,
   "id": "6380dcee",
   "metadata": {},
   "outputs": [
    {
     "data": {
      "text/plain": [
       "array([[ 2.,  4.],\n",
       "       [10.,  5.],\n",
       "       [ 4.,  4.]])"
      ]
     },
     "execution_count": 96,
     "metadata": {},
     "output_type": "execute_result"
    }
   ],
   "source": [
    "a.T # 전치행렬 (행과 열을 뒤바뀐 행렬)"
   ]
  },
  {
   "cell_type": "code",
   "execution_count": 97,
   "id": "680ad141",
   "metadata": {},
   "outputs": [
    {
     "data": {
      "text/plain": [
       "array([[ 2.,  4.],\n",
       "       [10.,  5.],\n",
       "       [ 4.,  4.]])"
      ]
     },
     "execution_count": 97,
     "metadata": {},
     "output_type": "execute_result"
    }
   ],
   "source": [
    "a.transpose() # 전치행열"
   ]
  },
  {
   "cell_type": "markdown",
   "id": "15b5b267",
   "metadata": {},
   "source": [
    "## 2.6 배열 인쇄"
   ]
  },
  {
   "cell_type": "code",
   "execution_count": 100,
   "id": "7b573d76",
   "metadata": {},
   "outputs": [
    {
     "name": "stdout",
     "output_type": "stream",
     "text": [
      "[   0    1    2 ...  998  999 1000]\n"
     ]
    }
   ],
   "source": [
    "# 배열이 커서 출력이 안 될 경우\n",
    "print(np.arange(1001))"
   ]
  },
  {
   "cell_type": "code",
   "execution_count": 102,
   "id": "a69069b2",
   "metadata": {},
   "outputs": [
    {
     "data": {
      "text/plain": [
       "array([[   0,    1,    2, ...,   97,   98,   99],\n",
       "       [ 100,  101,  102, ...,  197,  198,  199],\n",
       "       [ 200,  201,  202, ...,  297,  298,  299],\n",
       "       ...,\n",
       "       [9700, 9701, 9702, ..., 9797, 9798, 9799],\n",
       "       [9800, 9801, 9802, ..., 9897, 9898, 9899],\n",
       "       [9900, 9901, 9902, ..., 9997, 9998, 9999]])"
      ]
     },
     "execution_count": 102,
     "metadata": {},
     "output_type": "execute_result"
    }
   ],
   "source": [
    "np.arange(10000).reshape(100,100)"
   ]
  },
  {
   "cell_type": "code",
   "execution_count": 103,
   "id": "cdd3735c",
   "metadata": {},
   "outputs": [],
   "source": [
    "# 배열 출력 옵션 변경 (인쇄할 사이즈를 10000, 최대치, 무한대)\n",
    "import sys # 최대치 : sys.maxsize\n",
    "np.set_printoptions(threshold=10000)\n",
    "# np.set_printoptions(threshold=sys.maxsize)\n",
    "# np.set_printoptions(threshold=np.inf)\n",
    "# 커널 재시작시 threshold값 default(1000) 설정"
   ]
  },
  {
   "cell_type": "code",
   "execution_count": 105,
   "id": "114d09ff",
   "metadata": {},
   "outputs": [
    {
     "data": {
      "text/plain": [
       "array([[    0,     1,     2, ...,    97,    98,    99],\n",
       "       [  100,   101,   102, ...,   197,   198,   199],\n",
       "       [  200,   201,   202, ...,   297,   298,   299],\n",
       "       ...,\n",
       "       [19700, 19701, 19702, ..., 19797, 19798, 19799],\n",
       "       [19800, 19801, 19802, ..., 19897, 19898, 19899],\n",
       "       [19900, 19901, 19902, ..., 19997, 19998, 19999]])"
      ]
     },
     "execution_count": 105,
     "metadata": {},
     "output_type": "execute_result"
    }
   ],
   "source": [
    "np.arange(20000).reshape(200,100)"
   ]
  },
  {
   "cell_type": "markdown",
   "id": "8f2dc1eb",
   "metadata": {},
   "source": [
    "## 2.7 기본 연산 동작\n",
    "### 1) 배열의 요소별 연산"
   ]
  },
  {
   "cell_type": "code",
   "execution_count": 106,
   "id": "f7e30ce6",
   "metadata": {},
   "outputs": [
    {
     "data": {
      "text/plain": [
       "[1, 2, 3, 4, 5, 6]"
      ]
     },
     "execution_count": 106,
     "metadata": {},
     "output_type": "execute_result"
    }
   ],
   "source": [
    "l = [1, 2, 3]\n",
    "m = [4, 5, 6]\n",
    "l + m"
   ]
  },
  {
   "cell_type": "code",
   "execution_count": 113,
   "id": "e6a3da67",
   "metadata": {},
   "outputs": [
    {
     "name": "stdout",
     "output_type": "stream",
     "text": [
      "[10 20 30 40] int8\n",
      "[0 1 2 3] int32\n"
     ]
    }
   ],
   "source": [
    "a = np.array([10, 20, 30, 40], dtype=np.int8)\n",
    "b = np.arange(4)\n",
    "print(a, a.dtype)\n",
    "print(b, b.dtype)"
   ]
  },
  {
   "cell_type": "code",
   "execution_count": 114,
   "id": "7085f935",
   "metadata": {},
   "outputs": [
    {
     "name": "stdout",
     "output_type": "stream",
     "text": [
      "[10 21 32 43] int32\n"
     ]
    }
   ],
   "source": [
    "c = a + b\n",
    "print(c, c.dtype)"
   ]
  },
  {
   "cell_type": "code",
   "execution_count": 115,
   "id": "4264d65d",
   "metadata": {},
   "outputs": [
    {
     "data": {
      "text/plain": [
       "array([10, 21, 32, 43], dtype=int8)"
      ]
     },
     "execution_count": 115,
     "metadata": {},
     "output_type": "execute_result"
    }
   ],
   "source": [
    "a += b\n",
    "a"
   ]
  },
  {
   "cell_type": "code",
   "execution_count": 116,
   "id": "e58b83a4",
   "metadata": {},
   "outputs": [
    {
     "name": "stdout",
     "output_type": "stream",
     "text": [
      "[10 22 34 46] int32\n"
     ]
    }
   ],
   "source": [
    "a = a + b\n",
    "print(a, a.dtype)"
   ]
  },
  {
   "cell_type": "code",
   "execution_count": 117,
   "id": "bd949b29",
   "metadata": {},
   "outputs": [
    {
     "data": {
      "text/plain": [
       "array([    1,    22,  1156, 97336])"
      ]
     },
     "execution_count": 117,
     "metadata": {},
     "output_type": "execute_result"
    }
   ],
   "source": [
    "a ** b # ** 승연산 a 의 b 승"
   ]
  },
  {
   "cell_type": "code",
   "execution_count": 118,
   "id": "fa0fd1c2",
   "metadata": {},
   "outputs": [
    {
     "data": {
      "text/plain": [
       "array([ True,  True, False, False])"
      ]
     },
     "execution_count": 118,
     "metadata": {},
     "output_type": "execute_result"
    }
   ],
   "source": [
    "a < 30"
   ]
  },
  {
   "cell_type": "code",
   "execution_count": 119,
   "id": "ad6907c5",
   "metadata": {},
   "outputs": [
    {
     "name": "stdout",
     "output_type": "stream",
     "text": [
      "[10 22]\n",
      "[10 22]\n"
     ]
    }
   ],
   "source": [
    "print(a[ [ True,  True, False, False] ])\n",
    "print(a[a<30])"
   ]
  },
  {
   "cell_type": "code",
   "execution_count": 120,
   "id": "ca448478",
   "metadata": {},
   "outputs": [
    {
     "data": {
      "text/plain": [
       "(array([10, 22, 34, 46]), array([0, 1, 2, 3]), array([  0,  22,  68, 138]))"
      ]
     },
     "execution_count": 120,
     "metadata": {},
     "output_type": "execute_result"
    }
   ],
   "source": [
    "a, b, a*b"
   ]
  },
  {
   "cell_type": "markdown",
   "id": "9eea25d3",
   "metadata": {},
   "source": [
    "### 2) 행렬(2차원 배열)의 곱(@, dot함수)\n",
    "cf * (요소별 곱)"
   ]
  },
  {
   "cell_type": "code",
   "execution_count": 122,
   "id": "d4b99af3",
   "metadata": {},
   "outputs": [
    {
     "data": {
      "text/plain": [
       "(array([[1, 2],\n",
       "        [0, 1]]),\n",
       " array([[2, 0],\n",
       "        [3, 4]]))"
      ]
     },
     "execution_count": 122,
     "metadata": {},
     "output_type": "execute_result"
    }
   ],
   "source": [
    "a = np.array([[1, 2],\n",
    "              [0, 1]])\n",
    "b = np.array([[2, 0],\n",
    "              [3, 4]])\n",
    "a, b"
   ]
  },
  {
   "cell_type": "code",
   "execution_count": 128,
   "id": "9213c38e",
   "metadata": {},
   "outputs": [
    {
     "name": "stdout",
     "output_type": "stream",
     "text": [
      "요소별 곱 a*b= \n",
      "[[2 0]\n",
      " [0 4]]\n"
     ]
    }
   ],
   "source": [
    "print('요소별 곱 a*b= ', a * b, sep='\\n') # 요소별 곱"
   ]
  },
  {
   "cell_type": "code",
   "execution_count": 129,
   "id": "aa995743",
   "metadata": {},
   "outputs": [
    {
     "name": "stdout",
     "output_type": "stream",
     "text": [
      "행렬곱 a@b= \n",
      "[[8 8]\n",
      " [3 4]]\n",
      "행렬곱 a.dot(b) = \n",
      "[[8 8]\n",
      " [3 4]]\n"
     ]
    }
   ],
   "source": [
    "print('행렬곱 a@b= ', a @ b, sep='\\n')\n",
    "print('행렬곱 a.dot(b) = ', a.dot(b), sep='\\n')"
   ]
  },
  {
   "cell_type": "code",
   "execution_count": 130,
   "id": "4cee6463",
   "metadata": {},
   "outputs": [
    {
     "data": {
      "text/plain": [
       "array([[1., 0., 0.],\n",
       "       [0., 1., 0.],\n",
       "       [0., 0., 1.]])"
      ]
     },
     "execution_count": 130,
     "metadata": {},
     "output_type": "execute_result"
    }
   ],
   "source": [
    "# n행 n열의 단위 행열: np.eye(n)\n",
    "np.eye(3)"
   ]
  },
  {
   "cell_type": "markdown",
   "id": "7f1076df",
   "metadata": {},
   "source": [
    "### 3) 복합 대입연산자 사용\n",
    "- 배열에서는 a=a+b와 a+=b 다르게 작동"
   ]
  },
  {
   "cell_type": "code",
   "execution_count": 131,
   "id": "840e2af3",
   "metadata": {},
   "outputs": [
    {
     "data": {
      "text/plain": [
       "array([[1, 1, 1],\n",
       "       [1, 1, 1]])"
      ]
     },
     "execution_count": 131,
     "metadata": {},
     "output_type": "execute_result"
    }
   ],
   "source": [
    "a = np.ones( (2,3), dtype=int) # 2행3열 int32 배열\n",
    "a"
   ]
  },
  {
   "cell_type": "code",
   "execution_count": 137,
   "id": "627f2da5",
   "metadata": {},
   "outputs": [
    {
     "data": {
      "text/plain": [
       "array([[0.64167809, 0.49273731, 0.50655608],\n",
       "       [0.46144026, 0.89474307, 0.60577769]])"
      ]
     },
     "execution_count": 137,
     "metadata": {},
     "output_type": "execute_result"
    }
   ],
   "source": [
    "b = np.random.random( (2,3) ) # 2행3열 float64 배열\n",
    "b"
   ]
  },
  {
   "cell_type": "code",
   "execution_count": 133,
   "id": "b67c85c4",
   "metadata": {},
   "outputs": [
    {
     "ename": "UFuncTypeError",
     "evalue": "Cannot cast ufunc 'add' output from dtype('float64') to dtype('int32') with casting rule 'same_kind'",
     "output_type": "error",
     "traceback": [
      "\u001b[1;31m---------------------------------------------------------------------------\u001b[0m",
      "\u001b[1;31mUFuncTypeError\u001b[0m                            Traceback (most recent call last)",
      "Cell \u001b[1;32mIn[133], line 1\u001b[0m\n\u001b[1;32m----> 1\u001b[0m a \u001b[38;5;241m+\u001b[39m\u001b[38;5;241m=\u001b[39m b\n",
      "\u001b[1;31mUFuncTypeError\u001b[0m: Cannot cast ufunc 'add' output from dtype('float64') to dtype('int32') with casting rule 'same_kind'"
     ]
    }
   ],
   "source": [
    "a += b # a+b를 기존 a에 할당 불가하여 error"
   ]
  },
  {
   "cell_type": "code",
   "execution_count": 138,
   "id": "b760332c",
   "metadata": {},
   "outputs": [
    {
     "data": {
      "text/plain": [
       "array([[1.64167809, 1.49273731, 1.50655608],\n",
       "       [1.46144026, 1.89474307, 1.60577769]])"
      ]
     },
     "execution_count": 138,
     "metadata": {},
     "output_type": "execute_result"
    }
   ],
   "source": [
    "b += a\n",
    "b"
   ]
  },
  {
   "cell_type": "code",
   "execution_count": 139,
   "id": "9b98466d",
   "metadata": {},
   "outputs": [
    {
     "data": {
      "text/plain": [
       "array([[2.64167809, 2.49273731, 2.50655608],\n",
       "       [2.46144026, 2.89474307, 2.60577769]])"
      ]
     },
     "execution_count": 139,
     "metadata": {},
     "output_type": "execute_result"
    }
   ],
   "source": [
    "a = a + b # a+b를 새로운 변수 공간 a에 할당\n",
    "a"
   ]
  },
  {
   "cell_type": "markdown",
   "id": "03ce42f0",
   "metadata": {},
   "source": [
    "### 4) 배열 요소별 집계\n",
    "- sum, min, max, mean, var(분산), std(표준편차)"
   ]
  },
  {
   "cell_type": "code",
   "execution_count": 140,
   "id": "e3e9f503",
   "metadata": {},
   "outputs": [
    {
     "data": {
      "text/plain": [
       "array([[2, 2, 2, 3],\n",
       "       [4, 3, 2, 1]])"
      ]
     },
     "execution_count": 140,
     "metadata": {},
     "output_type": "execute_result"
    }
   ],
   "source": [
    "a = np.array([[2, 2, 2, 3],\n",
    "              [4, 3, 2, 1]])\n",
    "a"
   ]
  },
  {
   "cell_type": "code",
   "execution_count": 142,
   "id": "ce11adbc",
   "metadata": {},
   "outputs": [
    {
     "name": "stdout",
     "output_type": "stream",
     "text": [
      "전체합 : 19 19\n",
      "전체최소 : 1 1\n",
      "전체최대 : 4 4\n",
      "전체평균 : 2.375 2.375\n",
      "전체분산 : 0.734375 0.734375\n",
      "전체표준편차 : 0.8569568250501305 0.8569568250501305\n"
     ]
    }
   ],
   "source": [
    "print('전체합 :', np.sum(a), a.sum())\n",
    "print('전체최소 :', np.min(a), a.min())\n",
    "print('전체최대 :', np.max(a), a.max())\n",
    "print('전체평균 :', np.mean(a), a.mean())\n",
    "print('전체분산 :', np.var(a), a.var())\n",
    "print('전체표준편차 :', np.std(a), a.std())"
   ]
  },
  {
   "cell_type": "markdown",
   "id": "98025e3b",
   "metadata": {},
   "source": [
    "### 5) 배열 축별 집계\n",
    "- sum, min, max, mean, var, std, argmax(최대값의 인덱스)"
   ]
  },
  {
   "cell_type": "code",
   "execution_count": 143,
   "id": "c334c048",
   "metadata": {},
   "outputs": [
    {
     "data": {
      "text/plain": [
       "array([[2, 2, 2, 3],\n",
       "       [4, 3, 2, 1]])"
      ]
     },
     "execution_count": 143,
     "metadata": {},
     "output_type": "execute_result"
    }
   ],
   "source": [
    "a"
   ]
  },
  {
   "cell_type": "code",
   "execution_count": 149,
   "id": "913fabe0",
   "metadata": {},
   "outputs": [
    {
     "name": "stdout",
     "output_type": "stream",
     "text": [
      "a의 행별 합 : [ 9 10] [ 9 10]\n"
     ]
    }
   ],
   "source": [
    "# 3차원 : 면, 행, 열 순 axis 0, axis 1, axis2, 2차원 : 행, 열 순 axis 0, axis 1\n",
    "# axis = 1 : 0축을 고정으로 1축(열)들의 합\n",
    "print('a의 행별 합 :', a.sum(axis=1), np.sum(a, axis=1))"
   ]
  },
  {
   "cell_type": "code",
   "execution_count": 148,
   "id": "b8f199db",
   "metadata": {},
   "outputs": [
    {
     "name": "stdout",
     "output_type": "stream",
     "text": [
      "a의 열별 합 : [6 5 4 4] [6 5 4 4]\n"
     ]
    }
   ],
   "source": [
    "# axis = 0 : 1축을 고정으로 0축(열)들의 합\n",
    "print('a의 열별 합 :', a.sum(axis=0), np.sum(a, axis=0))"
   ]
  },
  {
   "cell_type": "code",
   "execution_count": 150,
   "id": "1ca81c11",
   "metadata": {},
   "outputs": [
    {
     "name": "stdout",
     "output_type": "stream",
     "text": [
      "a의 행별 최대값 위치 : [3 0] [3 0]\n"
     ]
    }
   ],
   "source": [
    "print('a의 행별 최대값 위치 :', a.argmax(axis=1), np.argmax(a, axis=1))"
   ]
  },
  {
   "cell_type": "code",
   "execution_count": 151,
   "id": "d97cf775",
   "metadata": {},
   "outputs": [
    {
     "name": "stdout",
     "output_type": "stream",
     "text": [
      "a의 열별 최소값 위치 : [0 0 0 1] [0 0 0 1]\n"
     ]
    }
   ],
   "source": [
    "print('a의 열별 최소값 위치 :', a.argmin(axis=0), np.argmin(a, axis=0))"
   ]
  },
  {
   "cell_type": "code",
   "execution_count": null,
   "id": "ccbc2cac",
   "metadata": {},
   "outputs": [],
   "source": [
    "# 3차원 배열의 축별 집계"
   ]
  },
  {
   "cell_type": "code",
   "execution_count": 152,
   "id": "febb5288",
   "metadata": {},
   "outputs": [
    {
     "data": {
      "text/plain": [
       "(array([[[ 0,  1,  2,  3],\n",
       "         [ 4,  5,  6,  7],\n",
       "         [ 8,  9, 10, 11]],\n",
       " \n",
       "        [[12, 13, 14, 15],\n",
       "         [16, 17, 18, 19],\n",
       "         [20, 21, 22, 23]]]),\n",
       " 3)"
      ]
     },
     "execution_count": 152,
     "metadata": {},
     "output_type": "execute_result"
    }
   ],
   "source": [
    "b = np.arange(24).reshape(2,3,4) # 2면 3행 4열\n",
    "b, b.ndim"
   ]
  },
  {
   "cell_type": "code",
   "execution_count": 153,
   "id": "92737959",
   "metadata": {},
   "outputs": [
    {
     "data": {
      "text/plain": [
       "(array([[12, 14, 16, 18],\n",
       "        [20, 22, 24, 26],\n",
       "        [28, 30, 32, 34]]),\n",
       " array([[12, 14, 16, 18],\n",
       "        [20, 22, 24, 26],\n",
       "        [28, 30, 32, 34]]))"
      ]
     },
     "execution_count": 153,
     "metadata": {},
     "output_type": "execute_result"
    }
   ],
   "source": [
    "# axis=0 : 1축과 2축 고정하고 0축(0면, 1행)들의 합\n",
    "b.sum(axis=0), np.sum(b, axis=0)"
   ]
  },
  {
   "cell_type": "code",
   "execution_count": 154,
   "id": "f608869b",
   "metadata": {},
   "outputs": [
    {
     "data": {
      "text/plain": [
       "(array([[ 4.,  5.,  6.,  7.],\n",
       "        [16., 17., 18., 19.]]),\n",
       " array([[ 4.,  5.,  6.,  7.],\n",
       "        [16., 17., 18., 19.]]))"
      ]
     },
     "execution_count": 154,
     "metadata": {},
     "output_type": "execute_result"
    }
   ],
   "source": [
    "# axis=1, 1축과 2축 고정하고 0축(1행, 2열)들의 평균\n",
    "b.mean(axis=1), np.mean(b, axis=1)"
   ]
  },
  {
   "cell_type": "code",
   "execution_count": 155,
   "id": "dedf0c71",
   "metadata": {},
   "outputs": [
    {
     "data": {
      "text/plain": [
       "(array([[1.25, 1.25, 1.25],\n",
       "        [1.25, 1.25, 1.25]]),\n",
       " array([[1.25, 1.25, 1.25],\n",
       "        [1.25, 1.25, 1.25]]))"
      ]
     },
     "execution_count": 155,
     "metadata": {},
     "output_type": "execute_result"
    }
   ],
   "source": [
    "# axis=2, 0축과 1축 고정하고 2축(0면, 1행)들의 분산\n",
    "b.var(axis=2), np.var(b, axis=2)"
   ]
  },
  {
   "cell_type": "markdown",
   "id": "16f48b02",
   "metadata": {},
   "source": [
    "## 2.8 그외 요소별 계산하는 범용함수들\n",
    "- 메모리나 시간을 효율적으로 사용할 수 있음\n",
    "- np.add(A, B, C) ; C=np.add(A,B) ; C=A+B\n",
    "- np.subtract(A, B, C) ; C=np.subtract(A,B) ; C=A-B\n",
    "- np.multiply(A, B, C) ; C=np.multiply(A,B) ; C=A*B\n",
    "- np.sqrt(배열) ; 요소별 제곱근 cf. math.sqrt(스칼라값)"
   ]
  },
  {
   "cell_type": "code",
   "execution_count": 156,
   "id": "2878c0f1",
   "metadata": {},
   "outputs": [
    {
     "name": "stdout",
     "output_type": "stream",
     "text": [
      "CPU times: total: 0 ns\n",
      "Wall time: 0 ns\n"
     ]
    }
   ],
   "source": [
    "%time\n",
    "a = np.array([1, 2])\n",
    "b = np.array([3, 4])\n",
    "c = a + b"
   ]
  },
  {
   "cell_type": "code",
   "execution_count": 157,
   "id": "e160a078",
   "metadata": {},
   "outputs": [
    {
     "data": {
      "text/plain": [
       "array([4, 6])"
      ]
     },
     "execution_count": 157,
     "metadata": {},
     "output_type": "execute_result"
    }
   ],
   "source": [
    "np.add(a,b,c)\n",
    "c"
   ]
  },
  {
   "cell_type": "code",
   "execution_count": 158,
   "id": "02600df6",
   "metadata": {},
   "outputs": [
    {
     "data": {
      "text/plain": [
       "(array([1, 2]), array([1.        , 1.41421356]), 2.0)"
      ]
     },
     "execution_count": 158,
     "metadata": {},
     "output_type": "execute_result"
    }
   ],
   "source": [
    "# np.sqrt(배열 또는 스칼라값) math.sqrt(스칼라)\n",
    "a, np.sqrt(a), np.sqrt(4)"
   ]
  },
  {
   "cell_type": "code",
   "execution_count": 160,
   "id": "4347b1d9",
   "metadata": {},
   "outputs": [
    {
     "ename": "TypeError",
     "evalue": "only size-1 arrays can be converted to Python scalars",
     "output_type": "error",
     "traceback": [
      "\u001b[1;31m---------------------------------------------------------------------------\u001b[0m",
      "\u001b[1;31mTypeError\u001b[0m                                 Traceback (most recent call last)",
      "Cell \u001b[1;32mIn[160], line 3\u001b[0m\n\u001b[0;32m      1\u001b[0m \u001b[38;5;28;01mimport\u001b[39;00m \u001b[38;5;21;01mmath\u001b[39;00m\n\u001b[0;32m      2\u001b[0m math\u001b[38;5;241m.\u001b[39msqrt(\u001b[38;5;241m4\u001b[39m)\n\u001b[1;32m----> 3\u001b[0m \u001b[43mmath\u001b[49m\u001b[38;5;241;43m.\u001b[39;49m\u001b[43msqrt\u001b[49m\u001b[43m(\u001b[49m\u001b[43ma\u001b[49m\u001b[43m)\u001b[49m\n",
      "\u001b[1;31mTypeError\u001b[0m: only size-1 arrays can be converted to Python scalars"
     ]
    }
   ],
   "source": [
    "import math\n",
    "math.sqrt(4)\n",
    "math.sqrt(a)"
   ]
  },
  {
   "cell_type": "markdown",
   "id": "8cf4b344",
   "metadata": {},
   "source": [
    "## 2.9 브로드캐스팅\n",
    "- 서로 다른 크기의 배열 간 연산을 수행할 수 있도록 해주는 강력한 기능"
   ]
  },
  {
   "cell_type": "code",
   "execution_count": 164,
   "id": "73164616",
   "metadata": {},
   "outputs": [
    {
     "name": "stdout",
     "output_type": "stream",
     "text": [
      "[11 12 13]\n",
      "[11 12 13]\n"
     ]
    }
   ],
   "source": [
    "# 1차원 배열\n",
    "a = np.array([1,2,3])\n",
    "b = 10\n",
    "print(a + b)\n",
    "print(np.add(a,b))"
   ]
  },
  {
   "cell_type": "code",
   "execution_count": 165,
   "id": "fe927cd8",
   "metadata": {},
   "outputs": [
    {
     "name": "stdout",
     "output_type": "stream",
     "text": [
      "[11 12 13]\n",
      "[11 12 13]\n"
     ]
    }
   ],
   "source": [
    "# 1차원 배열의 브로드캐스팅\n",
    "a = np.array([1,2,3])\n",
    "b = np.array([10])\n",
    "print(a + b)\n",
    "print(np.add(a,b))"
   ]
  },
  {
   "cell_type": "code",
   "execution_count": 166,
   "id": "7c8efaa3",
   "metadata": {},
   "outputs": [],
   "source": [
    "# 2차원 배열의 브로드캐스팅\n",
    "a = np.array([[0,0,0],\n",
    "             [10,10,10],\n",
    "             [20,20,20],\n",
    "             [30,30,30]]) # 4행 3열\n",
    "b = np.array([1,2,3]) # 3열"
   ]
  },
  {
   "cell_type": "code",
   "execution_count": 167,
   "id": "ec4f298a",
   "metadata": {},
   "outputs": [
    {
     "name": "stdout",
     "output_type": "stream",
     "text": [
      "[[ 1  2  3]\n",
      " [11 12 13]\n",
      " [21 22 23]\n",
      " [31 32 33]]\n",
      "[[ 1  2  3]\n",
      " [11 12 13]\n",
      " [21 22 23]\n",
      " [31 32 33]]\n"
     ]
    }
   ],
   "source": [
    "print(a + b)\n",
    "print(np.add(a,b))"
   ]
  },
  {
   "cell_type": "code",
   "execution_count": 170,
   "id": "e8698d12",
   "metadata": {},
   "outputs": [
    {
     "data": {
      "text/plain": [
       "array([[ 1,  1,  1],\n",
       "       [12, 12, 12],\n",
       "       [23, 23, 23],\n",
       "       [34, 34, 34]])"
      ]
     },
     "execution_count": 170,
     "metadata": {},
     "output_type": "execute_result"
    }
   ],
   "source": [
    "# 2차원 배열의 브로드캐스팅\n",
    "a = np.array([[0,0,0],\n",
    "             [10,10,10],\n",
    "             [20,20,20],\n",
    "             [30,30,30]]) # 4행 3열\n",
    "b = np.array([[1],\n",
    "             [2],\n",
    "             [3],\n",
    "             [4]]) # 4행 1열\n",
    "a + b"
   ]
  },
  {
   "cell_type": "code",
   "execution_count": 175,
   "id": "156bc9fe",
   "metadata": {},
   "outputs": [
    {
     "data": {
      "text/plain": [
       "array([[1],\n",
       "       [2],\n",
       "       [3],\n",
       "       [4]])"
      ]
     },
     "execution_count": 175,
     "metadata": {},
     "output_type": "execute_result"
    }
   ],
   "source": [
    "b = np.array([1,2,3,4]) # 4열 -> (축증가) -> 4행 1열\n",
    "# b_1 = b.reshape(4,1) # 방법1\n",
    "b_1 = b[:, np.newaxis] # 방법2\n",
    "b_1 = np.expand_dims(b, axis=1) # 방법 3\n",
    "b_1"
   ]
  },
  {
   "cell_type": "code",
   "execution_count": 176,
   "id": "1bd1ae73",
   "metadata": {},
   "outputs": [
    {
     "data": {
      "text/plain": [
       "array([[ 1,  1,  1],\n",
       "       [12, 12, 12],\n",
       "       [23, 23, 23],\n",
       "       [34, 34, 34]])"
      ]
     },
     "execution_count": 176,
     "metadata": {},
     "output_type": "execute_result"
    }
   ],
   "source": [
    "a + b[:, np.newaxis]"
   ]
  },
  {
   "cell_type": "code",
   "execution_count": 177,
   "id": "ade94eed",
   "metadata": {},
   "outputs": [
    {
     "data": {
      "text/plain": [
       "array([[12, 13, 14, 15],\n",
       "       [22, 23, 24, 25],\n",
       "       [32, 33, 34, 35],\n",
       "       [42, 43, 44, 45]])"
      ]
     },
     "execution_count": 177,
     "metadata": {},
     "output_type": "execute_result"
    }
   ],
   "source": [
    "# a와 b의 모든 쌍의 조합에 대해 계산하고 싶을 때\n",
    "a = np.array([2,3,4,5])\n",
    "b = np.array([10,20,30,40])\n",
    "a + b[:, np.newaxis]"
   ]
  },
  {
   "cell_type": "code",
   "execution_count": 178,
   "id": "74d4e717",
   "metadata": {},
   "outputs": [
    {
     "data": {
      "text/plain": [
       "array([[12, 22, 32, 42],\n",
       "       [13, 23, 33, 43],\n",
       "       [14, 24, 34, 44],\n",
       "       [15, 25, 35, 45]])"
      ]
     },
     "execution_count": 178,
     "metadata": {},
     "output_type": "execute_result"
    }
   ],
   "source": [
    "a[:, np.newaxis] + b"
   ]
  },
  {
   "cell_type": "code",
   "execution_count": 180,
   "id": "3fec99e9",
   "metadata": {},
   "outputs": [
    {
     "data": {
      "text/plain": [
       "array([[12, 22, 32, 42],\n",
       "       [13, 23, 33, 43],\n",
       "       [14, 24, 34, 44],\n",
       "       [15, 25, 35, 45]])"
      ]
     },
     "execution_count": 180,
     "metadata": {},
     "output_type": "execute_result"
    }
   ],
   "source": [
    "ax, bx = np.ix_(a,b)\n",
    "ax+bx"
   ]
  },
  {
   "cell_type": "markdown",
   "id": "3036b560",
   "metadata": {},
   "source": [
    "# 3절. 배열 합치기 / 분리하기\n",
    "- 슬라이싱\n",
    "- 두배열을 합치는 함수\n",
    "- r_, c_\n",
    "- 두배열로 분리하는 함수\n",
    "## 3.1 인덱싱과 슬라이싱\n",
    "- 인덱싱에는 없는 인덱스 사용시 에러\n",
    "- 슬라이싱에는 없는 인덱스 사용시 끝까지\n",
    "- 음수 인덱스는 끝에서부터"
   ]
  },
  {
   "cell_type": "code",
   "execution_count": 181,
   "id": "182d1495",
   "metadata": {},
   "outputs": [
    {
     "data": {
      "text/plain": [
       "array([ 0,  3,  6,  9, 12, 15, 18, 21, 24, 27])"
      ]
     },
     "execution_count": 181,
     "metadata": {},
     "output_type": "execute_result"
    }
   ],
   "source": [
    "a = np.arange(10) * 3\n",
    "a"
   ]
  },
  {
   "cell_type": "code",
   "execution_count": 182,
   "id": "2cc13c2a",
   "metadata": {},
   "outputs": [
    {
     "ename": "IndexError",
     "evalue": "index 20 is out of bounds for axis 0 with size 10",
     "output_type": "error",
     "traceback": [
      "\u001b[1;31m---------------------------------------------------------------------------\u001b[0m",
      "\u001b[1;31mIndexError\u001b[0m                                Traceback (most recent call last)",
      "Cell \u001b[1;32mIn[182], line 1\u001b[0m\n\u001b[1;32m----> 1\u001b[0m \u001b[43ma\u001b[49m\u001b[43m[\u001b[49m\u001b[38;5;241;43m20\u001b[39;49m\u001b[43m]\u001b[49m\n",
      "\u001b[1;31mIndexError\u001b[0m: index 20 is out of bounds for axis 0 with size 10"
     ]
    }
   ],
   "source": [
    "a[20]"
   ]
  },
  {
   "cell_type": "code",
   "execution_count": 184,
   "id": "03d427d7",
   "metadata": {},
   "outputs": [
    {
     "data": {
      "text/plain": [
       "array([[ 0,  1,  2,  3],\n",
       "       [ 4,  5,  6,  7],\n",
       "       [ 8,  9, 10, 11],\n",
       "       [12, 13, 14, 15],\n",
       "       [16, 17, 18, 19]])"
      ]
     },
     "execution_count": 184,
     "metadata": {},
     "output_type": "execute_result"
    }
   ],
   "source": [
    "a = np.arange(20).reshape(5,4)\n",
    "a"
   ]
  },
  {
   "cell_type": "code",
   "execution_count": 185,
   "id": "8bc29226",
   "metadata": {},
   "outputs": [
    {
     "data": {
      "text/plain": [
       "array([[ 5,  6],\n",
       "       [ 9, 10]])"
      ]
     },
     "execution_count": 185,
     "metadata": {},
     "output_type": "execute_result"
    }
   ],
   "source": [
    "a[1:3, 1:3]"
   ]
  },
  {
   "cell_type": "code",
   "execution_count": 187,
   "id": "aa92e382",
   "metadata": {},
   "outputs": [
    {
     "data": {
      "text/plain": [
       "(array([[ 0,  1,  2],\n",
       "        [ 4,  5,  6],\n",
       "        [ 8,  9, 10],\n",
       "        [12, 13, 14],\n",
       "        [16, 17, 18]]),\n",
       " array([[ 0,  1,  2],\n",
       "        [ 4,  5,  6],\n",
       "        [ 8,  9, 10],\n",
       "        [12, 13, 14],\n",
       "        [16, 17, 18]]))"
      ]
     },
     "execution_count": 187,
     "metadata": {},
     "output_type": "execute_result"
    }
   ],
   "source": [
    "# 모든 행의 마지막 열 앞까지 (모든 행=모든 0축의 경우 ':'나 '...'을 반드시 명시)\n",
    "a[:, 0:-1], a[..., :-1]"
   ]
  },
  {
   "cell_type": "code",
   "execution_count": 188,
   "id": "c8812537",
   "metadata": {},
   "outputs": [
    {
     "data": {
      "text/plain": [
       "(array([[0, 1, 2, 3],\n",
       "        [4, 5, 6, 7]]),\n",
       " array([[0, 1, 2, 3],\n",
       "        [4, 5, 6, 7]]),\n",
       " array([[0, 1, 2, 3],\n",
       "        [4, 5, 6, 7]]))"
      ]
     },
     "execution_count": 188,
     "metadata": {},
     "output_type": "execute_result"
    }
   ],
   "source": [
    "# 0~1행까지 모든열 추출(모든 열(1축)의 경우 생략 가능, ':'나 '...' 사용 가능)\n",
    "a[0:2, :], a[:2, ...], a[:2]"
   ]
  },
  {
   "cell_type": "code",
   "execution_count": 193,
   "id": "b396f968",
   "metadata": {},
   "outputs": [
    {
     "data": {
      "text/plain": [
       "(array([[16],\n",
       "        [17],\n",
       "        [18],\n",
       "        [19]]),\n",
       " array([[16],\n",
       "        [17],\n",
       "        [18],\n",
       "        [19]]),\n",
       " array([[16],\n",
       "        [17],\n",
       "        [18],\n",
       "        [19]]))"
      ]
     },
     "execution_count": 193,
     "metadata": {},
     "output_type": "execute_result"
    }
   ],
   "source": [
    "# 마지막 행의 데이터를 2차원으로 변경 -> 4행 1열\n",
    "a[-1, ...].reshape(4,1), a[-1][:, np.newaxis], np.expand_dims(a[-1], axis=1)"
   ]
  },
  {
   "cell_type": "markdown",
   "id": "23af793c",
   "metadata": {},
   "source": [
    "## 3.2 두 배열을 합치는 함수\n",
    "- **vstack(tup) : 아래로 추가하는 방식**\n",
    "- **hstack(tup) : 옆으로 추가하는 방식**\n",
    "- **dstack(tup) : 마지막 축(열)을 쌓아 합침(차원증가)**"
   ]
  },
  {
   "cell_type": "code",
   "execution_count": 196,
   "id": "afb096e2",
   "metadata": {},
   "outputs": [
    {
     "name": "stdout",
     "output_type": "stream",
     "text": [
      "vstack: 아래로 합치기 \n",
      "[[1 2 3]\n",
      " [4 5 6]]\n",
      "(2, 3)\n",
      "hstack: 옆으로 합치기 \n",
      "[1 2 3 4 5 6]\n",
      "(6,)\n",
      "dstack: 옆으로 합치기 \n",
      "[[[1 4]\n",
      "  [2 5]\n",
      "  [3 6]]]\n",
      "(1, 3, 2)\n"
     ]
    }
   ],
   "source": [
    "a = np.array([1,2,3])\n",
    "b = np.array([4,5,6])\n",
    "v = np.vstack( (a,b) )\n",
    "print('vstack: 아래로 합치기 ', v, v.shape, sep='\\n')\n",
    "h = np.hstack( (a,b) )\n",
    "print('hstack: 옆으로 합치기 ', h, h.shape, sep='\\n')\n",
    "d = np.dstack( (a,b) )\n",
    "print('dstack: 옆으로 합치기 ', d, d.shape, sep='\\n')"
   ]
  },
  {
   "cell_type": "code",
   "execution_count": 199,
   "id": "e579fe3f",
   "metadata": {},
   "outputs": [
    {
     "data": {
      "text/plain": [
       "(array([[[ 0,  1,  2,  3],\n",
       "         [ 4,  5,  6,  7],\n",
       "         [ 8,  9, 10, 11]],\n",
       " \n",
       "        [[12, 13, 14, 15],\n",
       "         [16, 17, 18, 19],\n",
       "         [20, 21, 22, 23]]]),\n",
       " array([[ 0,  1,  2,  3],\n",
       "        [ 4,  5,  6,  7],\n",
       "        [ 8,  9, 10, 11]]),\n",
       " array([[12, 13, 14, 15],\n",
       "        [16, 17, 18, 19],\n",
       "        [20, 21, 22, 23]]))"
      ]
     },
     "execution_count": 199,
     "metadata": {},
     "output_type": "execute_result"
    }
   ],
   "source": [
    "c = np.arange(24).reshape(2,3,4)\n",
    "a, b = c[0], c[1]\n",
    "c, a, b"
   ]
  },
  {
   "cell_type": "code",
   "execution_count": 200,
   "id": "6b98d110",
   "metadata": {},
   "outputs": [
    {
     "name": "stdout",
     "output_type": "stream",
     "text": [
      "vstack: 아래로 합치기 \n",
      "[[ 0  1  2  3]\n",
      " [ 4  5  6  7]\n",
      " [ 8  9 10 11]\n",
      " [12 13 14 15]\n",
      " [16 17 18 19]\n",
      " [20 21 22 23]]\n",
      "(6, 4)\n",
      "hstack: 옆으로 합치기 \n",
      "[[ 0  1  2  3 12 13 14 15]\n",
      " [ 4  5  6  7 16 17 18 19]\n",
      " [ 8  9 10 11 20 21 22 23]]\n",
      "(3, 8)\n",
      "dstack: 옆으로 합치기 \n",
      "[[[ 0 12]\n",
      "  [ 1 13]\n",
      "  [ 2 14]\n",
      "  [ 3 15]]\n",
      "\n",
      " [[ 4 16]\n",
      "  [ 5 17]\n",
      "  [ 6 18]\n",
      "  [ 7 19]]\n",
      "\n",
      " [[ 8 20]\n",
      "  [ 9 21]\n",
      "  [10 22]\n",
      "  [11 23]]]\n",
      "(3, 4, 2)\n"
     ]
    }
   ],
   "source": [
    "v = np.vstack( (a,b) )\n",
    "print('vstack: 아래로 합치기 ', v, v.shape, sep='\\n')\n",
    "h = np.hstack( (a,b) )\n",
    "print('hstack: 옆으로 합치기 ', h, h.shape, sep='\\n')\n",
    "d = np.dstack( (a,b) )\n",
    "print('dstack: 옆으로 합치기 ', d, d.shape, sep='\\n')"
   ]
  },
  {
   "cell_type": "code",
   "execution_count": 201,
   "id": "5d9a9a49",
   "metadata": {},
   "outputs": [
    {
     "data": {
      "text/plain": [
       "array([[ 0,  1,  2,  3],\n",
       "       [ 4,  5,  6,  7],\n",
       "       [ 8,  9, 10, 11],\n",
       "       [12, 13, 14, 15],\n",
       "       [16, 17, 18, 19],\n",
       "       [20, 21, 22, 23]])"
      ]
     },
     "execution_count": 201,
     "metadata": {},
     "output_type": "execute_result"
    }
   ],
   "source": [
    "np.concatenate( (a,b), axis=0) # vstack( (a,b))"
   ]
  },
  {
   "cell_type": "code",
   "execution_count": 202,
   "id": "42e095fa",
   "metadata": {},
   "outputs": [
    {
     "data": {
      "text/plain": [
       "array([[ 0,  1,  2,  3, 12, 13, 14, 15],\n",
       "       [ 4,  5,  6,  7, 16, 17, 18, 19],\n",
       "       [ 8,  9, 10, 11, 20, 21, 22, 23]])"
      ]
     },
     "execution_count": 202,
     "metadata": {},
     "output_type": "execute_result"
    }
   ],
   "source": [
    "np.concatenate( (a,b), axis=1) # hstack( (a,b))"
   ]
  },
  {
   "cell_type": "markdown",
   "id": "a2b5ea84",
   "metadata": {},
   "source": [
    "- **column_stack(tup) : 열단위로 합침**\n",
    "- **row_stack(tup) : 행단위로 합침 == vstack(tup)**\n",
    "- **stack(tup, axis=?) : axis 속성에 따라 배열합침 axis 음수차원 가능**"
   ]
  },
  {
   "cell_type": "code",
   "execution_count": 203,
   "id": "fb6594d6",
   "metadata": {},
   "outputs": [
    {
     "data": {
      "text/plain": [
       "array([[1, 4, 7],\n",
       "       [2, 5, 8],\n",
       "       [3, 6, 9]])"
      ]
     },
     "execution_count": 203,
     "metadata": {},
     "output_type": "execute_result"
    }
   ],
   "source": [
    "a = np.array([1,2,3])\n",
    "b = np.array([4,5,6])\n",
    "c = np.array([7,8,9])\n",
    "np.column_stack( (a,b,c))"
   ]
  },
  {
   "cell_type": "code",
   "execution_count": 205,
   "id": "1c16e487",
   "metadata": {},
   "outputs": [
    {
     "data": {
      "text/plain": [
       "array([[1, 2, 3],\n",
       "       [4, 5, 6],\n",
       "       [7, 8, 9]])"
      ]
     },
     "execution_count": 205,
     "metadata": {},
     "output_type": "execute_result"
    }
   ],
   "source": [
    "np.row_stack( (a,b,c))"
   ]
  },
  {
   "cell_type": "code",
   "execution_count": 206,
   "id": "d48102eb",
   "metadata": {},
   "outputs": [
    {
     "data": {
      "text/plain": [
       "(array([[[ 0,  1,  2,  3],\n",
       "         [ 4,  5,  6,  7],\n",
       "         [ 8,  9, 10, 11]],\n",
       " \n",
       "        [[12, 13, 14, 15],\n",
       "         [16, 17, 18, 19],\n",
       "         [20, 21, 22, 23]]]),\n",
       " array([[ 0,  1,  2,  3],\n",
       "        [ 4,  5,  6,  7],\n",
       "        [ 8,  9, 10, 11]]),\n",
       " array([[12, 13, 14, 15],\n",
       "        [16, 17, 18, 19],\n",
       "        [20, 21, 22, 23]]))"
      ]
     },
     "execution_count": 206,
     "metadata": {},
     "output_type": "execute_result"
    }
   ],
   "source": [
    "c = np.arange(24).reshape(2,3,4)\n",
    "a, b = c[0], c[1]\n",
    "c, a, b"
   ]
  },
  {
   "cell_type": "code",
   "execution_count": 207,
   "id": "f52a5445",
   "metadata": {},
   "outputs": [
    {
     "data": {
      "text/plain": [
       "array([[[ 0,  1,  2,  3],\n",
       "        [ 4,  5,  6,  7],\n",
       "        [ 8,  9, 10, 11]],\n",
       "\n",
       "       [[12, 13, 14, 15],\n",
       "        [16, 17, 18, 19],\n",
       "        [20, 21, 22, 23]]])"
      ]
     },
     "execution_count": 207,
     "metadata": {},
     "output_type": "execute_result"
    }
   ],
   "source": [
    "np.stack( (a,b), axis=0) # 0면 b, 1면 b"
   ]
  },
  {
   "cell_type": "code",
   "execution_count": 208,
   "id": "d02d70bf",
   "metadata": {},
   "outputs": [
    {
     "data": {
      "text/plain": [
       "array([[[ 0,  1,  2,  3],\n",
       "        [12, 13, 14, 15]],\n",
       "\n",
       "       [[ 4,  5,  6,  7],\n",
       "        [16, 17, 18, 19]],\n",
       "\n",
       "       [[ 8,  9, 10, 11],\n",
       "        [20, 21, 22, 23]]])"
      ]
     },
     "execution_count": 208,
     "metadata": {},
     "output_type": "execute_result"
    }
   ],
   "source": [
    "np.stack( (a,b), axis=1) # 행(1축)끼리 합쳐서 면을 이룸"
   ]
  },
  {
   "cell_type": "code",
   "execution_count": 209,
   "id": "cad2d956",
   "metadata": {},
   "outputs": [
    {
     "data": {
      "text/plain": [
       "array([[[ 0, 12],\n",
       "        [ 1, 13],\n",
       "        [ 2, 14],\n",
       "        [ 3, 15]],\n",
       "\n",
       "       [[ 4, 16],\n",
       "        [ 5, 17],\n",
       "        [ 6, 18],\n",
       "        [ 7, 19]],\n",
       "\n",
       "       [[ 8, 20],\n",
       "        [ 9, 21],\n",
       "        [10, 22],\n",
       "        [11, 23]]])"
      ]
     },
     "execution_count": 209,
     "metadata": {},
     "output_type": "execute_result"
    }
   ],
   "source": [
    "np.stack( (a,b), axis=-1) # a의 행과 b의 행을 열로 합쳐서 면을 이룸"
   ]
  },
  {
   "cell_type": "code",
   "execution_count": 213,
   "id": "359ffe16",
   "metadata": {},
   "outputs": [
    {
     "data": {
      "text/plain": [
       "array([[ 0,  1,  2,  9, 10, 11],\n",
       "       [ 3,  4,  5, 12, 13, 14],\n",
       "       [ 6,  7,  8, 15, 16, 17]])"
      ]
     },
     "execution_count": 213,
     "metadata": {},
     "output_type": "execute_result"
    }
   ],
   "source": [
    "c = np.arange(18).reshape(2,3,3)\n",
    "a, b = c[0], c[1]\n",
    "c, a, b\n",
    "np.column_stack( (a, b))"
   ]
  },
  {
   "cell_type": "code",
   "execution_count": 214,
   "id": "a6dae22a",
   "metadata": {},
   "outputs": [
    {
     "data": {
      "text/plain": [
       "array([[ 0,  1,  2],\n",
       "       [ 3,  4,  5],\n",
       "       [ 6,  7,  8],\n",
       "       [ 9, 10, 11],\n",
       "       [12, 13, 14],\n",
       "       [15, 16, 17]])"
      ]
     },
     "execution_count": 214,
     "metadata": {},
     "output_type": "execute_result"
    }
   ],
   "source": [
    "np.row_stack( (a, b))"
   ]
  },
  {
   "cell_type": "markdown",
   "id": "f460077f",
   "metadata": {},
   "source": [
    "# 3.3 r_, c_"
   ]
  },
  {
   "cell_type": "code",
   "execution_count": 215,
   "id": "275ea852",
   "metadata": {},
   "outputs": [
    {
     "data": {
      "text/plain": [
       "array([1, 2, 3, 4, 5, 6, 7, 8, 7, 8, 9, 0])"
      ]
     },
     "execution_count": 215,
     "metadata": {},
     "output_type": "execute_result"
    }
   ],
   "source": [
    "a = np.array([1,2,3,4])\n",
    "b = np.array([5,6,7,8])\n",
    "c = np.array([7,8,9,0])\n",
    "np.r_[a,b,c] # 행 합치기"
   ]
  },
  {
   "cell_type": "code",
   "execution_count": 216,
   "id": "0ccdf840",
   "metadata": {},
   "outputs": [
    {
     "data": {
      "text/plain": [
       "array([[1, 2, 3, 4],\n",
       "       [5, 6, 7, 8],\n",
       "       [7, 8, 9, 0]])"
      ]
     },
     "execution_count": 216,
     "metadata": {},
     "output_type": "execute_result"
    }
   ],
   "source": [
    "np.r_[[a],[b],[c]]"
   ]
  },
  {
   "cell_type": "code",
   "execution_count": 217,
   "id": "1d2a636f",
   "metadata": {},
   "outputs": [
    {
     "data": {
      "text/plain": [
       "array([[1, 5, 7],\n",
       "       [2, 6, 8],\n",
       "       [3, 7, 9],\n",
       "       [4, 8, 0]])"
      ]
     },
     "execution_count": 217,
     "metadata": {},
     "output_type": "execute_result"
    }
   ],
   "source": [
    "np.c_[a,b,c] # 컬럼 붙이기"
   ]
  },
  {
   "cell_type": "markdown",
   "id": "e0bdd1c6",
   "metadata": {},
   "source": [
    "## 3.4 배열 분리하는 함수\n",
    "- **vsplit(ary, 정수나 벡터) : 첫번째 축을 따라 분할**\n",
    "- **hsplit(ary, 정수나 벡터) : 두번째 축을 따라 분할**\n",
    "- **dsplit(ary, 정수나 벡터) : depth 따라 나눔 (3차원 이상에서만 동작)**\n",
    "    - 정수 n : n개 분리\n",
    "    - [n] : n번째 인덱스를 기점으로 분리\n",
    "    - [m,n] : m번째, n번째 인덱스를 기점으로 분리"
   ]
  },
  {
   "cell_type": "code",
   "execution_count": 218,
   "id": "08157e1b",
   "metadata": {},
   "outputs": [
    {
     "data": {
      "text/plain": [
       "array([[ 0,  1,  2,  3],\n",
       "       [ 4,  5,  6,  7],\n",
       "       [ 8,  9, 10, 11]])"
      ]
     },
     "execution_count": 218,
     "metadata": {},
     "output_type": "execute_result"
    }
   ],
   "source": [
    "a = np.arange(12).reshape(3, 4)\n",
    "a"
   ]
  },
  {
   "cell_type": "code",
   "execution_count": 221,
   "id": "6e5d9b10",
   "metadata": {},
   "outputs": [
    {
     "data": {
      "text/plain": [
       "(array([[ 0,  1,  2,  3],\n",
       "        [ 4,  5,  6,  7],\n",
       "        [ 8,  9, 10, 11]]),\n",
       " [array([[0, 1, 2, 3]]), array([[4, 5, 6, 7]]), array([[ 8,  9, 10, 11]])])"
      ]
     },
     "execution_count": 221,
     "metadata": {},
     "output_type": "execute_result"
    }
   ],
   "source": [
    "a_vsplit = np.vsplit(a, 3) # 2개로 분리는 에러\n",
    "a, a_vsplit"
   ]
  },
  {
   "cell_type": "code",
   "execution_count": 222,
   "id": "ea1ecba8",
   "metadata": {},
   "outputs": [
    {
     "data": {
      "text/plain": [
       "[array([[0, 1, 2, 3],\n",
       "        [4, 5, 6, 7]]),\n",
       " array([[ 8,  9, 10, 11]])]"
      ]
     },
     "execution_count": 222,
     "metadata": {},
     "output_type": "execute_result"
    }
   ],
   "source": [
    "np.vsplit(a, [2]) # [2] 2번 인덱스를 기점으로"
   ]
  },
  {
   "cell_type": "code",
   "execution_count": 223,
   "id": "046555fd",
   "metadata": {},
   "outputs": [
    {
     "data": {
      "text/plain": [
       "[array([[0, 1],\n",
       "        [4, 5],\n",
       "        [8, 9]]),\n",
       " array([[ 2,  3],\n",
       "        [ 6,  7],\n",
       "        [10, 11]])]"
      ]
     },
     "execution_count": 223,
     "metadata": {},
     "output_type": "execute_result"
    }
   ],
   "source": [
    "np.hsplit(a, 2) # 3개로 나눌 때 에러"
   ]
  },
  {
   "cell_type": "code",
   "execution_count": 224,
   "id": "e9f59abb",
   "metadata": {},
   "outputs": [
    {
     "data": {
      "text/plain": [
       "[array([[0, 1],\n",
       "        [4, 5],\n",
       "        [8, 9]]),\n",
       " array([[ 2],\n",
       "        [ 6],\n",
       "        [10]]),\n",
       " array([[ 3],\n",
       "        [ 7],\n",
       "        [11]])]"
      ]
     },
     "execution_count": 224,
     "metadata": {},
     "output_type": "execute_result"
    }
   ],
   "source": [
    "np.hsplit(a, [2,3]) # [2,3]: 분리될 기준 인덱스"
   ]
  },
  {
   "cell_type": "markdown",
   "id": "54c691c6",
   "metadata": {},
   "source": [
    "- **split(ary, 갯수나 인덱스벡터, axis)**\n",
    "    - axis=0 : vsplit() 동일\n",
    "    - axis=1 : hsplit() 동일\n",
    "    - axis=2 : 3차원 이상에서만 동작 dsplit() 동일\n",
    "- **array_split(ary, 갯수나 인덱스벡터, axis)**\n",
    "    - split과의 차이점은 나눠지지 않은 정수로도 사용 가능"
   ]
  },
  {
   "cell_type": "code",
   "execution_count": 227,
   "id": "e4140233",
   "metadata": {},
   "outputs": [
    {
     "data": {
      "text/plain": [
       "array([[ 0,  1,  2,  3,  4,  5,  6,  7,  8,  9],\n",
       "       [10, 11, 12, 13, 14, 15, 16, 17, 18, 19],\n",
       "       [20, 21, 22, 23, 24, 25, 26, 27, 28, 29],\n",
       "       [30, 31, 32, 33, 34, 35, 36, 37, 38, 39]])"
      ]
     },
     "execution_count": 227,
     "metadata": {},
     "output_type": "execute_result"
    }
   ],
   "source": [
    "a = np.arange(40).reshape(4, 10)\n",
    "a"
   ]
  },
  {
   "cell_type": "code",
   "execution_count": 228,
   "id": "79ab135b",
   "metadata": {},
   "outputs": [
    {
     "data": {
      "text/plain": [
       "[array([[ 0,  1,  2,  3,  4,  5,  6,  7,  8,  9],\n",
       "        [10, 11, 12, 13, 14, 15, 16, 17, 18, 19]]),\n",
       " array([[20, 21, 22, 23, 24, 25, 26, 27, 28, 29],\n",
       "        [30, 31, 32, 33, 34, 35, 36, 37, 38, 39]])]"
      ]
     },
     "execution_count": 228,
     "metadata": {},
     "output_type": "execute_result"
    }
   ],
   "source": [
    "np.split(a, 2, axis=0) # 행분리"
   ]
  },
  {
   "cell_type": "code",
   "execution_count": 232,
   "id": "cedcb217",
   "metadata": {},
   "outputs": [
    {
     "data": {
      "text/plain": [
       "[array([[ 0,  1,  2,  3,  4],\n",
       "        [10, 11, 12, 13, 14],\n",
       "        [20, 21, 22, 23, 24],\n",
       "        [30, 31, 32, 33, 34]]),\n",
       " array([[ 5,  6,  7,  8,  9],\n",
       "        [15, 16, 17, 18, 19],\n",
       "        [25, 26, 27, 28, 29],\n",
       "        [35, 36, 37, 38, 39]])]"
      ]
     },
     "execution_count": 232,
     "metadata": {},
     "output_type": "execute_result"
    }
   ],
   "source": [
    "np.split(a, 2, axis=1) # 열분리"
   ]
  },
  {
   "cell_type": "code",
   "execution_count": 233,
   "id": "edd50ee4",
   "metadata": {},
   "outputs": [
    {
     "data": {
      "text/plain": [
       "[array([[ 0,  1,  2,  3],\n",
       "        [10, 11, 12, 13],\n",
       "        [20, 21, 22, 23],\n",
       "        [30, 31, 32, 33]]),\n",
       " array([[ 4,  5,  6],\n",
       "        [14, 15, 16],\n",
       "        [24, 25, 26],\n",
       "        [34, 35, 36]]),\n",
       " array([[ 7,  8,  9],\n",
       "        [17, 18, 19],\n",
       "        [27, 28, 29],\n",
       "        [37, 38, 39]])]"
      ]
     },
     "execution_count": 233,
     "metadata": {},
     "output_type": "execute_result"
    }
   ],
   "source": [
    "# np.split(a, 3, axis=1) # 열분리\n",
    "np.array_split(a, 3, axis=1)"
   ]
  },
  {
   "cell_type": "code",
   "execution_count": null,
   "id": "ae58be20",
   "metadata": {},
   "outputs": [],
   "source": []
  }
 ],
 "metadata": {
  "kernelspec": {
   "display_name": "Python 3 (ipykernel)",
   "language": "python",
   "name": "python3"
  },
  "language_info": {
   "codemirror_mode": {
    "name": "ipython",
    "version": 3
   },
   "file_extension": ".py",
   "mimetype": "text/x-python",
   "name": "python",
   "nbconvert_exporter": "python",
   "pygments_lexer": "ipython3",
   "version": "3.10.9"
  },
  "toc": {
   "base_numbering": 1,
   "nav_menu": {},
   "number_sections": false,
   "sideBar": true,
   "skip_h1_title": false,
   "title_cell": "Table of Contents",
   "title_sidebar": "Contents",
   "toc_cell": false,
   "toc_position": {
    "height": "calc(100% - 180px)",
    "left": "10px",
    "top": "150px",
    "width": "199.391px"
   },
   "toc_section_display": true,
   "toc_window_display": true
  }
 },
 "nbformat": 4,
 "nbformat_minor": 5
}
