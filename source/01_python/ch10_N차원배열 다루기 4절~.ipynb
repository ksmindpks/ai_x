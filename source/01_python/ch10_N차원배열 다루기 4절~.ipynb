{
 "cells": [
  {
   "cell_type": "code",
   "execution_count": 1,
   "id": "a3115378",
   "metadata": {},
   "outputs": [
    {
     "data": {
      "text/html": [
       "\n",
       "<style>\n",
       "div.container{width:86% !important;}\n",
       "div.cell.code_cell.rendered{width:100%;}\n",
       "div.CodeMirror {font-family:Consolas; font-size:15pt;}\n",
       "div.output {font-size:15pt; font-weight:bold;}\n",
       "div.input {font-family:Consolas; font-size:15pt;}\n",
       "div.prompt {min-width:70px;}\n",
       "div#toc-wrapper{padding-top:120px;}\n",
       "div.text_cell_render ul li{font-size:12pt;padding:5px;}\n",
       "table.dataframe{font-size:15px;}\n",
       "</style>\n"
      ],
      "text/plain": [
       "<IPython.core.display.HTML object>"
      ]
     },
     "metadata": {},
     "output_type": "display_data"
    }
   ],
   "source": [
    "from IPython.display import display, HTML \n",
    "display(HTML(\"\"\"\n",
    "<style>\n",
    "div.container{width:86% !important;}\n",
    "div.cell.code_cell.rendered{width:100%;}\n",
    "div.CodeMirror {font-family:Consolas; font-size:15pt;}\n",
    "div.output {font-size:15pt; font-weight:bold;}\n",
    "div.input {font-family:Consolas; font-size:15pt;}\n",
    "div.prompt {min-width:70px;}\n",
    "div#toc-wrapper{padding-top:120px;}\n",
    "div.text_cell_render ul li{font-size:12pt;padding:5px;}\n",
    "table.dataframe{font-size:15px;}\n",
    "</style>\n",
    "\"\"\"))"
   ]
  },
  {
   "cell_type": "markdown",
   "id": "2d13e1b3",
   "metadata": {},
   "source": [
    "<b><font size=\"5\" color=\"red\">ch10. N차원 배열 다루기 </font><b>\n",
    "# 4절. 복사와 뷰\n",
    "## 4.1 할당"
   ]
  },
  {
   "cell_type": "code",
   "execution_count": 2,
   "id": "46d0b512",
   "metadata": {},
   "outputs": [
    {
     "data": {
      "text/plain": [
       "array([0, 1, 2, 3, 4, 5])"
      ]
     },
     "execution_count": 2,
     "metadata": {},
     "output_type": "execute_result"
    }
   ],
   "source": [
    "import numpy as np\n",
    "a = np.arange(6)\n",
    "a"
   ]
  },
  {
   "cell_type": "code",
   "execution_count": 3,
   "id": "8364dfb1",
   "metadata": {},
   "outputs": [
    {
     "data": {
      "text/plain": [
       "(2406117486352, 2406117486352, True)"
      ]
     },
     "execution_count": 3,
     "metadata": {},
     "output_type": "execute_result"
    }
   ],
   "source": [
    "b = a\n",
    "id(a), id(b), a is b # a와 b가 같은 객체?"
   ]
  },
  {
   "cell_type": "code",
   "execution_count": 4,
   "id": "7cef5b41",
   "metadata": {},
   "outputs": [
    {
     "data": {
      "text/plain": [
       "array([[0, 1, 2],\n",
       "       [3, 4, 5]])"
      ]
     },
     "execution_count": 4,
     "metadata": {},
     "output_type": "execute_result"
    }
   ],
   "source": [
    "b.shape = (2,3)\n",
    "b"
   ]
  },
  {
   "cell_type": "code",
   "execution_count": 5,
   "id": "f100df24",
   "metadata": {},
   "outputs": [
    {
     "data": {
      "text/plain": [
       "array([[0, 1, 2],\n",
       "       [3, 4, 5]])"
      ]
     },
     "execution_count": 5,
     "metadata": {},
     "output_type": "execute_result"
    }
   ],
   "source": [
    "a"
   ]
  },
  {
   "cell_type": "markdown",
   "id": "73418e99",
   "metadata": {},
   "source": [
    "## 4.2 뷰(view)\n",
    "- 슬라이싱 할 경우 자동 view 생성"
   ]
  },
  {
   "cell_type": "code",
   "execution_count": 7,
   "id": "f23f081e",
   "metadata": {},
   "outputs": [
    {
     "data": {
      "text/plain": [
       "array([[ 0,  1,  2,  3,  4,  5],\n",
       "       [ 6,  7,  8,  9, 10, 11]])"
      ]
     },
     "execution_count": 7,
     "metadata": {},
     "output_type": "execute_result"
    }
   ],
   "source": [
    "c = np.arange(12).reshape(2,-1)\n",
    "c"
   ]
  },
  {
   "cell_type": "code",
   "execution_count": 9,
   "id": "ba072b98",
   "metadata": {},
   "outputs": [
    {
     "data": {
      "text/plain": [
       "(2406191303536, 2406195509648, False)"
      ]
     },
     "execution_count": 9,
     "metadata": {},
     "output_type": "execute_result"
    }
   ],
   "source": [
    "d = c.view() # c의 뷰 생성 : 얕은 복사\n",
    "id(c), id(d), d is c # c 객체와 d 객체가 같냐?"
   ]
  },
  {
   "cell_type": "code",
   "execution_count": 10,
   "id": "0a0539e0",
   "metadata": {},
   "outputs": [
    {
     "data": {
      "text/plain": [
       "True"
      ]
     },
     "execution_count": 10,
     "metadata": {},
     "output_type": "execute_result"
    }
   ],
   "source": [
    "np.all(c == d) # c와 d의 내용이 모두 같음"
   ]
  },
  {
   "cell_type": "code",
   "execution_count": 11,
   "id": "727a908b",
   "metadata": {},
   "outputs": [
    {
     "data": {
      "text/plain": [
       "(array([[ 0,  1,  2,  3],\n",
       "        [ 4,  5,  6,  7],\n",
       "        [ 8,  9, 10, 11]]),\n",
       " array([[ 0,  1,  2,  3,  4,  5],\n",
       "        [ 6,  7,  8,  9, 10, 11]]))"
      ]
     },
     "execution_count": 11,
     "metadata": {},
     "output_type": "execute_result"
    }
   ],
   "source": [
    "d.shape = (3,4)\n",
    "d, c"
   ]
  },
  {
   "cell_type": "code",
   "execution_count": 13,
   "id": "9851287e",
   "metadata": {},
   "outputs": [
    {
     "data": {
      "text/plain": [
       "array([[-99,   1, -99,   3],\n",
       "       [  4,   5,   6,   7],\n",
       "       [  8,   9,  10,  11]])"
      ]
     },
     "execution_count": 13,
     "metadata": {},
     "output_type": "execute_result"
    }
   ],
   "source": [
    "d[0, ::2] = -99\n",
    "d"
   ]
  },
  {
   "cell_type": "code",
   "execution_count": 14,
   "id": "d2fac0ea",
   "metadata": {},
   "outputs": [
    {
     "data": {
      "text/plain": [
       "array([[-99,   1, -99,   3,   4],\n",
       "       [  6,   7,   8,   9,  10]])"
      ]
     },
     "execution_count": 14,
     "metadata": {},
     "output_type": "execute_result"
    }
   ],
   "source": [
    "d = c[:,:-1]\n",
    "d"
   ]
  },
  {
   "cell_type": "code",
   "execution_count": 15,
   "id": "c55234cc",
   "metadata": {},
   "outputs": [
    {
     "data": {
      "text/plain": [
       "array([[-99,   1, -99,   3,   4],\n",
       "       [  6,   7,   8,   9,  99]])"
      ]
     },
     "execution_count": 15,
     "metadata": {},
     "output_type": "execute_result"
    }
   ],
   "source": [
    "d[-1,-1] = 99\n",
    "d"
   ]
  },
  {
   "cell_type": "code",
   "execution_count": 16,
   "id": "7cc2bdc6",
   "metadata": {},
   "outputs": [
    {
     "data": {
      "text/plain": [
       "array([[-99,   1, -99,   3,   4,   5],\n",
       "       [  6,   7,   8,   9,  99,  11]])"
      ]
     },
     "execution_count": 16,
     "metadata": {},
     "output_type": "execute_result"
    }
   ],
   "source": [
    "c"
   ]
  },
  {
   "cell_type": "markdown",
   "id": "039371dd",
   "metadata": {},
   "source": [
    "## 4.3 깊은 복사"
   ]
  },
  {
   "cell_type": "code",
   "execution_count": 17,
   "id": "4042e037",
   "metadata": {},
   "outputs": [
    {
     "data": {
      "text/plain": [
       "array([[ 0,  1,  2,  3,  4,  5],\n",
       "       [ 6,  7,  8,  9, 10, 11]])"
      ]
     },
     "execution_count": 17,
     "metadata": {},
     "output_type": "execute_result"
    }
   ],
   "source": [
    "c = np.arange(12).reshape(2,6)\n",
    "c"
   ]
  },
  {
   "cell_type": "code",
   "execution_count": 18,
   "id": "5bac2cab",
   "metadata": {},
   "outputs": [
    {
     "data": {
      "text/plain": [
       "array([[ 0,  1,  2, 99,  4],\n",
       "       [ 6,  7,  8, 99, 10]])"
      ]
     },
     "execution_count": 18,
     "metadata": {},
     "output_type": "execute_result"
    }
   ],
   "source": [
    "d = c[:, :-1].copy() # 깊은 복사\n",
    "d[..., -2] = 99\n",
    "d"
   ]
  },
  {
   "cell_type": "code",
   "execution_count": 19,
   "id": "936b4153",
   "metadata": {},
   "outputs": [
    {
     "data": {
      "text/plain": [
       "array([[ 0,  1,  2,  3,  4,  5],\n",
       "       [ 6,  7,  8,  9, 10, 11]])"
      ]
     },
     "execution_count": 19,
     "metadata": {},
     "output_type": "execute_result"
    }
   ],
   "source": [
    "c"
   ]
  },
  {
   "cell_type": "markdown",
   "id": "56b53294",
   "metadata": {},
   "source": [
    "# 5절. 고급인덱싱\n",
    "# 5.1 인덱스 배열로 인덱싱"
   ]
  },
  {
   "cell_type": "code",
   "execution_count": 5,
   "id": "e07edc4b",
   "metadata": {},
   "outputs": [
    {
     "data": {
      "text/plain": [
       "array([  0,   1,   4,   9,  16,  25,  36,  49,  64,  81, 100, 121])"
      ]
     },
     "execution_count": 5,
     "metadata": {},
     "output_type": "execute_result"
    }
   ],
   "source": [
    "a = np.arange(12)**2\n",
    "a"
   ]
  },
  {
   "cell_type": "code",
   "execution_count": 6,
   "id": "9536ad7e",
   "metadata": {},
   "outputs": [
    {
     "data": {
      "text/plain": [
       "array([ 0,  0,  1, 25])"
      ]
     },
     "execution_count": 6,
     "metadata": {},
     "output_type": "execute_result"
    }
   ],
   "source": [
    "a[ [0,0,1,5]]"
   ]
  },
  {
   "cell_type": "code",
   "execution_count": 7,
   "id": "b9035b0d",
   "metadata": {},
   "outputs": [
    {
     "data": {
      "text/plain": [
       "array([ 0,  0,  1, 25])"
      ]
     },
     "execution_count": 7,
     "metadata": {},
     "output_type": "execute_result"
    }
   ],
   "source": [
    "# 인덱싱하기 위한 값을 배열로 만듦\n",
    "import numpy as np\n",
    "i = np.array([0,0,1,5])\n",
    "a[i]"
   ]
  },
  {
   "cell_type": "code",
   "execution_count": 25,
   "id": "5852e8c6",
   "metadata": {},
   "outputs": [
    {
     "data": {
      "text/plain": [
       "array([[ 0,  0],\n",
       "       [ 1, 25]])"
      ]
     },
     "execution_count": 25,
     "metadata": {},
     "output_type": "execute_result"
    }
   ],
   "source": [
    "# 인덱싱하기 위한 값을 배열로 만듦\n",
    "j = np.array([[0, 0],\n",
    "              [1, 5]])\n",
    "a[j]"
   ]
  },
  {
   "cell_type": "code",
   "execution_count": 8,
   "id": "14e054cc",
   "metadata": {},
   "outputs": [],
   "source": [
    "                 #   R,G,B\n",
    "palette = np.array([[0,0,0],        # black\n",
    "                    [255,0,0],      # red\n",
    "                    [0,255,0],      # green\n",
    "                    [0,0,255],      # blue\n",
    "                    [255,255,255]]) # white"
   ]
  },
  {
   "cell_type": "code",
   "execution_count": 9,
   "id": "660be210",
   "metadata": {},
   "outputs": [],
   "source": [
    "image_index = np.array([[4,4,4,0,0,0,0,4,4,4],\n",
    "                        [4,0,0,4,4,4,4,0,0,4],\n",
    "                        [0,0,4,4,4,4,4,4,0,0],\n",
    "                        [0,4,4,1,4,4,3,4,4,0],\n",
    "                        [0,4,4,1,4,4,3,4,4,0],\n",
    "                        [0,4,4,4,4,4,4,4,4,0],\n",
    "                        [0,4,4,2,4,4,2,4,4,0],\n",
    "                        [4,0,4,4,2,2,4,4,0,4],\n",
    "                        [4,4,0,4,4,4,4,0,4,4],\n",
    "                        [4,4,4,0,0,0,0,4,4,4]])\n",
    "image_data = palette[image_index]"
   ]
  },
  {
   "cell_type": "code",
   "execution_count": 10,
   "id": "93627450",
   "metadata": {},
   "outputs": [
    {
     "data": {
      "text/plain": [
       "(10, 10, 3)"
      ]
     },
     "execution_count": 10,
     "metadata": {},
     "output_type": "execute_result"
    }
   ],
   "source": [
    "image_data.shape"
   ]
  },
  {
   "cell_type": "code",
   "execution_count": 16,
   "id": "8b5fa378",
   "metadata": {},
   "outputs": [
    {
     "data": {
      "image/png": "[encoded data removed]",
      "text/plain": [
       "<Figure size 200x200 with 1 Axes>"
      ]
     },
     "metadata": {},
     "output_type": "display_data"
    }
   ],
   "source": [
    "from matplotlib import pyplot as plt\n",
    "plt.figure(figsize=(2,2))\n",
    "plt.imshow(image_data)\n",
    "plt.show()"
   ]
  },
  {
   "cell_type": "markdown",
   "id": "99cb0734",
   "metadata": {},
   "source": [
    "## 5.2 논리 배열을 이용한 인덱싱"
   ]
  },
  {
   "cell_type": "code",
   "execution_count": 41,
   "id": "f437e46b",
   "metadata": {},
   "outputs": [
    {
     "data": {
      "text/plain": [
       "array([ 0,  1, 10, 11, 12, 13, 14, 15, 99])"
      ]
     },
     "execution_count": 41,
     "metadata": {},
     "output_type": "execute_result"
    }
   ],
   "source": [
    "a = np.array([0,1,10,11,12,13,14,15,99])\n",
    "a"
   ]
  },
  {
   "cell_type": "code",
   "execution_count": 42,
   "id": "2c48c1d6",
   "metadata": {},
   "outputs": [
    {
     "data": {
      "text/plain": [
       "array([ True, False,  True, False,  True, False,  True, False, False])"
      ]
     },
     "execution_count": 42,
     "metadata": {},
     "output_type": "execute_result"
    }
   ],
   "source": [
    "a%2==0"
   ]
  },
  {
   "cell_type": "code",
   "execution_count": 44,
   "id": "cea425b1",
   "metadata": {},
   "outputs": [
    {
     "data": {
      "text/plain": [
       "array([ 0, 10, 12, 14])"
      ]
     },
     "execution_count": 44,
     "metadata": {},
     "output_type": "execute_result"
    }
   ],
   "source": [
    "a[ a%2==0] # 논리 배열을 이용한 인덱싱 시 True 요소만 추출"
   ]
  },
  {
   "cell_type": "code",
   "execution_count": 45,
   "id": "e1286cdd",
   "metadata": {},
   "outputs": [
    {
     "data": {
      "text/plain": [
       "array([13, 14, 15, 99])"
      ]
     },
     "execution_count": 45,
     "metadata": {},
     "output_type": "execute_result"
    }
   ],
   "source": [
    "# a에서 12보다 큰 값만 추출\n",
    "a[ a>12]"
   ]
  },
  {
   "cell_type": "markdown",
   "id": "03e79d14",
   "metadata": {},
   "source": [
    "# 6절. 선형대수\n",
    "- 2차원 넘파이배열을 행렬\n",
    "    * 행렬 곱 : @, dot(), 단위행렬\n",
    "    * 역행렬 : np.linalg.inv(행렬) : 역행렬@행렬 = 단위행렬\n",
    "    * 전치행렬 : 행렬.T / 행렬.transpose()"
   ]
  },
  {
   "cell_type": "code",
   "execution_count": 17,
   "id": "6f86a33a",
   "metadata": {},
   "outputs": [
    {
     "data": {
      "text/plain": [
       "array([[1, 2],\n",
       "       [3, 4]])"
      ]
     },
     "execution_count": 17,
     "metadata": {},
     "output_type": "execute_result"
    }
   ],
   "source": [
    "a = np.array([[1,2],\n",
    "              [3,4]])\n",
    "a # 정방행렬"
   ]
  },
  {
   "cell_type": "code",
   "execution_count": 18,
   "id": "90792e99",
   "metadata": {},
   "outputs": [
    {
     "data": {
      "text/plain": [
       "array([[-2. ,  1. ],\n",
       "       [ 1.5, -0.5]])"
      ]
     },
     "execution_count": 18,
     "metadata": {},
     "output_type": "execute_result"
    }
   ],
   "source": [
    "# a의 역행렬 : a의 역행렬 @ a = a @ a의 역행렬 => 단위행렬\n",
    "np.linalg.inv(a)"
   ]
  },
  {
   "cell_type": "code",
   "execution_count": 19,
   "id": "dd94eec7",
   "metadata": {},
   "outputs": [
    {
     "data": {
      "text/plain": [
       "array([[1.0000000e+00, 4.4408921e-16],\n",
       "       [0.0000000e+00, 1.0000000e+00]])"
      ]
     },
     "execution_count": 19,
     "metadata": {},
     "output_type": "execute_result"
    }
   ],
   "source": [
    "np.linalg.inv(a)@a"
   ]
  },
  {
   "cell_type": "markdown",
   "id": "6a2e0e43",
   "metadata": {},
   "source": [
    "## 6.1 선형 연립 방정식 풀기 (독립변수1, 데이터2)"
   ]
  },
  {
   "cell_type": "code",
   "execution_count": 39,
   "id": "ac18c630",
   "metadata": {},
   "outputs": [
    {
     "data": {
      "text/plain": [
       "(array([[2., 1.],\n",
       "        [4., 1.]]),\n",
       " (2, 2))"
      ]
     },
     "execution_count": 39,
     "metadata": {},
     "output_type": "execute_result"
    }
   ],
   "source": [
    "x = np.array([2,4])   # 독립변수\n",
    "Y = np.array([40,60]) # 종속변수\n",
    "X = np.column_stack( (x, np.ones(len(x)))) # dstack : 차원증가\n",
    "X, X.shape"
   ]
  },
  {
   "cell_type": "code",
   "execution_count": null,
   "id": "88456a65",
   "metadata": {},
   "outputs": [],
   "source": [
    "Y.reshape(-1, 1) # 출력결과가 나오면 Y는 그대로, return값만 출력"
   ]
  },
  {
   "cell_type": "code",
   "execution_count": 21,
   "id": "12c94951",
   "metadata": {},
   "outputs": [
    {
     "name": "stdout",
     "output_type": "stream",
     "text": [
      "[[[-0.5  0.5]\n",
      "  [ 2.  -1. ]]]\n"
     ]
    },
    {
     "data": {
      "text/plain": [
       "array([[10., 20.]])"
      ]
     },
     "execution_count": 21,
     "metadata": {},
     "output_type": "execute_result"
    }
   ],
   "source": [
    "# X @ wb = Y\n",
    "# X의 역행렬 @ X @ wb = X의 역행렬 @ Y\n",
    "# wb = X의 역행렬 @ Y\n",
    "print(np.linalg.inv(X)) \n",
    "wb = np.linalg.inv(X) @ Y \n",
    "wb"
   ]
  },
  {
   "cell_type": "code",
   "execution_count": 29,
   "id": "b3770d7d",
   "metadata": {},
   "outputs": [
    {
     "data": {
      "text/plain": [
       "array([40, 60, 50])"
      ]
     },
     "execution_count": 29,
     "metadata": {},
     "output_type": "execute_result"
    }
   ],
   "source": [
    "# x_tt = np.hstack((x,3))\n",
    "# y_tt = np.hstack((Y,10*3+20))\n",
    "# y_tt"
   ]
  },
  {
   "cell_type": "code",
   "execution_count": 42,
   "id": "2b89952c",
   "metadata": {},
   "outputs": [
    {
     "data": {
      "image/png": "[encoded data removed]",
      "text/plain": [
       "<Figure size 640x480 with 1 Axes>"
      ]
     },
     "metadata": {},
     "output_type": "display_data"
    }
   ],
   "source": [
    "import matplotlib.pyplot as plt\n",
    "plt.scatter(x,Y)\n",
    "plt.plot(x, 10*x+20, 'r')\n",
    "plt.show()"
   ]
  },
  {
   "cell_type": "code",
   "execution_count": 52,
   "id": "98b4c6f0",
   "metadata": {},
   "outputs": [
    {
     "data": {
      "text/plain": [
       "70"
      ]
     },
     "execution_count": 52,
     "metadata": {},
     "output_type": "execute_result"
    }
   ],
   "source": [
    "5*10 + 20"
   ]
  },
  {
   "cell_type": "code",
   "execution_count": 44,
   "id": "ca729a16",
   "metadata": {},
   "outputs": [
    {
     "data": {
      "text/plain": [
       "array([10., 20.])"
      ]
     },
     "execution_count": 44,
     "metadata": {},
     "output_type": "execute_result"
    }
   ],
   "source": [
    "np.linalg.solve(X,Y) # w(기울기), b(y절편)을 구하는 함수"
   ]
  },
  {
   "cell_type": "markdown",
   "id": "e84e31c2",
   "metadata": {},
   "source": [
    "## 6.2 선형연립 방정식 풀기(회귀분석): 독립변수 1개, 데이터 n개"
   ]
  },
  {
   "cell_type": "code",
   "execution_count": 80,
   "id": "efb651ce",
   "metadata": {},
   "outputs": [
    {
     "data": {
      "text/plain": [
       "(array([144. , 152.5, 158. ]),\n",
       " array([[144. ,   1. ],\n",
       "        [152.5,   1. ],\n",
       "        [158. ,   1. ]]),\n",
       " array([[105. ],\n",
       "        [130.3],\n",
       "        [125. ]]),\n",
       " array([[ 32. ,   1. ],\n",
       "        [ 64. ,   1. ],\n",
       "        [ 96. ,   1. ],\n",
       "        [118. ,   1. ],\n",
       "        [126. ,   1. ],\n",
       "        [144. ,   1. ],\n",
       "        [152.5,   1. ],\n",
       "        [158. ,   1. ]]),\n",
       " array([[ 18. ],\n",
       "        [ 24. ],\n",
       "        [ 61.5],\n",
       "        [ 49. ],\n",
       "        [ 52. ],\n",
       "        [105. ],\n",
       "        [130.3],\n",
       "        [125. ]]))"
      ]
     },
     "execution_count": 80,
     "metadata": {},
     "output_type": "execute_result"
    }
   ],
   "source": [
    "x = np.array([32,64,96,118,126,144,152.5,158])\n",
    "X = np.c_[x, np.ones(len(x))]\n",
    "y = np.array([18,24,61.5,49,52,105,130.3,125])\n",
    "#X = np.column_stack((x, np.ones(len(x))))\n",
    "Y = y.reshape(-1,1)\n",
    "\n",
    "x_tr, X_tr, Y_tr = x[:5], X[:5], Y[:5]\n",
    "x_ts, X_ts, Y_ts = x[5:], X[5:], Y[5:]\n",
    "x_ts, X_ts, Y_ts, X, Y"
   ]
  },
  {
   "cell_type": "code",
   "execution_count": 83,
   "id": "2fc54aff",
   "metadata": {},
   "outputs": [
    {
     "data": {
      "text/plain": [
       "array([[  0.87493126],\n",
       "       [-26.79078617]])"
      ]
     },
     "execution_count": 83,
     "metadata": {},
     "output_type": "execute_result"
    }
   ],
   "source": [
    "#                           X @ wb = Y\n",
    "#                 X_(X.T @ X) @ wb = X.T @ Y\n",
    "# (X.T @ X)의 역행력 @ X.T @ X @ wb = (X.T @ X)의 역행렬 @ X.T @ Y\n",
    "#             X_의 역행력 @ X_ @ wb = X_의 역행렬 @ X.T @ Y\n",
    "wb = np.linalg.inv(X.T @ X) @ X.T @ Y\n",
    "wb"
   ]
  },
  {
   "cell_type": "code",
   "execution_count": 86,
   "id": "21f887c9",
   "metadata": {},
   "outputs": [
    {
     "name": "stdout",
     "output_type": "stream",
     "text": [
      "0.8749312625981291 -26.79078616795418\n",
      "독립변수 : [ 32.   64.   96.  118.  126.  144.  152.5 158. ]\n",
      "종속변수 : [ 18.   24.   61.5  49.   52.  105.  130.3 125. ]\n",
      "예측값 : [  1.20701424  29.20481464  57.20261504  76.45110282  83.45055292\n",
      "  99.19931565 106.63623138 111.44835332]\n"
     ]
    }
   ],
   "source": [
    "print(wb[0,0], wb[1,0]) #기울기와 Y절편\n",
    "y_hat = wb[0,0] * x + wb[1,0] # 예측값\n",
    "print('독립변수 :', x)\n",
    "print('종속변수 :', y)\n",
    "print('예측값 :', y_hat)"
   ]
  },
  {
   "cell_type": "code",
   "execution_count": 87,
   "id": "6e973df7",
   "metadata": {},
   "outputs": [
    {
     "data": {
      "image/png": "[encoded data removed]",
      "text/plain": [
       "<Figure size 600x600 with 1 Axes>"
      ]
     },
     "metadata": {},
     "output_type": "display_data"
    }
   ],
   "source": [
    "import matplotlib.pyplot as plt\n",
    "plt.figure(figsize=(6,6))\n",
    "plt.scatter(x,y)\n",
    "plt.plot(x, y_hat, 'r')\n",
    "plt.show()"
   ]
  },
  {
   "cell_type": "code",
   "execution_count": 66,
   "id": "a93191b9",
   "metadata": {},
   "outputs": [
    {
     "data": {
      "text/plain": [
       "array([0.41158776, 5.00954748])"
      ]
     },
     "execution_count": 66,
     "metadata": {},
     "output_type": "execute_result"
    }
   ],
   "source": [
    "wb = np.linalg.inv(X_tr.T@X_tr)@X_tr.T@Y_tr\n",
    "wb"
   ]
  },
  {
   "cell_type": "code",
   "execution_count": 67,
   "id": "4c6dd10d",
   "metadata": {},
   "outputs": [
    {
     "data": {
      "image/png": "[encoded data removed]",
      "text/plain": [
       "<Figure size 640x480 with 1 Axes>"
      ]
     },
     "metadata": {},
     "output_type": "display_data"
    }
   ],
   "source": [
    "import matplotlib.pyplot as plt\n",
    "plt.scatter(x_tr,Y_tr)\n",
    "plt.scatter(x_ts, wb[0]*x_ts+wb[1])\n",
    "plt.plot(x, wb[0]*x+wb[1], 'r')\n",
    "plt.show()"
   ]
  },
  {
   "cell_type": "code",
   "execution_count": 68,
   "id": "9927cce4",
   "metadata": {},
   "outputs": [
    {
     "data": {
      "text/plain": [
       "42.05244572325403"
      ]
     },
     "execution_count": 68,
     "metadata": {},
     "output_type": "execute_result"
    }
   ],
   "source": [
    "wb[0]*90+wb[1]"
   ]
  },
  {
   "cell_type": "code",
   "execution_count": 78,
   "id": "9774befd",
   "metadata": {},
   "outputs": [
    {
     "data": {
      "text/plain": [
       "13.53376317751288"
      ]
     },
     "execution_count": 78,
     "metadata": {},
     "output_type": "execute_result"
    }
   ],
   "source": [
    "\n",
    "loss = np.sqrt(np.sum((Y - X@wb)**2))/(len(Y)-1)\n",
    "loss\n"
   ]
  },
  {
   "cell_type": "markdown",
   "id": "e1fa8471",
   "metadata": {},
   "source": [
    "# 7절. 연습문제\n",
    "## (실습형)"
   ]
  },
  {
   "cell_type": "code",
   "execution_count": 183,
   "id": "b5d2e828",
   "metadata": {},
   "outputs": [],
   "source": [
    "# data import\n",
    "import numpy as np\n",
    "from sklearn import datasets\n",
    "iris = datasets.load_iris()\n",
    "iris_data = iris.data"
   ]
  },
  {
   "cell_type": "code",
   "execution_count": 93,
   "id": "599273ea",
   "metadata": {},
   "outputs": [
    {
     "data": {
      "text/plain": [
       "(numpy.ndarray, dtype('float64'), (150, 4))"
      ]
     },
     "execution_count": 93,
     "metadata": {},
     "output_type": "execute_result"
    }
   ],
   "source": [
    "type(iris_data), iris_data.dtype, iris_data.shape # 150행 4열짜리 float 배열"
   ]
  },
  {
   "cell_type": "code",
   "execution_count": 188,
   "id": "59fb9650",
   "metadata": {},
   "outputs": [
    {
     "data": {
      "text/plain": [
       "array([5.84333333, 3.05733333, 3.758     , 1.19933333])"
      ]
     },
     "execution_count": 188,
     "metadata": {},
     "output_type": "execute_result"
    }
   ],
   "source": [
    "# 1. 각 변수별 평균을 출력하세요.\n",
    "avg = np.mean(iris_data, axis=0)\n",
    "avg = iris_data.mean(axis=0)\n",
    "avg = np.average(iris_data, axis=0)\n",
    "avg"
   ]
  },
  {
   "cell_type": "code",
   "execution_count": 97,
   "id": "c6e77f2d",
   "metadata": {},
   "outputs": [
    {
     "data": {
      "text/plain": [
       "array([[5.1, 3.5, 1.4, 0.2],\n",
       "       [4.9, 3. , 1.4, 0.2],\n",
       "       [4.7, 3.2, 1.3, 0.2],\n",
       "       [4.6, 3.1, 1.5, 0.2],\n",
       "       [5. , 3.6, 1.4, 0.2]])"
      ]
     },
     "execution_count": 97,
     "metadata": {},
     "output_type": "execute_result"
    }
   ],
   "source": [
    "# 2. 처음 다섯개 행을 출력\n",
    "iris_data[:5] # iris_data[:5,], iris_data[:5,:], iris_data[:5,...]"
   ]
  },
  {
   "cell_type": "code",
   "execution_count": 204,
   "id": "138f536f",
   "metadata": {},
   "outputs": [
    {
     "data": {
      "text/plain": [
       "array([[5.1, 3.5, 1.4],\n",
       "       [4.9, 3. , 1.4],\n",
       "       [4.7, 3.2, 1.3],\n",
       "       [4.6, 3.1, 1.5],\n",
       "       [5. , 3.6, 1.4]])"
      ]
     },
     "execution_count": 204,
     "metadata": {},
     "output_type": "execute_result"
    }
   ],
   "source": [
    "# 3. 처음 다섯개행에서 마직막 열을 제외한 자료 출력\n",
    "a = iris_data[:5, :-1]\n",
    "a"
   ]
  },
  {
   "cell_type": "code",
   "execution_count": 205,
   "id": "e0d36733",
   "metadata": {},
   "outputs": [
    {
     "data": {
      "text/plain": [
       "array([0.2, 0.2, 0.2, 0.2, 0.2])"
      ]
     },
     "execution_count": 205,
     "metadata": {},
     "output_type": "execute_result"
    }
   ],
   "source": [
    "# 4. 처음 다섯개 행에서 마지막 열만 출력\n",
    "b = iris_data[:5, -1]\n",
    "b"
   ]
  },
  {
   "cell_type": "code",
   "execution_count": 206,
   "id": "b31a24a6",
   "metadata": {},
   "outputs": [
    {
     "name": "stdout",
     "output_type": "stream",
     "text": [
      "[[5.1 3.5 1.4 0.2]\n",
      " [4.9 3.  1.4 0.2]\n",
      " [4.7 3.2 1.3 0.2]\n",
      " [4.6 3.1 1.5 0.2]\n",
      " [5.  3.6 1.4 0.2]]\n"
     ]
    },
    {
     "data": {
      "text/plain": [
       "True"
      ]
     },
     "execution_count": 206,
     "metadata": {},
     "output_type": "execute_result"
    }
   ],
   "source": [
    "# 5. 위 두 배열을 원래 모양으로 합\n",
    "c0 = np.c_[a,b]\n",
    "c1 = np.column_stack((a,b))\n",
    "c2 = np.hstack((a, b[:, np.newaxis]))\n",
    "c3 = np.hstack( (a, b.reshape(-1,1)))\n",
    "c4 = np.concatenate( (a, b.reshape(-1,1)), axis=1)\n",
    "print(c4)\n",
    "# 위의 답이 모두 같은지 확인\n",
    "cs = [c0,c1,c2,c3,c4]\n",
    "same_all(cs)\n",
    "# all(np.all(c0 == c) for c in cs)\n"
   ]
  },
  {
   "cell_type": "code",
   "execution_count": 202,
   "id": "fed6136a",
   "metadata": {},
   "outputs": [],
   "source": [
    "# 여러 리스크 동일 함을 체크하는 함수\n",
    "def same_all(*answers):\n",
    "    if len(answers) > 0:\n",
    "        first = answers[0]\n",
    "        return all([np.all(first == answer) for answer in answers])\n",
    "    else:\n",
    "        return False"
   ]
  },
  {
   "cell_type": "code",
   "execution_count": 198,
   "id": "4cea48ce",
   "metadata": {},
   "outputs": [
    {
     "name": "stdout",
     "output_type": "stream",
     "text": [
      "[[5.1 3.5 1.4 0.2]\n",
      " [4.9 3.  1.4 0.2]\n",
      " [4.7 3.2 1.3 0.2]\n",
      " [4.6 3.1 1.5 0.2]\n",
      " [5.  3.6 1.4 0.2]]\n",
      "[4.86 3.28 1.4  0.2 ]\n"
     ]
    },
    {
     "data": {
      "text/plain": [
       "array([[5.1, 3.5, nan, nan],\n",
       "       [4.9, nan, nan, nan],\n",
       "       [nan, nan, nan, nan],\n",
       "       [nan, nan, 1.5, nan],\n",
       "       [5. , 3.6, nan, nan]])"
      ]
     },
     "execution_count": 198,
     "metadata": {},
     "output_type": "execute_result"
    }
   ],
   "source": [
    "# 6. 처음 다섯개 행 각열별 평균보다 큰 값들만 출력\n",
    "sample = iris_data[:5].copy()\n",
    "print(sample)\n",
    "print(np.mean(sample, axis=0))\n",
    "sample[sample > np.mean(sample, axis=0)]\n",
    "sample[sample <= np.mean(sample, axis=0)] = None # 결측치 (타입:float)\n",
    "sample\n",
    "# print(c[ c > avg ])\n",
    "\n",
    "# for row in c:\n",
    "#     print(row[row > avg])\n",
    "#     print()\n"
   ]
  },
  {
   "cell_type": "code",
   "execution_count": 199,
   "id": "296189a4",
   "metadata": {},
   "outputs": [
    {
     "data": {
      "text/plain": [
       "array([[5.1, 3.5, None, None],\n",
       "       [4.9, None, None, None],\n",
       "       [None, None, None, None],\n",
       "       [None, None, 1.5, None],\n",
       "       [5.0, 3.6, None, None]], dtype=object)"
      ]
     },
     "execution_count": 199,
     "metadata": {},
     "output_type": "execute_result"
    }
   ],
   "source": [
    "sample = iris_data[:5].copy()\n",
    "# 위의 결과를 출력\n",
    "np.where(sample > np.mean(sample, axis=0), sample, None) # sample 배열은 안 바뀜"
   ]
  },
  {
   "cell_type": "markdown",
   "id": "9314965d",
   "metadata": {},
   "source": [
    "## (문제풀이형)"
   ]
  },
  {
   "cell_type": "code",
   "execution_count": 200,
   "id": "d510021d",
   "metadata": {},
   "outputs": [
    {
     "data": {
      "text/plain": [
       "array([[ 0,  1,  2,  3],\n",
       "       [ 4,  5,  6,  7],\n",
       "       [ 8,  9, 10, 11]])"
      ]
     },
     "execution_count": 200,
     "metadata": {},
     "output_type": "execute_result"
    }
   ],
   "source": [
    "# 1. print(a.sum(0))의 결과는? 3) 행(axis=0)을 기준으로 열의 합\n",
    "import numpy as np\n",
    "a = np.arange(12).reshape(3,4)\n",
    "a"
   ]
  },
  {
   "cell_type": "code",
   "execution_count": 201,
   "id": "e4354774",
   "metadata": {},
   "outputs": [
    {
     "name": "stdout",
     "output_type": "stream",
     "text": [
      "[12 15 18 21]\n"
     ]
    }
   ],
   "source": [
    "print(a.sum(0))"
   ]
  },
  {
   "cell_type": "code",
   "execution_count": 208,
   "id": "010441da",
   "metadata": {},
   "outputs": [
    {
     "data": {
      "text/plain": [
       "array([[8., 4., 3., 1.],\n",
       "       [1., 1., 3., 6.],\n",
       "       [6., 6., 2., 6.]])"
      ]
     },
     "execution_count": 208,
     "metadata": {},
     "output_type": "execute_result"
    }
   ],
   "source": [
    "# 2. 주어진 a 데이터에 대해 차원을 바꾸는 방법 모두? 3)\n",
    "import  numpy as np\n",
    "a = np.floor(10*np.random.random((3,4)))\n",
    "a"
   ]
  },
  {
   "cell_type": "code",
   "execution_count": 209,
   "id": "181401fe",
   "metadata": {},
   "outputs": [
    {
     "data": {
      "text/plain": [
       "((3, 4),\n",
       " array([[8., 4., 3., 1.],\n",
       "        [1., 1., 3., 6.],\n",
       "        [6., 6., 2., 6.]]))"
      ]
     },
     "execution_count": 209,
     "metadata": {},
     "output_type": "execute_result"
    }
   ],
   "source": [
    "a.shape, a"
   ]
  },
  {
   "cell_type": "code",
   "execution_count": 210,
   "id": "f374c251",
   "metadata": {},
   "outputs": [
    {
     "data": {
      "text/plain": [
       "(array([8., 4., 3., 1., 1., 1., 3., 6., 6., 6., 2., 6.]),\n",
       " array([[8., 4., 3., 1.],\n",
       "        [1., 1., 3., 6.],\n",
       "        [6., 6., 2., 6.]]))"
      ]
     },
     "execution_count": 210,
     "metadata": {},
     "output_type": "execute_result"
    }
   ],
   "source": [
    "a.ravel(), a"
   ]
  },
  {
   "cell_type": "code",
   "execution_count": 211,
   "id": "83cb40f6",
   "metadata": {},
   "outputs": [
    {
     "data": {
      "text/plain": [
       "(array([[8., 4.],\n",
       "        [3., 1.],\n",
       "        [1., 1.],\n",
       "        [3., 6.],\n",
       "        [6., 6.],\n",
       "        [2., 6.]]),\n",
       " array([[8., 4., 3., 1.],\n",
       "        [1., 1., 3., 6.],\n",
       "        [6., 6., 2., 6.]]))"
      ]
     },
     "execution_count": 211,
     "metadata": {},
     "output_type": "execute_result"
    }
   ],
   "source": [
    "a.reshape(6,2), a"
   ]
  },
  {
   "cell_type": "code",
   "execution_count": 212,
   "id": "10f7e1b2",
   "metadata": {},
   "outputs": [
    {
     "data": {
      "text/plain": [
       "(None,\n",
       " array([[8., 4., 3., 1., 1., 1.],\n",
       "        [3., 6., 6., 6., 2., 6.]]))"
      ]
     },
     "execution_count": 212,
     "metadata": {},
     "output_type": "execute_result"
    }
   ],
   "source": [
    "a.resize(2,6) # 출력되지 않으면 바뀐것\n",
    "a "
   ]
  },
  {
   "cell_type": "code",
   "execution_count": 213,
   "id": "8894f811",
   "metadata": {},
   "outputs": [
    {
     "data": {
      "text/plain": [
       "(array([[8., 3.],\n",
       "        [4., 6.],\n",
       "        [3., 6.],\n",
       "        [1., 6.],\n",
       "        [1., 2.],\n",
       "        [1., 6.]]),\n",
       " array([[8., 4., 3., 1., 1., 1.],\n",
       "        [3., 6., 6., 6., 2., 6.]]))"
      ]
     },
     "execution_count": 213,
     "metadata": {},
     "output_type": "execute_result"
    }
   ],
   "source": [
    "a.T, a"
   ]
  },
  {
   "cell_type": "code",
   "execution_count": 125,
   "id": "8f1d7a72",
   "metadata": {},
   "outputs": [
    {
     "data": {
      "text/plain": [
       "array([[ 0,  1,  2,  3],\n",
       "       [ 4,  5,  6,  7],\n",
       "       [ 8,  9, 10, 11]])"
      ]
     },
     "execution_count": 125,
     "metadata": {},
     "output_type": "execute_result"
    }
   ],
   "source": [
    "# 3. 첫번째 행과 두번째 행만 뽑기 위해 적당한 것은? 1)\n",
    "import numpy as np\n",
    "a = np.arange(12).reshape(3,4)\n",
    "a"
   ]
  },
  {
   "cell_type": "code",
   "execution_count": 126,
   "id": "697f770f",
   "metadata": {},
   "outputs": [
    {
     "data": {
      "text/plain": [
       "array([[0, 1, 2, 3],\n",
       "       [4, 5, 6, 7]])"
      ]
     },
     "execution_count": 126,
     "metadata": {},
     "output_type": "execute_result"
    }
   ],
   "source": [
    "a[:2]"
   ]
  },
  {
   "cell_type": "code",
   "execution_count": 128,
   "id": "30bfcdf4",
   "metadata": {},
   "outputs": [
    {
     "data": {
      "text/plain": [
       "array([1, 0, 3, 0, 0])"
      ]
     },
     "execution_count": 128,
     "metadata": {},
     "output_type": "execute_result"
    }
   ],
   "source": [
    "# 4. 다음 코드 실행 결과는? 1,3,4번째 인데스 위치 값을 0으로 치환 한 array 2)\n",
    "import numpy as np\n",
    "a = np.array([1,2,3,4,5])\n",
    "a[[1,3,4]] = 0\n",
    "a"
   ]
  },
  {
   "cell_type": "code",
   "execution_count": 215,
   "id": "a1f0939d",
   "metadata": {},
   "outputs": [
    {
     "data": {
      "text/plain": [
       "(array([[ 1,  6],\n",
       "        [ 2,  7],\n",
       "        [ 3,  8],\n",
       "        [ 4,  9],\n",
       "        [ 5, 10]]),\n",
       " True)"
      ]
     },
     "execution_count": 215,
     "metadata": {},
     "output_type": "execute_result"
    }
   ],
   "source": [
    "# 5. 두 배열 a,b를 출력의 예시처럼 만들려면 적당한 표현은? 2)\n",
    "import numpy as np\n",
    "a = np.array([1,2,3,4,5])\n",
    "b = np.array([6,7,8,9,10])\n",
    "\n",
    "# np.r_[a,b]\n",
    "c = np.c_[a,b]\n",
    "#np.ix_(a,b)\n",
    "#np.[[a],[b]]\n",
    "\n",
    "answer1 = np.c_[a,b]\n",
    "answer2 = np.column_stack( [a,b] )\n",
    "answer3 = np.hstack((a[:, np.newaxis], b[:, np.newaxis]))\n",
    "answer4 = np.stack([a,b], axis=1)\n",
    "answer5 = np.stack([a,b], axis=-1)\n",
    "answer6 = np.concatenate( (a.reshape(-1, 1), b.reshape(-1, 1)), axis=1) # 비추\n",
    "answers = [answer1, answer2, answer3, answer4, answer5, answer6]\n",
    "\n",
    "c, same_all(*answers)"
   ]
  },
  {
   "cell_type": "code",
   "execution_count": null,
   "id": "c6294b85",
   "metadata": {},
   "outputs": [],
   "source": []
  }
 ],
 "metadata": {
  "kernelspec": {
   "display_name": "Python 3 (ipykernel)",
   "language": "python",
   "name": "python3"
  },
  "language_info": {
   "codemirror_mode": {
    "name": "ipython",
    "version": 3
   },
   "file_extension": ".py",
   "mimetype": "text/x-python",
   "name": "python",
   "nbconvert_exporter": "python",
   "pygments_lexer": "ipython3",
   "version": "3.10.9"
  },
  "toc": {
   "base_numbering": 1,
   "nav_menu": {},
   "number_sections": false,
   "sideBar": true,
   "skip_h1_title": false,
   "title_cell": "Table of Contents",
   "title_sidebar": "Contents",
   "toc_cell": false,
   "toc_position": {
    "height": "calc(100% - 180px)",
    "left": "10px",
    "top": "150px",
    "width": "207px"
   },
   "toc_section_display": true,
   "toc_window_display": true
  }
 },
 "nbformat": 4,
 "nbformat_minor": 5
}
