{
 "cells": [
  {
   "cell_type": "code",
   "execution_count": 25,
   "id": "c659985a",
   "metadata": {},
   "outputs": [
    {
     "data": {
      "text/html": [
       "\n",
       "<style>\n",
       "div.container{width:86% !important;}\n",
       "div.cell.code_cell.rendered{width:100%;}\n",
       "div.CodeMirror {font-family:Consolas; font-size:15pt;}\n",
       "div.output {font-size:15pt; font-weight:bold;}\n",
       "div.input {font-family:Consolas; font-size:15pt;}\n",
       "div.prompt {min-width:70px;}\n",
       "div#toc-wrapper{padding-top:120px;}\n",
       "div.text_cell_render ul li{font-size:12pt;padding:5px;}\n",
       "table.dataframe{font-size:15px;}\n",
       "</style>\n"
      ],
      "text/plain": [
       "<IPython.core.display.HTML object>"
      ]
     },
     "metadata": {},
     "output_type": "display_data"
    }
   ],
   "source": [
    "from IPython.display import display, HTML \n",
    "display(HTML(\"\"\"\n",
    "<style>\n",
    "div.container{width:86% !important;}\n",
    "div.cell.code_cell.rendered{width:100%;}\n",
    "div.CodeMirror {font-family:Consolas; font-size:15pt;}\n",
    "div.output {font-size:15pt; font-weight:bold;}\n",
    "div.input {font-family:Consolas; font-size:15pt;}\n",
    "div.prompt {min-width:70px;}\n",
    "div#toc-wrapper{padding-top:120px;}\n",
    "div.text_cell_render ul li{font-size:12pt;padding:5px;}\n",
    "table.dataframe{font-size:15px;}\n",
    "</style>\n",
    "\"\"\"))"
   ]
  },
  {
   "cell_type": "markdown",
   "id": "bc69bd97",
   "metadata": {},
   "source": [
    "<b><font size=\"5\" color=\"red\">ch09. 파일 io(입출력) 프로그래밍 </font><b>\n",
    "파일 : txt, pickle, csv, json, hdf5(h5)"
   ]
  },
  {
   "cell_type": "code",
   "execution_count": 6,
   "id": "88721fed",
   "metadata": {},
   "outputs": [],
   "source": [
    "try:\n",
    "    f = open('data/ch09.txt', 'w')\n",
    "except FileNotFoundError as e:\n",
    "    print(e)\n",
    "finally:\n",
    "    f.close()"
   ]
  },
  {
   "cell_type": "code",
   "execution_count": 17,
   "id": "cbcd1c6d",
   "metadata": {},
   "outputs": [
    {
     "name": "stdout",
     "output_type": "stream",
     "text": [
      "쓰기 가능한지 여부 : True\n"
     ]
    }
   ],
   "source": [
    "f = open('data/ch09.txt', 'w')\n",
    "print('쓰기 가능한지 여부 :', f.writable())"
   ]
  },
  {
   "cell_type": "code",
   "execution_count": 18,
   "id": "f85da094",
   "metadata": {},
   "outputs": [],
   "source": [
    "f.write('Hello\\nWorld')\n",
    "f.close() # close() 쓰기한 내용이 저장에 필수!!!"
   ]
  },
  {
   "cell_type": "code",
   "execution_count": 21,
   "id": "685c6af8",
   "metadata": {},
   "outputs": [
    {
     "name": "stdout",
     "output_type": "stream",
     "text": [
      "쓰기 가능한지 여부 : True\n"
     ]
    }
   ],
   "source": [
    "# mode : 'r' 또는 'rt' : 파일이 없는 경우 예외, 파일이 있는 경우 text읽기 모드\n",
    "#        'rb' : 바이너리 읽기 모두\n",
    "#        'w' 또는 'wt' : text 쓰기 모드 (파일이 있으면 덮어씀, 파일이 없으면 파일 생성)\n",
    "#        'wb' : 바이너리 쓰기 모드\n",
    "#        'a' 또는 'at' : text 추가 모드 (파일이 있으면 append, 파일이 없으면 파일 생성)\n",
    "#        읽기모드에서는 파일이 없으면 예외 / 쓰기모드에서는 폴더가 없으면 예외\n",
    "# encoding\n",
    "#    eur-kr (한글완성형) '믜' 표현 안됨\n",
    "#    cp949 (확장된 한글완성형) : open()함수 기본 encoding방식(win)\n",
    "#    utf-8 (한글조합형) : open()함수 기본 encoding방식(mac, linux), 주피터노트북 기본\n",
    "with open('data/ch09.txt', 'w') as f:\n",
    "    print('쓰기 가능한지 여부 :', f.writable())\n",
    "    f.write('Hello\\nPython\\n')"
   ]
  },
  {
   "cell_type": "code",
   "execution_count": 30,
   "id": "bc882dd4",
   "metadata": {},
   "outputs": [],
   "source": [
    "with open('data/ch09.txt', 'a', encoding='cp949') as f:\n",
    "    # 1방법\n",
    "    f.write('홍길동, 33, 아무동9\\n')\n",
    "    f.write('김길동, 33, 아무동9\\n')\n",
    "    # 2방법\n",
    "    textlist = ['홍길동, 33, 아무동9\\n', '김길동, 33, 아무동9\\n']\n",
    "    for line in textlist:\n",
    "        f.write(line)\n",
    "    # 3방법\n",
    "    f.writelines(textlist)"
   ]
  },
  {
   "cell_type": "code",
   "execution_count": 32,
   "id": "a82addf8",
   "metadata": {},
   "outputs": [
    {
     "name": "stdout",
     "output_type": "stream",
     "text": [
      "홍길동, 33, 아무동9\n",
      "\n"
     ]
    }
   ],
   "source": [
    "# 한줄씩 일기\n",
    "with open('data/ch09.txt', 'r') as f:\n",
    "    line = f.readline()\n",
    "    print(line)"
   ]
  },
  {
   "cell_type": "code",
   "execution_count": 33,
   "id": "7555eb03",
   "metadata": {},
   "outputs": [
    {
     "name": "stdout",
     "output_type": "stream",
     "text": [
      "홍길동, 33, 아무동9\n",
      "김길동, 33, 아무동9\n",
      "홍길동, 33, 아무동9\n",
      "김길동, 33, 아무동9\n",
      "홍길동, 33, 아무동9\n",
      "김길동, 33, 아무동9\n"
     ]
    }
   ],
   "source": [
    "# 모든 줄을 일기\n",
    "with open('data/ch09.txt', 'r') as f:\n",
    "    line = f.readline()\n",
    "    while line != '':\n",
    "        print(line, end='')\n",
    "        line = f.readline()"
   ]
  },
  {
   "cell_type": "code",
   "execution_count": 34,
   "id": "99979c7e",
   "metadata": {},
   "outputs": [
    {
     "name": "stdout",
     "output_type": "stream",
     "text": [
      "홍길동, 33, 아무동9\n",
      "김길동, 33, 아무동9\n",
      "홍길동, 33, 아무동9\n",
      "김길동, 33, 아무동9\n",
      "홍길동, 33, 아무동9\n",
      "김길동, 33, 아무동9\n",
      "\n"
     ]
    }
   ],
   "source": [
    "# 모두 일기\n",
    "with open('data/ch09.txt', 'r') as f:\n",
    "    lines = f.read()\n",
    "    print(lines)"
   ]
  },
  {
   "cell_type": "code",
   "execution_count": 35,
   "id": "8b17d733",
   "metadata": {},
   "outputs": [
    {
     "data": {
      "text/plain": [
       "'홍길동, 33, 아무동9\\n김길동, 33, 아무동9\\n홍길동, 33, 아무동9\\n김길동, 33, 아무동9\\n홍길동, 33, 아무동9\\n김길동, 33, 아무동9\\n'"
      ]
     },
     "execution_count": 35,
     "metadata": {},
     "output_type": "execute_result"
    }
   ],
   "source": [
    "lines"
   ]
  },
  {
   "cell_type": "markdown",
   "id": "67878b79",
   "metadata": {},
   "source": [
    "# 2절.  피클을 이용한 객체 저장 및 불러오기\n",
    "## 2.1 형식이 있는 txt데이터 불러오기"
   ]
  },
  {
   "cell_type": "code",
   "execution_count": 43,
   "id": "7c1fbf42",
   "metadata": {},
   "outputs": [],
   "source": [
    "class Member:\n",
    "    def __init__(self, name, age, email, address):\n",
    "        self.name = name\n",
    "        self.age = age\n",
    "        self. email = email\n",
    "        self. address = address\n",
    "    def __str__(self):\n",
    "        return '{}, {}, {}, {}'.format(self.name,\n",
    "                                      '성년' if self.age>18 else '미성년',\n",
    "                                      self.email,\n",
    "                                      self.address)\n",
    "    def as_dict(self):\n",
    "        return {\n",
    "            'name':self.name,\n",
    "            'age':self.age,\n",
    "            'email':self.email,\n",
    "            'address':self.address\n",
    "            }\n",
    "    def __eq__(self, other):\n",
    "        return self.name == other.name and \\\n",
    "                self.age == other.age and \\\n",
    "                self.email == other.email and \\\n",
    "                self.address == other.address"
   ]
  },
  {
   "cell_type": "code",
   "execution_count": 44,
   "id": "8b44d9dc",
   "metadata": {},
   "outputs": [
    {
     "name": "stdout",
     "output_type": "stream",
     "text": [
      "True\n",
      "True\n"
     ]
    },
    {
     "data": {
      "text/plain": [
       "(2318853225488, 2318853213056, __main__.Member, __main__.Member)"
      ]
     },
     "execution_count": 44,
     "metadata": {},
     "output_type": "execute_result"
    }
   ],
   "source": [
    "user1 = Member('홍', 20, 'a@a.com', '신림동')\n",
    "user2 = Member('홍', 20, 'a@a.com', '신림동')\n",
    "print(user1==user2)\n",
    "print(user1.__eq__(user2)) # 같은 내용이면 True\n",
    "id(user1), id(user2), type(user1), type(user2)"
   ]
  },
  {
   "cell_type": "code",
   "execution_count": 51,
   "id": "91d4e8d4",
   "metadata": {},
   "outputs": [],
   "source": [
    "# 형식이 있는 txt 파일 내용을 member list(피클 저장), 딕션너리 list(데이터프레임)로 저장\n",
    "user_list = [] # member list\n",
    "user_dict = [] # 딕셔너리 list\n",
    "\n",
    "with open('data/ch09_member.txt', 'r', encoding='utf-8') as txt_file:\n",
    "    lines = txt_file.readlines()\n",
    "# print(lines)\n",
    "for line in lines:\n",
    "#    print(line)\n",
    "    data = line.split(',')\n",
    "#    print(data)\n",
    "    name = data[0]\n",
    "    age = int(data[1].strip()) # strip() : 좌우 공백(space, \\t, \\n) 제거\n",
    "    email = data[2].strip()\n",
    "    address = data[3].strip()\n",
    "    \n",
    "    user = Member(name, age, email, address)\n",
    "    user_list.append(user)\n",
    "    user_dict.append(user.as_dict())\n",
    "#    user_dict.append(user.__dict__) # 위와 동일 기능\n"
   ]
  },
  {
   "cell_type": "code",
   "execution_count": 50,
   "id": "24ebf670",
   "metadata": {},
   "outputs": [
    {
     "name": "stdout",
     "output_type": "stream",
     "text": [
      "홍길동, 성년, kildong@hong.com, 서울시 관악구\n",
      "홍길숙, 성년, kilsuk1@hong.com, 서울시 영등포구\n",
      "신길동, 성년, shinkil@hong.com, 서울시 동작구\n"
     ]
    },
    {
     "data": {
      "text/plain": [
       "[{'name': '홍길동', 'age': 20, 'email': 'kildong@hong.com', 'address': '서울시 관악구'},\n",
       " {'name': '홍길숙',\n",
       "  'age': 25,\n",
       "  'email': 'kilsuk1@hong.com',\n",
       "  'address': '서울시 영등포구'},\n",
       " {'name': '신길동', 'age': 30, 'email': 'shinkil@hong.com', 'address': '서울시 동작구'}]"
      ]
     },
     "execution_count": 50,
     "metadata": {},
     "output_type": "execute_result"
    }
   ],
   "source": [
    "for user in user_list:\n",
    "    print(user)\n",
    "user_dict"
   ]
  },
  {
   "cell_type": "markdown",
   "id": "a85aec3c",
   "metadata": {},
   "source": [
    "## 2.2 피클링\n",
    "- 객체 리스트(user_list) -> 피클파일로 쓰기\n",
    "- 피클 파일을 읽기 -> 객체 리스트(load_user_list)"
   ]
  },
  {
   "cell_type": "code",
   "execution_count": 52,
   "id": "056928ed",
   "metadata": {},
   "outputs": [],
   "source": [
    "# 피클링을 이용한 객체를 저장하기\n",
    "import pickle\n",
    "with open('data/ch09_member.data', 'wb') as f:\n",
    "    pickle.dump(user_list, f)"
   ]
  },
  {
   "cell_type": "code",
   "execution_count": 55,
   "id": "1634c977",
   "metadata": {},
   "outputs": [],
   "source": [
    "# 피클링을 이용한 파일에서 객체 데이터로 읽기\n",
    "with open('data/ch09_member.data', 'rb') as f:\n",
    "    load_user_list = pickle.load(f)"
   ]
  },
  {
   "cell_type": "code",
   "execution_count": 54,
   "id": "fda4f8f4",
   "metadata": {},
   "outputs": [
    {
     "data": {
      "text/plain": [
       "True"
      ]
     },
     "execution_count": 54,
     "metadata": {},
     "output_type": "execute_result"
    }
   ],
   "source": [
    "user_list == load_user_list"
   ]
  },
  {
   "cell_type": "code",
   "execution_count": 60,
   "id": "2bc18b32",
   "metadata": {},
   "outputs": [
    {
     "name": "stdout",
     "output_type": "stream",
     "text": [
      "0 홍길동, 성년, kildong@hong.com, 서울시 관악구\n",
      "0 홍길동, 성년, kildong@hong.com, 서울시 관악구\n",
      "1 홍길숙, 성년, kilsuk1@hong.com, 서울시 영등포구\n",
      "1 홍길숙, 성년, kilsuk1@hong.com, 서울시 영등포구\n",
      "2 신길동, 성년, shinkil@hong.com, 서울시 동작구\n",
      "2 신길동, 성년, shinkil@hong.com, 서울시 동작구\n"
     ]
    }
   ],
   "source": [
    "for idx in range(len(user_list)):\n",
    "    print(idx, user_list[idx])\n",
    "    print(idx, load_user_list[idx])"
   ]
  },
  {
   "cell_type": "code",
   "execution_count": 61,
   "id": "47694c93",
   "metadata": {},
   "outputs": [
    {
     "name": "stdout",
     "output_type": "stream",
     "text": [
      "홍길동, 성년, kildong@hong.com, 서울시 관악구\n",
      "홍길동, 성년, kildong@hong.com, 서울시 관악구\n",
      "홍길숙, 성년, kilsuk1@hong.com, 서울시 영등포구\n",
      "홍길숙, 성년, kilsuk1@hong.com, 서울시 영등포구\n",
      "신길동, 성년, shinkil@hong.com, 서울시 동작구\n",
      "신길동, 성년, shinkil@hong.com, 서울시 동작구\n"
     ]
    }
   ],
   "source": [
    "for user, load_user in zip(user_list, load_user_list):\n",
    "    print(user)\n",
    "    print(load_user)"
   ]
  },
  {
   "cell_type": "code",
   "execution_count": 65,
   "id": "888461f8",
   "metadata": {},
   "outputs": [
    {
     "name": "stdout",
     "output_type": "stream",
     "text": [
      "True\n",
      "True\n",
      "True\n"
     ]
    }
   ],
   "source": [
    "for idx, (user, load_user) in enumerate(zip(user_list, load_user_list)):\n",
    "    print(idx, user)\n",
    "    print(idx, load_user)\n",
    "    print(user==load_user)"
   ]
  },
  {
   "cell_type": "code",
   "execution_count": 67,
   "id": "0e4c3dc9",
   "metadata": {},
   "outputs": [
    {
     "data": {
      "text/plain": [
       "True"
      ]
     },
     "execution_count": 67,
     "metadata": {},
     "output_type": "execute_result"
    }
   ],
   "source": [
    "result = []\n",
    "for user, load_user in zip(user_list, load_user_list):\n",
    "    result.append(user==load_user)\n",
    "all(result)"
   ]
  },
  {
   "cell_type": "markdown",
   "id": "b5acccc0",
   "metadata": {},
   "source": [
    "# 3절. CSV형식 파일 읽기/쓰기\n",
    "- csv파일 <--> 리스트데이터   3.1 / 3.2\n",
    "- csv파일 <--> 딕셔너리데이터 3.3 / 3.4"
   ]
  },
  {
   "cell_type": "markdown",
   "id": "1b7cb8c8",
   "metadata": {},
   "source": [
    "## 3.1 reader"
   ]
  },
  {
   "cell_type": "code",
   "execution_count": 69,
   "id": "14443281",
   "metadata": {},
   "outputs": [
    {
     "name": "stdout",
     "output_type": "stream",
     "text": [
      "[['홍길동', '20', 'kildong@hong.com', '서울시 관악구'], ['김길동', '40', 'kimdong@hong.com', '서울시 영등포구'], ['신길동', '30', 'sindong@hong.com', '서울시 동작구']]\n"
     ]
    }
   ],
   "source": [
    "import csv\n",
    "with open('data/ch09_member1.csv', 'r', encoding='utf-8')as f:\n",
    "    reader = csv.reader(f)\n",
    "    result = list(reader)\n",
    "print(result)"
   ]
  },
  {
   "cell_type": "code",
   "execution_count": 70,
   "id": "fdb6f8c1",
   "metadata": {},
   "outputs": [
    {
     "name": "stdout",
     "output_type": "stream",
     "text": [
      "[['홍길동', 20.0, 'kildong@hong.com', '서울시 관악구'], ['김길동', 40.0, 'kimdong@hong.com', '서울시 영등포구'], ['신길동', 30.0, 'sindong@hong.com', '서울시 동작구']]\n"
     ]
    }
   ],
   "source": [
    "# \"\"(따옴표)가 없는 데이터는 numeric으로\n",
    "import csv\n",
    "with open('data/ch09_member1.csv', 'r', encoding='utf-8')as f:\n",
    "    reader = csv.reader(f,\n",
    "                       quoting=csv.QUOTE_NONNUMERIC)\n",
    "    result = list(reader)\n",
    "print(result)"
   ]
  },
  {
   "cell_type": "code",
   "execution_count": 72,
   "id": "4f4fd72a",
   "metadata": {},
   "outputs": [
    {
     "data": {
      "text/plain": [
       "[{'name': '홍길동', 'age': 20, 'email': 'kildong@hong.com', 'address': '서울시 관악구'},\n",
       " {'name': '김길동',\n",
       "  'age': 40,\n",
       "  'email': 'kimdong@hong.com',\n",
       "  'address': '서울시 영등포구'},\n",
       " {'name': '신길동', 'age': 30, 'email': 'sindong@hong.com', 'address': '서울시 동작구'}]"
      ]
     },
     "execution_count": 72,
     "metadata": {},
     "output_type": "execute_result"
    }
   ],
   "source": [
    "import csv\n",
    "with open('data/ch09_member1.csv', 'r', encoding='utf-8')as f:\n",
    "    reader = csv.reader(f,\n",
    "                       quoting=csv.QUOTE_NONNUMERIC)\n",
    "    result = list(reader)\n",
    "dict_list = []\n",
    "for data in result:\n",
    "    dict_list.append({\n",
    "        'name':data[0],\n",
    "        'age':int(data[1]),\n",
    "        'email':data[2],\n",
    "        'address':data[3]\n",
    "    })\n",
    "dict_list"
   ]
  },
  {
   "cell_type": "markdown",
   "id": "98eabccd",
   "metadata": {},
   "source": [
    "## 3.2 writer"
   ]
  },
  {
   "cell_type": "code",
   "execution_count": 74,
   "id": "53484639",
   "metadata": {},
   "outputs": [],
   "source": [
    "user_list = [['홍길동', 20.0, 'kildong@hong.com', '서울시 관악구'],\n",
    "             ['김길동', 40.0, 'kimdong@hong.com', '서울시 영등포구'],\n",
    "             ['신길동', 30.0, 'sindong@hong.com', '서울시 동작구']]"
   ]
  },
  {
   "cell_type": "code",
   "execution_count": 75,
   "id": "068e085f",
   "metadata": {},
   "outputs": [],
   "source": [
    "with open('data/ch09_member1_write.csv', 'a', newline='', encoding='utf-8') as f:\n",
    "    writer = csv.writer(f)\n",
    "    writer.writerows(user_list)"
   ]
  },
  {
   "cell_type": "code",
   "execution_count": 76,
   "id": "1ba1ca45",
   "metadata": {},
   "outputs": [],
   "source": [
    "import csv\n",
    "with open('data/ch09_member1_write.csv', 'a', newline='', encoding='utf-8') as f:\n",
    "    writer = csv.writer(f, quoting=csv.QUOTE_NONNUMERIC)\n",
    "    writer.writerows(user_list)"
   ]
  },
  {
   "cell_type": "markdown",
   "id": "a738bd89",
   "metadata": {},
   "source": [
    "## 3.3 DictReader"
   ]
  },
  {
   "cell_type": "code",
   "execution_count": 95,
   "id": "abb44967",
   "metadata": {},
   "outputs": [
    {
     "name": "stdout",
     "output_type": "stream",
     "text": [
      "[{'name': '홍길동', 'age': '20', 'email': 'h@h.com', 'address': '서울시 관악구', 'job': None}, {'name': '신길동', 'age': '40', 'email': 's@h.com', 'address': '서울시 영등포구', 'job': '팀장'}, {'name': '김길동', 'age': '30', 'email': 'k@h.com', 'address': '서울시 동작구', 'job': None}]\n",
      "홍길동 20 h@h.com 서울시 관악구\n",
      "신길동 40 s@h.com 서울시 영등포구 팀장\n",
      "김길동 30 k@h.com 서울시 동작구\n"
     ]
    }
   ],
   "source": [
    "import csv\n",
    "with open('data/ch09_member3.csv', 'r', encoding='utf-8') as f:\n",
    "    dict_reader = csv.DictReader(f)\n",
    "    dict_list = list(dict_reader)\n",
    "    print(dict_list)\n",
    "\n",
    "for row in dict_list:\n",
    "    if row['job'] is None:\n",
    "        print(row['name'], row['age'], row['email'], row['address'])\n",
    "    else:\n",
    "        print(row['name'], row['age'], row['email'], row['address'], row['job'])"
   ]
  },
  {
   "cell_type": "code",
   "execution_count": 96,
   "id": "ac7cf61e",
   "metadata": {},
   "outputs": [
    {
     "name": "stdout",
     "output_type": "stream",
     "text": [
      "[{'Name': '홍길동', 'Age': '20', 'Email': 'kildong@hong.com', 'Address': '서울시 관악구', 'Job': ''}, {'Name': '김길동', 'Age': '40', 'Email': 'kimdong@hong.com', 'Address': '서울시 영등포구', 'Job': '팀장'}, {'Name': '신길동', 'Age': '30', 'Email': 'sindong@hong.com', 'Address': '서울시 동작구', 'Job': ''}]\n",
      "{'Name': '홍길동', 'Age': '20', 'Email': 'kildong@hong.com', 'Address': '서울시 관악구', 'Job': ''}\n",
      "{'Name': '김길동', 'Age': '40', 'Email': 'kimdong@hong.com', 'Address': '서울시 영등포구', 'Job': '팀장'}\n",
      "{'Name': '신길동', 'Age': '30', 'Email': 'sindong@hong.com', 'Address': '서울시 동작구', 'Job': ''}\n"
     ]
    }
   ],
   "source": [
    "# header가 없는 csv파일(ch09_member1-cp.csv)을 딕셔너리로 읽기\n",
    "with open('data/ch09_member1-cp.csv', encoding='cp949') as f:\n",
    "    dict_reader = csv.DictReader(f, \n",
    "                                 fieldnames=['Name', 'Age', 'Email', 'Address', 'Job'], \n",
    "                                 restkey='Job')\n",
    "    result = list(dict_reader)\n",
    "    print(result)\n",
    "    \n",
    "for row in result:\n",
    "    print(row)"
   ]
  },
  {
   "cell_type": "markdown",
   "id": "65acc24f",
   "metadata": {},
   "source": [
    "## 3.4 DictWriter\n",
    "- 딕셔너리 리스트 -> CSV파일"
   ]
  },
  {
   "cell_type": "code",
   "execution_count": 97,
   "id": "24098bb4",
   "metadata": {},
   "outputs": [],
   "source": [
    "user1 = {'name': '홍길동', 'age': 22, 'email': 'a@a.com', 'address': '신림동'}\n",
    "user2 = {'name': '신길동', 'age': 30, 'email': 'b@a.com', 'address': '신림동'}\n",
    "user3 = {'name': '김길동', 'age': 42, 'email': 'c@a.com', 'address': '신림동'}\n",
    "user_list = [user1, user2, user3]\n",
    "fieldnames = list(user1.keys())"
   ]
  },
  {
   "cell_type": "code",
   "execution_count": 99,
   "id": "e6b65cd3",
   "metadata": {},
   "outputs": [
    {
     "data": {
      "text/plain": [
       "['name', 'age', 'email', 'address']"
      ]
     },
     "execution_count": 99,
     "metadata": {},
     "output_type": "execute_result"
    }
   ],
   "source": [
    "list(user1.keys())"
   ]
  },
  {
   "cell_type": "code",
   "execution_count": 101,
   "id": "37590a3a",
   "metadata": {},
   "outputs": [],
   "source": [
    "with open('data/ch09_member4.csv', 'w', encoding='utf-8', newline='') as f:\n",
    "    dict_writer = csv.DictWriter(f,\n",
    "                                fieldnames=fieldnames)\n",
    "    dict_writer.writeheader() # header 쓰기\n",
    "    dict_writer.writerows(user_list)"
   ]
  },
  {
   "cell_type": "code",
   "execution_count": 102,
   "id": "b02bb071",
   "metadata": {},
   "outputs": [],
   "source": [
    "with open('data/ch09_member4.csv', 'a', encoding='utf-8', newline='') as f:\n",
    "    dict_writer = csv.DictWriter(f,\n",
    "                                fieldnames=fieldnames)\n",
    "    # dict_writer.writeheader() # header 쓰기\n",
    "    dict_writer.writerows(user_list)"
   ]
  },
  {
   "cell_type": "markdown",
   "id": "f1ed6eb7",
   "metadata": {},
   "source": [
    "## csv <-> 데이터프레임"
   ]
  },
  {
   "cell_type": "code",
   "execution_count": 103,
   "id": "79ba52fd",
   "metadata": {},
   "outputs": [
    {
     "data": {
      "text/html": [
       "<div>\n",
       "<style scoped>\n",
       "    .dataframe tbody tr th:only-of-type {\n",
       "        vertical-align: middle;\n",
       "    }\n",
       "\n",
       "    .dataframe tbody tr th {\n",
       "        vertical-align: top;\n",
       "    }\n",
       "\n",
       "    .dataframe thead th {\n",
       "        text-align: right;\n",
       "    }\n",
       "</style>\n",
       "<table border=\"1\" class=\"dataframe\">\n",
       "  <thead>\n",
       "    <tr style=\"text-align: right;\">\n",
       "      <th></th>\n",
       "      <th>name</th>\n",
       "      <th>age</th>\n",
       "      <th>email</th>\n",
       "      <th>address</th>\n",
       "      <th>job</th>\n",
       "    </tr>\n",
       "  </thead>\n",
       "  <tbody>\n",
       "    <tr>\n",
       "      <th>0</th>\n",
       "      <td>홍길동</td>\n",
       "      <td>20</td>\n",
       "      <td>h@h.com</td>\n",
       "      <td>서울시 관악구</td>\n",
       "      <td>NaN</td>\n",
       "    </tr>\n",
       "    <tr>\n",
       "      <th>1</th>\n",
       "      <td>신길동</td>\n",
       "      <td>40</td>\n",
       "      <td>s@h.com</td>\n",
       "      <td>서울시 영등포구</td>\n",
       "      <td>팀장</td>\n",
       "    </tr>\n",
       "    <tr>\n",
       "      <th>2</th>\n",
       "      <td>김길동</td>\n",
       "      <td>30</td>\n",
       "      <td>k@h.com</td>\n",
       "      <td>서울시 동작구</td>\n",
       "      <td>NaN</td>\n",
       "    </tr>\n",
       "  </tbody>\n",
       "</table>\n",
       "</div>"
      ],
      "text/plain": [
       "  name  age    email   address  job\n",
       "0  홍길동   20  h@h.com   서울시 관악구  NaN\n",
       "1  신길동   40  s@h.com  서울시 영등포구   팀장\n",
       "2  김길동   30  k@h.com   서울시 동작구  NaN"
      ]
     },
     "execution_count": 103,
     "metadata": {},
     "output_type": "execute_result"
    }
   ],
   "source": [
    "import pandas as pd\n",
    "member = pd.read_csv('data/ch09_member3.csv') # encoding='utf-8' : default라 불필요\n",
    "member"
   ]
  },
  {
   "cell_type": "code",
   "execution_count": 104,
   "id": "df2572a1",
   "metadata": {},
   "outputs": [
    {
     "data": {
      "text/plain": [
       "pandas.core.frame.DataFrame"
      ]
     },
     "execution_count": 104,
     "metadata": {},
     "output_type": "execute_result"
    }
   ],
   "source": [
    "type(member)"
   ]
  },
  {
   "cell_type": "markdown",
   "id": "268f73c8",
   "metadata": {},
   "source": [
    "# 4절. JSON 데이터 저장하고 불러오기(dump, load)\n",
    "- 딕셔너리리스트 <-> JSON 파일(기본)\n",
    "- 객체리스트 <-> JSON 파일\n",
    "## 4.1 dump(파일 출력)"
   ]
  },
  {
   "cell_type": "code",
   "execution_count": 105,
   "id": "abfa405f",
   "metadata": {},
   "outputs": [],
   "source": [
    "data = [{'Name': '홍길동', 'Age': '20', 'Email': 'kildong@hong.com', 'Address': '서울', 'Job': ''},\n",
    "        {'Name': '김길동', 'Age': '40', 'Email': 'kimdong@hong.com', 'Address': '인천', 'Job': '팀장'},\n",
    "        {'Name': '신길동', 'Age': '30', 'Email': 'sindong@hong.com', 'Address': '경기', 'Job': ''}]"
   ]
  },
  {
   "cell_type": "code",
   "execution_count": 107,
   "id": "0d02ff74",
   "metadata": {},
   "outputs": [],
   "source": [
    "# ensure_ascii 매개변수\n",
    "    # True  : 비ASCII문은 유니코드 형태로 저장\n",
    "    # False : 비 ASII문자 원래 형태로 저장\n",
    "import json\n",
    "with open('data/ch09_member.json', 'w', encoding='utf-8') as jsonfile:\n",
    "    json.dump(data, # 딕셔너리 리스트\n",
    "              jsonfile,\n",
    "              ensure_ascii=False,\n",
    "              indent='\\t')"
   ]
  },
  {
   "cell_type": "code",
   "execution_count": 109,
   "id": "b517382d",
   "metadata": {},
   "outputs": [],
   "source": [
    "class Member:\n",
    "    def __init__(self, name, age, email, address):\n",
    "        self.name = name\n",
    "        self.age = age\n",
    "        self. email = email\n",
    "        self. address = address\n",
    "    def __str__(self):\n",
    "        return '{}, {}, {}, {}'.format(self.name,\n",
    "                                      self.age,\n",
    "                                      self.email,\n",
    "                                      self.address)\n",
    "    def as_dict(self):\n",
    "        return {\n",
    "            'name':self.name,\n",
    "            'age':self.age,\n",
    "            'email':self.email,\n",
    "            'address':self.address\n",
    "            }\n",
    "    def __eq__(self, other):\n",
    "        if isinstance(other, Member):\n",
    "            return self.__str__() == other.__str__()\n",
    "#             return self.name == other.name and \\\n",
    "#                     self.age == other.age and \\\n",
    "#                     self.email == other.email and \\\n",
    "#                     self.address == other.address\n",
    "        else:\n",
    "            return False"
   ]
  },
  {
   "cell_type": "code",
   "execution_count": 112,
   "id": "6c6e083d",
   "metadata": {},
   "outputs": [
    {
     "name": "stdout",
     "output_type": "stream",
     "text": [
      "True\n",
      "False\n"
     ]
    }
   ],
   "source": [
    "user1 = Member('홍길동', 22, 'a@a.com', '신림동')\n",
    "user2 = Member('홍길동', 22, 'a@a.com', '신림동')\n",
    "print(user1.__eq__(user2))\n",
    "print(user1=='홍길동')"
   ]
  },
  {
   "cell_type": "code",
   "execution_count": 113,
   "id": "2b6fe209",
   "metadata": {},
   "outputs": [],
   "source": [
    "member_list = [Member('홍길동', 22, 'a@a.com', '서울'),\n",
    "              Member('신길동', 32, 'a@a.com', '서울'),\n",
    "              Member('김길동', 42, 'a@a.com', '서울')]"
   ]
  },
  {
   "cell_type": "code",
   "execution_count": 116,
   "id": "89774afb",
   "metadata": {},
   "outputs": [],
   "source": [
    "with open('data/ch09_member1.json', 'w', encoding='utf-8') as jsonfile:\n",
    "    json.dump(member_list, # 객체리스트\n",
    "             jsonfile,\n",
    "             ensure_ascii=False,\n",
    "             indent='\\t',\n",
    "             default=Member.as_dict # 객체를 딕션너리로 return하는 인스턴스 함수\n",
    "             )"
   ]
  },
  {
   "cell_type": "markdown",
   "id": "857b7fef",
   "metadata": {},
   "source": [
    "## 4.2 load(파일입력)\n",
    "- json파일 -> 딕셔너리리스트(기본)\n",
    "                 ↓\n",
    "- json파일 -> 객체리스트"
   ]
  },
  {
   "cell_type": "code",
   "execution_count": 123,
   "id": "a99c6155",
   "metadata": {},
   "outputs": [],
   "source": [
    "def as_member(dic): \n",
    "    '매개변수로 딕셔너리를 받아 Member 객체를 return'\n",
    "    return Member(dic.get('name'),dic['age'],dic.get('email'),dic.get('address'))"
   ]
  },
  {
   "cell_type": "code",
   "execution_count": 124,
   "id": "1108ef94",
   "metadata": {},
   "outputs": [
    {
     "name": "stdout",
     "output_type": "stream",
     "text": [
      "김길동, 20, z@a.com, 관악\n"
     ]
    }
   ],
   "source": [
    "member = as_member({'name':'김길동', 'age':20, 'email':'z@a.com', 'address':'관악'})\n",
    "print(member)"
   ]
  },
  {
   "cell_type": "code",
   "execution_count": 126,
   "id": "efd93d7b",
   "metadata": {},
   "outputs": [
    {
     "data": {
      "text/plain": [
       "[{'Name': '홍길동',\n",
       "  'Age': '20',\n",
       "  'Email': 'kildong@hong.com',\n",
       "  'Address': '서울',\n",
       "  'Job': ''},\n",
       " {'Name': '김길동',\n",
       "  'Age': '40',\n",
       "  'Email': 'kimdong@hong.com',\n",
       "  'Address': '인천',\n",
       "  'Job': '팀장'},\n",
       " {'Name': '신길동',\n",
       "  'Age': '30',\n",
       "  'Email': 'sindong@hong.com',\n",
       "  'Address': '경기',\n",
       "  'Job': ''}]"
      ]
     },
     "execution_count": 126,
     "metadata": {},
     "output_type": "execute_result"
    }
   ],
   "source": [
    "with open('data/ch09_member.json', 'r', encoding='utf-8') as f:\n",
    "    load_data = json.load(f)\n",
    "load_data"
   ]
  },
  {
   "cell_type": "code",
   "execution_count": 132,
   "id": "e1a20472",
   "metadata": {},
   "outputs": [
    {
     "name": "stdout",
     "output_type": "stream",
     "text": [
      "홍길동, 22, a@a.com, 서울\n",
      "신길동, 32, a@a.com, 서울\n",
      "김길동, 42, a@a.com, 서울\n"
     ]
    }
   ],
   "source": [
    "with open('data/ch09_member1.json', 'r', encoding='utf-8') as f:\n",
    "    load_member_list = json.load(f, object_hook=as_member)\n",
    "for load_member in load_member_list:\n",
    "    print(load_member)"
   ]
  },
  {
   "cell_type": "markdown",
   "id": "4f49accd",
   "metadata": {},
   "source": [
    "### JSON -> 데이터 프레임"
   ]
  },
  {
   "cell_type": "code",
   "execution_count": 128,
   "id": "1897a973",
   "metadata": {},
   "outputs": [
    {
     "data": {
      "text/html": [
       "<div>\n",
       "<style scoped>\n",
       "    .dataframe tbody tr th:only-of-type {\n",
       "        vertical-align: middle;\n",
       "    }\n",
       "\n",
       "    .dataframe tbody tr th {\n",
       "        vertical-align: top;\n",
       "    }\n",
       "\n",
       "    .dataframe thead th {\n",
       "        text-align: right;\n",
       "    }\n",
       "</style>\n",
       "<table border=\"1\" class=\"dataframe\">\n",
       "  <thead>\n",
       "    <tr style=\"text-align: right;\">\n",
       "      <th></th>\n",
       "      <th>name</th>\n",
       "      <th>age</th>\n",
       "      <th>email</th>\n",
       "      <th>address</th>\n",
       "    </tr>\n",
       "  </thead>\n",
       "  <tbody>\n",
       "    <tr>\n",
       "      <th>0</th>\n",
       "      <td>홍길동</td>\n",
       "      <td>22</td>\n",
       "      <td>a@a.com</td>\n",
       "      <td>서울</td>\n",
       "    </tr>\n",
       "    <tr>\n",
       "      <th>1</th>\n",
       "      <td>신길동</td>\n",
       "      <td>32</td>\n",
       "      <td>a@a.com</td>\n",
       "      <td>서울</td>\n",
       "    </tr>\n",
       "    <tr>\n",
       "      <th>2</th>\n",
       "      <td>김길동</td>\n",
       "      <td>42</td>\n",
       "      <td>a@a.com</td>\n",
       "      <td>서울</td>\n",
       "    </tr>\n",
       "  </tbody>\n",
       "</table>\n",
       "</div>"
      ],
      "text/plain": [
       "  name  age    email address\n",
       "0  홍길동   22  a@a.com      서울\n",
       "1  신길동   32  a@a.com      서울\n",
       "2  김길동   42  a@a.com      서울"
      ]
     },
     "execution_count": 128,
     "metadata": {},
     "output_type": "execute_result"
    }
   ],
   "source": [
    "import pandas as pd\n",
    "pd.read_json('data/ch09_member1.json')\n",
    "# pd.함수() : encoding='utf-8' 기본값\n",
    "# open(파일, 모드)함수 : encoding='cp949' 기본값"
   ]
  },
  {
   "cell_type": "code",
   "execution_count": 130,
   "id": "031ceaaf",
   "metadata": {},
   "outputs": [
    {
     "data": {
      "text/html": [
       "<div>\n",
       "<style scoped>\n",
       "    .dataframe tbody tr th:only-of-type {\n",
       "        vertical-align: middle;\n",
       "    }\n",
       "\n",
       "    .dataframe tbody tr th {\n",
       "        vertical-align: top;\n",
       "    }\n",
       "\n",
       "    .dataframe thead th {\n",
       "        text-align: right;\n",
       "    }\n",
       "</style>\n",
       "<table border=\"1\" class=\"dataframe\">\n",
       "  <thead>\n",
       "    <tr style=\"text-align: right;\">\n",
       "      <th></th>\n",
       "      <th>Name</th>\n",
       "      <th>Age</th>\n",
       "      <th>Email</th>\n",
       "      <th>Address</th>\n",
       "      <th>Job</th>\n",
       "    </tr>\n",
       "  </thead>\n",
       "  <tbody>\n",
       "    <tr>\n",
       "      <th>0</th>\n",
       "      <td>홍길동</td>\n",
       "      <td>20</td>\n",
       "      <td>kildong@hong.com</td>\n",
       "      <td>서울</td>\n",
       "      <td></td>\n",
       "    </tr>\n",
       "    <tr>\n",
       "      <th>1</th>\n",
       "      <td>김길동</td>\n",
       "      <td>40</td>\n",
       "      <td>kimdong@hong.com</td>\n",
       "      <td>인천</td>\n",
       "      <td>팀장</td>\n",
       "    </tr>\n",
       "    <tr>\n",
       "      <th>2</th>\n",
       "      <td>신길동</td>\n",
       "      <td>30</td>\n",
       "      <td>sindong@hong.com</td>\n",
       "      <td>경기</td>\n",
       "      <td></td>\n",
       "    </tr>\n",
       "  </tbody>\n",
       "</table>\n",
       "</div>"
      ],
      "text/plain": [
       "  Name  Age             Email Address Job\n",
       "0  홍길동   20  kildong@hong.com      서울    \n",
       "1  김길동   40  kimdong@hong.com      인천  팀장\n",
       "2  신길동   30  sindong@hong.com      경기    "
      ]
     },
     "execution_count": 130,
     "metadata": {},
     "output_type": "execute_result"
    }
   ],
   "source": [
    "pd.read_json('data/ch09_member.json', encoding='utf-8')"
   ]
  },
  {
   "cell_type": "markdown",
   "id": "e1a24b05",
   "metadata": {},
   "source": [
    "## 5절. 연습문제 \n",
    "### 실습형 : 기능별 함수를 작성한다"
   ]
  },
  {
   "cell_type": "code",
   "execution_count": 133,
   "id": "50688622",
   "metadata": {},
   "outputs": [
    {
     "ename": "NameError",
     "evalue": "name 'load_customers' is not defined",
     "output_type": "error",
     "traceback": [
      "\u001b[1;31m---------------------------------------------------------------------------\u001b[0m",
      "\u001b[1;31mNameError\u001b[0m                                 Traceback (most recent call last)",
      "Cell \u001b[1;32mIn[133], line 23\u001b[0m\n\u001b[0;32m     20\u001b[0m         \u001b[38;5;28;01mbreak\u001b[39;00m\n\u001b[0;32m     22\u001b[0m \u001b[38;5;28;01mif\u001b[39;00m \u001b[38;5;18m__name__\u001b[39m \u001b[38;5;241m==\u001b[39m \u001b[38;5;124m'\u001b[39m\u001b[38;5;124m__main__\u001b[39m\u001b[38;5;124m'\u001b[39m:\n\u001b[1;32m---> 23\u001b[0m     \u001b[43mmain\u001b[49m\u001b[43m(\u001b[49m\u001b[43m)\u001b[49m\n",
      "Cell \u001b[1;32mIn[133], line 3\u001b[0m, in \u001b[0;36mmain\u001b[1;34m()\u001b[0m\n\u001b[0;32m      1\u001b[0m \u001b[38;5;28;01mdef\u001b[39;00m \u001b[38;5;21mmain\u001b[39m():\n\u001b[0;32m      2\u001b[0m     \u001b[38;5;28;01mglobal\u001b[39;00m customer_list\n\u001b[1;32m----> 3\u001b[0m     customer_list \u001b[38;5;241m=\u001b[39m \u001b[43mload_customers\u001b[49m() \u001b[38;5;66;03m# ch09_customers.txt의 내용을 load\u001b[39;00m\n\u001b[0;32m      4\u001b[0m     \u001b[38;5;28;01mwhile\u001b[39;00m \u001b[38;5;28;01mTrue\u001b[39;00m:\n\u001b[0;32m      5\u001b[0m         \u001b[38;5;28mprint\u001b[39m(\u001b[38;5;124m\"\u001b[39m\u001b[38;5;124m1:입력 \u001b[39m\u001b[38;5;124m\"\u001b[39m,\u001b[38;5;124m\"\u001b[39m\u001b[38;5;124m 전체출력 \u001b[39m\u001b[38;5;124m\"\u001b[39m,\u001b[38;5;124m\"\u001b[39m\u001b[38;5;124m 삭제 \u001b[39m\u001b[38;5;124m\"\u001b[39m,\u001b[38;5;124m\"\u001b[39m\u001b[38;5;124m 이름찾기 \u001b[39m\u001b[38;5;124m\"\u001b[39m,\u001b[38;5;124m\"\u001b[39m\u001b[38;5;124m 내보내기 (CSV)\u001b[39m\u001b[38;5;124m\"\u001b[39m, \u001b[38;5;124m\"\u001b[39m\u001b[38;5;124m 종료 \u001b[39m\u001b[38;5;124m\"\u001b[39m, sep\u001b[38;5;241m=\u001b[39m\u001b[38;5;124m'\u001b[39m\u001b[38;5;124m | \u001b[39m\u001b[38;5;124m'\u001b[39m, end\u001b[38;5;241m=\u001b[39m\u001b[38;5;124m'\u001b[39m\u001b[38;5;124m'\u001b[39m)\n",
      "\u001b[1;31mNameError\u001b[0m: name 'load_customers' is not defined"
     ]
    }
   ],
   "source": [
    "class Custmer:\n",
    "    def __init__(self, name, phone, email, age, grade, etc):\n",
    "        self.name = name\n",
    "        self.phone = phone\n",
    "        self.email = email\n",
    "        self.age = age\n",
    "        self.grade = grade\n",
    "        self.etc = etc\n",
    "        \n",
    "    def as_dic(self): # 객체를 딕셔너리데이터로 반환 (csv 파일 저장시)\n",
    "        return {\n",
    "            'name':self.name,\n",
    "            'phone':self.phone,\n",
    "            'email':self.email,\n",
    "            'age':self.age,\n",
    "            'grade':self.grade\n",
    "            'etc':self.etc\n",
    "            }\n",
    "    \n",
    "    def to_list_style(self): #객체를 list return([홍길동, 010-8999-9999, e@e.com, 20, 3, 까칠해])\n",
    "        return {[\n",
    "            self.name,\n",
    "            self.phone,\n",
    "            self.email,\n",
    "            self.age,\n",
    "            self.grade\n",
    "            self.etc]\n",
    "            }\n",
    "    \n",
    "    def __str__(self): # ***홍길동 010-8999-9999 e@e.com 20 까칠해\n",
    "        return '{} {} {} {} {} {}'.format(self.name,\n",
    "                                        self.phone,\n",
    "                                        self.email,\n",
    "                                        self.age,\n",
    "                                        self.grade\n",
    "                                        self.etc)\n",
    "    \n",
    "    def to_customer(row): # txt파일 내용 한줄 (홍길동 , 010 8999 9999, e@e.com, 20, 3, 까칠해)을 Customer 객체로 반환\n",
    "\n",
    "# 0.실행하면 data/ch09_customers.txt 파일의 내용을 load(customer_list)\n",
    "#      data/ch09_customers.txt이 존재하지 않으면\n",
    "#          빈 data/ch09_customers.txt 파일을 생성하고\n",
    "#              데이터는 customer_list=[]\n",
    "def load_customers():\n",
    "\n",
    "# 1.입력\n",
    "def fn1_insert_customer_info():\n",
    "    \n",
    "# 2.전체 출력\n",
    "def fn2_print_customers(customer_list):\n",
    "    \n",
    "# 3.삭제 (동명이인이 있다고 할지 동명이인이 없다고 할지 미리 정해놓고 구현)\n",
    "def fn3_delete_customer(customer_list):\n",
    "    \n",
    "# 4.이름찾기 (동명이인이 있다고 할지 없다고 할지 정한대로 구현)\n",
    "def fn4_search_customer(customer_list):\n",
    "    \n",
    "# 5.내보내기 (CSV)\n",
    "def fn5_save_customer_csv(customer_list):\n",
    "    \n",
    "# 9.종료 (종료하기 전 customer_list 를 txt 파일에 저장하고 종료)\n",
    "def fn9_save_customer_txt(customer_list):    \n",
    "    \n",
    "\n",
    "def main():\n",
    "    global customer_list\n",
    "    customer_list = load_customers() # ch09_customers.txt의 내용을 load\n",
    "    while True:\n",
    "        print(\"1:입력 \",\" 전체출력 \",\" 삭제 \",\" 이름찾기 \",\" 내보내기 (CSV)\", \" 종료 \", sep=' | ', end='')\n",
    "        fn = int(input('메뉴선택 :'))\n",
    "        if fn == 1:\n",
    "            customer = fn1_insert_customer_info() # 입력받은 내용으로 customer 객체를 반환\n",
    "            customer_list.append(customer)\n",
    "        elif fn == 2:\n",
    "            fn2_print_customers(customer_list)\n",
    "        elif fn == 3:\n",
    "            fn3_delete_customer(customer_list)\n",
    "        elif fn == 4:\n",
    "            fn4_search_customer(customer_list)\n",
    "        elif fn == 5:\n",
    "            fn5_save_customer_csv(customer_list)\n",
    "        elif fn == 9:\n",
    "            fn9_save_customer_txt(customer_list)\n",
    "        break\n",
    "\n",
    "if __name__ == '__main__':\n",
    "    main()"
   ]
  },
  {
   "cell_type": "code",
   "execution_count": null,
   "id": "54a1abdb",
   "metadata": {},
   "outputs": [],
   "source": []
  },
  {
   "cell_type": "code",
   "execution_count": null,
   "id": "1009ca3d",
   "metadata": {},
   "outputs": [],
   "source": []
  },
  {
   "cell_type": "code",
   "execution_count": null,
   "id": "61edb80c",
   "metadata": {},
   "outputs": [],
   "source": []
  },
  {
   "cell_type": "code",
   "execution_count": null,
   "id": "7ca052cd",
   "metadata": {},
   "outputs": [],
   "source": []
  }
 ],
 "metadata": {
  "kernelspec": {
   "display_name": "Python 3 (ipykernel)",
   "language": "python",
   "name": "python3"
  },
  "language_info": {
   "codemirror_mode": {
    "name": "ipython",
    "version": 3
   },
   "file_extension": ".py",
   "mimetype": "text/x-python",
   "name": "python",
   "nbconvert_exporter": "python",
   "pygments_lexer": "ipython3",
   "version": "3.10.9"
  },
  "toc": {
   "base_numbering": 1,
   "nav_menu": {},
   "number_sections": false,
   "sideBar": true,
   "skip_h1_title": false,
   "title_cell": "Table of Contents",
   "title_sidebar": "Contents",
   "toc_cell": false,
   "toc_position": {
    "height": "calc(100% - 180px)",
    "left": "10px",
    "top": "150px",
    "width": "289px"
   },
   "toc_section_display": true,
   "toc_window_display": true
  }
 },
 "nbformat": 4,
 "nbformat_minor": 5
}
