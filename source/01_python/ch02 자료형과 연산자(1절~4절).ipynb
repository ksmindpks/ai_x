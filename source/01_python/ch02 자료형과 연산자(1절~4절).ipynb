{
 "cells": [
  {
   "cell_type": "code",
   "execution_count": 4,
   "id": "2e7956f6",
   "metadata": {},
   "outputs": [
    {
     "data": {
      "text/html": [
       "\n",
       "<style>\n",
       "div.container{width:86% !important;}\n",
       "div.cell.code_cell.rendered{width:100%;}\n",
       "div.CodeMirror {font-family:Consolas; font-size:15pt;}\n",
       "div.output {font-size:15pt; font-weight:bold;}\n",
       "div.input {font-family:Consolas; font-size:15pt;}\n",
       "div.prompt {min-width:70px;}\n",
       "div#toc-wrapper{padding-top:120px;}\n",
       "div.text_cell_render ul li{font-size:12pt;padding:5px;}\n",
       "table.dataframe{font-size:15px;}\n",
       "</style>\n"
      ],
      "text/plain": [
       "<IPython.core.display.HTML object>"
      ]
     },
     "metadata": {},
     "output_type": "display_data"
    }
   ],
   "source": [
    "from IPython.display import display, HTML \n",
    "display(HTML(\"\"\"\n",
    "<style>\n",
    "div.container{width:86% !important;}\n",
    "div.cell.code_cell.rendered{width:100%;}\n",
    "div.CodeMirror {font-family:Consolas; font-size:15pt;}\n",
    "div.output {font-size:15pt; font-weight:bold;}\n",
    "div.input {font-family:Consolas; font-size:15pt;}\n",
    "div.prompt {min-width:70px;}\n",
    "div#toc-wrapper{padding-top:120px;}\n",
    "div.text_cell_render ul li{font-size:12pt;padding:5px;}\n",
    "table.dataframe{font-size:15px;}\n",
    "</style>\n",
    "\"\"\"))\n"
   ]
  },
  {
   "cell_type": "markdown",
   "id": "45c36fbf",
   "metadata": {},
   "source": [
    "<font size=\"5\" color=\"red\">ch02 자료형과 연산자 </font>\n",
    "# 1절. 변수\n",
    "- 파이썬은 변수선언을 위한 과정이 없음. 할당과 동시에 타입이 지정되고 값이 할당됨\n",
    "## 1.1 변수 할당\n",
    "- 할당연산자(=)를 이용해서 값을 할당하면 타입이 셋팅\n",
    "- 파이썬에서의 모든 변수는 객체로 저장"
   ]
  },
  {
   "cell_type": "code",
   "execution_count": 5,
   "id": "1fea42fb",
   "metadata": {},
   "outputs": [
    {
     "name": "stdout",
     "output_type": "stream",
     "text": [
      "계산된 넓이는 78.5\n"
     ]
    }
   ],
   "source": [
    "r = 5\n",
    "area = 3.14 * r * r\n",
    "print(\"계산된 넓이는\", area)"
   ]
  },
  {
   "cell_type": "code",
   "execution_count": 6,
   "id": "e6f54b04",
   "metadata": {},
   "outputs": [
    {
     "name": "stdout",
     "output_type": "stream",
     "text": [
      "area = 78.53981633974483\n"
     ]
    }
   ],
   "source": [
    "import numpy as np\n",
    "area = np.pi * r * r\n",
    "print('area =', area)"
   ]
  },
  {
   "cell_type": "code",
   "execution_count": 7,
   "id": "7b1cdaa7",
   "metadata": {},
   "outputs": [
    {
     "data": {
      "text/plain": [
       "False"
      ]
     },
     "execution_count": 7,
     "metadata": {},
     "output_type": "execute_result"
    }
   ],
   "source": [
    "area.is_integer() # area가 integer인지 여부를 반환"
   ]
  },
  {
   "cell_type": "code",
   "execution_count": 8,
   "id": "d09b7794",
   "metadata": {},
   "outputs": [
    {
     "name": "stdout",
     "output_type": "stream",
     "text": [
      "area의 주소 : 3043049963280\n",
      "area의 타입 : <class 'float'>\n"
     ]
    }
   ],
   "source": [
    "print('area의 주소 :', id(area)) # id(area) : area변수의 주소값\n",
    "print('area의 타입 :', type(area))"
   ]
  },
  {
   "cell_type": "code",
   "execution_count": 9,
   "id": "40981f03",
   "metadata": {},
   "outputs": [
    {
     "name": "stdout",
     "output_type": "stream",
     "text": [
      "area의 주소 : 3043079308016\n",
      "area의 타입 : <class 'float'>\n"
     ]
    }
   ],
   "source": [
    "area = 5.5\n",
    "print('area의 주소 :', id(area)) # id(area) : area변수의 주소값\n",
    "print('area의 타입 :', type(area))"
   ]
  },
  {
   "cell_type": "code",
   "execution_count": 10,
   "id": "99a1373b",
   "metadata": {},
   "outputs": [
    {
     "name": "stdout",
     "output_type": "stream",
     "text": [
      "area의 주소 : 3045122114064\n",
      "area의 타입 : <class 'int'>\n"
     ]
    }
   ],
   "source": [
    "area = 10\n",
    "print('area의 주소 :', id(area)) # id(area) : area변수의 주소값\n",
    "print('area의 타입 :', type(area))"
   ]
  },
  {
   "cell_type": "code",
   "execution_count": 13,
   "id": "afa39a5e",
   "metadata": {},
   "outputs": [
    {
     "name": "stdout",
     "output_type": "stream",
     "text": [
      "area의 주소 : 3043096486096\n",
      "area의 타입 : <class 'str'>\n"
     ]
    }
   ],
   "source": [
    "area = \"파이썬\"\n",
    "print('area의 주소 :', id(area)) # id(area) : area변수의 주소값\n",
    "print('area의 타입 :', type(area))"
   ]
  },
  {
   "cell_type": "markdown",
   "id": "063d34b0",
   "metadata": {},
   "source": [
    "## 1.2 변수이름 규칙\n",
    "- 문자로 시작 (숫자 시작 불가)\n",
    "- 문자, 숫자, _로 변수명 작성\n",
    "- 함수명은 변수 이름으로 가능하나 피한다. 써야한다면 int_식으로 _를 이용\n",
    "- 파이썬 예약어(for, ...)는 변수이름 사용 불가\n",
    "- 한글변수는 꼭 필요시에만 이용"
   ]
  },
  {
   "cell_type": "code",
   "execution_count": 14,
   "id": "6f644358",
   "metadata": {},
   "outputs": [
    {
     "name": "stdout",
     "output_type": "stream",
     "text": [
      "홍길동\n"
     ]
    }
   ],
   "source": [
    "이름 = \"홍길동\"\n",
    "print(이름)"
   ]
  },
  {
   "cell_type": "code",
   "execution_count": 15,
   "id": "9a3827d3",
   "metadata": {},
   "outputs": [
    {
     "data": {
      "text/plain": [
       "'홍길동'"
      ]
     },
     "execution_count": 15,
     "metadata": {},
     "output_type": "execute_result"
    }
   ],
   "source": [
    "이름"
   ]
  },
  {
   "cell_type": "code",
   "execution_count": 16,
   "id": "0462878d",
   "metadata": {},
   "outputs": [
    {
     "ename": "SyntaxError",
     "evalue": "invalid syntax (3039934606.py, line 1)",
     "output_type": "error",
     "traceback": [
      "\u001b[1;36m  Cell \u001b[1;32mIn[16], line 1\u001b[1;36m\u001b[0m\n\u001b[1;33m    for = 5\u001b[0m\n\u001b[1;37m        ^\u001b[0m\n\u001b[1;31mSyntaxError\u001b[0m\u001b[1;31m:\u001b[0m invalid syntax\n"
     ]
    }
   ],
   "source": [
    "for = 5"
   ]
  },
  {
   "cell_type": "code",
   "execution_count": 20,
   "id": "fe563f6a",
   "metadata": {},
   "outputs": [
    {
     "ename": "NameError",
     "evalue": "name 'member' is not defined",
     "output_type": "error",
     "traceback": [
      "\u001b[1;31m---------------------------------------------------------------------------\u001b[0m",
      "\u001b[1;31mNameError\u001b[0m                                 Traceback (most recent call last)",
      "Cell \u001b[1;32mIn[20], line 1\u001b[0m\n\u001b[1;32m----> 1\u001b[0m \u001b[43mmember\u001b[49m\u001b[38;5;241m.\u001b[39mname \u001b[38;5;241m=\u001b[39m \u001b[38;5;124m\"\u001b[39m\u001b[38;5;124m홍길동\u001b[39m\u001b[38;5;124m\"\u001b[39m\n\u001b[0;32m      2\u001b[0m member_name \u001b[38;5;241m=\u001b[39m \u001b[38;5;124m\"\u001b[39m\u001b[38;5;124m홍길동\u001b[39m\u001b[38;5;124m\"\u001b[39m\n\u001b[0;32m      3\u001b[0m memberName \u001b[38;5;241m=\u001b[39m \u001b[38;5;124m\"\u001b[39m\u001b[38;5;124m홍길동\u001b[39m\u001b[38;5;124m\"\u001b[39m\n",
      "\u001b[1;31mNameError\u001b[0m: name 'member' is not defined"
     ]
    }
   ],
   "source": [
    "# member.name = \"홍길동\"\n",
    "member_name = \"홍길동\"\n",
    "memberName = \"홍길동\""
   ]
  },
  {
   "cell_type": "code",
   "execution_count": 21,
   "id": "10377b23",
   "metadata": {},
   "outputs": [
    {
     "name": "stdout",
     "output_type": "stream",
     "text": [
      "10\n"
     ]
    }
   ],
   "source": [
    "Print = 10 # 대문자로 시작한 변수, 함수명의 변수는 강력 비추\n",
    "print(Print)"
   ]
  },
  {
   "cell_type": "code",
   "execution_count": 22,
   "id": "a4187446",
   "metadata": {},
   "outputs": [
    {
     "data": {
      "text/plain": [
       "True"
      ]
     },
     "execution_count": 22,
     "metadata": {},
     "output_type": "execute_result"
    }
   ],
   "source": [
    "# 파이썬에서의 숫자 : 정수, 실수, 복소수\n",
    "i = 3+ 3j # 복소수\n",
    "type(i)\n"
   ]
  },
  {
   "cell_type": "code",
   "execution_count": 23,
   "id": "a6843e1a",
   "metadata": {},
   "outputs": [
    {
     "data": {
      "text/plain": [
       "True"
      ]
     },
     "execution_count": 23,
     "metadata": {},
     "output_type": "execute_result"
    }
   ],
   "source": [
    "isinstance(i, complex) # i변수(객체)가 complex인지 여부"
   ]
  },
  {
   "cell_type": "markdown",
   "id": "deb7d9f2",
   "metadata": {},
   "source": [
    "## 1.3 도움말"
   ]
  },
  {
   "cell_type": "code",
   "execution_count": 24,
   "id": "d6078189",
   "metadata": {},
   "outputs": [
    {
     "name": "stdout",
     "output_type": "stream",
     "text": [
      "Help on built-in function print in module builtins:\n",
      "\n",
      "print(...)\n",
      "    print(value, ..., sep=' ', end='\\n', file=sys.stdout, flush=False)\n",
      "    \n",
      "    Prints the values to a stream, or to sys.stdout by default.\n",
      "    Optional keyword arguments:\n",
      "    file:  a file-like object (stream); defaults to the current sys.stdout.\n",
      "    sep:   string inserted between values, default a space.\n",
      "    end:   string appended after the last value, default a newline.\n",
      "    flush: whether to forcibly flush the stream.\n",
      "\n"
     ]
    }
   ],
   "source": [
    "help(print)"
   ]
  },
  {
   "cell_type": "code",
   "execution_count": 55,
   "id": "a4f3b3f0",
   "metadata": {
    "collapsed": true
   },
   "outputs": [
    {
     "name": "stdout",
     "output_type": "stream",
     "text": [
      "Help on built-in module sys:\n",
      "\n",
      "NAME\n",
      "    sys\n",
      "\n",
      "MODULE REFERENCE\n",
      "    https://docs.python.org/3.10/library/sys.html\n",
      "    \n",
      "    The following documentation is automatically generated from the Python\n",
      "    source files.  It may be incomplete, incorrect or include features that\n",
      "    are considered implementation detail and may vary between Python\n",
      "    implementations.  When in doubt, consult the module reference at the\n",
      "    location listed above.\n",
      "\n",
      "DESCRIPTION\n",
      "    This module provides access to some objects used or maintained by the\n",
      "    interpreter and to functions that interact strongly with the interpreter.\n",
      "    \n",
      "    Dynamic objects:\n",
      "    \n",
      "    argv -- command line arguments; argv[0] is the script pathname if known\n",
      "    path -- module search path; path[0] is the script directory, else ''\n",
      "    modules -- dictionary of loaded modules\n",
      "    \n",
      "    displayhook -- called to show results in an interactive session\n",
      "    excepthook -- called to handle any uncaught exception other than SystemExit\n",
      "      To customize printing in an interactive session or to install a custom\n",
      "      top-level exception handler, assign other functions to replace these.\n",
      "    \n",
      "    stdin -- standard input file object; used by input()\n",
      "    stdout -- standard output file object; used by print()\n",
      "    stderr -- standard error object; used for error messages\n",
      "      By assigning other file objects (or objects that behave like files)\n",
      "      to these, it is possible to redirect all of the interpreter's I/O.\n",
      "    \n",
      "    last_type -- type of last uncaught exception\n",
      "    last_value -- value of last uncaught exception\n",
      "    last_traceback -- traceback of last uncaught exception\n",
      "      These three are only available in an interactive session after a\n",
      "      traceback has been printed.\n",
      "    \n",
      "    Static objects:\n",
      "    \n",
      "    builtin_module_names -- tuple of module names built into this interpreter\n",
      "    copyright -- copyright notice pertaining to this interpreter\n",
      "    exec_prefix -- prefix used to find the machine-specific Python library\n",
      "    executable -- absolute path of the executable binary of the Python interpreter\n",
      "    float_info -- a named tuple with information about the float implementation.\n",
      "    float_repr_style -- string indicating the style of repr() output for floats\n",
      "    hash_info -- a named tuple with information about the hash algorithm.\n",
      "    hexversion -- version information encoded as a single integer\n",
      "    implementation -- Python implementation information.\n",
      "    int_info -- a named tuple with information about the int implementation.\n",
      "    maxsize -- the largest supported length of containers.\n",
      "    maxunicode -- the value of the largest Unicode code point\n",
      "    platform -- platform identifier\n",
      "    prefix -- prefix used to find the Python library\n",
      "    thread_info -- a named tuple with information about the thread implementation.\n",
      "    version -- the version of this interpreter as a string\n",
      "    version_info -- version information as a named tuple\n",
      "    dllhandle -- [Windows only] integer handle of the Python DLL\n",
      "    winver -- [Windows only] version number of the Python DLL\n",
      "    _enablelegacywindowsfsencoding -- [Windows only]\n",
      "    __stdin__ -- the original stdin; don't touch!\n",
      "    __stdout__ -- the original stdout; don't touch!\n",
      "    __stderr__ -- the original stderr; don't touch!\n",
      "    __displayhook__ -- the original displayhook; don't touch!\n",
      "    __excepthook__ -- the original excepthook; don't touch!\n",
      "    \n",
      "    Functions:\n",
      "    \n",
      "    displayhook() -- print an object to the screen, and save it in builtins._\n",
      "    excepthook() -- print an exception and its traceback to sys.stderr\n",
      "    exc_info() -- return thread-safe information about the current exception\n",
      "    exit() -- exit the interpreter by raising SystemExit\n",
      "    getdlopenflags() -- returns flags to be used for dlopen() calls\n",
      "    getprofile() -- get the global profiling function\n",
      "    getrefcount() -- return the reference count for an object (plus one :-)\n",
      "    getrecursionlimit() -- return the max recursion depth for the interpreter\n",
      "    getsizeof() -- return the size of an object in bytes\n",
      "    gettrace() -- get the global debug tracing function\n",
      "    setdlopenflags() -- set the flags to be used for dlopen() calls\n",
      "    setprofile() -- set the global profiling function\n",
      "    setrecursionlimit() -- set the max recursion depth for the interpreter\n",
      "    settrace() -- set the global debug tracing function\n",
      "\n",
      "FUNCTIONS\n",
      "    __breakpointhook__ = breakpointhook(...)\n",
      "        breakpointhook(*args, **kws)\n",
      "        \n",
      "        This hook function is called by built-in breakpoint().\n",
      "    \n",
      "    __displayhook__ = displayhook(object, /)\n",
      "        Print an object to sys.stdout and also save it in builtins._\n",
      "    \n",
      "    __excepthook__ = excepthook(exctype, value, traceback, /)\n",
      "        Handle an exception by displaying it with a traceback on sys.stderr.\n",
      "    \n",
      "    __unraisablehook__ = unraisablehook(unraisable, /)\n",
      "        Handle an unraisable exception.\n",
      "        \n",
      "        The unraisable argument has the following attributes:\n",
      "        \n",
      "        * exc_type: Exception type.\n",
      "        * exc_value: Exception value, can be None.\n",
      "        * exc_traceback: Exception traceback, can be None.\n",
      "        * err_msg: Error message, can be None.\n",
      "        * object: Object causing the exception, can be None.\n",
      "    \n",
      "    addaudithook(hook)\n",
      "        Adds a new audit hook callback.\n",
      "    \n",
      "    audit(...)\n",
      "        audit(event, *args)\n",
      "        \n",
      "        Passes the event to any audit hooks that are attached.\n",
      "    \n",
      "    call_tracing(func, args, /)\n",
      "        Call func(*args), while tracing is enabled.\n",
      "        \n",
      "        The tracing state is saved, and restored afterwards.  This is intended\n",
      "        to be called from a debugger from a checkpoint, to recursively debug\n",
      "        some other code.\n",
      "    \n",
      "    exc_info()\n",
      "        Return current exception information: (type, value, traceback).\n",
      "        \n",
      "        Return information about the most recent exception caught by an except\n",
      "        clause in the current stack frame or in an older stack frame.\n",
      "    \n",
      "    exit(status=None, /)\n",
      "        Exit the interpreter by raising SystemExit(status).\n",
      "        \n",
      "        If the status is omitted or None, it defaults to zero (i.e., success).\n",
      "        If the status is an integer, it will be used as the system exit status.\n",
      "        If it is another kind of object, it will be printed and the system\n",
      "        exit status will be one (i.e., failure).\n",
      "    \n",
      "    get_asyncgen_hooks()\n",
      "        Return the installed asynchronous generators hooks.\n",
      "        \n",
      "        This returns a namedtuple of the form (firstiter, finalizer).\n",
      "    \n",
      "    get_coroutine_origin_tracking_depth()\n",
      "        Check status of origin tracking for coroutine objects in this thread.\n",
      "    \n",
      "    get_int_max_str_digits()\n",
      "        Set the maximum string digits limit for non-binary int<->str conversions.\n",
      "    \n",
      "    getallocatedblocks()\n",
      "        Return the number of memory blocks currently allocated.\n",
      "    \n",
      "    getdefaultencoding()\n",
      "        Return the current default encoding used by the Unicode implementation.\n",
      "    \n",
      "    getfilesystemencodeerrors()\n",
      "        Return the error mode used Unicode to OS filename conversion.\n",
      "    \n",
      "    getfilesystemencoding()\n",
      "        Return the encoding used to convert Unicode filenames to OS filenames.\n",
      "    \n",
      "    getprofile()\n",
      "        Return the profiling function set with sys.setprofile.\n",
      "        \n",
      "        See the profiler chapter in the library manual.\n",
      "    \n",
      "    getrecursionlimit()\n",
      "        Return the current value of the recursion limit.\n",
      "        \n",
      "        The recursion limit is the maximum depth of the Python interpreter\n",
      "        stack.  This limit prevents infinite recursion from causing an overflow\n",
      "        of the C stack and crashing Python.\n",
      "    \n",
      "    getrefcount(object, /)\n",
      "        Return the reference count of object.\n",
      "        \n",
      "        The count returned is generally one higher than you might expect,\n",
      "        because it includes the (temporary) reference as an argument to\n",
      "        getrefcount().\n",
      "    \n",
      "    getsizeof(...)\n",
      "        getsizeof(object [, default]) -> int\n",
      "        \n",
      "        Return the size of object in bytes.\n",
      "    \n",
      "    getswitchinterval()\n",
      "        Return the current thread switch interval; see sys.setswitchinterval().\n",
      "    \n",
      "    gettrace()\n",
      "        Return the global debug tracing function set with sys.settrace.\n",
      "        \n",
      "        See the debugger chapter in the library manual.\n",
      "    \n",
      "    getwindowsversion()\n",
      "        Return info about the running version of Windows as a named tuple.\n",
      "        \n",
      "        The members are named: major, minor, build, platform, service_pack,\n",
      "        service_pack_major, service_pack_minor, suite_mask, product_type and\n",
      "        platform_version. For backward compatibility, only the first 5 items\n",
      "        are available by indexing. All elements are numbers, except\n",
      "        service_pack and platform_type which are strings, and platform_version\n",
      "        which is a 3-tuple. Platform is always 2. Product_type may be 1 for a\n",
      "        workstation, 2 for a domain controller, 3 for a server.\n",
      "        Platform_version is a 3-tuple containing a version number that is\n",
      "        intended for identifying the OS rather than feature detection.\n",
      "    \n",
      "    intern(string, /)\n",
      "        ``Intern'' the given string.\n",
      "        \n",
      "        This enters the string in the (global) table of interned strings whose\n",
      "        purpose is to speed up dictionary lookups. Return the string itself or\n",
      "        the previously interned string object with the same value.\n",
      "    \n",
      "    is_finalizing()\n",
      "        Return True if Python is exiting.\n",
      "    \n",
      "    set_asyncgen_hooks(...)\n",
      "        set_asyncgen_hooks(* [, firstiter] [, finalizer])\n",
      "        \n",
      "        Set a finalizer for async generators objects.\n",
      "    \n",
      "    set_coroutine_origin_tracking_depth(depth)\n",
      "        Enable or disable origin tracking for coroutine objects in this thread.\n",
      "        \n",
      "        Coroutine objects will track 'depth' frames of traceback information\n",
      "        about where they came from, available in their cr_origin attribute.\n",
      "        \n",
      "        Set a depth of 0 to disable.\n",
      "    \n",
      "    set_int_max_str_digits(maxdigits)\n",
      "        Set the maximum string digits limit for non-binary int<->str conversions.\n",
      "    \n",
      "    setprofile(...)\n",
      "        setprofile(function)\n",
      "        \n",
      "        Set the profiling function.  It will be called on each function call\n",
      "        and return.  See the profiler chapter in the library manual.\n",
      "    \n",
      "    setrecursionlimit(limit, /)\n",
      "        Set the maximum depth of the Python interpreter stack to n.\n",
      "        \n",
      "        This limit prevents infinite recursion from causing an overflow of the C\n",
      "        stack and crashing Python.  The highest possible limit is platform-\n",
      "        dependent.\n",
      "    \n",
      "    setswitchinterval(interval, /)\n",
      "        Set the ideal thread switching delay inside the Python interpreter.\n",
      "        \n",
      "        The actual frequency of switching threads can be lower if the\n",
      "        interpreter executes long sequences of uninterruptible code\n",
      "        (this is implementation-specific and workload-dependent).\n",
      "        \n",
      "        The parameter must represent the desired switching delay in seconds\n",
      "        A typical value is 0.005 (5 milliseconds).\n",
      "    \n",
      "    settrace(...)\n",
      "        settrace(function)\n",
      "        \n",
      "        Set the global debug tracing function.  It will be called on each\n",
      "        function call.  See the debugger chapter in the library manual.\n",
      "    \n",
      "    unraisablehook(unraisable, /)\n",
      "        Handle an unraisable exception.\n",
      "        \n",
      "        The unraisable argument has the following attributes:\n",
      "        \n",
      "        * exc_type: Exception type.\n",
      "        * exc_value: Exception value, can be None.\n",
      "        * exc_traceback: Exception traceback, can be None.\n",
      "        * err_msg: Error message, can be None.\n",
      "        * object: Object causing the exception, can be None.\n",
      "\n",
      "DATA\n",
      "    __stderr__ = <_io.TextIOWrapper name='<stderr>' mode='w' encoding='utf...\n",
      "    __stdin__ = <_io.TextIOWrapper name='<stdin>' mode='r' encoding='cp949...\n",
      "    __stdout__ = <_io.TextIOWrapper name='<stdout>' mode='w' encoding='utf...\n",
      "    api_version = 1013\n",
      "    argv = [r'C:\\Users\\Admin\\anaconda3\\lib\\site-packages\\ipykernel_launche...\n",
      "    base_exec_prefix = r'C:\\Users\\Admin\\anaconda3'\n",
      "    base_prefix = r'C:\\Users\\Admin\\anaconda3'\n",
      "    builtin_module_names = ('_abc', '_ast', '_bisect', '_blake2', '_codecs...\n",
      "    byteorder = 'little'\n",
      "    copyright = 'Copyright (c) 2001-2022 Python Software Foundati...ematis...\n",
      "    displayhook = <ipykernel.displayhook.ZMQShellDisplayHook object>\n",
      "    dllhandle = 140712814837760\n",
      "    dont_write_bytecode = False\n",
      "    exec_prefix = r'C:\\Users\\Admin\\anaconda3'\n",
      "    executable = r'C:\\Users\\Admin\\anaconda3\\python.exe'\n",
      "    flags = sys.flags(debug=0, inspect=0, interactive=0, opt..., warn_defa...\n",
      "    float_info = sys.float_info(max=1.7976931348623157e+308, max_...epsilo...\n",
      "    float_repr_style = 'short'\n",
      "    hash_info = sys.hash_info(width=64, modulus=2305843009213693...iphash2...\n",
      "    hexversion = 50989552\n",
      "    implementation = namespace(name='cpython', cache_tag='cpython-310...as...\n",
      "    int_info = sys.int_info(bits_per_digit=30, sizeof_digit=4, ..._str_dig...\n",
      "    last_value = NameError(\"name 'sys' is not defined\")\n",
      "    maxsize = 9223372036854775807\n",
      "    maxunicode = 1114111\n",
      "    meta_path = [<_distutils_hack.DistutilsMetaFinder object>, <class '_fr...\n",
      "    modules = {'IPython': <module 'IPython' from 'C:\\\\Users\\\\Admin\\\\anacon...\n",
      "    orig_argv = [r'C:/Users/Admin/anaconda3\\python.exe', '-m', 'ipykernel_...\n",
      "    path = [r'C:\\ai_x\\source\\01_python', r'C:\\Users\\Admin\\anaconda3\\python...\n",
      "    path_hooks = [<class 'zipimport.zipimporter'>, <function FileFinder.pa...\n",
      "    path_importer_cache = {r'C:\\Users\\Admin\\anaconda3': FileFinder('C:\\\\Us...\n",
      "    platform = 'win32'\n",
      "    platlibdir = 'lib'\n",
      "    prefix = r'C:\\Users\\Admin\\anaconda3'\n",
      "    ps1 = 'In : '\n",
      "    ps2 = '...: '\n",
      "    ps3 = 'Out: '\n",
      "    pycache_prefix = None\n",
      "    stderr = <ipykernel.iostream.OutStream object>\n",
      "    stdin = <_io.TextIOWrapper name='<stdin>' mode='r' encoding='cp949'>\n",
      "    stdlib_module_names = frozenset({'__future__', '_abc', '_aix_support',...\n",
      "    stdout = <ipykernel.iostream.OutStream object>\n",
      "    thread_info = sys.thread_info(name='nt', lock=None, version=None)\n",
      "    version = '3.10.9 | packaged by Anaconda, Inc. | (main, Mar  1 2023, 1...\n",
      "    version_info = sys.version_info(major=3, minor=10, micro=9, releaselev...\n",
      "    warnoptions = []\n",
      "    winver = '3.10'\n",
      "\n",
      "FILE\n",
      "    (built-in)\n",
      "\n",
      "\n"
     ]
    }
   ],
   "source": [
    "help('sys') # help를 빠져나오려면 q / ESC+o : 결과 접기/평기"
   ]
  },
  {
   "cell_type": "code",
   "execution_count": 26,
   "id": "f22746b7",
   "metadata": {
    "collapsed": true
   },
   "outputs": [
    {
     "name": "stdout",
     "output_type": "stream",
     "text": [
      "\n"
     ]
    }
   ],
   "source": [
    "# 도움말 기능 : shift+tab키 tab키\n",
    "print()"
   ]
  },
  {
   "cell_type": "code",
   "execution_count": 32,
   "id": "1bf792bb",
   "metadata": {},
   "outputs": [],
   "source": [
    "def add(x, y=0):\n",
    "    '''\n",
    "    매개변수 2개를 받아 두자리 숫자를 만들어요\n",
    "    x = 10의 자리수가 됨\n",
    "    y = 1의 자리수가 됨\n",
    "    '''\n",
    "    return x * 10 + y"
   ]
  },
  {
   "cell_type": "code",
   "execution_count": 31,
   "id": "301a3f4b",
   "metadata": {},
   "outputs": [
    {
     "data": {
      "text/plain": [
       "31"
      ]
     },
     "execution_count": 31,
     "metadata": {},
     "output_type": "execute_result"
    }
   ],
   "source": [
    "add(3, 1)"
   ]
  },
  {
   "cell_type": "code",
   "execution_count": 34,
   "id": "d16ea308",
   "metadata": {},
   "outputs": [
    {
     "data": {
      "text/plain": [
       "30"
      ]
     },
     "execution_count": 34,
     "metadata": {},
     "output_type": "execute_result"
    }
   ],
   "source": [
    "add(3)"
   ]
  },
  {
   "cell_type": "code",
   "execution_count": 35,
   "id": "11ce64d9",
   "metadata": {},
   "outputs": [
    {
     "data": {
      "text/plain": [
       "23.141592653589793"
      ]
     },
     "execution_count": 35,
     "metadata": {},
     "output_type": "execute_result"
    }
   ],
   "source": [
    "a = add\n",
    "a(2, np.pi)"
   ]
  },
  {
   "cell_type": "markdown",
   "id": "f3a29d84",
   "metadata": {},
   "source": [
    "## 1.4 다중 변수 할당"
   ]
  },
  {
   "cell_type": "code",
   "execution_count": 39,
   "id": "f1c726cb",
   "metadata": {},
   "outputs": [
    {
     "name": "stdout",
     "output_type": "stream",
     "text": [
      "10 20\n"
     ]
    }
   ],
   "source": [
    "a = 10\n",
    "b = 20\n",
    "print(a, b)"
   ]
  },
  {
   "cell_type": "code",
   "execution_count": 40,
   "id": "494ed0c9",
   "metadata": {},
   "outputs": [
    {
     "name": "stdout",
     "output_type": "stream",
     "text": [
      "20 30\n"
     ]
    }
   ],
   "source": [
    "# 다중변수 할당시 순차적 할당이 아니고, 일괄 동시 할당\n",
    "a, b = b, a+b\n",
    "print(a, b)"
   ]
  },
  {
   "cell_type": "markdown",
   "id": "277cf10f",
   "metadata": {},
   "source": [
    "# 2절. 화면입출력(i/o)"
   ]
  },
  {
   "cell_type": "code",
   "execution_count": 42,
   "id": "c9be6b38",
   "metadata": {},
   "outputs": [
    {
     "name": "stdout",
     "output_type": "stream",
     "text": [
      "첫번째 숫자는?5\n"
     ]
    },
    {
     "data": {
      "text/plain": [
       "'5'"
      ]
     },
     "execution_count": 42,
     "metadata": {},
     "output_type": "execute_result"
    }
   ],
   "source": [
    "# input() : 사용자로부터 값을 입력받기 위한 함수, 문자열로 입력\n",
    "first = input(\"첫번째 숫자는?\")\n",
    "first"
   ]
  },
  {
   "cell_type": "code",
   "execution_count": 43,
   "id": "6ab8c523",
   "metadata": {},
   "outputs": [
    {
     "name": "stdout",
     "output_type": "stream",
     "text": [
      "두번째 숫자는?2\n"
     ]
    }
   ],
   "source": [
    "second = input('두번째 숫자는?')"
   ]
  },
  {
   "cell_type": "code",
   "execution_count": 45,
   "id": "1975ceb6",
   "metadata": {},
   "outputs": [
    {
     "name": "stdout",
     "output_type": "stream",
     "text": [
      "합: 7\n"
     ]
    }
   ],
   "source": [
    "sum = int(first) + int(second)\n",
    "print('합:', sum)"
   ]
  },
  {
   "cell_type": "code",
   "execution_count": 46,
   "id": "94b49dc6",
   "metadata": {},
   "outputs": [
    {
     "name": "stdout",
     "output_type": "stream",
     "text": [
      "첫번째 숫자는?11\n",
      "두번째 숫자는?22\n",
      "합: 33\n"
     ]
    }
   ],
   "source": [
    "first = int(input(\"첫번째 숫자는?\"))\n",
    "second = int(input('두번째 숫자는?'))\n",
    "sum = int(first) + int(second)\n",
    "print('합:', sum)"
   ]
  },
  {
   "cell_type": "code",
   "execution_count": 52,
   "id": "5aa47be8",
   "metadata": {},
   "outputs": [
    {
     "name": "stdout",
     "output_type": "stream",
     "text": [
      "합 = 33 합하면~ 33 / 합은 33, "
     ]
    }
   ],
   "source": [
    "print('합', sum, sep = ' = ', end = ' ')\n",
    "print('합', sum, sep = '하면~ ', end = ' / ')\n",
    "print('합', sum, sep = '은 ', end = ', ')"
   ]
  },
  {
   "cell_type": "code",
   "execution_count": 53,
   "id": "845ff783",
   "metadata": {},
   "outputs": [
    {
     "name": "stdout",
     "output_type": "stream",
     "text": [
      "hello,world\n"
     ]
    }
   ],
   "source": [
    "import sys\n",
    "print('hello', 'world', sep = ',', file = sys.stdout)"
   ]
  },
  {
   "cell_type": "markdown",
   "id": "6b30261f",
   "metadata": {},
   "source": [
    "# 3절. 기본 자료형\n",
    "- 자료형에 따라 값의 크기와 저장방식이 달라짐\n",
    "    - 숫자 : int, float, complex\n",
    "    - 문자 : str\n",
    "    - 논리 : bool(True/False)\n",
    "\n",
    "## 3.1 숫자형"
   ]
  },
  {
   "cell_type": "code",
   "execution_count": 56,
   "id": "a687573c",
   "metadata": {},
   "outputs": [
    {
     "data": {
      "text/plain": [
       "9223372036854775807"
      ]
     },
     "execution_count": 56,
     "metadata": {},
     "output_type": "execute_result"
    }
   ],
   "source": [
    "import sys\n",
    "sys.maxsize # 정수의 최대값 2의 63승 - 1 (2**63 - 1)"
   ]
  },
  {
   "cell_type": "code",
   "execution_count": 57,
   "id": "aa5220a7",
   "metadata": {},
   "outputs": [
    {
     "data": {
      "text/plain": [
       "9223372036854776807"
      ]
     },
     "execution_count": 57,
     "metadata": {},
     "output_type": "execute_result"
    }
   ],
   "source": [
    "i = sys.maxsize + 1000\n",
    "print(i)\n",
    "print(type(i))"
   ]
  },
  {
   "cell_type": "code",
   "execution_count": 59,
   "id": "4e8ceb74",
   "metadata": {},
   "outputs": [
    {
     "data": {
      "text/plain": [
       "2.0"
      ]
     },
     "execution_count": 59,
     "metadata": {},
     "output_type": "execute_result"
    }
   ],
   "source": [
    "f = 4 / 2 # 정수 / 정수 (나누기)는 무조건 실수\n",
    "f"
   ]
  },
  {
   "cell_type": "code",
   "execution_count": 61,
   "id": "654abbe6",
   "metadata": {},
   "outputs": [
    {
     "name": "stdout",
     "output_type": "stream",
     "text": [
      "2\n",
      "2\n"
     ]
    }
   ],
   "source": [
    "# 자바처럼 정수/정수의 결과를 정수로\n",
    "f = 4//2 # 몫 연산자\n",
    "print(f)\n",
    "f = int(4/2)\n",
    "print(f)"
   ]
  },
  {
   "cell_type": "code",
   "execution_count": 62,
   "id": "9e686c9b",
   "metadata": {},
   "outputs": [
    {
     "name": "stdout",
     "output_type": "stream",
     "text": [
      "(-1+0j)\n"
     ]
    }
   ],
   "source": [
    "c = 1j # 수학의 0+1i\n",
    "print(c**2) # ** 승 연산자"
   ]
  },
  {
   "cell_type": "code",
   "execution_count": 176,
   "id": "8c6c5194",
   "metadata": {},
   "outputs": [
    {
     "name": "stdout",
     "output_type": "stream",
     "text": [
      "지수형 표현할당시 실수형으로 저장: 1120000000000.0\n",
      "지수형 표현할당시 실수형으로 저장: 1.12e-12\n"
     ]
    }
   ],
   "source": [
    "f = 1.12e12 # 1.12의 10의 자리 12개를 의미, 즉 1120000000000.0\n",
    "print('지수형 표현할당시 실수형으로 저장:', f)\n",
    "f = 1.12e-12 # 0.00000000000112\n",
    "print('지수형 표현할당시 실수형으로 저장:', f)"
   ]
  },
  {
   "cell_type": "markdown",
   "id": "47a4f664",
   "metadata": {},
   "source": [
    "## 3.2 문자형\n",
    "쌍따옴표(\" \")나 홑따옴표(' ') 이용"
   ]
  },
  {
   "cell_type": "code",
   "execution_count": 71,
   "id": "16f90563",
   "metadata": {},
   "outputs": [
    {
     "name": "stdout",
     "output_type": "stream",
     "text": [
      "홍길동 \"짱\" 서울시 관악구 '신림동'\n",
      "홍길동 \"짱\" 서울시 관악구 '신림동'\n"
     ]
    }
   ],
   "source": [
    "name = \"홍길동 \\\"짱\\\"\"   # 홍길동\"짱\"\n",
    "address = '서울시 관악구 \\'신림동\\'' # 서울시 관악구 '신길동'\n",
    "print(name, address)\n",
    "name = '홍길동 \"짱\"'\n",
    "address = \"서울시 관악구 '신림동'\"\n",
    "print(name, address)"
   ]
  },
  {
   "cell_type": "code",
   "execution_count": 72,
   "id": "a048efaf",
   "metadata": {},
   "outputs": [
    {
     "name": "stdout",
     "output_type": "stream",
     "text": [
      "여러줄 짜리 내용\n",
      "줄바꿈 문자를 쓰지 않고 따옴표 3개로 처리\n",
      "이처럼 쓰는 경우가 많아요\n"
     ]
    }
   ],
   "source": [
    "# 문자형 변수 여러줄\n",
    "text = '''여러줄 짜리 내용\n",
    "줄바꿈 문자를 쓰지 않고 따옴표 3개로 처리\n",
    "이처럼 쓰는 경우가 많아요'''\n",
    "print(text)"
   ]
  },
  {
   "cell_type": "markdown",
   "id": "5c86dcf4",
   "metadata": {},
   "source": [
    "### ※ 문자열 연산"
   ]
  },
  {
   "cell_type": "code",
   "execution_count": 75,
   "id": "a5697b2c",
   "metadata": {},
   "outputs": [
    {
     "name": "stdout",
     "output_type": "stream",
     "text": [
      "홍길동 동해 번쩍 서해 번쩍 \n"
     ]
    }
   ],
   "source": [
    "'''\n",
    "   여러줄 주석 용도\n",
    "   2025.04.08 문자열 연산 소스 by 박광수\n",
    "'''\n",
    "name1 = \"홍길동 \"\n",
    "name2 = \"동해 번쩍 서해 번쩍 \"\n",
    "print(name1+name2)"
   ]
  },
  {
   "cell_type": "code",
   "execution_count": 76,
   "id": "ea9a4f2c",
   "metadata": {},
   "outputs": [
    {
     "name": "stdout",
     "output_type": "stream",
     "text": [
      "홍길동 홍길동 홍길동 \n"
     ]
    }
   ],
   "source": [
    "print(name1 * 3) # 문자열을 곱하면 반복"
   ]
  },
  {
   "cell_type": "markdown",
   "id": "202f6b56",
   "metadata": {},
   "source": [
    "### ※ raw 데이터\n",
    "- 용도 : 정규표현식 이용, 디렉토리 경로 표현시 이용"
   ]
  },
  {
   "cell_type": "code",
   "execution_count": 78,
   "id": "1a6fadf8",
   "metadata": {},
   "outputs": [
    {
     "name": "stdout",
     "output_type": "stream",
     "text": [
      "Hello\\nWorld\n",
      "Hello\\nWorld\n",
      "Hello\r",
      "World\n"
     ]
    }
   ],
   "source": [
    "print(r'Hello\\nWorld')\n",
    "print('Hello\\\\nWorld')\n",
    "print('Hello\\rWorld')"
   ]
  },
  {
   "cell_type": "markdown",
   "id": "fd6be921",
   "metadata": {},
   "source": [
    "```\n",
    "    정규표현식\n",
    "        (마크업\n",
    "        1. 참조 : 위키백과\n",
    "        2. 간략한 문법 :\n",
    "           \\d (숫자와 매치, [0-9]와 동일\n",
    "           \\D (숫자가 아닌것)\n",
    "           \\w (영문자나 숫자, [a-zA-Z0-9]\n",
    "           \\W (영문자난 숫자가 아닌 문자)\n",
    "           .  (문자)\n",
    "           \\. (.의미)\n",
    "           \\- (-의미)\n",
    "           {2, 4} (2~4번 반복)\n",
    "           {4}    (4번 반복)\n",
    "           {2,}   (2번 이상 반복)\n",
    "           +      (1번 이상 반복)\n",
    "           *      (0번 이상 반복)\n",
    "           ?      (0번이나 1번 반복)\n",
    "           3. 정규표현식 연습장(https://regexr.com/)\n",
    "               ex1. 전화번호 : 010-9999-9999 02-7777-8888 01099997777 0277778888\n",
    "                              02)714-5656 010 1234 1234 010.1234.1234\n",
    "                              tel_pattern = r'\\d{2,3}[\\-) .]?\\d{3,4}[\\- .]?\\d{4}'\n",
    "               ex2. 이메일 : abc12@naver.com / abc123@0to7.co.kr abc@한국.com\n",
    "                              email_pattern = r'\\w{3,}@[a-zA-Z0-9가-힣]+\\.[a-zA-Z]+(\\.[a-zA-Z])?'\n",
    "                              email_pattern = r'\\w{3,}@[a-zA-Z0-9가-힣]+(\\.[a-zA-Z]+){1,2}'\n",
    "           4. 소스 구현\n",
    "```"
   ]
  },
  {
   "cell_type": "code",
   "execution_count": 87,
   "id": "6b9b6d6d",
   "metadata": {},
   "outputs": [
    {
     "name": "stdout",
     "output_type": "stream",
     "text": [
      "홍길동인데 전번이 041-888-8888, @@@@@@@@@010 9999 9999 동해번쩍 서해번쩍 ㅋㅋ ㅠㅠ 오늘 날씨는 엄청 좋아요\n"
     ]
    }
   ],
   "source": [
    "import re\n",
    "data = \"홍길동인데 전번이 041-888-8888, @@@@@@@@@\\\n",
    "010 9999 9999 동해번쩍 서해번쩍 ㅋㅋ ㅠㅠ \\\n",
    "오늘 날씨는 엄청 좋아요\"\n",
    "print(data)"
   ]
  },
  {
   "cell_type": "code",
   "execution_count": 88,
   "id": "44682ee1",
   "metadata": {},
   "outputs": [],
   "source": [
    "tel_pattern = r'\\d{2,3}[\\-) .]?\\d{3,4}[\\- .]?\\d{4}'\n",
    "email_pattern = r'\\w{3,}@[a-zA-Z0-9가-힣]+\\.[a-zA-Z]+(\\.[a-zA-Z])?'\n",
    "email_pattern = r'\\w{3,}@[a-zA-Z0-9가-힣]+(\\.[a-zA-Z]+){1,2}'"
   ]
  },
  {
   "cell_type": "code",
   "execution_count": 82,
   "id": "73975bc5",
   "metadata": {},
   "outputs": [
    {
     "data": {
      "text/plain": [
       "['041-888-8888', '010 9999 9999']"
      ]
     },
     "execution_count": 82,
     "metadata": {},
     "output_type": "execute_result"
    }
   ],
   "source": [
    "# 해당 패턴을 다 찾아줌. 없으면 []반환\n",
    "tels = re.findall(tel_pattern, data)\n",
    "tels"
   ]
  },
  {
   "cell_type": "code",
   "execution_count": 89,
   "id": "b261b9ff",
   "metadata": {},
   "outputs": [
    {
     "data": {
      "text/plain": [
       "<re.Match object; span=(10, 22), match='041-888-8888'>"
      ]
     },
     "execution_count": 89,
     "metadata": {},
     "output_type": "execute_result"
    }
   ],
   "source": [
    "# search() : 정규표현식 패턴과 일치하는 처음단어만 찾음\n",
    "pattern = \"(\\d{2,3})-(\\d{3,4})-(\\d{4})\"\n",
    "firstTel = re.findall(pattern, data)\n",
    "firstTel = re.search(pattern, data)\n",
    "firstTel"
   ]
  },
  {
   "cell_type": "code",
   "execution_count": 85,
   "id": "b34c104a",
   "metadata": {},
   "outputs": [
    {
     "data": {
      "text/plain": [
       "'041-888-8888'"
      ]
     },
     "execution_count": 85,
     "metadata": {},
     "output_type": "execute_result"
    }
   ],
   "source": [
    "data[10:22] # 문자 슬라이싱"
   ]
  },
  {
   "cell_type": "code",
   "execution_count": 86,
   "id": "02fcd966",
   "metadata": {},
   "outputs": [
    {
     "name": "stdout",
     "output_type": "stream",
     "text": [
      "전화번호 전체 :  041-888-8888\n",
      "국번 : 041\n",
      "중간번호 : 888\n",
      "끝번호 : 8888\n"
     ]
    }
   ],
   "source": [
    "print('전화번호 전체 : ', firstTel.group(0))\n",
    "print('국번 :', firstTel.group(1))\n",
    "print('중간번호 :', firstTel.group(2))\n",
    "print('끝번호 :', firstTel.group(3))"
   ]
  },
  {
   "cell_type": "code",
   "execution_count": 92,
   "id": "e72cce9f",
   "metadata": {},
   "outputs": [
    {
     "data": {
      "text/plain": [
       "'홍길동인데 전번이 0418888888 010 9999 9999 동해번쩍 서해번쩍   오늘 날씨는 엄청 좋아요'"
      ]
     },
     "execution_count": 92,
     "metadata": {},
     "output_type": "execute_result"
    }
   ],
   "source": [
    "re.sub(r'[^가-힣0-9\\s]', '', data) # 특수문자, 자음, 모음 없애기"
   ]
  },
  {
   "cell_type": "code",
   "execution_count": 93,
   "id": "aff7c8d6",
   "metadata": {},
   "outputs": [],
   "source": [
    "# 파일 경로에는 반드시 rdmf tkdydgkrjsk \\\\, /중 하나를 사용\n",
    "file_path = r\"C:\\ai_x\\source\\01_python\\text.py\"\n",
    "file_path = \"C:\\\\ai_x\\\\source\\\\01_python\\\\text.py\"\n",
    "file_path = \"C:/ai_x/source/01_python/text.py\""
   ]
  },
  {
   "cell_type": "code",
   "execution_count": 95,
   "id": "77bb0e02",
   "metadata": {},
   "outputs": [
    {
     "name": "stdout",
     "output_type": "stream",
     "text": [
      "Hello ~ Wrold\n"
     ]
    }
   ],
   "source": [
    "file_stream = open(file_path, 'w')\n",
    "print(\"Hello\", \"Wrold\", sep = \" ~ \") # 콘솔 출력\n",
    "print(\"Hello\", \"Wrold\", sep = \" ~ \", file = file_stream) # 파일 출력\n",
    "file_stream.close() # close를 하지 않으면 파일저장 안 됨"
   ]
  },
  {
   "cell_type": "markdown",
   "id": "a283ce4a",
   "metadata": {},
   "source": [
    "### ※ 문자열 슬라이싱\n",
    "    변수 = 값 혹은\n",
    "    변수 = 값들 ex. ['ㅁ', 'ㅍ']"
   ]
  },
  {
   "cell_type": "code",
   "execution_count": 96,
   "id": "e188d168",
   "metadata": {},
   "outputs": [
    {
     "data": {
      "text/plain": [
       "'0123456789'"
      ]
     },
     "execution_count": 96,
     "metadata": {},
     "output_type": "execute_result"
    }
   ],
   "source": [
    "str_ = '0123456789'\n",
    "str_"
   ]
  },
  {
   "cell_type": "code",
   "execution_count": 98,
   "id": "7c2febf1",
   "metadata": {},
   "outputs": [
    {
     "data": {
      "text/plain": [
       "('0', '2', '9', '7')"
      ]
     },
     "execution_count": 98,
     "metadata": {},
     "output_type": "execute_result"
    }
   ],
   "source": [
    "# 문자 인덱싱\n",
    "str_[0], str_[2], str_[-1], str_[-3]"
   ]
  },
  {
   "cell_type": "code",
   "execution_count": 99,
   "id": "10cc7ccf",
   "metadata": {},
   "outputs": [
    {
     "ename": "IndexError",
     "evalue": "string index out of range",
     "output_type": "error",
     "traceback": [
      "\u001b[1;31m---------------------------------------------------------------------------\u001b[0m",
      "\u001b[1;31mIndexError\u001b[0m                                Traceback (most recent call last)",
      "Cell \u001b[1;32mIn[99], line 1\u001b[0m\n\u001b[1;32m----> 1\u001b[0m \u001b[43mstr_\u001b[49m\u001b[43m[\u001b[49m\u001b[38;5;241;43m20\u001b[39;49m\u001b[43m]\u001b[49m\n",
      "\u001b[1;31mIndexError\u001b[0m: string index out of range"
     ]
    }
   ],
   "source": [
    "str_[20] # 없는 인덱싱은 에러"
   ]
  },
  {
   "cell_type": "code",
   "execution_count": null,
   "id": "97fa211d",
   "metadata": {},
   "outputs": [],
   "source": [
    "'''\n",
    "문자변수[from:stop] : from부터 stop 앞까지 추출\n",
    "문자변수[from:stop:step] : from부터 stop앞까지 step씩 전진하면서 추출\n",
    "    step 생략시 1\n",
    "    from 생략시 처음부터\n",
    "    stop 생략시 끝까지\n",
    "'''"
   ]
  },
  {
   "cell_type": "code",
   "execution_count": 102,
   "id": "9a095d52",
   "metadata": {},
   "outputs": [
    {
     "data": {
      "text/plain": [
       "'01234'"
      ]
     },
     "execution_count": 102,
     "metadata": {},
     "output_type": "execute_result"
    }
   ],
   "source": [
    "str_[0:5] # 0번째~5번째 앞까지"
   ]
  },
  {
   "cell_type": "code",
   "execution_count": 103,
   "id": "a12e5741",
   "metadata": {},
   "outputs": [
    {
     "data": {
      "text/plain": [
       "'5678'"
      ]
     },
     "execution_count": 103,
     "metadata": {},
     "output_type": "execute_result"
    }
   ],
   "source": [
    "str_[-5:-1] # -5번째부터 -1번째 앞까지"
   ]
  },
  {
   "cell_type": "code",
   "execution_count": 104,
   "id": "bd0e0dd3",
   "metadata": {},
   "outputs": [
    {
     "data": {
      "text/plain": [
       "'6789'"
      ]
     },
     "execution_count": 104,
     "metadata": {},
     "output_type": "execute_result"
    }
   ],
   "source": [
    "str_[-4:] # -4번째부터 끝까지"
   ]
  },
  {
   "cell_type": "code",
   "execution_count": 105,
   "id": "8a8391ca",
   "metadata": {},
   "outputs": [
    {
     "data": {
      "text/plain": [
       "'6789'"
      ]
     },
     "execution_count": 105,
     "metadata": {},
     "output_type": "execute_result"
    }
   ],
   "source": [
    "str_[-4:20] # 슬라이싱시 인덱스 범위를 벗어나면 끝까지를 의미"
   ]
  },
  {
   "cell_type": "code",
   "execution_count": 106,
   "id": "a85039f6",
   "metadata": {},
   "outputs": [
    {
     "data": {
      "text/plain": [
       "'0246'"
      ]
     },
     "execution_count": 106,
     "metadata": {},
     "output_type": "execute_result"
    }
   ],
   "source": [
    "str_[0:8:2]"
   ]
  },
  {
   "cell_type": "code",
   "execution_count": 107,
   "id": "92570c95",
   "metadata": {},
   "outputs": [
    {
     "data": {
      "text/plain": [
       "'987654321'"
      ]
     },
     "execution_count": 107,
     "metadata": {},
     "output_type": "execute_result"
    }
   ],
   "source": [
    "str_[9:0:-1]"
   ]
  },
  {
   "cell_type": "code",
   "execution_count": 111,
   "id": "46a04b71",
   "metadata": {},
   "outputs": [
    {
     "name": "stdout",
     "output_type": "stream",
     "text": [
      "01234\n",
      "56789\n",
      "9876543210\n",
      "9876543210\n"
     ]
    }
   ],
   "source": [
    "# 첫문자~6번째 인덱스까지 추출\n",
    "print(str_[0:5])\n",
    "# 5번째 인덱스부터 끝까지 추출\n",
    "print(str_[5:])\n",
    "# str_를 거꾸로 출력\n",
    "print(str_[::-1])\n",
    "print(str_[-1::-1])"
   ]
  },
  {
   "cell_type": "markdown",
   "id": "15101efe",
   "metadata": {},
   "source": [
    "## 3.3 논리형(True/False)"
   ]
  },
  {
   "cell_type": "code",
   "execution_count": 124,
   "id": "977830f1",
   "metadata": {},
   "outputs": [
    {
     "name": "stdout",
     "output_type": "stream",
     "text": [
      "True\n",
      "<class 'bool'>\n",
      "True\n",
      "a 주소: 140712819247312\n",
      "b 주소: 140712819247312\n",
      "b 주소: 140712819247344\n"
     ]
    }
   ],
   "source": [
    "a = True\n",
    "print(a) # a:매개변수=인자=argument\n",
    "print(type(a)) # a변수의 타입,   # class : 객체를 의미\n",
    "print(isinstance(a, bool)) # isinstance(변수, 타입) : 변수가 해당 타입인지 여부\n",
    "print('a 주소:', id(a))\n",
    "b = True\n",
    "print('b 주소:', id(b))\n",
    "b = False\n",
    "print('b 주소:', id(b))"
   ]
  },
  {
   "cell_type": "code",
   "execution_count": 114,
   "id": "38521136",
   "metadata": {},
   "outputs": [
    {
     "data": {
      "text/plain": [
       "(1, 0)"
      ]
     },
     "execution_count": 114,
     "metadata": {},
     "output_type": "execute_result"
    }
   ],
   "source": [
    "int(True), int(False)"
   ]
  },
  {
   "cell_type": "code",
   "execution_count": null,
   "id": "cfdc8b51",
   "metadata": {},
   "outputs": [],
   "source": [
    "# False로 간주되는 것: 0, '' \"\"(빈스트링), None, [], (), {}\n",
    "# False외의 값은 다 True ex. \" \""
   ]
  },
  {
   "cell_type": "code",
   "execution_count": 120,
   "id": "ff1d2407",
   "metadata": {},
   "outputs": [
    {
     "name": "stdout",
     "output_type": "stream",
     "text": [
      "i가 크네\n",
      "i가 부족하네\n"
     ]
    }
   ],
   "source": [
    "i = 10\n",
    "if i>5:\n",
    "    print('i가 크네')\n",
    "else:\n",
    "    print('i가 부족하네')\n",
    "\n",
    "if []:\n",
    "    print('i가 크네')\n",
    "else:\n",
    "    print('i가 부족하네')"
   ]
  },
  {
   "cell_type": "markdown",
   "id": "de49febb",
   "metadata": {},
   "source": [
    "## 3.4 자료형 확인 및 형변환 함수\n",
    "- type(변수)\n",
    "- isinstance(변수, 타입)\n",
    "\n",
    "- int() : 정수형으로 변환\n",
    "- float() : 실수형으로 변환\n",
    "- str()   : 문자형으로 변환\n",
    "- bool()  : 논리형으로 변환"
   ]
  },
  {
   "cell_type": "code",
   "execution_count": 126,
   "id": "e3024253",
   "metadata": {},
   "outputs": [
    {
     "data": {
      "text/plain": [
       "(123, 123, 1)"
      ]
     },
     "execution_count": 126,
     "metadata": {},
     "output_type": "execute_result"
    }
   ],
   "source": [
    "int(\"123\"), int(123.9), int(True)"
   ]
  },
  {
   "cell_type": "code",
   "execution_count": 129,
   "id": "dfb62497",
   "metadata": {},
   "outputs": [
    {
     "data": {
      "text/plain": [
       "(123.5, 123.0, 1.0)"
      ]
     },
     "execution_count": 129,
     "metadata": {},
     "output_type": "execute_result"
    }
   ],
   "source": [
    "float(\"123.5\"), float(123), float(True), float(\"123\")"
   ]
  },
  {
   "cell_type": "code",
   "execution_count": 132,
   "id": "90b34828",
   "metadata": {},
   "outputs": [
    {
     "data": {
      "text/plain": [
       "10"
      ]
     },
     "execution_count": 132,
     "metadata": {},
     "output_type": "execute_result"
    }
   ],
   "source": [
    "int(\"10   \")\n",
    "# int() 에러나는 것들\n",
    "# int(\"123.5\"), int(' '), int(''), int(\"1,000\")"
   ]
  },
  {
   "cell_type": "code",
   "execution_count": 133,
   "id": "d5afde2a",
   "metadata": {},
   "outputs": [
    {
     "data": {
      "text/plain": [
       "123.5"
      ]
     },
     "execution_count": 133,
     "metadata": {},
     "output_type": "execute_result"
    }
   ],
   "source": [
    "float(\" 123.5  \")\n",
    "# float() 에러나는 것들\n",
    "# float(\"1,000.0\"), float(\"\"), float(\" \"), "
   ]
  },
  {
   "cell_type": "code",
   "execution_count": 136,
   "id": "50ede98e",
   "metadata": {},
   "outputs": [
    {
     "data": {
      "text/plain": [
       "('10', '10.5', 'True', '1120000000000.0', '1.12e-12')"
      ]
     },
     "execution_count": 136,
     "metadata": {},
     "output_type": "execute_result"
    }
   ],
   "source": [
    "str(10), str(10.5), str(True), str(1.12e12), str(1.12e-12)"
   ]
  },
  {
   "cell_type": "code",
   "execution_count": 137,
   "id": "8f68bdd9",
   "metadata": {},
   "outputs": [
    {
     "data": {
      "text/plain": [
       "(False, False, False, False, False, False)"
      ]
     },
     "execution_count": 137,
     "metadata": {},
     "output_type": "execute_result"
    }
   ],
   "source": [
    "bool(\"\"), bool(0), bool(0.0), bool([]), bool({}), bool(None)"
   ]
  },
  {
   "cell_type": "code",
   "execution_count": 138,
   "id": "f292a6e9",
   "metadata": {},
   "outputs": [
    {
     "data": {
      "text/plain": [
       "True"
      ]
     },
     "execution_count": 138,
     "metadata": {},
     "output_type": "execute_result"
    }
   ],
   "source": [
    "bool(\" \")"
   ]
  },
  {
   "cell_type": "markdown",
   "id": "4b791c67",
   "metadata": {},
   "source": [
    "파이썬 기본 자료형(정리)\n",
    "1. 숫자 - int, float, complex\n",
    "2. 문자 - str, 문자슬라이싱, raw데이터(정규표현식, 파일경로)\n",
    "3. 논리 - False로 판별되는 경우"
   ]
  },
  {
   "cell_type": "markdown",
   "id": "a0f772d6",
   "metadata": {},
   "source": [
    "# 4절. 포맷팅\n",
    "- 포맷팅이란, 출력할 문자, 숫자, 날짜 데이터 형식을 지정하는 것\n",
    "- 변수와 텍스트를 결합해서 보기 좋은 형식의 새로운 텍스트를 만들 수 있음\n",
    "\n",
    "## 4.1 문자열에 출력형식 지정"
   ]
  },
  {
   "cell_type": "code",
   "execution_count": 141,
   "id": "cc4b9754",
   "metadata": {},
   "outputs": [
    {
     "name": "stdout",
     "output_type": "stream",
     "text": [
      "홍길동님의 나이는 30살입니다.\n"
     ]
    }
   ],
   "source": [
    "name =  \"홍길동\"\n",
    "age = 30\n",
    "print(name, '님의 나이는 ', age, '살입니다.', sep='')"
   ]
  },
  {
   "cell_type": "code",
   "execution_count": 146,
   "id": "538756d0",
   "metadata": {},
   "outputs": [
    {
     "name": "stdout",
     "output_type": "stream",
     "text": [
      "홍길동님의 나이는  30살입니다.\n",
      "홍길동님의 나이는 30살입니다.\n",
      "홍길동님의 나이는  30살입니다.\n"
     ]
    }
   ],
   "source": [
    "print(\"%s님의 나이는 %3d살입니다.\"%(name, age))\n",
    "    # %s: 문자, %d: 정수, %f: 실수\n",
    "print(f\"{name}님의 나이는 {age}살입니다.\")\n",
    "print(\"{}님의 나이는 {:3d}살입니다.\".format(name, age))"
   ]
  },
  {
   "cell_type": "markdown",
   "id": "b281cf84",
   "metadata": {},
   "source": [
    "## 4.2 format() 문법"
   ]
  },
  {
   "cell_type": "code",
   "execution_count": null,
   "id": "da2c9c19",
   "metadata": {},
   "outputs": [],
   "source": [
    "# \"{[인덱스]:[공백대체문자][정렬방식][자리수][타입]]}\".format(변수)\n",
    "    # 인덱스 : format함수 안의 매개변수의 순서\n",
    "    # 정렬방식 : <(왼쪽정렬), >(오른쪽정렬), ^(중앙정렬)\n",
    "    # 정수자릿수 : 출력될 자릿수d, 변수 내용보다 작은 자릿수가 지정되면 자릿수 무시\n",
    "    # 실수자릿수 : 출력될자릿수.소숫점이하출력자릿수f\n",
    "    # 문자자릿수 : 전체확보될자릿수[.변수중출력할자릿수]s\n",
    "    # 타입 : d(10진수 정수), b(2진수), x(16진수), f(실수), s(문자)\n",
    "    # 공백대체문자를 쓸 경우 정렬방식을 반드시 기입해야 함"
   ]
  },
  {
   "cell_type": "code",
   "execution_count": 148,
   "id": "4a16c35a",
   "metadata": {},
   "outputs": [
    {
     "name": "stdout",
     "output_type": "stream",
     "text": [
      "이름은?홍길동\n",
      "나이는?30\n",
      "30살 홍길동님 반갑습니다\n",
      "*30*살 _______홍길동님 반갑습니다\n",
      "  30살 ___홍길동____님 반갑습니다\n"
     ]
    }
   ],
   "source": [
    "name = input('이름은?')\n",
    "age  = int(input('나이는?'))\n",
    "print(\"{}살 {}님 반갑습니다\".format(age, name))\n",
    "print(\"{1:*^4d}살 {0:_>10}님 반갑습니다\".format(name, age))\n",
    "print(\"{: >4d}살 {:_^10}님 반갑습니다\".format(age, name))"
   ]
  },
  {
   "cell_type": "code",
   "execution_count": 152,
   "id": "4b73891c",
   "metadata": {},
   "outputs": [
    {
     "name": "stdout",
     "output_type": "stream",
     "text": [
      "[12345], [     12345], [12345]\n",
      "[12345], [     12345], [12345]\n",
      "[Hello], [Hello     ], [Hello]\n"
     ]
    }
   ],
   "source": [
    "# 숫자의 경우 : 오른쪽정렬(기본값)\n",
    "# 문자의 경우 : 왼쪽정렬(기본값)\n",
    "# 변수보다 작은 자릿수를 지정하면 자릿수가 무시되고 다 출력(정수, 문자 자릿수)\n",
    "i = 12345\n",
    "s = \"Hello\"\n",
    "print(\"[{}], [{:10}], [{:3}]\".format(i, i, i))\n",
    "print(\"[{0:}], [{0:10}], [{0:3}]\".format(i))\n",
    "print(\"[{0:}], [{0:10}], [{0:3}]\".format(s))"
   ]
  },
  {
   "cell_type": "code",
   "execution_count": 156,
   "id": "9e59f844",
   "metadata": {},
   "outputs": [
    {
     "name": "stdout",
     "output_type": "stream",
     "text": [
      "f = [$2.76]\n",
      "s = [He___]\n"
     ]
    }
   ],
   "source": [
    "# 문자 : 전체자리수.표현될자리수\n",
    "# 실수 : 전체자리수.소수점이하 표현될 자리수\n",
    "f = 2.758\n",
    "s = \"Hello\"\n",
    "print(\"f = [{:$>5.2f}]\".format(f))\n",
    "print(\"s = [{:_<5.2}]\".format(s))"
   ]
  },
  {
   "cell_type": "code",
   "execution_count": 161,
   "id": "35e29675",
   "metadata": {},
   "outputs": [
    {
     "name": "stdout",
     "output_type": "stream",
     "text": [
      "[  123,  -123]\n",
      "[ +123,  -123]\n",
      "[+ 123, - 123]\n"
     ]
    }
   ],
   "source": [
    "# + : 부호를 출력\n",
    "# = : 부호를 맨 앞에 출력\n",
    "a, b = 123, -123\n",
    "print(\"[{:5}, {:5}]\".format(a,b))\n",
    "print(\"[{:+5}, {:+5}]\".format(a,b))\n",
    "print(\"[{:=+5}, {:=+5}]\".format(a,b))"
   ]
  },
  {
   "cell_type": "code",
   "execution_count": 163,
   "id": "52151cd8",
   "metadata": {},
   "outputs": [
    {
     "name": "stdout",
     "output_type": "stream",
     "text": [
      "[     +2.79]\n",
      "[     +2.79]\n"
     ]
    }
   ],
   "source": [
    "#\n",
    "f = 2.785\n",
    "print(\"[{:+10.3}]\".format(f))\n",
    "print(\"[{:+10.2f}]\".format(f))"
   ]
  },
  {
   "cell_type": "code",
   "execution_count": 166,
   "id": "ce7816d0",
   "metadata": {},
   "outputs": [
    {
     "name": "stdout",
     "output_type": "stream",
     "text": [
      "[    +2.785]\n"
     ]
    }
   ],
   "source": [
    "sign = '+'\n",
    "width = 10\n",
    "precision = 3\n",
    "print(\"[{:{}{}.{}f}]\".format(f, \n",
    "                             sign, \n",
    "                             width, \n",
    "                             precision))"
   ]
  },
  {
   "cell_type": "code",
   "execution_count": 167,
   "id": "1104fb86",
   "metadata": {},
   "outputs": [
    {
     "name": "stdout",
     "output_type": "stream",
     "text": [
      "[    +2.785]\n"
     ]
    }
   ],
   "source": [
    "print(\"[{:{sign}{width}.{precision}f}]\".format(f, \n",
    "                             sign=sign, \n",
    "                             width=width, \n",
    "                             precision=precision))"
   ]
  },
  {
   "cell_type": "code",
   "execution_count": 169,
   "id": "ef1dc530",
   "metadata": {},
   "outputs": [
    {
     "name": "stdout",
     "output_type": "stream",
     "text": [
      "10진수 a = [   15]\n",
      "16진수 a = [    f]\n",
      " 2진수 a = [ 1111]\n"
     ]
    }
   ],
   "source": [
    "a = 15\n",
    "print(\"10진수 a = [{:5d}]\".format(a))\n",
    "print(\"16진수 a = [{:5x}]\".format(a))\n",
    "print(\" 2진수 a = [{:5b}]\".format(a))"
   ]
  },
  {
   "cell_type": "markdown",
   "id": "89c8ac56",
   "metadata": {},
   "source": [
    "## 4.3 날짜 출력"
   ]
  },
  {
   "cell_type": "code",
   "execution_count": 171,
   "id": "8aa834a5",
   "metadata": {},
   "outputs": [
    {
     "data": {
      "text/plain": [
       "datetime.datetime(2025, 4, 9, 17, 44, 58, 828577)"
      ]
     },
     "execution_count": 171,
     "metadata": {},
     "output_type": "execute_result"
    }
   ],
   "source": [
    "import re\n",
    "from datetime import datetime\n",
    "now = datetime.now()\n",
    "now"
   ]
  },
  {
   "cell_type": "code",
   "execution_count": 173,
   "id": "1e5a70e2",
   "metadata": {},
   "outputs": [
    {
     "name": "stdout",
     "output_type": "stream",
     "text": [
      "2025-04-09 17:44:58.828577\n",
      "2025년04월09일 PM 05시 44분 58초\n",
      "2025년04월09일 17시 44분 58초\n"
     ]
    }
   ],
   "source": [
    "print(\"{}\".format(now))\n",
    "print(\"{:%Y년 %m월 %d일 %p %I시 %M분 %S초}\".format(now))\n",
    "print(\"{:%Y년 %m월 %d일 %H시 %M분 %S초}\".format(now))"
   ]
  },
  {
   "cell_type": "code",
   "execution_count": 175,
   "id": "b56bb73a",
   "metadata": {},
   "outputs": [
    {
     "data": {
      "text/plain": [
       "'2025년 04월 09일 17시 44분 58초'"
      ]
     },
     "execution_count": 175,
     "metadata": {},
     "output_type": "execute_result"
    }
   ],
   "source": [
    "now.strftime(\"%Y년 %m월 %d일 %H시 %M분 %S초\")"
   ]
  },
  {
   "cell_type": "code",
   "execution_count": null,
   "id": "b7da7629",
   "metadata": {},
   "outputs": [],
   "source": []
  }
 ],
 "metadata": {
  "kernelspec": {
   "display_name": "Python 3 (ipykernel)",
   "language": "python",
   "name": "python3"
  },
  "language_info": {
   "codemirror_mode": {
    "name": "ipython",
    "version": 3
   },
   "file_extension": ".py",
   "mimetype": "text/x-python",
   "name": "python",
   "nbconvert_exporter": "python",
   "pygments_lexer": "ipython3",
   "version": "3.10.9"
  },
  "toc": {
   "base_numbering": 1,
   "nav_menu": {},
   "number_sections": false,
   "sideBar": true,
   "skip_h1_title": false,
   "title_cell": "Table of Contents",
   "title_sidebar": "Contents",
   "toc_cell": false,
   "toc_position": {
    "height": "calc(100% - 180px)",
    "left": "10px",
    "top": "150px",
    "width": "165px"
   },
   "toc_section_display": true,
   "toc_window_display": true
  }
 },
 "nbformat": 4,
 "nbformat_minor": 5
}
