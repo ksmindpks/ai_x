{
 "cells": [
  {
   "cell_type": "code",
   "execution_count": 1,
   "id": "a70d01de",
   "metadata": {},
   "outputs": [
    {
     "data": {
      "text/html": [
       "\n",
       "<style>\n",
       "div.container{width:86% !important;}\n",
       "div.cell.code_cell.rendered{width:100%;}\n",
       "div.CodeMirror {font-family:Consolas; font-size:15pt;}\n",
       "div.output {font-size:15pt; font-weight:bold;}\n",
       "div.input {font-family:Consolas; font-size:15pt;}\n",
       "div.prompt {min-width:70px;}\n",
       "div#toc-wrapper{padding-top:120px;}\n",
       "div.text_cell_render ul li{font-size:12pt;padding:5px;}\n",
       "table.dataframe{font-size:15px;}\n",
       "</style>\n"
      ],
      "text/plain": [
       "<IPython.core.display.HTML object>"
      ]
     },
     "metadata": {},
     "output_type": "display_data"
    }
   ],
   "source": [
    "from IPython.display import display, HTML \n",
    "display(HTML(\"\"\"\n",
    "<style>\n",
    "div.container{width:86% !important;}\n",
    "div.cell.code_cell.rendered{width:100%;}\n",
    "div.CodeMirror {font-family:Consolas; font-size:15pt;}\n",
    "div.output {font-size:15pt; font-weight:bold;}\n",
    "div.input {font-family:Consolas; font-size:15pt;}\n",
    "div.prompt {min-width:70px;}\n",
    "div#toc-wrapper{padding-top:120px;}\n",
    "div.text_cell_render ul li{font-size:12pt;padding:5px;}\n",
    "table.dataframe{font-size:15px;}\n",
    "</style>\n",
    "\"\"\"))"
   ]
  },
  {
   "cell_type": "markdown",
   "id": "9c7ad607",
   "metadata": {},
   "source": [
    "<b><font size=\"5\" color=\"red\">ch07. 객체 지향 프로그래밍 </font></b>"
   ]
  },
  {
   "cell_type": "code",
   "execution_count": 3,
   "id": "2369167b",
   "metadata": {},
   "outputs": [
    {
     "name": "stdout",
     "output_type": "stream",
     "text": [
      "홍길동 남자 MBC\n",
      "홍낄쑥 None MBC\n",
      "{'name': '홍낄쑥', 'sender': '여자', 'accademy': 'MBC'}\n"
     ]
    }
   ],
   "source": [
    "person1 = {'name':'홍길동', 'gender':'남자', 'accademy':'MBC'}\n",
    "person2 = {'name':'홍길숙', 'sender':'여자', 'accademy':'MBC'}\n",
    "print(person1['name'], person1['gender'], person1['accademy'])\n",
    "person2['name'] = '홍낄쑥'\n",
    "print(person2['name'], person2.get('gender'), person2['accademy'])\n",
    "print(person2)"
   ]
  },
  {
   "cell_type": "code",
   "execution_count": 4,
   "id": "adaa5643",
   "metadata": {},
   "outputs": [],
   "source": [
    "class Person:        # 클래스명은 대문자로 시작을 강력 추천\n",
    "    accademy = 'MBC' # 클래스 변수\n",
    "    def __init__(self, name, gender): # 생성자함수\n",
    "        self.name = name # 객체 안의 변수(인스턴스 변수)\n",
    "        self.gender = gender\n",
    "    def print_info(self):\n",
    "        print('{}는 {}입니다 {}를 다닙니다'.format(self.name, \n",
    "                                                self.gender, \n",
    "                                                self.accademy))\n",
    "    def __str__(self):\n",
    "        return '{}는 {}입니다 {}를 다닙니다'.format(self.name, \n",
    "                                                self.gender, \n",
    "                                                self.accademy)"
   ]
  },
  {
   "cell_type": "code",
   "execution_count": 5,
   "id": "158eb2d7",
   "metadata": {},
   "outputs": [
    {
     "name": "stdout",
     "output_type": "stream",
     "text": [
      "홍길동는 남자입니다 MBC를 다닙니다\n",
      "홍길숙는 남자입니다 MBC를 다닙니다\n",
      "마길동는 남자입니다 MBC를 다닙니다\n",
      "홍길숙는 남자입니다 CBC를 다닙니다\n"
     ]
    }
   ],
   "source": [
    "p1 = Person('홍길동', '남자')\n",
    "p2 = Person('홍길숙', '남자')\n",
    "p1.print_info()\n",
    "p2.print_info()\n",
    "p1.name = '마길동'\n",
    "p2.accademy = 'CBC'\n",
    "print(p1)\n",
    "print(p2)"
   ]
  },
  {
   "cell_type": "markdown",
   "id": "f8b1f36f",
   "metadata": {},
   "source": [
    "# 1절. 객체와 클래스\n",
    "\n",
    "class 클래스명(상속받을 클래스명):\n",
    "    변수나 함수들 선언"
   ]
  },
  {
   "cell_type": "code",
   "execution_count": 38,
   "id": "bd3cb5fe",
   "metadata": {},
   "outputs": [
    {
     "name": "stdout",
     "output_type": "stream",
     "text": [
      "<__main__.Person object at 0x0000029E85FC4280>\n",
      "<class '__main__.Person'>\n"
     ]
    }
   ],
   "source": [
    "class Person:\n",
    "    '''\n",
    "    Person 클래스는 어쩌구 저쩌구 설명하는 독스트링\n",
    "    생성자 함수가 없을 경우, 디폴트 생성자 함수가 자동 생성\n",
    "    '''\n",
    "    pass\n",
    "p1 = Person()\n",
    "print(p1.__str__())\n",
    "print(type(p1))"
   ]
  },
  {
   "cell_type": "code",
   "execution_count": 36,
   "id": "144cc251",
   "metadata": {},
   "outputs": [
    {
     "data": {
      "text/plain": [
       "True"
      ]
     },
     "execution_count": 36,
     "metadata": {},
     "output_type": "execute_result"
    }
   ],
   "source": [
    "isinstance(p1, Person)"
   ]
  },
  {
   "cell_type": "code",
   "execution_count": 39,
   "id": "4c952305",
   "metadata": {},
   "outputs": [
    {
     "data": {
      "text/plain": [
       "'\\n    Person 클래스는 어쩌구 저쩌구 설명하는 독스트링\\n    생성자 함수가 없을 경우, 디폴트 생성자 함수가 자동 생성\\n    '"
      ]
     },
     "execution_count": 39,
     "metadata": {},
     "output_type": "execute_result"
    }
   ],
   "source": [
    "p1.__doc__"
   ]
  },
  {
   "cell_type": "markdown",
   "id": "a4aeabae",
   "metadata": {},
   "source": [
    "# 2절. 생성자와 소멸자\n",
    "```\n",
    "생성자 : __init__(self, 매개변수, ..) - 객체가 생성될 때 자동 생성\n",
    "        객체 생성시 필요한 인스턴스 변수 초기화를 포함\n",
    "소멸자 : __del__(self) - 객체가 소멸될 때 자동 실행\n",
    "        인스턴스 객체의 레퍼런스 카운트가 0이 될 때 실행\n",
    "```"
   ]
  },
  {
   "cell_type": "code",
   "execution_count": 9,
   "id": "0d447ab2",
   "metadata": {},
   "outputs": [],
   "source": [
    "class Person:\n",
    "    accademy = 'MBC'\n",
    "#     def __init__(self, name, gender): # 파이썬은 오버로딩(함수 중복 정의) 지원 안 됨\n",
    "#         self.name = name  # 인스턴스 변수\n",
    "#         self.gender = gender\n",
    "    def __init__(self, name, gender='남자'): \n",
    "        self.name = name  # 인스턴스 변수\n",
    "        self.gender = gender\n",
    "        print('Person 객체를 생성합니다', name)\n",
    "    def __del__(self):\n",
    "        print('Person 객체 소멸시킵니다', self.name)\n",
    "    def print_info(self):\n",
    "        print('{}는 {}입니다'.format(self.name, self.gender))\n",
    "    def __str__(self): # 오버라이딩(함수 재정의)\n",
    "        return f'{self.name}는 {self.gender}입니다'"
   ]
  },
  {
   "cell_type": "code",
   "execution_count": 10,
   "id": "e1219fac",
   "metadata": {},
   "outputs": [
    {
     "name": "stdout",
     "output_type": "stream",
     "text": [
      "Person 객체를 생성합니다 신사임당\n"
     ]
    }
   ],
   "source": [
    "p1 = Person('신사임당', '여자')"
   ]
  },
  {
   "cell_type": "code",
   "execution_count": 11,
   "id": "d524cfaf",
   "metadata": {},
   "outputs": [
    {
     "name": "stdout",
     "output_type": "stream",
     "text": [
      "Person 객체를 생성합니다 홍길동\n",
      "홍길동는 남자입니다\n"
     ]
    }
   ],
   "source": [
    "p2 = Person('홍길동')\n",
    "print(p2)"
   ]
  },
  {
   "cell_type": "code",
   "execution_count": 12,
   "id": "3c80faa6",
   "metadata": {},
   "outputs": [],
   "source": [
    "p3 = p2"
   ]
  },
  {
   "cell_type": "code",
   "execution_count": 13,
   "id": "84d3d146",
   "metadata": {},
   "outputs": [
    {
     "name": "stdout",
     "output_type": "stream",
     "text": [
      "Person 객체 소멸시킵니다 신사임당\n"
     ]
    }
   ],
   "source": [
    "del p1"
   ]
  },
  {
   "cell_type": "code",
   "execution_count": 14,
   "id": "e9ac6fff",
   "metadata": {},
   "outputs": [],
   "source": [
    "del p2 # 레퍼런스 소멸자가 1이 됨"
   ]
  },
  {
   "cell_type": "code",
   "execution_count": 15,
   "id": "e2062040",
   "metadata": {},
   "outputs": [
    {
     "name": "stdout",
     "output_type": "stream",
     "text": [
      "Person 객체 소멸시킵니다 홍길동\n"
     ]
    }
   ],
   "source": [
    "del p3 # 레퍼런스 소멸자가 0이 됨"
   ]
  },
  {
   "cell_type": "markdown",
   "id": "790992fc",
   "metadata": {},
   "source": [
    "# 3절. 변수와 메소드(함수)\n",
    "- 인스턴스 변수 vs 클래스 변수\n",
    "- 인스턴스 메소드(self) vs 클래스 메소드(clz) vs static 메소드()"
   ]
  },
  {
   "cell_type": "code",
   "execution_count": 17,
   "id": "a16a1a45",
   "metadata": {},
   "outputs": [
    {
     "name": "stdout",
     "output_type": "stream",
     "text": [
      "홍길동 남자\n"
     ]
    }
   ],
   "source": [
    "class Person:\n",
    "    name = '홍길동' # 클래스 변수\n",
    "    gender = '남자'\n",
    "    \n",
    "print(Person.name, Person.gender)"
   ]
  },
  {
   "cell_type": "code",
   "execution_count": 18,
   "id": "3f6c2afb",
   "metadata": {},
   "outputs": [
    {
     "name": "stdout",
     "output_type": "stream",
     "text": [
      "홍길동 남자\n",
      "홍길동 남자\n",
      "홍길동 남자\n"
     ]
    }
   ],
   "source": [
    "p1 = Person()\n",
    "p2 = Person()\n",
    "print(Person.name, Person.gender)\n",
    "print(p1.name, p1.gender)\n",
    "print(p2.name, p2.gender)"
   ]
  },
  {
   "cell_type": "code",
   "execution_count": 19,
   "id": "267228f6",
   "metadata": {},
   "outputs": [
    {
     "name": "stdout",
     "output_type": "stream",
     "text": [
      "홍길동 남자\n",
      "홍길동 남자\n",
      "이순신 남자\n"
     ]
    }
   ],
   "source": [
    "p2.name = '이순신'\n",
    "print(Person.name, Person.gender)\n",
    "print(p1.name, p1.gender)\n",
    "print(p2.name, p2.gender)"
   ]
  },
  {
   "cell_type": "code",
   "execution_count": 20,
   "id": "a3830e76",
   "metadata": {},
   "outputs": [
    {
     "name": "stdout",
     "output_type": "stream",
     "text": [
      "리사 여자\n",
      "리사 여자\n",
      "이순신 여자\n"
     ]
    }
   ],
   "source": [
    "Person.name = '리사'\n",
    "Person.gender = '여자'\n",
    "print(Person.name, Person.gender)\n",
    "print(p1.name, p1.gender)\n",
    "print(p2.name, p2.gender)"
   ]
  },
  {
   "cell_type": "markdown",
   "id": "8bdb9a4b",
   "metadata": {},
   "source": [
    "※ 인스턴스 메소드(self) vs 클래스 메소드(clz) vs static 메소드()\n",
    "- 인스턴스 메소드 : 첫번째 인자에 self를 꼭 명시. 객체를 통해서만 호출할 수 있는 메소드\n",
    "- 클래스 메소드 : 메소드 위에 @classmethod를 선언한 메소드. 첫번째 인자에 cls(clz) 꼭 명시\n",
    "- static 메소드 : 메소드 위에 @staticmethod를 선언한 메소드. 인자를 넣지 않음"
   ]
  },
  {
   "cell_type": "code",
   "execution_count": 7,
   "id": "23a9a60a",
   "metadata": {},
   "outputs": [],
   "source": [
    "class Person:\n",
    "    name = '홍길동'\n",
    "    gender = '남자'\n",
    "    def print_info(self): # 객체변수명.print_info()로 호출\n",
    "        print(f'인스턴스(일반)메소드 - {self.name}는 {self.gender}입니다')\n",
    "    def change_info(self, name, gender='남자'): # 객체변수.change_info('김', '여자')\n",
    "        self.name = name\n",
    "        self.gender = gender\n",
    "        print(f'인스턴스(일반)메소드 - {self.name} / {self.gender}로 변경 완료')\n",
    "    @classmethod\n",
    "    def do_(clz): # clz==Person. 클래스 변수를 이용한 로직\n",
    "        clz.name = '신사임당'\n",
    "        clz.gender = '여자'\n",
    "        print(f'클래스 메소드 - {clz.name}/{clz.gender} 변경완료')\n",
    "    @staticmethod\n",
    "    def that_(): # 클래스 변수를 이용하기 보다는 로직이 우선일 경우\n",
    "        Person.name = '신길동'\n",
    "        Person.gender = '남자'\n",
    "        print(f'static 메소드 - {Person.name}/{Person.gender} 변경완료')"
   ]
  },
  {
   "cell_type": "code",
   "execution_count": 8,
   "id": "cb660173",
   "metadata": {},
   "outputs": [
    {
     "name": "stdout",
     "output_type": "stream",
     "text": [
      "인스턴스(일반)메소드 - 홍길동는 남자입니다\n"
     ]
    }
   ],
   "source": [
    "p1 = Person()\n",
    "p1.print_info()"
   ]
  },
  {
   "cell_type": "code",
   "execution_count": 9,
   "id": "ab1de816",
   "metadata": {},
   "outputs": [
    {
     "name": "stdout",
     "output_type": "stream",
     "text": [
      "클래스 메소드 - 신사임당/여자 변경완료\n"
     ]
    }
   ],
   "source": [
    "Person.do_()"
   ]
  },
  {
   "cell_type": "code",
   "execution_count": 10,
   "id": "587ee48b",
   "metadata": {},
   "outputs": [
    {
     "name": "stdout",
     "output_type": "stream",
     "text": [
      "static 메소드 - 신길동/남자 변경완료\n"
     ]
    }
   ],
   "source": [
    "Person.that_()"
   ]
  },
  {
   "cell_type": "code",
   "execution_count": 11,
   "id": "c181f300",
   "metadata": {},
   "outputs": [
    {
     "name": "stdout",
     "output_type": "stream",
     "text": [
      "인스턴스(일반)메소드 - 신길동는 남자입니다\n"
     ]
    }
   ],
   "source": [
    "p1.print_info()"
   ]
  },
  {
   "cell_type": "markdown",
   "id": "09ff4278",
   "metadata": {},
   "source": [
    "## 요약\n",
    "**객체를 이용하면 객체에 정보를 저장하고, 그 정보를 이용해서 어떤 기능을 수행할 수 있다**\n",
    "**객체 = 데이터(변수: 객체마다 고유의 값) + 기능(메소드, 함수)**\n",
    "\n",
    "**그 객체를 만들기 위한 틀 => 클래스**\n",
    "```\n",
    "    class 클래스명:\n",
    "        '독스트링'\n",
    "        클래스변수명 = 값\n",
    "        def __init__(self, [객체 멤버를 초기화할 변수=값, ....]):\n",
    "            self.인스턴스(일반)변수=값\n",
    "            객체를 생성할 때 객체 멤버변수의 초기화\n",
    "        def method(self):\n",
    "            인스턴스 메소드(일반함수)의 매개변수는 self를 반드시 포함\n",
    "        @classmethod\n",
    "        def classmethod(cls):\n",
    "            코드\n",
    "        @staticmethod\n",
    "        def staticmethod():\n",
    "            코드\n",
    "   객체변수 = 클래스명()\n",
    "   객체변수.method()\n",
    "   클래스명.classmethod()\n",
    "   클래스명.Staticmethod()\n",
    "```"
   ]
  },
  {
   "cell_type": "code",
   "execution_count": 8,
   "id": "90994af7",
   "metadata": {},
   "outputs": [
    {
     "name": "stdout",
     "output_type": "stream",
     "text": [
      "홍길동입니다\n",
      "홍길동입니다\n"
     ]
    },
    {
     "data": {
      "text/plain": [
       "(True, True)"
      ]
     },
     "execution_count": 8,
     "metadata": {},
     "output_type": "execute_result"
    }
   ],
   "source": [
    "class Person:\n",
    "    def __init__(self, name):\n",
    "        self.name = name\n",
    "    def __str__(self):\n",
    "        return f'{self.name}입니다'\n",
    "    def print_info(self):\n",
    "        # print(f'{self.name}입니다')\n",
    "        print(self)\n",
    "\n",
    "p = Person('홍길동')\n",
    "p.print_info()\n",
    "print(p)\n",
    "# 파이썬은 동적으로 인스턴스 멤버 추가가 가능하다\n",
    "p.nickname = '홍별명'\n",
    "p1 = Person('홍길숙')\n",
    "isinstance(p, Person), isinstance(p1, Person)"
   ]
  },
  {
   "cell_type": "markdown",
   "id": "c6e5f02d",
   "metadata": {},
   "source": [
    "# 4절. 상속과 재정의\n",
    "- 클래스를 재사용\n",
    "- 상속을 이용하면 부모클래스의 모든 속성을 자식클래스로 물려줄 수 있음\n",
    "- 문법: class 자식클래스명(부모클래스명):"
   ]
  },
  {
   "cell_type": "code",
   "execution_count": 20,
   "id": "ea9f30fa",
   "metadata": {},
   "outputs": [
    {
     "name": "stdout",
     "output_type": "stream",
     "text": [
      "두 수 초기화\n",
      "5\n",
      "6\n",
      "두 수 초기화\n",
      "4\n",
      "두 수 초기화\n",
      "3\n"
     ]
    }
   ],
   "source": [
    "class Cal:\n",
    "    def __init__(self, num1=1, num2=2):\n",
    "        print('두 수 초기화')\n",
    "        self.num1 = num1\n",
    "        self.num2 = num2\n",
    "    def add(self):\n",
    "        return self.num1+self.num2\n",
    "    def sub(self):\n",
    "        return self.num1-self.num2\n",
    "    def div(self):\n",
    "        return self.num1/self.num2 if self.num2!=0 else '0으로 나눌 수 없어요'\n",
    "    def __str__(self):\n",
    "        return 'num1={}, num2={}'.format(self.num1, self.num2)\n",
    "    \n",
    "class Cal_inherit(Cal):\n",
    "    def mul(self):\n",
    "        return self.num1*self.num2\n",
    "    \n",
    "obj1 = Cal_inherit(2, 3)\n",
    "print(obj1.add())\n",
    "print(obj1.mul())\n",
    "obj2 = Cal(2, 2)\n",
    "print(obj2.add())\n",
    "obj3 = Cal()\n",
    "print(obj3.add())"
   ]
  },
  {
   "cell_type": "code",
   "execution_count": 13,
   "id": "9b8f411d",
   "metadata": {},
   "outputs": [
    {
     "data": {
      "text/plain": [
       "(type, type)"
      ]
     },
     "execution_count": 13,
     "metadata": {},
     "output_type": "execute_result"
    }
   ],
   "source": [
    "type(Cal), type(Cal_inherit)"
   ]
  },
  {
   "cell_type": "code",
   "execution_count": 18,
   "id": "c59909a2",
   "metadata": {},
   "outputs": [
    {
     "data": {
      "text/plain": [
       "(__main__.Cal_inherit, True, True)"
      ]
     },
     "execution_count": 18,
     "metadata": {},
     "output_type": "execute_result"
    }
   ],
   "source": [
    "type(obj1), isinstance(obj1, Cal_inherit), isinstance(obj1, Cal)\n",
    "# Cal_inherit is a Cal (상속은 is a 관계)"
   ]
  },
  {
   "cell_type": "code",
   "execution_count": 23,
   "id": "825c746f",
   "metadata": {},
   "outputs": [
    {
     "name": "stdout",
     "output_type": "stream",
     "text": [
      "이름과 성별 초기화\n",
      "홍길동님은 남자\n",
      "홍길동님은 남자\n"
     ]
    }
   ],
   "source": [
    "class Person:\n",
    "    'Person은 이름과 성별을 멤버변수로 갖고, 출력 가능'\n",
    "    def __init__(self, name, gender):\n",
    "        print('이름과 성별 초기화')\n",
    "        self.name = name\n",
    "        self.gender =gender\n",
    "    def __str__(self):\n",
    "        return '{}님은 {}'.format(self.name, self.gender)\n",
    "    def print_info(self):\n",
    "        print(self)\n",
    "p = Person('홍길동', '남자')\n",
    "p.print_info()\n",
    "Person.print_info(p)"
   ]
  },
  {
   "cell_type": "code",
   "execution_count": 24,
   "id": "24e54706",
   "metadata": {},
   "outputs": [],
   "source": [
    "# override : 함수의 재정의(부모클래스의 함수를 자식클래스에서 다시 정의)\n",
    "#            부모클래스의 함수명과 매개변수 개수가 동일\n",
    "# overload : 함수의 중복정의(같은 이름의 함수를 매개변수 갯수를 달리해서 정의) - 불가\n",
    "class Student(Person):\n",
    "    def __init__(self, name, gender, major):\n",
    "        super().__init__(name, gender) # super() : '부모클래스의'를 의미 \n",
    "        # Person.__init__(self, name, gender) <= 이렇게 사용은 지양\n",
    "        self.major = major\n",
    "    def __str__(self): #override\n",
    "        return super().__str__() + '이고, 전공은 {}'.format(self.major)"
   ]
  },
  {
   "cell_type": "code",
   "execution_count": 26,
   "id": "bc588ec8",
   "metadata": {},
   "outputs": [
    {
     "name": "stdout",
     "output_type": "stream",
     "text": [
      "이름과 성별 초기화\n",
      "홍길숙님은 여자이고, 전공은 AI\n"
     ]
    }
   ],
   "source": [
    "s = Student('홍길숙', '여자', 'AI')\n",
    "print(s)\n",
    "s.print_info()"
   ]
  },
  {
   "cell_type": "code",
   "execution_count": 27,
   "id": "f428e8f9",
   "metadata": {},
   "outputs": [
    {
     "data": {
      "text/plain": [
       "(True, True)"
      ]
     },
     "execution_count": 27,
     "metadata": {},
     "output_type": "execute_result"
    }
   ],
   "source": [
    "isinstance(s, Student), isinstance(s, Person)"
   ]
  },
  {
   "cell_type": "markdown",
   "id": "d4d0dcd8",
   "metadata": {},
   "source": [
    "## 정적변수(static변수): 여러 객체들 사이에 데이터를 공유하고 싶을 때 사용\n",
    "- static 변수 앞에 under score 2개(__)를 붙이면 클래스명.__클래스명__static 변수명으로 참조\n",
    "- 클래스변수는 외부에서 바로 접근 가능.\n",
    "- static 변수는 외부에서 바로 접근하는 것을 방지\n",
    "- static 변수는 클래스 내부에서만 접근하도록 하려는 의도."
   ]
  },
  {
   "cell_type": "code",
   "execution_count": 1,
   "id": "2b870e8d",
   "metadata": {},
   "outputs": [],
   "source": [
    "class Person:\n",
    "    __count = 0 # static 변수\n",
    "    def __init__(self, name, gender):\n",
    "        self.name = name\n",
    "        self.gender = gender\n",
    "    def print_info(self): # 추상메소드\n",
    "        raise Exception('이 메소드는 호출하면 예외가 납니다') # 강제 예외 발생\n",
    "    def __str__(self):\n",
    "        return f'{self.name}은 {self.gender}'\n",
    "\n",
    "class Student(Person):\n",
    "    __count = 0 # static 변수 (객체의 갯수)\n",
    "    # 클래스명._클래스명__count로 사용, 클래스명.__count는 외부에서 접근 불가\n",
    "    def __init__(self, name, gender, major):\n",
    "        super().__init__(name, gender)\n",
    "        self.major = major\n",
    "        Student._Student__count += 1 # 객체가 생성될 때마다 __count 1 증가\n",
    "    def __del__(delf):\n",
    "        Student._Student__count -= 1 # 객체가 소멸될 때마다 __count 1 감소\n",
    "    def print_info(self):\n",
    "        print('{}는 {}이고, 전공은{} ({}번째 객체)'.format(self.name, \n",
    "                                                self.gender, \n",
    "                                                self.major, \n",
    "                                                Student._Student__count))\n",
    "    def __str__(self):\n",
    "        return super().__str__() + '이고, 전공은 {}'.format(self.major)\n",
    "    @classmethod\n",
    "    def get_count(cls):\n",
    "        return cls.__count\n",
    "    \n",
    "    \n",
    "# p = Person('홍길동', '남자')\n",
    "# p.print_info()"
   ]
  },
  {
   "cell_type": "code",
   "execution_count": 2,
   "id": "17710698",
   "metadata": {},
   "outputs": [
    {
     "name": "stdout",
     "output_type": "stream",
     "text": [
      "홍길동는 남자이고, 전공은AI (1번째 객체)\n"
     ]
    }
   ],
   "source": [
    "# p = Person('홍', '남자')\n",
    "# p.print_info() # 추상메소드\n",
    "s1 = Student('홍길동','남자','AI')\n",
    "s1.print_info()"
   ]
  },
  {
   "cell_type": "code",
   "execution_count": 3,
   "id": "cbf87c5a",
   "metadata": {},
   "outputs": [
    {
     "name": "stdout",
     "output_type": "stream",
     "text": [
      "김길쑥는 여자이고, 전공은데이터 (2번째 객체)\n"
     ]
    }
   ],
   "source": [
    "s2 = Student('김길쑥','여자','데이터')\n",
    "s2.print_info()"
   ]
  },
  {
   "cell_type": "code",
   "execution_count": 4,
   "id": "1d77c326",
   "metadata": {},
   "outputs": [
    {
     "name": "stdout",
     "output_type": "stream",
     "text": [
      "신길동는 남자이고, 전공은컴공 (3번째 객체)\n"
     ]
    }
   ],
   "source": [
    "s3 = Student('신길동','남자','컴공')\n",
    "s3.print_info()"
   ]
  },
  {
   "cell_type": "code",
   "execution_count": 5,
   "id": "218ad3f0",
   "metadata": {},
   "outputs": [
    {
     "data": {
      "text/plain": [
       "3"
      ]
     },
     "execution_count": 5,
     "metadata": {},
     "output_type": "execute_result"
    }
   ],
   "source": [
    "Student.get_count()"
   ]
  },
  {
   "cell_type": "code",
   "execution_count": 6,
   "id": "198c28ec",
   "metadata": {},
   "outputs": [
    {
     "data": {
      "text/plain": [
       "2"
      ]
     },
     "execution_count": 6,
     "metadata": {},
     "output_type": "execute_result"
    }
   ],
   "source": [
    "del s3\n",
    "Student.get_count()"
   ]
  },
  {
   "cell_type": "code",
   "execution_count": 7,
   "id": "8ab7ea8e",
   "metadata": {},
   "outputs": [
    {
     "data": {
      "text/plain": [
       "1"
      ]
     },
     "execution_count": 7,
     "metadata": {},
     "output_type": "execute_result"
    }
   ],
   "source": [
    "del s2\n",
    "Student.get_count()"
   ]
  },
  {
   "cell_type": "markdown",
   "id": "e5a5bdd5",
   "metadata": {},
   "source": [
    "# 5절. 연습문제\n",
    "## 실습형"
   ]
  },
  {
   "cell_type": "code",
   "execution_count": null,
   "id": "b5637009",
   "metadata": {},
   "outputs": [],
   "source": [
    "# 1.다음 조건을 만족하는 클래스를 작성하세요\n",
    "# . 도형 (Shape) 클래스와 삼각형 (Triangle) 클래스를 만들어야 합니다\n",
    "#   도형 (Shape) 클래스\n",
    "#   • 생성자를 통해 x, y 좌표를 초기화할 수 있습니다 . x, y 좌표의 기본값은 0, 0 입니다\n",
    "#   • x, y 좌표를 이동시킬 수 있는 move 함수가 있습니다\n",
    "#   • x, y 좌표값 정보를 문자열로 리턴하는 str __ 함수가 있습니다\n",
    "#   • 도형의 면적을 구하는 함수 calc_area 가 있습니다 . 다만 도형 클래스의 calc_area() 는\n",
    "#     구현되어 있지 않아 호출하면 오류가 발생합니다. (파이썬은 추상메소드가 없음 추상메소드 역할을 구현)\n",
    "#   • 정적메소드 (staticmethod) 를 하나 이상 구현합니다\n",
    "# '삼각형 (Trianle) 클래스는 도형 (Shape) 클래스이다' 관계가 성립해야 합니다\n",
    "#  성자를 통해 , width, height, x, y 좌표를 초기화하고 x, y 좌표의 기본값은 0, 0 입니다\n",
    "#  삼각형의 면적을 구하는 메소드 calc_area() 를 재정의합니다\n",
    "#  삼각형의 정보를 문자열로 반환하는 __str__() 함수가 있습니다\n",
    "#  삼각형 객체가 몇 개가 만들어져 있는지 정보를 저장하는 클래스 변수를 추가하고 생성자\n",
    "#  에서 객체를 만들 때마다 증가시키고 소멸자에서 객체를 소멸시킬 때마다 감소합니다"
   ]
  },
  {
   "cell_type": "code",
   "execution_count": 1,
   "id": "92819c11",
   "metadata": {},
   "outputs": [],
   "source": [
    "class Shape:\n",
    "    __count = 0 # static 변수\n",
    "    def __init__(self, x=0, y=0): # 생성자 함수 생성\n",
    "        self.x = x\n",
    "        self.y = y\n",
    "#     def __move__(self, x_inc, y_inc): # 이동함수 정의 \n",
    "#         self.x += x_inc\n",
    "#         self.y += y_inc\n",
    "    def __move__(self, x, y): # (강사 추천)이동함수 정의 \n",
    "        self.x += x\n",
    "        self.y += y\n",
    "    def __str__(self):\n",
    "        return f'(x, y) 좌표는 ({self.x}, {self.y})'\n",
    "    def calc_area(self): # 추상메소드\n",
    "        raise Exception('이 메소드는 호출하면 예외가 발생 됩니다') # 강제 예외 발생\n",
    "    @staticmethod\n",
    "    def myprint_info():\n",
    "        return print('(x,y) 좌표에 도형을 구현하는 중입니다')\n",
    "\n",
    "class Triangle(Shape):\n",
    "    __count = 0 # static 변수 (객체의 갯수)\n",
    "    # 클래스명._클래스명__count로 사용, 클래스명.__count는 외부에서 접근 불가\n",
    "    def __init__(self, wdt, hgt, x = 0, y = 0, ):\n",
    "        super().__init__(x, y)\n",
    "        self.wdt = wdt\n",
    "        self.hgt = hgt\n",
    "        Triangle._Triangle__count += 1 # 객체가 생성될 때마다 __count 1 증가  \n",
    "    def calc_area(self):\n",
    "        return self.wdt*self.hgt/2\n",
    "    def __del__(delf):\n",
    "        Triangle._Triangle__count -= 1 # 객체가 소멸될 때마다 __count 1 감소\n",
    "    def __str__(self):\n",
    "        return super().__str__() + '이고, 넓이{} 높이{}인 삼각혁의 면적은 {}입니다'.format(self.wdt, \n",
    "                                                                          self.hgt, \n",
    "                                                                          self.calc_area())\n",
    "    @classmethod\n",
    "    def get_count(cls):\n",
    "        return cls.__count"
   ]
  },
  {
   "cell_type": "code",
   "execution_count": null,
   "id": "4ae53fde",
   "metadata": {},
   "outputs": [],
   "source": []
  },
  {
   "cell_type": "code",
   "execution_count": 2,
   "id": "1e2a26bb",
   "metadata": {},
   "outputs": [
    {
     "data": {
      "text/plain": [
       "'(x, y) 좌표는 (2, 3)이고, 넓이3 높이4인 삼각혁의 면적은 6.0입니다'"
      ]
     },
     "execution_count": 2,
     "metadata": {},
     "output_type": "execute_result"
    }
   ],
   "source": [
    "t1 = Triangle(3, 4, 2, 3)\n",
    "t1.__str__()"
   ]
  },
  {
   "cell_type": "code",
   "execution_count": 7,
   "id": "8e4edd0b",
   "metadata": {},
   "outputs": [
    {
     "data": {
      "text/plain": [
       "'(x, y) 좌표는 (3, 4)이고, 넓이4 높이3인 삼각혁의 면적은 6.0입니다'"
      ]
     },
     "execution_count": 7,
     "metadata": {},
     "output_type": "execute_result"
    }
   ],
   "source": [
    "t2 = Triangle(4, 3, 3, 4)\n",
    "t2.__str__()"
   ]
  },
  {
   "cell_type": "code",
   "execution_count": 4,
   "id": "50a7a044",
   "metadata": {},
   "outputs": [
    {
     "data": {
      "text/plain": [
       "'(x, y) 좌표는 (3, 4)이고, 넓이6 높이8인 삼각혁의 면적은 24.0입니다'"
      ]
     },
     "execution_count": 4,
     "metadata": {},
     "output_type": "execute_result"
    }
   ],
   "source": [
    "t3 = Triangle(6, 8, 3, 4)\n",
    "t3.__str__()"
   ]
  },
  {
   "cell_type": "code",
   "execution_count": 5,
   "id": "0483fd06",
   "metadata": {},
   "outputs": [
    {
     "data": {
      "text/plain": [
       "3"
      ]
     },
     "execution_count": 5,
     "metadata": {},
     "output_type": "execute_result"
    }
   ],
   "source": [
    "Triangle.get_count()"
   ]
  },
  {
   "cell_type": "code",
   "execution_count": 6,
   "id": "bb325e19",
   "metadata": {},
   "outputs": [
    {
     "data": {
      "text/plain": [
       "2"
      ]
     },
     "execution_count": 6,
     "metadata": {},
     "output_type": "execute_result"
    }
   ],
   "source": [
    "del t3\n",
    "Triangle.get_count()"
   ]
  },
  {
   "cell_type": "code",
   "execution_count": 8,
   "id": "2fc1e2ef",
   "metadata": {},
   "outputs": [
    {
     "data": {
      "text/plain": [
       "1"
      ]
     },
     "execution_count": 8,
     "metadata": {},
     "output_type": "execute_result"
    }
   ],
   "source": [
    "del t2\n",
    "Triangle.get_count()"
   ]
  },
  {
   "cell_type": "markdown",
   "id": "830a5703",
   "metadata": {},
   "source": [
    "## 서술형"
   ]
  },
  {
   "cell_type": "code",
   "execution_count": 12,
   "id": "3e1e4248",
   "metadata": {},
   "outputs": [],
   "source": [
    "# 1. 다음 중 올바를 클래스 정의는? (1)\n",
    "class Person:\n",
    "    pass"
   ]
  },
  {
   "cell_type": "code",
   "execution_count": 14,
   "id": "02121d85",
   "metadata": {},
   "outputs": [],
   "source": [
    "# 2. 다음중 Person 클래스의 객체를 생성하는 올바른 방법은? (2)\n",
    "p1 = Person()"
   ]
  },
  {
   "cell_type": "code",
   "execution_count": 15,
   "id": "cea57399",
   "metadata": {},
   "outputs": [],
   "source": [
    "# 3. 다음 중 인스턴스메소드를 선언하는 가장 올바를 방법은? (4)\n",
    "def print_info(self):\n",
    "    pass"
   ]
  },
  {
   "cell_type": "code",
   "execution_count": 16,
   "id": "c3296223",
   "metadata": {},
   "outputs": [],
   "source": [
    "# 4. 다음 중 생성자와 소멸자에 대해 잘못 설명한 것은? (1)\n",
    "# 1) 생성자는 중복(Overloading) 정의해서 사용할 수 있다 (x)\n",
    "# 2) 소멸자는 객체 참소 수가 0이 되면 실행된다 (o)\n",
    "# 3) 생성자의 원형은 __init__(self)이다 (o)\n",
    "# 4) 생성자는 객체의 변수(또는 속성)를 초기화하는데 사용한다. (o)"
   ]
  },
  {
   "cell_type": "code",
   "execution_count": 17,
   "id": "09fb1b8f",
   "metadata": {},
   "outputs": [],
   "source": [
    "# 5. 다음 중 'Student is a Person'을 클래스 상속으로 바르게 표현한 것은? (2)\n",
    "class Student(Person):\n",
    "    pass"
   ]
  },
  {
   "cell_type": "code",
   "execution_count": 19,
   "id": "3ded7333",
   "metadata": {},
   "outputs": [],
   "source": [
    "# 6. 다음 중 상속과 재정의(overriding)에 대해 잘못 설명한 것은? ()\n",
    "# 1) 부모클래스의 메소드를 자식클래스에서 정의하는 것을 '재정의'라고 한다. (o)\n",
    "# 2) 메소드의 재정의는 상속을 전제로 한다. (o)\n",
    "# 3) 재정의는 메소드의 이름은 같고, 매개변수의 수는 다르게 정의해야 한다. (x)\n",
    "# 4) super()를 이용하면 부모의 멤버를 호출할 수 있다. (o)"
   ]
  },
  {
   "cell_type": "code",
   "execution_count": 21,
   "id": "67975474",
   "metadata": {},
   "outputs": [],
   "source": [
    "# 7. 다음 클래스의 메소드를 호출하는 방법 중 잘못된 것은? (3)\n",
    "class SomeClass:\n",
    "    def method_a(self):\n",
    "        print('method_a')\n",
    "    @classmethod\n",
    "    def method_b(cls):\n",
    "        print('method_b')\n",
    "        \n",
    "obj = SomeClass()"
   ]
  },
  {
   "cell_type": "code",
   "execution_count": 22,
   "id": "606ae52e",
   "metadata": {},
   "outputs": [
    {
     "name": "stdout",
     "output_type": "stream",
     "text": [
      "method_a\n"
     ]
    }
   ],
   "source": [
    "obj.method_a() # 일반메소드"
   ]
  },
  {
   "cell_type": "code",
   "execution_count": 24,
   "id": "4fd75fbc",
   "metadata": {},
   "outputs": [
    {
     "name": "stdout",
     "output_type": "stream",
     "text": [
      "method_b\n"
     ]
    }
   ],
   "source": [
    "obj.method_b()"
   ]
  },
  {
   "cell_type": "code",
   "execution_count": 25,
   "id": "8f7a9f49",
   "metadata": {},
   "outputs": [
    {
     "ename": "TypeError",
     "evalue": "SomeClass.method_a() missing 1 required positional argument: 'self'",
     "output_type": "error",
     "traceback": [
      "\u001b[1;31m---------------------------------------------------------------------------\u001b[0m",
      "\u001b[1;31mTypeError\u001b[0m                                 Traceback (most recent call last)",
      "Cell \u001b[1;32mIn[25], line 1\u001b[0m\n\u001b[1;32m----> 1\u001b[0m \u001b[43mSomeClass\u001b[49m\u001b[38;5;241;43m.\u001b[39;49m\u001b[43mmethod_a\u001b[49m\u001b[43m(\u001b[49m\u001b[43m)\u001b[49m\n",
      "\u001b[1;31mTypeError\u001b[0m: SomeClass.method_a() missing 1 required positional argument: 'self'"
     ]
    }
   ],
   "source": [
    "SomeClass.method_a() # 일반메소드는 일반변수 포함 형식 필요"
   ]
  },
  {
   "cell_type": "code",
   "execution_count": 26,
   "id": "776c5597",
   "metadata": {},
   "outputs": [
    {
     "name": "stdout",
     "output_type": "stream",
     "text": [
      "method_b\n"
     ]
    }
   ],
   "source": [
    "SomeClass.method_b()"
   ]
  },
  {
   "cell_type": "code",
   "execution_count": 29,
   "id": "5867d9c5",
   "metadata": {},
   "outputs": [
    {
     "ename": "AttributeError",
     "evalue": "type object 'super' has no attribute 'do_'",
     "output_type": "error",
     "traceback": [
      "\u001b[1;31m---------------------------------------------------------------------------\u001b[0m",
      "\u001b[1;31mAttributeError\u001b[0m                            Traceback (most recent call last)",
      "Cell \u001b[1;32mIn[29], line 12\u001b[0m\n\u001b[0;32m     10\u001b[0m         \u001b[38;5;28mprint\u001b[39m(\u001b[38;5;124m'\u001b[39m\u001b[38;5;124msub.do_\u001b[39m\u001b[38;5;124m'\u001b[39m)\n\u001b[0;32m     11\u001b[0m s1 \u001b[38;5;241m=\u001b[39m Sub()\n\u001b[1;32m---> 12\u001b[0m \u001b[43ms1\u001b[49m\u001b[38;5;241;43m.\u001b[39;49m\u001b[43mdo_\u001b[49m\u001b[43m(\u001b[49m\u001b[38;5;241;43m10\u001b[39;49m\u001b[43m)\u001b[49m\n",
      "Cell \u001b[1;32mIn[29], line 9\u001b[0m, in \u001b[0;36mSub.do_\u001b[1;34m(self, a)\u001b[0m\n\u001b[0;32m      6\u001b[0m \u001b[38;5;28;01mdef\u001b[39;00m \u001b[38;5;21mdo_\u001b[39m(\u001b[38;5;28mself\u001b[39m, a):\n\u001b[0;32m      7\u001b[0m     \u001b[38;5;66;03m# Super.do_(self,a)\u001b[39;00m\n\u001b[0;32m      8\u001b[0m     \u001b[38;5;66;03m# super().do_(a)\u001b[39;00m\n\u001b[1;32m----> 9\u001b[0m     \u001b[38;5;28;43msuper\u001b[39;49m\u001b[38;5;241;43m.\u001b[39;49m\u001b[43mdo_\u001b[49m(a)\n\u001b[0;32m     10\u001b[0m     \u001b[38;5;28mprint\u001b[39m(\u001b[38;5;124m'\u001b[39m\u001b[38;5;124msub.do_\u001b[39m\u001b[38;5;124m'\u001b[39m)\n",
      "\u001b[1;31mAttributeError\u001b[0m: type object 'super' has no attribute 'do_'"
     ]
    }
   ],
   "source": [
    "# 8. 두 클래스와 코드의 실행결과 다음과 같이 출력되도록 해야 한다면 빈 칸에 넣을 수 없는 것을 고르세요. (3)\n",
    "class Super:\n",
    "    def do_(self, a):\n",
    "        print('super.do_')\n",
    "class Sub(Super):\n",
    "    def do_(self, a):\n",
    "        # Super.do_(self,a) # 가능하나 매개변수 self 반드시 필요, 비추\n",
    "        # super().do_(a)    # 가장 적절, 혹은 위처럼 사용\n",
    "        super.do_(a)        # 잘못된 문법\n",
    "        print('sub.do_')\n",
    "s1 = Sub()\n",
    "s1.do_(10)"
   ]
  },
  {
   "cell_type": "code",
   "execution_count": 38,
   "id": "da2557f7",
   "metadata": {},
   "outputs": [
    {
     "name": "stdout",
     "output_type": "stream",
     "text": [
      "{'name': '홍길동', 'gender': '남자'}\n",
      "{'name': '홍길동', 'gender': '남자'}\n",
      "독스트링은 클래스 첫번째 줄에 있는 문자열(클래스 설명서)\n"
     ]
    }
   ],
   "source": [
    "# 9. 다음 중 파이썬의 특별한 용도로 정의되어 있는 속성과 메소드에 대한 설명 중 잘못된 것은? ()\n",
    "# 1) __dict__ 속성을 이용하면 클래스의 멤버를 확인할 수 있다. (o)\n",
    "# 2) __str__() 메소드는 print()함수의 인자로 객체를 전달 할 때 호출되는 메소드이다. 이 메소드는 매개변수를 가질 수 없다. (x)\n",
    "# 3) __doc__ 속성은 독스트링을 갖는다. (o)\n",
    "# 4) __init__ 메소드는 생성자를 정의할 때 사용한다. (o)\n",
    "class Person:        # 클래스명은 대문자로 시작을 강력 추천\n",
    "    '독스트링은 클래스 첫번째 줄에 있는 문자열(클래스 설명서)'\n",
    "    def __init__(self, name, gender): # 생성자함수\n",
    "        self.name = name # 객체 안의 변수(인스턴스 변수)\n",
    "        self.gender = gender\n",
    "    def print_info(self):\n",
    "        print('{}는 {}입니다 {}를 다닙니다'.format(self.name, \n",
    "                                                self.gender, \n",
    "                                                self.accademy))\n",
    "    def __str__(self):\n",
    "        return '{}는 {}입니다 {}를 다닙니다'.format(self.name, \n",
    "                                                self.gender, \n",
    "                                                self.accademy)\n",
    "    def as_dict(self):\n",
    "        return {'name':self.name, 'gender':self.gender}\n",
    "p = Person('홍길동', '남자')\n",
    "print(p.__dict__)  # 겍체를 딕셔너리 타입으로 전환\n",
    "print(p.as_dict())\n",
    "print(Person.__doc__)"
   ]
  },
  {
   "cell_type": "code",
   "execution_count": 39,
   "id": "b2e519e3",
   "metadata": {},
   "outputs": [
    {
     "data": {
      "text/plain": [
       "{'name': '홍길동', 'gender': '남자'}"
      ]
     },
     "execution_count": 39,
     "metadata": {},
     "output_type": "execute_result"
    }
   ],
   "source": [
    "p.__dict__"
   ]
  },
  {
   "cell_type": "code",
   "execution_count": 40,
   "id": "3a2ed9de",
   "metadata": {},
   "outputs": [
    {
     "data": {
      "text/plain": [
       "<bound method Person.__str__ of <__main__.Person object at 0x000001B820DA7EB0>>"
      ]
     },
     "execution_count": 40,
     "metadata": {},
     "output_type": "execute_result"
    }
   ],
   "source": [
    "p.__str__"
   ]
  },
  {
   "cell_type": "code",
   "execution_count": 41,
   "id": "a1b913b7",
   "metadata": {},
   "outputs": [
    {
     "data": {
      "text/plain": [
       "'독스트링은 클래스 첫번째 줄에 있는 문자열(클래스 설명서)'"
      ]
     },
     "execution_count": 41,
     "metadata": {},
     "output_type": "execute_result"
    }
   ],
   "source": [
    "p.__doc__"
   ]
  },
  {
   "cell_type": "code",
   "execution_count": 42,
   "id": "a31b5bc7",
   "metadata": {},
   "outputs": [
    {
     "data": {
      "text/plain": [
       "<bound method Person.__init__ of <__main__.Person object at 0x000001B820DA7EB0>>"
      ]
     },
     "execution_count": 42,
     "metadata": {},
     "output_type": "execute_result"
    }
   ],
   "source": [
    "p.__init__"
   ]
  },
  {
   "cell_type": "code",
   "execution_count": null,
   "id": "66350741",
   "metadata": {},
   "outputs": [],
   "source": []
  }
 ],
 "metadata": {
  "kernelspec": {
   "display_name": "Python 3 (ipykernel)",
   "language": "python",
   "name": "python3"
  },
  "language_info": {
   "codemirror_mode": {
    "name": "ipython",
    "version": 3
   },
   "file_extension": ".py",
   "mimetype": "text/x-python",
   "name": "python",
   "nbconvert_exporter": "python",
   "pygments_lexer": "ipython3",
   "version": "3.10.9"
  },
  "toc": {
   "base_numbering": 1,
   "nav_menu": {},
   "number_sections": false,
   "sideBar": true,
   "skip_h1_title": false,
   "title_cell": "Table of Contents",
   "title_sidebar": "Contents",
   "toc_cell": false,
   "toc_position": {
    "height": "calc(100% - 180px)",
    "left": "10px",
    "top": "150px",
    "width": "245px"
   },
   "toc_section_display": true,
   "toc_window_display": true
  }
 },
 "nbformat": 4,
 "nbformat_minor": 5
}
